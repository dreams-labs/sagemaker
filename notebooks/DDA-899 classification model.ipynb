{
 "cells": [
  {
   "cell_type": "markdown",
   "metadata": {},
   "source": [
    "### start"
   ]
  },
  {
   "cell_type": "code",
   "execution_count": 14,
   "metadata": {},
   "outputs": [
    {
     "name": "stderr",
     "output_type": "stream",
     "text": [
      "\u001b[0m[28/Jul/25 23:24:40] INFO [utils.export_code:1659] Consolidation complete. All files are saved in temp/sagemaker_code.py\u001b[0m\n",
      "\u001b[92m[28/Jul/25 23:24:40] MILESTONE [863424031.<module>:125] Good morning, let's get to work\u001b[0m\n"
     ]
    }
   ],
   "source": [
    "# pyright: reportMissingImports=false\n",
    "# pyright: reportMissingModuleSource=false\n",
    "\n",
    "import uuid\n",
    "import random\n",
    "import hashlib\n",
    "import os\n",
    "import sys\n",
    "import gc\n",
    "import time\n",
    "import copy\n",
    "import logging\n",
    "import re\n",
    "from itertools import chain,combinations\n",
    "import pdb\n",
    "import math\n",
    "from pathlib import Path\n",
    "import datetime\n",
    "from datetime import datetime,timedelta\n",
    "import json\n",
    "import warnings\n",
    "import yaml\n",
    "from typing import Dict,Union,List,Any,Tuple\n",
    "import pytest\n",
    "import importlib\n",
    "from dotenv import load_dotenv\n",
    "import pandas as pd\n",
    "import numpy as np\n",
    "import IPython\n",
    "import requests\n",
    "import warnings\n",
    "import boto3\n",
    "import matplotlib as plt\n",
    "import sklearn\n",
    "\n",
    "# load_dotenv(Path(\"../../../Local/.env\"))\n",
    "\n",
    "# Custom format function for displaying |numbers/\n",
    "pd.set_option('display.float_format', lambda x: f'{x:.12g}')\n",
    "# pd.reset_option('display.float_format')\n",
    "\n",
    "# Suppress warnings\n",
    "os.environ['PYDEVD_DISABLE_FILE_VALIDATION'] = '1'\n",
    "warnings.filterwarnings('ignore', message='.*frozen modules.*')\n",
    "warnings.filterwarnings(\"ignore\", message=\"MallocStackLogging\")\n",
    "\n",
    "# silence pygame donation request\n",
    "os.environ['PYGAME_HIDE_SUPPORT_PROMPT'] = \"hide\"\n",
    "os.environ['LOGGING_FILE'] = \"../../../Local/logs/wallet_modeling.log\"\n",
    "os.environ['NOTIFICATION_SOUNDS_DIR'] = \"../../../Local\"\n",
    "\n",
    "# Dark mode charts\n",
    "plt.rcParams['figure.facecolor'] = '#181818'  # Custom background color (dark gray in this case)\n",
    "plt.rcParams['axes.facecolor'] = '#181818'\n",
    "plt.rcParams['text.color'] = '#afc6ba'\n",
    "plt.rcParams['axes.labelcolor'] = '#afc6ba'\n",
    "plt.rcParams['xtick.color'] = '#afc6ba'\n",
    "plt.rcParams['ytick.color'] = '#afc6ba'\n",
    "plt.rcParams['axes.titlecolor'] = '#afc6ba'\n",
    "plt.rcParams['text.usetex'] = False\n",
    "plt.rcParams['mathtext.default'] = 'regular'\n",
    "\n",
    "# import local modules\n",
    "# pyright: reportMissingImports=false\n",
    "sys.path.append('../src')\n",
    "\n",
    "import sage_wallet_modeling.wallet_modeler as wm\n",
    "from sage_wallet_modeling.wallet_preprocessor import SageWalletsPreprocessor\n",
    "import sage_wallet_modeling.workflow_orchestrator as wo\n",
    "import sage_wallet_insights.model_evaluation as sime\n",
    "import sage_utils.config_validation as ucv\n",
    "\n",
    "# import data-science modules\n",
    "sys.path.append(str(Path(\"..\") / \"..\" / \"data-science\" / \"src\"))\n",
    "import wallet_insights.model_evaluation as wime\n",
    "import utils as u\n",
    "from utils import ConfigError\n",
    "\n",
    "\n",
    "\n",
    "# reload all modules\n",
    "modules = [\n",
    "    wm, wo,\n",
    "    sime,\n",
    "    ucv,\n",
    "    wime,\n",
    "    u,\n",
    "]\n",
    "\n",
    "# import utils as u\n",
    "# Set the custom error handler\n",
    "ipython = IPython.get_ipython()\n",
    "# ipython.set_custom_exc((Exception,), u.notify_on_failure)\n",
    "\n",
    "player = u.AmbientPlayer()\n",
    "player.stop_all_players()\n",
    "\n",
    "# configure logger\n",
    "logger = u.setup_notebook_logger('../logs/notebook_logs.log')\n",
    "logger.setLevel(logging.INFO)\n",
    "\n",
    "from IPython.core import ultratb\n",
    "ultratb.VerboseTB._tb_highlight = \"bg:#b45827\"\n",
    "\n",
    "\n",
    "# load all configs\n",
    "sage_wallets_config = ucv.load_sage_wallets_config(Path('../config/sage_wallets_config.yaml'))\n",
    "sage_wallets_modeling_config = ucv.load_sage_wallets_modeling_config(Path('../config/sage_wallets_modeling_config.yaml'))\n",
    "\n",
    "\n",
    "u.export_code(\n",
    "    code_directories=[\n",
    "        # 'sage_wallet_insights',\n",
    "        'sage_wallet_modeling',\n",
    "        # 'sage_utils',\n",
    "    ],\n",
    "    # include_config = True,\n",
    "    # ipynb_notebook = 'DDA-769 coin model score dist toggle.ipynb'\n",
    "    output_file=\"temp/sagemaker_code.py\"\n",
    ")\n",
    "\n",
    "[importlib.reload(module) for module in modules]\n",
    "u.notify('retro')\n",
    "\n",
    "logger.milestone(\"Good morning, let's get to work\")"
   ]
  },
  {
   "cell_type": "markdown",
   "metadata": {},
   "source": [
    "# Modeling and Scoring"
   ]
  },
  {
   "cell_type": "markdown",
   "metadata": {},
   "source": [
    "### Initiate orchestrator"
   ]
  },
  {
   "cell_type": "code",
   "execution_count": 15,
   "metadata": {},
   "outputs": [],
   "source": [
    "[importlib.reload(module) for module in modules]\n",
    "sage_wallets_config = yaml.safe_load(Path('../config/sage_wallets_config.yaml').read_text(encoding='utf-8'))\n",
    "sage_wallets_modeling_config = yaml.safe_load(Path('../config/sage_wallets_modeling_config.yaml').read_text(encoding='utf-8'))\n",
    "\n",
    "\n",
    "date_suffixes = [\n",
    "    '231008',\n",
    "    # '231107',\n",
    "    # '240306',\n",
    "    # '250301'\n",
    "]\n",
    "workflow_orch = wo.WalletWorkflowOrchestrator(sage_wallets_config,sage_wallets_modeling_config)"
   ]
  },
  {
   "cell_type": "markdown",
   "metadata": {},
   "source": [
    "### Load, preprocess, and upload all data"
   ]
  },
  {
   "cell_type": "markdown",
   "metadata": {},
   "source": [
    "#### load data"
   ]
  },
  {
   "cell_type": "code",
   "execution_count": 16,
   "metadata": {},
   "outputs": [
    {
     "name": "stderr",
     "output_type": "stream",
     "text": [
      "\u001b[92m[28/Jul/25 23:24:50] MILESTONE [workflow_orchestrator.load_all_training_data:120] <DEV> Loading training data for 1 periods: ['231008']\u001b[0m\n",
      "\u001b[0m[28/Jul/25 23:24:51] INFO [workflow_orchestrator.load_all_training_data:136] Training data loaded successfully: 8,000 total rows and 9 offsets for each date_suffix.\u001b[0m\n"
     ]
    }
   ],
   "source": [
    "[importlib.reload(module) for module in modules]\n",
    "sage_wallets_config = yaml.safe_load(Path('../config/sage_wallets_config.yaml').read_text(encoding='utf-8'))\n",
    "sage_wallets_modeling_config = yaml.safe_load(Path('../config/sage_wallets_modeling_config.yaml').read_text(encoding='utf-8'))\n",
    "\n",
    "workflow_orch.load_all_training_data(date_suffixes)"
   ]
  },
  {
   "cell_type": "markdown",
   "metadata": {},
   "source": [
    "##### inspect features"
   ]
  },
  {
   "cell_type": "code",
   "execution_count": null,
   "metadata": {},
   "outputs": [],
   "source": [
    "# Create combined NaN count and describe statistics\n",
    "first_key = next(iter(workflow_orch.training_data))\n",
    "nan_counts = workflow_orch.training_data[first_key]['x_train'].isna().sum()\n",
    "describe_stats = workflow_orch.training_data[first_key]['x_train'].describe().T\n",
    "\n",
    "# Combine into single DataFrame\n",
    "combined_stats = pd.concat([\n",
    "    nan_counts.rename('nan_count'),\n",
    "    describe_stats\n",
    "], axis=1).sort_index()\n",
    "\n",
    "u.display_full(combined_stats.sort_index())"
   ]
  },
  {
   "cell_type": "markdown",
   "metadata": {},
   "source": [
    "#### preprocess data"
   ]
  },
  {
   "cell_type": "code",
   "execution_count": 5,
   "metadata": {},
   "outputs": [
    {
     "name": "stderr",
     "output_type": "stream",
     "text": [
      "\u001b[0m[28/Jul/25 22:16:04] INFO [workflow_orchestrator.preprocess_all_training_data:167] Preprocessing 1 date periods...\u001b[0m\n",
      "\u001b[0m[28/Jul/25 22:16:04] INFO [wallet_preprocessor.preprocess_training_data:76] Starting preprocessing for SageMaker XGBoost compatibility...\u001b[0m\n",
      "\u001b[0m[28/Jul/25 22:16:04] INFO [wallet_preprocessor._handle_missing_values:231] Filled NaN values in 100 columns for x_train.\u001b[0m\n",
      "\u001b[0m[28/Jul/25 22:16:04] INFO [wallet_preprocessor._preprocess_y_data:268] Applied classification threshold 0.05 to y_train: 316 positive (31.6%), 684 negative (68.4%)\u001b[0m\n",
      "\u001b[0m[28/Jul/25 22:16:04] INFO [wallet_preprocessor._combine_x_y_data:379] Merged y df with target var cw_crypto_net_gain/crypto_inflows/winsorized with X data.\u001b[0m\n",
      "\u001b[0m[28/Jul/25 22:16:04] INFO [wallet_preprocessor._save_preprocessed_df:425] Saved preprocessed train split to ../s3_uploads/wallet_training_data_preprocessed/dda_897_td_column_ordering_v1_dev/231008/train.csv\u001b[0m\n",
      "\u001b[0m[28/Jul/25 22:16:04] INFO [wallet_preprocessor.preprocess_training_data:115] Preprocessed train: 1,000 rows × 222 cols.\u001b[0m\n",
      "\u001b[0m[28/Jul/25 22:16:04] INFO [wallet_preprocessor._handle_missing_values:231] Filled NaN values in 100 columns for x_test.\u001b[0m\n",
      "\u001b[0m[28/Jul/25 22:16:04] INFO [wallet_preprocessor._preprocess_y_data:268] Applied classification threshold 0.05 to y_test: 317 positive (31.7%), 683 negative (68.3%)\u001b[0m\n",
      "\u001b[0m[28/Jul/25 22:16:04] INFO [wallet_preprocessor._combine_x_y_data:379] Merged y df with target var cw_crypto_net_gain/crypto_inflows/winsorized with X data.\u001b[0m\n",
      "\u001b[0m[28/Jul/25 22:16:04] INFO [wallet_preprocessor._save_preprocessed_df:425] Saved preprocessed test split to ../s3_uploads/wallet_training_data_preprocessed/dda_897_td_column_ordering_v1_dev/231008/test.csv\u001b[0m\n",
      "\u001b[0m[28/Jul/25 22:16:04] INFO [wallet_preprocessor.preprocess_training_data:115] Preprocessed test: 1,000 rows × 222 cols.\u001b[0m\n",
      "\u001b[0m[28/Jul/25 22:16:04] INFO [wallet_preprocessor._handle_missing_values:231] Filled NaN values in 100 columns for x_eval.\u001b[0m\n",
      "\u001b[0m[28/Jul/25 22:16:04] INFO [wallet_preprocessor._preprocess_y_data:268] Applied classification threshold 0.05 to y_eval: 307 positive (30.7%), 693 negative (69.3%)\u001b[0m\n",
      "\u001b[0m[28/Jul/25 22:16:04] INFO [wallet_preprocessor._combine_x_y_data:379] Merged y df with target var cw_crypto_net_gain/crypto_inflows/winsorized with X data.\u001b[0m\n",
      "\u001b[0m[28/Jul/25 22:16:04] INFO [wallet_preprocessor._save_preprocessed_df:425] Saved preprocessed eval split to ../s3_uploads/wallet_training_data_preprocessed/dda_897_td_column_ordering_v1_dev/231008/eval.csv\u001b[0m\n",
      "\u001b[0m[28/Jul/25 22:16:04] INFO [wallet_preprocessor.preprocess_training_data:115] Preprocessed eval: 1,000 rows × 222 cols.\u001b[0m\n",
      "\u001b[0m[28/Jul/25 22:16:04] INFO [wallet_preprocessor._handle_missing_values:231] Filled NaN values in 100 columns for x_val.\u001b[0m\n",
      "\u001b[0m[28/Jul/25 22:16:04] INFO [wallet_preprocessor._preprocess_y_data:268] Applied classification threshold 0.05 to y_val: 597 positive (59.7%), 403 negative (40.3%)\u001b[0m\n",
      "\u001b[0m[28/Jul/25 22:16:04] INFO [wallet_preprocessor._combine_x_y_data:379] Merged y df with target var cw_crypto_net_gain/crypto_inflows/winsorized with X data.\u001b[0m\n",
      "\u001b[0m[28/Jul/25 22:16:04] INFO [wallet_preprocessor._save_preprocessed_df:425] Saved preprocessed val split to ../s3_uploads/wallet_training_data_preprocessed/dda_897_td_column_ordering_v1_dev/231008/val.csv\u001b[0m\n",
      "\u001b[0m[28/Jul/25 22:16:04] INFO [wallet_preprocessor.preprocess_training_data:115] Preprocessed val: 1,000 rows × 222 cols.\u001b[0m\n",
      "\u001b[0m[28/Jul/25 22:16:04] INFO [wallet_preprocessor.preprocess_training_data:123] Saved metadata to ../s3_uploads/wallet_training_data_preprocessed/dda_897_td_column_ordering_v1_dev/231008/metadata.json\u001b[0m\n",
      "\u001b[0m[28/Jul/25 22:16:04] INFO [workflow_orchestrator.preprocess_all_training_data:188] Preprocessing complete for all 1 dates.\u001b[0m\n"
     ]
    }
   ],
   "source": [
    "workflow_orch.preprocess_all_training_data()"
   ]
  },
  {
   "cell_type": "markdown",
   "metadata": {},
   "source": [
    "#### upload data"
   ]
  },
  {
   "cell_type": "code",
   "execution_count": 10,
   "metadata": {},
   "outputs": [
    {
     "data": {
      "text/html": [
       "<pre style=\"white-space:pre;overflow-x:auto;line-height:normal;font-family:Menlo,'DejaVu Sans Mono',consolas,'Courier New',monospace\"><span style=\"color: #ff0000; text-decoration-color: #ff0000\">╭─────────────────────────────── </span><span style=\"color: #ff0000; text-decoration-color: #ff0000; font-weight: bold\">Traceback </span><span style=\"color: #ff7f7f; text-decoration-color: #ff7f7f; font-weight: bold\">(most recent call last)</span><span style=\"color: #ff0000; text-decoration-color: #ff0000\"> ────────────────────────────────╮</span>\n",
       "<span style=\"color: #ff0000; text-decoration-color: #ff0000\">│</span> in &lt;module&gt;:2                                                                                    <span style=\"color: #ff0000; text-decoration-color: #ff0000\">│</span>\n",
       "<span style=\"color: #ff0000; text-decoration-color: #ff0000\">│</span>                                                                                                  <span style=\"color: #ff0000; text-decoration-color: #ff0000\">│</span>\n",
       "<span style=\"color: #ff0000; text-decoration-color: #ff0000\">│</span>   <span style=\"color: #7f7f7f; text-decoration-color: #7f7f7f\">1 # Upload and retrieve URIs</span>                                                                   <span style=\"color: #ff0000; text-decoration-color: #ff0000\">│</span>\n",
       "<span style=\"color: #ff0000; text-decoration-color: #ff0000\">│</span> <span style=\"color: #800000; text-decoration-color: #800000\">❱ </span>2 <span style=\"font-weight: bold; text-decoration: underline\">workflow_orch.upload_training_data(overwrite_existing=</span><span style=\"color: #0000ff; text-decoration-color: #0000ff; font-weight: bold; text-decoration: underline\">False</span><span style=\"font-weight: bold; text-decoration: underline\">)</span>                                 <span style=\"color: #ff0000; text-decoration-color: #ff0000\">│</span>\n",
       "<span style=\"color: #ff0000; text-decoration-color: #ff0000\">│</span>   <span style=\"color: #7f7f7f; text-decoration-color: #7f7f7f\">3 </span>s3_uris = workflow_orch.retrieve_training_data_uris(date_suffixes)                           <span style=\"color: #ff0000; text-decoration-color: #ff0000\">│</span>\n",
       "<span style=\"color: #ff0000; text-decoration-color: #ff0000\">│</span>   <span style=\"color: #7f7f7f; text-decoration-color: #7f7f7f\">4 </span>                                                                                             <span style=\"color: #ff0000; text-decoration-color: #ff0000\">│</span>\n",
       "<span style=\"color: #ff0000; text-decoration-color: #ff0000\">│</span>                                                                                                  <span style=\"color: #ff0000; text-decoration-color: #ff0000\">│</span>\n",
       "<span style=\"color: #ff0000; text-decoration-color: #ff0000\">│</span> <span style=\"color: #7f7f7f; text-decoration-color: #7f7f7f\">/Users/jeremymeadow/DreamsData/GitHub/sagemaker/notebooks/../src/sage_wallet_modeling/</span><span style=\"font-weight: bold\">workflow_o</span> <span style=\"color: #ff0000; text-decoration-color: #ff0000\">│</span>\n",
       "<span style=\"color: #ff0000; text-decoration-color: #ff0000\">│</span> <span style=\"font-weight: bold\">rchestrator.py</span>:200 in upload_training_data                                                       <span style=\"color: #ff0000; text-decoration-color: #ff0000\">│</span>\n",
       "<span style=\"color: #ff0000; text-decoration-color: #ff0000\">│</span>                                                                                                  <span style=\"color: #ff0000; text-decoration-color: #ff0000\">│</span>\n",
       "<span style=\"color: #ff0000; text-decoration-color: #ff0000\">│</span>   <span style=\"color: #7f7f7f; text-decoration-color: #7f7f7f\">197 </span><span style=\"color: #bfbf7f; text-decoration-color: #bfbf7f\">│   │   </span><span style=\"color: #808000; text-decoration-color: #808000\">- overwrite_existing (bool): If True, overwrites existing S3 objects</span>               <span style=\"color: #ff0000; text-decoration-color: #ff0000\">│</span>\n",
       "<span style=\"color: #ff0000; text-decoration-color: #ff0000\">│</span>   <span style=\"color: #7f7f7f; text-decoration-color: #7f7f7f\">198 </span><span style=\"color: #bfbf7f; text-decoration-color: #bfbf7f\">│   │   </span><span style=\"color: #808000; text-decoration-color: #808000\">\"\"\"</span>                                                                                <span style=\"color: #ff0000; text-decoration-color: #ff0000\">│</span>\n",
       "<span style=\"color: #ff0000; text-decoration-color: #ff0000\">│</span>   <span style=\"color: #7f7f7f; text-decoration-color: #7f7f7f\">199 </span><span style=\"color: #7f7f7f; text-decoration-color: #7f7f7f\">│   │   </span><span style=\"color: #0000ff; text-decoration-color: #0000ff\">if</span> <span style=\"color: #ff00ff; text-decoration-color: #ff00ff\">not</span> <span style=\"color: #00ffff; text-decoration-color: #00ffff\">self</span>.date_suffixes:                                                         <span style=\"color: #ff0000; text-decoration-color: #ff0000\">│</span>\n",
       "<span style=\"color: #ff0000; text-decoration-color: #ff0000\">│</span> <span style=\"color: #800000; text-decoration-color: #800000\">❱ </span>200 <span style=\"color: #7f7f7f; text-decoration-color: #7f7f7f\">│   │   │   </span><span style=\"color: #0000ff; text-decoration-color: #0000ff; font-weight: bold; text-decoration: underline\">raise</span><span style=\"font-weight: bold; text-decoration: underline\"> </span><span style=\"color: #00ffff; text-decoration-color: #00ffff; font-weight: bold; text-decoration: underline\">ValueError</span><span style=\"font-weight: bold; text-decoration: underline\">(</span><span style=\"color: #808000; text-decoration-color: #808000; font-weight: bold; text-decoration: underline\">\"No date suffixes available. Ensure load_all_training_data(</span>   <span style=\"color: #ff0000; text-decoration-color: #ff0000\">│</span>\n",
       "<span style=\"color: #ff0000; text-decoration-color: #ff0000\">│</span>   <span style=\"color: #7f7f7f; text-decoration-color: #7f7f7f\">201 </span><span style=\"color: #7f7f7f; text-decoration-color: #7f7f7f\">│   │   │   │   │   │   │   </span><span style=\"color: #808000; text-decoration-color: #808000; font-weight: bold; text-decoration: underline\">\"successfully.\"</span><span style=\"font-weight: bold; text-decoration: underline\">)</span>                                               <span style=\"color: #ff0000; text-decoration-color: #ff0000\">│</span>\n",
       "<span style=\"color: #ff0000; text-decoration-color: #ff0000\">│</span>   <span style=\"color: #7f7f7f; text-decoration-color: #7f7f7f\">202 </span><span style=\"color: #7f7f7f; text-decoration-color: #7f7f7f\">│   │   </span>                                                                                   <span style=\"color: #ff0000; text-decoration-color: #ff0000\">│</span>\n",
       "<span style=\"color: #ff0000; text-decoration-color: #ff0000\">│</span>   <span style=\"color: #7f7f7f; text-decoration-color: #7f7f7f\">203 </span><span style=\"color: #7f7f7f; text-decoration-color: #7f7f7f\">│   │   </span><span style=\"color: #7f7f7f; text-decoration-color: #7f7f7f\"># Load preprocessed data from saved CSV files</span>                                      <span style=\"color: #ff0000; text-decoration-color: #ff0000\">│</span>\n",
       "<span style=\"color: #ff0000; text-decoration-color: #ff0000\">╰──────────────────────────────────────────────────────────────────────────────────────────────────╯</span>\n",
       "<span style=\"color: #ff0000; text-decoration-color: #ff0000; font-weight: bold\">ValueError: </span>No date suffixes available. Ensure <span style=\"color: #e100e1; text-decoration-color: #e100e1; font-weight: bold\">load_all_training_data</span><span style=\"font-weight: bold\">()</span> completed successfully.\n",
       "</pre>\n"
      ],
      "text/plain": [
       "\u001b[38;2;255;0;0m╭─\u001b[0m\u001b[38;2;255;0;0m──────────────────────────────\u001b[0m\u001b[38;2;255;0;0m \u001b[0m\u001b[1;38;2;255;0;0mTraceback \u001b[0m\u001b[1;2;38;2;255;0;0m(most recent call last)\u001b[0m\u001b[38;2;255;0;0m \u001b[0m\u001b[38;2;255;0;0m───────────────────────────────\u001b[0m\u001b[38;2;255;0;0m─╮\u001b[0m\n",
       "\u001b[38;2;255;0;0m│\u001b[0m in <module>:2                                                                                    \u001b[38;2;255;0;0m│\u001b[0m\n",
       "\u001b[38;2;255;0;0m│\u001b[0m                                                                                                  \u001b[38;2;255;0;0m│\u001b[0m\n",
       "\u001b[38;2;255;0;0m│\u001b[0m   \u001b[2m1 \u001b[0m\u001b[2m# Upload and retrieve URIs\u001b[0m                                                                   \u001b[38;2;255;0;0m│\u001b[0m\n",
       "\u001b[38;2;255;0;0m│\u001b[0m \u001b[31m❱ \u001b[0m2 \u001b[1;4mworkflow_orch.upload_training_data(overwrite_existing=\u001b[0m\u001b[1;4;94mFalse\u001b[0m\u001b[1;4m)\u001b[0m                                 \u001b[38;2;255;0;0m│\u001b[0m\n",
       "\u001b[38;2;255;0;0m│\u001b[0m   \u001b[2m3 \u001b[0ms3_uris = workflow_orch.retrieve_training_data_uris(date_suffixes)                           \u001b[38;2;255;0;0m│\u001b[0m\n",
       "\u001b[38;2;255;0;0m│\u001b[0m   \u001b[2m4 \u001b[0m                                                                                             \u001b[38;2;255;0;0m│\u001b[0m\n",
       "\u001b[38;2;255;0;0m│\u001b[0m                                                                                                  \u001b[38;2;255;0;0m│\u001b[0m\n",
       "\u001b[38;2;255;0;0m│\u001b[0m \u001b[2m/Users/jeremymeadow/DreamsData/GitHub/sagemaker/notebooks/../src/sage_wallet_modeling/\u001b[0m\u001b[1mworkflow_o\u001b[0m \u001b[38;2;255;0;0m│\u001b[0m\n",
       "\u001b[38;2;255;0;0m│\u001b[0m \u001b[1mrchestrator.py\u001b[0m:200 in upload_training_data                                                       \u001b[38;2;255;0;0m│\u001b[0m\n",
       "\u001b[38;2;255;0;0m│\u001b[0m                                                                                                  \u001b[38;2;255;0;0m│\u001b[0m\n",
       "\u001b[38;2;255;0;0m│\u001b[0m   \u001b[2m197 \u001b[0m\u001b[2;33m│   │   \u001b[0m\u001b[33m- overwrite_existing (bool): If True, overwrites existing S3 objects\u001b[0m               \u001b[38;2;255;0;0m│\u001b[0m\n",
       "\u001b[38;2;255;0;0m│\u001b[0m   \u001b[2m198 \u001b[0m\u001b[2;33m│   │   \u001b[0m\u001b[33m\"\"\"\u001b[0m                                                                                \u001b[38;2;255;0;0m│\u001b[0m\n",
       "\u001b[38;2;255;0;0m│\u001b[0m   \u001b[2m199 \u001b[0m\u001b[2m│   │   \u001b[0m\u001b[94mif\u001b[0m \u001b[95mnot\u001b[0m \u001b[96mself\u001b[0m.date_suffixes:                                                         \u001b[38;2;255;0;0m│\u001b[0m\n",
       "\u001b[38;2;255;0;0m│\u001b[0m \u001b[31m❱ \u001b[0m200 \u001b[2m│   │   │   \u001b[0m\u001b[1;4;94mraise\u001b[0m\u001b[1;4m \u001b[0m\u001b[1;4;96mValueError\u001b[0m\u001b[1;4m(\u001b[0m\u001b[1;4;33m\"\u001b[0m\u001b[1;4;33mNo date suffixes available. Ensure load_all_training_data(\u001b[0m   \u001b[38;2;255;0;0m│\u001b[0m\n",
       "\u001b[38;2;255;0;0m│\u001b[0m   \u001b[2m201 \u001b[0m\u001b[2m│   │   │   │   │   │   │   \u001b[0m\u001b[1;4;33m\"\u001b[0m\u001b[1;4;33msuccessfully.\u001b[0m\u001b[1;4;33m\"\u001b[0m\u001b[1;4m)\u001b[0m                                               \u001b[38;2;255;0;0m│\u001b[0m\n",
       "\u001b[38;2;255;0;0m│\u001b[0m   \u001b[2m202 \u001b[0m\u001b[2m│   │   \u001b[0m                                                                                   \u001b[38;2;255;0;0m│\u001b[0m\n",
       "\u001b[38;2;255;0;0m│\u001b[0m   \u001b[2m203 \u001b[0m\u001b[2m│   │   \u001b[0m\u001b[2m# Load preprocessed data from saved CSV files\u001b[0m                                      \u001b[38;2;255;0;0m│\u001b[0m\n",
       "\u001b[38;2;255;0;0m╰──────────────────────────────────────────────────────────────────────────────────────────────────╯\u001b[0m\n",
       "\u001b[1;91mValueError: \u001b[0mNo date suffixes available. Ensure \u001b[1;38;2;225;0;225mload_all_training_data\u001b[0m\u001b[1m(\u001b[0m\u001b[1m)\u001b[0m completed successfully.\n"
      ]
     },
     "metadata": {},
     "output_type": "display_data"
    }
   ],
   "source": [
    "# Upload and retrieve URIs\n",
    "workflow_orch.upload_training_data(overwrite_existing=False)\n",
    "s3_uris = workflow_orch.retrieve_training_data_uris(date_suffixes)"
   ]
  },
  {
   "cell_type": "markdown",
   "metadata": {},
   "source": [
    "### Train all models"
   ]
  },
  {
   "cell_type": "code",
   "execution_count": 17,
   "metadata": {},
   "outputs": [
    {
     "name": "stderr",
     "output_type": "stream",
     "text": [
      "\u001b[92m[28/Jul/25 23:24:58] MILESTONE [workflow_orchestrator.load_all_training_data:120] <DEV> Loading training data for 1 periods: ['231008']\u001b[0m\n",
      "\u001b[0m[28/Jul/25 23:24:58] INFO [workflow_orchestrator.load_all_training_data:136] Training data loaded successfully: 8,000 total rows and 9 offsets for each date_suffix.\u001b[0m\n",
      "\u001b[0m[28/Jul/25 23:24:58] INFO [workflow_orchestrator.train_all_models:329] Training models for 1 date periods with 2 threads...\u001b[0m\n",
      "\u001b[0m[28/Jul/25 23:24:58] INFO [wallet_modeler.train_model:123] Starting SageMaker training sequence...\u001b[0m\n",
      "\u001b[0m[28/Jul/25 23:24:58] INFO [utils.request_confirmation:1681] Proceeding based on configuration: A model for 231008 already exists in s3://wallet-training-data/sagemaker-models/dda-897-ngain-infl-dev/. Overwrite existing model?\u001b[0m\n",
      "\u001b[0m[28/Jul/25 23:24:58] INFO [wallet_modeler._configure_estimator:514] Model type: classification, Objective: binary:logistic\u001b[0m\n",
      "\u001b[0m[28/Jul/25 23:24:58] INFO [wallet_modeler._configure_estimator:519] Using eval_metric: aucpr\u001b[0m\n",
      "\u001b[0m[28/Jul/25 23:24:58] INFO [image_uris._processor:530] Ignoring unnecessary instance type: None.\u001b[0m\n",
      "\u001b[0m[28/Jul/25 23:24:58] INFO [wallet_modeler._configure_estimator:529] SageMaker XGBoost container: 246618743249.dkr.ecr.us-west-2.amazonaws.com/sagemaker-xgboost:1.7-1\u001b[0m\n",
      "\u001b[0m[28/Jul/25 23:24:58] INFO [wallet_modeler._configure_estimator:533] Container version tag: 1.7-1\u001b[0m\n",
      "\u001b[0m[28/Jul/25 23:24:58] INFO [wallet_modeler._configure_estimator:535] Requested framework version: 1.7-1\u001b[0m\n",
      "\u001b[0m[28/Jul/25 23:24:58] INFO [wallet_modeler.train_model:147] Launching training job: wallet-xgb-dda-897-ngain-infl-dev-231008-20250728-232458\u001b[0m\n",
      "\u001b[0m[28/Jul/25 23:24:58] INFO [wallet_modeler.train_model:148] Model output parent directory: s3://wallet-training-data/sagemaker-models/dda-897-ngain-infl-dev/\u001b[0m\n",
      "\u001b[0m[28/Jul/25 23:24:58] INFO [telemetry_logging.wrapper:92] SageMaker Python SDK will collect telemetry to help us better understand our user's needs, diagnose issues, and deliver additional features.\n",
      "To opt out of telemetry, please disable via TelemetryOptOut parameter in SDK defaults config. For more information, refer to https://sagemaker.readthedocs.io/en/stable/overview.html#configuring-and-using-defaults-with-the-sagemaker-python-sdk.\u001b[0m\n",
      "\u001b[0m[28/Jul/25 23:24:58] INFO [session.submit:1053] Creating training-job with name: wallet-xgb-dda-897-ngain-infl-dev-231008-20250728-232458\u001b[0m\n"
     ]
    },
    {
     "name": "stdout",
     "output_type": "stream",
     "text": [
      "2025-07-29 06:25:00 Starting - Starting the training job...\n",
      "2025-07-29 06:25:15 Starting - Preparing the instances for training...\n",
      "2025-07-29 06:25:36 Downloading - Downloading input data...\n",
      "2025-07-29 06:26:17 Downloading - Downloading the training image......\n",
      "2025-07-29 06:27:33 Training - Training image download completed. Training in progress.\n",
      "2025-07-29 06:27:33 Uploading - Uploading generated training model/miniconda3/lib/python3.9/site-packages/sagemaker_containers/_server.py:22: UserWarning: pkg_resources is deprecated as an API. See https://setuptools.pypa.io/en/latest/pkg_resources.html. The pkg_resources package is slated for removal as early as 2025-11-30. Refrain from using this package or pin to Setuptools<81.\n",
      "  import pkg_resources\n",
      "[2025-07-29 06:27:26.219 ip-10-0-186-28.us-west-2.compute.internal:7 INFO utils.py:28] RULE_JOB_STOP_SIGNAL_FILENAME: None\n",
      "[2025-07-29 06:27:26.245 ip-10-0-186-28.us-west-2.compute.internal:7 INFO profiler_config_parser.py:111] User has disabled profiler.\n",
      "[2025-07-29:06:27:26:INFO] Imported framework sagemaker_xgboost_container.training\n",
      "[2025-07-29:06:27:26:INFO] Failed to parse hyperparameter eval_metric value aucpr to Json.\n",
      "Returning the value itself\n",
      "[2025-07-29:06:27:26:INFO] Failed to parse hyperparameter objective value binary:logistic to Json.\n",
      "Returning the value itself\n",
      "[2025-07-29:06:27:26:INFO] No GPUs detected (normal if no gpus installed)\n",
      "[2025-07-29:06:27:26:INFO] Running XGBoost Sagemaker in algorithm mode\n",
      "[2025-07-29:06:27:26:INFO] Determined 0 GPU(s) available on the instance.\n",
      "[2025-07-29:06:27:26:INFO] Determined delimiter of CSV input is ','\n",
      "[2025-07-29:06:27:26:INFO] Determined delimiter of CSV input is ','\n",
      "[2025-07-29:06:27:26:INFO] File path /opt/ml/input/data/train of input files\n",
      "[2025-07-29:06:27:26:INFO] Making smlinks from folder /opt/ml/input/data/train to folder /tmp/sagemaker_xgboost_input_data\n",
      "[2025-07-29:06:27:26:INFO] creating symlink between Path /opt/ml/input/data/train/train.csv and destination /tmp/sagemaker_xgboost_input_data/train.csv6280793782245439249\n",
      "[2025-07-29:06:27:26:INFO] files path: /tmp/sagemaker_xgboost_input_data\n",
      "[2025-07-29:06:27:26:INFO] Determined delimiter of CSV input is ','\n",
      "[2025-07-29:06:27:26:INFO] File path /opt/ml/input/data/validation of input files\n",
      "[2025-07-29:06:27:26:INFO] Making smlinks from folder /opt/ml/input/data/validation to folder /tmp/sagemaker_xgboost_input_data\n",
      "[2025-07-29:06:27:26:INFO] creating symlink between Path /opt/ml/input/data/validation/eval.csv and destination /tmp/sagemaker_xgboost_input_data/eval.csv3730974567660985418\n",
      "[2025-07-29:06:27:26:INFO] files path: /tmp/sagemaker_xgboost_input_data\n",
      "[2025-07-29:06:27:26:INFO] Determined delimiter of CSV input is ','\n",
      "[2025-07-29:06:27:26:INFO] Single node training.\n",
      "[2025-07-29:06:27:26:INFO] Train matrix has 1000 rows and 221 columns\n",
      "[2025-07-29:06:27:26:INFO] Validation matrix has 1000 rows\n",
      "[2025-07-29 06:27:26.737 ip-10-0-186-28.us-west-2.compute.internal:7 INFO json_config.py:92] Creating hook from json_config at /opt/ml/input/config/debughookconfig.json.\n",
      "[2025-07-29 06:27:26.737 ip-10-0-186-28.us-west-2.compute.internal:7 INFO hook.py:206] tensorboard_dir has not been set for the hook. SMDebug will not be exporting tensorboard summaries.\n",
      "[2025-07-29 06:27:26.738 ip-10-0-186-28.us-west-2.compute.internal:7 INFO hook.py:259] Saving to /opt/ml/output/tensors\n",
      "[2025-07-29 06:27:26.738 ip-10-0-186-28.us-west-2.compute.internal:7 INFO state_store.py:77] The checkpoint config file /opt/ml/input/config/checkpointconfig.json does not exist.\n",
      "[2025-07-29:06:27:26:INFO] Debug hook created from config\n",
      "[2025-07-29 06:27:26.769 ip-10-0-186-28.us-west-2.compute.internal:7 INFO hook.py:427] Monitoring the collections: metrics\n",
      "[2025-07-29 06:27:26.773 ip-10-0-186-28.us-west-2.compute.internal:7 INFO hook.py:491] Hook is writing from the hook with pid: 7\n",
      "[0]#011train-aucpr:0.72684#011validation-aucpr:0.51379\n",
      "[1]#011train-aucpr:0.82940#011validation-aucpr:0.50234\n",
      "[2]#011train-aucpr:0.88586#011validation-aucpr:0.53004\n",
      "[3]#011train-aucpr:0.90449#011validation-aucpr:0.55187\n",
      "[4]#011train-aucpr:0.93214#011validation-aucpr:0.55662\n",
      "[5]#011train-aucpr:0.96015#011validation-aucpr:0.55819\n",
      "[6]#011train-aucpr:0.96694#011validation-aucpr:0.56299\n",
      "[7]#011train-aucpr:0.97870#011validation-aucpr:0.56307\n",
      "[8]#011train-aucpr:0.98326#011validation-aucpr:0.57506\n",
      "[9]#011train-aucpr:0.98982#011validation-aucpr:0.57694\n",
      "[10]#011train-aucpr:0.99296#011validation-aucpr:0.57795\n",
      "[11]#011train-aucpr:0.99601#011validation-aucpr:0.58214\n",
      "[12]#011train-aucpr:0.99680#011validation-aucpr:0.58706\n",
      "[13]#011train-aucpr:0.99714#011validation-aucpr:0.57514\n",
      "[14]#011train-aucpr:0.99714#011validation-aucpr:0.57816\n",
      "[15]#011train-aucpr:0.99811#011validation-aucpr:0.57604\n",
      "[16]#011train-aucpr:0.99769#011validation-aucpr:0.58714\n",
      "[17]#011train-aucpr:0.99872#011validation-aucpr:0.58263\n",
      "[18]#011train-aucpr:0.99938#011validation-aucpr:0.58809\n",
      "[19]#011train-aucpr:0.99969#011validation-aucpr:0.58739\n",
      "[20]#011train-aucpr:0.99982#011validation-aucpr:0.58478\n",
      "[21]#011train-aucpr:0.99980#011validation-aucpr:0.58362\n",
      "[22]#011train-aucpr:0.99987#011validation-aucpr:0.58502\n",
      "[23]#011train-aucpr:0.99995#011validation-aucpr:0.58069\n",
      "[24]#011train-aucpr:0.99992#011validation-aucpr:0.58087\n",
      "[25]#011train-aucpr:0.99998#011validation-aucpr:0.58321\n",
      "[26]#011train-aucpr:0.99999#011validation-aucpr:0.58375\n",
      "[27]#011train-aucpr:1.00000#011validation-aucpr:0.58424\n",
      "[28]#011train-aucpr:1.00000#011validation-aucpr:0.58952\n",
      "[29]#011train-aucpr:1.00000#011validation-aucpr:0.58657\n",
      "[30]#011train-aucpr:1.00000#011validation-aucpr:0.58432\n",
      "[31]#011train-aucpr:1.00000#011validation-aucpr:0.58446\n",
      "[32]#011train-aucpr:1.00000#011validation-aucpr:0.58096\n",
      "[33]#011train-aucpr:1.00000#011validation-aucpr:0.58221\n",
      "[34]#011train-aucpr:1.00000#011validation-aucpr:0.58154\n",
      "[35]#011train-aucpr:1.00000#011validation-aucpr:0.58125\n",
      "[36]#011train-aucpr:1.00000#011validation-aucpr:0.58512\n",
      "[37]#011train-aucpr:1.00000#011validation-aucpr:0.58447\n",
      "\n",
      "2025-07-29 06:27:46 Completed - Training job completed\n",
      "Training seconds: 130\n",
      "Billable seconds: 130\n"
     ]
    },
    {
     "name": "stderr",
     "output_type": "stream",
     "text": [
      "\u001b[0m[28/Jul/25 23:28:20] INFO [wallet_modeler._upload_training_artifacts:699] Training artifacts saved to s3://wallet-training-data/sagemaker-models/dda-897-ngain-infl-dev/wallet-xgb-dda-897-ngain-infl-dev-231008-20250728-232458/training_metadata.json\u001b[0m\n",
      "\u001b[0m[28/Jul/25 23:28:20] INFO [wallet_modeler.train_model:163] Training completed. Model stored at: s3://wallet-training-data/sagemaker-models/dda-897-ngain-infl-dev/wallet-xgb-dda-897-ngain-infl-dev-231008-20250728-232458/output/model.tar.gz\u001b[0m\n",
      "\u001b[0m[28/Jul/25 23:28:21] INFO [workflow_orchestrator._train_single_model:366] Successfully completed training for 231008\u001b[0m\n",
      "\u001b[0m[28/Jul/25 23:28:21] INFO [workflow_orchestrator.train_all_models:342] All 1 models trained successfully.\u001b[0m\n"
     ]
    }
   ],
   "source": [
    "workflow_orch.load_all_training_data(date_suffixes)\n",
    "modeling_results = workflow_orch.train_all_models()"
   ]
  },
  {
   "cell_type": "markdown",
   "metadata": {},
   "source": [
    "### Train Single Model"
   ]
  },
  {
   "cell_type": "markdown",
   "metadata": {},
   "source": [
    "#### retrieve file uris"
   ]
  },
  {
   "cell_type": "code",
   "execution_count": 7,
   "metadata": {},
   "outputs": [
    {
     "data": {
      "text/plain": [
       "{'231008': {'train': 's3://wallet-training-data/training-data-preprocessed/dda-897-ngain-infl-dev/231008/train.csv',\n",
       "  'test': 's3://wallet-training-data/training-data-preprocessed/dda-897-ngain-infl-dev/231008/test.csv',\n",
       "  'eval': 's3://wallet-training-data/training-data-preprocessed/dda-897-ngain-infl-dev/231008/eval.csv',\n",
       "  'val': 's3://wallet-training-data/training-data-preprocessed/dda-897-ngain-infl-dev/231008/val.csv'}}"
      ]
     },
     "execution_count": 7,
     "metadata": {},
     "output_type": "execute_result"
    }
   ],
   "source": [
    "[importlib.reload(module) for module in modules]\n",
    "sage_wallets_config = yaml.safe_load(Path('../config/sage_wallets_config.yaml').read_text(encoding='utf-8'))\n",
    "sage_wallets_modeling_config = yaml.safe_load(Path('../config/sage_wallets_modeling_config.yaml').read_text(encoding='utf-8'))\n",
    "\n",
    "workflow_orch = wo.WalletWorkflowOrchestrator(sage_wallets_config,sage_wallets_modeling_config)\n",
    "\n",
    "# Generate URIs for specific dates without any prior setup\n",
    "s3_uris = workflow_orch.retrieve_training_data_uris(date_suffixes)\n",
    "s3_uris"
   ]
  },
  {
   "cell_type": "markdown",
   "metadata": {},
   "source": [
    "#### train model"
   ]
  },
  {
   "cell_type": "code",
   "execution_count": 8,
   "metadata": {},
   "outputs": [],
   "source": [
    "[importlib.reload(module) for module in modules]\n",
    "sage_wallets_config = yaml.safe_load(Path('../config/sage_wallets_config.yaml').read_text(encoding='utf-8'))\n",
    "sage_wallets_modeling_config = yaml.safe_load(Path('../config/sage_wallets_modeling_config.yaml').read_text(encoding='utf-8'))\n",
    "\n",
    "date_suffix = date_suffixes[0]\n",
    "\n",
    "modeler = wm.WalletModeler(\n",
    "    sage_wallets_config,\n",
    "    sage_wallets_modeling_config,\n",
    "    date_suffix,\n",
    "    s3_uris\n",
    ")\n",
    "\n"
   ]
  },
  {
   "cell_type": "code",
   "execution_count": 9,
   "metadata": {},
   "outputs": [
    {
     "name": "stderr",
     "output_type": "stream",
     "text": [
      "\u001b[0m[28/Jul/25 22:03:28] INFO [wallet_modeler.train_model:120] Starting SageMaker training sequence...\u001b[0m\n",
      "\u001b[0m[28/Jul/25 22:03:33] INFO [image_uris._processor:530] Ignoring unnecessary instance type: None.\u001b[0m\n",
      "\u001b[0m[28/Jul/25 22:03:33] INFO [wallet_modeler._configure_estimator:183] SageMaker XGBoost container: 246618743249.dkr.ecr.us-west-2.amazonaws.com/sagemaker-xgboost:1.7-1\u001b[0m\n",
      "\u001b[0m[28/Jul/25 22:03:33] INFO [wallet_modeler._configure_estimator:189] Container version tag: 1.7-1\u001b[0m\n",
      "\u001b[0m[28/Jul/25 22:03:33] INFO [wallet_modeler._configure_estimator:193] Requested framework version: 1.7-1\u001b[0m\n",
      "\u001b[0m[28/Jul/25 22:03:33] INFO [wallet_modeler.train_model:145] Launching training job: wallet-xgb-dda-897-ngain-infl-dev-231008-20250728-220333\u001b[0m\n",
      "\u001b[0m[28/Jul/25 22:03:33] INFO [wallet_modeler.train_model:146] Model output parent directory: s3://wallet-training-data/sagemaker-models/dda-897-ngain-infl-dev/\u001b[0m\n",
      "\u001b[0m[28/Jul/25 22:03:33] INFO [telemetry_logging.wrapper:92] SageMaker Python SDK will collect telemetry to help us better understand our user's needs, diagnose issues, and deliver additional features.\n",
      "To opt out of telemetry, please disable via TelemetryOptOut parameter in SDK defaults config. For more information, refer to https://sagemaker.readthedocs.io/en/stable/overview.html#configuring-and-using-defaults-with-the-sagemaker-python-sdk.\u001b[0m\n",
      "\u001b[0m[28/Jul/25 22:03:33] INFO [session.submit:1053] Creating training-job with name: wallet-xgb-dda-897-ngain-infl-dev-231008-20250728-220333\u001b[0m\n"
     ]
    },
    {
     "name": "stdout",
     "output_type": "stream",
     "text": [
      "2025-07-29 05:03:34 Starting - Starting the training job...\n",
      "2025-07-29 05:04:09 Downloading - Downloading input data......\n",
      "2025-07-29 05:04:49 Downloading - Downloading the training image......\n",
      "2025-07-29 05:06:06 Training - Training image download completed. Training in progress.\n",
      "2025-07-29 05:06:06 Uploading - Uploading generated training model/miniconda3/lib/python3.9/site-packages/sagemaker_containers/_server.py:22: UserWarning: pkg_resources is deprecated as an API. See https://setuptools.pypa.io/en/latest/pkg_resources.html. The pkg_resources package is slated for removal as early as 2025-11-30. Refrain from using this package or pin to Setuptools<81.\n",
      "  import pkg_resources\n",
      "[2025-07-29 05:06:00.382 ip-10-0-229-142.us-west-2.compute.internal:7 INFO utils.py:28] RULE_JOB_STOP_SIGNAL_FILENAME: None\n",
      "[2025-07-29 05:06:00.416 ip-10-0-229-142.us-west-2.compute.internal:7 INFO profiler_config_parser.py:111] User has disabled profiler.\n",
      "[2025-07-29:05:06:00:INFO] Imported framework sagemaker_xgboost_container.training\n",
      "[2025-07-29:05:06:00:INFO] No GPUs detected (normal if no gpus installed)\n",
      "[2025-07-29:05:06:00:INFO] Running XGBoost Sagemaker in algorithm mode\n",
      "[2025-07-29:05:06:00:INFO] Determined 0 GPU(s) available on the instance.\n",
      "[2025-07-29:05:06:00:INFO] Determined delimiter of CSV input is ','\n",
      "[2025-07-29:05:06:00:INFO] Determined delimiter of CSV input is ','\n",
      "[2025-07-29:05:06:00:INFO] File path /opt/ml/input/data/train of input files\n",
      "[2025-07-29:05:06:00:INFO] Making smlinks from folder /opt/ml/input/data/train to folder /tmp/sagemaker_xgboost_input_data\n",
      "[2025-07-29:05:06:00:INFO] creating symlink between Path /opt/ml/input/data/train/train.csv and destination /tmp/sagemaker_xgboost_input_data/train.csv3515929308833640002\n",
      "[2025-07-29:05:06:00:INFO] files path: /tmp/sagemaker_xgboost_input_data\n",
      "[2025-07-29:05:06:00:INFO] Determined delimiter of CSV input is ','\n",
      "[2025-07-29:05:06:00:INFO] File path /opt/ml/input/data/validation of input files\n",
      "[2025-07-29:05:06:00:INFO] Making smlinks from folder /opt/ml/input/data/validation to folder /tmp/sagemaker_xgboost_input_data\n",
      "[2025-07-29:05:06:00:INFO] creating symlink between Path /opt/ml/input/data/validation/eval.csv and destination /tmp/sagemaker_xgboost_input_data/eval.csv6913033360925325569\n",
      "[2025-07-29:05:06:00:INFO] files path: /tmp/sagemaker_xgboost_input_data\n",
      "[2025-07-29:05:06:00:INFO] Determined delimiter of CSV input is ','\n",
      "[2025-07-29:05:06:00:INFO] Single node training.\n",
      "[2025-07-29:05:06:00:INFO] Train matrix has 1000 rows and 221 columns\n",
      "[2025-07-29:05:06:00:INFO] Validation matrix has 1000 rows\n",
      "[2025-07-29 05:06:00.888 ip-10-0-229-142.us-west-2.compute.internal:7 INFO json_config.py:92] Creating hook from json_config at /opt/ml/input/config/debughookconfig.json.\n",
      "[2025-07-29 05:06:00.889 ip-10-0-229-142.us-west-2.compute.internal:7 INFO hook.py:206] tensorboard_dir has not been set for the hook. SMDebug will not be exporting tensorboard summaries.\n",
      "[2025-07-29 05:06:00.890 ip-10-0-229-142.us-west-2.compute.internal:7 INFO hook.py:259] Saving to /opt/ml/output/tensors\n",
      "[2025-07-29 05:06:00.890 ip-10-0-229-142.us-west-2.compute.internal:7 INFO state_store.py:77] The checkpoint config file /opt/ml/input/config/checkpointconfig.json does not exist.\n",
      "[2025-07-29:05:06:00:INFO] Debug hook created from config\n",
      "[0]#011train-rmse:0.43884#011validation-rmse:0.45885\n",
      "[2025-07-29 05:06:00.929 ip-10-0-229-142.us-west-2.compute.internal:7 INFO hook.py:427] Monitoring the collections: metrics\n",
      "[2025-07-29 05:06:00.934 ip-10-0-229-142.us-west-2.compute.internal:7 INFO hook.py:491] Hook is writing from the hook with pid: 7\n",
      "[1]#011train-rmse:0.38972#011validation-rmse:0.44644\n",
      "[2]#011train-rmse:0.35617#011validation-rmse:0.43831\n",
      "[3]#011train-rmse:0.32214#011validation-rmse:0.44068\n",
      "[4]#011train-rmse:0.30338#011validation-rmse:0.43762\n",
      "[5]#011train-rmse:0.28896#011validation-rmse:0.43432\n",
      "[6]#011train-rmse:0.26047#011validation-rmse:0.43450\n",
      "[7]#011train-rmse:0.24508#011validation-rmse:0.43390\n",
      "[8]#011train-rmse:0.23014#011validation-rmse:0.43514\n",
      "[9]#011train-rmse:0.21917#011validation-rmse:0.43690\n",
      "[10]#011train-rmse:0.20837#011validation-rmse:0.43833\n",
      "[11]#011train-rmse:0.19904#011validation-rmse:0.43788\n",
      "[12]#011train-rmse:0.19188#011validation-rmse:0.43922\n",
      "[13]#011train-rmse:0.18117#011validation-rmse:0.44117\n",
      "[14]#011train-rmse:0.17005#011validation-rmse:0.44183\n",
      "[15]#011train-rmse:0.16143#011validation-rmse:0.44306\n",
      "[16]#011train-rmse:0.15323#011validation-rmse:0.44500\n",
      "[17]#011train-rmse:0.14681#011validation-rmse:0.44581\n",
      "[18]#011train-rmse:0.14050#011validation-rmse:0.44532\n",
      "[19]#011train-rmse:0.13259#011validation-rmse:0.44589\n",
      "[20]#011train-rmse:0.12967#011validation-rmse:0.44640\n",
      "[21]#011train-rmse:0.12281#011validation-rmse:0.44675\n",
      "[22]#011train-rmse:0.11766#011validation-rmse:0.44673\n",
      "[23]#011train-rmse:0.11403#011validation-rmse:0.44707\n",
      "[24]#011train-rmse:0.10981#011validation-rmse:0.44787\n",
      "[25]#011train-rmse:0.10470#011validation-rmse:0.44825\n",
      "[26]#011train-rmse:0.10120#011validation-rmse:0.44816\n",
      "[27]#011train-rmse:0.09868#011validation-rmse:0.44768\n",
      "[28]#011train-rmse:0.09470#011validation-rmse:0.44831\n",
      "[29]#011train-rmse:0.09152#011validation-rmse:0.44892\n",
      "[30]#011train-rmse:0.08873#011validation-rmse:0.44843\n",
      "[31]#011train-rmse:0.08275#011validation-rmse:0.44892\n",
      "[32]#011train-rmse:0.08032#011validation-rmse:0.44906\n",
      "[33]#011train-rmse:0.07481#011validation-rmse:0.44895\n",
      "[34]#011train-rmse:0.07154#011validation-rmse:0.44906\n",
      "[35]#011train-rmse:0.06614#011validation-rmse:0.44928\n",
      "[36]#011train-rmse:0.06251#011validation-rmse:0.44878\n",
      "[37]#011train-rmse:0.05977#011validation-rmse:0.44916\n",
      "[38]#011train-rmse:0.05841#011validation-rmse:0.44905\n",
      "[39]#011train-rmse:0.05593#011validation-rmse:0.44892\n",
      "[40]#011train-rmse:0.05461#011validation-rmse:0.44904\n",
      "[41]#011train-rmse:0.05361#011validation-rmse:0.44950\n",
      "[42]#011train-rmse:0.05276#011validation-rmse:0.44950\n",
      "[43]#011train-rmse:0.04966#011validation-rmse:0.45011\n",
      "[44]#011train-rmse:0.04868#011validation-rmse:0.45018\n",
      "[45]#011train-rmse:0.04634#011validation-rmse:0.45061\n",
      "[46]#011train-rmse:0.04504#011validation-rmse:0.45125\n",
      "[47]#011train-rmse:0.04339#011validation-rmse:0.45143\n",
      "[48]#011train-rmse:0.04221#011validation-rmse:0.45159\n",
      "[49]#011train-rmse:0.04028#011validation-rmse:0.45176\n",
      "[50]#011train-rmse:0.03872#011validation-rmse:0.45145\n",
      "[51]#011train-rmse:0.03717#011validation-rmse:0.45141\n",
      "[52]#011train-rmse:0.03496#011validation-rmse:0.45169\n",
      "[53]#011train-rmse:0.03328#011validation-rmse:0.45184\n",
      "[54]#011train-rmse:0.03244#011validation-rmse:0.45190\n",
      "[55]#011train-rmse:0.03198#011validation-rmse:0.45190\n",
      "[56]#011train-rmse:0.02996#011validation-rmse:0.45191\n",
      "[57]#011train-rmse:0.02764#011validation-rmse:0.45185\n",
      "[58]#011train-rmse:0.02641#011validation-rmse:0.45183\n",
      "[59]#011train-rmse:0.02459#011validation-rmse:0.45175\n",
      "[60]#011train-rmse:0.02427#011validation-rmse:0.45176\n",
      "[61]#011train-rmse:0.02303#011validation-rmse:0.45186\n",
      "[62]#011train-rmse:0.02180#011validation-rmse:0.45193\n",
      "[63]#011train-rmse:0.02077#011validation-rmse:0.45192\n",
      "[64]#011train-rmse:0.01972#011validation-rmse:0.45189\n",
      "[65]#011train-rmse:0.01876#011validation-rmse:0.45203\n",
      "[66]#011train-rmse:0.01780#011validation-rmse:0.45214\n",
      "[67]#011train-rmse:0.01679#011validation-rmse:0.45234\n",
      "[68]#011train-rmse:0.01616#011validation-rmse:0.45240\n",
      "[69]#011train-rmse:0.01548#011validation-rmse:0.45227\n",
      "[70]#011train-rmse:0.01459#011validation-rmse:0.45221\n",
      "[71]#011train-rmse:0.01390#011validation-rmse:0.45232\n",
      "[72]#011train-rmse:0.01366#011validation-rmse:0.45236\n",
      "[73]#011train-rmse:0.01313#011validation-rmse:0.45228\n",
      "[74]#011train-rmse:0.01272#011validation-rmse:0.45222\n",
      "[75]#011train-rmse:0.01239#011validation-rmse:0.45218\n",
      "[76]#011train-rmse:0.01159#011validation-rmse:0.45214\n",
      "[77]#011train-rmse:0.01097#011validation-rmse:0.45219\n",
      "[78]#011train-rmse:0.01071#011validation-rmse:0.45222\n",
      "[79]#011train-rmse:0.01019#011validation-rmse:0.45218\n",
      "[80]#011train-rmse:0.00979#011validation-rmse:0.45221\n",
      "[81]#011train-rmse:0.00932#011validation-rmse:0.45228\n",
      "[82]#011train-rmse:0.00893#011validation-rmse:0.45226\n",
      "[83]#011train-rmse:0.00854#011validation-rmse:0.45236\n",
      "[84]#011train-rmse:0.00818#011validation-rmse:0.45241\n",
      "[85]#011train-rmse:0.00761#011validation-rmse:0.45241\n",
      "[86]#011train-rmse:0.00723#011validation-rmse:0.45244\n",
      "[87]#011train-rmse:0.00687#011validation-rmse:0.45237\n",
      "[88]#011train-rmse:0.00661#011validation-rmse:0.45233\n",
      "[89]#011train-rmse:0.00629#011validation-rmse:0.45234\n",
      "[90]#011train-rmse:0.00608#011validation-rmse:0.45235\n",
      "[91]#011train-rmse:0.00583#011validation-rmse:0.45236\n",
      "[92]#011train-rmse:0.00572#011validation-rmse:0.45235\n",
      "[93]#011train-rmse:0.00549#011validation-rmse:0.45240\n",
      "[94]#011train-rmse:0.00523#011validation-rmse:0.45241\n",
      "[95]#011train-rmse:0.00514#011validation-rmse:0.45237\n",
      "[96]#011train-rmse:0.00487#011validation-rmse:0.45241\n",
      "[97]#011train-rmse:0.00476#011validation-rmse:0.45239\n",
      "[98]#011train-rmse:0.00457#011validation-rmse:0.45237\n",
      "[99]#011train-rmse:0.00445#011validation-rmse:0.45236\n",
      "\n",
      "2025-07-29 05:06:24 Completed - Training job completed\n",
      "Training seconds: 135\n",
      "Billable seconds: 135\n"
     ]
    },
    {
     "name": "stderr",
     "output_type": "stream",
     "text": [
      "\u001b[0m[28/Jul/25 22:06:56] INFO [wallet_modeler.train_model:160] Training completed. Model stored at: s3://wallet-training-data/sagemaker-models/dda-897-ngain-infl-dev/wallet-xgb-dda-897-ngain-infl-dev-231008-20250728-220333/output/model.tar.gz\u001b[0m\n"
     ]
    }
   ],
   "source": [
    "modeling_results = modeler.train_model()"
   ]
  },
  {
   "cell_type": "markdown",
   "metadata": {},
   "source": [
    "### Score validation set"
   ]
  },
  {
   "cell_type": "markdown",
   "metadata": {},
   "source": [
    "#### get existing model uri"
   ]
  },
  {
   "cell_type": "code",
   "execution_count": null,
   "metadata": {},
   "outputs": [],
   "source": [
    "[importlib.reload(module) for module in modules]\n",
    "sage_wallets_config = yaml.safe_load(Path('../config/sage_wallets_config.yaml').read_text(encoding='utf-8'))\n",
    "sage_wallets_modeling_config = yaml.safe_load(Path('../config/sage_wallets_modeling_config.yaml').read_text(encoding='utf-8'))\n",
    "\n",
    "\n",
    "\n",
    "date_suffixes = [\n",
    "    '231107',\n",
    "    '240306'\n",
    "]\n",
    "date_suffix = date_suffixes[1]\n",
    "\n",
    "\n",
    "modeler = wm.WalletModeler(\n",
    "    sage_wallets_config,\n",
    "    sage_wallets_modeling_config,\n",
    "    date_suffix\n",
    ")\n",
    "\n",
    "\n",
    "model_metadata = modeler.load_existing_model()"
   ]
  },
  {
   "cell_type": "markdown",
   "metadata": {},
   "source": [
    "#### deploy endpoint for predictions"
   ]
  },
  {
   "cell_type": "code",
   "execution_count": null,
   "metadata": {},
   "outputs": [],
   "source": [
    "modeler.list_active_endpoints()"
   ]
  },
  {
   "cell_type": "code",
   "execution_count": null,
   "metadata": {},
   "outputs": [],
   "source": [
    "modeler.deploy_endpoint()"
   ]
  },
  {
   "cell_type": "markdown",
   "metadata": {},
   "source": [
    "#### load and preprocess test/val dfs"
   ]
  },
  {
   "cell_type": "code",
   "execution_count": null,
   "metadata": {},
   "outputs": [],
   "source": [
    "x_test = pd.read_parquet(\n",
    "    Path(\"../s3_uploads/wallet_training_data_queue\") /\n",
    "    sage_wallets_config['training_data']['local_directory'] /\n",
    "    f\"x_test_{date_suffix}.parquet\"\n",
    ")\n",
    "x_val = pd.read_parquet(\n",
    "    Path(\"../s3_uploads/wallet_training_data_queue\") /\n",
    "    sage_wallets_config['training_data']['local_directory'] /\n",
    "    f\"x_val_{date_suffix}.parquet\"\n",
    ")\n",
    "\n",
    "\n"
   ]
  },
  {
   "cell_type": "code",
   "execution_count": null,
   "metadata": {},
   "outputs": [],
   "source": [
    "preprocessor = SageWalletsPreprocessor(sage_wallets_config)\n",
    "x_test_processed = preprocessor.preprocess_x_df(x_test)\n",
    "x_val_processed = preprocessor.preprocess_x_df(x_val)\n",
    "\n",
    "logger.info(f\"Preprocessed X_test {x_test_processed.shape} and \"\n",
    "            f\"X_val {x_val_processed.shape}.\")"
   ]
  },
  {
   "cell_type": "markdown",
   "metadata": {},
   "source": [
    "#### predict"
   ]
  },
  {
   "cell_type": "code",
   "execution_count": null,
   "metadata": {},
   "outputs": [],
   "source": [
    "y_test_pred = modeler.predict_using_endpoint(x_test_processed, 'test')\n",
    "y_val_pred = modeler.predict_using_endpoint(x_val_processed, 'val')"
   ]
  },
  {
   "cell_type": "markdown",
   "metadata": {},
   "source": [
    "#### delete all endpoints"
   ]
  },
  {
   "cell_type": "code",
   "execution_count": null,
   "metadata": {},
   "outputs": [],
   "source": [
    "modeler.delete_all_endpoints()"
   ]
  },
  {
   "cell_type": "code",
   "execution_count": null,
   "metadata": {},
   "outputs": [],
   "source": [
    "modeler.list_active_endpoints()\n",
    "modeler.list_all_endpoints()"
   ]
  },
  {
   "cell_type": "markdown",
   "metadata": {},
   "source": [
    "# Model Evaluation"
   ]
  },
  {
   "cell_type": "markdown",
   "metadata": {},
   "source": [
    "### Analyze predictions"
   ]
  },
  {
   "cell_type": "code",
   "execution_count": null,
   "metadata": {},
   "outputs": [],
   "source": [
    "\n",
    "date_suffixes = [\n",
    "    '231107',\n",
    "    '240306'\n",
    "]\n",
    "date_suffix = date_suffixes[1]"
   ]
  },
  {
   "cell_type": "code",
   "execution_count": null,
   "metadata": {},
   "outputs": [],
   "source": [
    "# Single function call for complete evaluation\n",
    "evaluator = sime.run_sagemaker_evaluation(\n",
    "    sage_wallets_config, sage_wallets_modeling_config, date_suffix\n",
    ")"
   ]
  },
  {
   "cell_type": "code",
   "execution_count": null,
   "metadata": {},
   "outputs": [],
   "source": [
    "def load_sagemaker_predictions(\n",
    "    data_type: str,\n",
    "    sage_wallets_config: dict,\n",
    "    sage_wallets_modeling_config: dict,\n",
    "    date_suffix: str\n",
    ") -> tuple[pd.Series, pd.Series]:\n",
    "    \"\"\"\n",
    "    Load SageMaker predictions and corresponding actuals for a given data type.\n",
    "\n",
    "    Params:\n",
    "    - data_type (str): Either 'test' or 'val'\n",
    "    - sage_wallets_config (dict): Configuration for training data paths\n",
    "    - sage_wallets_modeling_config (dict): Configuration for model parameters\n",
    "    - date_suffix (str): Date suffix for file naming\n",
    "\n",
    "    Returns:\n",
    "    - tuple: (predictions_series, actuals_series) with aligned indices\n",
    "    \"\"\"\n",
    "    # Load predictions\n",
    "    pred_path = Path(sage_wallets_modeling_config['metaparams']['endpoint_preds_dir']) / \\\n",
    "                f\"endpoint_y_pred_{data_type}_{sage_wallets_config['training_data']['local_directory']}_{date_suffix}.csv\"\n",
    "    pred_df = pd.read_csv(pred_path)\n",
    "\n",
    "    if 'score' not in pred_df.columns:\n",
    "        raise ValueError(f\"SageMaker predictions are missing the 'score' column. \"\n",
    "                        f\"Available columns: {pred_df.columns}\")\n",
    "    pred_series = pred_df['score']\n",
    "\n",
    "    # Load actuals\n",
    "    training_data_path = (\n",
    "        Path(f\"../s3_uploads\") / \"wallet_training_data_queue\" /\n",
    "        f\"{sage_wallets_config['training_data']['local_directory']}\"\n",
    "    )\n",
    "    actuals_path = training_data_path / f\"y_{data_type}_{date_suffix}.parquet\"\n",
    "    actuals_df = pd.read_parquet(actuals_path)\n",
    "\n",
    "    if len(actuals_df.columns) > 1:\n",
    "        raise ValueError(f\"Found unexpected columns in y_{data_type}_df. \"\n",
    "                        f\"Expected 1 column, found {actuals_df.columns}.\")\n",
    "    actuals_series = actuals_df.iloc[:, 0]\n",
    "\n",
    "    # Validate lengths and align indices\n",
    "    if len(pred_series) != len(actuals_series):\n",
    "        raise ValueError(f\"Length of y_{data_type}_pred ({len(pred_series)}) does \"\n",
    "                        f\"not match length of y_{data_type}_true ({len(actuals_series)}).\")\n",
    "\n",
    "    pred_series.index = actuals_series.index\n",
    "\n",
    "    return pred_series, actuals_series"
   ]
  },
  {
   "cell_type": "code",
   "execution_count": null,
   "metadata": {},
   "outputs": [],
   "source": [
    "# Load predictions and actuals\n",
    "y_test_pred_series, y_test_true_series = load_sagemaker_predictions(\n",
    "    'test', sage_wallets_config, sage_wallets_modeling_config, date_suffix\n",
    ")\n",
    "y_val_pred_series, y_val_true_series = load_sagemaker_predictions(\n",
    "    'val', sage_wallets_config, sage_wallets_modeling_config, date_suffix\n",
    ")\n",
    "\n",
    "# Load remaining training data\n",
    "training_data_path = (\n",
    "    Path(f\"../s3_uploads\") / \"wallet_training_data_queue\" /\n",
    "    f\"{sage_wallets_config['training_data']['local_directory']}\"\n",
    ")\n",
    "X_train = pd.read_parquet(training_data_path / f\"x_train_{date_suffix}.parquet\")\n",
    "y_train = pd.read_parquet(training_data_path / f\"y_train_{date_suffix}.parquet\")\n",
    "X_test = pd.read_parquet(training_data_path / f\"x_test_{date_suffix}.parquet\")\n",
    "X_val = pd.read_parquet(training_data_path / f\"x_val_{date_suffix}.parquet\")\n",
    "\n",
    "# Identify target variable and model type\n",
    "target_variable = y_val_true_series.name or y_train.columns[0]\n",
    "objective = sage_wallets_modeling_config['training']['hyperparameters']['objective']\n",
    "model_type = 'regression' if objective[:3] == 'reg' else 'unknown'"
   ]
  },
  {
   "cell_type": "code",
   "execution_count": null,
   "metadata": {},
   "outputs": [],
   "source": [
    "# Create model_id and modeling_config\n",
    "model_id = f\"sagemaker_{sage_wallets_config['training_data']['local_directory']}_{date_suffix}\"\n",
    "\n",
    "modeling_config = {\n",
    "    'target_variable': target_variable,\n",
    "    'model_type': model_type,\n",
    "    'returns_winsorization': 0.005,  # Default for winsorizing returns\n",
    "    'training_data': {\n",
    "        'modeling_period_duration': 30  # Default performance window\n",
    "    },\n",
    "    'sagemaker_metadata': {\n",
    "        'objective': objective,\n",
    "        'local_directory': sage_wallets_config['training_data']['local_directory'],\n",
    "        'date_suffix': date_suffix\n",
    "    }\n",
    "}\n",
    "\n",
    "# Create minimal wallet_model_results for SageMaker evaluation\n",
    "wallet_model_results = {\n",
    "    'model_id': model_id,\n",
    "    'modeling_config': modeling_config,\n",
    "    'model_type': model_type,\n",
    "\n",
    "    # Training data\n",
    "    'X_train': X_train,\n",
    "    'X_test': X_test,\n",
    "    'y_train': y_train,\n",
    "    'y_test': y_test_true_series,\n",
    "    'y_pred': y_test_pred_series,\n",
    "    'training_cohort_pred': None,\n",
    "    'training_cohort_actuals': None,\n",
    "\n",
    "    # Validation data\n",
    "    'X_validation': X_val,\n",
    "    'y_validation': y_val_true_series,\n",
    "    'y_validation_pred': y_val_pred_series,\n",
    "    'validation_target_vars_df': None,\n",
    "\n",
    "    # Fixed mock pipeline\n",
    "    'pipeline': type('MockPipeline', (), {\n",
    "        'named_steps': {'estimator': type('MockModel', (), {\n",
    "            'get_params': lambda self: {'objective': objective}  # Accept self argument\n",
    "        })()},\n",
    "        '__getitem__': lambda self, key: type('MockTransformer', (), {\n",
    "            'transform': lambda self, X: X  # Accept self argument\n",
    "        })()\n",
    "    })()\n",
    "}\n",
    "\n",
    "# Create evaluator\n",
    "wallet_evaluator = wime.RegressorEvaluator(wallet_model_results)\n",
    "\n",
    "# Run basic evaluation\n",
    "wallet_evaluator.summary_report()\n",
    "wallet_evaluator.plot_wallet_evaluation()"
   ]
  },
  {
   "cell_type": "code",
   "execution_count": null,
   "metadata": {},
   "outputs": [],
   "source": []
  },
  {
   "cell_type": "code",
   "execution_count": null,
   "metadata": {},
   "outputs": [],
   "source": [
    "target_variable"
   ]
  },
  {
   "cell_type": "code",
   "execution_count": null,
   "metadata": {},
   "outputs": [],
   "source": []
  }
 ],
 "metadata": {
  "kernelspec": {
   "display_name": ".sage_venv",
   "language": "python",
   "name": "python3"
  },
  "language_info": {
   "codemirror_mode": {
    "name": "ipython",
    "version": 3
   },
   "file_extension": ".py",
   "mimetype": "text/x-python",
   "name": "python",
   "nbconvert_exporter": "python",
   "pygments_lexer": "ipython3",
   "version": "3.11.9"
  }
 },
 "nbformat": 4,
 "nbformat_minor": 2
}
