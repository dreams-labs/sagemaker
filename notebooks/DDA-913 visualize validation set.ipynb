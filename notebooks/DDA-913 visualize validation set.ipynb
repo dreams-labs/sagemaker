{
 "cells": [
  {
   "cell_type": "markdown",
   "metadata": {},
   "source": [
    "### start"
   ]
  },
  {
   "cell_type": "code",
   "execution_count": 1,
   "metadata": {},
   "outputs": [
    {
     "name": "stdout",
     "output_type": "stream",
     "text": [
      "sagemaker.config INFO - Not applying SDK defaults from location: /Library/Application Support/sagemaker/config.yaml\n",
      "sagemaker.config INFO - Not applying SDK defaults from location: /Users/jeremymeadow/Library/Application Support/sagemaker/config.yaml\n"
     ]
    },
    {
     "name": "stderr",
     "output_type": "stream",
     "text": [
      "\u001b[0m[21/Jul/25 14:34:06] INFO [utils.export_code:1659] Consolidation complete. All files are saved in temp/sagemaker_code.py\u001b[0m\n",
      "\u001b[92m[21/Jul/25 14:34:06] MILESTONE [863424031.<module>:125] Good morning, let's get to work\u001b[0m\n"
     ]
    }
   ],
   "source": [
    "# pyright: reportMissingImports=false\n",
    "# pyright: reportMissingModuleSource=false\n",
    "\n",
    "import uuid\n",
    "import random\n",
    "import hashlib\n",
    "import os\n",
    "import sys\n",
    "import gc\n",
    "import time\n",
    "import copy\n",
    "import logging\n",
    "import re\n",
    "from itertools import chain,combinations\n",
    "import pdb\n",
    "import math\n",
    "from pathlib import Path\n",
    "import datetime\n",
    "from datetime import datetime,timedelta\n",
    "import json\n",
    "import warnings\n",
    "import yaml\n",
    "from typing import Dict,Union,List,Any,Tuple\n",
    "import pytest\n",
    "import importlib\n",
    "from dotenv import load_dotenv\n",
    "import pandas as pd\n",
    "import numpy as np\n",
    "import IPython\n",
    "import requests\n",
    "import warnings\n",
    "import boto3\n",
    "import matplotlib as plt\n",
    "import sklearn\n",
    "\n",
    "# load_dotenv(Path(\"../../../Local/.env\"))\n",
    "\n",
    "# Custom format function for displaying |numbers/\n",
    "pd.set_option('display.float_format', lambda x: f'{x:.12g}')\n",
    "# pd.reset_option('display.float_format')\n",
    "\n",
    "# Suppress warnings\n",
    "os.environ['PYDEVD_DISABLE_FILE_VALIDATION'] = '1'\n",
    "warnings.filterwarnings('ignore', message='.*frozen modules.*')\n",
    "warnings.filterwarnings(\"ignore\", message=\"MallocStackLogging\")\n",
    "\n",
    "# silence pygame donation request\n",
    "os.environ['PYGAME_HIDE_SUPPORT_PROMPT'] = \"hide\"\n",
    "os.environ['LOGGING_FILE'] = \"../../../Local/logs/wallet_modeling.log\"\n",
    "os.environ['NOTIFICATION_SOUNDS_DIR'] = \"../../../Local\"\n",
    "\n",
    "# Dark mode charts\n",
    "plt.rcParams['figure.facecolor'] = '#181818'  # Custom background color (dark gray in this case)\n",
    "plt.rcParams['axes.facecolor'] = '#181818'\n",
    "plt.rcParams['text.color'] = '#afc6ba'\n",
    "plt.rcParams['axes.labelcolor'] = '#afc6ba'\n",
    "plt.rcParams['xtick.color'] = '#afc6ba'\n",
    "plt.rcParams['ytick.color'] = '#afc6ba'\n",
    "plt.rcParams['axes.titlecolor'] = '#afc6ba'\n",
    "plt.rcParams['text.usetex'] = False\n",
    "plt.rcParams['mathtext.default'] = 'regular'\n",
    "\n",
    "# import local modules\n",
    "# pyright: reportMissingImports=false\n",
    "sys.path.append('../src')\n",
    "\n",
    "import sage_wallet_modeling.wallet_modeler as wm\n",
    "from sage_wallet_modeling.wallet_preprocessor import SageWalletsPreprocessor\n",
    "import sage_wallet_modeling.workflow_orchestrator as wo\n",
    "import sage_wallet_insights.model_evaluation as sime\n",
    "import sage_utils.config_validation as ucv\n",
    "\n",
    "# import data-science modules\n",
    "sys.path.append(str(Path(\"..\") / \"..\" / \"data-science\" / \"src\"))\n",
    "import wallet_insights.model_evaluation as wime\n",
    "import utils as u\n",
    "from utils import ConfigError\n",
    "\n",
    "\n",
    "\n",
    "# reload all modules\n",
    "modules = [\n",
    "    wm, wo,\n",
    "    sime,\n",
    "    ucv,\n",
    "    wime,\n",
    "    u,\n",
    "]\n",
    "\n",
    "# import utils as u\n",
    "# Set the custom error handler\n",
    "ipython = IPython.get_ipython()\n",
    "# ipython.set_custom_exc((Exception,), u.notify_on_failure)\n",
    "\n",
    "player = u.AmbientPlayer()\n",
    "player.stop_all_players()\n",
    "\n",
    "# configure logger\n",
    "logger = u.setup_notebook_logger('../logs/notebook_logs.log')\n",
    "logger.setLevel(logging.INFO)\n",
    "\n",
    "from IPython.core import ultratb\n",
    "ultratb.VerboseTB._tb_highlight = \"bg:#b45827\"\n",
    "\n",
    "\n",
    "# load all configs\n",
    "sage_wallets_config = ucv.load_sage_wallets_config(Path('../config/sage_wallets_config.yaml'))\n",
    "sage_wallets_modeling_config = ucv.load_sage_wallets_modeling_config(Path('../config/sage_wallets_modeling_config.yaml'))\n",
    "\n",
    "\n",
    "u.export_code(\n",
    "    code_directories=[\n",
    "        # 'sage_wallet_insights',\n",
    "        'sage_wallet_modeling',\n",
    "        # 'sage_utils',\n",
    "    ],\n",
    "    # include_config = True,\n",
    "    # ipynb_notebook = 'DDA-769 coin model score dist toggle.ipynb'\n",
    "    output_file=\"temp/sagemaker_code.py\"\n",
    ")\n",
    "\n",
    "[importlib.reload(module) for module in modules]\n",
    "u.notify('retro')\n",
    "\n",
    "logger.milestone(\"Good morning, let's get to work\")"
   ]
  },
  {
   "cell_type": "markdown",
   "metadata": {},
   "source": [
    "# Modeling and Scoring"
   ]
  },
  {
   "cell_type": "markdown",
   "metadata": {},
   "source": [
    "### Initiate orchestrator"
   ]
  },
  {
   "cell_type": "code",
   "execution_count": 2,
   "metadata": {},
   "outputs": [],
   "source": [
    "[importlib.reload(module) for module in modules]\n",
    "sage_wallets_config = yaml.safe_load(Path('../config/sage_wallets_config.yaml').read_text(encoding='utf-8'))\n",
    "sage_wallets_modeling_config = yaml.safe_load(Path('../config/sage_wallets_modeling_config.yaml').read_text(encoding='utf-8'))\n",
    "\n",
    "\n",
    "date_suffixes = [\n",
    "    '231107',\n",
    "    '240306',\n",
    "    '250301'\n",
    "]\n",
    "workflow_orch = wo.WalletWorkflowOrchestrator(sage_wallets_config)"
   ]
  },
  {
   "cell_type": "markdown",
   "metadata": {},
   "source": [
    "### Load, preprocess, and upload data"
   ]
  },
  {
   "cell_type": "markdown",
   "metadata": {},
   "source": [
    "#### load data"
   ]
  },
  {
   "cell_type": "code",
   "execution_count": 3,
   "metadata": {},
   "outputs": [
    {
     "name": "stderr",
     "output_type": "stream",
     "text": [
      "\u001b[92m[21/Jul/25 14:34:07] MILESTONE [workflow_orchestrator.load_all_training_data:115] <DEV> Loading training data for 3 periods: ['231107', '240306', '250301']\u001b[0m\n",
      "\u001b[0m[21/Jul/25 14:34:07] INFO [workflow_orchestrator.load_all_training_data:131] Training data loaded successfully: 24,000 total rows and 9 offsets for each date_suffix.\u001b[0m\n"
     ]
    }
   ],
   "source": [
    "[importlib.reload(module) for module in modules]\n",
    "sage_wallets_config = yaml.safe_load(Path('../config/sage_wallets_config.yaml').read_text(encoding='utf-8'))\n",
    "sage_wallets_modeling_config = yaml.safe_load(Path('../config/sage_wallets_modeling_config.yaml').read_text(encoding='utf-8'))\n",
    "\n",
    "workflow_orch.load_all_training_data(date_suffixes)"
   ]
  },
  {
   "cell_type": "markdown",
   "metadata": {},
   "source": [
    "##### inspect features"
   ]
  },
  {
   "cell_type": "code",
   "execution_count": null,
   "metadata": {},
   "outputs": [],
   "source": [
    "# # Create combined NaN count and describe statistics\n",
    "# nan_counts = workflow_orch.training_data['x_train'].isna().sum()\n",
    "# describe_stats = workflow_orch.training_data['x_train'].describe().T\n",
    "\n",
    "# # Combine into single DataFrame\n",
    "# combined_stats = pd.concat([\n",
    "#     nan_counts.rename('nan_count'),\n",
    "#     describe_stats\n",
    "# ], axis=1).sort_index()\n",
    "\n",
    "# u.display_full(combined_stats.sort_index())"
   ]
  },
  {
   "cell_type": "markdown",
   "metadata": {},
   "source": [
    "#### preprocess data"
   ]
  },
  {
   "cell_type": "code",
   "execution_count": 4,
   "metadata": {},
   "outputs": [
    {
     "name": "stderr",
     "output_type": "stream",
     "text": [
      "\u001b[0m[21/Jul/25 14:34:12] INFO [workflow_orchestrator.preprocess_all_training_data:162] Preprocessing 3 date periods...\u001b[0m\n",
      "\u001b[0m[21/Jul/25 14:34:12] INFO [wallet_preprocessor.preprocess_training_data:73] Starting preprocessing for SageMaker XGBoost compatibility...\u001b[0m\n",
      "\u001b[0m[21/Jul/25 14:34:12] INFO [wallet_preprocessor._handle_missing_values:223] Filled NaN values in 100 columns for x_train.\u001b[0m\n",
      "\u001b[0m[21/Jul/25 14:34:12] INFO [wallet_preprocessor._combine_x_y_data:320] Merged y df with target var cw_crypto_net_gain/crypto_inflows/winsorized with X data.\u001b[0m\n",
      "\u001b[0m[21/Jul/25 14:34:12] INFO [wallet_preprocessor._save_preprocessed_df:362] Saved preprocessed train split to ../s3_uploads/wallet_training_data_preprocessed/dda_897_td_column_ordering_v1_dev/train_preprocessed_231107.csv\u001b[0m\n",
      "\u001b[0m[21/Jul/25 14:34:12] INFO [wallet_preprocessor.preprocess_training_data:111] Preprocessed train: 1,000 rows × 222 cols.\u001b[0m\n",
      "\u001b[0m[21/Jul/25 14:34:12] INFO [wallet_preprocessor._handle_missing_values:223] Filled NaN values in 100 columns for x_test.\u001b[0m\n",
      "\u001b[0m[21/Jul/25 14:34:12] INFO [wallet_preprocessor._combine_x_y_data:320] Merged y df with target var cw_crypto_net_gain/crypto_inflows/winsorized with X data.\u001b[0m\n",
      "\u001b[0m[21/Jul/25 14:34:12] INFO [wallet_preprocessor._save_preprocessed_df:362] Saved preprocessed test split to ../s3_uploads/wallet_training_data_preprocessed/dda_897_td_column_ordering_v1_dev/test_preprocessed_231107.csv\u001b[0m\n",
      "\u001b[0m[21/Jul/25 14:34:12] INFO [wallet_preprocessor.preprocess_training_data:111] Preprocessed test: 1,000 rows × 222 cols.\u001b[0m\n",
      "\u001b[0m[21/Jul/25 14:34:12] INFO [wallet_preprocessor._handle_missing_values:223] Filled NaN values in 100 columns for x_eval.\u001b[0m\n",
      "\u001b[0m[21/Jul/25 14:34:12] INFO [wallet_preprocessor._combine_x_y_data:320] Merged y df with target var cw_crypto_net_gain/crypto_inflows/winsorized with X data.\u001b[0m\n",
      "\u001b[0m[21/Jul/25 14:34:12] INFO [wallet_preprocessor._save_preprocessed_df:362] Saved preprocessed eval split to ../s3_uploads/wallet_training_data_preprocessed/dda_897_td_column_ordering_v1_dev/eval_preprocessed_231107.csv\u001b[0m\n",
      "\u001b[0m[21/Jul/25 14:34:12] INFO [wallet_preprocessor.preprocess_training_data:111] Preprocessed eval: 1,000 rows × 222 cols.\u001b[0m\n",
      "\u001b[0m[21/Jul/25 14:34:12] INFO [wallet_preprocessor._handle_missing_values:223] Filled NaN values in 100 columns for x_val.\u001b[0m\n",
      "\u001b[0m[21/Jul/25 14:34:12] INFO [wallet_preprocessor._combine_x_y_data:320] Merged y df with target var cw_crypto_net_gain/crypto_inflows/winsorized with X data.\u001b[0m\n",
      "\u001b[0m[21/Jul/25 14:34:12] INFO [wallet_preprocessor._save_preprocessed_df:362] Saved preprocessed val split to ../s3_uploads/wallet_training_data_preprocessed/dda_897_td_column_ordering_v1_dev/val_preprocessed_231107.csv\u001b[0m\n",
      "\u001b[0m[21/Jul/25 14:34:12] INFO [wallet_preprocessor.preprocess_training_data:111] Preprocessed val: 1,000 rows × 222 cols.\u001b[0m\n",
      "\u001b[0m[21/Jul/25 14:34:12] INFO [wallet_preprocessor.preprocess_training_data:73] Starting preprocessing for SageMaker XGBoost compatibility...\u001b[0m\n",
      "\u001b[0m[21/Jul/25 14:34:12] INFO [wallet_preprocessor._handle_missing_values:223] Filled NaN values in 100 columns for x_train.\u001b[0m\n",
      "\u001b[0m[21/Jul/25 14:34:12] INFO [wallet_preprocessor._combine_x_y_data:320] Merged y df with target var cw_crypto_net_gain/crypto_inflows/winsorized with X data.\u001b[0m\n",
      "\u001b[0m[21/Jul/25 14:34:12] INFO [wallet_preprocessor._save_preprocessed_df:362] Saved preprocessed train split to ../s3_uploads/wallet_training_data_preprocessed/dda_897_td_column_ordering_v1_dev/train_preprocessed_240306.csv\u001b[0m\n",
      "\u001b[0m[21/Jul/25 14:34:12] INFO [wallet_preprocessor.preprocess_training_data:111] Preprocessed train: 1,000 rows × 222 cols.\u001b[0m\n",
      "\u001b[0m[21/Jul/25 14:34:12] INFO [wallet_preprocessor._handle_missing_values:223] Filled NaN values in 100 columns for x_test.\u001b[0m\n",
      "\u001b[0m[21/Jul/25 14:34:12] INFO [wallet_preprocessor._combine_x_y_data:320] Merged y df with target var cw_crypto_net_gain/crypto_inflows/winsorized with X data.\u001b[0m\n",
      "\u001b[0m[21/Jul/25 14:34:12] INFO [wallet_preprocessor._save_preprocessed_df:362] Saved preprocessed test split to ../s3_uploads/wallet_training_data_preprocessed/dda_897_td_column_ordering_v1_dev/test_preprocessed_240306.csv\u001b[0m\n",
      "\u001b[0m[21/Jul/25 14:34:12] INFO [wallet_preprocessor.preprocess_training_data:111] Preprocessed test: 1,000 rows × 222 cols.\u001b[0m\n",
      "\u001b[0m[21/Jul/25 14:34:12] INFO [wallet_preprocessor._handle_missing_values:223] Filled NaN values in 100 columns for x_eval.\u001b[0m\n",
      "\u001b[0m[21/Jul/25 14:34:12] INFO [wallet_preprocessor._combine_x_y_data:320] Merged y df with target var cw_crypto_net_gain/crypto_inflows/winsorized with X data.\u001b[0m\n",
      "\u001b[0m[21/Jul/25 14:34:12] INFO [wallet_preprocessor._save_preprocessed_df:362] Saved preprocessed eval split to ../s3_uploads/wallet_training_data_preprocessed/dda_897_td_column_ordering_v1_dev/eval_preprocessed_240306.csv\u001b[0m\n",
      "\u001b[0m[21/Jul/25 14:34:12] INFO [wallet_preprocessor.preprocess_training_data:111] Preprocessed eval: 1,000 rows × 222 cols.\u001b[0m\n",
      "\u001b[0m[21/Jul/25 14:34:12] INFO [wallet_preprocessor._handle_missing_values:223] Filled NaN values in 100 columns for x_val.\u001b[0m\n",
      "\u001b[0m[21/Jul/25 14:34:12] INFO [wallet_preprocessor._combine_x_y_data:320] Merged y df with target var cw_crypto_net_gain/crypto_inflows/winsorized with X data.\u001b[0m\n",
      "\u001b[0m[21/Jul/25 14:34:12] INFO [wallet_preprocessor._save_preprocessed_df:362] Saved preprocessed val split to ../s3_uploads/wallet_training_data_preprocessed/dda_897_td_column_ordering_v1_dev/val_preprocessed_240306.csv\u001b[0m\n",
      "\u001b[0m[21/Jul/25 14:34:12] INFO [wallet_preprocessor.preprocess_training_data:111] Preprocessed val: 1,000 rows × 222 cols.\u001b[0m\n",
      "\u001b[0m[21/Jul/25 14:34:12] INFO [wallet_preprocessor.preprocess_training_data:73] Starting preprocessing for SageMaker XGBoost compatibility...\u001b[0m\n",
      "\u001b[0m[21/Jul/25 14:34:12] INFO [wallet_preprocessor._handle_missing_values:223] Filled NaN values in 100 columns for x_train.\u001b[0m\n",
      "\u001b[0m[21/Jul/25 14:34:12] INFO [wallet_preprocessor._combine_x_y_data:320] Merged y df with target var cw_crypto_net_gain/crypto_inflows/winsorized with X data.\u001b[0m\n",
      "\u001b[0m[21/Jul/25 14:34:12] INFO [wallet_preprocessor._save_preprocessed_df:362] Saved preprocessed train split to ../s3_uploads/wallet_training_data_preprocessed/dda_897_td_column_ordering_v1_dev/train_preprocessed_250301.csv\u001b[0m\n",
      "\u001b[0m[21/Jul/25 14:34:12] INFO [wallet_preprocessor.preprocess_training_data:111] Preprocessed train: 1,000 rows × 222 cols.\u001b[0m\n",
      "\u001b[0m[21/Jul/25 14:34:12] INFO [wallet_preprocessor._handle_missing_values:223] Filled NaN values in 100 columns for x_test.\u001b[0m\n",
      "\u001b[0m[21/Jul/25 14:34:12] INFO [wallet_preprocessor._combine_x_y_data:320] Merged y df with target var cw_crypto_net_gain/crypto_inflows/winsorized with X data.\u001b[0m\n",
      "\u001b[0m[21/Jul/25 14:34:12] INFO [wallet_preprocessor._save_preprocessed_df:362] Saved preprocessed test split to ../s3_uploads/wallet_training_data_preprocessed/dda_897_td_column_ordering_v1_dev/test_preprocessed_250301.csv\u001b[0m\n",
      "\u001b[0m[21/Jul/25 14:34:12] INFO [wallet_preprocessor.preprocess_training_data:111] Preprocessed test: 1,000 rows × 222 cols.\u001b[0m\n",
      "\u001b[0m[21/Jul/25 14:34:12] INFO [wallet_preprocessor._handle_missing_values:223] Filled NaN values in 100 columns for x_eval.\u001b[0m\n",
      "\u001b[0m[21/Jul/25 14:34:12] INFO [wallet_preprocessor._combine_x_y_data:320] Merged y df with target var cw_crypto_net_gain/crypto_inflows/winsorized with X data.\u001b[0m\n",
      "\u001b[0m[21/Jul/25 14:34:13] INFO [wallet_preprocessor._save_preprocessed_df:362] Saved preprocessed eval split to ../s3_uploads/wallet_training_data_preprocessed/dda_897_td_column_ordering_v1_dev/eval_preprocessed_250301.csv\u001b[0m\n",
      "\u001b[0m[21/Jul/25 14:34:13] INFO [wallet_preprocessor.preprocess_training_data:111] Preprocessed eval: 1,000 rows × 222 cols.\u001b[0m\n",
      "\u001b[0m[21/Jul/25 14:34:13] INFO [wallet_preprocessor._handle_missing_values:223] Filled NaN values in 84 columns for x_val.\u001b[0m\n",
      "\u001b[0m[21/Jul/25 14:34:13] INFO [wallet_preprocessor._combine_x_y_data:320] Merged y df with target var cw_crypto_net_gain/crypto_inflows/winsorized with X data.\u001b[0m\n",
      "\u001b[0m[21/Jul/25 14:34:13] INFO [wallet_preprocessor._save_preprocessed_df:362] Saved preprocessed val split to ../s3_uploads/wallet_training_data_preprocessed/dda_897_td_column_ordering_v1_dev/val_preprocessed_250301.csv\u001b[0m\n",
      "\u001b[0m[21/Jul/25 14:34:13] INFO [wallet_preprocessor.preprocess_training_data:111] Preprocessed val: 1,000 rows × 222 cols.\u001b[0m\n",
      "\u001b[0m[21/Jul/25 14:34:13] INFO [workflow_orchestrator.preprocess_all_training_data:183] Preprocessing complete for all 3 dates.\u001b[0m\n"
     ]
    }
   ],
   "source": [
    "workflow_orch.preprocess_all_training_data()"
   ]
  },
  {
   "cell_type": "markdown",
   "metadata": {},
   "source": [
    "#### upload data"
   ]
  },
  {
   "cell_type": "code",
   "execution_count": 5,
   "metadata": {},
   "outputs": [
    {
     "name": "stderr",
     "output_type": "stream",
     "text": [
      "\u001b[92m[21/Jul/25 14:35:25] MILESTONE [workflow_orchestrator._confirm_upload:548] <DEV> Ready to upload 12000 total rows (20.3 MB) of preprocessed training data across 3 date folders.\u001b[0m\n",
      "\u001b[0m[21/Jul/25 14:35:25] INFO [workflow_orchestrator._confirm_upload:568] Target: s3://wallet-training-data/training-data-preprocessed/dda-897-ngain-infl-dev/[DATE]/\u001b[0m\n",
      "\u001b[0m[21/Jul/25 14:35:33] INFO [workflow_orchestrator.upload_training_data:208] Beginning approved upload...\u001b[0m\n",
      "\u001b[0m[21/Jul/25 14:35:33] INFO [credentials.load:1352] Found credentials in shared credentials file: ~/.aws/credentials\u001b[0m\n",
      "\u001b[0m[21/Jul/25 14:35:35] INFO [workflow_orchestrator._upload_csv_files:614] Uploaded train to s3://wallet-training-data/training-data-preprocessed/dda-897-ngain-infl-dev/231107/train.csv\u001b[0m\n",
      "\u001b[0m[21/Jul/25 14:35:37] INFO [workflow_orchestrator._upload_csv_files:614] Uploaded test to s3://wallet-training-data/training-data-preprocessed/dda-897-ngain-infl-dev/231107/test.csv\u001b[0m\n",
      "\u001b[0m[21/Jul/25 14:35:38] INFO [workflow_orchestrator._upload_csv_files:614] Uploaded eval to s3://wallet-training-data/training-data-preprocessed/dda-897-ngain-infl-dev/231107/eval.csv\u001b[0m\n",
      "\u001b[0m[21/Jul/25 14:35:40] INFO [workflow_orchestrator._upload_csv_files:614] Uploaded val to s3://wallet-training-data/training-data-preprocessed/dda-897-ngain-infl-dev/231107/val.csv\u001b[0m\n",
      "\u001b[0m[21/Jul/25 14:35:40] INFO [workflow_orchestrator._upload_metadata_for_date:648] Uploaded metadata to s3://wallet-training-data/training-data-preprocessed/dda-897-ngain-infl-dev/231107/metadata.json\u001b[0m\n",
      "\u001b[0m[21/Jul/25 14:35:42] INFO [workflow_orchestrator._upload_csv_files:614] Uploaded train to s3://wallet-training-data/training-data-preprocessed/dda-897-ngain-infl-dev/240306/train.csv\u001b[0m\n",
      "\u001b[0m[21/Jul/25 14:35:43] INFO [workflow_orchestrator._upload_csv_files:614] Uploaded test to s3://wallet-training-data/training-data-preprocessed/dda-897-ngain-infl-dev/240306/test.csv\u001b[0m\n",
      "\u001b[0m[21/Jul/25 14:35:45] INFO [workflow_orchestrator._upload_csv_files:614] Uploaded eval to s3://wallet-training-data/training-data-preprocessed/dda-897-ngain-infl-dev/240306/eval.csv\u001b[0m\n",
      "\u001b[0m[21/Jul/25 14:35:46] INFO [workflow_orchestrator._upload_csv_files:614] Uploaded val to s3://wallet-training-data/training-data-preprocessed/dda-897-ngain-infl-dev/240306/val.csv\u001b[0m\n",
      "\u001b[0m[21/Jul/25 14:35:46] INFO [workflow_orchestrator._upload_metadata_for_date:648] Uploaded metadata to s3://wallet-training-data/training-data-preprocessed/dda-897-ngain-infl-dev/240306/metadata.json\u001b[0m\n",
      "\u001b[0m[21/Jul/25 14:35:48] INFO [workflow_orchestrator._upload_csv_files:614] Uploaded train to s3://wallet-training-data/training-data-preprocessed/dda-897-ngain-infl-dev/250301/train.csv\u001b[0m\n",
      "\u001b[0m[21/Jul/25 14:35:49] INFO [workflow_orchestrator._upload_csv_files:614] Uploaded test to s3://wallet-training-data/training-data-preprocessed/dda-897-ngain-infl-dev/250301/test.csv\u001b[0m\n",
      "\u001b[0m[21/Jul/25 14:35:51] INFO [workflow_orchestrator._upload_csv_files:614] Uploaded eval to s3://wallet-training-data/training-data-preprocessed/dda-897-ngain-infl-dev/250301/eval.csv\u001b[0m\n",
      "\u001b[0m[21/Jul/25 14:35:53] INFO [workflow_orchestrator._upload_csv_files:614] Uploaded val to s3://wallet-training-data/training-data-preprocessed/dda-897-ngain-infl-dev/250301/val.csv\u001b[0m\n",
      "\u001b[0m[21/Jul/25 14:35:53] INFO [workflow_orchestrator._upload_metadata_for_date:648] Uploaded metadata to s3://wallet-training-data/training-data-preprocessed/dda-897-ngain-infl-dev/250301/metadata.json\u001b[0m\n"
     ]
    }
   ],
   "source": [
    "# Upload and retrieve URIs\n",
    "workflow_orch.upload_training_data(overwrite_existing=False)\n",
    "s3_uris = workflow_orch.retrieve_training_data_uris(date_suffixes)"
   ]
  },
  {
   "cell_type": "markdown",
   "metadata": {},
   "source": [
    "### Train Model"
   ]
  },
  {
   "cell_type": "markdown",
   "metadata": {},
   "source": [
    "#### retrieve file uris"
   ]
  },
  {
   "cell_type": "code",
   "execution_count": null,
   "metadata": {},
   "outputs": [],
   "source": [
    "date_suffixes = [\n",
    "    '231107',\n",
    "    '240306'\n",
    "]\n",
    "workflow_orch = wo.WalletWorkflowOrchestrator(sage_wallets_config)\n",
    "\n",
    "# Generate URIs for specific dates without any prior setup\n",
    "s3_uris = workflow_orch.retrieve_training_data_uris(date_suffixes)\n",
    "s3_uris"
   ]
  },
  {
   "cell_type": "markdown",
   "metadata": {},
   "source": [
    "#### train model"
   ]
  },
  {
   "cell_type": "code",
   "execution_count": null,
   "metadata": {},
   "outputs": [],
   "source": [
    "[importlib.reload(module) for module in modules]\n",
    "sage_wallets_config = yaml.safe_load(Path('../config/sage_wallets_config.yaml').read_text(encoding='utf-8'))\n",
    "sage_wallets_modeling_config = yaml.safe_load(Path('../config/sage_wallets_modeling_config.yaml').read_text(encoding='utf-8'))\n",
    "\n",
    "date_suffix = date_suffixes[1]\n",
    "\n",
    "modeler = wm.WalletModeler(\n",
    "    sage_wallets_config,\n",
    "    sage_wallets_modeling_config,\n",
    "    date_suffix,\n",
    "    s3_uris\n",
    ")\n",
    "\n"
   ]
  },
  {
   "cell_type": "code",
   "execution_count": null,
   "metadata": {},
   "outputs": [],
   "source": [
    "modeling_results = modeler.train_model()"
   ]
  },
  {
   "cell_type": "markdown",
   "metadata": {},
   "source": [
    "### Score validation set"
   ]
  },
  {
   "cell_type": "markdown",
   "metadata": {},
   "source": [
    "#### get existing model uri"
   ]
  },
  {
   "cell_type": "code",
   "execution_count": null,
   "metadata": {},
   "outputs": [],
   "source": [
    "[importlib.reload(module) for module in modules]\n",
    "sage_wallets_config = yaml.safe_load(Path('../config/sage_wallets_config.yaml').read_text(encoding='utf-8'))\n",
    "sage_wallets_modeling_config = yaml.safe_load(Path('../config/sage_wallets_modeling_config.yaml').read_text(encoding='utf-8'))\n",
    "\n",
    "\n",
    "\n",
    "date_suffixes = [\n",
    "    '231107',\n",
    "    '240306'\n",
    "]\n",
    "date_suffix = date_suffixes[1]\n",
    "\n",
    "\n",
    "modeler = wm.WalletModeler(\n",
    "    sage_wallets_config,\n",
    "    sage_wallets_modeling_config,\n",
    "    date_suffix\n",
    ")\n",
    "\n",
    "\n",
    "model_metadata = modeler.load_existing_model()"
   ]
  },
  {
   "cell_type": "markdown",
   "metadata": {},
   "source": [
    "#### deploy endpoint for predictions"
   ]
  },
  {
   "cell_type": "code",
   "execution_count": null,
   "metadata": {},
   "outputs": [],
   "source": [
    "modeler.list_active_endpoints()"
   ]
  },
  {
   "cell_type": "code",
   "execution_count": null,
   "metadata": {},
   "outputs": [],
   "source": [
    "modeler.deploy_endpoint()"
   ]
  },
  {
   "cell_type": "markdown",
   "metadata": {},
   "source": [
    "#### load and preprocess test/val dfs"
   ]
  },
  {
   "cell_type": "code",
   "execution_count": null,
   "metadata": {},
   "outputs": [],
   "source": [
    "x_test = pd.read_parquet(\n",
    "    Path(\"../s3_uploads/wallet_training_data_queue\") /\n",
    "    sage_wallets_config['training_data']['local_directory'] /\n",
    "    f\"x_test_{date_suffix}.parquet\"\n",
    ")\n",
    "x_val = pd.read_parquet(\n",
    "    Path(\"../s3_uploads/wallet_training_data_queue\") /\n",
    "    sage_wallets_config['training_data']['local_directory'] /\n",
    "    f\"x_val_{date_suffix}.parquet\"\n",
    ")\n",
    "\n",
    "\n"
   ]
  },
  {
   "cell_type": "code",
   "execution_count": null,
   "metadata": {},
   "outputs": [],
   "source": [
    "preprocessor = SageWalletsPreprocessor(sage_wallets_config)\n",
    "x_test_processed = preprocessor.preprocess_x_df(x_test)\n",
    "x_val_processed = preprocessor.preprocess_x_df(x_val)\n",
    "\n",
    "logger.info(f\"Preprocessed X_test {x_test_processed.shape} and \"\n",
    "            f\"X_val {x_val_processed.shape}.\")"
   ]
  },
  {
   "cell_type": "markdown",
   "metadata": {},
   "source": [
    "#### predict"
   ]
  },
  {
   "cell_type": "code",
   "execution_count": null,
   "metadata": {},
   "outputs": [],
   "source": [
    "y_test_pred = modeler.predict_using_endpoint(x_test_processed, 'test')\n",
    "y_val_pred = modeler.predict_using_endpoint(x_val_processed, 'val')"
   ]
  },
  {
   "cell_type": "markdown",
   "metadata": {},
   "source": [
    "#### delete all endpoints"
   ]
  },
  {
   "cell_type": "code",
   "execution_count": null,
   "metadata": {},
   "outputs": [],
   "source": [
    "modeler.delete_all_endpoints()"
   ]
  },
  {
   "cell_type": "code",
   "execution_count": null,
   "metadata": {},
   "outputs": [],
   "source": [
    "modeler.list_active_endpoints()\n",
    "modeler.list_all_endpoints()"
   ]
  },
  {
   "cell_type": "markdown",
   "metadata": {},
   "source": [
    "# Model Evaluation"
   ]
  },
  {
   "cell_type": "markdown",
   "metadata": {},
   "source": [
    "### Analyze predictions"
   ]
  },
  {
   "cell_type": "code",
   "execution_count": null,
   "metadata": {},
   "outputs": [],
   "source": [
    "\n",
    "date_suffixes = [\n",
    "    '231107',\n",
    "    '240306'\n",
    "]\n",
    "date_suffix = date_suffixes[1]"
   ]
  },
  {
   "cell_type": "code",
   "execution_count": null,
   "metadata": {},
   "outputs": [],
   "source": [
    "# Single function call for complete evaluation\n",
    "evaluator = sime.run_sagemaker_evaluation(\n",
    "    sage_wallets_config, sage_wallets_modeling_config, date_suffix\n",
    ")"
   ]
  },
  {
   "cell_type": "code",
   "execution_count": null,
   "metadata": {},
   "outputs": [],
   "source": [
    "def load_sagemaker_predictions(\n",
    "    data_type: str,\n",
    "    sage_wallets_config: dict,\n",
    "    sage_wallets_modeling_config: dict,\n",
    "    date_suffix: str\n",
    ") -> tuple[pd.Series, pd.Series]:\n",
    "    \"\"\"\n",
    "    Load SageMaker predictions and corresponding actuals for a given data type.\n",
    "\n",
    "    Params:\n",
    "    - data_type (str): Either 'test' or 'val'\n",
    "    - sage_wallets_config (dict): Configuration for training data paths\n",
    "    - sage_wallets_modeling_config (dict): Configuration for model parameters\n",
    "    - date_suffix (str): Date suffix for file naming\n",
    "\n",
    "    Returns:\n",
    "    - tuple: (predictions_series, actuals_series) with aligned indices\n",
    "    \"\"\"\n",
    "    # Load predictions\n",
    "    pred_path = Path(sage_wallets_modeling_config['metaparams']['endpoint_preds_dir']) / \\\n",
    "                f\"endpoint_y_pred_{data_type}_{sage_wallets_config['training_data']['local_directory']}_{date_suffix}.csv\"\n",
    "    pred_df = pd.read_csv(pred_path)\n",
    "\n",
    "    if 'score' not in pred_df.columns:\n",
    "        raise ValueError(f\"SageMaker predictions are missing the 'score' column. \"\n",
    "                        f\"Available columns: {pred_df.columns}\")\n",
    "    pred_series = pred_df['score']\n",
    "\n",
    "    # Load actuals\n",
    "    training_data_path = (\n",
    "        Path(f\"../s3_uploads\") / \"wallet_training_data_queue\" /\n",
    "        f\"{sage_wallets_config['training_data']['local_directory']}\"\n",
    "    )\n",
    "    actuals_path = training_data_path / f\"y_{data_type}_{date_suffix}.parquet\"\n",
    "    actuals_df = pd.read_parquet(actuals_path)\n",
    "\n",
    "    if len(actuals_df.columns) > 1:\n",
    "        raise ValueError(f\"Found unexpected columns in y_{data_type}_df. \"\n",
    "                        f\"Expected 1 column, found {actuals_df.columns}.\")\n",
    "    actuals_series = actuals_df.iloc[:, 0]\n",
    "\n",
    "    # Validate lengths and align indices\n",
    "    if len(pred_series) != len(actuals_series):\n",
    "        raise ValueError(f\"Length of y_{data_type}_pred ({len(pred_series)}) does \"\n",
    "                        f\"not match length of y_{data_type}_true ({len(actuals_series)}).\")\n",
    "\n",
    "    pred_series.index = actuals_series.index\n",
    "\n",
    "    return pred_series, actuals_series"
   ]
  },
  {
   "cell_type": "code",
   "execution_count": null,
   "metadata": {},
   "outputs": [],
   "source": [
    "# Load predictions and actuals\n",
    "y_test_pred_series, y_test_true_series = load_sagemaker_predictions(\n",
    "    'test', sage_wallets_config, sage_wallets_modeling_config, date_suffix\n",
    ")\n",
    "y_val_pred_series, y_val_true_series = load_sagemaker_predictions(\n",
    "    'val', sage_wallets_config, sage_wallets_modeling_config, date_suffix\n",
    ")\n",
    "\n",
    "# Load remaining training data\n",
    "training_data_path = (\n",
    "    Path(f\"../s3_uploads\") / \"wallet_training_data_queue\" /\n",
    "    f\"{sage_wallets_config['training_data']['local_directory']}\"\n",
    ")\n",
    "X_train = pd.read_parquet(training_data_path / f\"x_train_{date_suffix}.parquet\")\n",
    "y_train = pd.read_parquet(training_data_path / f\"y_train_{date_suffix}.parquet\")\n",
    "X_test = pd.read_parquet(training_data_path / f\"x_test_{date_suffix}.parquet\")\n",
    "X_val = pd.read_parquet(training_data_path / f\"x_val_{date_suffix}.parquet\")\n",
    "\n",
    "# Identify target variable and model type\n",
    "target_variable = y_val_true_series.name or y_train.columns[0]\n",
    "objective = sage_wallets_modeling_config['training']['hyperparameters']['objective']\n",
    "model_type = 'regression' if objective[:3] == 'reg' else 'unknown'"
   ]
  },
  {
   "cell_type": "code",
   "execution_count": null,
   "metadata": {},
   "outputs": [],
   "source": [
    "# Create model_id and modeling_config\n",
    "model_id = f\"sagemaker_{sage_wallets_config['training_data']['local_directory']}_{date_suffix}\"\n",
    "\n",
    "modeling_config = {\n",
    "    'target_variable': target_variable,\n",
    "    'model_type': model_type,\n",
    "    'returns_winsorization': 0.005,  # Default for winsorizing returns\n",
    "    'training_data': {\n",
    "        'modeling_period_duration': 30  # Default performance window\n",
    "    },\n",
    "    'sagemaker_metadata': {\n",
    "        'objective': objective,\n",
    "        'local_directory': sage_wallets_config['training_data']['local_directory'],\n",
    "        'date_suffix': date_suffix\n",
    "    }\n",
    "}\n",
    "\n",
    "# Create minimal wallet_model_results for SageMaker evaluation\n",
    "wallet_model_results = {\n",
    "    'model_id': model_id,\n",
    "    'modeling_config': modeling_config,\n",
    "    'model_type': model_type,\n",
    "\n",
    "    # Training data\n",
    "    'X_train': X_train,\n",
    "    'X_test': X_test,\n",
    "    'y_train': y_train,\n",
    "    'y_test': y_test_true_series,\n",
    "    'y_pred': y_test_pred_series,\n",
    "    'training_cohort_pred': None,\n",
    "    'training_cohort_actuals': None,\n",
    "\n",
    "    # Validation data\n",
    "    'X_validation': X_val,\n",
    "    'y_validation': y_val_true_series,\n",
    "    'y_validation_pred': y_val_pred_series,\n",
    "    'validation_target_vars_df': None,\n",
    "\n",
    "    # Fixed mock pipeline\n",
    "    'pipeline': type('MockPipeline', (), {\n",
    "        'named_steps': {'estimator': type('MockModel', (), {\n",
    "            'get_params': lambda self: {'objective': objective}  # Accept self argument\n",
    "        })()},\n",
    "        '__getitem__': lambda self, key: type('MockTransformer', (), {\n",
    "            'transform': lambda self, X: X  # Accept self argument\n",
    "        })()\n",
    "    })()\n",
    "}\n",
    "\n",
    "# Create evaluator\n",
    "wallet_evaluator = wime.RegressorEvaluator(wallet_model_results)\n",
    "\n",
    "# Run basic evaluation\n",
    "wallet_evaluator.summary_report()\n",
    "wallet_evaluator.plot_wallet_evaluation()"
   ]
  },
  {
   "cell_type": "code",
   "execution_count": null,
   "metadata": {},
   "outputs": [],
   "source": []
  },
  {
   "cell_type": "code",
   "execution_count": null,
   "metadata": {},
   "outputs": [],
   "source": [
    "target_variable"
   ]
  },
  {
   "cell_type": "code",
   "execution_count": null,
   "metadata": {},
   "outputs": [],
   "source": []
  }
 ],
 "metadata": {
  "kernelspec": {
   "display_name": "sage_venv",
   "language": "python",
   "name": "sage_venv"
  },
  "language_info": {
   "codemirror_mode": {
    "name": "ipython",
    "version": 3
   },
   "file_extension": ".py",
   "mimetype": "text/x-python",
   "name": "python",
   "nbconvert_exporter": "python",
   "pygments_lexer": "ipython3",
   "version": "3.11.9"
  }
 },
 "nbformat": 4,
 "nbformat_minor": 2
}
