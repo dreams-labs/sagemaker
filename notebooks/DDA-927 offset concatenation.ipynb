{
 "cells": [
  {
   "cell_type": "markdown",
   "metadata": {},
   "source": [
    "### start"
   ]
  },
  {
   "cell_type": "code",
   "execution_count": 1,
   "metadata": {},
   "outputs": [
    {
     "name": "stdout",
     "output_type": "stream",
     "text": [
      "sagemaker.config INFO - Not applying SDK defaults from location: /Library/Application Support/sagemaker/config.yaml\n",
      "sagemaker.config INFO - Not applying SDK defaults from location: /Users/jeremymeadow/Library/Application Support/sagemaker/config.yaml\n"
     ]
    },
    {
     "name": "stderr",
     "output_type": "stream",
     "text": [
      "\u001b[0m[01/Aug/25 16:53:35] INFO [utils.export_code:1659] Consolidation complete. All files are saved in temp/sagemaker_code.py\u001b[0m\n",
      "\u001b[92m[01/Aug/25 16:53:35] MILESTONE [3929128312.<module>:134] Good morning, let's get to work\u001b[0m\n"
     ]
    }
   ],
   "source": [
    "# pyright: reportMissingImports=false\n",
    "# pyright: reportMissingModuleSource=false\n",
    "\n",
    "import uuid\n",
    "import random\n",
    "import hashlib\n",
    "import os\n",
    "import sys\n",
    "import gc\n",
    "import time\n",
    "import copy\n",
    "import logging\n",
    "import re\n",
    "from itertools import chain,combinations\n",
    "import pdb\n",
    "import math\n",
    "from pathlib import Path\n",
    "import datetime\n",
    "from datetime import datetime,timedelta\n",
    "import json\n",
    "import warnings\n",
    "import yaml\n",
    "from typing import Dict,Union,List,Any,Tuple\n",
    "import pytest\n",
    "import importlib\n",
    "from dotenv import load_dotenv\n",
    "import pandas as pd\n",
    "import numpy as np\n",
    "import IPython\n",
    "import requests\n",
    "import warnings\n",
    "import boto3\n",
    "import matplotlib as plt\n",
    "import sklearn\n",
    "\n",
    "# load_dotenv(Path(\"../../../Local/.env\"))\n",
    "\n",
    "# Custom format function for displaying |numbers/\n",
    "pd.set_option('display.float_format', lambda x: f'{x:.12g}')\n",
    "# pd.reset_option('display.float_format')\n",
    "\n",
    "# Suppress warnings\n",
    "os.environ['PYDEVD_DISABLE_FILE_VALIDATION'] = '1'\n",
    "warnings.filterwarnings('ignore', message='.*frozen modules.*')\n",
    "warnings.filterwarnings(\"ignore\", message=\"MallocStackLogging\")\n",
    "\n",
    "# silence pygame donation request\n",
    "os.environ['PYGAME_HIDE_SUPPORT_PROMPT'] = \"hide\"\n",
    "os.environ['LOGGING_FILE'] = \"../../../Local/logs/wallet_modeling.log\"\n",
    "os.environ['NOTIFICATION_SOUNDS_DIR'] = \"../../../Local\"\n",
    "\n",
    "# Dark mode charts\n",
    "plt.rcParams['figure.facecolor'] = '#181818'  # Custom background color (dark gray in this case)\n",
    "plt.rcParams['axes.facecolor'] = '#181818'\n",
    "plt.rcParams['text.color'] = '#afc6ba'\n",
    "plt.rcParams['axes.labelcolor'] = '#afc6ba'\n",
    "plt.rcParams['xtick.color'] = '#afc6ba'\n",
    "plt.rcParams['ytick.color'] = '#afc6ba'\n",
    "plt.rcParams['axes.titlecolor'] = '#afc6ba'\n",
    "plt.rcParams['text.usetex'] = False\n",
    "plt.rcParams['mathtext.default'] = 'regular'\n",
    "\n",
    "# import local modules\n",
    "# pyright: reportMissingImports=false\n",
    "sys.path.append('../src')\n",
    "\n",
    "import sage_utils.config_validation as ucv\n",
    "import sage_utils.s3_utils as s3u\n",
    "\n",
    "import sage_wallet_insights.model_evaluation as sime\n",
    "\n",
    "import sage_wallet_modeling.wallet_modeler as wm\n",
    "from sage_wallet_modeling.wallet_preprocessor import SageWalletsPreprocessor\n",
    "import sage_wallet_modeling.wallet_script_modeler as sm\n",
    "import sage_wallet_modeling.workflow_orchestrator as wo\n",
    "\n",
    "import script_modeling.entry_helpers as h\n",
    "# import script_modeling.temporal_cv_model_entry as tme\n",
    "\n",
    "\n",
    "# import data-science modules\n",
    "sys.path.append(str(Path(\"..\") / \"..\" / \"data-science\" / \"src\"))\n",
    "import wallet_insights.model_evaluation as wime\n",
    "import utils as u\n",
    "from utils import ConfigError\n",
    "\n",
    "\n",
    "\n",
    "# reload all modules\n",
    "modules = [\n",
    "    ucv, s3u,\n",
    "    sime,\n",
    "    wm, sm, wo,\n",
    "    h,\n",
    "    wime,\n",
    "    u,\n",
    "]\n",
    "\n",
    "# import utils as u\n",
    "# Set the custom error handler\n",
    "ipython = IPython.get_ipython()\n",
    "# ipython.set_custom_exc((Exception,), u.notify_on_failure)\n",
    "\n",
    "player = u.AmbientPlayer()\n",
    "player.stop_all_players()\n",
    "\n",
    "# configure logger\n",
    "logger = u.setup_notebook_logger('../logs/notebook_logs.log')\n",
    "logger.setLevel(logging.INFO)\n",
    "\n",
    "from IPython.core import ultratb\n",
    "ultratb.VerboseTB._tb_highlight = \"bg:#b45827\"\n",
    "\n",
    "\n",
    "# load all configs\n",
    "sage_wallets_config = ucv.load_sage_wallets_config(Path('../config/sage_wallets_config.yaml'))\n",
    "sage_wallets_modeling_config = ucv.load_sage_wallets_modeling_config(Path('../config/sage_wallets_modeling_config.yaml'))\n",
    "\n",
    "\n",
    "u.export_code(\n",
    "    code_directories=[\n",
    "        'sage_wallet_insights',\n",
    "        'sage_wallet_modeling',\n",
    "        # 'sage_utils',\n",
    "    ],\n",
    "    # include_config = True,\n",
    "    # ipynb_notebook = 'DDA-769 coin model score dist toggle.ipynb'\n",
    "    output_file=\"temp/sagemaker_code.py\"\n",
    ")\n",
    "\n",
    "[importlib.reload(module) for module in modules]\n",
    "u.notify('retro')\n",
    "\n",
    "logger.milestone(\"Good morning, let's get to work\")"
   ]
  },
  {
   "cell_type": "markdown",
   "metadata": {},
   "source": [
    "# Model Training"
   ]
  },
  {
   "cell_type": "markdown",
   "metadata": {},
   "source": [
    "## Multi Model Sequence"
   ]
  },
  {
   "cell_type": "markdown",
   "metadata": {},
   "source": [
    "### Initiate orchestrator"
   ]
  },
  {
   "cell_type": "code",
   "execution_count": 5,
   "metadata": {},
   "outputs": [],
   "source": [
    "[importlib.reload(module) for module in modules]\n",
    "sage_wallets_config = yaml.safe_load(Path('../config/sage_wallets_config.yaml').read_text(encoding='utf-8'))\n",
    "sage_wallets_modeling_config = yaml.safe_load(Path('../config/sage_wallets_modeling_config.yaml').read_text(encoding='utf-8'))\n",
    "\n",
    "\n",
    "date_suffixes = [\n",
    "    '231008',\n",
    "    '231107',\n",
    "    '240306',\n",
    "    '250301'\n",
    "]\n",
    "workflow_orch = wo.WalletWorkflowOrchestrator(sage_wallets_config,sage_wallets_modeling_config)"
   ]
  },
  {
   "cell_type": "markdown",
   "metadata": {},
   "source": [
    "### Load, preprocess, and upload all data"
   ]
  },
  {
   "cell_type": "markdown",
   "metadata": {},
   "source": [
    "#### load data"
   ]
  },
  {
   "cell_type": "code",
   "execution_count": 13,
   "metadata": {},
   "outputs": [
    {
     "name": "stderr",
     "output_type": "stream",
     "text": [
      "\u001b[92m[01/Aug/25 14:16:42] MILESTONE [workflow_orchestrator.load_all_training_data:124] <DEV> Loading training data for 5 periods: ['231008', '231107', '240306', '241101', '250301']\u001b[0m\n",
      "\u001b[0m[01/Aug/25 14:16:43] INFO [workflow_orchestrator.load_all_training_data:140] Training data loaded successfully: 40,000 total rows and 9 offsets for each date_suffix.\u001b[0m\n"
     ]
    }
   ],
   "source": [
    "[importlib.reload(module) for module in modules]\n",
    "sage_wallets_config = yaml.safe_load(Path('../config/sage_wallets_config.yaml').read_text(encoding='utf-8'))\n",
    "sage_wallets_modeling_config = yaml.safe_load(Path('../config/sage_wallets_modeling_config.yaml').read_text(encoding='utf-8'))\n",
    "\n",
    "workflow_orch.load_all_training_data(date_suffixes)"
   ]
  },
  {
   "cell_type": "markdown",
   "metadata": {},
   "source": [
    "##### inspect features"
   ]
  },
  {
   "cell_type": "code",
   "execution_count": null,
   "metadata": {},
   "outputs": [],
   "source": [
    "# Create combined NaN count and describe statistics\n",
    "first_key = next(iter(workflow_orch.training_data))\n",
    "nan_counts = workflow_orch.training_data[first_key]['x_train'].isna().sum()\n",
    "describe_stats = workflow_orch.training_data[first_key]['x_train'].describe().T\n",
    "\n",
    "# Combine into single DataFrame\n",
    "combined_stats = pd.concat([\n",
    "    nan_counts.rename('nan_count'),\n",
    "    describe_stats\n",
    "], axis=1).sort_index()\n",
    "\n",
    "u.display_full(combined_stats.sort_index())"
   ]
  },
  {
   "cell_type": "markdown",
   "metadata": {},
   "source": [
    "#### preprocess all data"
   ]
  },
  {
   "cell_type": "code",
   "execution_count": 14,
   "metadata": {},
   "outputs": [
    {
     "name": "stderr",
     "output_type": "stream",
     "text": [
      "\u001b[0m[01/Aug/25 14:16:44] INFO [workflow_orchestrator.preprocess_all_training_data:171] Preprocessing 5 date periods...\u001b[0m\n",
      "\u001b[0m[01/Aug/25 14:16:44] INFO [wallet_preprocessor.preprocess_training_data:77] Starting preprocessing for SageMaker XGBoost compatibility...\u001b[0m\n",
      "\u001b[0m[01/Aug/25 14:16:44] INFO [wallet_preprocessor._handle_missing_values:237] Filled NaN values in 100 columns for x_train.\u001b[0m\n",
      "\u001b[0m[01/Aug/25 14:16:44] INFO [wallet_preprocessor.preprocess_y_data:276] Applied classification threshold 0.05 to y_train: 316 positive (31.6%), 684 negative (68.4%)\u001b[0m\n",
      "\u001b[0m[01/Aug/25 14:16:44] INFO [wallet_preprocessor._combine_x_y_data:387] Merged y df with target var cw_crypto_net_gain/crypto_inflows/winsorized with X data.\u001b[0m\n",
      "\u001b[0m[01/Aug/25 14:16:44] INFO [wallet_preprocessor._save_preprocessed_df:433] Saved preprocessed train split to ../s3_uploads/wallet_training_data_preprocessed/dda_920_eval_models_nginv_040_dev/231008/train.csv\u001b[0m\n",
      "\u001b[0m[01/Aug/25 14:16:44] INFO [wallet_preprocessor.preprocess_training_data:119] Preprocessed train: 1,000 rows × 222 cols.\u001b[0m\n",
      "\u001b[0m[01/Aug/25 14:16:44] INFO [wallet_preprocessor._handle_missing_values:237] Filled NaN values in 100 columns for x_test.\u001b[0m\n",
      "\u001b[0m[01/Aug/25 14:16:44] INFO [wallet_preprocessor._save_preprocessed_df:433] Saved preprocessed test split to ../s3_uploads/wallet_training_data_preprocessed/dda_920_eval_models_nginv_040_dev/231008/test.csv\u001b[0m\n",
      "\u001b[0m[01/Aug/25 14:16:44] INFO [wallet_preprocessor.preprocess_training_data:119] Preprocessed test: 1,000 rows × 221 cols.\u001b[0m\n",
      "\u001b[0m[01/Aug/25 14:16:44] INFO [wallet_preprocessor._handle_missing_values:237] Filled NaN values in 100 columns for x_eval.\u001b[0m\n",
      "\u001b[0m[01/Aug/25 14:16:44] INFO [wallet_preprocessor.preprocess_y_data:276] Applied classification threshold 0.05 to y_eval: 307 positive (30.7%), 693 negative (69.3%)\u001b[0m\n",
      "\u001b[0m[01/Aug/25 14:16:44] INFO [wallet_preprocessor._combine_x_y_data:387] Merged y df with target var cw_crypto_net_gain/crypto_inflows/winsorized with X data.\u001b[0m\n",
      "\u001b[0m[01/Aug/25 14:16:44] INFO [wallet_preprocessor._save_preprocessed_df:433] Saved preprocessed eval split to ../s3_uploads/wallet_training_data_preprocessed/dda_920_eval_models_nginv_040_dev/231008/eval.csv\u001b[0m\n",
      "\u001b[0m[01/Aug/25 14:16:44] INFO [wallet_preprocessor.preprocess_training_data:119] Preprocessed eval: 1,000 rows × 222 cols.\u001b[0m\n",
      "\u001b[0m[01/Aug/25 14:16:44] INFO [wallet_preprocessor._handle_missing_values:237] Filled NaN values in 100 columns for x_val.\u001b[0m\n",
      "\u001b[0m[01/Aug/25 14:16:44] INFO [wallet_preprocessor._save_preprocessed_df:433] Saved preprocessed val split to ../s3_uploads/wallet_training_data_preprocessed/dda_920_eval_models_nginv_040_dev/231008/val.csv\u001b[0m\n",
      "\u001b[0m[01/Aug/25 14:16:44] INFO [wallet_preprocessor.preprocess_training_data:119] Preprocessed val: 1,000 rows × 221 cols.\u001b[0m\n",
      "\u001b[0m[01/Aug/25 14:16:44] INFO [wallet_preprocessor.preprocess_training_data:127] Saved metadata to ../s3_uploads/wallet_training_data_preprocessed/dda_920_eval_models_nginv_040_dev/231008/metadata.json\u001b[0m\n",
      "\u001b[92m[01/Aug/25 14:16:44] MILESTONE [wallet_preprocessor.preprocess_training_data:129] Successfully preprocessed data for '231008'.\u001b[0m\n",
      "\u001b[0m[01/Aug/25 14:16:44] INFO [wallet_preprocessor.preprocess_training_data:77] Starting preprocessing for SageMaker XGBoost compatibility...\u001b[0m\n",
      "\u001b[0m[01/Aug/25 14:16:44] INFO [wallet_preprocessor._handle_missing_values:237] Filled NaN values in 100 columns for x_train.\u001b[0m\n",
      "\u001b[0m[01/Aug/25 14:16:44] INFO [wallet_preprocessor.preprocess_y_data:276] Applied classification threshold 0.05 to y_train: 454 positive (45.4%), 546 negative (54.6%)\u001b[0m\n",
      "\u001b[0m[01/Aug/25 14:16:44] INFO [wallet_preprocessor._combine_x_y_data:387] Merged y df with target var cw_crypto_net_gain/crypto_inflows/winsorized with X data.\u001b[0m\n",
      "\u001b[0m[01/Aug/25 14:16:44] INFO [wallet_preprocessor._save_preprocessed_df:433] Saved preprocessed train split to ../s3_uploads/wallet_training_data_preprocessed/dda_920_eval_models_nginv_040_dev/231107/train.csv\u001b[0m\n",
      "\u001b[0m[01/Aug/25 14:16:44] INFO [wallet_preprocessor.preprocess_training_data:119] Preprocessed train: 1,000 rows × 222 cols.\u001b[0m\n",
      "\u001b[0m[01/Aug/25 14:16:44] INFO [wallet_preprocessor._handle_missing_values:237] Filled NaN values in 100 columns for x_test.\u001b[0m\n",
      "\u001b[0m[01/Aug/25 14:16:45] INFO [wallet_preprocessor._save_preprocessed_df:433] Saved preprocessed test split to ../s3_uploads/wallet_training_data_preprocessed/dda_920_eval_models_nginv_040_dev/231107/test.csv\u001b[0m\n",
      "\u001b[0m[01/Aug/25 14:16:45] INFO [wallet_preprocessor.preprocess_training_data:119] Preprocessed test: 1,000 rows × 221 cols.\u001b[0m\n",
      "\u001b[0m[01/Aug/25 14:16:45] INFO [wallet_preprocessor._handle_missing_values:237] Filled NaN values in 100 columns for x_eval.\u001b[0m\n",
      "\u001b[0m[01/Aug/25 14:16:45] INFO [wallet_preprocessor.preprocess_y_data:276] Applied classification threshold 0.05 to y_eval: 401 positive (40.1%), 599 negative (59.9%)\u001b[0m\n",
      "\u001b[0m[01/Aug/25 14:16:45] INFO [wallet_preprocessor._combine_x_y_data:387] Merged y df with target var cw_crypto_net_gain/crypto_inflows/winsorized with X data.\u001b[0m\n",
      "\u001b[0m[01/Aug/25 14:16:45] INFO [wallet_preprocessor._save_preprocessed_df:433] Saved preprocessed eval split to ../s3_uploads/wallet_training_data_preprocessed/dda_920_eval_models_nginv_040_dev/231107/eval.csv\u001b[0m\n",
      "\u001b[0m[01/Aug/25 14:16:45] INFO [wallet_preprocessor.preprocess_training_data:119] Preprocessed eval: 1,000 rows × 222 cols.\u001b[0m\n",
      "\u001b[0m[01/Aug/25 14:16:45] INFO [wallet_preprocessor._handle_missing_values:237] Filled NaN values in 100 columns for x_val.\u001b[0m\n",
      "\u001b[0m[01/Aug/25 14:16:45] INFO [wallet_preprocessor._save_preprocessed_df:433] Saved preprocessed val split to ../s3_uploads/wallet_training_data_preprocessed/dda_920_eval_models_nginv_040_dev/231107/val.csv\u001b[0m\n",
      "\u001b[0m[01/Aug/25 14:16:45] INFO [wallet_preprocessor.preprocess_training_data:119] Preprocessed val: 1,000 rows × 221 cols.\u001b[0m\n",
      "\u001b[0m[01/Aug/25 14:16:45] INFO [wallet_preprocessor.preprocess_training_data:127] Saved metadata to ../s3_uploads/wallet_training_data_preprocessed/dda_920_eval_models_nginv_040_dev/231107/metadata.json\u001b[0m\n",
      "\u001b[92m[01/Aug/25 14:16:45] MILESTONE [wallet_preprocessor.preprocess_training_data:129] Successfully preprocessed data for '231107'.\u001b[0m\n",
      "\u001b[0m[01/Aug/25 14:16:45] INFO [wallet_preprocessor.preprocess_training_data:77] Starting preprocessing for SageMaker XGBoost compatibility...\u001b[0m\n",
      "\u001b[0m[01/Aug/25 14:16:45] INFO [wallet_preprocessor._handle_missing_values:237] Filled NaN values in 100 columns for x_train.\u001b[0m\n",
      "\u001b[0m[01/Aug/25 14:16:45] INFO [wallet_preprocessor.preprocess_y_data:276] Applied classification threshold 0.05 to y_train: 474 positive (47.4%), 526 negative (52.6%)\u001b[0m\n",
      "\u001b[0m[01/Aug/25 14:16:45] INFO [wallet_preprocessor._combine_x_y_data:387] Merged y df with target var cw_crypto_net_gain/crypto_inflows/winsorized with X data.\u001b[0m\n",
      "\u001b[0m[01/Aug/25 14:16:45] INFO [wallet_preprocessor._save_preprocessed_df:433] Saved preprocessed train split to ../s3_uploads/wallet_training_data_preprocessed/dda_920_eval_models_nginv_040_dev/240306/train.csv\u001b[0m\n",
      "\u001b[0m[01/Aug/25 14:16:45] INFO [wallet_preprocessor.preprocess_training_data:119] Preprocessed train: 1,000 rows × 222 cols.\u001b[0m\n",
      "\u001b[0m[01/Aug/25 14:16:45] INFO [wallet_preprocessor._handle_missing_values:237] Filled NaN values in 100 columns for x_test.\u001b[0m\n",
      "\u001b[0m[01/Aug/25 14:16:45] INFO [wallet_preprocessor._save_preprocessed_df:433] Saved preprocessed test split to ../s3_uploads/wallet_training_data_preprocessed/dda_920_eval_models_nginv_040_dev/240306/test.csv\u001b[0m\n",
      "\u001b[0m[01/Aug/25 14:16:45] INFO [wallet_preprocessor.preprocess_training_data:119] Preprocessed test: 1,000 rows × 221 cols.\u001b[0m\n",
      "\u001b[0m[01/Aug/25 14:16:45] INFO [wallet_preprocessor._handle_missing_values:237] Filled NaN values in 100 columns for x_eval.\u001b[0m\n",
      "\u001b[0m[01/Aug/25 14:16:45] INFO [wallet_preprocessor.preprocess_y_data:276] Applied classification threshold 0.05 to y_eval: 442 positive (44.2%), 558 negative (55.8%)\u001b[0m\n",
      "\u001b[0m[01/Aug/25 14:16:45] INFO [wallet_preprocessor._combine_x_y_data:387] Merged y df with target var cw_crypto_net_gain/crypto_inflows/winsorized with X data.\u001b[0m\n",
      "\u001b[0m[01/Aug/25 14:16:45] INFO [wallet_preprocessor._save_preprocessed_df:433] Saved preprocessed eval split to ../s3_uploads/wallet_training_data_preprocessed/dda_920_eval_models_nginv_040_dev/240306/eval.csv\u001b[0m\n",
      "\u001b[0m[01/Aug/25 14:16:45] INFO [wallet_preprocessor.preprocess_training_data:119] Preprocessed eval: 1,000 rows × 222 cols.\u001b[0m\n",
      "\u001b[0m[01/Aug/25 14:16:45] INFO [wallet_preprocessor._handle_missing_values:237] Filled NaN values in 100 columns for x_val.\u001b[0m\n",
      "\u001b[0m[01/Aug/25 14:16:45] INFO [wallet_preprocessor._save_preprocessed_df:433] Saved preprocessed val split to ../s3_uploads/wallet_training_data_preprocessed/dda_920_eval_models_nginv_040_dev/240306/val.csv\u001b[0m\n",
      "\u001b[0m[01/Aug/25 14:16:45] INFO [wallet_preprocessor.preprocess_training_data:119] Preprocessed val: 1,000 rows × 221 cols.\u001b[0m\n",
      "\u001b[0m[01/Aug/25 14:16:45] INFO [wallet_preprocessor.preprocess_training_data:127] Saved metadata to ../s3_uploads/wallet_training_data_preprocessed/dda_920_eval_models_nginv_040_dev/240306/metadata.json\u001b[0m\n",
      "\u001b[92m[01/Aug/25 14:16:45] MILESTONE [wallet_preprocessor.preprocess_training_data:129] Successfully preprocessed data for '240306'.\u001b[0m\n",
      "\u001b[0m[01/Aug/25 14:16:45] INFO [wallet_preprocessor.preprocess_training_data:77] Starting preprocessing for SageMaker XGBoost compatibility...\u001b[0m\n",
      "\u001b[0m[01/Aug/25 14:16:45] INFO [wallet_preprocessor._handle_missing_values:237] Filled NaN values in 100 columns for x_train.\u001b[0m\n",
      "\u001b[0m[01/Aug/25 14:16:45] INFO [wallet_preprocessor.preprocess_y_data:276] Applied classification threshold 0.05 to y_train: 429 positive (42.9%), 571 negative (57.1%)\u001b[0m\n",
      "\u001b[0m[01/Aug/25 14:16:45] INFO [wallet_preprocessor._combine_x_y_data:387] Merged y df with target var cw_crypto_net_gain/crypto_inflows/winsorized with X data.\u001b[0m\n",
      "\u001b[0m[01/Aug/25 14:16:45] INFO [wallet_preprocessor._save_preprocessed_df:433] Saved preprocessed train split to ../s3_uploads/wallet_training_data_preprocessed/dda_920_eval_models_nginv_040_dev/241101/train.csv\u001b[0m\n",
      "\u001b[0m[01/Aug/25 14:16:45] INFO [wallet_preprocessor.preprocess_training_data:119] Preprocessed train: 1,000 rows × 222 cols.\u001b[0m\n",
      "\u001b[0m[01/Aug/25 14:16:45] INFO [wallet_preprocessor._handle_missing_values:237] Filled NaN values in 100 columns for x_test.\u001b[0m\n",
      "\u001b[0m[01/Aug/25 14:16:45] INFO [wallet_preprocessor._save_preprocessed_df:433] Saved preprocessed test split to ../s3_uploads/wallet_training_data_preprocessed/dda_920_eval_models_nginv_040_dev/241101/test.csv\u001b[0m\n",
      "\u001b[0m[01/Aug/25 14:16:45] INFO [wallet_preprocessor.preprocess_training_data:119] Preprocessed test: 1,000 rows × 221 cols.\u001b[0m\n",
      "\u001b[0m[01/Aug/25 14:16:45] INFO [wallet_preprocessor._handle_missing_values:237] Filled NaN values in 100 columns for x_eval.\u001b[0m\n",
      "\u001b[0m[01/Aug/25 14:16:45] INFO [wallet_preprocessor.preprocess_y_data:276] Applied classification threshold 0.05 to y_eval: 420 positive (42.0%), 580 negative (58.0%)\u001b[0m\n",
      "\u001b[0m[01/Aug/25 14:16:45] INFO [wallet_preprocessor._combine_x_y_data:387] Merged y df with target var cw_crypto_net_gain/crypto_inflows/winsorized with X data.\u001b[0m\n",
      "\u001b[0m[01/Aug/25 14:16:45] INFO [wallet_preprocessor._save_preprocessed_df:433] Saved preprocessed eval split to ../s3_uploads/wallet_training_data_preprocessed/dda_920_eval_models_nginv_040_dev/241101/eval.csv\u001b[0m\n",
      "\u001b[0m[01/Aug/25 14:16:45] INFO [wallet_preprocessor.preprocess_training_data:119] Preprocessed eval: 1,000 rows × 222 cols.\u001b[0m\n",
      "\u001b[0m[01/Aug/25 14:16:45] INFO [wallet_preprocessor._handle_missing_values:237] Filled NaN values in 100 columns for x_val.\u001b[0m\n",
      "\u001b[0m[01/Aug/25 14:16:45] INFO [wallet_preprocessor._save_preprocessed_df:433] Saved preprocessed val split to ../s3_uploads/wallet_training_data_preprocessed/dda_920_eval_models_nginv_040_dev/241101/val.csv\u001b[0m\n",
      "\u001b[0m[01/Aug/25 14:16:45] INFO [wallet_preprocessor.preprocess_training_data:119] Preprocessed val: 1,000 rows × 221 cols.\u001b[0m\n",
      "\u001b[0m[01/Aug/25 14:16:45] INFO [wallet_preprocessor.preprocess_training_data:127] Saved metadata to ../s3_uploads/wallet_training_data_preprocessed/dda_920_eval_models_nginv_040_dev/241101/metadata.json\u001b[0m\n",
      "\u001b[92m[01/Aug/25 14:16:45] MILESTONE [wallet_preprocessor.preprocess_training_data:129] Successfully preprocessed data for '241101'.\u001b[0m\n",
      "\u001b[0m[01/Aug/25 14:16:45] INFO [wallet_preprocessor.preprocess_training_data:77] Starting preprocessing for SageMaker XGBoost compatibility...\u001b[0m\n",
      "\u001b[0m[01/Aug/25 14:16:45] INFO [wallet_preprocessor._handle_missing_values:237] Filled NaN values in 100 columns for x_train.\u001b[0m\n",
      "\u001b[0m[01/Aug/25 14:16:45] INFO [wallet_preprocessor.preprocess_y_data:276] Applied classification threshold 0.05 to y_train: 281 positive (28.1%), 719 negative (71.9%)\u001b[0m\n",
      "\u001b[0m[01/Aug/25 14:16:45] INFO [wallet_preprocessor._combine_x_y_data:387] Merged y df with target var cw_crypto_net_gain/crypto_inflows/winsorized with X data.\u001b[0m\n",
      "\u001b[0m[01/Aug/25 14:16:45] INFO [wallet_preprocessor._save_preprocessed_df:433] Saved preprocessed train split to ../s3_uploads/wallet_training_data_preprocessed/dda_920_eval_models_nginv_040_dev/250301/train.csv\u001b[0m\n",
      "\u001b[0m[01/Aug/25 14:16:45] INFO [wallet_preprocessor.preprocess_training_data:119] Preprocessed train: 1,000 rows × 222 cols.\u001b[0m\n",
      "\u001b[0m[01/Aug/25 14:16:45] INFO [wallet_preprocessor._handle_missing_values:237] Filled NaN values in 100 columns for x_test.\u001b[0m\n",
      "\u001b[0m[01/Aug/25 14:16:45] INFO [wallet_preprocessor._save_preprocessed_df:433] Saved preprocessed test split to ../s3_uploads/wallet_training_data_preprocessed/dda_920_eval_models_nginv_040_dev/250301/test.csv\u001b[0m\n",
      "\u001b[0m[01/Aug/25 14:16:45] INFO [wallet_preprocessor.preprocess_training_data:119] Preprocessed test: 1,000 rows × 221 cols.\u001b[0m\n",
      "\u001b[0m[01/Aug/25 14:16:45] INFO [wallet_preprocessor._handle_missing_values:237] Filled NaN values in 100 columns for x_eval.\u001b[0m\n",
      "\u001b[0m[01/Aug/25 14:16:45] INFO [wallet_preprocessor.preprocess_y_data:276] Applied classification threshold 0.05 to y_eval: 317 positive (31.7%), 683 negative (68.3%)\u001b[0m\n",
      "\u001b[0m[01/Aug/25 14:16:45] INFO [wallet_preprocessor._combine_x_y_data:387] Merged y df with target var cw_crypto_net_gain/crypto_inflows/winsorized with X data.\u001b[0m\n",
      "\u001b[0m[01/Aug/25 14:16:46] INFO [wallet_preprocessor._save_preprocessed_df:433] Saved preprocessed eval split to ../s3_uploads/wallet_training_data_preprocessed/dda_920_eval_models_nginv_040_dev/250301/eval.csv\u001b[0m\n",
      "\u001b[0m[01/Aug/25 14:16:46] INFO [wallet_preprocessor.preprocess_training_data:119] Preprocessed eval: 1,000 rows × 222 cols.\u001b[0m\n",
      "\u001b[0m[01/Aug/25 14:16:46] INFO [wallet_preprocessor._handle_missing_values:237] Filled NaN values in 84 columns for x_val.\u001b[0m\n",
      "\u001b[0m[01/Aug/25 14:16:46] INFO [wallet_preprocessor._save_preprocessed_df:433] Saved preprocessed val split to ../s3_uploads/wallet_training_data_preprocessed/dda_920_eval_models_nginv_040_dev/250301/val.csv\u001b[0m\n",
      "\u001b[0m[01/Aug/25 14:16:46] INFO [wallet_preprocessor.preprocess_training_data:119] Preprocessed val: 1,000 rows × 221 cols.\u001b[0m\n",
      "\u001b[0m[01/Aug/25 14:16:46] INFO [wallet_preprocessor.preprocess_training_data:127] Saved metadata to ../s3_uploads/wallet_training_data_preprocessed/dda_920_eval_models_nginv_040_dev/250301/metadata.json\u001b[0m\n",
      "\u001b[92m[01/Aug/25 14:16:46] MILESTONE [wallet_preprocessor.preprocess_training_data:129] Successfully preprocessed data for '250301'.\u001b[0m\n",
      "\u001b[0m[01/Aug/25 14:16:46] INFO [workflow_orchestrator.preprocess_all_training_data:192] Preprocessing complete for all 5 dates.\u001b[0m\n"
     ]
    }
   ],
   "source": [
    "workflow_orch.preprocess_all_training_data()"
   ]
  },
  {
   "cell_type": "markdown",
   "metadata": {},
   "source": [
    "#### upload all data"
   ]
  },
  {
   "cell_type": "code",
   "execution_count": 16,
   "metadata": {},
   "outputs": [
    {
     "name": "stderr",
     "output_type": "stream",
     "text": [
      "\u001b[92m[01/Aug/25 14:17:13] MILESTONE [workflow_orchestrator._confirm_upload:853] <DEV> Ready to upload 20000 total rows (33.8 MB) of preprocessed training data across 5 date folders.\u001b[0m\n",
      "\u001b[92m[01/Aug/25 14:17:13] MILESTONE [workflow_orchestrator._confirm_upload:869] This upload will overwrite existing files.\u001b[0m\n",
      "\u001b[0m[01/Aug/25 14:17:13] INFO [workflow_orchestrator._confirm_upload:873] Target: s3://wallet-training-data/training-data-preprocessed/dda-920-nginv-040-dev/[DATE]/\u001b[0m\n",
      "\u001b[0m[01/Aug/25 14:17:15] INFO [workflow_orchestrator.upload_all_training_data:218] Beginning approved upload...\u001b[0m\n",
      "\u001b[0m[01/Aug/25 14:17:15] INFO [workflow_orchestrator.upload_all_training_data:223] Uploading data for 5 date periods with 4 threads...\u001b[0m\n",
      "\u001b[0m[01/Aug/25 14:17:20] INFO [workflow_orchestrator._upload_csv_files:921] Uploaded train to s3://wallet-training-data/training-data-preprocessed/dda-920-nginv-040-dev/240306/train.csv\u001b[0m\n",
      "\u001b[0m[01/Aug/25 14:17:20] INFO [workflow_orchestrator._upload_csv_files:921] Uploaded train to s3://wallet-training-data/training-data-preprocessed/dda-920-nginv-040-dev/231107/train.csv\u001b[0m\n",
      "\u001b[0m[01/Aug/25 14:17:21] INFO [workflow_orchestrator._upload_csv_files:921] Uploaded train to s3://wallet-training-data/training-data-preprocessed/dda-920-nginv-040-dev/241101/train.csv\u001b[0m\n",
      "\u001b[0m[01/Aug/25 14:17:22] INFO [workflow_orchestrator._upload_csv_files:921] Uploaded train to s3://wallet-training-data/training-data-preprocessed/dda-920-nginv-040-dev/231008/train.csv\u001b[0m\n",
      "\u001b[0m[01/Aug/25 14:17:26] INFO [workflow_orchestrator._upload_csv_files:921] Uploaded test to s3://wallet-training-data/training-data-preprocessed/dda-920-nginv-040-dev/231107/test.csv\u001b[0m\n",
      "\u001b[0m[01/Aug/25 14:17:26] INFO [workflow_orchestrator._upload_csv_files:921] Uploaded test to s3://wallet-training-data/training-data-preprocessed/dda-920-nginv-040-dev/240306/test.csv\u001b[0m\n",
      "\u001b[0m[01/Aug/25 14:17:26] INFO [workflow_orchestrator._upload_csv_files:921] Uploaded test to s3://wallet-training-data/training-data-preprocessed/dda-920-nginv-040-dev/241101/test.csv\u001b[0m\n",
      "\u001b[0m[01/Aug/25 14:17:27] INFO [workflow_orchestrator._upload_csv_files:921] Uploaded test to s3://wallet-training-data/training-data-preprocessed/dda-920-nginv-040-dev/231008/test.csv\u001b[0m\n",
      "\u001b[0m[01/Aug/25 14:17:30] INFO [workflow_orchestrator._upload_csv_files:921] Uploaded eval to s3://wallet-training-data/training-data-preprocessed/dda-920-nginv-040-dev/240306/eval.csv\u001b[0m\n",
      "\u001b[0m[01/Aug/25 14:17:30] INFO [workflow_orchestrator._upload_csv_files:921] Uploaded eval to s3://wallet-training-data/training-data-preprocessed/dda-920-nginv-040-dev/231107/eval.csv\u001b[0m\n",
      "\u001b[0m[01/Aug/25 14:17:32] INFO [workflow_orchestrator._upload_csv_files:921] Uploaded eval to s3://wallet-training-data/training-data-preprocessed/dda-920-nginv-040-dev/231008/eval.csv\u001b[0m\n",
      "\u001b[0m[01/Aug/25 14:17:34] INFO [workflow_orchestrator._upload_csv_files:921] Uploaded eval to s3://wallet-training-data/training-data-preprocessed/dda-920-nginv-040-dev/241101/eval.csv\u001b[0m\n",
      "\u001b[0m[01/Aug/25 14:17:35] INFO [workflow_orchestrator._upload_csv_files:921] Uploaded val to s3://wallet-training-data/training-data-preprocessed/dda-920-nginv-040-dev/231107/val.csv\u001b[0m\n",
      "\u001b[0m[01/Aug/25 14:17:35] INFO [workflow_orchestrator._upload_metadata_for_date:956] Uploaded metadata to s3://wallet-training-data/training-data-preprocessed/dda-920-nginv-040-dev/231107/metadata.json\u001b[0m\n",
      "\u001b[0m[01/Aug/25 14:17:35] INFO [workflow_orchestrator._upload_single_date:780] Successfully completed upload for 231107\u001b[0m\n",
      "\u001b[0m[01/Aug/25 14:17:35] INFO [workflow_orchestrator._upload_csv_files:921] Uploaded val to s3://wallet-training-data/training-data-preprocessed/dda-920-nginv-040-dev/240306/val.csv\u001b[0m\n",
      "\u001b[0m[01/Aug/25 14:17:35] INFO [workflow_orchestrator._upload_metadata_for_date:956] Uploaded metadata to s3://wallet-training-data/training-data-preprocessed/dda-920-nginv-040-dev/240306/metadata.json\u001b[0m\n",
      "\u001b[0m[01/Aug/25 14:17:35] INFO [workflow_orchestrator._upload_single_date:780] Successfully completed upload for 240306\u001b[0m\n",
      "\u001b[0m[01/Aug/25 14:17:36] INFO [workflow_orchestrator._upload_csv_files:921] Uploaded val to s3://wallet-training-data/training-data-preprocessed/dda-920-nginv-040-dev/231008/val.csv\u001b[0m\n",
      "\u001b[0m[01/Aug/25 14:17:36] INFO [workflow_orchestrator._upload_metadata_for_date:956] Uploaded metadata to s3://wallet-training-data/training-data-preprocessed/dda-920-nginv-040-dev/231008/metadata.json\u001b[0m\n",
      "\u001b[0m[01/Aug/25 14:17:36] INFO [workflow_orchestrator._upload_single_date:780] Successfully completed upload for 231008\u001b[0m\n",
      "\u001b[0m[01/Aug/25 14:17:37] INFO [workflow_orchestrator._upload_csv_files:921] Uploaded val to s3://wallet-training-data/training-data-preprocessed/dda-920-nginv-040-dev/241101/val.csv\u001b[0m\n",
      "\u001b[0m[01/Aug/25 14:17:38] INFO [workflow_orchestrator._upload_metadata_for_date:956] Uploaded metadata to s3://wallet-training-data/training-data-preprocessed/dda-920-nginv-040-dev/241101/metadata.json\u001b[0m\n",
      "\u001b[0m[01/Aug/25 14:17:38] INFO [workflow_orchestrator._upload_single_date:780] Successfully completed upload for 241101\u001b[0m\n",
      "\u001b[0m[01/Aug/25 14:17:38] INFO [workflow_orchestrator._upload_csv_files:921] Uploaded train to s3://wallet-training-data/training-data-preprocessed/dda-920-nginv-040-dev/250301/train.csv\u001b[0m\n",
      "\u001b[0m[01/Aug/25 14:17:40] INFO [workflow_orchestrator._upload_csv_files:921] Uploaded test to s3://wallet-training-data/training-data-preprocessed/dda-920-nginv-040-dev/250301/test.csv\u001b[0m\n",
      "\u001b[0m[01/Aug/25 14:17:41] INFO [workflow_orchestrator._upload_csv_files:921] Uploaded eval to s3://wallet-training-data/training-data-preprocessed/dda-920-nginv-040-dev/250301/eval.csv\u001b[0m\n",
      "\u001b[0m[01/Aug/25 14:17:43] INFO [workflow_orchestrator._upload_csv_files:921] Uploaded val to s3://wallet-training-data/training-data-preprocessed/dda-920-nginv-040-dev/250301/val.csv\u001b[0m\n",
      "\u001b[0m[01/Aug/25 14:17:43] INFO [workflow_orchestrator._upload_metadata_for_date:956] Uploaded metadata to s3://wallet-training-data/training-data-preprocessed/dda-920-nginv-040-dev/250301/metadata.json\u001b[0m\n",
      "\u001b[0m[01/Aug/25 14:17:43] INFO [workflow_orchestrator._upload_single_date:780] Successfully completed upload for 250301\u001b[0m\n",
      "\u001b[0m[01/Aug/25 14:17:43] INFO [workflow_orchestrator.upload_all_training_data:241] All 5 date uploads completed successfully.\u001b[0m\n"
     ]
    }
   ],
   "source": [
    "# Upload and retrieve URIs\n",
    "workflow_orch.upload_all_training_data(overwrite_existing=True)\n",
    "s3_uris = workflow_orch.retrieve_training_data_uris(date_suffixes)"
   ]
  },
  {
   "cell_type": "markdown",
   "metadata": {},
   "source": [
    "### Train all models"
   ]
  },
  {
   "cell_type": "code",
   "execution_count": null,
   "metadata": {},
   "outputs": [],
   "source": [
    "workflow_orch.load_all_training_data(date_suffixes)\n",
    "modeling_results = workflow_orch.train_all_models()"
   ]
  },
  {
   "cell_type": "markdown",
   "metadata": {},
   "source": [
    "### Predict with all models"
   ]
  },
  {
   "cell_type": "code",
   "execution_count": 9,
   "metadata": {},
   "outputs": [
    {
     "name": "stderr",
     "output_type": "stream",
     "text": [
      "\u001b[92m[01/Aug/25 12:48:22] MILESTONE [workflow_orchestrator.load_all_training_data:121] <DEV> Loading training data for 4 periods: ['231008', '231107', '240306', '250301']\u001b[0m\n",
      "\u001b[0m[01/Aug/25 12:48:22] INFO [workflow_orchestrator.load_all_training_data:137] Training data loaded successfully: 32,000 total rows and 9 offsets for each date_suffix.\u001b[0m\n"
     ]
    }
   ],
   "source": [
    "[importlib.reload(module) for module in modules]\n",
    "sage_wallets_config = yaml.safe_load(Path('../config/sage_wallets_config.yaml').read_text(encoding='utf-8'))\n",
    "sage_wallets_modeling_config = yaml.safe_load(Path('../config/sage_wallets_modeling_config.yaml').read_text(encoding='utf-8'))\n",
    "\n",
    "\n",
    "date_suffixes = [\n",
    "    '231008',\n",
    "    '231107',\n",
    "    '240306',\n",
    "    '250301'\n",
    "]\n",
    "workflow_orch = wo.WalletWorkflowOrchestrator(sage_wallets_config,sage_wallets_modeling_config)\n",
    "workflow_orch.load_all_training_data(date_suffixes)\n",
    "s3_uris = workflow_orch.retrieve_training_data_uris(date_suffixes)"
   ]
  },
  {
   "cell_type": "code",
   "execution_count": null,
   "metadata": {},
   "outputs": [],
   "source": [
    "result = workflow_orch.predict_with_all_models()"
   ]
  },
  {
   "cell_type": "markdown",
   "metadata": {},
   "source": [
    "### Evaluate all models"
   ]
  },
  {
   "cell_type": "code",
   "execution_count": null,
   "metadata": {},
   "outputs": [],
   "source": [
    "[importlib.reload(module) for module in modules]\n",
    "sage_wallets_config = yaml.safe_load(Path('../config/sage_wallets_config.yaml').read_text(encoding='utf-8'))\n",
    "sage_wallets_modeling_config = yaml.safe_load(Path('../config/sage_wallets_modeling_config.yaml').read_text(encoding='utf-8'))\n",
    "\n",
    "\n",
    "date_suffixes = [\n",
    "    '231008',\n",
    "    '231107',\n",
    "    '240306',\n",
    "    '250301'\n",
    "]\n",
    "workflow_orch = wo.WalletWorkflowOrchestrator(sage_wallets_config,sage_wallets_modeling_config)\n",
    "workflow_orch.load_all_training_data(date_suffixes)\n",
    "\n",
    "evaluators = workflow_orch.evaluate_all_models()\n"
   ]
  },
  {
   "cell_type": "code",
   "execution_count": null,
   "metadata": {},
   "outputs": [],
   "source": [
    "for e in evaluators:\n",
    "    evaluators[e].plot_wallet_evaluation()"
   ]
  },
  {
   "cell_type": "markdown",
   "metadata": {},
   "source": [
    "### DDA 923 temporal cv model"
   ]
  },
  {
   "cell_type": "code",
   "execution_count": 18,
   "metadata": {},
   "outputs": [
    {
     "name": "stderr",
     "output_type": "stream",
     "text": [
      "\u001b[92m[01/Aug/25 15:52:50] MILESTONE [workflow_orchestrator.load_all_training_data:123] <DEV> Loading training data for 5 periods: ['231008', '231107', '240306', '241101', '250301']\u001b[0m\n",
      "\u001b[0m[01/Aug/25 15:52:50] INFO [workflow_orchestrator.load_all_training_data:139] Training data loaded successfully: 40,000 total rows and 9 offsets for each date_suffix.\u001b[0m\n"
     ]
    }
   ],
   "source": [
    "[importlib.reload(module) for module in modules]\n",
    "sage_wallets_config = yaml.safe_load(Path('../config/sage_wallets_config.yaml').read_text(encoding='utf-8'))\n",
    "sage_wallets_modeling_config = yaml.safe_load(Path('../config/sage_wallets_modeling_config.yaml').read_text(encoding='utf-8'))\n",
    "\n",
    "\n",
    "date_suffixes = [\n",
    "    '231008',\n",
    "    '231107',\n",
    "    '240306',\n",
    "    '241101',\n",
    "    '250301'\n",
    "]\n",
    "workflow_orch = wo.WalletWorkflowOrchestrator(sage_wallets_config,sage_wallets_modeling_config)\n",
    "workflow_orch.load_all_training_data(date_suffixes)\n",
    "s3_uris = workflow_orch.retrieve_training_data_uris(date_suffixes)"
   ]
  },
  {
   "cell_type": "code",
   "execution_count": 17,
   "metadata": {},
   "outputs": [
    {
     "name": "stderr",
     "output_type": "stream",
     "text": [
      "\u001b[0m[01/Aug/25 15:52:06] INFO [workflow_orchestrator.compile_temporal_cv_files:451] Uploaded 0 CV files to s3://wallet-training-data/training-data-temporal-cvs/dda-920-nginv-040\u001b[0m\n"
     ]
    },
    {
     "data": {
      "text/plain": [
       "'s3://wallet-training-data/training-data-temporal-cvs/dda-920-nginv-040'"
      ]
     },
     "execution_count": 17,
     "metadata": {},
     "output_type": "execute_result"
    }
   ],
   "source": [
    "cv_s3_uri = workflow_orch.compile_temporal_cv_files(date_suffixes, s3_uris)\n",
    "cv_s3_uri"
   ]
  },
  {
   "cell_type": "code",
   "execution_count": 19,
   "metadata": {},
   "outputs": [
    {
     "name": "stderr",
     "output_type": "stream",
     "text": [
      "\u001b[93m[01/Aug/25 15:52:54] WARNING [wallet_script_modeler._prepare_hyperparameters:38] Ignoring unsupported hyperparameters: {'colsample_bytree'}\u001b[0m\n",
      "\u001b[0m[01/Aug/25 15:52:54] INFO [image_uris._validate_py_version_and_set_if_needed:603] Ignoring unnecessary Python version: py3.\u001b[0m\n",
      "\u001b[0m[01/Aug/25 15:52:54] INFO [image_uris._processor:530] Ignoring unnecessary instance type: ml.m5.large.\u001b[0m\n",
      "\u001b[0m[01/Aug/25 15:52:54] INFO [wallet_script_modeler.train_temporal_cv_script_model:189] Launching script-mode CV training job: wallet-script-cv-dda-920-nginv-040-20250801-155254\u001b[0m\n",
      "\u001b[0m[01/Aug/25 15:52:54] INFO [telemetry_logging.wrapper:92] SageMaker Python SDK will collect telemetry to help us better understand our user's needs, diagnose issues, and deliver additional features.\n",
      "To opt out of telemetry, please disable via TelemetryOptOut parameter in SDK defaults config. For more information, refer to https://sagemaker.readthedocs.io/en/stable/overview.html#configuring-and-using-defaults-with-the-sagemaker-python-sdk.\u001b[0m\n",
      "\u001b[0m[01/Aug/25 15:52:54] INFO [session.submit:1053] Creating training-job with name: wallet-script-cv-dda-920-nginv-040-20250801-155254\u001b[0m\n"
     ]
    },
    {
     "name": "stdout",
     "output_type": "stream",
     "text": [
      "2025-08-01 22:52:55 Starting - Starting the training job...\n",
      "2025-08-01 22:53:10 Starting - Preparing the instances for training...\n",
      "2025-08-01 22:53:33 Downloading - Downloading input data...\n",
      "2025-08-01 22:54:18 Downloading - Downloading the training image......\n",
      "2025-08-01 22:55:24 Training - Training image download completed. Training in progress../miniconda3/lib/python3.9/site-packages/sagemaker_containers/_server.py:22: UserWarning: pkg_resources is deprecated as an API. See https://setuptools.pypa.io/en/latest/pkg_resources.html. The pkg_resources package is slated for removal as early as 2025-11-30. Refrain from using this package or pin to Setuptools<81.\n",
      "  import pkg_resources\n",
      "[2025-08-01 22:55:27.524 ip-10-0-216-117.us-west-2.compute.internal:7 INFO utils.py:28] RULE_JOB_STOP_SIGNAL_FILENAME: None\n",
      "[2025-08-01 22:55:27.561 ip-10-0-216-117.us-west-2.compute.internal:7 INFO profiler_config_parser.py:111] User has disabled profiler.\n",
      "[2025-08-01:22:55:28:INFO] Imported framework sagemaker_xgboost_container.training\n",
      "[2025-08-01:22:55:28:INFO] No GPUs detected (normal if no gpus installed)\n",
      "[2025-08-01:22:55:28:INFO] Invoking user training script.\n",
      "[2025-08-01:22:55:28:INFO] Module temporal_cv_model_entry does not provide a setup.py. \n",
      "Generating setup.py\n",
      "[2025-08-01:22:55:28:INFO] Generating setup.cfg\n",
      "[2025-08-01:22:55:28:INFO] Generating MANIFEST.in\n",
      "[2025-08-01:22:55:28:INFO] Installing module with the following command:\n",
      "/miniconda3/bin/python3 -m pip install . \n",
      "Processing /opt/ml/code\n",
      "  Preparing metadata (setup.py): started\n",
      "  Preparing metadata (setup.py): finished with status 'done'\n",
      "Building wheels for collected packages: temporal_cv_model_entry\n",
      "  DEPRECATION: Building 'temporal_cv_model_entry' using the legacy setup.py bdist_wheel mechanism, which will be removed in a future version. pip 25.3 will enforce this behaviour change. A possible replacement is to use the standardized build interface by setting the `--use-pep517` option, (possibly combined with `--no-build-isolation`), or adding a `pyproject.toml` file to the source tree of 'temporal_cv_model_entry'. Discussion can be found at https://github.com/pypa/pip/issues/6334\n",
      "  Building wheel for temporal_cv_model_entry (setup.py): started\n",
      "  Building wheel for temporal_cv_model_entry (setup.py): finished with status 'done'\n",
      "  Created wheel for temporal_cv_model_entry: filename=temporal_cv_model_entry-1.0.0-py2.py3-none-any.whl size=11589 sha256=98c118f3115b33e57cfd69b1146c8feb4faf8ca1203b6076f69f9161b32d82ef\n",
      "  Stored in directory: /home/model-server/tmp/pip-ephem-wheel-cache-xr0d494h/wheels/40/03/3a/5f39818cea87b3c154b54d046a775b3da4b8ed9b642b8d50e6\n",
      "Successfully built temporal_cv_model_entry\n",
      "Installing collected packages: temporal_cv_model_entry\n",
      "Successfully installed temporal_cv_model_entry-1.0.0\n",
      "WARNING: Running pip as the 'root' user can result in broken permissions and conflicting behaviour with the system package manager, possibly rendering your system unusable. It is recommended to use a virtual environment instead: https://pip.pypa.io/warnings/venv. Use the --root-user-action option if you know what you are doing and want to suppress this warning.\n",
      "[notice] A new release of pip is available: 25.1.1 -> 25.2\n",
      "[notice] To update, run: pip install --upgrade pip\n",
      "[2025-08-01:22:55:29:INFO] No GPUs detected (normal if no gpus installed)\n",
      "[2025-08-01:22:55:29:INFO] Invoking user script\n",
      "Training Env:\n",
      "{\n",
      "    \"additional_framework_parameters\": {},\n",
      "    \"channel_input_dirs\": {\n",
      "        \"cv\": \"/opt/ml/input/data/cv\"\n",
      "    },\n",
      "    \"current_host\": \"algo-1\",\n",
      "    \"framework_module\": \"sagemaker_xgboost_container.training:main\",\n",
      "    \"hosts\": [\n",
      "        \"algo-1\"\n",
      "    ],\n",
      "    \"hyperparameters\": {\n",
      "        \"early_stopping_rounds\": 10,\n",
      "        \"eta\": 0.3,\n",
      "        \"max_depth\": 6,\n",
      "        \"num_boost_round\": 100,\n",
      "        \"subsample\": 0.8\n",
      "    },\n",
      "    \"input_config_dir\": \"/opt/ml/input/config\",\n",
      "    \"input_data_config\": {\n",
      "        \"cv\": {\n",
      "            \"ContentType\": \"text/csv\",\n",
      "            \"TrainingInputMode\": \"File\",\n",
      "            \"S3DistributionType\": \"FullyReplicated\",\n",
      "            \"RecordWrapperType\": \"None\"\n",
      "        }\n",
      "    },\n",
      "    \"input_dir\": \"/opt/ml/input\",\n",
      "    \"is_master\": true,\n",
      "    \"job_name\": \"wallet-script-cv-dda-920-nginv-040-20250801-155254\",\n",
      "    \"log_level\": 20,\n",
      "    \"master_hostname\": \"algo-1\",\n",
      "    \"model_dir\": \"/opt/ml/model\",\n",
      "    \"module_dir\": \"s3://wallet-script-models/wallet-script-cv-dda-920-nginv-040-20250801-155254/source/sourcedir.tar.gz\",\n",
      "    \"module_name\": \"temporal_cv_model_entry\",\n",
      "    \"network_interface_name\": \"eth0\",\n",
      "    \"num_cpus\": 2,\n",
      "    \"num_gpus\": 0,\n",
      "    \"output_data_dir\": \"/opt/ml/output/data\",\n",
      "    \"output_dir\": \"/opt/ml/output\",\n",
      "    \"output_intermediate_dir\": \"/opt/ml/output/intermediate\",\n",
      "    \"resource_config\": {\n",
      "        \"current_host\": \"algo-1\",\n",
      "        \"current_instance_type\": \"ml.m5.large\",\n",
      "        \"current_group_name\": \"homogeneousCluster\",\n",
      "        \"hosts\": [\n",
      "            \"algo-1\"\n",
      "        ],\n",
      "        \"instance_groups\": [\n",
      "            {\n",
      "                \"instance_group_name\": \"homogeneousCluster\",\n",
      "                \"instance_type\": \"ml.m5.large\",\n",
      "                \"hosts\": [\n",
      "                    \"algo-1\"\n",
      "                ]\n",
      "            }\n",
      "        ],\n",
      "        \"network_interface_name\": \"eth0\",\n",
      "        \"topology\": null\n",
      "    },\n",
      "    \"user_entry_point\": \"temporal_cv_model_entry.py\"\n",
      "}\n",
      "Environment variables:\n",
      "SM_HOSTS=[\"algo-1\"]\n",
      "SM_NETWORK_INTERFACE_NAME=eth0\n",
      "SM_HPS={\"early_stopping_rounds\":10,\"eta\":0.3,\"max_depth\":6,\"num_boost_round\":100,\"subsample\":0.8}\n",
      "SM_USER_ENTRY_POINT=temporal_cv_model_entry.py\n",
      "SM_FRAMEWORK_PARAMS={}\n",
      "SM_RESOURCE_CONFIG={\"current_group_name\":\"homogeneousCluster\",\"current_host\":\"algo-1\",\"current_instance_type\":\"ml.m5.large\",\"hosts\":[\"algo-1\"],\"instance_groups\":[{\"hosts\":[\"algo-1\"],\"instance_group_name\":\"homogeneousCluster\",\"instance_type\":\"ml.m5.large\"}],\"network_interface_name\":\"eth0\",\"topology\":null}\n",
      "SM_INPUT_DATA_CONFIG={\"cv\":{\"ContentType\":\"text/csv\",\"RecordWrapperType\":\"None\",\"S3DistributionType\":\"FullyReplicated\",\"TrainingInputMode\":\"File\"}}\n",
      "SM_OUTPUT_DATA_DIR=/opt/ml/output/data\n",
      "SM_CHANNELS=[\"cv\"]\n",
      "SM_CURRENT_HOST=algo-1\n",
      "SM_MODULE_NAME=temporal_cv_model_entry\n",
      "SM_LOG_LEVEL=20\n",
      "SM_FRAMEWORK_MODULE=sagemaker_xgboost_container.training:main\n",
      "SM_INPUT_DIR=/opt/ml/input\n",
      "SM_INPUT_CONFIG_DIR=/opt/ml/input/config\n",
      "SM_OUTPUT_DIR=/opt/ml/output\n",
      "SM_NUM_CPUS=2\n",
      "SM_NUM_GPUS=0\n",
      "SM_MODEL_DIR=/opt/ml/model\n",
      "SM_MODULE_DIR=s3://wallet-script-models/wallet-script-cv-dda-920-nginv-040-20250801-155254/source/sourcedir.tar.gz\n",
      "SM_TRAINING_ENV={\"additional_framework_parameters\":{},\"channel_input_dirs\":{\"cv\":\"/opt/ml/input/data/cv\"},\"current_host\":\"algo-1\",\"framework_module\":\"sagemaker_xgboost_container.training:main\",\"hosts\":[\"algo-1\"],\"hyperparameters\":{\"early_stopping_rounds\":10,\"eta\":0.3,\"max_depth\":6,\"num_boost_round\":100,\"subsample\":0.8},\"input_config_dir\":\"/opt/ml/input/config\",\"input_data_config\":{\"cv\":{\"ContentType\":\"text/csv\",\"RecordWrapperType\":\"None\",\"S3DistributionType\":\"FullyReplicated\",\"TrainingInputMode\":\"File\"}},\"input_dir\":\"/opt/ml/input\",\"is_master\":true,\"job_name\":\"wallet-script-cv-dda-920-nginv-040-20250801-155254\",\"log_level\":20,\"master_hostname\":\"algo-1\",\"model_dir\":\"/opt/ml/model\",\"module_dir\":\"s3://wallet-script-models/wallet-script-cv-dda-920-nginv-040-20250801-155254/source/sourcedir.tar.gz\",\"module_name\":\"temporal_cv_model_entry\",\"network_interface_name\":\"eth0\",\"num_cpus\":2,\"num_gpus\":0,\"output_data_dir\":\"/opt/ml/output/data\",\"output_dir\":\"/opt/ml/output\",\"output_intermediate_dir\":\"/opt/ml/output/intermediate\",\"resource_config\":{\"current_group_name\":\"homogeneousCluster\",\"current_host\":\"algo-1\",\"current_instance_type\":\"ml.m5.large\",\"hosts\":[\"algo-1\"],\"instance_groups\":[{\"hosts\":[\"algo-1\"],\"instance_group_name\":\"homogeneousCluster\",\"instance_type\":\"ml.m5.large\"}],\"network_interface_name\":\"eth0\",\"topology\":null},\"user_entry_point\":\"temporal_cv_model_entry.py\"}\n",
      "SM_USER_ARGS=[\"--early_stopping_rounds\",\"10\",\"--eta\",\"0.3\",\"--max_depth\",\"6\",\"--num_boost_round\",\"100\",\"--subsample\",\"0.8\"]\n",
      "SM_OUTPUT_INTERMEDIATE_DIR=/opt/ml/output/intermediate\n",
      "SM_CHANNEL_CV=/opt/ml/input/data/cv\n",
      "SM_HP_EARLY_STOPPING_ROUNDS=10\n",
      "SM_HP_ETA=0.3\n",
      "SM_HP_MAX_DEPTH=6\n",
      "SM_HP_NUM_BOOST_ROUND=100\n",
      "SM_HP_SUBSAMPLE=0.8\n",
      "PYTHONPATH=/miniconda3/bin:/:/miniconda3/lib/python/site-packages/xgboost/dmlc-core/tracker:/miniconda3/lib/python39.zip:/miniconda3/lib/python3.9:/miniconda3/lib/python3.9/lib-dynload:/miniconda3/lib/python3.9/site-packages:/miniconda3/lib/python3.9/site-packages/setuptools/_vendor\n",
      "Invoking script with the following command:\n",
      "/miniconda3/bin/python3 -m temporal_cv_model_entry --early_stopping_rounds 10 --eta 0.3 --max_depth 6 --num_boost_round 100 --subsample 0.8\n",
      "/miniconda3/lib/python3.9/site-packages/sklearn/utils/fixes.py:28: UserWarning: pkg_resources is deprecated as an API. See https://setuptools.pypa.io/en/latest/pkg_resources.html. The pkg_resources package is slated for removal as early as 2025-11-30. Refrain from using this package or pin to Setuptools<81.\n",
      "  from pkg_resources import parse_version  # type: ignore\n",
      "fold_231008:cv_auc_pr=0.579837\n",
      "fold_231107:cv_auc_pr=0.719577\n",
      "fold_240306:cv_auc_pr=0.639642\n",
      "fold_241101:cv_auc_pr=0.693025\n",
      "fold_250301:cv_auc_pr=0.608371\n",
      "mean_cv_auc_pr=0.648090\n",
      "\n",
      "2025-08-01 22:55:54 Uploading - Uploading generated training model\n",
      "2025-08-01 22:55:54 Completed - Training job completed\n",
      "Training seconds: 142\n",
      "Billable seconds: 142\n"
     ]
    },
    {
     "name": "stderr",
     "output_type": "stream",
     "text": [
      "\u001b[0m[01/Aug/25 15:56:16] INFO [wallet_script_modeler.train_temporal_cv_script_model:193] Script-mode CV training completed. Model URI: s3://wallet-script-models/model-outputs/dda-920-nginv-040/cv/wallet-script-cv-dda-920-nginv-040-20250801-155254/wallet-script-cv-dda-920-nginv-040-20250801-155254/output/model.tar.gz\u001b[0m\n"
     ]
    },
    {
     "data": {
      "text/plain": [
       "{'model_uri': 's3://wallet-script-models/model-outputs/dda-920-nginv-040/cv/wallet-script-cv-dda-920-nginv-040-20250801-155254/wallet-script-cv-dda-920-nginv-040-20250801-155254/output/model.tar.gz',\n",
       " 'training_job_name': 'wallet-script-cv-dda-920-nginv-040-20250801-155254'}"
      ]
     },
     "execution_count": 19,
     "metadata": {},
     "output_type": "execute_result"
    }
   ],
   "source": [
    "sm.train_temporal_cv_script_model(sage_wallets_config,sage_wallets_modeling_config,cv_s3_uri)"
   ]
  },
  {
   "cell_type": "markdown",
   "metadata": {},
   "source": [
    "## Single Model Sequence"
   ]
  },
  {
   "cell_type": "markdown",
   "metadata": {},
   "source": [
    "### Train Single Model"
   ]
  },
  {
   "cell_type": "markdown",
   "metadata": {},
   "source": [
    "#### retrieve file uris"
   ]
  },
  {
   "cell_type": "code",
   "execution_count": 6,
   "metadata": {},
   "outputs": [
    {
     "name": "stderr",
     "output_type": "stream",
     "text": [
      "\u001b[0m[01/Aug/25 15:11:16] INFO [credentials.load:1352] Found credentials in shared credentials file: ~/.aws/credentials\u001b[0m\n"
     ]
    },
    {
     "data": {
      "text/plain": [
       "{'231008': {'train': 's3://wallet-training-data/training-data-preprocessed/dda-920-nginv-040-dev/231008/train.csv',\n",
       "  'test': 's3://wallet-training-data/training-data-preprocessed/dda-920-nginv-040-dev/231008/test.csv',\n",
       "  'eval': 's3://wallet-training-data/training-data-preprocessed/dda-920-nginv-040-dev/231008/eval.csv',\n",
       "  'val': 's3://wallet-training-data/training-data-preprocessed/dda-920-nginv-040-dev/231008/val.csv'},\n",
       " '231107': {'train': 's3://wallet-training-data/training-data-preprocessed/dda-920-nginv-040-dev/231107/train.csv',\n",
       "  'test': 's3://wallet-training-data/training-data-preprocessed/dda-920-nginv-040-dev/231107/test.csv',\n",
       "  'eval': 's3://wallet-training-data/training-data-preprocessed/dda-920-nginv-040-dev/231107/eval.csv',\n",
       "  'val': 's3://wallet-training-data/training-data-preprocessed/dda-920-nginv-040-dev/231107/val.csv'},\n",
       " '240306': {'train': 's3://wallet-training-data/training-data-preprocessed/dda-920-nginv-040-dev/240306/train.csv',\n",
       "  'test': 's3://wallet-training-data/training-data-preprocessed/dda-920-nginv-040-dev/240306/test.csv',\n",
       "  'eval': 's3://wallet-training-data/training-data-preprocessed/dda-920-nginv-040-dev/240306/eval.csv',\n",
       "  'val': 's3://wallet-training-data/training-data-preprocessed/dda-920-nginv-040-dev/240306/val.csv'},\n",
       " '250301': {'train': 's3://wallet-training-data/training-data-preprocessed/dda-920-nginv-040-dev/250301/train.csv',\n",
       "  'test': 's3://wallet-training-data/training-data-preprocessed/dda-920-nginv-040-dev/250301/test.csv',\n",
       "  'eval': 's3://wallet-training-data/training-data-preprocessed/dda-920-nginv-040-dev/250301/eval.csv',\n",
       "  'val': 's3://wallet-training-data/training-data-preprocessed/dda-920-nginv-040-dev/250301/val.csv'}}"
      ]
     },
     "execution_count": 6,
     "metadata": {},
     "output_type": "execute_result"
    }
   ],
   "source": [
    "[importlib.reload(module) for module in modules]\n",
    "sage_wallets_config = yaml.safe_load(Path('../config/sage_wallets_config.yaml').read_text(encoding='utf-8'))\n",
    "sage_wallets_modeling_config = yaml.safe_load(Path('../config/sage_wallets_modeling_config.yaml').read_text(encoding='utf-8'))\n",
    "\n",
    "workflow_orch = wo.WalletWorkflowOrchestrator(sage_wallets_config,sage_wallets_modeling_config)\n",
    "\n",
    "\n",
    "\n",
    "date_suffixes = [\n",
    "    '231008',\n",
    "    '231107',\n",
    "    '240306',\n",
    "    '250301'\n",
    "]\n",
    "\n",
    "# Generate URIs for specific dates without any prior setup\n",
    "s3_uris = workflow_orch.retrieve_training_data_uris(date_suffixes)\n",
    "s3_uris"
   ]
  },
  {
   "cell_type": "markdown",
   "metadata": {},
   "source": [
    "#### train model"
   ]
  },
  {
   "cell_type": "code",
   "execution_count": 6,
   "metadata": {},
   "outputs": [],
   "source": [
    "[importlib.reload(module) for module in modules]\n",
    "sage_wallets_config = yaml.safe_load(Path('../config/sage_wallets_config.yaml').read_text(encoding='utf-8'))\n",
    "sage_wallets_modeling_config = yaml.safe_load(Path('../config/sage_wallets_modeling_config.yaml').read_text(encoding='utf-8'))\n",
    "\n",
    "date_suffix = '231008'\n",
    "\n",
    "modeler = wm.WalletModeler(\n",
    "    sage_wallets_config,\n",
    "    sage_wallets_modeling_config,\n",
    "    date_suffix,\n",
    "    s3_uris\n",
    ")\n",
    "\n"
   ]
  },
  {
   "cell_type": "code",
   "execution_count": 7,
   "metadata": {},
   "outputs": [
    {
     "name": "stderr",
     "output_type": "stream",
     "text": [
      "\u001b[93m[01/Aug/25 13:03:09] WARNING [wallet_script_modeler.launch_script_mode_job:93] Ignoring unsupported hyperparameters for script-mode: {'colsample_bytree'}\u001b[0m\n",
      "\u001b[0m[01/Aug/25 13:03:09] INFO [image_uris._validate_py_version_and_set_if_needed:603] Ignoring unnecessary Python version: py3.\u001b[0m\n",
      "\u001b[0m[01/Aug/25 13:03:09] INFO [image_uris._processor:530] Ignoring unnecessary instance type: ml.m5.large.\u001b[0m\n",
      "\u001b[0m[01/Aug/25 13:03:09] INFO [wallet_script_modeler.launch_script_mode_job:111] Launching script-mode training job: wallet-script-dda-920-nginv-040-231008-20250801-130309\u001b[0m\n",
      "\u001b[0m[01/Aug/25 13:03:09] INFO [telemetry_logging.wrapper:92] SageMaker Python SDK will collect telemetry to help us better understand our user's needs, diagnose issues, and deliver additional features.\n",
      "To opt out of telemetry, please disable via TelemetryOptOut parameter in SDK defaults config. For more information, refer to https://sagemaker.readthedocs.io/en/stable/overview.html#configuring-and-using-defaults-with-the-sagemaker-python-sdk.\u001b[0m\n",
      "\u001b[0m[01/Aug/25 13:03:09] INFO [session.submit:1053] Creating training-job with name: wallet-script-dda-920-nginv-040-231008-20250801-130309\u001b[0m\n"
     ]
    },
    {
     "name": "stdout",
     "output_type": "stream",
     "text": [
      "2025-08-01 20:03:10 Starting - Starting the training job...\n",
      "2025-08-01 20:03:30 Starting - Preparing the instances for training...\n",
      "2025-08-01 20:03:52 Downloading - Downloading input data...\n",
      "2025-08-01 20:04:37 Downloading - Downloading the training image......\n",
      "2025-08-01 20:05:48 Training - Training image download completed. Training in progress.\n",
      "2025-08-01 20:05:48 Uploading - Uploading generated training model./miniconda3/lib/python3.9/site-packages/sagemaker_containers/_server.py:22: UserWarning: pkg_resources is deprecated as an API. See https://setuptools.pypa.io/en/latest/pkg_resources.html. The pkg_resources package is slated for removal as early as 2025-11-30. Refrain from using this package or pin to Setuptools<81.\n",
      "  import pkg_resources\n",
      "[2025-08-01 20:05:42.958 ip-10-2-71-74.us-west-2.compute.internal:7 INFO utils.py:28] RULE_JOB_STOP_SIGNAL_FILENAME: None\n",
      "[2025-08-01 20:05:42.985 ip-10-2-71-74.us-west-2.compute.internal:7 INFO profiler_config_parser.py:111] User has disabled profiler.\n",
      "[2025-08-01:20:05:43:INFO] Imported framework sagemaker_xgboost_container.training\n",
      "[2025-08-01:20:05:43:INFO] No GPUs detected (normal if no gpus installed)\n",
      "[2025-08-01:20:05:43:INFO] Invoking user training script.\n",
      "[2025-08-01:20:05:43:INFO] Module script_mode_modeler does not provide a setup.py. \n",
      "Generating setup.py\n",
      "[2025-08-01:20:05:43:INFO] Generating setup.cfg\n",
      "[2025-08-01:20:05:43:INFO] Generating MANIFEST.in\n",
      "[2025-08-01:20:05:43:INFO] Installing module with the following command:\n",
      "/miniconda3/bin/python3 -m pip install . \n",
      "Processing /opt/ml/code\n",
      "  Preparing metadata (setup.py): started\n",
      "  Preparing metadata (setup.py): finished with status 'done'\n",
      "Building wheels for collected packages: script_mode_modeler\n",
      "  DEPRECATION: Building 'script_mode_modeler' using the legacy setup.py bdist_wheel mechanism, which will be removed in a future version. pip 25.3 will enforce this behaviour change. A possible replacement is to use the standardized build interface by setting the `--use-pep517` option, (possibly combined with `--no-build-isolation`), or adding a `pyproject.toml` file to the source tree of 'script_mode_modeler'. Discussion can be found at https://github.com/pypa/pip/issues/6334\n",
      "  Building wheel for script_mode_modeler (setup.py): started\n",
      "  Building wheel for script_mode_modeler (setup.py): finished with status 'done'\n",
      "  Created wheel for script_mode_modeler: filename=script_mode_modeler-1.0.0-py2.py3-none-any.whl size=7324 sha256=52185d7b07fcac415ff873503316fa2ffaeba01ecece0c009d3a6a870385db76\n",
      "  Stored in directory: /home/model-server/tmp/pip-ephem-wheel-cache-_x40xvk1/wheels/40/03/3a/5f39818cea87b3c154b54d046a775b3da4b8ed9b642b8d50e6\n",
      "Successfully built script_mode_modeler\n",
      "Installing collected packages: script_mode_modeler\n",
      "Successfully installed script_mode_modeler-1.0.0\n",
      "WARNING: Running pip as the 'root' user can result in broken permissions and conflicting behaviour with the system package manager, possibly rendering your system unusable. It is recommended to use a virtual environment instead: https://pip.pypa.io/warnings/venv. Use the --root-user-action option if you know what you are doing and want to suppress this warning.\n",
      "[notice] A new release of pip is available: 25.1.1 -> 25.2\n",
      "[notice] To update, run: pip install --upgrade pip\n",
      "[2025-08-01:20:05:44:INFO] No GPUs detected (normal if no gpus installed)\n",
      "[2025-08-01:20:05:44:INFO] Invoking user script\n",
      "Training Env:\n",
      "{\n",
      "    \"additional_framework_parameters\": {},\n",
      "    \"channel_input_dirs\": {\n",
      "        \"train\": \"/opt/ml/input/data/train\",\n",
      "        \"validation\": \"/opt/ml/input/data/validation\"\n",
      "    },\n",
      "    \"current_host\": \"algo-1\",\n",
      "    \"framework_module\": \"sagemaker_xgboost_container.training:main\",\n",
      "    \"hosts\": [\n",
      "        \"algo-1\"\n",
      "    ],\n",
      "    \"hyperparameters\": {\n",
      "        \"early_stopping_rounds\": 10,\n",
      "        \"eta\": 0.3,\n",
      "        \"max_depth\": 6,\n",
      "        \"num_boost_round\": 100,\n",
      "        \"subsample\": 0.8\n",
      "    },\n",
      "    \"input_config_dir\": \"/opt/ml/input/config\",\n",
      "    \"input_data_config\": {\n",
      "        \"train\": {\n",
      "            \"ContentType\": \"text/csv\",\n",
      "            \"TrainingInputMode\": \"File\",\n",
      "            \"S3DistributionType\": \"FullyReplicated\",\n",
      "            \"RecordWrapperType\": \"None\"\n",
      "        },\n",
      "        \"validation\": {\n",
      "            \"ContentType\": \"text/csv\",\n",
      "            \"TrainingInputMode\": \"File\",\n",
      "            \"S3DistributionType\": \"FullyReplicated\",\n",
      "            \"RecordWrapperType\": \"None\"\n",
      "        }\n",
      "    },\n",
      "    \"input_dir\": \"/opt/ml/input\",\n",
      "    \"is_master\": true,\n",
      "    \"job_name\": \"wallet-script-dda-920-nginv-040-231008-20250801-130309\",\n",
      "    \"log_level\": 20,\n",
      "    \"master_hostname\": \"algo-1\",\n",
      "    \"model_dir\": \"/opt/ml/model\",\n",
      "    \"module_dir\": \"s3://wallet-script-models/wallet-script-dda-920-nginv-040-231008-20250801-130309/source/sourcedir.tar.gz\",\n",
      "    \"module_name\": \"script_mode_modeler\",\n",
      "    \"network_interface_name\": \"eth0\",\n",
      "    \"num_cpus\": 2,\n",
      "    \"num_gpus\": 0,\n",
      "    \"output_data_dir\": \"/opt/ml/output/data\",\n",
      "    \"output_dir\": \"/opt/ml/output\",\n",
      "    \"output_intermediate_dir\": \"/opt/ml/output/intermediate\",\n",
      "    \"resource_config\": {\n",
      "        \"current_host\": \"algo-1\",\n",
      "        \"current_instance_type\": \"ml.m5.large\",\n",
      "        \"current_group_name\": \"homogeneousCluster\",\n",
      "        \"hosts\": [\n",
      "            \"algo-1\"\n",
      "        ],\n",
      "        \"instance_groups\": [\n",
      "            {\n",
      "                \"instance_group_name\": \"homogeneousCluster\",\n",
      "                \"instance_type\": \"ml.m5.large\",\n",
      "                \"hosts\": [\n",
      "                    \"algo-1\"\n",
      "                ]\n",
      "            }\n",
      "        ],\n",
      "        \"network_interface_name\": \"eth0\",\n",
      "        \"topology\": null\n",
      "    },\n",
      "    \"user_entry_point\": \"script_mode_modeler.py\"\n",
      "}\n",
      "Environment variables:\n",
      "SM_HOSTS=[\"algo-1\"]\n",
      "SM_NETWORK_INTERFACE_NAME=eth0\n",
      "SM_HPS={\"early_stopping_rounds\":10,\"eta\":0.3,\"max_depth\":6,\"num_boost_round\":100,\"subsample\":0.8}\n",
      "SM_USER_ENTRY_POINT=script_mode_modeler.py\n",
      "SM_FRAMEWORK_PARAMS={}\n",
      "SM_RESOURCE_CONFIG={\"current_group_name\":\"homogeneousCluster\",\"current_host\":\"algo-1\",\"current_instance_type\":\"ml.m5.large\",\"hosts\":[\"algo-1\"],\"instance_groups\":[{\"hosts\":[\"algo-1\"],\"instance_group_name\":\"homogeneousCluster\",\"instance_type\":\"ml.m5.large\"}],\"network_interface_name\":\"eth0\",\"topology\":null}\n",
      "SM_INPUT_DATA_CONFIG={\"train\":{\"ContentType\":\"text/csv\",\"RecordWrapperType\":\"None\",\"S3DistributionType\":\"FullyReplicated\",\"TrainingInputMode\":\"File\"},\"validation\":{\"ContentType\":\"text/csv\",\"RecordWrapperType\":\"None\",\"S3DistributionType\":\"FullyReplicated\",\"TrainingInputMode\":\"File\"}}\n",
      "SM_OUTPUT_DATA_DIR=/opt/ml/output/data\n",
      "SM_CHANNELS=[\"train\",\"validation\"]\n",
      "SM_CURRENT_HOST=algo-1\n",
      "SM_MODULE_NAME=script_mode_modeler\n",
      "SM_LOG_LEVEL=20\n",
      "SM_FRAMEWORK_MODULE=sagemaker_xgboost_container.training:main\n",
      "SM_INPUT_DIR=/opt/ml/input\n",
      "SM_INPUT_CONFIG_DIR=/opt/ml/input/config\n",
      "SM_OUTPUT_DIR=/opt/ml/output\n",
      "SM_NUM_CPUS=2\n",
      "SM_NUM_GPUS=0\n",
      "SM_MODEL_DIR=/opt/ml/model\n",
      "SM_MODULE_DIR=s3://wallet-script-models/wallet-script-dda-920-nginv-040-231008-20250801-130309/source/sourcedir.tar.gz\n",
      "SM_TRAINING_ENV={\"additional_framework_parameters\":{},\"channel_input_dirs\":{\"train\":\"/opt/ml/input/data/train\",\"validation\":\"/opt/ml/input/data/validation\"},\"current_host\":\"algo-1\",\"framework_module\":\"sagemaker_xgboost_container.training:main\",\"hosts\":[\"algo-1\"],\"hyperparameters\":{\"early_stopping_rounds\":10,\"eta\":0.3,\"max_depth\":6,\"num_boost_round\":100,\"subsample\":0.8},\"input_config_dir\":\"/opt/ml/input/config\",\"input_data_config\":{\"train\":{\"ContentType\":\"text/csv\",\"RecordWrapperType\":\"None\",\"S3DistributionType\":\"FullyReplicated\",\"TrainingInputMode\":\"File\"},\"validation\":{\"ContentType\":\"text/csv\",\"RecordWrapperType\":\"None\",\"S3DistributionType\":\"FullyReplicated\",\"TrainingInputMode\":\"File\"}},\"input_dir\":\"/opt/ml/input\",\"is_master\":true,\"job_name\":\"wallet-script-dda-920-nginv-040-231008-20250801-130309\",\"log_level\":20,\"master_hostname\":\"algo-1\",\"model_dir\":\"/opt/ml/model\",\"module_dir\":\"s3://wallet-script-models/wallet-script-dda-920-nginv-040-231008-20250801-130309/source/sourcedir.tar.gz\",\"module_name\":\"script_mode_modeler\",\"network_interface_name\":\"eth0\",\"num_cpus\":2,\"num_gpus\":0,\"output_data_dir\":\"/opt/ml/output/data\",\"output_dir\":\"/opt/ml/output\",\"output_intermediate_dir\":\"/opt/ml/output/intermediate\",\"resource_config\":{\"current_group_name\":\"homogeneousCluster\",\"current_host\":\"algo-1\",\"current_instance_type\":\"ml.m5.large\",\"hosts\":[\"algo-1\"],\"instance_groups\":[{\"hosts\":[\"algo-1\"],\"instance_group_name\":\"homogeneousCluster\",\"instance_type\":\"ml.m5.large\"}],\"network_interface_name\":\"eth0\",\"topology\":null},\"user_entry_point\":\"script_mode_modeler.py\"}\n",
      "SM_USER_ARGS=[\"--early_stopping_rounds\",\"10\",\"--eta\",\"0.3\",\"--max_depth\",\"6\",\"--num_boost_round\",\"100\",\"--subsample\",\"0.8\"]\n",
      "SM_OUTPUT_INTERMEDIATE_DIR=/opt/ml/output/intermediate\n",
      "SM_CHANNEL_TRAIN=/opt/ml/input/data/train\n",
      "SM_CHANNEL_VALIDATION=/opt/ml/input/data/validation\n",
      "SM_HP_EARLY_STOPPING_ROUNDS=10\n",
      "SM_HP_ETA=0.3\n",
      "SM_HP_MAX_DEPTH=6\n",
      "SM_HP_NUM_BOOST_ROUND=100\n",
      "SM_HP_SUBSAMPLE=0.8\n",
      "PYTHONPATH=/miniconda3/bin:/:/miniconda3/lib/python/site-packages/xgboost/dmlc-core/tracker:/miniconda3/lib/python39.zip:/miniconda3/lib/python3.9:/miniconda3/lib/python3.9/lib-dynload:/miniconda3/lib/python3.9/site-packages:/miniconda3/lib/python3.9/site-packages/setuptools/_vendor\n",
      "Invoking script with the following command:\n",
      "/miniconda3/bin/python3 -m script_mode_modeler --early_stopping_rounds 10 --eta 0.3 --max_depth 6 --num_boost_round 100 --subsample 0.8\n",
      "/miniconda3/lib/python3.9/site-packages/sklearn/utils/fixes.py:28: UserWarning: pkg_resources is deprecated as an API. See https://setuptools.pypa.io/en/latest/pkg_resources.html. The pkg_resources package is slated for removal as early as 2025-11-30. Refrain from using this package or pin to Setuptools<81.\n",
      "  from pkg_resources import parse_version  # type: ignore\n",
      "Train files: ['train.csv']\n",
      "Validation files: ['eval.csv']\n",
      "validation:cv_auc_pr=0.579837\n",
      "\n",
      "2025-08-01 20:06:02 Completed - Training job completed\n",
      "Training seconds: 130\n",
      "Billable seconds: 130\n"
     ]
    },
    {
     "name": "stderr",
     "output_type": "stream",
     "text": [
      "\u001b[0m[01/Aug/25 13:06:34] INFO [wallet_script_modeler.launch_script_mode_job:119] Script-mode training completed. Model URI: s3://wallet-script-models/model-outputs/dda-920-nginv-040/231008/wallet-script-dda-920-nginv-040-231008-20250801-130309/output/model.tar.gz\u001b[0m\n"
     ]
    }
   ],
   "source": [
    "modeling_results = modeler.train_model()"
   ]
  },
  {
   "cell_type": "markdown",
   "metadata": {},
   "source": [
    "### Score validation set"
   ]
  },
  {
   "cell_type": "markdown",
   "metadata": {},
   "source": [
    "#### get existing model uri"
   ]
  },
  {
   "cell_type": "code",
   "execution_count": null,
   "metadata": {},
   "outputs": [],
   "source": [
    "[importlib.reload(module) for module in modules]\n",
    "sage_wallets_config = yaml.safe_load(Path('../config/sage_wallets_config.yaml').read_text(encoding='utf-8'))\n",
    "sage_wallets_modeling_config = yaml.safe_load(Path('../config/sage_wallets_modeling_config.yaml').read_text(encoding='utf-8'))\n",
    "\n",
    "\n",
    "\n",
    "date_suffix = '231008'\n",
    "\n",
    "# Generate URIs for specific dates without any prior setup\n",
    "workflow_orch = wo.WalletWorkflowOrchestrator(sage_wallets_config,sage_wallets_modeling_config)\n",
    "s3_uris = workflow_orch.retrieve_training_data_uris([date_suffix])\n",
    "\n",
    "# Launch modeler\n",
    "modeler = wm.WalletModeler(\n",
    "    sage_wallets_config,\n",
    "    sage_wallets_modeling_config,\n",
    "    date_suffix,\n",
    "    s3_uris\n",
    ")\n",
    "\n",
    "\n",
    "model_metadata = modeler.load_existing_model()"
   ]
  },
  {
   "cell_type": "markdown",
   "metadata": {},
   "source": [
    "#### predict with batch transform"
   ]
  },
  {
   "cell_type": "code",
   "execution_count": null,
   "metadata": {},
   "outputs": [],
   "source": [
    "transform_results = modeler.predict_with_batch_transform('val')"
   ]
  },
  {
   "cell_type": "code",
   "execution_count": null,
   "metadata": {},
   "outputs": [],
   "source": [
    "transform_results = modeler.predict_with_batch_transform('test')"
   ]
  },
  {
   "cell_type": "markdown",
   "metadata": {},
   "source": [
    "### Predict Using Endpoints"
   ]
  },
  {
   "cell_type": "markdown",
   "metadata": {},
   "source": [
    "#### deploy endpoint for predictions"
   ]
  },
  {
   "cell_type": "code",
   "execution_count": null,
   "metadata": {},
   "outputs": [],
   "source": [
    "modeler.list_active_endpoints()"
   ]
  },
  {
   "cell_type": "code",
   "execution_count": null,
   "metadata": {},
   "outputs": [],
   "source": [
    "modeler.deploy_endpoint()"
   ]
  },
  {
   "cell_type": "markdown",
   "metadata": {},
   "source": [
    "#### load and preprocess test/val dfs"
   ]
  },
  {
   "cell_type": "code",
   "execution_count": null,
   "metadata": {},
   "outputs": [],
   "source": [
    "x_test = pd.read_parquet(\n",
    "    Path(\"../s3_uploads/wallet_training_data_queue\") /\n",
    "    sage_wallets_config['training_data']['local_directory'] /\n",
    "    f\"x_test_{date_suffix}.parquet\"\n",
    ")\n",
    "x_val = pd.read_parquet(\n",
    "    Path(\"../s3_uploads/wallet_training_data_queue\") /\n",
    "    sage_wallets_config['training_data']['local_directory'] /\n",
    "    f\"x_val_{date_suffix}.parquet\"\n",
    ")\n",
    "\n",
    "\n"
   ]
  },
  {
   "cell_type": "code",
   "execution_count": null,
   "metadata": {},
   "outputs": [],
   "source": [
    "preprocessor = SageWalletsPreprocessor(sage_wallets_config)\n",
    "x_test_processed = preprocessor.preprocess_x_df(x_test)\n",
    "x_val_processed = preprocessor.preprocess_x_df(x_val)\n",
    "\n",
    "logger.info(f\"Preprocessed X_test {x_test_processed.shape} and \"\n",
    "            f\"X_val {x_val_processed.shape}.\")"
   ]
  },
  {
   "cell_type": "markdown",
   "metadata": {},
   "source": [
    "#### predict"
   ]
  },
  {
   "cell_type": "code",
   "execution_count": null,
   "metadata": {},
   "outputs": [],
   "source": [
    "y_test_pred = modeler.predict_using_endpoint(x_test_processed, 'test')\n",
    "y_val_pred = modeler.predict_using_endpoint(x_val_processed, 'val')"
   ]
  },
  {
   "cell_type": "markdown",
   "metadata": {},
   "source": [
    "#### delete all endpoints"
   ]
  },
  {
   "cell_type": "code",
   "execution_count": null,
   "metadata": {},
   "outputs": [],
   "source": [
    "modeler.delete_all_endpoints()"
   ]
  },
  {
   "cell_type": "code",
   "execution_count": null,
   "metadata": {},
   "outputs": [],
   "source": [
    "modeler.list_active_endpoints()\n",
    "modeler.list_all_endpoints()"
   ]
  },
  {
   "cell_type": "markdown",
   "metadata": {},
   "source": [
    "## Script model training"
   ]
  },
  {
   "cell_type": "code",
   "execution_count": 12,
   "metadata": {},
   "outputs": [
    {
     "name": "stderr",
     "output_type": "stream",
     "text": [
      "\u001b[92m[01/Aug/25 15:40:31] MILESTONE [workflow_orchestrator.load_all_training_data:123] <DEV> Loading training data for 4 periods: ['231008', '231107', '240306', '250301']\u001b[0m\n",
      "\u001b[0m[01/Aug/25 15:40:32] INFO [workflow_orchestrator.load_all_training_data:139] Training data loaded successfully: 32,000 total rows and 9 offsets for each date_suffix.\u001b[0m\n"
     ]
    }
   ],
   "source": [
    "[importlib.reload(module) for module in modules]\n",
    "sage_wallets_config = yaml.safe_load(Path('../config/sage_wallets_config.yaml').read_text(encoding='utf-8'))\n",
    "sage_wallets_modeling_config = yaml.safe_load(Path('../config/sage_wallets_modeling_config.yaml').read_text(encoding='utf-8'))\n",
    "\n",
    "\n",
    "date_suffixes = [\n",
    "    '231008',\n",
    "    '231107',\n",
    "    '240306',\n",
    "    '250301'\n",
    "]\n",
    "\n",
    "date_suffix = '231008'\n",
    "\n",
    "\n",
    "workflow_orch = wo.WalletWorkflowOrchestrator(sage_wallets_config,sage_wallets_modeling_config)\n",
    "workflow_orch.load_all_training_data(date_suffixes)\n",
    "s3_uris = workflow_orch.retrieve_training_data_uris(date_suffixes)"
   ]
  },
  {
   "cell_type": "code",
   "execution_count": 13,
   "metadata": {},
   "outputs": [],
   "source": [
    "[importlib.reload(module) for module in modules]\n",
    "sage_wallets_config = yaml.safe_load(Path('../config/sage_wallets_config.yaml').read_text(encoding='utf-8'))\n",
    "sage_wallets_modeling_config = yaml.safe_load(Path('../config/sage_wallets_modeling_config.yaml').read_text(encoding='utf-8'))\n",
    "\n",
    "date_suffix = '231008'\n",
    "\n",
    "modeler = wm.WalletModeler(\n",
    "    sage_wallets_config,\n",
    "    sage_wallets_modeling_config,\n",
    "    date_suffix,\n",
    "    s3_uris\n",
    ")\n",
    "\n"
   ]
  },
  {
   "cell_type": "code",
   "execution_count": 14,
   "metadata": {},
   "outputs": [
    {
     "name": "stderr",
     "output_type": "stream",
     "text": [
      "\u001b[93m[01/Aug/25 15:40:34] WARNING [wallet_script_modeler._prepare_hyperparameters:38] Ignoring unsupported hyperparameters: {'colsample_bytree'}\u001b[0m\n",
      "\u001b[0m[01/Aug/25 15:40:34] INFO [image_uris._validate_py_version_and_set_if_needed:603] Ignoring unnecessary Python version: py3.\u001b[0m\n",
      "\u001b[0m[01/Aug/25 15:40:34] INFO [image_uris._processor:530] Ignoring unnecessary instance type: ml.m5.large.\u001b[0m\n",
      "\u001b[0m[01/Aug/25 15:40:34] INFO [wallet_script_modeler.train_single_period_script_model:121] Launching script-mode training job: wallet-script-dda-920-nginv-040-231008-20250801-154034\u001b[0m\n",
      "\u001b[0m[01/Aug/25 15:40:34] INFO [telemetry_logging.wrapper:92] SageMaker Python SDK will collect telemetry to help us better understand our user's needs, diagnose issues, and deliver additional features.\n",
      "To opt out of telemetry, please disable via TelemetryOptOut parameter in SDK defaults config. For more information, refer to https://sagemaker.readthedocs.io/en/stable/overview.html#configuring-and-using-defaults-with-the-sagemaker-python-sdk.\u001b[0m\n",
      "\u001b[0m[01/Aug/25 15:40:35] INFO [session.submit:1053] Creating training-job with name: wallet-script-dda-920-nginv-040-231008-20250801-154034\u001b[0m\n"
     ]
    },
    {
     "name": "stdout",
     "output_type": "stream",
     "text": [
      "2025-08-01 22:40:36 Starting - Starting the training job...\n",
      "2025-08-01 22:40:50 Starting - Preparing the instances for training...\n",
      "2025-08-01 22:41:12 Downloading - Downloading input data...\n",
      "2025-08-01 22:41:54 Downloading - Downloading the training image......\n",
      "2025-08-01 22:43:11 Training - Training image download completed. Training in progress.\n",
      "2025-08-01 22:43:11 Uploading - Uploading generated training model/miniconda3/lib/python3.9/site-packages/sagemaker_containers/_server.py:22: UserWarning: pkg_resources is deprecated as an API. See https://setuptools.pypa.io/en/latest/pkg_resources.html. The pkg_resources package is slated for removal as early as 2025-11-30. Refrain from using this package or pin to Setuptools<81.\n",
      "  import pkg_resources\n",
      "[2025-08-01 22:43:02.619 ip-10-0-171-217.us-west-2.compute.internal:7 INFO utils.py:28] RULE_JOB_STOP_SIGNAL_FILENAME: None\n",
      "[2025-08-01 22:43:02.643 ip-10-0-171-217.us-west-2.compute.internal:7 INFO profiler_config_parser.py:111] User has disabled profiler.\n",
      "[2025-08-01:22:43:03:INFO] Imported framework sagemaker_xgboost_container.training\n",
      "[2025-08-01:22:43:03:INFO] No GPUs detected (normal if no gpus installed)\n",
      "[2025-08-01:22:43:03:INFO] Invoking user training script.\n",
      "[2025-08-01:22:43:03:INFO] Module single_model_entry does not provide a setup.py. \n",
      "Generating setup.py\n",
      "[2025-08-01:22:43:03:INFO] Generating setup.cfg\n",
      "[2025-08-01:22:43:03:INFO] Generating MANIFEST.in\n",
      "[2025-08-01:22:43:03:INFO] Installing module with the following command:\n",
      "/miniconda3/bin/python3 -m pip install . \n",
      "Processing /opt/ml/code\n",
      "  Preparing metadata (setup.py): started\n",
      "  Preparing metadata (setup.py): finished with status 'done'\n",
      "Building wheels for collected packages: single_model_entry\n",
      "  DEPRECATION: Building 'single_model_entry' using the legacy setup.py bdist_wheel mechanism, which will be removed in a future version. pip 25.3 will enforce this behaviour change. A possible replacement is to use the standardized build interface by setting the `--use-pep517` option, (possibly combined with `--no-build-isolation`), or adding a `pyproject.toml` file to the source tree of 'single_model_entry'. Discussion can be found at https://github.com/pypa/pip/issues/6334\n",
      "  Building wheel for single_model_entry (setup.py): started\n",
      "  Building wheel for single_model_entry (setup.py): finished with status 'done'\n",
      "  Created wheel for single_model_entry: filename=single_model_entry-1.0.0-py2.py3-none-any.whl size=11935 sha256=2e661e3eed89e9925a8a5b946304ef3fbb7200cdfe98df6f1a3108d8e406c647\n",
      "  Stored in directory: /home/model-server/tmp/pip-ephem-wheel-cache-72goshe6/wheels/40/03/3a/5f39818cea87b3c154b54d046a775b3da4b8ed9b642b8d50e6\n",
      "Successfully built single_model_entry\n",
      "Installing collected packages: single_model_entry\n",
      "Successfully installed single_model_entry-1.0.0\n",
      "WARNING: Running pip as the 'root' user can result in broken permissions and conflicting behaviour with the system package manager, possibly rendering your system unusable. It is recommended to use a virtual environment instead: https://pip.pypa.io/warnings/venv. Use the --root-user-action option if you know what you are doing and want to suppress this warning.\n",
      "[notice] A new release of pip is available: 25.1.1 -> 25.2\n",
      "[notice] To update, run: pip install --upgrade pip\n",
      "[2025-08-01:22:43:04:INFO] No GPUs detected (normal if no gpus installed)\n",
      "[2025-08-01:22:43:04:INFO] Invoking user script\n",
      "Training Env:\n",
      "{\n",
      "    \"additional_framework_parameters\": {},\n",
      "    \"channel_input_dirs\": {\n",
      "        \"train\": \"/opt/ml/input/data/train\",\n",
      "        \"validation\": \"/opt/ml/input/data/validation\"\n",
      "    },\n",
      "    \"current_host\": \"algo-1\",\n",
      "    \"framework_module\": \"sagemaker_xgboost_container.training:main\",\n",
      "    \"hosts\": [\n",
      "        \"algo-1\"\n",
      "    ],\n",
      "    \"hyperparameters\": {\n",
      "        \"early_stopping_rounds\": 10,\n",
      "        \"eta\": 0.3,\n",
      "        \"max_depth\": 6,\n",
      "        \"num_boost_round\": 100,\n",
      "        \"subsample\": 0.8\n",
      "    },\n",
      "    \"input_config_dir\": \"/opt/ml/input/config\",\n",
      "    \"input_data_config\": {\n",
      "        \"train\": {\n",
      "            \"ContentType\": \"text/csv\",\n",
      "            \"TrainingInputMode\": \"File\",\n",
      "            \"S3DistributionType\": \"FullyReplicated\",\n",
      "            \"RecordWrapperType\": \"None\"\n",
      "        },\n",
      "        \"validation\": {\n",
      "            \"ContentType\": \"text/csv\",\n",
      "            \"TrainingInputMode\": \"File\",\n",
      "            \"S3DistributionType\": \"FullyReplicated\",\n",
      "            \"RecordWrapperType\": \"None\"\n",
      "        }\n",
      "    },\n",
      "    \"input_dir\": \"/opt/ml/input\",\n",
      "    \"is_master\": true,\n",
      "    \"job_name\": \"wallet-script-dda-920-nginv-040-231008-20250801-154034\",\n",
      "    \"log_level\": 20,\n",
      "    \"master_hostname\": \"algo-1\",\n",
      "    \"model_dir\": \"/opt/ml/model\",\n",
      "    \"module_dir\": \"s3://wallet-script-models/wallet-script-dda-920-nginv-040-231008-20250801-154034/source/sourcedir.tar.gz\",\n",
      "    \"module_name\": \"single_model_entry\",\n",
      "    \"network_interface_name\": \"eth0\",\n",
      "    \"num_cpus\": 2,\n",
      "    \"num_gpus\": 0,\n",
      "    \"output_data_dir\": \"/opt/ml/output/data\",\n",
      "    \"output_dir\": \"/opt/ml/output\",\n",
      "    \"output_intermediate_dir\": \"/opt/ml/output/intermediate\",\n",
      "    \"resource_config\": {\n",
      "        \"current_host\": \"algo-1\",\n",
      "        \"current_instance_type\": \"ml.m5.large\",\n",
      "        \"current_group_name\": \"homogeneousCluster\",\n",
      "        \"hosts\": [\n",
      "            \"algo-1\"\n",
      "        ],\n",
      "        \"instance_groups\": [\n",
      "            {\n",
      "                \"instance_group_name\": \"homogeneousCluster\",\n",
      "                \"instance_type\": \"ml.m5.large\",\n",
      "                \"hosts\": [\n",
      "                    \"algo-1\"\n",
      "                ]\n",
      "            }\n",
      "        ],\n",
      "        \"network_interface_name\": \"eth0\",\n",
      "        \"topology\": null\n",
      "    },\n",
      "    \"user_entry_point\": \"single_model_entry.py\"\n",
      "}\n",
      "Environment variables:\n",
      "SM_HOSTS=[\"algo-1\"]\n",
      "SM_NETWORK_INTERFACE_NAME=eth0\n",
      "SM_HPS={\"early_stopping_rounds\":10,\"eta\":0.3,\"max_depth\":6,\"num_boost_round\":100,\"subsample\":0.8}\n",
      "SM_USER_ENTRY_POINT=single_model_entry.py\n",
      "SM_FRAMEWORK_PARAMS={}\n",
      "SM_RESOURCE_CONFIG={\"current_group_name\":\"homogeneousCluster\",\"current_host\":\"algo-1\",\"current_instance_type\":\"ml.m5.large\",\"hosts\":[\"algo-1\"],\"instance_groups\":[{\"hosts\":[\"algo-1\"],\"instance_group_name\":\"homogeneousCluster\",\"instance_type\":\"ml.m5.large\"}],\"network_interface_name\":\"eth0\",\"topology\":null}\n",
      "SM_INPUT_DATA_CONFIG={\"train\":{\"ContentType\":\"text/csv\",\"RecordWrapperType\":\"None\",\"S3DistributionType\":\"FullyReplicated\",\"TrainingInputMode\":\"File\"},\"validation\":{\"ContentType\":\"text/csv\",\"RecordWrapperType\":\"None\",\"S3DistributionType\":\"FullyReplicated\",\"TrainingInputMode\":\"File\"}}\n",
      "SM_OUTPUT_DATA_DIR=/opt/ml/output/data\n",
      "SM_CHANNELS=[\"train\",\"validation\"]\n",
      "SM_CURRENT_HOST=algo-1\n",
      "SM_MODULE_NAME=single_model_entry\n",
      "SM_LOG_LEVEL=20\n",
      "SM_FRAMEWORK_MODULE=sagemaker_xgboost_container.training:main\n",
      "SM_INPUT_DIR=/opt/ml/input\n",
      "SM_INPUT_CONFIG_DIR=/opt/ml/input/config\n",
      "SM_OUTPUT_DIR=/opt/ml/output\n",
      "SM_NUM_CPUS=2\n",
      "SM_NUM_GPUS=0\n",
      "SM_MODEL_DIR=/opt/ml/model\n",
      "SM_MODULE_DIR=s3://wallet-script-models/wallet-script-dda-920-nginv-040-231008-20250801-154034/source/sourcedir.tar.gz\n",
      "SM_TRAINING_ENV={\"additional_framework_parameters\":{},\"channel_input_dirs\":{\"train\":\"/opt/ml/input/data/train\",\"validation\":\"/opt/ml/input/data/validation\"},\"current_host\":\"algo-1\",\"framework_module\":\"sagemaker_xgboost_container.training:main\",\"hosts\":[\"algo-1\"],\"hyperparameters\":{\"early_stopping_rounds\":10,\"eta\":0.3,\"max_depth\":6,\"num_boost_round\":100,\"subsample\":0.8},\"input_config_dir\":\"/opt/ml/input/config\",\"input_data_config\":{\"train\":{\"ContentType\":\"text/csv\",\"RecordWrapperType\":\"None\",\"S3DistributionType\":\"FullyReplicated\",\"TrainingInputMode\":\"File\"},\"validation\":{\"ContentType\":\"text/csv\",\"RecordWrapperType\":\"None\",\"S3DistributionType\":\"FullyReplicated\",\"TrainingInputMode\":\"File\"}},\"input_dir\":\"/opt/ml/input\",\"is_master\":true,\"job_name\":\"wallet-script-dda-920-nginv-040-231008-20250801-154034\",\"log_level\":20,\"master_hostname\":\"algo-1\",\"model_dir\":\"/opt/ml/model\",\"module_dir\":\"s3://wallet-script-models/wallet-script-dda-920-nginv-040-231008-20250801-154034/source/sourcedir.tar.gz\",\"module_name\":\"single_model_entry\",\"network_interface_name\":\"eth0\",\"num_cpus\":2,\"num_gpus\":0,\"output_data_dir\":\"/opt/ml/output/data\",\"output_dir\":\"/opt/ml/output\",\"output_intermediate_dir\":\"/opt/ml/output/intermediate\",\"resource_config\":{\"current_group_name\":\"homogeneousCluster\",\"current_host\":\"algo-1\",\"current_instance_type\":\"ml.m5.large\",\"hosts\":[\"algo-1\"],\"instance_groups\":[{\"hosts\":[\"algo-1\"],\"instance_group_name\":\"homogeneousCluster\",\"instance_type\":\"ml.m5.large\"}],\"network_interface_name\":\"eth0\",\"topology\":null},\"user_entry_point\":\"single_model_entry.py\"}\n",
      "SM_USER_ARGS=[\"--early_stopping_rounds\",\"10\",\"--eta\",\"0.3\",\"--max_depth\",\"6\",\"--num_boost_round\",\"100\",\"--subsample\",\"0.8\"]\n",
      "SM_OUTPUT_INTERMEDIATE_DIR=/opt/ml/output/intermediate\n",
      "SM_CHANNEL_TRAIN=/opt/ml/input/data/train\n",
      "SM_CHANNEL_VALIDATION=/opt/ml/input/data/validation\n",
      "SM_HP_EARLY_STOPPING_ROUNDS=10\n",
      "SM_HP_ETA=0.3\n",
      "SM_HP_MAX_DEPTH=6\n",
      "SM_HP_NUM_BOOST_ROUND=100\n",
      "SM_HP_SUBSAMPLE=0.8\n",
      "PYTHONPATH=/miniconda3/bin:/:/miniconda3/lib/python/site-packages/xgboost/dmlc-core/tracker:/miniconda3/lib/python39.zip:/miniconda3/lib/python3.9:/miniconda3/lib/python3.9/lib-dynload:/miniconda3/lib/python3.9/site-packages:/miniconda3/lib/python3.9/site-packages/setuptools/_vendor\n",
      "Invoking script with the following command:\n",
      "/miniconda3/bin/python3 -m single_model_entry --early_stopping_rounds 10 --eta 0.3 --max_depth 6 --num_boost_round 100 --subsample 0.8\n",
      "/miniconda3/lib/python3.9/site-packages/sklearn/utils/fixes.py:28: UserWarning: pkg_resources is deprecated as an API. See https://setuptools.pypa.io/en/latest/pkg_resources.html. The pkg_resources package is slated for removal as early as 2025-11-30. Refrain from using this package or pin to Setuptools<81.\n",
      "  from pkg_resources import parse_version  # type: ignore\n",
      "eval:cv_auc_pr=0.579837\n",
      "\n",
      "2025-08-01 22:43:24 Completed - Training job completed\n",
      "Training seconds: 132\n",
      "Billable seconds: 132\n"
     ]
    },
    {
     "name": "stderr",
     "output_type": "stream",
     "text": [
      "\u001b[0m[01/Aug/25 15:43:57] INFO [wallet_script_modeler.train_single_period_script_model:129] Script-mode training completed. Model URI: s3://wallet-script-models/model-outputs/dda-920-nginv-040/231008/wallet-script-dda-920-nginv-040-231008-20250801-154034/output/model.tar.gz\u001b[0m\n"
     ]
    },
    {
     "data": {
      "text/plain": [
       "{'model_uri': 's3://wallet-script-models/model-outputs/dda-920-nginv-040/231008/wallet-script-dda-920-nginv-040-231008-20250801-154034/output/model.tar.gz',\n",
       " 'training_job_name': 'wallet-script-dda-920-nginv-040-231008-20250801-154034',\n",
       " 'date_suffix': '231008'}"
      ]
     },
     "execution_count": 14,
     "metadata": {},
     "output_type": "execute_result"
    }
   ],
   "source": [
    "sm.train_single_period_script_model(\n",
    "    sage_wallets_config,\n",
    "    sage_wallets_modeling_config,\n",
    "    date_suffix,\n",
    "    s3_uris\n",
    ")"
   ]
  },
  {
   "cell_type": "code",
   "execution_count": 13,
   "metadata": {},
   "outputs": [
    {
     "name": "stderr",
     "output_type": "stream",
     "text": [
      "\u001b[0m[01/Aug/25 11:59:45] INFO [image_uris._validate_py_version_and_set_if_needed:603] Ignoring unnecessary Python version: py3.\u001b[0m\n",
      "\u001b[0m[01/Aug/25 11:59:45] INFO [image_uris._processor:530] Ignoring unnecessary instance type: ml.m5.large.\u001b[0m\n",
      "\u001b[0m[01/Aug/25 11:59:45] INFO [telemetry_logging.wrapper:92] SageMaker Python SDK will collect telemetry to help us better understand our user's needs, diagnose issues, and deliver additional features.\n",
      "To opt out of telemetry, please disable via TelemetryOptOut parameter in SDK defaults config. For more information, refer to https://sagemaker.readthedocs.io/en/stable/overview.html#configuring-and-using-defaults-with-the-sagemaker-python-sdk.\u001b[0m\n",
      "\u001b[0m[01/Aug/25 11:59:45] INFO [session.submit:1053] Creating training-job with name: dda-922-v4-2025-08-01-18-59-45-362\u001b[0m\n"
     ]
    },
    {
     "name": "stdout",
     "output_type": "stream",
     "text": [
      "2025-08-01 18:59:47 Starting - Starting the training job...\n",
      "2025-08-01 19:00:01 Starting - Preparing the instances for training...\n",
      "2025-08-01 19:00:23 Downloading - Downloading input data...\n",
      "2025-08-01 19:01:09 Downloading - Downloading the training image......\n",
      "2025-08-01 19:02:15 Training - Training image download completed. Training in progress.../miniconda3/lib/python3.9/site-packages/sagemaker_containers/_server.py:22: UserWarning: pkg_resources is deprecated as an API. See https://setuptools.pypa.io/en/latest/pkg_resources.html. The pkg_resources package is slated for removal as early as 2025-11-30. Refrain from using this package or pin to Setuptools<81.\n",
      "  import pkg_resources\n",
      "[2025-08-01 19:02:17.367 ip-10-2-69-59.us-west-2.compute.internal:8 INFO utils.py:28] RULE_JOB_STOP_SIGNAL_FILENAME: None\n",
      "[2025-08-01 19:02:17.391 ip-10-2-69-59.us-west-2.compute.internal:8 INFO profiler_config_parser.py:111] User has disabled profiler.\n",
      "[2025-08-01:19:02:17:INFO] Imported framework sagemaker_xgboost_container.training\n",
      "[2025-08-01:19:02:17:INFO] No GPUs detected (normal if no gpus installed)\n",
      "[2025-08-01:19:02:17:INFO] Invoking user training script.\n",
      "[2025-08-01:19:02:18:INFO] Module script_mode_modeler does not provide a setup.py. \n",
      "Generating setup.py\n",
      "[2025-08-01:19:02:18:INFO] Generating setup.cfg\n",
      "[2025-08-01:19:02:18:INFO] Generating MANIFEST.in\n",
      "[2025-08-01:19:02:18:INFO] Installing module with the following command:\n",
      "/miniconda3/bin/python3 -m pip install . \n",
      "Processing /opt/ml/code\n",
      "  Preparing metadata (setup.py): started\n",
      "  Preparing metadata (setup.py): finished with status 'done'\n",
      "Building wheels for collected packages: script_mode_modeler\n",
      "  DEPRECATION: Building 'script_mode_modeler' using the legacy setup.py bdist_wheel mechanism, which will be removed in a future version. pip 25.3 will enforce this behaviour change. A possible replacement is to use the standardized build interface by setting the `--use-pep517` option, (possibly combined with `--no-build-isolation`), or adding a `pyproject.toml` file to the source tree of 'script_mode_modeler'. Discussion can be found at https://github.com/pypa/pip/issues/6334\n",
      "  Building wheel for script_mode_modeler (setup.py): started\n",
      "  Building wheel for script_mode_modeler (setup.py): finished with status 'done'\n",
      "  Created wheel for script_mode_modeler: filename=script_mode_modeler-1.0.0-py2.py3-none-any.whl size=7265 sha256=6962b92c28213ea1143382861166323c1d2eeea6ba54a95b54a115624b7eb21b\n",
      "  Stored in directory: /home/model-server/tmp/pip-ephem-wheel-cache-ma8g0_zk/wheels/40/03/3a/5f39818cea87b3c154b54d046a775b3da4b8ed9b642b8d50e6\n",
      "Successfully built script_mode_modeler\n",
      "Installing collected packages: script_mode_modeler\n",
      "Successfully installed script_mode_modeler-1.0.0\n",
      "WARNING: Running pip as the 'root' user can result in broken permissions and conflicting behaviour with the system package manager, possibly rendering your system unusable. It is recommended to use a virtual environment instead: https://pip.pypa.io/warnings/venv. Use the --root-user-action option if you know what you are doing and want to suppress this warning.\n",
      "[notice] A new release of pip is available: 25.1.1 -> 25.2\n",
      "[notice] To update, run: pip install --upgrade pip\n",
      "[2025-08-01:19:02:19:INFO] No GPUs detected (normal if no gpus installed)\n",
      "[2025-08-01:19:02:19:INFO] Invoking user script\n",
      "Training Env:\n",
      "{\n",
      "    \"additional_framework_parameters\": {},\n",
      "    \"channel_input_dirs\": {\n",
      "        \"train\": \"/opt/ml/input/data/train\",\n",
      "        \"validation\": \"/opt/ml/input/data/validation\"\n",
      "    },\n",
      "    \"current_host\": \"algo-1\",\n",
      "    \"framework_module\": \"sagemaker_xgboost_container.training:main\",\n",
      "    \"hosts\": [\n",
      "        \"algo-1\"\n",
      "    ],\n",
      "    \"hyperparameters\": {\n",
      "        \"early_stopping_rounds\": 10,\n",
      "        \"eta\": 0.1,\n",
      "        \"max_depth\": 6,\n",
      "        \"num_boost_round\": 50,\n",
      "        \"subsample\": 1.0\n",
      "    },\n",
      "    \"input_config_dir\": \"/opt/ml/input/config\",\n",
      "    \"input_data_config\": {\n",
      "        \"train\": {\n",
      "            \"TrainingInputMode\": \"File\",\n",
      "            \"S3DistributionType\": \"FullyReplicated\",\n",
      "            \"RecordWrapperType\": \"None\"\n",
      "        },\n",
      "        \"validation\": {\n",
      "            \"TrainingInputMode\": \"File\",\n",
      "            \"S3DistributionType\": \"FullyReplicated\",\n",
      "            \"RecordWrapperType\": \"None\"\n",
      "        }\n",
      "    },\n",
      "    \"input_dir\": \"/opt/ml/input\",\n",
      "    \"is_master\": true,\n",
      "    \"job_name\": \"dda-922-v4-2025-08-01-18-59-45-362\",\n",
      "    \"log_level\": 20,\n",
      "    \"master_hostname\": \"algo-1\",\n",
      "    \"model_dir\": \"/opt/ml/model\",\n",
      "    \"module_dir\": \"s3://wallet-script-models/dda-922-v4-2025-08-01-18-59-45-362/source/sourcedir.tar.gz\",\n",
      "    \"module_name\": \"script_mode_modeler\",\n",
      "    \"network_interface_name\": \"eth0\",\n",
      "    \"num_cpus\": 2,\n",
      "    \"num_gpus\": 0,\n",
      "    \"output_data_dir\": \"/opt/ml/output/data\",\n",
      "    \"output_dir\": \"/opt/ml/output\",\n",
      "    \"output_intermediate_dir\": \"/opt/ml/output/intermediate\",\n",
      "    \"resource_config\": {\n",
      "        \"current_host\": \"algo-1\",\n",
      "        \"current_instance_type\": \"ml.m5.large\",\n",
      "        \"current_group_name\": \"homogeneousCluster\",\n",
      "        \"hosts\": [\n",
      "            \"algo-1\"\n",
      "        ],\n",
      "        \"instance_groups\": [\n",
      "            {\n",
      "                \"instance_group_name\": \"homogeneousCluster\",\n",
      "                \"instance_type\": \"ml.m5.large\",\n",
      "                \"hosts\": [\n",
      "                    \"algo-1\"\n",
      "                ]\n",
      "            }\n",
      "        ],\n",
      "        \"network_interface_name\": \"eth0\",\n",
      "        \"topology\": null\n",
      "    },\n",
      "    \"user_entry_point\": \"script_mode_modeler.py\"\n",
      "}\n",
      "Environment variables:\n",
      "SM_HOSTS=[\"algo-1\"]\n",
      "SM_NETWORK_INTERFACE_NAME=eth0\n",
      "SM_HPS={\"early_stopping_rounds\":10,\"eta\":0.1,\"max_depth\":6,\"num_boost_round\":50,\"subsample\":1.0}\n",
      "SM_USER_ENTRY_POINT=script_mode_modeler.py\n",
      "SM_FRAMEWORK_PARAMS={}\n",
      "SM_RESOURCE_CONFIG={\"current_group_name\":\"homogeneousCluster\",\"current_host\":\"algo-1\",\"current_instance_type\":\"ml.m5.large\",\"hosts\":[\"algo-1\"],\"instance_groups\":[{\"hosts\":[\"algo-1\"],\"instance_group_name\":\"homogeneousCluster\",\"instance_type\":\"ml.m5.large\"}],\"network_interface_name\":\"eth0\",\"topology\":null}\n",
      "SM_INPUT_DATA_CONFIG={\"train\":{\"RecordWrapperType\":\"None\",\"S3DistributionType\":\"FullyReplicated\",\"TrainingInputMode\":\"File\"},\"validation\":{\"RecordWrapperType\":\"None\",\"S3DistributionType\":\"FullyReplicated\",\"TrainingInputMode\":\"File\"}}\n",
      "SM_OUTPUT_DATA_DIR=/opt/ml/output/data\n",
      "SM_CHANNELS=[\"train\",\"validation\"]\n",
      "SM_CURRENT_HOST=algo-1\n",
      "SM_MODULE_NAME=script_mode_modeler\n",
      "SM_LOG_LEVEL=20\n",
      "SM_FRAMEWORK_MODULE=sagemaker_xgboost_container.training:main\n",
      "SM_INPUT_DIR=/opt/ml/input\n",
      "SM_INPUT_CONFIG_DIR=/opt/ml/input/config\n",
      "SM_OUTPUT_DIR=/opt/ml/output\n",
      "SM_NUM_CPUS=2\n",
      "SM_NUM_GPUS=0\n",
      "SM_MODEL_DIR=/opt/ml/model\n",
      "SM_MODULE_DIR=s3://wallet-script-models/dda-922-v4-2025-08-01-18-59-45-362/source/sourcedir.tar.gz\n",
      "SM_TRAINING_ENV={\"additional_framework_parameters\":{},\"channel_input_dirs\":{\"train\":\"/opt/ml/input/data/train\",\"validation\":\"/opt/ml/input/data/validation\"},\"current_host\":\"algo-1\",\"framework_module\":\"sagemaker_xgboost_container.training:main\",\"hosts\":[\"algo-1\"],\"hyperparameters\":{\"early_stopping_rounds\":10,\"eta\":0.1,\"max_depth\":6,\"num_boost_round\":50,\"subsample\":1.0},\"input_config_dir\":\"/opt/ml/input/config\",\"input_data_config\":{\"train\":{\"RecordWrapperType\":\"None\",\"S3DistributionType\":\"FullyReplicated\",\"TrainingInputMode\":\"File\"},\"validation\":{\"RecordWrapperType\":\"None\",\"S3DistributionType\":\"FullyReplicated\",\"TrainingInputMode\":\"File\"}},\"input_dir\":\"/opt/ml/input\",\"is_master\":true,\"job_name\":\"dda-922-v4-2025-08-01-18-59-45-362\",\"log_level\":20,\"master_hostname\":\"algo-1\",\"model_dir\":\"/opt/ml/model\",\"module_dir\":\"s3://wallet-script-models/dda-922-v4-2025-08-01-18-59-45-362/source/sourcedir.tar.gz\",\"module_name\":\"script_mode_modeler\",\"network_interface_name\":\"eth0\",\"num_cpus\":2,\"num_gpus\":0,\"output_data_dir\":\"/opt/ml/output/data\",\"output_dir\":\"/opt/ml/output\",\"output_intermediate_dir\":\"/opt/ml/output/intermediate\",\"resource_config\":{\"current_group_name\":\"homogeneousCluster\",\"current_host\":\"algo-1\",\"current_instance_type\":\"ml.m5.large\",\"hosts\":[\"algo-1\"],\"instance_groups\":[{\"hosts\":[\"algo-1\"],\"instance_group_name\":\"homogeneousCluster\",\"instance_type\":\"ml.m5.large\"}],\"network_interface_name\":\"eth0\",\"topology\":null},\"user_entry_point\":\"script_mode_modeler.py\"}\n",
      "SM_USER_ARGS=[\"--early_stopping_rounds\",\"10\",\"--eta\",\"0.1\",\"--max_depth\",\"6\",\"--num_boost_round\",\"50\",\"--subsample\",\"1.0\"]\n",
      "SM_OUTPUT_INTERMEDIATE_DIR=/opt/ml/output/intermediate\n",
      "SM_CHANNEL_TRAIN=/opt/ml/input/data/train\n",
      "SM_CHANNEL_VALIDATION=/opt/ml/input/data/validation\n",
      "SM_HP_EARLY_STOPPING_ROUNDS=10\n",
      "SM_HP_ETA=0.1\n",
      "SM_HP_MAX_DEPTH=6\n",
      "SM_HP_NUM_BOOST_ROUND=50\n",
      "SM_HP_SUBSAMPLE=1.0\n",
      "PYTHONPATH=/miniconda3/bin:/:/miniconda3/lib/python/site-packages/xgboost/dmlc-core/tracker:/miniconda3/lib/python39.zip:/miniconda3/lib/python3.9:/miniconda3/lib/python3.9/lib-dynload:/miniconda3/lib/python3.9/site-packages:/miniconda3/lib/python3.9/site-packages/setuptools/_vendor\n",
      "Invoking script with the following command:\n",
      "/miniconda3/bin/python3 -m script_mode_modeler --early_stopping_rounds 10 --eta 0.1 --max_depth 6 --num_boost_round 50 --subsample 1.0\n",
      "/miniconda3/lib/python3.9/site-packages/sklearn/utils/fixes.py:28: UserWarning: pkg_resources is deprecated as an API. See https://setuptools.pypa.io/en/latest/pkg_resources.html. The pkg_resources package is slated for removal as early as 2025-11-30. Refrain from using this package or pin to Setuptools<81.\n",
      "  from pkg_resources import parse_version  # type: ignore\n",
      "[0]#011validation-aucpr:0.17963\n",
      "[1]#011validation-aucpr:0.18681\n",
      "[2]#011validation-aucpr:0.18611\n",
      "[3]#011validation-aucpr:0.18839\n",
      "[4]#011validation-aucpr:0.19053\n",
      "[5]#011validation-aucpr:0.18843\n",
      "[6]#011validation-aucpr:0.19146\n",
      "[7]#011validation-aucpr:0.18810\n",
      "[8]#011validation-aucpr:0.18851\n",
      "[9]#011validation-aucpr:0.19103\n",
      "[10]#011validation-aucpr:0.19638\n",
      "[11]#011validation-aucpr:0.20148\n",
      "[12]#011validation-aucpr:0.20799\n",
      "[13]#011validation-aucpr:0.21211\n",
      "[14]#011validation-aucpr:0.21464\n",
      "[15]#011validation-aucpr:0.22252\n",
      "[16]#011validation-aucpr:0.22676\n",
      "[17]#011validation-aucpr:0.22880\n",
      "[18]#011validation-aucpr:0.23078\n",
      "[19]#011validation-aucpr:0.23631\n",
      "[20]#011validation-aucpr:0.23914\n",
      "[21]#011validation-aucpr:0.23916\n",
      "[22]#011validation-aucpr:0.23860\n",
      "[23]#011validation-aucpr:0.23972\n",
      "[24]#011validation-aucpr:0.24310\n",
      "[25]#011validation-aucpr:0.24745\n",
      "[26]#011validation-aucpr:0.25927\n",
      "[27]#011validation-aucpr:0.25546\n",
      "[28]#011validation-aucpr:0.25590\n",
      "[29]#011validation-aucpr:0.25549\n",
      "[30]#011validation-aucpr:0.25411\n",
      "[31]#011validation-aucpr:0.25604\n",
      "[32]#011validation-aucpr:0.25772\n",
      "[33]#011validation-aucpr:0.25711\n",
      "[34]#011validation-aucpr:0.25883\n",
      "[35]#011validation-aucpr:0.25939\n",
      "[36]#011validation-aucpr:0.25949\n",
      "[37]#011validation-aucpr:0.25990\n",
      "[38]#011validation-aucpr:0.26161\n",
      "[39]#011validation-aucpr:0.26054\n",
      "[40]#011validation-aucpr:0.26228\n",
      "[41]#011validation-aucpr:0.26074\n",
      "[42]#011validation-aucpr:0.26103\n",
      "[43]#011validation-aucpr:0.26104\n",
      "[44]#011validation-aucpr:0.25916\n",
      "[45]#011validation-aucpr:0.25556\n",
      "[46]#011validation-aucpr:0.25617\n",
      "[47]#011validation-aucpr:0.25774\n",
      "[48]#011validation-aucpr:0.25895\n",
      "[49]#011validation-aucpr:0.25873\n",
      "validation:cv_auc_pr=0.258851\n",
      "\n",
      "2025-08-01 19:02:45 Uploading - Uploading generated training model\n",
      "2025-08-01 19:02:58 Completed - Training job completed\n",
      "Training seconds: 155\n",
      "Billable seconds: 155\n"
     ]
    }
   ],
   "source": [
    "from sagemaker.session import Session\n",
    "from sagemaker.xgboost.estimator import XGBoost\n",
    "from sagemaker.tuner import HyperparameterTuner, ContinuousParameter, IntegerParameter\n",
    "\n",
    "s3_data = {\n",
    "    \"train\":      s3_uris[date_suffix]['train'],\n",
    "    \"validation\": s3_uris[date_suffix]['val']\n",
    "}\n",
    "model_output_path = (f\"s3://wallet-script-models/model-outputs\")\n",
    "\n",
    "estimator = XGBoost(\n",
    "    entry_point         = \"script_mode_modeler.py\",     # path relative to notebook\n",
    "    source_dir          = \"../src/script_modeling/\",    # folder that holds the script\n",
    "    base_job_name       = \"dda-922-v4\",                 # uploaded and immutable script version\n",
    "    framework_version   = sage_wallets_modeling_config['framework']['version'],\n",
    "    role                = sage_wallets_config['aws']['modeler_arn'],\n",
    "    instance_type       = sage_wallets_modeling_config['metaparams']['instance_type'],\n",
    "    instance_count      = sage_wallets_modeling_config['metaparams']['instance_count'],\n",
    "    output_path         = model_output_path,\n",
    "    hyperparameters = {\n",
    "        \"eta\": 0.1,\n",
    "        \"max_depth\": 6,\n",
    "        \"subsample\": 1.0,\n",
    "        \"num_boost_round\": 50,            # small for a smoke-test\n",
    "        \"early_stopping_rounds\": 10\n",
    "    },\n",
    "    # metric_definitions=[                  # regex must match the print line\n",
    "    #     {\"Name\": \"cv_auc_pr\", \"Regex\": \"validation:cv_auc_pr=(.*)\"}\n",
    "    # ],\n",
    ")\n",
    "\n",
    "# one-shot fit (no tuning yet)\n",
    "estimator.fit(s3_data, logs=\"All\")"
   ]
  },
  {
   "cell_type": "markdown",
   "metadata": {},
   "source": [
    "# Model Evaluation"
   ]
  },
  {
   "cell_type": "markdown",
   "metadata": {},
   "source": [
    "### Analyze predictions"
   ]
  },
  {
   "cell_type": "code",
   "execution_count": null,
   "metadata": {},
   "outputs": [],
   "source": [
    "[importlib.reload(module) for module in modules]\n",
    "sage_wallets_config = yaml.safe_load(Path('../config/sage_wallets_config.yaml').read_text(encoding='utf-8'))\n",
    "sage_wallets_modeling_config = yaml.safe_load(Path('../config/sage_wallets_modeling_config.yaml').read_text(encoding='utf-8'))\n",
    "\n",
    "\n",
    "date_suffixes = [\n",
    "    '231008',\n",
    "    # '240306'\n",
    "]\n",
    "date_suffix = date_suffixes[0]"
   ]
  },
  {
   "cell_type": "code",
   "execution_count": null,
   "metadata": {},
   "outputs": [],
   "source": [
    "y_test_pred = sime.load_bt_sagemaker_predictions('test', sage_wallets_config, date_suffix)\n",
    "y_val_pred = sime.load_bt_sagemaker_predictions('val', sage_wallets_config, date_suffix)"
   ]
  },
  {
   "cell_type": "code",
   "execution_count": null,
   "metadata": {},
   "outputs": [],
   "source": [
    "# Single function call for complete evaluation\n",
    "evaluator = sime.run_sagemaker_evaluation(\n",
    "    sage_wallets_config,\n",
    "    sage_wallets_modeling_config,\n",
    "    date_suffix,\n",
    "    y_test_pred,\n",
    "    y_val_pred\n",
    ")"
   ]
  },
  {
   "cell_type": "code",
   "execution_count": null,
   "metadata": {},
   "outputs": [],
   "source": [
    "evaluator.y_validation"
   ]
  },
  {
   "cell_type": "code",
   "execution_count": null,
   "metadata": {},
   "outputs": [],
   "source": [
    "evaluator.y_validation_pred_proba"
   ]
  },
  {
   "cell_type": "code",
   "execution_count": null,
   "metadata": {},
   "outputs": [],
   "source": [
    "from sklearn.metrics import roc_curve, auc\n",
    "import matplotlib.pyplot as plt\n",
    "\n",
    "fpr, tpr, _ = roc_curve(evaluator.y_validation, evaluator.y_validation_pred_proba)\n",
    "roc_auc = auc(fpr, tpr)\n",
    "\n",
    "plt.figure(figsize=(8, 6))\n",
    "plt.plot(fpr, tpr, color='darkorange', lw=2, label=f'ROC curve (AUC = {roc_auc:.3f})')\n",
    "plt.plot([0, 1], [0, 1], color='navy', lw=2, linestyle='--', label='Random classifier')\n",
    "plt.xlim([0.0, 1.0])\n",
    "plt.ylim([0.0, 1.05])\n",
    "plt.xlabel('False Positive Rate')\n",
    "plt.ylabel('True Positive Rate')\n",
    "plt.title('ROC Curve - Validation Set')\n",
    "plt.legend(loc=\"lower right\")\n",
    "plt.grid(True, alpha=0.3)\n",
    "plt.show()"
   ]
  },
  {
   "cell_type": "code",
   "execution_count": null,
   "metadata": {},
   "outputs": [],
   "source": [
    "evaluator.summary_report()\n",
    "evaluator.plot_wallet_evaluation()\n"
   ]
  },
  {
   "cell_type": "code",
   "execution_count": null,
   "metadata": {},
   "outputs": [],
   "source": [
    "def load_sagemaker_predictions(\n",
    "    data_type: str,\n",
    "    sage_wallets_config: dict,\n",
    "    sage_wallets_modeling_config: dict,\n",
    "    date_suffix: str\n",
    ") -> tuple[pd.Series, pd.Series]:\n",
    "    \"\"\"\n",
    "    Load SageMaker predictions and corresponding actuals for a given data type.\n",
    "\n",
    "    Params:\n",
    "    - data_type (str): Either 'test' or 'val'\n",
    "    - sage_wallets_config (dict): Configuration for training data paths\n",
    "    - sage_wallets_modeling_config (dict): Configuration for model parameters\n",
    "    - date_suffix (str): Date suffix for file naming\n",
    "\n",
    "    Returns:\n",
    "    - tuple: (predictions_series, actuals_series) with aligned indices\n",
    "    \"\"\"\n",
    "    # Load predictions\n",
    "    pred_path = Path(sage_wallets_modeling_config['metaparams']['endpoint_preds_dir']) / \\\n",
    "                f\"endpoint_y_pred_{data_type}_{sage_wallets_config['training_data']['local_directory']}_{date_suffix}.csv\"\n",
    "    pred_df = pd.read_csv(pred_path)\n",
    "\n",
    "    if 'score' not in pred_df.columns:\n",
    "        raise ValueError(f\"SageMaker predictions are missing the 'score' column. \"\n",
    "                        f\"Available columns: {pred_df.columns}\")\n",
    "    pred_series = pred_df['score']\n",
    "\n",
    "    # Load actuals\n",
    "    training_data_path = (\n",
    "        Path(f\"../s3_uploads\") / \"wallet_training_data_queue\" /\n",
    "        f\"{sage_wallets_config['training_data']['local_directory']}\"\n",
    "    )\n",
    "    actuals_path = training_data_path / f\"y_{data_type}_{date_suffix}.parquet\"\n",
    "    actuals_df = pd.read_parquet(actuals_path)\n",
    "\n",
    "    if len(actuals_df.columns) > 1:\n",
    "        raise ValueError(f\"Found unexpected columns in y_{data_type}_df. \"\n",
    "                        f\"Expected 1 column, found {actuals_df.columns}.\")\n",
    "    actuals_series = actuals_df.iloc[:, 0]\n",
    "\n",
    "    # Validate lengths and align indices\n",
    "    if len(pred_series) != len(actuals_series):\n",
    "        raise ValueError(f\"Length of y_{data_type}_pred ({len(pred_series)}) does \"\n",
    "                        f\"not match length of y_{data_type}_true ({len(actuals_series)}).\")\n",
    "\n",
    "    pred_series.index = actuals_series.index\n",
    "\n",
    "    return pred_series, actuals_series"
   ]
  },
  {
   "cell_type": "code",
   "execution_count": null,
   "metadata": {},
   "outputs": [],
   "source": [
    "# Load predictions and actuals\n",
    "y_test_pred_series, y_test_true_series = load_sagemaker_predictions(\n",
    "    'test', sage_wallets_config, sage_wallets_modeling_config, date_suffix\n",
    ")\n",
    "y_val_pred_series, y_val_true_series = load_sagemaker_predictions(\n",
    "    'val', sage_wallets_config, sage_wallets_modeling_config, date_suffix\n",
    ")\n",
    "\n",
    "# Load remaining training data\n",
    "training_data_path = (\n",
    "    Path(f\"../s3_uploads\") / \"wallet_training_data_queue\" /\n",
    "    f\"{sage_wallets_config['training_data']['local_directory']}\"\n",
    ")\n",
    "X_train = pd.read_parquet(training_data_path / f\"x_train_{date_suffix}.parquet\")\n",
    "y_train = pd.read_parquet(training_data_path / f\"y_train_{date_suffix}.parquet\")\n",
    "X_test = pd.read_parquet(training_data_path / f\"x_test_{date_suffix}.parquet\")\n",
    "X_val = pd.read_parquet(training_data_path / f\"x_val_{date_suffix}.parquet\")\n",
    "\n",
    "# Identify target variable and model type\n",
    "target_variable = y_val_true_series.name or y_train.columns[0]\n",
    "objective = sage_wallets_modeling_config['training']['hyperparameters']['objective']\n",
    "model_type = 'regression' if objective[:3] == 'reg' else 'unknown'"
   ]
  },
  {
   "cell_type": "code",
   "execution_count": null,
   "metadata": {},
   "outputs": [],
   "source": [
    "# Create model_id and modeling_config\n",
    "model_id = f\"sagemaker_{sage_wallets_config['training_data']['local_directory']}_{date_suffix}\"\n",
    "\n",
    "modeling_config = {\n",
    "    'target_variable': target_variable,\n",
    "    'model_type': model_type,\n",
    "    'returns_winsorization': 0.005,  # Default for winsorizing returns\n",
    "    'training_data': {\n",
    "        'modeling_period_duration': 30  # Default performance window\n",
    "    },\n",
    "    'sagemaker_metadata': {\n",
    "        'objective': objective,\n",
    "        'local_directory': sage_wallets_config['training_data']['local_directory'],\n",
    "        'date_suffix': date_suffix\n",
    "    }\n",
    "}\n",
    "\n",
    "# Create minimal wallet_model_results for SageMaker evaluation\n",
    "wallet_model_results = {\n",
    "    'model_id': model_id,\n",
    "    'modeling_config': modeling_config,\n",
    "    'model_type': model_type,\n",
    "\n",
    "    # Training data\n",
    "    'X_train': X_train,\n",
    "    'X_test': X_test,\n",
    "    'y_train': y_train,\n",
    "    'y_test': y_test_true_series,\n",
    "    'y_pred': y_test_pred_series,\n",
    "    'training_cohort_pred': None,\n",
    "    'training_cohort_actuals': None,\n",
    "\n",
    "    # Validation data\n",
    "    'X_validation': X_val,\n",
    "    'y_validation': y_val_true_series,\n",
    "    'y_validation_pred': y_val_pred_series,\n",
    "    'validation_target_vars_df': None,\n",
    "\n",
    "    # Fixed mock pipeline\n",
    "    'pipeline': type('MockPipeline', (), {\n",
    "        'named_steps': {'estimator': type('MockModel', (), {\n",
    "            'get_params': lambda self: {'objective': objective}  # Accept self argument\n",
    "        })()},\n",
    "        '__getitem__': lambda self, key: type('MockTransformer', (), {\n",
    "            'transform': lambda self, X: X  # Accept self argument\n",
    "        })()\n",
    "    })()\n",
    "}\n",
    "\n",
    "# Create evaluator\n",
    "wallet_evaluator = wime.RegressorEvaluator(wallet_model_results)\n",
    "\n",
    "# Run basic evaluation\n",
    "wallet_evaluator.summary_report()\n",
    "wallet_evaluator.plot_wallet_evaluation()"
   ]
  },
  {
   "cell_type": "code",
   "execution_count": null,
   "metadata": {},
   "outputs": [],
   "source": []
  },
  {
   "cell_type": "code",
   "execution_count": null,
   "metadata": {},
   "outputs": [],
   "source": [
    "target_variable"
   ]
  },
  {
   "cell_type": "code",
   "execution_count": null,
   "metadata": {},
   "outputs": [],
   "source": []
  }
 ],
 "metadata": {
  "kernelspec": {
   "display_name": ".sage_venv",
   "language": "python",
   "name": "python3"
  },
  "language_info": {
   "codemirror_mode": {
    "name": "ipython",
    "version": 3
   },
   "file_extension": ".py",
   "mimetype": "text/x-python",
   "name": "python",
   "nbconvert_exporter": "python",
   "pygments_lexer": "ipython3",
   "version": "3.11.9"
  }
 },
 "nbformat": 4,
 "nbformat_minor": 2
}
