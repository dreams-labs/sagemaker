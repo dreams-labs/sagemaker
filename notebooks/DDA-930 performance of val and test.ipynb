{
 "cells": [
  {
   "cell_type": "markdown",
   "metadata": {},
   "source": [
    "### start"
   ]
  },
  {
   "cell_type": "code",
   "execution_count": 1,
   "metadata": {},
   "outputs": [
    {
     "name": "stdout",
     "output_type": "stream",
     "text": [
      "sagemaker.config INFO - Not applying SDK defaults from location: /Library/Application Support/sagemaker/config.yaml\n",
      "sagemaker.config INFO - Not applying SDK defaults from location: /Users/jeremymeadow/Library/Application Support/sagemaker/config.yaml\n"
     ]
    },
    {
     "name": "stderr",
     "output_type": "stream",
     "text": [
      "\u001b[0m[02/Aug/25 19:33:15] INFO [utils.export_code:1663] Consolidation complete. All files are saved in temp/sagemaker_code.py\u001b[0m\n",
      "\u001b[92m[02/Aug/25 19:33:15] MILESTONE [472202081.<module>:134] Good morning, let's get to work\u001b[0m\n"
     ]
    }
   ],
   "source": [
    "# pyright: reportMissingImports=false\n",
    "# pyright: reportMissingModuleSource=false\n",
    "\n",
    "import uuid\n",
    "import random\n",
    "import hashlib\n",
    "import os\n",
    "import sys\n",
    "import gc\n",
    "import time\n",
    "import copy\n",
    "import logging\n",
    "import re\n",
    "from itertools import chain,combinations\n",
    "import pdb\n",
    "import math\n",
    "from pathlib import Path\n",
    "import datetime\n",
    "from datetime import datetime,timedelta\n",
    "import json\n",
    "import warnings\n",
    "import yaml\n",
    "from typing import Dict,Union,List,Any,Tuple\n",
    "import pytest\n",
    "import importlib\n",
    "from dotenv import load_dotenv\n",
    "import pandas as pd\n",
    "import numpy as np\n",
    "import IPython\n",
    "import requests\n",
    "import warnings\n",
    "import boto3\n",
    "import matplotlib as plt\n",
    "import sklearn\n",
    "\n",
    "# load_dotenv(Path(\"../../../Local/.env\"))\n",
    "\n",
    "# Custom format function for displaying |numbers/\n",
    "pd.set_option('display.float_format', lambda x: f'{x:.12g}')\n",
    "# pd.reset_option('display.float_format')\n",
    "\n",
    "# Suppress warnings\n",
    "os.environ['PYDEVD_DISABLE_FILE_VALIDATION'] = '1'\n",
    "warnings.filterwarnings('ignore', message='.*frozen modules.*')\n",
    "warnings.filterwarnings(\"ignore\", message=\"MallocStackLogging\")\n",
    "\n",
    "# silence pygame donation request\n",
    "os.environ['PYGAME_HIDE_SUPPORT_PROMPT'] = \"hide\"\n",
    "os.environ['LOGGING_FILE'] = \"../../../Local/logs/wallet_modeling.log\"\n",
    "os.environ['NOTIFICATION_SOUNDS_DIR'] = \"../../../Local\"\n",
    "\n",
    "# Dark mode charts\n",
    "plt.rcParams['figure.facecolor'] = '#181818'  # Custom background color (dark gray in this case)\n",
    "plt.rcParams['axes.facecolor'] = '#181818'\n",
    "plt.rcParams['text.color'] = '#afc6ba'\n",
    "plt.rcParams['axes.labelcolor'] = '#afc6ba'\n",
    "plt.rcParams['xtick.color'] = '#afc6ba'\n",
    "plt.rcParams['ytick.color'] = '#afc6ba'\n",
    "plt.rcParams['axes.titlecolor'] = '#afc6ba'\n",
    "plt.rcParams['text.usetex'] = False\n",
    "plt.rcParams['mathtext.default'] = 'regular'\n",
    "\n",
    "# import local modules\n",
    "# pyright: reportMissingImports=false\n",
    "sys.path.append('../src')\n",
    "\n",
    "import sage_utils.config_validation as ucv\n",
    "import sage_utils.s3_utils as s3u\n",
    "\n",
    "import sage_wallet_insights.model_evaluation as sime\n",
    "\n",
    "import sage_wallet_modeling.wallet_modeler as wm\n",
    "from sage_wallet_modeling.wallet_preprocessor import SageWalletsPreprocessor\n",
    "import sage_wallet_modeling.wallet_script_modeler as sm\n",
    "import sage_wallet_modeling.workflow_orchestrator as wo\n",
    "\n",
    "import script_modeling.entry_helpers as h\n",
    "# import script_modeling.temporal_cv_model_entry as tme\n",
    "\n",
    "\n",
    "# import data-science modules\n",
    "sys.path.append(str(Path(\"..\") / \"..\" / \"data-science\" / \"src\"))\n",
    "import wallet_insights.model_evaluation as wime\n",
    "import utils as u\n",
    "from utils import ConfigError\n",
    "\n",
    "\n",
    "\n",
    "# reload all modules\n",
    "modules = [\n",
    "    ucv, s3u,\n",
    "    sime,\n",
    "    wm, sm, wo,\n",
    "    h,\n",
    "    wime,\n",
    "    u,\n",
    "]\n",
    "\n",
    "# import utils as u\n",
    "# Set the custom error handler\n",
    "ipython = IPython.get_ipython()\n",
    "# ipython.set_custom_exc((Exception,), u.notify_on_failure)\n",
    "\n",
    "player = u.AmbientPlayer()\n",
    "player.stop_all_players()\n",
    "\n",
    "# configure logger\n",
    "logger = u.setup_notebook_logger('../logs/notebook_logs.log')\n",
    "logger.setLevel(logging.INFO)\n",
    "\n",
    "from IPython.core import ultratb\n",
    "ultratb.VerboseTB._tb_highlight = \"bg:#b45827\"\n",
    "\n",
    "\n",
    "# load all configs\n",
    "sage_wallets_config = ucv.load_sage_wallets_config(Path('../config/sage_wallets_config.yaml'))\n",
    "sage_wallets_modeling_config = ucv.load_sage_wallets_modeling_config(Path('../config/sage_wallets_modeling_config.yaml'))\n",
    "\n",
    "\n",
    "u.export_code(\n",
    "    code_directories=[\n",
    "        # 'sage_wallet_insights',\n",
    "        'sage_wallet_modeling',\n",
    "        # 'sage_utils',\n",
    "    ],\n",
    "    # include_config = True,\n",
    "    # ipynb_notebook = 'DDA-769 coin model score dist toggle.ipynb'\n",
    "    output_file=\"temp/sagemaker_code.py\"\n",
    ")\n",
    "\n",
    "[importlib.reload(module) for module in modules]\n",
    "u.notify('retro')\n",
    "\n",
    "logger.milestone(\"Good morning, let's get to work\")"
   ]
  },
  {
   "cell_type": "markdown",
   "metadata": {},
   "source": [
    "# Model Training"
   ]
  },
  {
   "cell_type": "markdown",
   "metadata": {},
   "source": [
    "## Multi Model Sequence"
   ]
  },
  {
   "cell_type": "markdown",
   "metadata": {},
   "source": [
    "### Initiate orchestrator"
   ]
  },
  {
   "cell_type": "code",
   "execution_count": null,
   "metadata": {},
   "outputs": [],
   "source": [
    "[importlib.reload(module) for module in modules]\n",
    "sage_wallets_config = yaml.safe_load(Path('../config/sage_wallets_config.yaml').read_text(encoding='utf-8'))\n",
    "sage_wallets_modeling_config = yaml.safe_load(Path('../config/sage_wallets_modeling_config.yaml').read_text(encoding='utf-8'))\n",
    "\n",
    "\n",
    "date_suffixes = [\n",
    "    '230908',\n",
    "    '231008',\n",
    "    '231107',\n",
    "    '231207',\n",
    "    '240106',\n",
    "    '240205',\n",
    "    '240306',\n",
    "    '240405',\n",
    "    '240505',\n",
    "    '240604',\n",
    "    '240704',\n",
    "    '240803',\n",
    "    '240902',\n",
    "    '241002',\n",
    "    '241201',\n",
    "    '241101',\n",
    "    '241231',\n",
    "    '250130',\n",
    "    '250301',\n",
    "]\n",
    "workflow_orch = wo.WalletWorkflowOrchestrator(sage_wallets_config,sage_wallets_modeling_config)"
   ]
  },
  {
   "cell_type": "markdown",
   "metadata": {},
   "source": [
    "### Load, preprocess, and upload all data"
   ]
  },
  {
   "cell_type": "markdown",
   "metadata": {},
   "source": [
    "#### load data"
   ]
  },
  {
   "cell_type": "code",
   "execution_count": null,
   "metadata": {},
   "outputs": [],
   "source": [
    "[importlib.reload(module) for module in modules]\n",
    "sage_wallets_config = yaml.safe_load(Path('../config/sage_wallets_config.yaml').read_text(encoding='utf-8'))\n",
    "sage_wallets_modeling_config = yaml.safe_load(Path('../config/sage_wallets_modeling_config.yaml').read_text(encoding='utf-8'))\n",
    "\n",
    "workflow_orch.load_all_training_data(date_suffixes)"
   ]
  },
  {
   "cell_type": "code",
   "execution_count": null,
   "metadata": {},
   "outputs": [],
   "source": [
    "workflow_orch.training_data['230908']['x_train'].index.get_level_values('epoch_start_date').max()"
   ]
  },
  {
   "cell_type": "markdown",
   "metadata": {},
   "source": [
    "##### inspect features"
   ]
  },
  {
   "cell_type": "code",
   "execution_count": null,
   "metadata": {},
   "outputs": [],
   "source": [
    "# Create combined NaN count and describe statistics\n",
    "first_key = next(iter(workflow_orch.training_data))\n",
    "nan_counts = workflow_orch.training_data[first_key]['x_train'].isna().sum()\n",
    "describe_stats = workflow_orch.training_data[first_key]['x_train'].describe().T\n",
    "\n",
    "# Combine into single DataFrame\n",
    "combined_stats = pd.concat([\n",
    "    nan_counts.rename('nan_count'),\n",
    "    describe_stats\n",
    "], axis=1).sort_index()\n",
    "\n",
    "u.display_full(combined_stats.sort_index())"
   ]
  },
  {
   "cell_type": "markdown",
   "metadata": {},
   "source": [
    "#### preprocess all data"
   ]
  },
  {
   "cell_type": "code",
   "execution_count": null,
   "metadata": {},
   "outputs": [],
   "source": [
    "preprocessed_by_date = workflow_orch.preprocess_all_training_data()"
   ]
  },
  {
   "cell_type": "code",
   "execution_count": null,
   "metadata": {},
   "outputs": [],
   "source": [
    "preprocessed_by_date.keys()"
   ]
  },
  {
   "cell_type": "code",
   "execution_count": null,
   "metadata": {},
   "outputs": [],
   "source": [
    "preprocessed_by_date['230908'].keys()"
   ]
  },
  {
   "cell_type": "code",
   "execution_count": null,
   "metadata": {},
   "outputs": [],
   "source": [
    "preprocessed_by_date['230908']['train']"
   ]
  },
  {
   "cell_type": "markdown",
   "metadata": {},
   "source": [
    "#### upload all data"
   ]
  },
  {
   "cell_type": "code",
   "execution_count": null,
   "metadata": {},
   "outputs": [],
   "source": [
    "# Upload and retrieve URIs\n",
    "workflow_orch.upload_all_training_data(overwrite_existing=True)\n",
    "s3_uris = workflow_orch.retrieve_training_data_uris(date_suffixes)"
   ]
  },
  {
   "cell_type": "markdown",
   "metadata": {},
   "source": [
    "### Train all models"
   ]
  },
  {
   "cell_type": "code",
   "execution_count": null,
   "metadata": {},
   "outputs": [],
   "source": [
    "workflow_orch.load_all_training_data(date_suffixes)\n",
    "modeling_results = workflow_orch.train_all_models()"
   ]
  },
  {
   "cell_type": "markdown",
   "metadata": {},
   "source": [
    "### Predict with all models"
   ]
  },
  {
   "cell_type": "code",
   "execution_count": null,
   "metadata": {},
   "outputs": [],
   "source": [
    "[importlib.reload(module) for module in modules]\n",
    "sage_wallets_config = yaml.safe_load(Path('../config/sage_wallets_config.yaml').read_text(encoding='utf-8'))\n",
    "sage_wallets_modeling_config = yaml.safe_load(Path('../config/sage_wallets_modeling_config.yaml').read_text(encoding='utf-8'))\n",
    "\n",
    "\n",
    "date_suffixes = [\n",
    "    '231008',\n",
    "    '231107',\n",
    "    '240306',\n",
    "    '250301'\n",
    "]\n",
    "workflow_orch = wo.WalletWorkflowOrchestrator(sage_wallets_config,sage_wallets_modeling_config)\n",
    "workflow_orch.load_all_training_data(date_suffixes)\n",
    "s3_uris = workflow_orch.retrieve_training_data_uris(date_suffixes)"
   ]
  },
  {
   "cell_type": "code",
   "execution_count": null,
   "metadata": {},
   "outputs": [],
   "source": [
    "result = workflow_orch.predict_with_all_models()"
   ]
  },
  {
   "cell_type": "markdown",
   "metadata": {},
   "source": [
    "### Evaluate all models"
   ]
  },
  {
   "cell_type": "code",
   "execution_count": null,
   "metadata": {},
   "outputs": [],
   "source": [
    "[importlib.reload(module) for module in modules]\n",
    "sage_wallets_config = yaml.safe_load(Path('../config/sage_wallets_config.yaml').read_text(encoding='utf-8'))\n",
    "sage_wallets_modeling_config = yaml.safe_load(Path('../config/sage_wallets_modeling_config.yaml').read_text(encoding='utf-8'))\n",
    "\n",
    "\n",
    "date_suffixes = [\n",
    "    '231008',\n",
    "    '231107',\n",
    "    '240306',\n",
    "    '250301'\n",
    "]\n",
    "workflow_orch = wo.WalletWorkflowOrchestrator(sage_wallets_config,sage_wallets_modeling_config)\n",
    "workflow_orch.load_all_training_data(date_suffixes)\n",
    "\n",
    "evaluators = workflow_orch.evaluate_all_models()\n"
   ]
  },
  {
   "cell_type": "code",
   "execution_count": null,
   "metadata": {},
   "outputs": [],
   "source": [
    "for e in evaluators:\n",
    "    evaluators[e].plot_wallet_evaluation()"
   ]
  },
  {
   "cell_type": "markdown",
   "metadata": {},
   "source": [
    "## Concatenated Model Sequence"
   ]
  },
  {
   "cell_type": "code",
   "execution_count": 4,
   "metadata": {},
   "outputs": [
    {
     "name": "stderr",
     "output_type": "stream",
     "text": [
      "\u001b[0m[02/Aug/25 19:30:09] INFO [workflow_orchestrator.load_all_training_data:118] Auto-detected date_suffixes from config: ['230908', '231008', '231107', '231207', '240106', '240205', '240306', '240405', '240505', '240604', '240704', '240803', '240902', '241002', '241201', '241101', '241231', '250130', '250301']\u001b[0m\n",
      "\u001b[92m[02/Aug/25 19:30:09] MILESTONE [workflow_orchestrator.load_all_training_data:138] <DEV> Loading training data for 19 periods: ['230908', '231008', '231107', '231207', '240106', '240205', '240306', '240405', '240505', '240604', '240704', '240803', '240902', '241002', '241201', '241101', '241231', '250130', '250301']\u001b[0m\n",
      "\u001b[0m[02/Aug/25 19:30:10] INFO [workflow_orchestrator.load_all_training_data:154] Training data loaded successfully: 152,000 total rows and 9 offsets for each date_suffix.\u001b[0m\n"
     ]
    }
   ],
   "source": [
    "[importlib.reload(module) for module in modules]\n",
    "sage_wallets_config = yaml.safe_load(Path('../config/sage_wallets_config.yaml').read_text(encoding='utf-8'))\n",
    "sage_wallets_modeling_config = yaml.safe_load(Path('../config/sage_wallets_modeling_config.yaml').read_text(encoding='utf-8'))\n",
    "\n",
    "\n",
    "workflow_orch = wo.WalletWorkflowOrchestrator(\n",
    "    sage_wallets_config,\n",
    "    sage_wallets_modeling_config\n",
    ")\n",
    "workflow_orch.load_all_training_data()"
   ]
  },
  {
   "cell_type": "markdown",
   "metadata": {},
   "source": [
    "#### concatenate"
   ]
  },
  {
   "cell_type": "code",
   "execution_count": 5,
   "metadata": {},
   "outputs": [
    {
     "name": "stderr",
     "output_type": "stream",
     "text": [
      "\u001b[0m[02/Aug/25 19:30:13] INFO [workflow_orchestrator.concatenate_all_preprocessed_data:217] Beginning concatenation of preprocessed data...\u001b[0m\n",
      "\u001b[0m[02/Aug/25 19:30:13] INFO [workflow_orchestrator.preprocess_all_training_data:176] Preprocessing 19 date periods...\u001b[0m\n",
      "\u001b[0m[02/Aug/25 19:30:13] INFO [workflow_orchestrator._filter_temporal_overlap:899] Temporal filtering for 230908: removed 4,736 rows (59.2%) to prevent overlap\u001b[0m\n",
      "\u001b[0m[02/Aug/25 19:30:13] INFO [wallet_preprocessor.preprocess_training_data:77] Starting preprocessing for SageMaker XGBoost compatibility...\u001b[0m\n",
      "\u001b[0m[02/Aug/25 19:30:13] INFO [wallet_preprocessor._handle_missing_values:241] Filled NaN values in 100 columns for x_train.\u001b[0m\n",
      "\u001b[0m[02/Aug/25 19:30:13] INFO [wallet_preprocessor.preprocess_y_data:280] Applied classification threshold 0.05 to y_train: 35 positive (16.9%), 172 negative (83.1%)\u001b[0m\n",
      "\u001b[0m[02/Aug/25 19:30:13] INFO [wallet_preprocessor._combine_x_y_data:391] Merged y df with target var cw_crypto_net_gain/crypto_inflows/winsorized with X data.\u001b[0m\n",
      "\u001b[0m[02/Aug/25 19:30:13] INFO [wallet_preprocessor._save_preprocessed_df:437] Saved preprocessed train split to ../s3_uploads/wallet_training_data_preprocessed/dda_927_concat_offsets_v3_dev/230908/train.csv\u001b[0m\n",
      "\u001b[0m[02/Aug/25 19:30:13] INFO [wallet_preprocessor._save_preprocessed_df:437] Saved preprocessed train_y split to ../s3_uploads/wallet_training_data_preprocessed/dda_927_concat_offsets_v3_dev/230908/train_y.csv\u001b[0m\n",
      "\u001b[0m[02/Aug/25 19:30:13] INFO [wallet_preprocessor.preprocess_training_data:123] Preprocessed train: 207 rows × 222 cols.\u001b[0m\n",
      "\u001b[0m[02/Aug/25 19:30:13] INFO [wallet_preprocessor._handle_missing_values:241] Filled NaN values in 100 columns for x_test.\u001b[0m\n",
      "\u001b[0m[02/Aug/25 19:30:13] INFO [wallet_preprocessor.preprocess_y_data:280] Applied classification threshold 0.05 to y_test: 33 positive (15.1%), 186 negative (84.9%)\u001b[0m\n",
      "\u001b[0m[02/Aug/25 19:30:13] INFO [wallet_preprocessor._save_preprocessed_df:437] Saved preprocessed test split to ../s3_uploads/wallet_training_data_preprocessed/dda_927_concat_offsets_v3_dev/230908/test.csv\u001b[0m\n",
      "\u001b[0m[02/Aug/25 19:30:13] INFO [wallet_preprocessor._save_preprocessed_df:437] Saved preprocessed test_y split to ../s3_uploads/wallet_training_data_preprocessed/dda_927_concat_offsets_v3_dev/230908/test_y.csv\u001b[0m\n",
      "\u001b[0m[02/Aug/25 19:30:13] INFO [wallet_preprocessor.preprocess_training_data:123] Preprocessed test: 219 rows × 221 cols.\u001b[0m\n",
      "\u001b[0m[02/Aug/25 19:30:13] INFO [wallet_preprocessor._handle_missing_values:241] Filled NaN values in 100 columns for x_eval.\u001b[0m\n",
      "\u001b[0m[02/Aug/25 19:30:13] INFO [wallet_preprocessor.preprocess_y_data:280] Applied classification threshold 0.05 to y_eval: 42 positive (20.4%), 164 negative (79.6%)\u001b[0m\n",
      "\u001b[0m[02/Aug/25 19:30:13] INFO [wallet_preprocessor._combine_x_y_data:391] Merged y df with target var cw_crypto_net_gain/crypto_inflows/winsorized with X data.\u001b[0m\n",
      "\u001b[0m[02/Aug/25 19:30:13] INFO [wallet_preprocessor._save_preprocessed_df:437] Saved preprocessed eval split to ../s3_uploads/wallet_training_data_preprocessed/dda_927_concat_offsets_v3_dev/230908/eval.csv\u001b[0m\n",
      "\u001b[0m[02/Aug/25 19:30:13] INFO [wallet_preprocessor._save_preprocessed_df:437] Saved preprocessed eval_y split to ../s3_uploads/wallet_training_data_preprocessed/dda_927_concat_offsets_v3_dev/230908/eval_y.csv\u001b[0m\n",
      "\u001b[0m[02/Aug/25 19:30:13] INFO [wallet_preprocessor.preprocess_training_data:123] Preprocessed eval: 206 rows × 222 cols.\u001b[0m\n",
      "\u001b[0m[02/Aug/25 19:30:13] INFO [wallet_preprocessor._handle_missing_values:241] Filled NaN values in 92 columns for x_val.\u001b[0m\n",
      "\u001b[0m[02/Aug/25 19:30:13] INFO [wallet_preprocessor.preprocess_y_data:280] Applied classification threshold 0.05 to y_val: 658 positive (65.8%), 342 negative (34.2%)\u001b[0m\n",
      "\u001b[0m[02/Aug/25 19:30:13] INFO [wallet_preprocessor._save_preprocessed_df:437] Saved preprocessed val split to ../s3_uploads/wallet_training_data_preprocessed/dda_927_concat_offsets_v3_dev/230908/val.csv\u001b[0m\n",
      "\u001b[0m[02/Aug/25 19:30:13] INFO [wallet_preprocessor._save_preprocessed_df:437] Saved preprocessed val_y split to ../s3_uploads/wallet_training_data_preprocessed/dda_927_concat_offsets_v3_dev/230908/val_y.csv\u001b[0m\n",
      "\u001b[0m[02/Aug/25 19:30:13] INFO [wallet_preprocessor.preprocess_training_data:123] Preprocessed val: 1,000 rows × 221 cols.\u001b[0m\n",
      "\u001b[0m[02/Aug/25 19:30:13] INFO [wallet_preprocessor.preprocess_training_data:131] Saved metadata to ../s3_uploads/wallet_training_data_preprocessed/dda_927_concat_offsets_v3_dev/230908/metadata.json\u001b[0m\n",
      "\u001b[92m[02/Aug/25 19:30:13] MILESTONE [wallet_preprocessor.preprocess_training_data:133] Successfully preprocessed data for '230908'.\u001b[0m\n",
      "\u001b[0m[02/Aug/25 19:30:13] INFO [workflow_orchestrator._filter_temporal_overlap:899] Temporal filtering for 231008: removed 4,718 rows (59.0%) to prevent overlap\u001b[0m\n",
      "\u001b[0m[02/Aug/25 19:30:13] INFO [wallet_preprocessor.preprocess_training_data:77] Starting preprocessing for SageMaker XGBoost compatibility...\u001b[0m\n",
      "\u001b[0m[02/Aug/25 19:30:13] INFO [wallet_preprocessor._handle_missing_values:241] Filled NaN values in 92 columns for x_train.\u001b[0m\n",
      "\u001b[0m[02/Aug/25 19:30:13] INFO [wallet_preprocessor.preprocess_y_data:280] Applied classification threshold 0.05 to y_train: 139 positive (62.6%), 83 negative (37.4%)\u001b[0m\n",
      "\u001b[0m[02/Aug/25 19:30:13] INFO [wallet_preprocessor._combine_x_y_data:391] Merged y df with target var cw_crypto_net_gain/crypto_inflows/winsorized with X data.\u001b[0m\n",
      "\u001b[0m[02/Aug/25 19:30:13] INFO [wallet_preprocessor._save_preprocessed_df:437] Saved preprocessed train split to ../s3_uploads/wallet_training_data_preprocessed/dda_927_concat_offsets_v3_dev/231008/train.csv\u001b[0m\n",
      "\u001b[0m[02/Aug/25 19:30:13] INFO [wallet_preprocessor._save_preprocessed_df:437] Saved preprocessed train_y split to ../s3_uploads/wallet_training_data_preprocessed/dda_927_concat_offsets_v3_dev/231008/train_y.csv\u001b[0m\n",
      "\u001b[0m[02/Aug/25 19:30:13] INFO [wallet_preprocessor.preprocess_training_data:123] Preprocessed train: 222 rows × 222 cols.\u001b[0m\n",
      "\u001b[0m[02/Aug/25 19:30:13] INFO [wallet_preprocessor._handle_missing_values:241] Filled NaN values in 92 columns for x_test.\u001b[0m\n",
      "\u001b[0m[02/Aug/25 19:30:13] INFO [wallet_preprocessor.preprocess_y_data:280] Applied classification threshold 0.05 to y_test: 137 positive (66.2%), 70 negative (33.8%)\u001b[0m\n",
      "\u001b[0m[02/Aug/25 19:30:13] INFO [wallet_preprocessor._save_preprocessed_df:437] Saved preprocessed test split to ../s3_uploads/wallet_training_data_preprocessed/dda_927_concat_offsets_v3_dev/231008/test.csv\u001b[0m\n",
      "\u001b[0m[02/Aug/25 19:30:13] INFO [wallet_preprocessor._save_preprocessed_df:437] Saved preprocessed test_y split to ../s3_uploads/wallet_training_data_preprocessed/dda_927_concat_offsets_v3_dev/231008/test_y.csv\u001b[0m\n",
      "\u001b[0m[02/Aug/25 19:30:13] INFO [wallet_preprocessor.preprocess_training_data:123] Preprocessed test: 207 rows × 221 cols.\u001b[0m\n",
      "\u001b[0m[02/Aug/25 19:30:13] INFO [wallet_preprocessor._handle_missing_values:241] Filled NaN values in 92 columns for x_eval.\u001b[0m\n",
      "\u001b[0m[02/Aug/25 19:30:13] INFO [wallet_preprocessor.preprocess_y_data:280] Applied classification threshold 0.05 to y_eval: 128 positive (60.4%), 84 negative (39.6%)\u001b[0m\n",
      "\u001b[0m[02/Aug/25 19:30:13] INFO [wallet_preprocessor._combine_x_y_data:391] Merged y df with target var cw_crypto_net_gain/crypto_inflows/winsorized with X data.\u001b[0m\n",
      "\u001b[0m[02/Aug/25 19:30:13] INFO [wallet_preprocessor._save_preprocessed_df:437] Saved preprocessed eval split to ../s3_uploads/wallet_training_data_preprocessed/dda_927_concat_offsets_v3_dev/231008/eval.csv\u001b[0m\n",
      "\u001b[0m[02/Aug/25 19:30:13] INFO [wallet_preprocessor._save_preprocessed_df:437] Saved preprocessed eval_y split to ../s3_uploads/wallet_training_data_preprocessed/dda_927_concat_offsets_v3_dev/231008/eval_y.csv\u001b[0m\n",
      "\u001b[0m[02/Aug/25 19:30:13] INFO [wallet_preprocessor.preprocess_training_data:123] Preprocessed eval: 212 rows × 222 cols.\u001b[0m\n",
      "\u001b[0m[02/Aug/25 19:30:13] INFO [wallet_preprocessor._handle_missing_values:241] Filled NaN values in 100 columns for x_val.\u001b[0m\n",
      "\u001b[0m[02/Aug/25 19:30:13] INFO [wallet_preprocessor.preprocess_y_data:280] Applied classification threshold 0.05 to y_val: 597 positive (59.7%), 403 negative (40.3%)\u001b[0m\n",
      "\u001b[0m[02/Aug/25 19:30:13] INFO [wallet_preprocessor._save_preprocessed_df:437] Saved preprocessed val split to ../s3_uploads/wallet_training_data_preprocessed/dda_927_concat_offsets_v3_dev/231008/val.csv\u001b[0m\n",
      "\u001b[0m[02/Aug/25 19:30:13] INFO [wallet_preprocessor._save_preprocessed_df:437] Saved preprocessed val_y split to ../s3_uploads/wallet_training_data_preprocessed/dda_927_concat_offsets_v3_dev/231008/val_y.csv\u001b[0m\n",
      "\u001b[0m[02/Aug/25 19:30:13] INFO [wallet_preprocessor.preprocess_training_data:123] Preprocessed val: 1,000 rows × 221 cols.\u001b[0m\n",
      "\u001b[0m[02/Aug/25 19:30:13] INFO [wallet_preprocessor.preprocess_training_data:131] Saved metadata to ../s3_uploads/wallet_training_data_preprocessed/dda_927_concat_offsets_v3_dev/231008/metadata.json\u001b[0m\n",
      "\u001b[92m[02/Aug/25 19:30:13] MILESTONE [wallet_preprocessor.preprocess_training_data:133] Successfully preprocessed data for '231008'.\u001b[0m\n",
      "\u001b[0m[02/Aug/25 19:30:13] INFO [workflow_orchestrator._filter_temporal_overlap:899] Temporal filtering for 231107: removed 4,170 rows (52.1%) to prevent overlap\u001b[0m\n",
      "\u001b[0m[02/Aug/25 19:30:13] INFO [wallet_preprocessor.preprocess_training_data:77] Starting preprocessing for SageMaker XGBoost compatibility...\u001b[0m\n",
      "\u001b[0m[02/Aug/25 19:30:13] INFO [wallet_preprocessor._handle_missing_values:241] Filled NaN values in 100 columns for x_train.\u001b[0m\n",
      "\u001b[0m[02/Aug/25 19:30:13] INFO [wallet_preprocessor.preprocess_y_data:280] Applied classification threshold 0.05 to y_train: 176 positive (61.3%), 111 negative (38.7%)\u001b[0m\n",
      "\u001b[0m[02/Aug/25 19:30:13] INFO [wallet_preprocessor._combine_x_y_data:391] Merged y df with target var cw_crypto_net_gain/crypto_inflows/winsorized with X data.\u001b[0m\n",
      "\u001b[0m[02/Aug/25 19:30:13] INFO [wallet_preprocessor._save_preprocessed_df:437] Saved preprocessed train split to ../s3_uploads/wallet_training_data_preprocessed/dda_927_concat_offsets_v3_dev/231107/train.csv\u001b[0m\n",
      "\u001b[0m[02/Aug/25 19:30:13] INFO [wallet_preprocessor._save_preprocessed_df:437] Saved preprocessed train_y split to ../s3_uploads/wallet_training_data_preprocessed/dda_927_concat_offsets_v3_dev/231107/train_y.csv\u001b[0m\n",
      "\u001b[0m[02/Aug/25 19:30:13] INFO [wallet_preprocessor.preprocess_training_data:123] Preprocessed train: 287 rows × 222 cols.\u001b[0m\n",
      "\u001b[0m[02/Aug/25 19:30:13] INFO [wallet_preprocessor._handle_missing_values:241] Filled NaN values in 100 columns for x_test.\u001b[0m\n",
      "\u001b[0m[02/Aug/25 19:30:13] INFO [wallet_preprocessor.preprocess_y_data:280] Applied classification threshold 0.05 to y_test: 197 positive (61.4%), 124 negative (38.6%)\u001b[0m\n",
      "\u001b[0m[02/Aug/25 19:30:13] INFO [wallet_preprocessor._save_preprocessed_df:437] Saved preprocessed test split to ../s3_uploads/wallet_training_data_preprocessed/dda_927_concat_offsets_v3_dev/231107/test.csv\u001b[0m\n",
      "\u001b[0m[02/Aug/25 19:30:13] INFO [wallet_preprocessor._save_preprocessed_df:437] Saved preprocessed test_y split to ../s3_uploads/wallet_training_data_preprocessed/dda_927_concat_offsets_v3_dev/231107/test_y.csv\u001b[0m\n",
      "\u001b[0m[02/Aug/25 19:30:13] INFO [wallet_preprocessor.preprocess_training_data:123] Preprocessed test: 321 rows × 221 cols.\u001b[0m\n",
      "\u001b[0m[02/Aug/25 19:30:13] INFO [wallet_preprocessor._handle_missing_values:241] Filled NaN values in 100 columns for x_eval.\u001b[0m\n",
      "\u001b[0m[02/Aug/25 19:30:13] INFO [wallet_preprocessor.preprocess_y_data:280] Applied classification threshold 0.05 to y_eval: 164 positive (53.4%), 143 negative (46.6%)\u001b[0m\n",
      "\u001b[0m[02/Aug/25 19:30:13] INFO [wallet_preprocessor._combine_x_y_data:391] Merged y df with target var cw_crypto_net_gain/crypto_inflows/winsorized with X data.\u001b[0m\n",
      "\u001b[0m[02/Aug/25 19:30:13] INFO [wallet_preprocessor._save_preprocessed_df:437] Saved preprocessed eval split to ../s3_uploads/wallet_training_data_preprocessed/dda_927_concat_offsets_v3_dev/231107/eval.csv\u001b[0m\n",
      "\u001b[0m[02/Aug/25 19:30:13] INFO [wallet_preprocessor._save_preprocessed_df:437] Saved preprocessed eval_y split to ../s3_uploads/wallet_training_data_preprocessed/dda_927_concat_offsets_v3_dev/231107/eval_y.csv\u001b[0m\n",
      "\u001b[0m[02/Aug/25 19:30:13] INFO [wallet_preprocessor.preprocess_training_data:123] Preprocessed eval: 307 rows × 222 cols.\u001b[0m\n",
      "\u001b[0m[02/Aug/25 19:30:13] INFO [wallet_preprocessor._handle_missing_values:241] Filled NaN values in 100 columns for x_val.\u001b[0m\n",
      "\u001b[0m[02/Aug/25 19:30:13] INFO [wallet_preprocessor.preprocess_y_data:280] Applied classification threshold 0.05 to y_val: 296 positive (29.6%), 704 negative (70.4%)\u001b[0m\n",
      "\u001b[0m[02/Aug/25 19:30:14] INFO [wallet_preprocessor._save_preprocessed_df:437] Saved preprocessed val split to ../s3_uploads/wallet_training_data_preprocessed/dda_927_concat_offsets_v3_dev/231107/val.csv\u001b[0m\n",
      "\u001b[0m[02/Aug/25 19:30:14] INFO [wallet_preprocessor._save_preprocessed_df:437] Saved preprocessed val_y split to ../s3_uploads/wallet_training_data_preprocessed/dda_927_concat_offsets_v3_dev/231107/val_y.csv\u001b[0m\n",
      "\u001b[0m[02/Aug/25 19:30:14] INFO [wallet_preprocessor.preprocess_training_data:123] Preprocessed val: 1,000 rows × 221 cols.\u001b[0m\n",
      "\u001b[0m[02/Aug/25 19:30:14] INFO [wallet_preprocessor.preprocess_training_data:131] Saved metadata to ../s3_uploads/wallet_training_data_preprocessed/dda_927_concat_offsets_v3_dev/231107/metadata.json\u001b[0m\n",
      "\u001b[92m[02/Aug/25 19:30:14] MILESTONE [wallet_preprocessor.preprocess_training_data:133] Successfully preprocessed data for '231107'.\u001b[0m\n",
      "\u001b[0m[02/Aug/25 19:30:14] INFO [workflow_orchestrator._filter_temporal_overlap:899] Temporal filtering for 231207: removed 3,202 rows (40.0%) to prevent overlap\u001b[0m\n",
      "\u001b[0m[02/Aug/25 19:30:14] INFO [wallet_preprocessor.preprocess_training_data:77] Starting preprocessing for SageMaker XGBoost compatibility...\u001b[0m\n",
      "\u001b[0m[02/Aug/25 19:30:14] INFO [wallet_preprocessor._handle_missing_values:241] Filled NaN values in 100 columns for x_train.\u001b[0m\n",
      "\u001b[0m[02/Aug/25 19:30:14] INFO [wallet_preprocessor.preprocess_y_data:280] Applied classification threshold 0.05 to y_train: 148 positive (32.2%), 311 negative (67.8%)\u001b[0m\n",
      "\u001b[0m[02/Aug/25 19:30:14] INFO [wallet_preprocessor._combine_x_y_data:391] Merged y df with target var cw_crypto_net_gain/crypto_inflows/winsorized with X data.\u001b[0m\n",
      "\u001b[0m[02/Aug/25 19:30:14] INFO [wallet_preprocessor._save_preprocessed_df:437] Saved preprocessed train split to ../s3_uploads/wallet_training_data_preprocessed/dda_927_concat_offsets_v3_dev/231207/train.csv\u001b[0m\n",
      "\u001b[0m[02/Aug/25 19:30:14] INFO [wallet_preprocessor._save_preprocessed_df:437] Saved preprocessed train_y split to ../s3_uploads/wallet_training_data_preprocessed/dda_927_concat_offsets_v3_dev/231207/train_y.csv\u001b[0m\n",
      "\u001b[0m[02/Aug/25 19:30:14] INFO [wallet_preprocessor.preprocess_training_data:123] Preprocessed train: 459 rows × 222 cols.\u001b[0m\n",
      "\u001b[0m[02/Aug/25 19:30:14] INFO [wallet_preprocessor._handle_missing_values:241] Filled NaN values in 100 columns for x_test.\u001b[0m\n",
      "\u001b[0m[02/Aug/25 19:30:14] INFO [wallet_preprocessor.preprocess_y_data:280] Applied classification threshold 0.05 to y_test: 143 positive (30.0%), 334 negative (70.0%)\u001b[0m\n",
      "\u001b[0m[02/Aug/25 19:30:14] INFO [wallet_preprocessor._save_preprocessed_df:437] Saved preprocessed test split to ../s3_uploads/wallet_training_data_preprocessed/dda_927_concat_offsets_v3_dev/231207/test.csv\u001b[0m\n",
      "\u001b[0m[02/Aug/25 19:30:14] INFO [wallet_preprocessor._save_preprocessed_df:437] Saved preprocessed test_y split to ../s3_uploads/wallet_training_data_preprocessed/dda_927_concat_offsets_v3_dev/231207/test_y.csv\u001b[0m\n",
      "\u001b[0m[02/Aug/25 19:30:14] INFO [wallet_preprocessor.preprocess_training_data:123] Preprocessed test: 477 rows × 221 cols.\u001b[0m\n",
      "\u001b[0m[02/Aug/25 19:30:14] INFO [wallet_preprocessor._handle_missing_values:241] Filled NaN values in 100 columns for x_eval.\u001b[0m\n",
      "\u001b[0m[02/Aug/25 19:30:14] INFO [wallet_preprocessor.preprocess_y_data:280] Applied classification threshold 0.05 to y_eval: 149 positive (32.2%), 314 negative (67.8%)\u001b[0m\n",
      "\u001b[0m[02/Aug/25 19:30:14] INFO [wallet_preprocessor._combine_x_y_data:391] Merged y df with target var cw_crypto_net_gain/crypto_inflows/winsorized with X data.\u001b[0m\n",
      "\u001b[0m[02/Aug/25 19:30:14] INFO [wallet_preprocessor._save_preprocessed_df:437] Saved preprocessed eval split to ../s3_uploads/wallet_training_data_preprocessed/dda_927_concat_offsets_v3_dev/231207/eval.csv\u001b[0m\n",
      "\u001b[0m[02/Aug/25 19:30:14] INFO [wallet_preprocessor._save_preprocessed_df:437] Saved preprocessed eval_y split to ../s3_uploads/wallet_training_data_preprocessed/dda_927_concat_offsets_v3_dev/231207/eval_y.csv\u001b[0m\n",
      "\u001b[0m[02/Aug/25 19:30:14] INFO [wallet_preprocessor.preprocess_training_data:123] Preprocessed eval: 463 rows × 222 cols.\u001b[0m\n",
      "\u001b[0m[02/Aug/25 19:30:14] INFO [wallet_preprocessor._handle_missing_values:241] Filled NaN values in 100 columns for x_val.\u001b[0m\n",
      "\u001b[0m[02/Aug/25 19:30:14] INFO [wallet_preprocessor.preprocess_y_data:280] Applied classification threshold 0.05 to y_val: 163 positive (16.3%), 837 negative (83.7%)\u001b[0m\n",
      "\u001b[0m[02/Aug/25 19:30:14] INFO [wallet_preprocessor._save_preprocessed_df:437] Saved preprocessed val split to ../s3_uploads/wallet_training_data_preprocessed/dda_927_concat_offsets_v3_dev/231207/val.csv\u001b[0m\n",
      "\u001b[0m[02/Aug/25 19:30:14] INFO [wallet_preprocessor._save_preprocessed_df:437] Saved preprocessed val_y split to ../s3_uploads/wallet_training_data_preprocessed/dda_927_concat_offsets_v3_dev/231207/val_y.csv\u001b[0m\n",
      "\u001b[0m[02/Aug/25 19:30:14] INFO [wallet_preprocessor.preprocess_training_data:123] Preprocessed val: 1,000 rows × 221 cols.\u001b[0m\n",
      "\u001b[0m[02/Aug/25 19:30:14] INFO [wallet_preprocessor.preprocess_training_data:131] Saved metadata to ../s3_uploads/wallet_training_data_preprocessed/dda_927_concat_offsets_v3_dev/231207/metadata.json\u001b[0m\n",
      "\u001b[92m[02/Aug/25 19:30:14] MILESTONE [wallet_preprocessor.preprocess_training_data:133] Successfully preprocessed data for '231207'.\u001b[0m\n",
      "\u001b[0m[02/Aug/25 19:30:14] INFO [workflow_orchestrator._filter_temporal_overlap:899] Temporal filtering for 240106: removed 3,624 rows (45.3%) to prevent overlap\u001b[0m\n",
      "\u001b[0m[02/Aug/25 19:30:14] INFO [wallet_preprocessor.preprocess_training_data:77] Starting preprocessing for SageMaker XGBoost compatibility...\u001b[0m\n",
      "\u001b[0m[02/Aug/25 19:30:14] INFO [wallet_preprocessor._handle_missing_values:241] Filled NaN values in 100 columns for x_train.\u001b[0m\n",
      "\u001b[0m[02/Aug/25 19:30:14] INFO [wallet_preprocessor.preprocess_y_data:280] Applied classification threshold 0.05 to y_train: 78 positive (19.2%), 329 negative (80.8%)\u001b[0m\n",
      "\u001b[0m[02/Aug/25 19:30:14] INFO [wallet_preprocessor._combine_x_y_data:391] Merged y df with target var cw_crypto_net_gain/crypto_inflows/winsorized with X data.\u001b[0m\n",
      "\u001b[0m[02/Aug/25 19:30:14] INFO [wallet_preprocessor._save_preprocessed_df:437] Saved preprocessed train split to ../s3_uploads/wallet_training_data_preprocessed/dda_927_concat_offsets_v3_dev/240106/train.csv\u001b[0m\n",
      "\u001b[0m[02/Aug/25 19:30:14] INFO [wallet_preprocessor._save_preprocessed_df:437] Saved preprocessed train_y split to ../s3_uploads/wallet_training_data_preprocessed/dda_927_concat_offsets_v3_dev/240106/train_y.csv\u001b[0m\n",
      "\u001b[0m[02/Aug/25 19:30:14] INFO [wallet_preprocessor.preprocess_training_data:123] Preprocessed train: 407 rows × 222 cols.\u001b[0m\n",
      "\u001b[0m[02/Aug/25 19:30:14] INFO [wallet_preprocessor._handle_missing_values:241] Filled NaN values in 100 columns for x_test.\u001b[0m\n",
      "\u001b[0m[02/Aug/25 19:30:14] INFO [wallet_preprocessor.preprocess_y_data:280] Applied classification threshold 0.05 to y_test: 60 positive (15.9%), 317 negative (84.1%)\u001b[0m\n",
      "\u001b[0m[02/Aug/25 19:30:14] INFO [wallet_preprocessor._save_preprocessed_df:437] Saved preprocessed test split to ../s3_uploads/wallet_training_data_preprocessed/dda_927_concat_offsets_v3_dev/240106/test.csv\u001b[0m\n",
      "\u001b[0m[02/Aug/25 19:30:14] INFO [wallet_preprocessor._save_preprocessed_df:437] Saved preprocessed test_y split to ../s3_uploads/wallet_training_data_preprocessed/dda_927_concat_offsets_v3_dev/240106/test_y.csv\u001b[0m\n",
      "\u001b[0m[02/Aug/25 19:30:14] INFO [wallet_preprocessor.preprocess_training_data:123] Preprocessed test: 377 rows × 221 cols.\u001b[0m\n",
      "\u001b[0m[02/Aug/25 19:30:14] INFO [wallet_preprocessor._handle_missing_values:241] Filled NaN values in 100 columns for x_eval.\u001b[0m\n",
      "\u001b[0m[02/Aug/25 19:30:14] INFO [wallet_preprocessor.preprocess_y_data:280] Applied classification threshold 0.05 to y_eval: 76 positive (18.8%), 328 negative (81.2%)\u001b[0m\n",
      "\u001b[0m[02/Aug/25 19:30:14] INFO [wallet_preprocessor._combine_x_y_data:391] Merged y df with target var cw_crypto_net_gain/crypto_inflows/winsorized with X data.\u001b[0m\n",
      "\u001b[0m[02/Aug/25 19:30:14] INFO [wallet_preprocessor._save_preprocessed_df:437] Saved preprocessed eval split to ../s3_uploads/wallet_training_data_preprocessed/dda_927_concat_offsets_v3_dev/240106/eval.csv\u001b[0m\n",
      "\u001b[0m[02/Aug/25 19:30:14] INFO [wallet_preprocessor._save_preprocessed_df:437] Saved preprocessed eval_y split to ../s3_uploads/wallet_training_data_preprocessed/dda_927_concat_offsets_v3_dev/240106/eval_y.csv\u001b[0m\n",
      "\u001b[0m[02/Aug/25 19:30:14] INFO [wallet_preprocessor.preprocess_training_data:123] Preprocessed eval: 404 rows × 222 cols.\u001b[0m\n",
      "\u001b[0m[02/Aug/25 19:30:14] INFO [wallet_preprocessor._handle_missing_values:241] Filled NaN values in 100 columns for x_val.\u001b[0m\n",
      "\u001b[0m[02/Aug/25 19:30:14] INFO [wallet_preprocessor.preprocess_y_data:280] Applied classification threshold 0.05 to y_val: 724 positive (72.4%), 276 negative (27.6%)\u001b[0m\n",
      "\u001b[0m[02/Aug/25 19:30:14] INFO [wallet_preprocessor._save_preprocessed_df:437] Saved preprocessed val split to ../s3_uploads/wallet_training_data_preprocessed/dda_927_concat_offsets_v3_dev/240106/val.csv\u001b[0m\n",
      "\u001b[0m[02/Aug/25 19:30:14] INFO [wallet_preprocessor._save_preprocessed_df:437] Saved preprocessed val_y split to ../s3_uploads/wallet_training_data_preprocessed/dda_927_concat_offsets_v3_dev/240106/val_y.csv\u001b[0m\n",
      "\u001b[0m[02/Aug/25 19:30:14] INFO [wallet_preprocessor.preprocess_training_data:123] Preprocessed val: 1,000 rows × 221 cols.\u001b[0m\n",
      "\u001b[0m[02/Aug/25 19:30:14] INFO [wallet_preprocessor.preprocess_training_data:131] Saved metadata to ../s3_uploads/wallet_training_data_preprocessed/dda_927_concat_offsets_v3_dev/240106/metadata.json\u001b[0m\n",
      "\u001b[92m[02/Aug/25 19:30:14] MILESTONE [wallet_preprocessor.preprocess_training_data:133] Successfully preprocessed data for '240106'.\u001b[0m\n",
      "\u001b[0m[02/Aug/25 19:30:14] INFO [workflow_orchestrator._filter_temporal_overlap:899] Temporal filtering for 240205: removed 3,642 rows (45.5%) to prevent overlap\u001b[0m\n",
      "\u001b[0m[02/Aug/25 19:30:14] INFO [wallet_preprocessor.preprocess_training_data:77] Starting preprocessing for SageMaker XGBoost compatibility...\u001b[0m\n",
      "\u001b[0m[02/Aug/25 19:30:14] INFO [wallet_preprocessor._handle_missing_values:241] Filled NaN values in 100 columns for x_train.\u001b[0m\n",
      "\u001b[0m[02/Aug/25 19:30:14] INFO [wallet_preprocessor.preprocess_y_data:280] Applied classification threshold 0.05 to y_train: 264 positive (68.6%), 121 negative (31.4%)\u001b[0m\n",
      "\u001b[0m[02/Aug/25 19:30:14] INFO [wallet_preprocessor._combine_x_y_data:391] Merged y df with target var cw_crypto_net_gain/crypto_inflows/winsorized with X data.\u001b[0m\n",
      "\u001b[0m[02/Aug/25 19:30:14] INFO [wallet_preprocessor._save_preprocessed_df:437] Saved preprocessed train split to ../s3_uploads/wallet_training_data_preprocessed/dda_927_concat_offsets_v3_dev/240205/train.csv\u001b[0m\n",
      "\u001b[0m[02/Aug/25 19:30:14] INFO [wallet_preprocessor._save_preprocessed_df:437] Saved preprocessed train_y split to ../s3_uploads/wallet_training_data_preprocessed/dda_927_concat_offsets_v3_dev/240205/train_y.csv\u001b[0m\n",
      "\u001b[0m[02/Aug/25 19:30:14] INFO [wallet_preprocessor.preprocess_training_data:123] Preprocessed train: 385 rows × 222 cols.\u001b[0m\n",
      "\u001b[0m[02/Aug/25 19:30:14] INFO [wallet_preprocessor._handle_missing_values:241] Filled NaN values in 100 columns for x_test.\u001b[0m\n",
      "\u001b[0m[02/Aug/25 19:30:14] INFO [wallet_preprocessor.preprocess_y_data:280] Applied classification threshold 0.05 to y_test: 249 positive (66.0%), 128 negative (34.0%)\u001b[0m\n",
      "\u001b[0m[02/Aug/25 19:30:14] INFO [wallet_preprocessor._save_preprocessed_df:437] Saved preprocessed test split to ../s3_uploads/wallet_training_data_preprocessed/dda_927_concat_offsets_v3_dev/240205/test.csv\u001b[0m\n",
      "\u001b[0m[02/Aug/25 19:30:14] INFO [wallet_preprocessor._save_preprocessed_df:437] Saved preprocessed test_y split to ../s3_uploads/wallet_training_data_preprocessed/dda_927_concat_offsets_v3_dev/240205/test_y.csv\u001b[0m\n",
      "\u001b[0m[02/Aug/25 19:30:14] INFO [wallet_preprocessor.preprocess_training_data:123] Preprocessed test: 377 rows × 221 cols.\u001b[0m\n",
      "\u001b[0m[02/Aug/25 19:30:14] INFO [wallet_preprocessor._handle_missing_values:241] Filled NaN values in 100 columns for x_eval.\u001b[0m\n",
      "\u001b[0m[02/Aug/25 19:30:14] INFO [wallet_preprocessor.preprocess_y_data:280] Applied classification threshold 0.05 to y_eval: 268 positive (64.3%), 149 negative (35.7%)\u001b[0m\n",
      "\u001b[0m[02/Aug/25 19:30:14] INFO [wallet_preprocessor._combine_x_y_data:391] Merged y df with target var cw_crypto_net_gain/crypto_inflows/winsorized with X data.\u001b[0m\n",
      "\u001b[0m[02/Aug/25 19:30:14] INFO [wallet_preprocessor._save_preprocessed_df:437] Saved preprocessed eval split to ../s3_uploads/wallet_training_data_preprocessed/dda_927_concat_offsets_v3_dev/240205/eval.csv\u001b[0m\n",
      "\u001b[0m[02/Aug/25 19:30:14] INFO [wallet_preprocessor._save_preprocessed_df:437] Saved preprocessed eval_y split to ../s3_uploads/wallet_training_data_preprocessed/dda_927_concat_offsets_v3_dev/240205/eval_y.csv\u001b[0m\n",
      "\u001b[0m[02/Aug/25 19:30:14] INFO [wallet_preprocessor.preprocess_training_data:123] Preprocessed eval: 417 rows × 222 cols.\u001b[0m\n",
      "\u001b[0m[02/Aug/25 19:30:14] INFO [wallet_preprocessor._handle_missing_values:241] Filled NaN values in 100 columns for x_val.\u001b[0m\n",
      "\u001b[0m[02/Aug/25 19:30:14] INFO [wallet_preprocessor.preprocess_y_data:280] Applied classification threshold 0.05 to y_val: 437 positive (43.7%), 563 negative (56.3%)\u001b[0m\n",
      "\u001b[0m[02/Aug/25 19:30:14] INFO [wallet_preprocessor._save_preprocessed_df:437] Saved preprocessed val split to ../s3_uploads/wallet_training_data_preprocessed/dda_927_concat_offsets_v3_dev/240205/val.csv\u001b[0m\n",
      "\u001b[0m[02/Aug/25 19:30:14] INFO [wallet_preprocessor._save_preprocessed_df:437] Saved preprocessed val_y split to ../s3_uploads/wallet_training_data_preprocessed/dda_927_concat_offsets_v3_dev/240205/val_y.csv\u001b[0m\n",
      "\u001b[0m[02/Aug/25 19:30:14] INFO [wallet_preprocessor.preprocess_training_data:123] Preprocessed val: 1,000 rows × 221 cols.\u001b[0m\n",
      "\u001b[0m[02/Aug/25 19:30:14] INFO [wallet_preprocessor.preprocess_training_data:131] Saved metadata to ../s3_uploads/wallet_training_data_preprocessed/dda_927_concat_offsets_v3_dev/240205/metadata.json\u001b[0m\n",
      "\u001b[92m[02/Aug/25 19:30:14] MILESTONE [wallet_preprocessor.preprocess_training_data:133] Successfully preprocessed data for '240205'.\u001b[0m\n",
      "\u001b[0m[02/Aug/25 19:30:14] INFO [workflow_orchestrator._filter_temporal_overlap:899] Temporal filtering for 240306: removed 3,424 rows (42.8%) to prevent overlap\u001b[0m\n",
      "\u001b[0m[02/Aug/25 19:30:14] INFO [wallet_preprocessor.preprocess_training_data:77] Starting preprocessing for SageMaker XGBoost compatibility...\u001b[0m\n",
      "\u001b[0m[02/Aug/25 19:30:14] INFO [wallet_preprocessor._handle_missing_values:241] Filled NaN values in 100 columns for x_train.\u001b[0m\n",
      "\u001b[0m[02/Aug/25 19:30:14] INFO [wallet_preprocessor.preprocess_y_data:280] Applied classification threshold 0.05 to y_train: 221 positive (48.6%), 234 negative (51.4%)\u001b[0m\n",
      "\u001b[0m[02/Aug/25 19:30:14] INFO [wallet_preprocessor._combine_x_y_data:391] Merged y df with target var cw_crypto_net_gain/crypto_inflows/winsorized with X data.\u001b[0m\n",
      "\u001b[0m[02/Aug/25 19:30:14] INFO [wallet_preprocessor._save_preprocessed_df:437] Saved preprocessed train split to ../s3_uploads/wallet_training_data_preprocessed/dda_927_concat_offsets_v3_dev/240306/train.csv\u001b[0m\n",
      "\u001b[0m[02/Aug/25 19:30:14] INFO [wallet_preprocessor._save_preprocessed_df:437] Saved preprocessed train_y split to ../s3_uploads/wallet_training_data_preprocessed/dda_927_concat_offsets_v3_dev/240306/train_y.csv\u001b[0m\n",
      "\u001b[0m[02/Aug/25 19:30:14] INFO [wallet_preprocessor.preprocess_training_data:123] Preprocessed train: 455 rows × 222 cols.\u001b[0m\n",
      "\u001b[0m[02/Aug/25 19:30:14] INFO [wallet_preprocessor._handle_missing_values:241] Filled NaN values in 100 columns for x_test.\u001b[0m\n",
      "\u001b[0m[02/Aug/25 19:30:14] INFO [wallet_preprocessor.preprocess_y_data:280] Applied classification threshold 0.05 to y_test: 192 positive (46.9%), 217 negative (53.1%)\u001b[0m\n",
      "\u001b[0m[02/Aug/25 19:30:14] INFO [wallet_preprocessor._save_preprocessed_df:437] Saved preprocessed test split to ../s3_uploads/wallet_training_data_preprocessed/dda_927_concat_offsets_v3_dev/240306/test.csv\u001b[0m\n",
      "\u001b[0m[02/Aug/25 19:30:14] INFO [wallet_preprocessor._save_preprocessed_df:437] Saved preprocessed test_y split to ../s3_uploads/wallet_training_data_preprocessed/dda_927_concat_offsets_v3_dev/240306/test_y.csv\u001b[0m\n",
      "\u001b[0m[02/Aug/25 19:30:14] INFO [wallet_preprocessor.preprocess_training_data:123] Preprocessed test: 409 rows × 221 cols.\u001b[0m\n",
      "\u001b[0m[02/Aug/25 19:30:14] INFO [wallet_preprocessor._handle_missing_values:241] Filled NaN values in 100 columns for x_eval.\u001b[0m\n",
      "\u001b[0m[02/Aug/25 19:30:14] INFO [wallet_preprocessor.preprocess_y_data:280] Applied classification threshold 0.05 to y_eval: 195 positive (46.0%), 229 negative (54.0%)\u001b[0m\n",
      "\u001b[0m[02/Aug/25 19:30:14] INFO [wallet_preprocessor._combine_x_y_data:391] Merged y df with target var cw_crypto_net_gain/crypto_inflows/winsorized with X data.\u001b[0m\n",
      "\u001b[0m[02/Aug/25 19:30:14] INFO [wallet_preprocessor._save_preprocessed_df:437] Saved preprocessed eval split to ../s3_uploads/wallet_training_data_preprocessed/dda_927_concat_offsets_v3_dev/240306/eval.csv\u001b[0m\n",
      "\u001b[0m[02/Aug/25 19:30:14] INFO [wallet_preprocessor._save_preprocessed_df:437] Saved preprocessed eval_y split to ../s3_uploads/wallet_training_data_preprocessed/dda_927_concat_offsets_v3_dev/240306/eval_y.csv\u001b[0m\n",
      "\u001b[0m[02/Aug/25 19:30:14] INFO [wallet_preprocessor.preprocess_training_data:123] Preprocessed eval: 424 rows × 222 cols.\u001b[0m\n",
      "\u001b[0m[02/Aug/25 19:30:14] INFO [wallet_preprocessor._handle_missing_values:241] Filled NaN values in 100 columns for x_val.\u001b[0m\n",
      "\u001b[0m[02/Aug/25 19:30:14] INFO [wallet_preprocessor.preprocess_y_data:280] Applied classification threshold 0.05 to y_val: 96 positive (9.6%), 904 negative (90.4%)\u001b[0m\n",
      "\u001b[0m[02/Aug/25 19:30:14] INFO [wallet_preprocessor._save_preprocessed_df:437] Saved preprocessed val split to ../s3_uploads/wallet_training_data_preprocessed/dda_927_concat_offsets_v3_dev/240306/val.csv\u001b[0m\n",
      "\u001b[0m[02/Aug/25 19:30:14] INFO [wallet_preprocessor._save_preprocessed_df:437] Saved preprocessed val_y split to ../s3_uploads/wallet_training_data_preprocessed/dda_927_concat_offsets_v3_dev/240306/val_y.csv\u001b[0m\n",
      "\u001b[0m[02/Aug/25 19:30:14] INFO [wallet_preprocessor.preprocess_training_data:123] Preprocessed val: 1,000 rows × 221 cols.\u001b[0m\n",
      "\u001b[0m[02/Aug/25 19:30:14] INFO [wallet_preprocessor.preprocess_training_data:131] Saved metadata to ../s3_uploads/wallet_training_data_preprocessed/dda_927_concat_offsets_v3_dev/240306/metadata.json\u001b[0m\n",
      "\u001b[92m[02/Aug/25 19:30:14] MILESTONE [wallet_preprocessor.preprocess_training_data:133] Successfully preprocessed data for '240306'.\u001b[0m\n",
      "\u001b[0m[02/Aug/25 19:30:14] INFO [workflow_orchestrator._filter_temporal_overlap:899] Temporal filtering for 240405: removed 3,562 rows (44.5%) to prevent overlap\u001b[0m\n",
      "\u001b[0m[02/Aug/25 19:30:14] INFO [wallet_preprocessor.preprocess_training_data:77] Starting preprocessing for SageMaker XGBoost compatibility...\u001b[0m\n",
      "\u001b[0m[02/Aug/25 19:30:14] INFO [wallet_preprocessor._handle_missing_values:241] Filled NaN values in 100 columns for x_train.\u001b[0m\n",
      "\u001b[0m[02/Aug/25 19:30:14] INFO [wallet_preprocessor.preprocess_y_data:280] Applied classification threshold 0.05 to y_train: 36 positive (9.3%), 352 negative (90.7%)\u001b[0m\n",
      "\u001b[0m[02/Aug/25 19:30:14] INFO [wallet_preprocessor._combine_x_y_data:391] Merged y df with target var cw_crypto_net_gain/crypto_inflows/winsorized with X data.\u001b[0m\n",
      "\u001b[0m[02/Aug/25 19:30:14] INFO [wallet_preprocessor._save_preprocessed_df:437] Saved preprocessed train split to ../s3_uploads/wallet_training_data_preprocessed/dda_927_concat_offsets_v3_dev/240405/train.csv\u001b[0m\n",
      "\u001b[0m[02/Aug/25 19:30:14] INFO [wallet_preprocessor._save_preprocessed_df:437] Saved preprocessed train_y split to ../s3_uploads/wallet_training_data_preprocessed/dda_927_concat_offsets_v3_dev/240405/train_y.csv\u001b[0m\n",
      "\u001b[0m[02/Aug/25 19:30:14] INFO [wallet_preprocessor.preprocess_training_data:123] Preprocessed train: 388 rows × 222 cols.\u001b[0m\n",
      "\u001b[0m[02/Aug/25 19:30:14] INFO [wallet_preprocessor._handle_missing_values:241] Filled NaN values in 100 columns for x_test.\u001b[0m\n",
      "\u001b[0m[02/Aug/25 19:30:14] INFO [wallet_preprocessor.preprocess_y_data:280] Applied classification threshold 0.05 to y_test: 48 positive (11.8%), 359 negative (88.2%)\u001b[0m\n",
      "\u001b[0m[02/Aug/25 19:30:14] INFO [wallet_preprocessor._save_preprocessed_df:437] Saved preprocessed test split to ../s3_uploads/wallet_training_data_preprocessed/dda_927_concat_offsets_v3_dev/240405/test.csv\u001b[0m\n",
      "\u001b[0m[02/Aug/25 19:30:14] INFO [wallet_preprocessor._save_preprocessed_df:437] Saved preprocessed test_y split to ../s3_uploads/wallet_training_data_preprocessed/dda_927_concat_offsets_v3_dev/240405/test_y.csv\u001b[0m\n",
      "\u001b[0m[02/Aug/25 19:30:14] INFO [wallet_preprocessor.preprocess_training_data:123] Preprocessed test: 407 rows × 221 cols.\u001b[0m\n",
      "\u001b[0m[02/Aug/25 19:30:14] INFO [wallet_preprocessor._handle_missing_values:241] Filled NaN values in 100 columns for x_eval.\u001b[0m\n",
      "\u001b[0m[02/Aug/25 19:30:14] INFO [wallet_preprocessor.preprocess_y_data:280] Applied classification threshold 0.05 to y_eval: 37 positive (8.7%), 387 negative (91.3%)\u001b[0m\n",
      "\u001b[0m[02/Aug/25 19:30:14] INFO [wallet_preprocessor._combine_x_y_data:391] Merged y df with target var cw_crypto_net_gain/crypto_inflows/winsorized with X data.\u001b[0m\n",
      "\u001b[0m[02/Aug/25 19:30:15] INFO [wallet_preprocessor._save_preprocessed_df:437] Saved preprocessed eval split to ../s3_uploads/wallet_training_data_preprocessed/dda_927_concat_offsets_v3_dev/240405/eval.csv\u001b[0m\n",
      "\u001b[0m[02/Aug/25 19:30:15] INFO [wallet_preprocessor._save_preprocessed_df:437] Saved preprocessed eval_y split to ../s3_uploads/wallet_training_data_preprocessed/dda_927_concat_offsets_v3_dev/240405/eval_y.csv\u001b[0m\n",
      "\u001b[0m[02/Aug/25 19:30:15] INFO [wallet_preprocessor.preprocess_training_data:123] Preprocessed eval: 424 rows × 222 cols.\u001b[0m\n",
      "\u001b[0m[02/Aug/25 19:30:15] INFO [wallet_preprocessor._handle_missing_values:241] Filled NaN values in 100 columns for x_val.\u001b[0m\n",
      "\u001b[0m[02/Aug/25 19:30:15] INFO [wallet_preprocessor.preprocess_y_data:280] Applied classification threshold 0.05 to y_val: 192 positive (19.2%), 808 negative (80.8%)\u001b[0m\n",
      "\u001b[0m[02/Aug/25 19:30:15] INFO [wallet_preprocessor._save_preprocessed_df:437] Saved preprocessed val split to ../s3_uploads/wallet_training_data_preprocessed/dda_927_concat_offsets_v3_dev/240405/val.csv\u001b[0m\n",
      "\u001b[0m[02/Aug/25 19:30:15] INFO [wallet_preprocessor._save_preprocessed_df:437] Saved preprocessed val_y split to ../s3_uploads/wallet_training_data_preprocessed/dda_927_concat_offsets_v3_dev/240405/val_y.csv\u001b[0m\n",
      "\u001b[0m[02/Aug/25 19:30:15] INFO [wallet_preprocessor.preprocess_training_data:123] Preprocessed val: 1,000 rows × 221 cols.\u001b[0m\n",
      "\u001b[0m[02/Aug/25 19:30:15] INFO [wallet_preprocessor.preprocess_training_data:131] Saved metadata to ../s3_uploads/wallet_training_data_preprocessed/dda_927_concat_offsets_v3_dev/240405/metadata.json\u001b[0m\n",
      "\u001b[92m[02/Aug/25 19:30:15] MILESTONE [wallet_preprocessor.preprocess_training_data:133] Successfully preprocessed data for '240405'.\u001b[0m\n",
      "\u001b[0m[02/Aug/25 19:30:15] INFO [workflow_orchestrator._filter_temporal_overlap:899] Temporal filtering for 240505: removed 4,344 rows (54.3%) to prevent overlap\u001b[0m\n",
      "\u001b[0m[02/Aug/25 19:30:15] INFO [wallet_preprocessor.preprocess_training_data:77] Starting preprocessing for SageMaker XGBoost compatibility...\u001b[0m\n",
      "\u001b[0m[02/Aug/25 19:30:15] INFO [wallet_preprocessor._handle_missing_values:241] Filled NaN values in 100 columns for x_train.\u001b[0m\n",
      "\u001b[0m[02/Aug/25 19:30:15] INFO [wallet_preprocessor.preprocess_y_data:280] Applied classification threshold 0.05 to y_train: 63 positive (22.2%), 221 negative (77.8%)\u001b[0m\n",
      "\u001b[0m[02/Aug/25 19:30:15] INFO [wallet_preprocessor._combine_x_y_data:391] Merged y df with target var cw_crypto_net_gain/crypto_inflows/winsorized with X data.\u001b[0m\n",
      "\u001b[0m[02/Aug/25 19:30:15] INFO [wallet_preprocessor._save_preprocessed_df:437] Saved preprocessed train split to ../s3_uploads/wallet_training_data_preprocessed/dda_927_concat_offsets_v3_dev/240505/train.csv\u001b[0m\n",
      "\u001b[0m[02/Aug/25 19:30:15] INFO [wallet_preprocessor._save_preprocessed_df:437] Saved preprocessed train_y split to ../s3_uploads/wallet_training_data_preprocessed/dda_927_concat_offsets_v3_dev/240505/train_y.csv\u001b[0m\n",
      "\u001b[0m[02/Aug/25 19:30:15] INFO [wallet_preprocessor.preprocess_training_data:123] Preprocessed train: 284 rows × 222 cols.\u001b[0m\n",
      "\u001b[0m[02/Aug/25 19:30:15] INFO [wallet_preprocessor._handle_missing_values:241] Filled NaN values in 100 columns for x_test.\u001b[0m\n",
      "\u001b[0m[02/Aug/25 19:30:15] INFO [wallet_preprocessor.preprocess_y_data:280] Applied classification threshold 0.05 to y_test: 70 positive (23.9%), 223 negative (76.1%)\u001b[0m\n",
      "\u001b[0m[02/Aug/25 19:30:15] INFO [wallet_preprocessor._save_preprocessed_df:437] Saved preprocessed test split to ../s3_uploads/wallet_training_data_preprocessed/dda_927_concat_offsets_v3_dev/240505/test.csv\u001b[0m\n",
      "\u001b[0m[02/Aug/25 19:30:15] INFO [wallet_preprocessor._save_preprocessed_df:437] Saved preprocessed test_y split to ../s3_uploads/wallet_training_data_preprocessed/dda_927_concat_offsets_v3_dev/240505/test_y.csv\u001b[0m\n",
      "\u001b[0m[02/Aug/25 19:30:15] INFO [wallet_preprocessor.preprocess_training_data:123] Preprocessed test: 293 rows × 221 cols.\u001b[0m\n",
      "\u001b[0m[02/Aug/25 19:30:15] INFO [wallet_preprocessor._handle_missing_values:241] Filled NaN values in 100 columns for x_eval.\u001b[0m\n",
      "\u001b[0m[02/Aug/25 19:30:15] INFO [wallet_preprocessor.preprocess_y_data:280] Applied classification threshold 0.05 to y_eval: 56 positive (22.3%), 195 negative (77.7%)\u001b[0m\n",
      "\u001b[0m[02/Aug/25 19:30:15] INFO [wallet_preprocessor._combine_x_y_data:391] Merged y df with target var cw_crypto_net_gain/crypto_inflows/winsorized with X data.\u001b[0m\n",
      "\u001b[0m[02/Aug/25 19:30:15] INFO [wallet_preprocessor._save_preprocessed_df:437] Saved preprocessed eval split to ../s3_uploads/wallet_training_data_preprocessed/dda_927_concat_offsets_v3_dev/240505/eval.csv\u001b[0m\n",
      "\u001b[0m[02/Aug/25 19:30:15] INFO [wallet_preprocessor._save_preprocessed_df:437] Saved preprocessed eval_y split to ../s3_uploads/wallet_training_data_preprocessed/dda_927_concat_offsets_v3_dev/240505/eval_y.csv\u001b[0m\n",
      "\u001b[0m[02/Aug/25 19:30:15] INFO [wallet_preprocessor.preprocess_training_data:123] Preprocessed eval: 251 rows × 222 cols.\u001b[0m\n",
      "\u001b[0m[02/Aug/25 19:30:15] INFO [wallet_preprocessor._handle_missing_values:241] Filled NaN values in 100 columns for x_val.\u001b[0m\n",
      "\u001b[0m[02/Aug/25 19:30:15] INFO [wallet_preprocessor.preprocess_y_data:280] Applied classification threshold 0.05 to y_val: 80 positive (8.0%), 920 negative (92.0%)\u001b[0m\n",
      "\u001b[0m[02/Aug/25 19:30:15] INFO [wallet_preprocessor._save_preprocessed_df:437] Saved preprocessed val split to ../s3_uploads/wallet_training_data_preprocessed/dda_927_concat_offsets_v3_dev/240505/val.csv\u001b[0m\n",
      "\u001b[0m[02/Aug/25 19:30:15] INFO [wallet_preprocessor._save_preprocessed_df:437] Saved preprocessed val_y split to ../s3_uploads/wallet_training_data_preprocessed/dda_927_concat_offsets_v3_dev/240505/val_y.csv\u001b[0m\n",
      "\u001b[0m[02/Aug/25 19:30:15] INFO [wallet_preprocessor.preprocess_training_data:123] Preprocessed val: 1,000 rows × 221 cols.\u001b[0m\n",
      "\u001b[0m[02/Aug/25 19:30:15] INFO [wallet_preprocessor.preprocess_training_data:131] Saved metadata to ../s3_uploads/wallet_training_data_preprocessed/dda_927_concat_offsets_v3_dev/240505/metadata.json\u001b[0m\n",
      "\u001b[92m[02/Aug/25 19:30:15] MILESTONE [wallet_preprocessor.preprocess_training_data:133] Successfully preprocessed data for '240505'.\u001b[0m\n",
      "\u001b[0m[02/Aug/25 19:30:15] INFO [workflow_orchestrator._filter_temporal_overlap:899] Temporal filtering for 240604: removed 4,318 rows (54.0%) to prevent overlap\u001b[0m\n",
      "\u001b[0m[02/Aug/25 19:30:15] INFO [wallet_preprocessor.preprocess_training_data:77] Starting preprocessing for SageMaker XGBoost compatibility...\u001b[0m\n",
      "\u001b[0m[02/Aug/25 19:30:15] INFO [wallet_preprocessor._handle_missing_values:241] Filled NaN values in 100 columns for x_train.\u001b[0m\n",
      "\u001b[0m[02/Aug/25 19:30:15] INFO [wallet_preprocessor.preprocess_y_data:280] Applied classification threshold 0.05 to y_train: 23 positive (8.3%), 254 negative (91.7%)\u001b[0m\n",
      "\u001b[0m[02/Aug/25 19:30:15] INFO [wallet_preprocessor._combine_x_y_data:391] Merged y df with target var cw_crypto_net_gain/crypto_inflows/winsorized with X data.\u001b[0m\n",
      "\u001b[0m[02/Aug/25 19:30:15] INFO [wallet_preprocessor._save_preprocessed_df:437] Saved preprocessed train split to ../s3_uploads/wallet_training_data_preprocessed/dda_927_concat_offsets_v3_dev/240604/train.csv\u001b[0m\n",
      "\u001b[0m[02/Aug/25 19:30:15] INFO [wallet_preprocessor._save_preprocessed_df:437] Saved preprocessed train_y split to ../s3_uploads/wallet_training_data_preprocessed/dda_927_concat_offsets_v3_dev/240604/train_y.csv\u001b[0m\n",
      "\u001b[0m[02/Aug/25 19:30:15] INFO [wallet_preprocessor.preprocess_training_data:123] Preprocessed train: 277 rows × 222 cols.\u001b[0m\n",
      "\u001b[0m[02/Aug/25 19:30:15] INFO [wallet_preprocessor._handle_missing_values:241] Filled NaN values in 100 columns for x_test.\u001b[0m\n",
      "\u001b[0m[02/Aug/25 19:30:15] INFO [wallet_preprocessor.preprocess_y_data:280] Applied classification threshold 0.05 to y_test: 20 positive (7.1%), 260 negative (92.9%)\u001b[0m\n",
      "\u001b[0m[02/Aug/25 19:30:15] INFO [wallet_preprocessor._save_preprocessed_df:437] Saved preprocessed test split to ../s3_uploads/wallet_training_data_preprocessed/dda_927_concat_offsets_v3_dev/240604/test.csv\u001b[0m\n",
      "\u001b[0m[02/Aug/25 19:30:15] INFO [wallet_preprocessor._save_preprocessed_df:437] Saved preprocessed test_y split to ../s3_uploads/wallet_training_data_preprocessed/dda_927_concat_offsets_v3_dev/240604/test_y.csv\u001b[0m\n",
      "\u001b[0m[02/Aug/25 19:30:15] INFO [wallet_preprocessor.preprocess_training_data:123] Preprocessed test: 280 rows × 221 cols.\u001b[0m\n",
      "\u001b[0m[02/Aug/25 19:30:15] INFO [wallet_preprocessor._handle_missing_values:241] Filled NaN values in 100 columns for x_eval.\u001b[0m\n",
      "\u001b[0m[02/Aug/25 19:30:15] INFO [wallet_preprocessor.preprocess_y_data:280] Applied classification threshold 0.05 to y_eval: 31 positive (10.9%), 253 negative (89.1%)\u001b[0m\n",
      "\u001b[0m[02/Aug/25 19:30:15] INFO [wallet_preprocessor._combine_x_y_data:391] Merged y df with target var cw_crypto_net_gain/crypto_inflows/winsorized with X data.\u001b[0m\n",
      "\u001b[0m[02/Aug/25 19:30:15] INFO [wallet_preprocessor._save_preprocessed_df:437] Saved preprocessed eval split to ../s3_uploads/wallet_training_data_preprocessed/dda_927_concat_offsets_v3_dev/240604/eval.csv\u001b[0m\n",
      "\u001b[0m[02/Aug/25 19:30:15] INFO [wallet_preprocessor._save_preprocessed_df:437] Saved preprocessed eval_y split to ../s3_uploads/wallet_training_data_preprocessed/dda_927_concat_offsets_v3_dev/240604/eval_y.csv\u001b[0m\n",
      "\u001b[0m[02/Aug/25 19:30:15] INFO [wallet_preprocessor.preprocess_training_data:123] Preprocessed eval: 284 rows × 222 cols.\u001b[0m\n",
      "\u001b[0m[02/Aug/25 19:30:15] INFO [wallet_preprocessor._handle_missing_values:241] Filled NaN values in 100 columns for x_val.\u001b[0m\n",
      "\u001b[0m[02/Aug/25 19:30:15] INFO [wallet_preprocessor.preprocess_y_data:280] Applied classification threshold 0.05 to y_val: 195 positive (19.5%), 805 negative (80.5%)\u001b[0m\n",
      "\u001b[0m[02/Aug/25 19:30:15] INFO [wallet_preprocessor._save_preprocessed_df:437] Saved preprocessed val split to ../s3_uploads/wallet_training_data_preprocessed/dda_927_concat_offsets_v3_dev/240604/val.csv\u001b[0m\n",
      "\u001b[0m[02/Aug/25 19:30:15] INFO [wallet_preprocessor._save_preprocessed_df:437] Saved preprocessed val_y split to ../s3_uploads/wallet_training_data_preprocessed/dda_927_concat_offsets_v3_dev/240604/val_y.csv\u001b[0m\n",
      "\u001b[0m[02/Aug/25 19:30:15] INFO [wallet_preprocessor.preprocess_training_data:123] Preprocessed val: 1,000 rows × 221 cols.\u001b[0m\n",
      "\u001b[0m[02/Aug/25 19:30:15] INFO [wallet_preprocessor.preprocess_training_data:131] Saved metadata to ../s3_uploads/wallet_training_data_preprocessed/dda_927_concat_offsets_v3_dev/240604/metadata.json\u001b[0m\n",
      "\u001b[92m[02/Aug/25 19:30:15] MILESTONE [wallet_preprocessor.preprocess_training_data:133] Successfully preprocessed data for '240604'.\u001b[0m\n",
      "\u001b[0m[02/Aug/25 19:30:15] INFO [workflow_orchestrator._filter_temporal_overlap:899] Temporal filtering for 240704: removed 4,432 rows (55.4%) to prevent overlap\u001b[0m\n",
      "\u001b[0m[02/Aug/25 19:30:15] INFO [wallet_preprocessor.preprocess_training_data:77] Starting preprocessing for SageMaker XGBoost compatibility...\u001b[0m\n",
      "\u001b[0m[02/Aug/25 19:30:15] INFO [wallet_preprocessor._handle_missing_values:241] Filled NaN values in 100 columns for x_train.\u001b[0m\n",
      "\u001b[0m[02/Aug/25 19:30:15] INFO [wallet_preprocessor.preprocess_y_data:280] Applied classification threshold 0.05 to y_train: 58 positive (20.4%), 226 negative (79.6%)\u001b[0m\n",
      "\u001b[0m[02/Aug/25 19:30:15] INFO [wallet_preprocessor._combine_x_y_data:391] Merged y df with target var cw_crypto_net_gain/crypto_inflows/winsorized with X data.\u001b[0m\n",
      "\u001b[0m[02/Aug/25 19:30:15] INFO [wallet_preprocessor._save_preprocessed_df:437] Saved preprocessed train split to ../s3_uploads/wallet_training_data_preprocessed/dda_927_concat_offsets_v3_dev/240704/train.csv\u001b[0m\n",
      "\u001b[0m[02/Aug/25 19:30:15] INFO [wallet_preprocessor._save_preprocessed_df:437] Saved preprocessed train_y split to ../s3_uploads/wallet_training_data_preprocessed/dda_927_concat_offsets_v3_dev/240704/train_y.csv\u001b[0m\n",
      "\u001b[0m[02/Aug/25 19:30:15] INFO [wallet_preprocessor.preprocess_training_data:123] Preprocessed train: 284 rows × 222 cols.\u001b[0m\n",
      "\u001b[0m[02/Aug/25 19:30:15] INFO [wallet_preprocessor._handle_missing_values:241] Filled NaN values in 100 columns for x_test.\u001b[0m\n",
      "\u001b[0m[02/Aug/25 19:30:15] INFO [wallet_preprocessor.preprocess_y_data:280] Applied classification threshold 0.05 to y_test: 55 positive (22.5%), 189 negative (77.5%)\u001b[0m\n",
      "\u001b[0m[02/Aug/25 19:30:15] INFO [wallet_preprocessor._save_preprocessed_df:437] Saved preprocessed test split to ../s3_uploads/wallet_training_data_preprocessed/dda_927_concat_offsets_v3_dev/240704/test.csv\u001b[0m\n",
      "\u001b[0m[02/Aug/25 19:30:15] INFO [wallet_preprocessor._save_preprocessed_df:437] Saved preprocessed test_y split to ../s3_uploads/wallet_training_data_preprocessed/dda_927_concat_offsets_v3_dev/240704/test_y.csv\u001b[0m\n",
      "\u001b[0m[02/Aug/25 19:30:15] INFO [wallet_preprocessor.preprocess_training_data:123] Preprocessed test: 244 rows × 221 cols.\u001b[0m\n",
      "\u001b[0m[02/Aug/25 19:30:15] INFO [wallet_preprocessor._handle_missing_values:241] Filled NaN values in 100 columns for x_eval.\u001b[0m\n",
      "\u001b[0m[02/Aug/25 19:30:15] INFO [wallet_preprocessor.preprocess_y_data:280] Applied classification threshold 0.05 to y_eval: 57 positive (22.3%), 199 negative (77.7%)\u001b[0m\n",
      "\u001b[0m[02/Aug/25 19:30:15] INFO [wallet_preprocessor._combine_x_y_data:391] Merged y df with target var cw_crypto_net_gain/crypto_inflows/winsorized with X data.\u001b[0m\n",
      "\u001b[0m[02/Aug/25 19:30:15] INFO [wallet_preprocessor._save_preprocessed_df:437] Saved preprocessed eval split to ../s3_uploads/wallet_training_data_preprocessed/dda_927_concat_offsets_v3_dev/240704/eval.csv\u001b[0m\n",
      "\u001b[0m[02/Aug/25 19:30:15] INFO [wallet_preprocessor._save_preprocessed_df:437] Saved preprocessed eval_y split to ../s3_uploads/wallet_training_data_preprocessed/dda_927_concat_offsets_v3_dev/240704/eval_y.csv\u001b[0m\n",
      "\u001b[0m[02/Aug/25 19:30:15] INFO [wallet_preprocessor.preprocess_training_data:123] Preprocessed eval: 256 rows × 222 cols.\u001b[0m\n",
      "\u001b[0m[02/Aug/25 19:30:15] INFO [wallet_preprocessor._handle_missing_values:241] Filled NaN values in 100 columns for x_val.\u001b[0m\n",
      "\u001b[0m[02/Aug/25 19:30:15] INFO [wallet_preprocessor.preprocess_y_data:280] Applied classification threshold 0.05 to y_val: 106 positive (10.6%), 894 negative (89.4%)\u001b[0m\n",
      "\u001b[0m[02/Aug/25 19:30:15] INFO [wallet_preprocessor._save_preprocessed_df:437] Saved preprocessed val split to ../s3_uploads/wallet_training_data_preprocessed/dda_927_concat_offsets_v3_dev/240704/val.csv\u001b[0m\n",
      "\u001b[0m[02/Aug/25 19:30:15] INFO [wallet_preprocessor._save_preprocessed_df:437] Saved preprocessed val_y split to ../s3_uploads/wallet_training_data_preprocessed/dda_927_concat_offsets_v3_dev/240704/val_y.csv\u001b[0m\n",
      "\u001b[0m[02/Aug/25 19:30:15] INFO [wallet_preprocessor.preprocess_training_data:123] Preprocessed val: 1,000 rows × 221 cols.\u001b[0m\n",
      "\u001b[0m[02/Aug/25 19:30:15] INFO [wallet_preprocessor.preprocess_training_data:131] Saved metadata to ../s3_uploads/wallet_training_data_preprocessed/dda_927_concat_offsets_v3_dev/240704/metadata.json\u001b[0m\n",
      "\u001b[92m[02/Aug/25 19:30:15] MILESTONE [wallet_preprocessor.preprocess_training_data:133] Successfully preprocessed data for '240704'.\u001b[0m\n",
      "\u001b[0m[02/Aug/25 19:30:15] INFO [workflow_orchestrator._filter_temporal_overlap:899] Temporal filtering for 240803: removed 4,806 rows (60.1%) to prevent overlap\u001b[0m\n",
      "\u001b[0m[02/Aug/25 19:30:15] INFO [wallet_preprocessor.preprocess_training_data:77] Starting preprocessing for SageMaker XGBoost compatibility...\u001b[0m\n",
      "\u001b[0m[02/Aug/25 19:30:15] INFO [wallet_preprocessor._handle_missing_values:241] Filled NaN values in 100 columns for x_train.\u001b[0m\n",
      "\u001b[0m[02/Aug/25 19:30:15] INFO [wallet_preprocessor.preprocess_y_data:280] Applied classification threshold 0.05 to y_train: 17 positive (9.0%), 171 negative (91.0%)\u001b[0m\n",
      "\u001b[0m[02/Aug/25 19:30:15] INFO [wallet_preprocessor._combine_x_y_data:391] Merged y df with target var cw_crypto_net_gain/crypto_inflows/winsorized with X data.\u001b[0m\n",
      "\u001b[0m[02/Aug/25 19:30:15] INFO [wallet_preprocessor._save_preprocessed_df:437] Saved preprocessed train split to ../s3_uploads/wallet_training_data_preprocessed/dda_927_concat_offsets_v3_dev/240803/train.csv\u001b[0m\n",
      "\u001b[0m[02/Aug/25 19:30:15] INFO [wallet_preprocessor._save_preprocessed_df:437] Saved preprocessed train_y split to ../s3_uploads/wallet_training_data_preprocessed/dda_927_concat_offsets_v3_dev/240803/train_y.csv\u001b[0m\n",
      "\u001b[0m[02/Aug/25 19:30:15] INFO [wallet_preprocessor.preprocess_training_data:123] Preprocessed train: 188 rows × 222 cols.\u001b[0m\n",
      "\u001b[0m[02/Aug/25 19:30:15] INFO [wallet_preprocessor._handle_missing_values:241] Filled NaN values in 100 columns for x_test.\u001b[0m\n",
      "\u001b[0m[02/Aug/25 19:30:15] INFO [wallet_preprocessor.preprocess_y_data:280] Applied classification threshold 0.05 to y_test: 25 positive (11.5%), 193 negative (88.5%)\u001b[0m\n",
      "\u001b[0m[02/Aug/25 19:30:15] INFO [wallet_preprocessor._save_preprocessed_df:437] Saved preprocessed test split to ../s3_uploads/wallet_training_data_preprocessed/dda_927_concat_offsets_v3_dev/240803/test.csv\u001b[0m\n",
      "\u001b[0m[02/Aug/25 19:30:15] INFO [wallet_preprocessor._save_preprocessed_df:437] Saved preprocessed test_y split to ../s3_uploads/wallet_training_data_preprocessed/dda_927_concat_offsets_v3_dev/240803/test_y.csv\u001b[0m\n",
      "\u001b[0m[02/Aug/25 19:30:15] INFO [wallet_preprocessor.preprocess_training_data:123] Preprocessed test: 218 rows × 221 cols.\u001b[0m\n",
      "\u001b[0m[02/Aug/25 19:30:15] INFO [wallet_preprocessor._handle_missing_values:241] Filled NaN values in 100 columns for x_eval.\u001b[0m\n",
      "\u001b[0m[02/Aug/25 19:30:15] INFO [wallet_preprocessor.preprocess_y_data:280] Applied classification threshold 0.05 to y_eval: 22 positive (11.5%), 169 negative (88.5%)\u001b[0m\n",
      "\u001b[0m[02/Aug/25 19:30:15] INFO [wallet_preprocessor._combine_x_y_data:391] Merged y df with target var cw_crypto_net_gain/crypto_inflows/winsorized with X data.\u001b[0m\n",
      "\u001b[0m[02/Aug/25 19:30:15] INFO [wallet_preprocessor._save_preprocessed_df:437] Saved preprocessed eval split to ../s3_uploads/wallet_training_data_preprocessed/dda_927_concat_offsets_v3_dev/240803/eval.csv\u001b[0m\n",
      "\u001b[0m[02/Aug/25 19:30:15] INFO [wallet_preprocessor._save_preprocessed_df:437] Saved preprocessed eval_y split to ../s3_uploads/wallet_training_data_preprocessed/dda_927_concat_offsets_v3_dev/240803/eval_y.csv\u001b[0m\n",
      "\u001b[0m[02/Aug/25 19:30:15] INFO [wallet_preprocessor.preprocess_training_data:123] Preprocessed eval: 191 rows × 222 cols.\u001b[0m\n",
      "\u001b[0m[02/Aug/25 19:30:15] INFO [wallet_preprocessor._handle_missing_values:241] Filled NaN values in 100 columns for x_val.\u001b[0m\n",
      "\u001b[0m[02/Aug/25 19:30:15] INFO [wallet_preprocessor.preprocess_y_data:280] Applied classification threshold 0.05 to y_val: 634 positive (63.4%), 366 negative (36.6%)\u001b[0m\n",
      "\u001b[0m[02/Aug/25 19:30:15] INFO [wallet_preprocessor._save_preprocessed_df:437] Saved preprocessed val split to ../s3_uploads/wallet_training_data_preprocessed/dda_927_concat_offsets_v3_dev/240803/val.csv\u001b[0m\n",
      "\u001b[0m[02/Aug/25 19:30:15] INFO [wallet_preprocessor._save_preprocessed_df:437] Saved preprocessed val_y split to ../s3_uploads/wallet_training_data_preprocessed/dda_927_concat_offsets_v3_dev/240803/val_y.csv\u001b[0m\n",
      "\u001b[0m[02/Aug/25 19:30:15] INFO [wallet_preprocessor.preprocess_training_data:123] Preprocessed val: 1,000 rows × 221 cols.\u001b[0m\n",
      "\u001b[0m[02/Aug/25 19:30:15] INFO [wallet_preprocessor.preprocess_training_data:131] Saved metadata to ../s3_uploads/wallet_training_data_preprocessed/dda_927_concat_offsets_v3_dev/240803/metadata.json\u001b[0m\n",
      "\u001b[92m[02/Aug/25 19:30:15] MILESTONE [wallet_preprocessor.preprocess_training_data:133] Successfully preprocessed data for '240803'.\u001b[0m\n",
      "\u001b[0m[02/Aug/25 19:30:15] INFO [workflow_orchestrator._filter_temporal_overlap:899] Temporal filtering for 240902: removed 4,738 rows (59.2%) to prevent overlap\u001b[0m\n",
      "\u001b[0m[02/Aug/25 19:30:15] INFO [wallet_preprocessor.preprocess_training_data:77] Starting preprocessing for SageMaker XGBoost compatibility...\u001b[0m\n",
      "\u001b[0m[02/Aug/25 19:30:15] INFO [wallet_preprocessor._handle_missing_values:241] Filled NaN values in 100 columns for x_train.\u001b[0m\n",
      "\u001b[0m[02/Aug/25 19:30:15] INFO [wallet_preprocessor.preprocess_y_data:280] Applied classification threshold 0.05 to y_train: 144 positive (65.2%), 77 negative (34.8%)\u001b[0m\n",
      "\u001b[0m[02/Aug/25 19:30:15] INFO [wallet_preprocessor._combine_x_y_data:391] Merged y df with target var cw_crypto_net_gain/crypto_inflows/winsorized with X data.\u001b[0m\n",
      "\u001b[0m[02/Aug/25 19:30:15] INFO [wallet_preprocessor._save_preprocessed_df:437] Saved preprocessed train split to ../s3_uploads/wallet_training_data_preprocessed/dda_927_concat_offsets_v3_dev/240902/train.csv\u001b[0m\n",
      "\u001b[0m[02/Aug/25 19:30:15] INFO [wallet_preprocessor._save_preprocessed_df:437] Saved preprocessed train_y split to ../s3_uploads/wallet_training_data_preprocessed/dda_927_concat_offsets_v3_dev/240902/train_y.csv\u001b[0m\n",
      "\u001b[0m[02/Aug/25 19:30:15] INFO [wallet_preprocessor.preprocess_training_data:123] Preprocessed train: 221 rows × 222 cols.\u001b[0m\n",
      "\u001b[0m[02/Aug/25 19:30:15] INFO [wallet_preprocessor._handle_missing_values:241] Filled NaN values in 92 columns for x_test.\u001b[0m\n",
      "\u001b[0m[02/Aug/25 19:30:15] INFO [wallet_preprocessor.preprocess_y_data:280] Applied classification threshold 0.05 to y_test: 147 positive (69.3%), 65 negative (30.7%)\u001b[0m\n",
      "\u001b[0m[02/Aug/25 19:30:15] INFO [wallet_preprocessor._save_preprocessed_df:437] Saved preprocessed test split to ../s3_uploads/wallet_training_data_preprocessed/dda_927_concat_offsets_v3_dev/240902/test.csv\u001b[0m\n",
      "\u001b[0m[02/Aug/25 19:30:15] INFO [wallet_preprocessor._save_preprocessed_df:437] Saved preprocessed test_y split to ../s3_uploads/wallet_training_data_preprocessed/dda_927_concat_offsets_v3_dev/240902/test_y.csv\u001b[0m\n",
      "\u001b[0m[02/Aug/25 19:30:15] INFO [wallet_preprocessor.preprocess_training_data:123] Preprocessed test: 212 rows × 221 cols.\u001b[0m\n",
      "\u001b[0m[02/Aug/25 19:30:15] INFO [wallet_preprocessor._handle_missing_values:241] Filled NaN values in 100 columns for x_eval.\u001b[0m\n",
      "\u001b[0m[02/Aug/25 19:30:15] INFO [wallet_preprocessor.preprocess_y_data:280] Applied classification threshold 0.05 to y_eval: 133 positive (67.2%), 65 negative (32.8%)\u001b[0m\n",
      "\u001b[0m[02/Aug/25 19:30:15] INFO [wallet_preprocessor._combine_x_y_data:391] Merged y df with target var cw_crypto_net_gain/crypto_inflows/winsorized with X data.\u001b[0m\n",
      "\u001b[0m[02/Aug/25 19:30:15] INFO [wallet_preprocessor._save_preprocessed_df:437] Saved preprocessed eval split to ../s3_uploads/wallet_training_data_preprocessed/dda_927_concat_offsets_v3_dev/240902/eval.csv\u001b[0m\n",
      "\u001b[0m[02/Aug/25 19:30:15] INFO [wallet_preprocessor._save_preprocessed_df:437] Saved preprocessed eval_y split to ../s3_uploads/wallet_training_data_preprocessed/dda_927_concat_offsets_v3_dev/240902/eval_y.csv\u001b[0m\n",
      "\u001b[0m[02/Aug/25 19:30:15] INFO [wallet_preprocessor.preprocess_training_data:123] Preprocessed eval: 198 rows × 222 cols.\u001b[0m\n",
      "\u001b[0m[02/Aug/25 19:30:15] INFO [wallet_preprocessor._handle_missing_values:241] Filled NaN values in 100 columns for x_val.\u001b[0m\n",
      "\u001b[0m[02/Aug/25 19:30:15] INFO [wallet_preprocessor.preprocess_y_data:280] Applied classification threshold 0.05 to y_val: 290 positive (29.0%), 710 negative (71.0%)\u001b[0m\n",
      "\u001b[0m[02/Aug/25 19:30:15] INFO [wallet_preprocessor._save_preprocessed_df:437] Saved preprocessed val split to ../s3_uploads/wallet_training_data_preprocessed/dda_927_concat_offsets_v3_dev/240902/val.csv\u001b[0m\n",
      "\u001b[0m[02/Aug/25 19:30:15] INFO [wallet_preprocessor._save_preprocessed_df:437] Saved preprocessed val_y split to ../s3_uploads/wallet_training_data_preprocessed/dda_927_concat_offsets_v3_dev/240902/val_y.csv\u001b[0m\n",
      "\u001b[0m[02/Aug/25 19:30:15] INFO [wallet_preprocessor.preprocess_training_data:123] Preprocessed val: 1,000 rows × 221 cols.\u001b[0m\n",
      "\u001b[0m[02/Aug/25 19:30:15] INFO [wallet_preprocessor.preprocess_training_data:131] Saved metadata to ../s3_uploads/wallet_training_data_preprocessed/dda_927_concat_offsets_v3_dev/240902/metadata.json\u001b[0m\n",
      "\u001b[92m[02/Aug/25 19:30:15] MILESTONE [wallet_preprocessor.preprocess_training_data:133] Successfully preprocessed data for '240902'.\u001b[0m\n",
      "\u001b[0m[02/Aug/25 19:30:15] INFO [workflow_orchestrator._filter_temporal_overlap:899] Temporal filtering for 241002: removed 4,560 rows (57.0%) to prevent overlap\u001b[0m\n",
      "\u001b[0m[02/Aug/25 19:30:15] INFO [wallet_preprocessor.preprocess_training_data:77] Starting preprocessing for SageMaker XGBoost compatibility...\u001b[0m\n",
      "\u001b[0m[02/Aug/25 19:30:15] INFO [wallet_preprocessor._handle_missing_values:241] Filled NaN values in 100 columns for x_train.\u001b[0m\n",
      "\u001b[0m[02/Aug/25 19:30:15] INFO [wallet_preprocessor.preprocess_y_data:280] Applied classification threshold 0.05 to y_train: 60 positive (25.1%), 179 negative (74.9%)\u001b[0m\n",
      "\u001b[0m[02/Aug/25 19:30:16] INFO [wallet_preprocessor._combine_x_y_data:391] Merged y df with target var cw_crypto_net_gain/crypto_inflows/winsorized with X data.\u001b[0m\n",
      "\u001b[0m[02/Aug/25 19:30:16] INFO [wallet_preprocessor._save_preprocessed_df:437] Saved preprocessed train split to ../s3_uploads/wallet_training_data_preprocessed/dda_927_concat_offsets_v3_dev/241002/train.csv\u001b[0m\n",
      "\u001b[0m[02/Aug/25 19:30:16] INFO [wallet_preprocessor._save_preprocessed_df:437] Saved preprocessed train_y split to ../s3_uploads/wallet_training_data_preprocessed/dda_927_concat_offsets_v3_dev/241002/train_y.csv\u001b[0m\n",
      "\u001b[0m[02/Aug/25 19:30:16] INFO [wallet_preprocessor.preprocess_training_data:123] Preprocessed train: 239 rows × 222 cols.\u001b[0m\n",
      "\u001b[0m[02/Aug/25 19:30:16] INFO [wallet_preprocessor._handle_missing_values:241] Filled NaN values in 100 columns for x_test.\u001b[0m\n",
      "\u001b[0m[02/Aug/25 19:30:16] INFO [wallet_preprocessor.preprocess_y_data:280] Applied classification threshold 0.05 to y_test: 64 positive (28.3%), 162 negative (71.7%)\u001b[0m\n",
      "\u001b[0m[02/Aug/25 19:30:16] INFO [wallet_preprocessor._save_preprocessed_df:437] Saved preprocessed test split to ../s3_uploads/wallet_training_data_preprocessed/dda_927_concat_offsets_v3_dev/241002/test.csv\u001b[0m\n",
      "\u001b[0m[02/Aug/25 19:30:16] INFO [wallet_preprocessor._save_preprocessed_df:437] Saved preprocessed test_y split to ../s3_uploads/wallet_training_data_preprocessed/dda_927_concat_offsets_v3_dev/241002/test_y.csv\u001b[0m\n",
      "\u001b[0m[02/Aug/25 19:30:16] INFO [wallet_preprocessor.preprocess_training_data:123] Preprocessed test: 226 rows × 221 cols.\u001b[0m\n",
      "\u001b[0m[02/Aug/25 19:30:16] INFO [wallet_preprocessor._handle_missing_values:241] Filled NaN values in 100 columns for x_eval.\u001b[0m\n",
      "\u001b[0m[02/Aug/25 19:30:16] INFO [wallet_preprocessor.preprocess_y_data:280] Applied classification threshold 0.05 to y_eval: 68 positive (26.7%), 187 negative (73.3%)\u001b[0m\n",
      "\u001b[0m[02/Aug/25 19:30:16] INFO [wallet_preprocessor._combine_x_y_data:391] Merged y df with target var cw_crypto_net_gain/crypto_inflows/winsorized with X data.\u001b[0m\n",
      "\u001b[0m[02/Aug/25 19:30:16] INFO [wallet_preprocessor._save_preprocessed_df:437] Saved preprocessed eval split to ../s3_uploads/wallet_training_data_preprocessed/dda_927_concat_offsets_v3_dev/241002/eval.csv\u001b[0m\n",
      "\u001b[0m[02/Aug/25 19:30:16] INFO [wallet_preprocessor._save_preprocessed_df:437] Saved preprocessed eval_y split to ../s3_uploads/wallet_training_data_preprocessed/dda_927_concat_offsets_v3_dev/241002/eval_y.csv\u001b[0m\n",
      "\u001b[0m[02/Aug/25 19:30:16] INFO [wallet_preprocessor.preprocess_training_data:123] Preprocessed eval: 255 rows × 222 cols.\u001b[0m\n",
      "\u001b[0m[02/Aug/25 19:30:16] INFO [wallet_preprocessor._handle_missing_values:241] Filled NaN values in 100 columns for x_val.\u001b[0m\n",
      "\u001b[0m[02/Aug/25 19:30:16] INFO [wallet_preprocessor.preprocess_y_data:280] Applied classification threshold 0.05 to y_val: 668 positive (66.8%), 332 negative (33.2%)\u001b[0m\n",
      "\u001b[0m[02/Aug/25 19:30:16] INFO [wallet_preprocessor._save_preprocessed_df:437] Saved preprocessed val split to ../s3_uploads/wallet_training_data_preprocessed/dda_927_concat_offsets_v3_dev/241002/val.csv\u001b[0m\n",
      "\u001b[0m[02/Aug/25 19:30:16] INFO [wallet_preprocessor._save_preprocessed_df:437] Saved preprocessed val_y split to ../s3_uploads/wallet_training_data_preprocessed/dda_927_concat_offsets_v3_dev/241002/val_y.csv\u001b[0m\n",
      "\u001b[0m[02/Aug/25 19:30:16] INFO [wallet_preprocessor.preprocess_training_data:123] Preprocessed val: 1,000 rows × 221 cols.\u001b[0m\n",
      "\u001b[0m[02/Aug/25 19:30:16] INFO [wallet_preprocessor.preprocess_training_data:131] Saved metadata to ../s3_uploads/wallet_training_data_preprocessed/dda_927_concat_offsets_v3_dev/241002/metadata.json\u001b[0m\n",
      "\u001b[92m[02/Aug/25 19:30:16] MILESTONE [wallet_preprocessor.preprocess_training_data:133] Successfully preprocessed data for '241002'.\u001b[0m\n",
      "\u001b[0m[02/Aug/25 19:30:16] INFO [workflow_orchestrator._filter_temporal_overlap:899] Temporal filtering for 241201: removed 4,170 rows (52.1%) to prevent overlap\u001b[0m\n",
      "\u001b[0m[02/Aug/25 19:30:16] INFO [wallet_preprocessor.preprocess_training_data:77] Starting preprocessing for SageMaker XGBoost compatibility...\u001b[0m\n",
      "\u001b[0m[02/Aug/25 19:30:16] INFO [wallet_preprocessor._handle_missing_values:241] Filled NaN values in 100 columns for x_train.\u001b[0m\n",
      "\u001b[0m[02/Aug/25 19:30:16] INFO [wallet_preprocessor.preprocess_y_data:280] Applied classification threshold 0.05 to y_train: 89 positive (28.4%), 224 negative (71.6%)\u001b[0m\n",
      "\u001b[0m[02/Aug/25 19:30:16] INFO [wallet_preprocessor._combine_x_y_data:391] Merged y df with target var cw_crypto_net_gain/crypto_inflows/winsorized with X data.\u001b[0m\n",
      "\u001b[0m[02/Aug/25 19:30:16] INFO [wallet_preprocessor._save_preprocessed_df:437] Saved preprocessed train split to ../s3_uploads/wallet_training_data_preprocessed/dda_927_concat_offsets_v3_dev/241201/train.csv\u001b[0m\n",
      "\u001b[0m[02/Aug/25 19:30:16] INFO [wallet_preprocessor._save_preprocessed_df:437] Saved preprocessed train_y split to ../s3_uploads/wallet_training_data_preprocessed/dda_927_concat_offsets_v3_dev/241201/train_y.csv\u001b[0m\n",
      "\u001b[0m[02/Aug/25 19:30:16] INFO [wallet_preprocessor.preprocess_training_data:123] Preprocessed train: 313 rows × 222 cols.\u001b[0m\n",
      "\u001b[0m[02/Aug/25 19:30:16] INFO [wallet_preprocessor._handle_missing_values:241] Filled NaN values in 100 columns for x_test.\u001b[0m\n",
      "\u001b[0m[02/Aug/25 19:30:16] INFO [wallet_preprocessor.preprocess_y_data:280] Applied classification threshold 0.05 to y_test: 70 positive (23.3%), 231 negative (76.7%)\u001b[0m\n",
      "\u001b[0m[02/Aug/25 19:30:16] INFO [wallet_preprocessor._save_preprocessed_df:437] Saved preprocessed test split to ../s3_uploads/wallet_training_data_preprocessed/dda_927_concat_offsets_v3_dev/241201/test.csv\u001b[0m\n",
      "\u001b[0m[02/Aug/25 19:30:16] INFO [wallet_preprocessor._save_preprocessed_df:437] Saved preprocessed test_y split to ../s3_uploads/wallet_training_data_preprocessed/dda_927_concat_offsets_v3_dev/241201/test_y.csv\u001b[0m\n",
      "\u001b[0m[02/Aug/25 19:30:16] INFO [wallet_preprocessor.preprocess_training_data:123] Preprocessed test: 301 rows × 221 cols.\u001b[0m\n",
      "\u001b[0m[02/Aug/25 19:30:16] INFO [wallet_preprocessor._handle_missing_values:241] Filled NaN values in 100 columns for x_eval.\u001b[0m\n",
      "\u001b[0m[02/Aug/25 19:30:16] INFO [wallet_preprocessor.preprocess_y_data:280] Applied classification threshold 0.05 to y_eval: 78 positive (25.9%), 223 negative (74.1%)\u001b[0m\n",
      "\u001b[0m[02/Aug/25 19:30:16] INFO [wallet_preprocessor._combine_x_y_data:391] Merged y df with target var cw_crypto_net_gain/crypto_inflows/winsorized with X data.\u001b[0m\n",
      "\u001b[0m[02/Aug/25 19:30:16] INFO [wallet_preprocessor._save_preprocessed_df:437] Saved preprocessed eval split to ../s3_uploads/wallet_training_data_preprocessed/dda_927_concat_offsets_v3_dev/241201/eval.csv\u001b[0m\n",
      "\u001b[0m[02/Aug/25 19:30:16] INFO [wallet_preprocessor._save_preprocessed_df:437] Saved preprocessed eval_y split to ../s3_uploads/wallet_training_data_preprocessed/dda_927_concat_offsets_v3_dev/241201/eval_y.csv\u001b[0m\n",
      "\u001b[0m[02/Aug/25 19:30:16] INFO [wallet_preprocessor.preprocess_training_data:123] Preprocessed eval: 301 rows × 222 cols.\u001b[0m\n",
      "\u001b[0m[02/Aug/25 19:30:16] INFO [wallet_preprocessor._handle_missing_values:241] Filled NaN values in 100 columns for x_val.\u001b[0m\n",
      "\u001b[0m[02/Aug/25 19:30:16] INFO [wallet_preprocessor.preprocess_y_data:280] Applied classification threshold 0.05 to y_val: 177 positive (17.7%), 823 negative (82.3%)\u001b[0m\n",
      "\u001b[0m[02/Aug/25 19:30:16] INFO [wallet_preprocessor._save_preprocessed_df:437] Saved preprocessed val split to ../s3_uploads/wallet_training_data_preprocessed/dda_927_concat_offsets_v3_dev/241201/val.csv\u001b[0m\n",
      "\u001b[0m[02/Aug/25 19:30:16] INFO [wallet_preprocessor._save_preprocessed_df:437] Saved preprocessed val_y split to ../s3_uploads/wallet_training_data_preprocessed/dda_927_concat_offsets_v3_dev/241201/val_y.csv\u001b[0m\n",
      "\u001b[0m[02/Aug/25 19:30:16] INFO [wallet_preprocessor.preprocess_training_data:123] Preprocessed val: 1,000 rows × 221 cols.\u001b[0m\n",
      "\u001b[0m[02/Aug/25 19:30:16] INFO [wallet_preprocessor.preprocess_training_data:131] Saved metadata to ../s3_uploads/wallet_training_data_preprocessed/dda_927_concat_offsets_v3_dev/241201/metadata.json\u001b[0m\n",
      "\u001b[92m[02/Aug/25 19:30:16] MILESTONE [wallet_preprocessor.preprocess_training_data:133] Successfully preprocessed data for '241201'.\u001b[0m\n",
      "\u001b[0m[02/Aug/25 19:30:16] INFO [workflow_orchestrator._filter_temporal_overlap:899] Temporal filtering for 241101: removed 4,240 rows (53.0%) to prevent overlap\u001b[0m\n",
      "\u001b[0m[02/Aug/25 19:30:16] INFO [wallet_preprocessor.preprocess_training_data:77] Starting preprocessing for SageMaker XGBoost compatibility...\u001b[0m\n",
      "\u001b[0m[02/Aug/25 19:30:16] INFO [wallet_preprocessor._handle_missing_values:241] Filled NaN values in 100 columns for x_train.\u001b[0m\n",
      "\u001b[0m[02/Aug/25 19:30:16] INFO [wallet_preprocessor.preprocess_y_data:280] Applied classification threshold 0.05 to y_train: 203 positive (66.1%), 104 negative (33.9%)\u001b[0m\n",
      "\u001b[0m[02/Aug/25 19:30:16] INFO [wallet_preprocessor._combine_x_y_data:391] Merged y df with target var cw_crypto_net_gain/crypto_inflows/winsorized with X data.\u001b[0m\n",
      "\u001b[0m[02/Aug/25 19:30:16] INFO [wallet_preprocessor._save_preprocessed_df:437] Saved preprocessed train split to ../s3_uploads/wallet_training_data_preprocessed/dda_927_concat_offsets_v3_dev/241101/train.csv\u001b[0m\n",
      "\u001b[0m[02/Aug/25 19:30:16] INFO [wallet_preprocessor._save_preprocessed_df:437] Saved preprocessed train_y split to ../s3_uploads/wallet_training_data_preprocessed/dda_927_concat_offsets_v3_dev/241101/train_y.csv\u001b[0m\n",
      "\u001b[0m[02/Aug/25 19:30:16] INFO [wallet_preprocessor.preprocess_training_data:123] Preprocessed train: 307 rows × 222 cols.\u001b[0m\n",
      "\u001b[0m[02/Aug/25 19:30:16] INFO [wallet_preprocessor._handle_missing_values:241] Filled NaN values in 100 columns for x_test.\u001b[0m\n",
      "\u001b[0m[02/Aug/25 19:30:16] INFO [wallet_preprocessor.preprocess_y_data:280] Applied classification threshold 0.05 to y_test: 168 positive (59.6%), 114 negative (40.4%)\u001b[0m\n",
      "\u001b[0m[02/Aug/25 19:30:16] INFO [wallet_preprocessor._save_preprocessed_df:437] Saved preprocessed test split to ../s3_uploads/wallet_training_data_preprocessed/dda_927_concat_offsets_v3_dev/241101/test.csv\u001b[0m\n",
      "\u001b[0m[02/Aug/25 19:30:16] INFO [wallet_preprocessor._save_preprocessed_df:437] Saved preprocessed test_y split to ../s3_uploads/wallet_training_data_preprocessed/dda_927_concat_offsets_v3_dev/241101/test_y.csv\u001b[0m\n",
      "\u001b[0m[02/Aug/25 19:30:16] INFO [wallet_preprocessor.preprocess_training_data:123] Preprocessed test: 282 rows × 221 cols.\u001b[0m\n",
      "\u001b[0m[02/Aug/25 19:30:16] INFO [wallet_preprocessor._handle_missing_values:241] Filled NaN values in 100 columns for x_eval.\u001b[0m\n",
      "\u001b[0m[02/Aug/25 19:30:16] INFO [wallet_preprocessor.preprocess_y_data:280] Applied classification threshold 0.05 to y_eval: 192 positive (66.0%), 99 negative (34.0%)\u001b[0m\n",
      "\u001b[0m[02/Aug/25 19:30:16] INFO [wallet_preprocessor._combine_x_y_data:391] Merged y df with target var cw_crypto_net_gain/crypto_inflows/winsorized with X data.\u001b[0m\n",
      "\u001b[0m[02/Aug/25 19:30:16] INFO [wallet_preprocessor._save_preprocessed_df:437] Saved preprocessed eval split to ../s3_uploads/wallet_training_data_preprocessed/dda_927_concat_offsets_v3_dev/241101/eval.csv\u001b[0m\n",
      "\u001b[0m[02/Aug/25 19:30:16] INFO [wallet_preprocessor._save_preprocessed_df:437] Saved preprocessed eval_y split to ../s3_uploads/wallet_training_data_preprocessed/dda_927_concat_offsets_v3_dev/241101/eval_y.csv\u001b[0m\n",
      "\u001b[0m[02/Aug/25 19:30:16] INFO [wallet_preprocessor.preprocess_training_data:123] Preprocessed eval: 291 rows × 222 cols.\u001b[0m\n",
      "\u001b[0m[02/Aug/25 19:30:16] INFO [wallet_preprocessor._handle_missing_values:241] Filled NaN values in 100 columns for x_val.\u001b[0m\n",
      "\u001b[0m[02/Aug/25 19:30:16] INFO [wallet_preprocessor.preprocess_y_data:280] Applied classification threshold 0.05 to y_val: 214 positive (21.4%), 786 negative (78.6%)\u001b[0m\n",
      "\u001b[0m[02/Aug/25 19:30:16] INFO [wallet_preprocessor._save_preprocessed_df:437] Saved preprocessed val split to ../s3_uploads/wallet_training_data_preprocessed/dda_927_concat_offsets_v3_dev/241101/val.csv\u001b[0m\n",
      "\u001b[0m[02/Aug/25 19:30:16] INFO [wallet_preprocessor._save_preprocessed_df:437] Saved preprocessed val_y split to ../s3_uploads/wallet_training_data_preprocessed/dda_927_concat_offsets_v3_dev/241101/val_y.csv\u001b[0m\n",
      "\u001b[0m[02/Aug/25 19:30:16] INFO [wallet_preprocessor.preprocess_training_data:123] Preprocessed val: 1,000 rows × 221 cols.\u001b[0m\n",
      "\u001b[0m[02/Aug/25 19:30:16] INFO [wallet_preprocessor.preprocess_training_data:131] Saved metadata to ../s3_uploads/wallet_training_data_preprocessed/dda_927_concat_offsets_v3_dev/241101/metadata.json\u001b[0m\n",
      "\u001b[92m[02/Aug/25 19:30:16] MILESTONE [wallet_preprocessor.preprocess_training_data:133] Successfully preprocessed data for '241101'.\u001b[0m\n",
      "\u001b[0m[02/Aug/25 19:30:16] INFO [workflow_orchestrator._filter_temporal_overlap:899] Temporal filtering for 241231: removed 4,276 rows (53.4%) to prevent overlap\u001b[0m\n",
      "\u001b[0m[02/Aug/25 19:30:16] INFO [wallet_preprocessor.preprocess_training_data:77] Starting preprocessing for SageMaker XGBoost compatibility...\u001b[0m\n",
      "\u001b[0m[02/Aug/25 19:30:16] INFO [wallet_preprocessor._handle_missing_values:241] Filled NaN values in 100 columns for x_train.\u001b[0m\n",
      "\u001b[0m[02/Aug/25 19:30:16] INFO [wallet_preprocessor.preprocess_y_data:280] Applied classification threshold 0.05 to y_train: 52 positive (18.1%), 235 negative (81.9%)\u001b[0m\n",
      "\u001b[0m[02/Aug/25 19:30:16] INFO [wallet_preprocessor._combine_x_y_data:391] Merged y df with target var cw_crypto_net_gain/crypto_inflows/winsorized with X data.\u001b[0m\n",
      "\u001b[0m[02/Aug/25 19:30:16] INFO [wallet_preprocessor._save_preprocessed_df:437] Saved preprocessed train split to ../s3_uploads/wallet_training_data_preprocessed/dda_927_concat_offsets_v3_dev/241231/train.csv\u001b[0m\n",
      "\u001b[0m[02/Aug/25 19:30:16] INFO [wallet_preprocessor._save_preprocessed_df:437] Saved preprocessed train_y split to ../s3_uploads/wallet_training_data_preprocessed/dda_927_concat_offsets_v3_dev/241231/train_y.csv\u001b[0m\n",
      "\u001b[0m[02/Aug/25 19:30:16] INFO [wallet_preprocessor.preprocess_training_data:123] Preprocessed train: 287 rows × 222 cols.\u001b[0m\n",
      "\u001b[0m[02/Aug/25 19:30:16] INFO [wallet_preprocessor._handle_missing_values:241] Filled NaN values in 100 columns for x_test.\u001b[0m\n",
      "\u001b[0m[02/Aug/25 19:30:16] INFO [wallet_preprocessor.preprocess_y_data:280] Applied classification threshold 0.05 to y_test: 56 positive (18.8%), 242 negative (81.2%)\u001b[0m\n",
      "\u001b[0m[02/Aug/25 19:30:16] INFO [wallet_preprocessor._save_preprocessed_df:437] Saved preprocessed test split to ../s3_uploads/wallet_training_data_preprocessed/dda_927_concat_offsets_v3_dev/241231/test.csv\u001b[0m\n",
      "\u001b[0m[02/Aug/25 19:30:16] INFO [wallet_preprocessor._save_preprocessed_df:437] Saved preprocessed test_y split to ../s3_uploads/wallet_training_data_preprocessed/dda_927_concat_offsets_v3_dev/241231/test_y.csv\u001b[0m\n",
      "\u001b[0m[02/Aug/25 19:30:16] INFO [wallet_preprocessor.preprocess_training_data:123] Preprocessed test: 298 rows × 221 cols.\u001b[0m\n",
      "\u001b[0m[02/Aug/25 19:30:16] INFO [wallet_preprocessor._handle_missing_values:241] Filled NaN values in 100 columns for x_eval.\u001b[0m\n",
      "\u001b[0m[02/Aug/25 19:30:16] INFO [wallet_preprocessor.preprocess_y_data:280] Applied classification threshold 0.05 to y_eval: 52 positive (18.8%), 225 negative (81.2%)\u001b[0m\n",
      "\u001b[0m[02/Aug/25 19:30:16] INFO [wallet_preprocessor._combine_x_y_data:391] Merged y df with target var cw_crypto_net_gain/crypto_inflows/winsorized with X data.\u001b[0m\n",
      "\u001b[0m[02/Aug/25 19:30:16] INFO [wallet_preprocessor._save_preprocessed_df:437] Saved preprocessed eval split to ../s3_uploads/wallet_training_data_preprocessed/dda_927_concat_offsets_v3_dev/241231/eval.csv\u001b[0m\n",
      "\u001b[0m[02/Aug/25 19:30:16] INFO [wallet_preprocessor._save_preprocessed_df:437] Saved preprocessed eval_y split to ../s3_uploads/wallet_training_data_preprocessed/dda_927_concat_offsets_v3_dev/241231/eval_y.csv\u001b[0m\n",
      "\u001b[0m[02/Aug/25 19:30:16] INFO [wallet_preprocessor.preprocess_training_data:123] Preprocessed eval: 277 rows × 222 cols.\u001b[0m\n",
      "\u001b[0m[02/Aug/25 19:30:16] INFO [wallet_preprocessor._handle_missing_values:241] Filled NaN values in 92 columns for x_val.\u001b[0m\n",
      "\u001b[0m[02/Aug/25 19:30:16] INFO [wallet_preprocessor.preprocess_y_data:280] Applied classification threshold 0.05 to y_val: 76 positive (7.6%), 924 negative (92.4%)\u001b[0m\n",
      "\u001b[0m[02/Aug/25 19:30:16] INFO [wallet_preprocessor._save_preprocessed_df:437] Saved preprocessed val split to ../s3_uploads/wallet_training_data_preprocessed/dda_927_concat_offsets_v3_dev/241231/val.csv\u001b[0m\n",
      "\u001b[0m[02/Aug/25 19:30:16] INFO [wallet_preprocessor._save_preprocessed_df:437] Saved preprocessed val_y split to ../s3_uploads/wallet_training_data_preprocessed/dda_927_concat_offsets_v3_dev/241231/val_y.csv\u001b[0m\n",
      "\u001b[0m[02/Aug/25 19:30:16] INFO [wallet_preprocessor.preprocess_training_data:123] Preprocessed val: 1,000 rows × 221 cols.\u001b[0m\n",
      "\u001b[0m[02/Aug/25 19:30:16] INFO [wallet_preprocessor.preprocess_training_data:131] Saved metadata to ../s3_uploads/wallet_training_data_preprocessed/dda_927_concat_offsets_v3_dev/241231/metadata.json\u001b[0m\n",
      "\u001b[92m[02/Aug/25 19:30:16] MILESTONE [wallet_preprocessor.preprocess_training_data:133] Successfully preprocessed data for '241231'.\u001b[0m\n",
      "\u001b[0m[02/Aug/25 19:30:16] INFO [workflow_orchestrator._filter_temporal_overlap:899] Temporal filtering for 250130: removed 5,020 rows (62.7%) to prevent overlap\u001b[0m\n",
      "\u001b[0m[02/Aug/25 19:30:16] INFO [wallet_preprocessor.preprocess_training_data:77] Starting preprocessing for SageMaker XGBoost compatibility...\u001b[0m\n",
      "\u001b[0m[02/Aug/25 19:30:16] INFO [wallet_preprocessor._handle_missing_values:241] Filled NaN values in 92 columns for x_train.\u001b[0m\n",
      "\u001b[0m[02/Aug/25 19:30:16] INFO [wallet_preprocessor.preprocess_y_data:280] Applied classification threshold 0.05 to y_train: 6 positive (3.7%), 156 negative (96.3%)\u001b[0m\n",
      "\u001b[93m[02/Aug/25 19:30:16] WARNING [wallet_preprocessor.preprocess_y_data:284] Class imbalance in y_train below 5%: 3.7% positive class\u001b[0m\n",
      "\u001b[0m[02/Aug/25 19:30:16] INFO [wallet_preprocessor._combine_x_y_data:391] Merged y df with target var cw_crypto_net_gain/crypto_inflows/winsorized with X data.\u001b[0m\n",
      "\u001b[0m[02/Aug/25 19:30:16] INFO [wallet_preprocessor._save_preprocessed_df:437] Saved preprocessed train split to ../s3_uploads/wallet_training_data_preprocessed/dda_927_concat_offsets_v3_dev/250130/train.csv\u001b[0m\n",
      "\u001b[0m[02/Aug/25 19:30:16] INFO [wallet_preprocessor._save_preprocessed_df:437] Saved preprocessed train_y split to ../s3_uploads/wallet_training_data_preprocessed/dda_927_concat_offsets_v3_dev/250130/train_y.csv\u001b[0m\n",
      "\u001b[0m[02/Aug/25 19:30:16] INFO [wallet_preprocessor.preprocess_training_data:123] Preprocessed train: 162 rows × 222 cols.\u001b[0m\n",
      "\u001b[0m[02/Aug/25 19:30:16] INFO [wallet_preprocessor._handle_missing_values:241] Filled NaN values in 92 columns for x_test.\u001b[0m\n",
      "\u001b[0m[02/Aug/25 19:30:16] INFO [wallet_preprocessor.preprocess_y_data:280] Applied classification threshold 0.05 to y_test: 13 positive (8.4%), 141 negative (91.6%)\u001b[0m\n",
      "\u001b[0m[02/Aug/25 19:30:16] INFO [wallet_preprocessor._save_preprocessed_df:437] Saved preprocessed test split to ../s3_uploads/wallet_training_data_preprocessed/dda_927_concat_offsets_v3_dev/250130/test.csv\u001b[0m\n",
      "\u001b[0m[02/Aug/25 19:30:16] INFO [wallet_preprocessor._save_preprocessed_df:437] Saved preprocessed test_y split to ../s3_uploads/wallet_training_data_preprocessed/dda_927_concat_offsets_v3_dev/250130/test_y.csv\u001b[0m\n",
      "\u001b[0m[02/Aug/25 19:30:16] INFO [wallet_preprocessor.preprocess_training_data:123] Preprocessed test: 154 rows × 221 cols.\u001b[0m\n",
      "\u001b[0m[02/Aug/25 19:30:16] INFO [wallet_preprocessor._handle_missing_values:241] Filled NaN values in 92 columns for x_eval.\u001b[0m\n",
      "\u001b[0m[02/Aug/25 19:30:16] INFO [wallet_preprocessor.preprocess_y_data:280] Applied classification threshold 0.05 to y_eval: 15 positive (8.6%), 159 negative (91.4%)\u001b[0m\n",
      "\u001b[0m[02/Aug/25 19:30:16] INFO [wallet_preprocessor._combine_x_y_data:391] Merged y df with target var cw_crypto_net_gain/crypto_inflows/winsorized with X data.\u001b[0m\n",
      "\u001b[0m[02/Aug/25 19:30:16] INFO [wallet_preprocessor._save_preprocessed_df:437] Saved preprocessed eval split to ../s3_uploads/wallet_training_data_preprocessed/dda_927_concat_offsets_v3_dev/250130/eval.csv\u001b[0m\n",
      "\u001b[0m[02/Aug/25 19:30:16] INFO [wallet_preprocessor._save_preprocessed_df:437] Saved preprocessed eval_y split to ../s3_uploads/wallet_training_data_preprocessed/dda_927_concat_offsets_v3_dev/250130/eval_y.csv\u001b[0m\n",
      "\u001b[0m[02/Aug/25 19:30:16] INFO [wallet_preprocessor.preprocess_training_data:123] Preprocessed eval: 174 rows × 222 cols.\u001b[0m\n",
      "\u001b[0m[02/Aug/25 19:30:16] INFO [wallet_preprocessor._handle_missing_values:241] Filled NaN values in 84 columns for x_val.\u001b[0m\n",
      "\u001b[0m[02/Aug/25 19:30:16] INFO [wallet_preprocessor.preprocess_y_data:280] Applied classification threshold 0.05 to y_val: 102 positive (10.2%), 898 negative (89.8%)\u001b[0m\n",
      "\u001b[0m[02/Aug/25 19:30:16] INFO [wallet_preprocessor._save_preprocessed_df:437] Saved preprocessed val split to ../s3_uploads/wallet_training_data_preprocessed/dda_927_concat_offsets_v3_dev/250130/val.csv\u001b[0m\n",
      "\u001b[0m[02/Aug/25 19:30:16] INFO [wallet_preprocessor._save_preprocessed_df:437] Saved preprocessed val_y split to ../s3_uploads/wallet_training_data_preprocessed/dda_927_concat_offsets_v3_dev/250130/val_y.csv\u001b[0m\n",
      "\u001b[0m[02/Aug/25 19:30:16] INFO [wallet_preprocessor.preprocess_training_data:123] Preprocessed val: 1,000 rows × 221 cols.\u001b[0m\n",
      "\u001b[0m[02/Aug/25 19:30:16] INFO [wallet_preprocessor.preprocess_training_data:131] Saved metadata to ../s3_uploads/wallet_training_data_preprocessed/dda_927_concat_offsets_v3_dev/250130/metadata.json\u001b[0m\n",
      "\u001b[92m[02/Aug/25 19:30:16] MILESTONE [wallet_preprocessor.preprocess_training_data:133] Successfully preprocessed data for '250130'.\u001b[0m\n",
      "\u001b[0m[02/Aug/25 19:30:16] INFO [workflow_orchestrator._filter_temporal_overlap:899] Temporal filtering for 250301: removed 5,148 rows (64.3%) to prevent overlap\u001b[0m\n",
      "\u001b[0m[02/Aug/25 19:30:16] INFO [wallet_preprocessor.preprocess_training_data:77] Starting preprocessing for SageMaker XGBoost compatibility...\u001b[0m\n",
      "\u001b[0m[02/Aug/25 19:30:16] INFO [wallet_preprocessor._handle_missing_values:241] Filled NaN values in 84 columns for x_train.\u001b[0m\n",
      "\u001b[0m[02/Aug/25 19:30:16] INFO [wallet_preprocessor.preprocess_y_data:280] Applied classification threshold 0.05 to y_train: 13 positive (8.7%), 136 negative (91.3%)\u001b[0m\n",
      "\u001b[0m[02/Aug/25 19:30:16] INFO [wallet_preprocessor._combine_x_y_data:391] Merged y df with target var cw_crypto_net_gain/crypto_inflows/winsorized with X data.\u001b[0m\n",
      "\u001b[0m[02/Aug/25 19:30:16] INFO [wallet_preprocessor._save_preprocessed_df:437] Saved preprocessed train split to ../s3_uploads/wallet_training_data_preprocessed/dda_927_concat_offsets_v3_dev/250301/train.csv\u001b[0m\n",
      "\u001b[0m[02/Aug/25 19:30:16] INFO [wallet_preprocessor._save_preprocessed_df:437] Saved preprocessed train_y split to ../s3_uploads/wallet_training_data_preprocessed/dda_927_concat_offsets_v3_dev/250301/train_y.csv\u001b[0m\n",
      "\u001b[0m[02/Aug/25 19:30:16] INFO [wallet_preprocessor.preprocess_training_data:123] Preprocessed train: 149 rows × 222 cols.\u001b[0m\n",
      "\u001b[0m[02/Aug/25 19:30:16] INFO [wallet_preprocessor._handle_missing_values:241] Filled NaN values in 84 columns for x_test.\u001b[0m\n",
      "\u001b[0m[02/Aug/25 19:30:16] INFO [wallet_preprocessor.preprocess_y_data:280] Applied classification threshold 0.05 to y_test: 15 positive (10.9%), 122 negative (89.1%)\u001b[0m\n",
      "\u001b[0m[02/Aug/25 19:30:16] INFO [wallet_preprocessor._save_preprocessed_df:437] Saved preprocessed test split to ../s3_uploads/wallet_training_data_preprocessed/dda_927_concat_offsets_v3_dev/250301/test.csv\u001b[0m\n",
      "\u001b[0m[02/Aug/25 19:30:16] INFO [wallet_preprocessor._save_preprocessed_df:437] Saved preprocessed test_y split to ../s3_uploads/wallet_training_data_preprocessed/dda_927_concat_offsets_v3_dev/250301/test_y.csv\u001b[0m\n",
      "\u001b[0m[02/Aug/25 19:30:16] INFO [wallet_preprocessor.preprocess_training_data:123] Preprocessed test: 137 rows × 221 cols.\u001b[0m\n",
      "\u001b[0m[02/Aug/25 19:30:17] INFO [wallet_preprocessor._handle_missing_values:241] Filled NaN values in 84 columns for x_eval.\u001b[0m\n",
      "\u001b[0m[02/Aug/25 19:30:17] INFO [wallet_preprocessor.preprocess_y_data:280] Applied classification threshold 0.05 to y_eval: 13 positive (9.3%), 127 negative (90.7%)\u001b[0m\n",
      "\u001b[0m[02/Aug/25 19:30:17] INFO [wallet_preprocessor._combine_x_y_data:391] Merged y df with target var cw_crypto_net_gain/crypto_inflows/winsorized with X data.\u001b[0m\n",
      "\u001b[0m[02/Aug/25 19:30:17] INFO [wallet_preprocessor._save_preprocessed_df:437] Saved preprocessed eval split to ../s3_uploads/wallet_training_data_preprocessed/dda_927_concat_offsets_v3_dev/250301/eval.csv\u001b[0m\n",
      "\u001b[0m[02/Aug/25 19:30:17] INFO [wallet_preprocessor._save_preprocessed_df:437] Saved preprocessed eval_y split to ../s3_uploads/wallet_training_data_preprocessed/dda_927_concat_offsets_v3_dev/250301/eval_y.csv\u001b[0m\n",
      "\u001b[0m[02/Aug/25 19:30:17] INFO [wallet_preprocessor.preprocess_training_data:123] Preprocessed eval: 140 rows × 222 cols.\u001b[0m\n",
      "\u001b[0m[02/Aug/25 19:30:17] INFO [wallet_preprocessor._handle_missing_values:241] Filled NaN values in 84 columns for x_val.\u001b[0m\n",
      "\u001b[0m[02/Aug/25 19:30:17] INFO [wallet_preprocessor.preprocess_y_data:280] Applied classification threshold 0.05 to y_val: 501 positive (50.1%), 499 negative (49.9%)\u001b[0m\n",
      "\u001b[0m[02/Aug/25 19:30:17] INFO [wallet_preprocessor._save_preprocessed_df:437] Saved preprocessed val split to ../s3_uploads/wallet_training_data_preprocessed/dda_927_concat_offsets_v3_dev/250301/val.csv\u001b[0m\n",
      "\u001b[0m[02/Aug/25 19:30:17] INFO [wallet_preprocessor._save_preprocessed_df:437] Saved preprocessed val_y split to ../s3_uploads/wallet_training_data_preprocessed/dda_927_concat_offsets_v3_dev/250301/val_y.csv\u001b[0m\n",
      "\u001b[0m[02/Aug/25 19:30:17] INFO [wallet_preprocessor.preprocess_training_data:123] Preprocessed val: 1,000 rows × 221 cols.\u001b[0m\n",
      "\u001b[0m[02/Aug/25 19:30:17] INFO [wallet_preprocessor.preprocess_training_data:131] Saved metadata to ../s3_uploads/wallet_training_data_preprocessed/dda_927_concat_offsets_v3_dev/250301/metadata.json\u001b[0m\n",
      "\u001b[92m[02/Aug/25 19:30:17] MILESTONE [wallet_preprocessor.preprocess_training_data:133] Successfully preprocessed data for '250301'.\u001b[0m\n",
      "\u001b[0m[02/Aug/25 19:30:17] INFO [workflow_orchestrator.preprocess_all_training_data:201] Preprocessing complete for all 19 dates.\u001b[0m\n",
      "\u001b[0m[02/Aug/25 19:30:17] INFO [workflow_orchestrator.concatenate_all_preprocessed_data:265] Saved concatenated train.csv with 5521 rows to ../s3_uploads/wallet_training_data_concatenated/dda_927_concat_offsets_v3_dev/train.csv\u001b[0m\n",
      "\u001b[0m[02/Aug/25 19:30:17] INFO [workflow_orchestrator.concatenate_all_preprocessed_data:265] Saved concatenated eval.csv with 5475 rows to ../s3_uploads/wallet_training_data_concatenated/dda_927_concat_offsets_v3_dev/eval.csv\u001b[0m\n",
      "\u001b[0m[02/Aug/25 19:30:18] INFO [workflow_orchestrator.concatenate_all_preprocessed_data:265] Saved concatenated test.csv with 5439 rows to ../s3_uploads/wallet_training_data_concatenated/dda_927_concat_offsets_v3_dev/test.csv\u001b[0m\n",
      "\u001b[0m[02/Aug/25 19:30:18] INFO [workflow_orchestrator.concatenate_all_preprocessed_data:265] Saved concatenated val.csv with 1000 rows to ../s3_uploads/wallet_training_data_concatenated/dda_927_concat_offsets_v3_dev/val.csv\u001b[0m\n",
      "\u001b[0m[02/Aug/25 19:30:18] INFO [workflow_orchestrator.concatenate_all_preprocessed_data:293] Saved concatenated test_y.csv with 5439 rows to ../s3_uploads/wallet_training_data_concatenated/dda_927_concat_offsets_v3_dev/test_y.csv\u001b[0m\n",
      "\u001b[0m[02/Aug/25 19:30:18] INFO [workflow_orchestrator.concatenate_all_preprocessed_data:293] Saved concatenated val_y.csv with 1000 rows to ../s3_uploads/wallet_training_data_concatenated/dda_927_concat_offsets_v3_dev/val_y.csv\u001b[0m\n"
     ]
    }
   ],
   "source": [
    "workflow_orch.concatenate_all_preprocessed_data()"
   ]
  },
  {
   "cell_type": "markdown",
   "metadata": {},
   "source": [
    "#### upload"
   ]
  },
  {
   "cell_type": "code",
   "execution_count": null,
   "metadata": {},
   "outputs": [],
   "source": [
    "concat_uris = workflow_orch.upload_concatenated_training_data(overwrite_existing=True)"
   ]
  },
  {
   "cell_type": "markdown",
   "metadata": {},
   "source": [
    "#### train"
   ]
  },
  {
   "cell_type": "code",
   "execution_count": null,
   "metadata": {},
   "outputs": [],
   "source": [
    "modeling_results = workflow_orch.train_concatenated_offsets_model()"
   ]
  },
  {
   "cell_type": "markdown",
   "metadata": {},
   "source": [
    "#### load existing model"
   ]
  },
  {
   "cell_type": "code",
   "execution_count": null,
   "metadata": {},
   "outputs": [],
   "source": [
    "[importlib.reload(module) for module in modules]\n",
    "sage_wallets_config = yaml.safe_load(Path('../config/sage_wallets_config.yaml').read_text(encoding='utf-8'))\n",
    "sage_wallets_modeling_config = yaml.safe_load(Path('../config/sage_wallets_modeling_config.yaml').read_text(encoding='utf-8'))\n",
    "\n",
    "\n",
    "workflow_orch = wo.WalletWorkflowOrchestrator(sage_wallets_config,sage_wallets_modeling_config)\n",
    "s3_uris = workflow_orch.retrieve_training_data_uris(['concat'])"
   ]
  },
  {
   "cell_type": "code",
   "execution_count": null,
   "metadata": {},
   "outputs": [],
   "source": [
    "[importlib.reload(module) for module in modules]\n",
    "sage_wallets_config = yaml.safe_load(Path('../config/sage_wallets_config.yaml').read_text(encoding='utf-8'))\n",
    "sage_wallets_modeling_config = yaml.safe_load(Path('../config/sage_wallets_modeling_config.yaml').read_text(encoding='utf-8'))\n",
    "\n",
    "# Create modeler with 'concat' as the date_suffix\n",
    "concat_modeler = wm.WalletModeler(\n",
    "    wallets_config=sage_wallets_config,\n",
    "    modeling_config=sage_wallets_modeling_config,\n",
    "    date_suffix='concat',  # This is the key - using 'concat' instead of a real date\n",
    "    s3_uris=s3_uris,\n",
    "    override_approvals=None\n",
    ")\n",
    "\n",
    "# Step 2: Load the existing concatenated model\n",
    "model_info = concat_modeler.load_existing_model()\n"
   ]
  },
  {
   "cell_type": "markdown",
   "metadata": {},
   "source": [
    "#### predict"
   ]
  },
  {
   "cell_type": "code",
   "execution_count": null,
   "metadata": {},
   "outputs": [],
   "source": [
    "prediction_result = concat_modeler.predict_with_batch_transform(\n",
    "    dataset_type='test',           # We want to predict on test data\n",
    "    download_preds=True,          # Download predictions locally\n",
    "    job_name_suffix='concat'      # Add suffix to make job name unique\n",
    ")\n"
   ]
  },
  {
   "cell_type": "markdown",
   "metadata": {},
   "source": [
    "#### evaluate"
   ]
  },
  {
   "cell_type": "code",
   "execution_count": null,
   "metadata": {},
   "outputs": [],
   "source": [
    "date_suffix = 'concat'\n",
    "y_test_pred = sime.load_bt_sagemaker_predictions('test', sage_wallets_config, date_suffix)\n"
   ]
  },
  {
   "cell_type": "code",
   "execution_count": null,
   "metadata": {},
   "outputs": [],
   "source": [
    "[importlib.reload(module) for module in modules]\n",
    "sage_wallets_config = yaml.safe_load(Path('../config/sage_wallets_config.yaml').read_text(encoding='utf-8'))\n",
    "sage_wallets_modeling_config = yaml.safe_load(Path('../config/sage_wallets_modeling_config.yaml').read_text(encoding='utf-8'))\n",
    "\n",
    "\n",
    "# Single function call for complete evaluation\n",
    "evaluator = sime.create_concatenated_sagemaker_evaluator(\n",
    "    sage_wallets_config,\n",
    "    sage_wallets_modeling_config,\n",
    "    y_test_pred,\n",
    ")"
   ]
  },
  {
   "cell_type": "code",
   "execution_count": null,
   "metadata": {},
   "outputs": [],
   "source": [
    "evaluator.summary_report()\n",
    "evaluator.plot_wallet_evaluation()\n"
   ]
  },
  {
   "cell_type": "markdown",
   "metadata": {},
   "source": [
    "## Temporal cv model"
   ]
  },
  {
   "cell_type": "code",
   "execution_count": null,
   "metadata": {},
   "outputs": [],
   "source": [
    "[importlib.reload(module) for module in modules]\n",
    "sage_wallets_config = yaml.safe_load(Path('../config/sage_wallets_config.yaml').read_text(encoding='utf-8'))\n",
    "sage_wallets_modeling_config = yaml.safe_load(Path('../config/sage_wallets_modeling_config.yaml').read_text(encoding='utf-8'))\n",
    "\n",
    "\n",
    "date_suffixes = [\n",
    "    '231008',\n",
    "    '231107',\n",
    "    '240306',\n",
    "    '241101',\n",
    "    '250301'\n",
    "]\n",
    "workflow_orch = wo.WalletWorkflowOrchestrator(sage_wallets_config,sage_wallets_modeling_config)\n",
    "workflow_orch.load_all_training_data(date_suffixes)\n",
    "s3_uris = workflow_orch.retrieve_training_data_uris(date_suffixes)"
   ]
  },
  {
   "cell_type": "code",
   "execution_count": null,
   "metadata": {},
   "outputs": [],
   "source": [
    "sm.train_temporal_cv_script_model(sage_wallets_config,sage_wallets_modeling_config,cv_s3_uri)"
   ]
  },
  {
   "cell_type": "markdown",
   "metadata": {},
   "source": [
    "## Single Model Sequence"
   ]
  },
  {
   "cell_type": "markdown",
   "metadata": {},
   "source": [
    "### Train Single Model"
   ]
  },
  {
   "cell_type": "markdown",
   "metadata": {},
   "source": [
    "#### retrieve file uris"
   ]
  },
  {
   "cell_type": "code",
   "execution_count": null,
   "metadata": {},
   "outputs": [],
   "source": [
    "[importlib.reload(module) for module in modules]\n",
    "sage_wallets_config = yaml.safe_load(Path('../config/sage_wallets_config.yaml').read_text(encoding='utf-8'))\n",
    "sage_wallets_modeling_config = yaml.safe_load(Path('../config/sage_wallets_modeling_config.yaml').read_text(encoding='utf-8'))\n",
    "\n",
    "workflow_orch = wo.WalletWorkflowOrchestrator(sage_wallets_config,sage_wallets_modeling_config)\n",
    "\n",
    "\n",
    "\n",
    "date_suffixes = [\n",
    "    '231008',\n",
    "    '231107',\n",
    "    '240306',\n",
    "    '250301'\n",
    "]\n",
    "\n",
    "# Generate URIs for specific dates without any prior setup\n",
    "s3_uris = workflow_orch.retrieve_training_data_uris(date_suffixes)\n",
    "s3_uris"
   ]
  },
  {
   "cell_type": "markdown",
   "metadata": {},
   "source": [
    "#### train model"
   ]
  },
  {
   "cell_type": "code",
   "execution_count": null,
   "metadata": {},
   "outputs": [],
   "source": [
    "[importlib.reload(module) for module in modules]\n",
    "sage_wallets_config = yaml.safe_load(Path('../config/sage_wallets_config.yaml').read_text(encoding='utf-8'))\n",
    "sage_wallets_modeling_config = yaml.safe_load(Path('../config/sage_wallets_modeling_config.yaml').read_text(encoding='utf-8'))\n",
    "\n",
    "date_suffix = '231008'\n",
    "\n",
    "modeler = wm.WalletModeler(\n",
    "    sage_wallets_config,\n",
    "    sage_wallets_modeling_config,\n",
    "    date_suffix,\n",
    "    s3_uris\n",
    ")\n",
    "\n"
   ]
  },
  {
   "cell_type": "code",
   "execution_count": null,
   "metadata": {},
   "outputs": [],
   "source": [
    "modeling_results = modeler.train_model()"
   ]
  },
  {
   "cell_type": "markdown",
   "metadata": {},
   "source": [
    "### Score validation set"
   ]
  },
  {
   "cell_type": "markdown",
   "metadata": {},
   "source": [
    "#### get existing model uri"
   ]
  },
  {
   "cell_type": "code",
   "execution_count": null,
   "metadata": {},
   "outputs": [],
   "source": [
    "[importlib.reload(module) for module in modules]\n",
    "sage_wallets_config = yaml.safe_load(Path('../config/sage_wallets_config.yaml').read_text(encoding='utf-8'))\n",
    "sage_wallets_modeling_config = yaml.safe_load(Path('../config/sage_wallets_modeling_config.yaml').read_text(encoding='utf-8'))\n",
    "\n",
    "\n",
    "\n",
    "date_suffix = '231008'\n",
    "\n",
    "# Generate URIs for specific dates without any prior setup\n",
    "workflow_orch = wo.WalletWorkflowOrchestrator(sage_wallets_config,sage_wallets_modeling_config)\n",
    "s3_uris = workflow_orch.retrieve_training_data_uris([date_suffix])\n",
    "\n",
    "# Launch modeler\n",
    "modeler = wm.WalletModeler(\n",
    "    sage_wallets_config,\n",
    "    sage_wallets_modeling_config,\n",
    "    date_suffix,\n",
    "    s3_uris\n",
    ")\n",
    "\n",
    "\n",
    "model_metadata = modeler.load_existing_model()"
   ]
  },
  {
   "cell_type": "markdown",
   "metadata": {},
   "source": [
    "#### predict with batch transform"
   ]
  },
  {
   "cell_type": "code",
   "execution_count": null,
   "metadata": {},
   "outputs": [],
   "source": [
    "transform_results = modeler.predict_with_batch_transform('val')"
   ]
  },
  {
   "cell_type": "code",
   "execution_count": null,
   "metadata": {},
   "outputs": [],
   "source": [
    "transform_results = modeler.predict_with_batch_transform('test')"
   ]
  },
  {
   "cell_type": "markdown",
   "metadata": {},
   "source": [
    "### Predict Using Endpoints"
   ]
  },
  {
   "cell_type": "markdown",
   "metadata": {},
   "source": [
    "#### deploy endpoint for predictions"
   ]
  },
  {
   "cell_type": "code",
   "execution_count": null,
   "metadata": {},
   "outputs": [],
   "source": [
    "modeler.list_active_endpoints()"
   ]
  },
  {
   "cell_type": "code",
   "execution_count": null,
   "metadata": {},
   "outputs": [],
   "source": [
    "modeler.deploy_endpoint()"
   ]
  },
  {
   "cell_type": "markdown",
   "metadata": {},
   "source": [
    "#### load and preprocess test/val dfs"
   ]
  },
  {
   "cell_type": "code",
   "execution_count": null,
   "metadata": {},
   "outputs": [],
   "source": [
    "x_test = pd.read_parquet(\n",
    "    Path(\"../s3_uploads/wallet_training_data_queue\") /\n",
    "    sage_wallets_config['training_data']['local_directory'] /\n",
    "    f\"x_test_{date_suffix}.parquet\"\n",
    ")\n",
    "x_val = pd.read_parquet(\n",
    "    Path(\"../s3_uploads/wallet_training_data_queue\") /\n",
    "    sage_wallets_config['training_data']['local_directory'] /\n",
    "    f\"x_val_{date_suffix}.parquet\"\n",
    ")\n",
    "\n",
    "\n"
   ]
  },
  {
   "cell_type": "code",
   "execution_count": null,
   "metadata": {},
   "outputs": [],
   "source": [
    "preprocessor = SageWalletsPreprocessor(sage_wallets_config)\n",
    "x_test_processed = preprocessor.preprocess_x_df(x_test)\n",
    "x_val_processed = preprocessor.preprocess_x_df(x_val)\n",
    "\n",
    "logger.info(f\"Preprocessed X_test {x_test_processed.shape} and \"\n",
    "            f\"X_val {x_val_processed.shape}.\")"
   ]
  },
  {
   "cell_type": "markdown",
   "metadata": {},
   "source": [
    "#### predict"
   ]
  },
  {
   "cell_type": "code",
   "execution_count": null,
   "metadata": {},
   "outputs": [],
   "source": [
    "y_test_pred = modeler.predict_using_endpoint(x_test_processed, 'test')\n",
    "y_val_pred = modeler.predict_using_endpoint(x_val_processed, 'val')"
   ]
  },
  {
   "cell_type": "markdown",
   "metadata": {},
   "source": [
    "#### delete all endpoints"
   ]
  },
  {
   "cell_type": "code",
   "execution_count": null,
   "metadata": {},
   "outputs": [],
   "source": [
    "modeler.delete_all_endpoints()"
   ]
  },
  {
   "cell_type": "code",
   "execution_count": null,
   "metadata": {},
   "outputs": [],
   "source": [
    "modeler.list_active_endpoints()\n",
    "modeler.list_all_endpoints()"
   ]
  },
  {
   "cell_type": "markdown",
   "metadata": {},
   "source": [
    "## Script model training"
   ]
  },
  {
   "cell_type": "code",
   "execution_count": null,
   "metadata": {},
   "outputs": [],
   "source": [
    "[importlib.reload(module) for module in modules]\n",
    "sage_wallets_config = yaml.safe_load(Path('../config/sage_wallets_config.yaml').read_text(encoding='utf-8'))\n",
    "sage_wallets_modeling_config = yaml.safe_load(Path('../config/sage_wallets_modeling_config.yaml').read_text(encoding='utf-8'))\n",
    "\n",
    "\n",
    "date_suffixes = [\n",
    "    '231008',\n",
    "    '231107',\n",
    "    '240306',\n",
    "    '250301'\n",
    "]\n",
    "\n",
    "date_suffix = '231008'\n",
    "\n",
    "\n",
    "workflow_orch = wo.WalletWorkflowOrchestrator(sage_wallets_config,sage_wallets_modeling_config)\n",
    "workflow_orch.load_all_training_data(date_suffixes)\n",
    "s3_uris = workflow_orch.retrieve_training_data_uris(date_suffixes)"
   ]
  },
  {
   "cell_type": "code",
   "execution_count": null,
   "metadata": {},
   "outputs": [],
   "source": [
    "[importlib.reload(module) for module in modules]\n",
    "sage_wallets_config = yaml.safe_load(Path('../config/sage_wallets_config.yaml').read_text(encoding='utf-8'))\n",
    "sage_wallets_modeling_config = yaml.safe_load(Path('../config/sage_wallets_modeling_config.yaml').read_text(encoding='utf-8'))\n",
    "\n",
    "date_suffix = '231008'\n",
    "\n",
    "modeler = wm.WalletModeler(\n",
    "    sage_wallets_config,\n",
    "    sage_wallets_modeling_config,\n",
    "    date_suffix,\n",
    "    s3_uris\n",
    ")\n",
    "\n"
   ]
  },
  {
   "cell_type": "code",
   "execution_count": null,
   "metadata": {},
   "outputs": [],
   "source": [
    "sm.train_single_period_script_model(\n",
    "    sage_wallets_config,\n",
    "    sage_wallets_modeling_config,\n",
    "    date_suffix,\n",
    "    s3_uris\n",
    ")"
   ]
  },
  {
   "cell_type": "code",
   "execution_count": null,
   "metadata": {},
   "outputs": [],
   "source": [
    "from sagemaker.session import Session\n",
    "from sagemaker.xgboost.estimator import XGBoost\n",
    "from sagemaker.tuner import HyperparameterTuner, ContinuousParameter, IntegerParameter\n",
    "\n",
    "s3_data = {\n",
    "    \"train\":      s3_uris[date_suffix]['train'],\n",
    "    \"validation\": s3_uris[date_suffix]['val']\n",
    "}\n",
    "model_output_path = (f\"s3://wallet-script-models/model-outputs\")\n",
    "\n",
    "estimator = XGBoost(\n",
    "    entry_point         = \"script_mode_modeler.py\",     # path relative to notebook\n",
    "    source_dir          = \"../src/script_modeling/\",    # folder that holds the script\n",
    "    base_job_name       = \"dda-922-v4\",                 # uploaded and immutable script version\n",
    "    framework_version   = sage_wallets_modeling_config['framework']['version'],\n",
    "    role                = sage_wallets_config['aws']['modeler_arn'],\n",
    "    instance_type       = sage_wallets_modeling_config['metaparams']['instance_type'],\n",
    "    instance_count      = sage_wallets_modeling_config['metaparams']['instance_count'],\n",
    "    output_path         = model_output_path,\n",
    "    hyperparameters = {\n",
    "        \"eta\": 0.1,\n",
    "        \"max_depth\": 6,\n",
    "        \"subsample\": 1.0,\n",
    "        \"num_boost_round\": 50,            # small for a smoke-test\n",
    "        \"early_stopping_rounds\": 10\n",
    "    },\n",
    "    # metric_definitions=[                  # regex must match the print line\n",
    "    #     {\"Name\": \"cv_auc_pr\", \"Regex\": \"validation:cv_auc_pr=(.*)\"}\n",
    "    # ],\n",
    ")\n",
    "\n",
    "# one-shot fit (no tuning yet)\n",
    "estimator.fit(s3_data, logs=\"All\")"
   ]
  },
  {
   "cell_type": "markdown",
   "metadata": {},
   "source": [
    "# Model Evaluation"
   ]
  },
  {
   "cell_type": "markdown",
   "metadata": {},
   "source": [
    "### Analyze predictions"
   ]
  },
  {
   "cell_type": "code",
   "execution_count": null,
   "metadata": {},
   "outputs": [],
   "source": [
    "[importlib.reload(module) for module in modules]\n",
    "sage_wallets_config = yaml.safe_load(Path('../config/sage_wallets_config.yaml').read_text(encoding='utf-8'))\n",
    "sage_wallets_modeling_config = yaml.safe_load(Path('../config/sage_wallets_modeling_config.yaml').read_text(encoding='utf-8'))\n",
    "\n",
    "\n",
    "date_suffixes = [\n",
    "    '231008',\n",
    "    # '240306'\n",
    "]\n",
    "date_suffix = date_suffixes[0]"
   ]
  },
  {
   "cell_type": "code",
   "execution_count": null,
   "metadata": {},
   "outputs": [],
   "source": [
    "y_test_pred = sime.load_bt_sagemaker_predictions('test', sage_wallets_config, date_suffix)\n",
    "y_val_pred = sime.load_bt_sagemaker_predictions('val', sage_wallets_config, date_suffix)"
   ]
  },
  {
   "cell_type": "code",
   "execution_count": null,
   "metadata": {},
   "outputs": [],
   "source": [
    "# Single function call for complete evaluation\n",
    "evaluator = sime.run_sagemaker_evaluation(\n",
    "    sage_wallets_config,\n",
    "    sage_wallets_modeling_config,\n",
    "    date_suffix,\n",
    "    y_test_pred,\n",
    "    y_val_pred\n",
    ")"
   ]
  },
  {
   "cell_type": "code",
   "execution_count": null,
   "metadata": {},
   "outputs": [],
   "source": [
    "evaluator.y_validation"
   ]
  },
  {
   "cell_type": "code",
   "execution_count": null,
   "metadata": {},
   "outputs": [],
   "source": [
    "evaluator.y_validation_pred_proba"
   ]
  },
  {
   "cell_type": "code",
   "execution_count": null,
   "metadata": {},
   "outputs": [],
   "source": [
    "from sklearn.metrics import roc_curve, auc\n",
    "import matplotlib.pyplot as plt\n",
    "\n",
    "fpr, tpr, _ = roc_curve(evaluator.y_validation, evaluator.y_validation_pred_proba)\n",
    "roc_auc = auc(fpr, tpr)\n",
    "\n",
    "plt.figure(figsize=(8, 6))\n",
    "plt.plot(fpr, tpr, color='darkorange', lw=2, label=f'ROC curve (AUC = {roc_auc:.3f})')\n",
    "plt.plot([0, 1], [0, 1], color='navy', lw=2, linestyle='--', label='Random classifier')\n",
    "plt.xlim([0.0, 1.0])\n",
    "plt.ylim([0.0, 1.05])\n",
    "plt.xlabel('False Positive Rate')\n",
    "plt.ylabel('True Positive Rate')\n",
    "plt.title('ROC Curve - Validation Set')\n",
    "plt.legend(loc=\"lower right\")\n",
    "plt.grid(True, alpha=0.3)\n",
    "plt.show()"
   ]
  },
  {
   "cell_type": "code",
   "execution_count": null,
   "metadata": {},
   "outputs": [],
   "source": [
    "evaluator.summary_report()\n",
    "evaluator.plot_wallet_evaluation()\n"
   ]
  },
  {
   "cell_type": "code",
   "execution_count": null,
   "metadata": {},
   "outputs": [],
   "source": [
    "def load_sagemaker_predictions(\n",
    "    data_type: str,\n",
    "    sage_wallets_config: dict,\n",
    "    sage_wallets_modeling_config: dict,\n",
    "    date_suffix: str\n",
    ") -> tuple[pd.Series, pd.Series]:\n",
    "    \"\"\"\n",
    "    Load SageMaker predictions and corresponding actuals for a given data type.\n",
    "\n",
    "    Params:\n",
    "    - data_type (str): Either 'test' or 'val'\n",
    "    - sage_wallets_config (dict): Configuration for training data paths\n",
    "    - sage_wallets_modeling_config (dict): Configuration for model parameters\n",
    "    - date_suffix (str): Date suffix for file naming\n",
    "\n",
    "    Returns:\n",
    "    - tuple: (predictions_series, actuals_series) with aligned indices\n",
    "    \"\"\"\n",
    "    # Load predictions\n",
    "    pred_path = Path(sage_wallets_modeling_config['metaparams']['endpoint_preds_dir']) / \\\n",
    "                f\"endpoint_y_pred_{data_type}_{sage_wallets_config['training_data']['local_directory']}_{date_suffix}.csv\"\n",
    "    pred_df = pd.read_csv(pred_path)\n",
    "\n",
    "    if 'score' not in pred_df.columns:\n",
    "        raise ValueError(f\"SageMaker predictions are missing the 'score' column. \"\n",
    "                        f\"Available columns: {pred_df.columns}\")\n",
    "    pred_series = pred_df['score']\n",
    "\n",
    "    # Load actuals\n",
    "    training_data_path = (\n",
    "        Path(f\"../s3_uploads\") / \"wallet_training_data_queue\" /\n",
    "        f\"{sage_wallets_config['training_data']['local_directory']}\"\n",
    "    )\n",
    "    actuals_path = training_data_path / f\"y_{data_type}_{date_suffix}.parquet\"\n",
    "    actuals_df = pd.read_parquet(actuals_path)\n",
    "\n",
    "    if len(actuals_df.columns) > 1:\n",
    "        raise ValueError(f\"Found unexpected columns in y_{data_type}_df. \"\n",
    "                        f\"Expected 1 column, found {actuals_df.columns}.\")\n",
    "    actuals_series = actuals_df.iloc[:, 0]\n",
    "\n",
    "    # Validate lengths and align indices\n",
    "    if len(pred_series) != len(actuals_series):\n",
    "        raise ValueError(f\"Length of y_{data_type}_pred ({len(pred_series)}) does \"\n",
    "                        f\"not match length of y_{data_type}_true ({len(actuals_series)}).\")\n",
    "\n",
    "    pred_series.index = actuals_series.index\n",
    "\n",
    "    return pred_series, actuals_series"
   ]
  },
  {
   "cell_type": "code",
   "execution_count": null,
   "metadata": {},
   "outputs": [],
   "source": [
    "# Load predictions and actuals\n",
    "y_test_pred_series, y_test_true_series = load_sagemaker_predictions(\n",
    "    'test', sage_wallets_config, sage_wallets_modeling_config, date_suffix\n",
    ")\n",
    "y_val_pred_series, y_val_true_series = load_sagemaker_predictions(\n",
    "    'val', sage_wallets_config, sage_wallets_modeling_config, date_suffix\n",
    ")\n",
    "\n",
    "# Load remaining training data\n",
    "training_data_path = (\n",
    "    Path(f\"../s3_uploads\") / \"wallet_training_data_queue\" /\n",
    "    f\"{sage_wallets_config['training_data']['local_directory']}\"\n",
    ")\n",
    "X_train = pd.read_parquet(training_data_path / f\"x_train_{date_suffix}.parquet\")\n",
    "y_train = pd.read_parquet(training_data_path / f\"y_train_{date_suffix}.parquet\")\n",
    "X_test = pd.read_parquet(training_data_path / f\"x_test_{date_suffix}.parquet\")\n",
    "X_val = pd.read_parquet(training_data_path / f\"x_val_{date_suffix}.parquet\")\n",
    "\n",
    "# Identify target variable and model type\n",
    "target_variable = y_val_true_series.name or y_train.columns[0]\n",
    "objective = sage_wallets_modeling_config['training']['hyperparameters']['objective']\n",
    "model_type = 'regression' if objective[:3] == 'reg' else 'unknown'"
   ]
  },
  {
   "cell_type": "code",
   "execution_count": null,
   "metadata": {},
   "outputs": [],
   "source": [
    "# Create model_id and modeling_config\n",
    "model_id = f\"sagemaker_{sage_wallets_config['training_data']['local_directory']}_{date_suffix}\"\n",
    "\n",
    "modeling_config = {\n",
    "    'target_variable': target_variable,\n",
    "    'model_type': model_type,\n",
    "    'returns_winsorization': 0.005,  # Default for winsorizing returns\n",
    "    'training_data': {\n",
    "        'modeling_period_duration': 30  # Default performance window\n",
    "    },\n",
    "    'sagemaker_metadata': {\n",
    "        'objective': objective,\n",
    "        'local_directory': sage_wallets_config['training_data']['local_directory'],\n",
    "        'date_suffix': date_suffix\n",
    "    }\n",
    "}\n",
    "\n",
    "# Create minimal wallet_model_results for SageMaker evaluation\n",
    "wallet_model_results = {\n",
    "    'model_id': model_id,\n",
    "    'modeling_config': modeling_config,\n",
    "    'model_type': model_type,\n",
    "\n",
    "    # Training data\n",
    "    'X_train': X_train,\n",
    "    'X_test': X_test,\n",
    "    'y_train': y_train,\n",
    "    'y_test': y_test_true_series,\n",
    "    'y_pred': y_test_pred_series,\n",
    "    'training_cohort_pred': None,\n",
    "    'training_cohort_actuals': None,\n",
    "\n",
    "    # Validation data\n",
    "    'X_validation': X_val,\n",
    "    'y_validation': y_val_true_series,\n",
    "    'y_validation_pred': y_val_pred_series,\n",
    "    'validation_target_vars_df': None,\n",
    "\n",
    "    # Fixed mock pipeline\n",
    "    'pipeline': type('MockPipeline', (), {\n",
    "        'named_steps': {'estimator': type('MockModel', (), {\n",
    "            'get_params': lambda self: {'objective': objective}  # Accept self argument\n",
    "        })()},\n",
    "        '__getitem__': lambda self, key: type('MockTransformer', (), {\n",
    "            'transform': lambda self, X: X  # Accept self argument\n",
    "        })()\n",
    "    })()\n",
    "}\n",
    "\n",
    "# Create evaluator\n",
    "wallet_evaluator = wime.RegressorEvaluator(wallet_model_results)\n",
    "\n",
    "# Run basic evaluation\n",
    "wallet_evaluator.summary_report()\n",
    "wallet_evaluator.plot_wallet_evaluation()"
   ]
  },
  {
   "cell_type": "code",
   "execution_count": null,
   "metadata": {},
   "outputs": [],
   "source": []
  },
  {
   "cell_type": "code",
   "execution_count": null,
   "metadata": {},
   "outputs": [],
   "source": [
    "target_variable"
   ]
  },
  {
   "cell_type": "code",
   "execution_count": null,
   "metadata": {},
   "outputs": [],
   "source": []
  }
 ],
 "metadata": {
  "kernelspec": {
   "display_name": ".sage_venv",
   "language": "python",
   "name": "python3"
  },
  "language_info": {
   "codemirror_mode": {
    "name": "ipython",
    "version": 3
   },
   "file_extension": ".py",
   "mimetype": "text/x-python",
   "name": "python",
   "nbconvert_exporter": "python",
   "pygments_lexer": "ipython3",
   "version": "3.11.9"
  }
 },
 "nbformat": 4,
 "nbformat_minor": 2
}
