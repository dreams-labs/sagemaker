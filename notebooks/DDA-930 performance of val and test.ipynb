{
 "cells": [
  {
   "cell_type": "markdown",
   "metadata": {},
   "source": [
    "### start"
   ]
  },
  {
   "cell_type": "code",
   "execution_count": 23,
   "metadata": {},
   "outputs": [
    {
     "name": "stderr",
     "output_type": "stream",
     "text": [
      "\u001b[0m[02/Aug/25 23:03:36] INFO [utils.export_code:1663] Consolidation complete. All files are saved in temp/sagemaker_code.py\u001b[0m\n",
      "\u001b[92m[02/Aug/25 23:03:36] MILESTONE [472202081.<module>:134] Good morning, let's get to work\u001b[0m\n"
     ]
    }
   ],
   "source": [
    "# pyright: reportMissingImports=false\n",
    "# pyright: reportMissingModuleSource=false\n",
    "\n",
    "import uuid\n",
    "import random\n",
    "import hashlib\n",
    "import os\n",
    "import sys\n",
    "import gc\n",
    "import time\n",
    "import copy\n",
    "import logging\n",
    "import re\n",
    "from itertools import chain,combinations\n",
    "import pdb\n",
    "import math\n",
    "from pathlib import Path\n",
    "import datetime\n",
    "from datetime import datetime,timedelta\n",
    "import json\n",
    "import warnings\n",
    "import yaml\n",
    "from typing import Dict,Union,List,Any,Tuple\n",
    "import pytest\n",
    "import importlib\n",
    "from dotenv import load_dotenv\n",
    "import pandas as pd\n",
    "import numpy as np\n",
    "import IPython\n",
    "import requests\n",
    "import warnings\n",
    "import boto3\n",
    "import matplotlib as plt\n",
    "import sklearn\n",
    "\n",
    "# load_dotenv(Path(\"../../../Local/.env\"))\n",
    "\n",
    "# Custom format function for displaying |numbers/\n",
    "pd.set_option('display.float_format', lambda x: f'{x:.12g}')\n",
    "# pd.reset_option('display.float_format')\n",
    "\n",
    "# Suppress warnings\n",
    "os.environ['PYDEVD_DISABLE_FILE_VALIDATION'] = '1'\n",
    "warnings.filterwarnings('ignore', message='.*frozen modules.*')\n",
    "warnings.filterwarnings(\"ignore\", message=\"MallocStackLogging\")\n",
    "\n",
    "# silence pygame donation request\n",
    "os.environ['PYGAME_HIDE_SUPPORT_PROMPT'] = \"hide\"\n",
    "os.environ['LOGGING_FILE'] = \"../../../Local/logs/wallet_modeling.log\"\n",
    "os.environ['NOTIFICATION_SOUNDS_DIR'] = \"../../../Local\"\n",
    "\n",
    "# Dark mode charts\n",
    "plt.rcParams['figure.facecolor'] = '#181818'  # Custom background color (dark gray in this case)\n",
    "plt.rcParams['axes.facecolor'] = '#181818'\n",
    "plt.rcParams['text.color'] = '#afc6ba'\n",
    "plt.rcParams['axes.labelcolor'] = '#afc6ba'\n",
    "plt.rcParams['xtick.color'] = '#afc6ba'\n",
    "plt.rcParams['ytick.color'] = '#afc6ba'\n",
    "plt.rcParams['axes.titlecolor'] = '#afc6ba'\n",
    "plt.rcParams['text.usetex'] = False\n",
    "plt.rcParams['mathtext.default'] = 'regular'\n",
    "\n",
    "# import local modules\n",
    "# pyright: reportMissingImports=false\n",
    "sys.path.append('../src')\n",
    "\n",
    "import sage_utils.config_validation as ucv\n",
    "import sage_utils.s3_utils as s3u\n",
    "\n",
    "import sage_wallet_insights.model_evaluation as sime\n",
    "\n",
    "import sage_wallet_modeling.wallet_modeler as wm\n",
    "from sage_wallet_modeling.wallet_preprocessor import SageWalletsPreprocessor\n",
    "import sage_wallet_modeling.wallet_script_modeler as sm\n",
    "import sage_wallet_modeling.workflow_orchestrator as wo\n",
    "\n",
    "import script_modeling.entry_helpers as h\n",
    "# import script_modeling.temporal_cv_model_entry as tme\n",
    "\n",
    "\n",
    "# import data-science modules\n",
    "sys.path.append(str(Path(\"..\") / \"..\" / \"data-science\" / \"src\"))\n",
    "import wallet_insights.model_evaluation as wime\n",
    "import utils as u\n",
    "from utils import ConfigError\n",
    "\n",
    "\n",
    "\n",
    "# reload all modules\n",
    "modules = [\n",
    "    ucv, s3u,\n",
    "    sime,\n",
    "    wm, sm, wo,\n",
    "    h,\n",
    "    wime,\n",
    "    u,\n",
    "]\n",
    "\n",
    "# import utils as u\n",
    "# Set the custom error handler\n",
    "ipython = IPython.get_ipython()\n",
    "# ipython.set_custom_exc((Exception,), u.notify_on_failure)\n",
    "\n",
    "player = u.AmbientPlayer()\n",
    "player.stop_all_players()\n",
    "\n",
    "# configure logger\n",
    "logger = u.setup_notebook_logger('../logs/notebook_logs.log')\n",
    "logger.setLevel(logging.INFO)\n",
    "\n",
    "from IPython.core import ultratb\n",
    "ultratb.VerboseTB._tb_highlight = \"bg:#b45827\"\n",
    "\n",
    "\n",
    "# load all configs\n",
    "sage_wallets_config = ucv.load_sage_wallets_config(Path('../config/sage_wallets_config.yaml'))\n",
    "sage_wallets_modeling_config = ucv.load_sage_wallets_modeling_config(Path('../config/sage_wallets_modeling_config.yaml'))\n",
    "\n",
    "\n",
    "u.export_code(\n",
    "    code_directories=[\n",
    "        # 'sage_wallet_insights',\n",
    "        'sage_wallet_modeling',\n",
    "        # 'sage_utils',\n",
    "    ],\n",
    "    # include_config = True,\n",
    "    # ipynb_notebook = 'DDA-769 coin model score dist toggle.ipynb'\n",
    "    output_file=\"temp/sagemaker_code.py\"\n",
    ")\n",
    "\n",
    "[importlib.reload(module) for module in modules]\n",
    "u.notify('retro')\n",
    "\n",
    "logger.milestone(\"Good morning, let's get to work\")"
   ]
  },
  {
   "cell_type": "markdown",
   "metadata": {},
   "source": [
    "# Model Training"
   ]
  },
  {
   "cell_type": "markdown",
   "metadata": {},
   "source": [
    "## Multi Model Sequence"
   ]
  },
  {
   "cell_type": "markdown",
   "metadata": {},
   "source": [
    "### Initiate orchestrator"
   ]
  },
  {
   "cell_type": "code",
   "execution_count": null,
   "metadata": {},
   "outputs": [],
   "source": [
    "[importlib.reload(module) for module in modules]\n",
    "sage_wallets_config = yaml.safe_load(Path('../config/sage_wallets_config.yaml').read_text(encoding='utf-8'))\n",
    "sage_wallets_modeling_config = yaml.safe_load(Path('../config/sage_wallets_modeling_config.yaml').read_text(encoding='utf-8'))\n",
    "\n",
    "\n",
    "date_suffixes = [\n",
    "    '230908',\n",
    "    '231008',\n",
    "    '231107',\n",
    "    '231207',\n",
    "    '240106',\n",
    "    '240205',\n",
    "    '240306',\n",
    "    '240405',\n",
    "    '240505',\n",
    "    '240604',\n",
    "    '240704',\n",
    "    '240803',\n",
    "    '240902',\n",
    "    '241002',\n",
    "    '241201',\n",
    "    '241101',\n",
    "    '241231',\n",
    "    '250130',\n",
    "    '250301',\n",
    "]\n",
    "workflow_orch = wo.WalletWorkflowOrchestrator(sage_wallets_config,sage_wallets_modeling_config)"
   ]
  },
  {
   "cell_type": "markdown",
   "metadata": {},
   "source": [
    "### Load, preprocess, and upload all data"
   ]
  },
  {
   "cell_type": "markdown",
   "metadata": {},
   "source": [
    "#### load data"
   ]
  },
  {
   "cell_type": "code",
   "execution_count": null,
   "metadata": {},
   "outputs": [],
   "source": [
    "[importlib.reload(module) for module in modules]\n",
    "sage_wallets_config = yaml.safe_load(Path('../config/sage_wallets_config.yaml').read_text(encoding='utf-8'))\n",
    "sage_wallets_modeling_config = yaml.safe_load(Path('../config/sage_wallets_modeling_config.yaml').read_text(encoding='utf-8'))\n",
    "\n",
    "workflow_orch.load_all_training_data(date_suffixes)"
   ]
  },
  {
   "cell_type": "code",
   "execution_count": null,
   "metadata": {},
   "outputs": [],
   "source": [
    "workflow_orch.training_data['230908']['x_train'].index.get_level_values('epoch_start_date').max()"
   ]
  },
  {
   "cell_type": "markdown",
   "metadata": {},
   "source": [
    "##### inspect features"
   ]
  },
  {
   "cell_type": "code",
   "execution_count": null,
   "metadata": {},
   "outputs": [],
   "source": [
    "# Create combined NaN count and describe statistics\n",
    "first_key = next(iter(workflow_orch.training_data))\n",
    "nan_counts = workflow_orch.training_data[first_key]['x_train'].isna().sum()\n",
    "describe_stats = workflow_orch.training_data[first_key]['x_train'].describe().T\n",
    "\n",
    "# Combine into single DataFrame\n",
    "combined_stats = pd.concat([\n",
    "    nan_counts.rename('nan_count'),\n",
    "    describe_stats\n",
    "], axis=1).sort_index()\n",
    "\n",
    "u.display_full(combined_stats.sort_index())"
   ]
  },
  {
   "cell_type": "markdown",
   "metadata": {},
   "source": [
    "#### preprocess all data"
   ]
  },
  {
   "cell_type": "code",
   "execution_count": null,
   "metadata": {},
   "outputs": [],
   "source": [
    "preprocessed_by_date = workflow_orch.preprocess_all_training_data()"
   ]
  },
  {
   "cell_type": "code",
   "execution_count": null,
   "metadata": {},
   "outputs": [],
   "source": [
    "preprocessed_by_date.keys()"
   ]
  },
  {
   "cell_type": "code",
   "execution_count": null,
   "metadata": {},
   "outputs": [],
   "source": [
    "preprocessed_by_date['230908'].keys()"
   ]
  },
  {
   "cell_type": "code",
   "execution_count": null,
   "metadata": {},
   "outputs": [],
   "source": [
    "preprocessed_by_date['230908']['train']"
   ]
  },
  {
   "cell_type": "markdown",
   "metadata": {},
   "source": [
    "#### upload all data"
   ]
  },
  {
   "cell_type": "code",
   "execution_count": null,
   "metadata": {},
   "outputs": [],
   "source": [
    "# Upload and retrieve URIs\n",
    "workflow_orch.upload_all_training_data(overwrite_existing=True)\n",
    "s3_uris = workflow_orch.retrieve_training_data_uris(date_suffixes)"
   ]
  },
  {
   "cell_type": "markdown",
   "metadata": {},
   "source": [
    "### Train all models"
   ]
  },
  {
   "cell_type": "code",
   "execution_count": null,
   "metadata": {},
   "outputs": [],
   "source": [
    "workflow_orch.load_all_training_data(date_suffixes)\n",
    "modeling_results = workflow_orch.train_all_models()"
   ]
  },
  {
   "cell_type": "markdown",
   "metadata": {},
   "source": [
    "### Predict with all models"
   ]
  },
  {
   "cell_type": "code",
   "execution_count": null,
   "metadata": {},
   "outputs": [],
   "source": [
    "[importlib.reload(module) for module in modules]\n",
    "sage_wallets_config = yaml.safe_load(Path('../config/sage_wallets_config.yaml').read_text(encoding='utf-8'))\n",
    "sage_wallets_modeling_config = yaml.safe_load(Path('../config/sage_wallets_modeling_config.yaml').read_text(encoding='utf-8'))\n",
    "\n",
    "\n",
    "date_suffixes = [\n",
    "    '231008',\n",
    "    '231107',\n",
    "    '240306',\n",
    "    '250301'\n",
    "]\n",
    "workflow_orch = wo.WalletWorkflowOrchestrator(sage_wallets_config,sage_wallets_modeling_config)\n",
    "workflow_orch.load_all_training_data(date_suffixes)\n",
    "s3_uris = workflow_orch.retrieve_training_data_uris(date_suffixes)"
   ]
  },
  {
   "cell_type": "code",
   "execution_count": null,
   "metadata": {},
   "outputs": [],
   "source": [
    "result = workflow_orch.predict_with_all_models()"
   ]
  },
  {
   "cell_type": "markdown",
   "metadata": {},
   "source": [
    "### Evaluate all models"
   ]
  },
  {
   "cell_type": "code",
   "execution_count": null,
   "metadata": {},
   "outputs": [],
   "source": [
    "[importlib.reload(module) for module in modules]\n",
    "sage_wallets_config = yaml.safe_load(Path('../config/sage_wallets_config.yaml').read_text(encoding='utf-8'))\n",
    "sage_wallets_modeling_config = yaml.safe_load(Path('../config/sage_wallets_modeling_config.yaml').read_text(encoding='utf-8'))\n",
    "\n",
    "\n",
    "date_suffixes = [\n",
    "    '231008',\n",
    "    '231107',\n",
    "    '240306',\n",
    "    '250301'\n",
    "]\n",
    "workflow_orch = wo.WalletWorkflowOrchestrator(sage_wallets_config,sage_wallets_modeling_config)\n",
    "workflow_orch.load_all_training_data(date_suffixes)\n",
    "\n",
    "evaluators = workflow_orch.evaluate_all_models()\n"
   ]
  },
  {
   "cell_type": "code",
   "execution_count": null,
   "metadata": {},
   "outputs": [],
   "source": [
    "for e in evaluators:\n",
    "    evaluators[e].plot_wallet_evaluation()"
   ]
  },
  {
   "cell_type": "markdown",
   "metadata": {},
   "source": [
    "## Concatenated Model Sequence"
   ]
  },
  {
   "cell_type": "code",
   "execution_count": 3,
   "metadata": {},
   "outputs": [
    {
     "name": "stderr",
     "output_type": "stream",
     "text": [
      "\u001b[0m[02/Aug/25 22:31:43] INFO [workflow_orchestrator.load_all_training_data:118] Auto-detected date_suffixes from config: ['220913', '221013', '221112', '221212', '230111', '230210', '230312', '230411', '230511', '230610', '230710', '230809', '230908', '231008', '231107', '231207', '240106', '240205', '240306', '240405', '240505', '240604', '240704', '240803', '240902', '241002', '241201', '241101', '241231', '250130', '250301', '250331', '250430', '250530']\u001b[0m\n",
      "\u001b[92m[02/Aug/25 22:31:43] MILESTONE [workflow_orchestrator.load_all_training_data:138] <PROD> Loading training data for 34 periods: ['220913', '221013', '221112', '221212', '230111', '230210', '230312', '230411', '230511', '230610', '230710', '230809', '230908', '231008', '231107', '231207', '240106', '240205', '240306', '240405', '240505', '240604', '240704', '240803', '240902', '241002', '241201', '241101', '241231', '250130', '250301', '250331', '250430', '250530']\u001b[0m\n",
      "\u001b[0m[02/Aug/25 22:31:47] INFO [workflow_orchestrator.load_all_training_data:154] Training data loaded successfully: 4,108,964 total rows and 1 offsets for each date_suffix.\u001b[0m\n"
     ]
    }
   ],
   "source": [
    "[importlib.reload(module) for module in modules]\n",
    "sage_wallets_config = yaml.safe_load(Path('../config/sage_wallets_config.yaml').read_text(encoding='utf-8'))\n",
    "sage_wallets_modeling_config = yaml.safe_load(Path('../config/sage_wallets_modeling_config.yaml').read_text(encoding='utf-8'))\n",
    "\n",
    "\n",
    "workflow_orch = wo.WalletWorkflowOrchestrator(\n",
    "    sage_wallets_config,\n",
    "    sage_wallets_modeling_config\n",
    ")\n",
    "workflow_orch.load_all_training_data()"
   ]
  },
  {
   "cell_type": "markdown",
   "metadata": {},
   "source": [
    "#### preprocess and concatenate"
   ]
  },
  {
   "cell_type": "code",
   "execution_count": null,
   "metadata": {},
   "outputs": [],
   "source": [
    "workflow_orch.concatenate_all_preprocessed_data()"
   ]
  },
  {
   "cell_type": "markdown",
   "metadata": {},
   "source": [
    "#### upload"
   ]
  },
  {
   "cell_type": "code",
   "execution_count": 4,
   "metadata": {},
   "outputs": [
    {
     "name": "stderr",
     "output_type": "stream",
     "text": [
      "\u001b[0m[02/Aug/25 22:31:47] INFO [credentials.load:1352] Found credentials in shared credentials file: ~/.aws/credentials\u001b[0m\n",
      "\u001b[0m[02/Aug/25 22:31:47] INFO [workflow_orchestrator.upload_concatenated_training_data:327] Beginning upload of concatenated training data...\u001b[0m\n",
      "\u001b[0m[02/Aug/25 22:31:48] INFO [workflow_orchestrator.upload_concatenated_training_data:338] File exists, skipping upload of concatenated split 'train': training-data-concatenated/dda-930-vt-perf/train.csv\u001b[0m\n",
      "\u001b[0m[02/Aug/25 22:31:48] INFO [workflow_orchestrator.upload_concatenated_training_data:338] File exists, skipping upload of concatenated split 'eval': training-data-concatenated/dda-930-vt-perf/eval.csv\u001b[0m\n",
      "\u001b[0m[02/Aug/25 22:31:48] INFO [workflow_orchestrator.upload_concatenated_training_data:338] File exists, skipping upload of concatenated split 'test': training-data-concatenated/dda-930-vt-perf/test.csv\u001b[0m\n",
      "\u001b[0m[02/Aug/25 22:31:48] INFO [workflow_orchestrator.upload_concatenated_training_data:338] File exists, skipping upload of concatenated split 'val': training-data-concatenated/dda-930-vt-perf/val.csv\u001b[0m\n",
      "\u001b[0m[02/Aug/25 22:31:48] INFO [workflow_orchestrator.None:296] (0.4s) Completed upload_concatenated_training_data.\u001b[0m\n"
     ]
    }
   ],
   "source": [
    "concat_uris = workflow_orch.upload_concatenated_training_data(overwrite_existing=False)"
   ]
  },
  {
   "cell_type": "markdown",
   "metadata": {},
   "source": [
    "#### train"
   ]
  },
  {
   "cell_type": "code",
   "execution_count": 5,
   "metadata": {},
   "outputs": [
    {
     "name": "stderr",
     "output_type": "stream",
     "text": [
      "\u001b[93m[02/Aug/25 22:31:50] WARNING [wallet_script_modeler._prepare_hyperparameters:38] Ignoring unsupported hyperparameters: {'colsample_bytree'}\u001b[0m\n",
      "\u001b[0m[02/Aug/25 22:31:50] INFO [image_uris._validate_py_version_and_set_if_needed:603] Ignoring unnecessary Python version: py3.\u001b[0m\n",
      "\u001b[0m[02/Aug/25 22:31:50] INFO [image_uris._processor:530] Ignoring unnecessary instance type: ml.c6i.4xlarge.\u001b[0m\n",
      "\u001b[0m[02/Aug/25 22:31:50] INFO [wallet_script_modeler.train_single_period_script_model:121] Launching script-mode training job: wscript-dda-930-vt-perf-concat-20250802-223150\u001b[0m\n",
      "\u001b[0m[02/Aug/25 22:31:50] INFO [telemetry_logging.wrapper:92] SageMaker Python SDK will collect telemetry to help us better understand our user's needs, diagnose issues, and deliver additional features.\n",
      "To opt out of telemetry, please disable via TelemetryOptOut parameter in SDK defaults config. For more information, refer to https://sagemaker.readthedocs.io/en/stable/overview.html#configuring-and-using-defaults-with-the-sagemaker-python-sdk.\u001b[0m\n",
      "\u001b[0m[02/Aug/25 22:31:50] INFO [session.submit:1053] Creating training-job with name: wscript-dda-930-vt-perf-concat-20250802-223150\u001b[0m\n"
     ]
    },
    {
     "name": "stdout",
     "output_type": "stream",
     "text": [
      "2025-08-03 05:31:54 Starting - Starting the training job...\n",
      "2025-08-03 05:32:08 Starting - Preparing the instances for training...\n",
      "2025-08-03 05:32:29 Downloading - Downloading input data...\n",
      "2025-08-03 05:33:14 Training - Training image download completed. Training in progress...../miniconda3/lib/python3.9/site-packages/sagemaker_containers/_server.py:22: UserWarning: pkg_resources is deprecated as an API. See https://setuptools.pypa.io/en/latest/pkg_resources.html. The pkg_resources package is slated for removal as early as 2025-11-30. Refrain from using this package or pin to Setuptools<81.\n",
      "  import pkg_resources\n",
      "[2025-08-03 05:33:56.092 ip-10-0-178-111.us-west-2.compute.internal:7 INFO utils.py:28] RULE_JOB_STOP_SIGNAL_FILENAME: None\n",
      "[2025-08-03 05:33:56.109 ip-10-0-178-111.us-west-2.compute.internal:7 INFO profiler_config_parser.py:111] User has disabled profiler.\n",
      "[2025-08-03:05:33:56:INFO] Imported framework sagemaker_xgboost_container.training\n",
      "[2025-08-03:05:33:56:INFO] No GPUs detected (normal if no gpus installed)\n",
      "[2025-08-03:05:33:56:INFO] Invoking user training script.\n",
      "[2025-08-03:05:33:56:INFO] Module single_model_entry does not provide a setup.py. \n",
      "Generating setup.py\n",
      "[2025-08-03:05:33:56:INFO] Generating setup.cfg\n",
      "[2025-08-03:05:33:56:INFO] Generating MANIFEST.in\n",
      "[2025-08-03:05:33:56:INFO] Installing module with the following command:\n",
      "/miniconda3/bin/python3 -m pip install . \n",
      "Processing /opt/ml/code\n",
      "  Preparing metadata (setup.py): started\n",
      "  Preparing metadata (setup.py): finished with status 'done'\n",
      "Building wheels for collected packages: single_model_entry\n",
      "  DEPRECATION: Building 'single_model_entry' using the legacy setup.py bdist_wheel mechanism, which will be removed in a future version. pip 25.3 will enforce this behaviour change. A possible replacement is to use the standardized build interface by setting the `--use-pep517` option, (possibly combined with `--no-build-isolation`), or adding a `pyproject.toml` file to the source tree of 'single_model_entry'. Discussion can be found at https://github.com/pypa/pip/issues/6334\n",
      "  Building wheel for single_model_entry (setup.py): started\n",
      "  Building wheel for single_model_entry (setup.py): finished with status 'done'\n",
      "  Created wheel for single_model_entry: filename=single_model_entry-1.0.0-py2.py3-none-any.whl size=11849 sha256=bc5e35c391d6ec6146bc4fd5cd00b64dd348a6e8ac07a032f4d6decdc010bba3\n",
      "  Stored in directory: /home/model-server/tmp/pip-ephem-wheel-cache-ufo_j9ut/wheels/40/03/3a/5f39818cea87b3c154b54d046a775b3da4b8ed9b642b8d50e6\n",
      "Successfully built single_model_entry\n",
      "Installing collected packages: single_model_entry\n",
      "Successfully installed single_model_entry-1.0.0\n",
      "WARNING: Running pip as the 'root' user can result in broken permissions and conflicting behaviour with the system package manager, possibly rendering your system unusable. It is recommended to use a virtual environment instead: https://pip.pypa.io/warnings/venv. Use the --root-user-action option if you know what you are doing and want to suppress this warning.\n",
      "[notice] A new release of pip is available: 25.1.1 -> 25.2\n",
      "[notice] To update, run: pip install --upgrade pip\n",
      "[2025-08-03:05:33:57:INFO] No GPUs detected (normal if no gpus installed)\n",
      "[2025-08-03:05:33:57:INFO] Invoking user script\n",
      "Training Env:\n",
      "{\n",
      "    \"additional_framework_parameters\": {},\n",
      "    \"channel_input_dirs\": {\n",
      "        \"train\": \"/opt/ml/input/data/train\",\n",
      "        \"validation\": \"/opt/ml/input/data/validation\"\n",
      "    },\n",
      "    \"current_host\": \"algo-1\",\n",
      "    \"framework_module\": \"sagemaker_xgboost_container.training:main\",\n",
      "    \"hosts\": [\n",
      "        \"algo-1\"\n",
      "    ],\n",
      "    \"hyperparameters\": {\n",
      "        \"early_stopping_rounds\": 15,\n",
      "        \"eta\": 0.1,\n",
      "        \"max_depth\": 4,\n",
      "        \"num_boost_round\": 500,\n",
      "        \"subsample\": 0.8\n",
      "    },\n",
      "    \"input_config_dir\": \"/opt/ml/input/config\",\n",
      "    \"input_data_config\": {\n",
      "        \"train\": {\n",
      "            \"ContentType\": \"text/csv\",\n",
      "            \"TrainingInputMode\": \"File\",\n",
      "            \"S3DistributionType\": \"FullyReplicated\",\n",
      "            \"RecordWrapperType\": \"None\"\n",
      "        },\n",
      "        \"validation\": {\n",
      "            \"ContentType\": \"text/csv\",\n",
      "            \"TrainingInputMode\": \"File\",\n",
      "            \"S3DistributionType\": \"FullyReplicated\",\n",
      "            \"RecordWrapperType\": \"None\"\n",
      "        }\n",
      "    },\n",
      "    \"input_dir\": \"/opt/ml/input\",\n",
      "    \"is_master\": true,\n",
      "    \"job_name\": \"wscript-dda-930-vt-perf-concat-20250802-223150\",\n",
      "    \"log_level\": 20,\n",
      "    \"master_hostname\": \"algo-1\",\n",
      "    \"model_dir\": \"/opt/ml/model\",\n",
      "    \"module_dir\": \"s3://wallet-script-models/wscript-dda-930-vt-perf-concat-20250802-223150/source/sourcedir.tar.gz\",\n",
      "    \"module_name\": \"single_model_entry\",\n",
      "    \"network_interface_name\": \"eth0\",\n",
      "    \"num_cpus\": 16,\n",
      "    \"num_gpus\": 0,\n",
      "    \"output_data_dir\": \"/opt/ml/output/data\",\n",
      "    \"output_dir\": \"/opt/ml/output\",\n",
      "    \"output_intermediate_dir\": \"/opt/ml/output/intermediate\",\n",
      "    \"resource_config\": {\n",
      "        \"current_host\": \"algo-1\",\n",
      "        \"current_instance_type\": \"ml.c6i.4xlarge\",\n",
      "        \"current_group_name\": \"homogeneousCluster\",\n",
      "        \"hosts\": [\n",
      "            \"algo-1\"\n",
      "        ],\n",
      "        \"instance_groups\": [\n",
      "            {\n",
      "                \"instance_group_name\": \"homogeneousCluster\",\n",
      "                \"instance_type\": \"ml.c6i.4xlarge\",\n",
      "                \"hosts\": [\n",
      "                    \"algo-1\"\n",
      "                ]\n",
      "            }\n",
      "        ],\n",
      "        \"network_interface_name\": \"eth0\",\n",
      "        \"topology\": null\n",
      "    },\n",
      "    \"user_entry_point\": \"single_model_entry.py\"\n",
      "}\n",
      "Environment variables:\n",
      "SM_HOSTS=[\"algo-1\"]\n",
      "SM_NETWORK_INTERFACE_NAME=eth0\n",
      "SM_HPS={\"early_stopping_rounds\":15,\"eta\":0.1,\"max_depth\":4,\"num_boost_round\":500,\"subsample\":0.8}\n",
      "SM_USER_ENTRY_POINT=single_model_entry.py\n",
      "SM_FRAMEWORK_PARAMS={}\n",
      "SM_RESOURCE_CONFIG={\"current_group_name\":\"homogeneousCluster\",\"current_host\":\"algo-1\",\"current_instance_type\":\"ml.c6i.4xlarge\",\"hosts\":[\"algo-1\"],\"instance_groups\":[{\"hosts\":[\"algo-1\"],\"instance_group_name\":\"homogeneousCluster\",\"instance_type\":\"ml.c6i.4xlarge\"}],\"network_interface_name\":\"eth0\",\"topology\":null}\n",
      "SM_INPUT_DATA_CONFIG={\"train\":{\"ContentType\":\"text/csv\",\"RecordWrapperType\":\"None\",\"S3DistributionType\":\"FullyReplicated\",\"TrainingInputMode\":\"File\"},\"validation\":{\"ContentType\":\"text/csv\",\"RecordWrapperType\":\"None\",\"S3DistributionType\":\"FullyReplicated\",\"TrainingInputMode\":\"File\"}}\n",
      "SM_OUTPUT_DATA_DIR=/opt/ml/output/data\n",
      "SM_CHANNELS=[\"train\",\"validation\"]\n",
      "SM_CURRENT_HOST=algo-1\n",
      "SM_MODULE_NAME=single_model_entry\n",
      "SM_LOG_LEVEL=20\n",
      "SM_FRAMEWORK_MODULE=sagemaker_xgboost_container.training:main\n",
      "SM_INPUT_DIR=/opt/ml/input\n",
      "SM_INPUT_CONFIG_DIR=/opt/ml/input/config\n",
      "SM_OUTPUT_DIR=/opt/ml/output\n",
      "SM_NUM_CPUS=16\n",
      "SM_NUM_GPUS=0\n",
      "SM_MODEL_DIR=/opt/ml/model\n",
      "SM_MODULE_DIR=s3://wallet-script-models/wscript-dda-930-vt-perf-concat-20250802-223150/source/sourcedir.tar.gz\n",
      "SM_TRAINING_ENV={\"additional_framework_parameters\":{},\"channel_input_dirs\":{\"train\":\"/opt/ml/input/data/train\",\"validation\":\"/opt/ml/input/data/validation\"},\"current_host\":\"algo-1\",\"framework_module\":\"sagemaker_xgboost_container.training:main\",\"hosts\":[\"algo-1\"],\"hyperparameters\":{\"early_stopping_rounds\":15,\"eta\":0.1,\"max_depth\":4,\"num_boost_round\":500,\"subsample\":0.8},\"input_config_dir\":\"/opt/ml/input/config\",\"input_data_config\":{\"train\":{\"ContentType\":\"text/csv\",\"RecordWrapperType\":\"None\",\"S3DistributionType\":\"FullyReplicated\",\"TrainingInputMode\":\"File\"},\"validation\":{\"ContentType\":\"text/csv\",\"RecordWrapperType\":\"None\",\"S3DistributionType\":\"FullyReplicated\",\"TrainingInputMode\":\"File\"}},\"input_dir\":\"/opt/ml/input\",\"is_master\":true,\"job_name\":\"wscript-dda-930-vt-perf-concat-20250802-223150\",\"log_level\":20,\"master_hostname\":\"algo-1\",\"model_dir\":\"/opt/ml/model\",\"module_dir\":\"s3://wallet-script-models/wscript-dda-930-vt-perf-concat-20250802-223150/source/sourcedir.tar.gz\",\"module_name\":\"single_model_entry\",\"network_interface_name\":\"eth0\",\"num_cpus\":16,\"num_gpus\":0,\"output_data_dir\":\"/opt/ml/output/data\",\"output_dir\":\"/opt/ml/output\",\"output_intermediate_dir\":\"/opt/ml/output/intermediate\",\"resource_config\":{\"current_group_name\":\"homogeneousCluster\",\"current_host\":\"algo-1\",\"current_instance_type\":\"ml.c6i.4xlarge\",\"hosts\":[\"algo-1\"],\"instance_groups\":[{\"hosts\":[\"algo-1\"],\"instance_group_name\":\"homogeneousCluster\",\"instance_type\":\"ml.c6i.4xlarge\"}],\"network_interface_name\":\"eth0\",\"topology\":null},\"user_entry_point\":\"single_model_entry.py\"}\n",
      "SM_USER_ARGS=[\"--early_stopping_rounds\",\"15\",\"--eta\",\"0.1\",\"--max_depth\",\"4\",\"--num_boost_round\",\"500\",\"--subsample\",\"0.8\"]\n",
      "SM_OUTPUT_INTERMEDIATE_DIR=/opt/ml/output/intermediate\n",
      "SM_CHANNEL_TRAIN=/opt/ml/input/data/train\n",
      "SM_CHANNEL_VALIDATION=/opt/ml/input/data/validation\n",
      "SM_HP_EARLY_STOPPING_ROUNDS=15\n",
      "SM_HP_ETA=0.1\n",
      "SM_HP_MAX_DEPTH=4\n",
      "SM_HP_NUM_BOOST_ROUND=500\n",
      "SM_HP_SUBSAMPLE=0.8\n",
      "PYTHONPATH=/miniconda3/bin:/:/miniconda3/lib/python/site-packages/xgboost/dmlc-core/tracker:/miniconda3/lib/python39.zip:/miniconda3/lib/python3.9:/miniconda3/lib/python3.9/lib-dynload:/miniconda3/lib/python3.9/site-packages:/miniconda3/lib/python3.9/site-packages/setuptools/_vendor\n",
      "Invoking script with the following command:\n",
      "/miniconda3/bin/python3 -m single_model_entry --early_stopping_rounds 15 --eta 0.1 --max_depth 4 --num_boost_round 500 --subsample 0.8\n",
      "/miniconda3/lib/python3.9/site-packages/sklearn/utils/fixes.py:28: UserWarning: pkg_resources is deprecated as an API. See https://setuptools.pypa.io/en/latest/pkg_resources.html. The pkg_resources package is slated for removal as early as 2025-11-30. Refrain from using this package or pin to Setuptools<81.\n",
      "  from pkg_resources import parse_version  # type: ignore\n",
      "/miniconda3/lib/python3.9/site-packages/xgboost/training.py:39: UserWarning: `feval` is deprecated, use `custom_metric` instead.  They have different behavior when custom objective is also used.See https://xgboost.readthedocs.io/en/latest/tutorials/custom_metric_obj.html for details on the `custom_metric`.\n",
      "  warnings.warn(\n",
      "[0]#011eval-aucpr:0.33597#011eval-pr_auc:0.30726\n",
      "[1]#011eval-aucpr:0.34054#011eval-pr_auc:0.31344\n",
      "[2]#011eval-aucpr:0.35187#011eval-pr_auc:0.32863\n",
      "[3]#011eval-aucpr:0.37225#011eval-pr_auc:0.35630\n",
      "[4]#011eval-aucpr:0.37993#011eval-pr_auc:0.36722\n",
      "[5]#011eval-aucpr:0.38116#011eval-pr_auc:0.36872\n",
      "[6]#011eval-aucpr:0.38451#011eval-pr_auc:0.37410\n",
      "[7]#011eval-aucpr:0.38520#011eval-pr_auc:0.37462\n",
      "[8]#011eval-aucpr:0.39371#011eval-pr_auc:0.38686\n",
      "[9]#011eval-aucpr:0.39337#011eval-pr_auc:0.38697\n",
      "[10]#011eval-aucpr:0.39416#011eval-pr_auc:0.38801\n",
      "[11]#011eval-aucpr:0.39526#011eval-pr_auc:0.39120\n",
      "[12]#011eval-aucpr:0.39706#011eval-pr_auc:0.39394\n",
      "[13]#011eval-aucpr:0.40051#011eval-pr_auc:0.39751\n",
      "[14]#011eval-aucpr:0.40129#011eval-pr_auc:0.39965\n",
      "[15]#011eval-aucpr:0.40360#011eval-pr_auc:0.40123\n",
      "[16]#011eval-aucpr:0.40669#011eval-pr_auc:0.40498\n",
      "[17]#011eval-aucpr:0.40705#011eval-pr_auc:0.40526\n",
      "[18]#011eval-aucpr:0.41046#011eval-pr_auc:0.40910\n",
      "[19]#011eval-aucpr:0.41467#011eval-pr_auc:0.41365\n",
      "[20]#011eval-aucpr:0.41807#011eval-pr_auc:0.41735\n",
      "[21]#011eval-aucpr:0.42105#011eval-pr_auc:0.42034\n",
      "[22]#011eval-aucpr:0.42159#011eval-pr_auc:0.42097\n",
      "[23]#011eval-aucpr:0.42271#011eval-pr_auc:0.42234\n",
      "[24]#011eval-aucpr:0.42551#011eval-pr_auc:0.42521\n",
      "[25]#011eval-aucpr:0.42893#011eval-pr_auc:0.42861\n",
      "[26]#011eval-aucpr:0.42951#011eval-pr_auc:0.42921\n",
      "[27]#011eval-aucpr:0.43046#011eval-pr_auc:0.43018\n",
      "[28]#011eval-aucpr:0.43430#011eval-pr_auc:0.43426\n",
      "[29]#011eval-aucpr:0.43893#011eval-pr_auc:0.43878\n",
      "[30]#011eval-aucpr:0.44123#011eval-pr_auc:0.44120\n",
      "[31]#011eval-aucpr:0.44380#011eval-pr_auc:0.44382\n",
      "[32]#011eval-aucpr:0.44739#011eval-pr_auc:0.44745\n",
      "[33]#011eval-aucpr:0.44931#011eval-pr_auc:0.44936\n",
      "[34]#011eval-aucpr:0.44962#011eval-pr_auc:0.44966\n",
      "[35]#011eval-aucpr:0.45154#011eval-pr_auc:0.45176\n",
      "[36]#011eval-aucpr:0.45438#011eval-pr_auc:0.45459\n",
      "[37]#011eval-aucpr:0.45704#011eval-pr_auc:0.45726\n",
      "[38]#011eval-aucpr:0.45738#011eval-pr_auc:0.45756\n",
      "[39]#011eval-aucpr:0.46060#011eval-pr_auc:0.46080\n",
      "[40]#011eval-aucpr:0.46078#011eval-pr_auc:0.46091\n",
      "[41]#011eval-aucpr:0.46493#011eval-pr_auc:0.46504\n",
      "[42]#011eval-aucpr:0.47119#011eval-pr_auc:0.47114\n",
      "[43]#011eval-aucpr:0.47241#011eval-pr_auc:0.47255\n",
      "[44]#011eval-aucpr:0.47431#011eval-pr_auc:0.47446\n",
      "[45]#011eval-aucpr:0.47980#011eval-pr_auc:0.47975\n",
      "[46]#011eval-aucpr:0.48224#011eval-pr_auc:0.48221\n",
      "[47]#011eval-aucpr:0.48479#011eval-pr_auc:0.48481\n",
      "[48]#011eval-aucpr:0.48919#011eval-pr_auc:0.48927\n",
      "[49]#011eval-aucpr:0.49108#011eval-pr_auc:0.49117\n",
      "[50]#011eval-aucpr:0.49208#011eval-pr_auc:0.49216\n",
      "[51]#011eval-aucpr:0.49394#011eval-pr_auc:0.49403\n",
      "[52]#011eval-aucpr:0.49903#011eval-pr_auc:0.49910\n",
      "[53]#011eval-aucpr:0.50339#011eval-pr_auc:0.50343\n",
      "[54]#011eval-aucpr:0.50589#011eval-pr_auc:0.50591\n",
      "[55]#011eval-aucpr:0.50941#011eval-pr_auc:0.50944\n",
      "[56]#011eval-aucpr:0.51234#011eval-pr_auc:0.51236\n",
      "[57]#011eval-aucpr:0.51341#011eval-pr_auc:0.51351\n",
      "[58]#011eval-aucpr:0.51326#011eval-pr_auc:0.51344\n",
      "[59]#011eval-aucpr:0.51517#011eval-pr_auc:0.51540\n",
      "[60]#011eval-aucpr:0.51618#011eval-pr_auc:0.51641\n",
      "[61]#011eval-aucpr:0.51896#011eval-pr_auc:0.51913\n",
      "[62]#011eval-aucpr:0.52232#011eval-pr_auc:0.52245\n",
      "[63]#011eval-aucpr:0.52361#011eval-pr_auc:0.52376\n",
      "[64]#011eval-aucpr:0.52665#011eval-pr_auc:0.52682\n",
      "[65]#011eval-aucpr:0.53017#011eval-pr_auc:0.53018\n",
      "[66]#011eval-aucpr:0.53177#011eval-pr_auc:0.53189\n",
      "[67]#011eval-aucpr:0.53258#011eval-pr_auc:0.53278\n",
      "[68]#011eval-aucpr:0.53597#011eval-pr_auc:0.53617\n",
      "[69]#011eval-aucpr:0.53843#011eval-pr_auc:0.53855\n",
      "[70]#011eval-aucpr:0.53855#011eval-pr_auc:0.53875\n",
      "[71]#011eval-aucpr:0.54190#011eval-pr_auc:0.54202\n",
      "[72]#011eval-aucpr:0.54215#011eval-pr_auc:0.54230\n",
      "[73]#011eval-aucpr:0.54278#011eval-pr_auc:0.54294\n",
      "[74]#011eval-aucpr:0.54334#011eval-pr_auc:0.54355\n",
      "[75]#011eval-aucpr:0.54529#011eval-pr_auc:0.54550\n",
      "[76]#011eval-aucpr:0.54548#011eval-pr_auc:0.54566\n",
      "[77]#011eval-aucpr:0.54692#011eval-pr_auc:0.54711\n",
      "[78]#011eval-aucpr:0.54827#011eval-pr_auc:0.54844\n",
      "[79]#011eval-aucpr:0.54940#011eval-pr_auc:0.54958\n",
      "[80]#011eval-aucpr:0.55013#011eval-pr_auc:0.55031\n",
      "[81]#011eval-aucpr:0.55008#011eval-pr_auc:0.55033\n",
      "[82]#011eval-aucpr:0.55088#011eval-pr_auc:0.55113\n",
      "[83]#011eval-aucpr:0.55200#011eval-pr_auc:0.55231\n",
      "[84]#011eval-aucpr:0.55368#011eval-pr_auc:0.55395\n",
      "[85]#011eval-aucpr:0.55549#011eval-pr_auc:0.55575\n",
      "[86]#011eval-aucpr:0.55640#011eval-pr_auc:0.55665\n",
      "[87]#011eval-aucpr:0.55729#011eval-pr_auc:0.55754\n",
      "[88]#011eval-aucpr:0.55902#011eval-pr_auc:0.55928\n",
      "[89]#011eval-aucpr:0.55988#011eval-pr_auc:0.56011\n",
      "[90]#011eval-aucpr:0.56058#011eval-pr_auc:0.56084\n",
      "[91]#011eval-aucpr:0.56243#011eval-pr_auc:0.56269\n",
      "[92]#011eval-aucpr:0.56321#011eval-pr_auc:0.56346\n",
      "[93]#011eval-aucpr:0.56469#011eval-pr_auc:0.56494\n",
      "[94]#011eval-aucpr:0.56523#011eval-pr_auc:0.56548\n",
      "[95]#011eval-aucpr:0.56653#011eval-pr_auc:0.56675\n",
      "[96]#011eval-aucpr:0.56848#011eval-pr_auc:0.56868\n",
      "[97]#011eval-aucpr:0.56966#011eval-pr_auc:0.56986\n",
      "[98]#011eval-aucpr:0.57011#011eval-pr_auc:0.57034\n",
      "[99]#011eval-aucpr:0.57134#011eval-pr_auc:0.57157\n",
      "[100]#011eval-aucpr:0.57316#011eval-pr_auc:0.57337\n",
      "[101]#011eval-aucpr:0.57596#011eval-pr_auc:0.57616\n",
      "[102]#011eval-aucpr:0.57628#011eval-pr_auc:0.57649\n",
      "[103]#011eval-aucpr:0.57787#011eval-pr_auc:0.57808\n",
      "[104]#011eval-aucpr:0.57859#011eval-pr_auc:0.57879\n",
      "[105]#011eval-aucpr:0.57892#011eval-pr_auc:0.57912\n",
      "[106]#011eval-aucpr:0.57958#011eval-pr_auc:0.57977\n",
      "[107]#011eval-aucpr:0.58103#011eval-pr_auc:0.58123\n",
      "[108]#011eval-aucpr:0.58244#011eval-pr_auc:0.58262\n",
      "[109]#011eval-aucpr:0.58437#011eval-pr_auc:0.58456\n",
      "[110]#011eval-aucpr:0.58633#011eval-pr_auc:0.58651\n",
      "[111]#011eval-aucpr:0.58781#011eval-pr_auc:0.58798\n",
      "[112]#011eval-aucpr:0.58895#011eval-pr_auc:0.58912\n",
      "[113]#011eval-aucpr:0.59304#011eval-pr_auc:0.59322\n",
      "[114]#011eval-aucpr:0.59375#011eval-pr_auc:0.59400\n",
      "[115]#011eval-aucpr:0.59425#011eval-pr_auc:0.59450\n",
      "[116]#011eval-aucpr:0.59572#011eval-pr_auc:0.59597\n",
      "[117]#011eval-aucpr:0.59634#011eval-pr_auc:0.59658\n",
      "[118]#011eval-aucpr:0.59672#011eval-pr_auc:0.59697\n",
      "[119]#011eval-aucpr:0.59705#011eval-pr_auc:0.59730\n",
      "[120]#011eval-aucpr:0.59890#011eval-pr_auc:0.59914\n",
      "[121]#011eval-aucpr:0.59973#011eval-pr_auc:0.59997\n",
      "[122]#011eval-aucpr:0.60129#011eval-pr_auc:0.60153\n",
      "[123]#011eval-aucpr:0.60158#011eval-pr_auc:0.60182\n",
      "[124]#011eval-aucpr:0.60281#011eval-pr_auc:0.60304\n",
      "[125]#011eval-aucpr:0.60350#011eval-pr_auc:0.60375\n",
      "[126]#011eval-aucpr:0.60393#011eval-pr_auc:0.60417\n",
      "[127]#011eval-aucpr:0.60516#011eval-pr_auc:0.60534\n",
      "[128]#011eval-aucpr:0.60657#011eval-pr_auc:0.60673\n",
      "[129]#011eval-aucpr:0.60723#011eval-pr_auc:0.60740\n",
      "[130]#011eval-aucpr:0.60742#011eval-pr_auc:0.60760\n",
      "[131]#011eval-aucpr:0.60794#011eval-pr_auc:0.60812\n",
      "[132]#011eval-aucpr:0.60819#011eval-pr_auc:0.60837\n",
      "[133]#011eval-aucpr:0.60815#011eval-pr_auc:0.60833\n",
      "[134]#011eval-aucpr:0.60955#011eval-pr_auc:0.60973\n",
      "[135]#011eval-aucpr:0.61055#011eval-pr_auc:0.61073\n",
      "[136]#011eval-aucpr:0.61128#011eval-pr_auc:0.61143\n",
      "[137]#011eval-aucpr:0.61193#011eval-pr_auc:0.61210\n",
      "[138]#011eval-aucpr:0.61253#011eval-pr_auc:0.61272\n",
      "[139]#011eval-aucpr:0.61350#011eval-pr_auc:0.61366\n",
      "[140]#011eval-aucpr:0.61399#011eval-pr_auc:0.61415\n",
      "[141]#011eval-aucpr:0.61461#011eval-pr_auc:0.61475\n",
      "[142]#011eval-aucpr:0.61518#011eval-pr_auc:0.61532\n",
      "[143]#011eval-aucpr:0.61611#011eval-pr_auc:0.61625\n",
      "[144]#011eval-aucpr:0.61660#011eval-pr_auc:0.61674\n",
      "[145]#011eval-aucpr:0.61785#011eval-pr_auc:0.61798\n",
      "[146]#011eval-aucpr:0.61832#011eval-pr_auc:0.61845\n",
      "[147]#011eval-aucpr:0.61944#011eval-pr_auc:0.61957\n",
      "[148]#011eval-aucpr:0.62047#011eval-pr_auc:0.62060\n",
      "[149]#011eval-aucpr:0.62090#011eval-pr_auc:0.62102\n",
      "[150]#011eval-aucpr:0.62132#011eval-pr_auc:0.62144\n",
      "[151]#011eval-aucpr:0.62280#011eval-pr_auc:0.62292\n",
      "[152]#011eval-aucpr:0.62344#011eval-pr_auc:0.62357\n",
      "[153]#011eval-aucpr:0.62358#011eval-pr_auc:0.62371\n",
      "[154]#011eval-aucpr:0.62444#011eval-pr_auc:0.62458\n",
      "[155]#011eval-aucpr:0.62470#011eval-pr_auc:0.62483\n",
      "[156]#011eval-aucpr:0.62507#011eval-pr_auc:0.62521\n",
      "[157]#011eval-aucpr:0.62583#011eval-pr_auc:0.62596\n",
      "[158]#011eval-aucpr:0.62631#011eval-pr_auc:0.62644\n",
      "[159]#011eval-aucpr:0.62667#011eval-pr_auc:0.62680\n",
      "[160]#011eval-aucpr:0.62709#011eval-pr_auc:0.62722\n",
      "[161]#011eval-aucpr:0.62787#011eval-pr_auc:0.62801\n",
      "[162]#011eval-aucpr:0.62865#011eval-pr_auc:0.62878\n",
      "[163]#011eval-aucpr:0.62876#011eval-pr_auc:0.62889\n",
      "[164]#011eval-aucpr:0.62947#011eval-pr_auc:0.62960\n",
      "[165]#011eval-aucpr:0.62988#011eval-pr_auc:0.63001\n",
      "[166]#011eval-aucpr:0.63046#011eval-pr_auc:0.63058\n",
      "[167]#011eval-aucpr:0.63199#011eval-pr_auc:0.63211\n",
      "[168]#011eval-aucpr:0.63234#011eval-pr_auc:0.63246\n",
      "[169]#011eval-aucpr:0.63304#011eval-pr_auc:0.63315\n",
      "[170]#011eval-aucpr:0.63351#011eval-pr_auc:0.63363\n",
      "[171]#011eval-aucpr:0.63406#011eval-pr_auc:0.63417\n",
      "[172]#011eval-aucpr:0.63478#011eval-pr_auc:0.63489\n",
      "[173]#011eval-aucpr:0.63526#011eval-pr_auc:0.63537\n",
      "[174]#011eval-aucpr:0.63592#011eval-pr_auc:0.63603\n",
      "[175]#011eval-aucpr:0.63625#011eval-pr_auc:0.63637\n",
      "[176]#011eval-aucpr:0.63688#011eval-pr_auc:0.63699\n",
      "[177]#011eval-aucpr:0.63726#011eval-pr_auc:0.63737\n",
      "[178]#011eval-aucpr:0.63795#011eval-pr_auc:0.63806\n",
      "[179]#011eval-aucpr:0.63898#011eval-pr_auc:0.63909\n",
      "[180]#011eval-aucpr:0.63944#011eval-pr_auc:0.63955\n",
      "[181]#011eval-aucpr:0.64041#011eval-pr_auc:0.64052\n",
      "[182]#011eval-aucpr:0.64094#011eval-pr_auc:0.64106\n",
      "[183]#011eval-aucpr:0.64196#011eval-pr_auc:0.64207\n",
      "[184]#011eval-aucpr:0.64207#011eval-pr_auc:0.64219\n",
      "[185]#011eval-aucpr:0.64282#011eval-pr_auc:0.64293\n",
      "[186]#011eval-aucpr:0.64368#011eval-pr_auc:0.64380\n",
      "[187]#011eval-aucpr:0.64419#011eval-pr_auc:0.64431\n",
      "[188]#011eval-aucpr:0.64460#011eval-pr_auc:0.64471\n",
      "[189]#011eval-aucpr:0.64483#011eval-pr_auc:0.64494\n",
      "[190]#011eval-aucpr:0.64481#011eval-pr_auc:0.64492\n",
      "[191]#011eval-aucpr:0.64533#011eval-pr_auc:0.64545\n",
      "[192]#011eval-aucpr:0.64634#011eval-pr_auc:0.64645\n",
      "[193]#011eval-aucpr:0.64705#011eval-pr_auc:0.64716\n",
      "[194]#011eval-aucpr:0.64750#011eval-pr_auc:0.64762\n",
      "[195]#011eval-aucpr:0.64779#011eval-pr_auc:0.64790\n",
      "[196]#011eval-aucpr:0.64853#011eval-pr_auc:0.64864\n",
      "[197]#011eval-aucpr:0.64906#011eval-pr_auc:0.64917\n",
      "[198]#011eval-aucpr:0.64946#011eval-pr_auc:0.64957\n",
      "[199]#011eval-aucpr:0.64984#011eval-pr_auc:0.64996\n",
      "[200]#011eval-aucpr:0.65017#011eval-pr_auc:0.65029\n",
      "[201]#011eval-aucpr:0.65068#011eval-pr_auc:0.65079\n",
      "[202]#011eval-aucpr:0.65112#011eval-pr_auc:0.65123\n",
      "[203]#011eval-aucpr:0.65186#011eval-pr_auc:0.65198\n",
      "[204]#011eval-aucpr:0.65204#011eval-pr_auc:0.65215\n",
      "[205]#011eval-aucpr:0.65211#011eval-pr_auc:0.65222\n",
      "[206]#011eval-aucpr:0.65250#011eval-pr_auc:0.65261\n",
      "[207]#011eval-aucpr:0.65284#011eval-pr_auc:0.65295\n",
      "[208]#011eval-aucpr:0.65306#011eval-pr_auc:0.65317\n",
      "[209]#011eval-aucpr:0.65305#011eval-pr_auc:0.65316\n",
      "[210]#011eval-aucpr:0.65365#011eval-pr_auc:0.65377\n",
      "[211]#011eval-aucpr:0.65417#011eval-pr_auc:0.65428\n",
      "[212]#011eval-aucpr:0.65429#011eval-pr_auc:0.65440\n",
      "[213]#011eval-aucpr:0.65442#011eval-pr_auc:0.65453\n",
      "[214]#011eval-aucpr:0.65520#011eval-pr_auc:0.65532\n",
      "[215]#011eval-aucpr:0.65577#011eval-pr_auc:0.65589\n",
      "[216]#011eval-aucpr:0.65594#011eval-pr_auc:0.65605\n",
      "[217]#011eval-aucpr:0.65625#011eval-pr_auc:0.65636\n",
      "[218]#011eval-aucpr:0.65670#011eval-pr_auc:0.65681\n",
      "[219]#011eval-aucpr:0.65681#011eval-pr_auc:0.65692\n",
      "[220]#011eval-aucpr:0.65730#011eval-pr_auc:0.65741\n",
      "[221]#011eval-aucpr:0.65782#011eval-pr_auc:0.65794\n",
      "[222]#011eval-aucpr:0.65827#011eval-pr_auc:0.65838\n",
      "[223]#011eval-aucpr:0.65901#011eval-pr_auc:0.65912\n",
      "[224]#011eval-aucpr:0.65930#011eval-pr_auc:0.65941\n",
      "[225]#011eval-aucpr:0.65962#011eval-pr_auc:0.65973\n",
      "[226]#011eval-aucpr:0.65990#011eval-pr_auc:0.66002\n",
      "[227]#011eval-aucpr:0.66003#011eval-pr_auc:0.66014\n",
      "[228]#011eval-aucpr:0.66025#011eval-pr_auc:0.66036\n",
      "[229]#011eval-aucpr:0.66072#011eval-pr_auc:0.66083\n",
      "[230]#011eval-aucpr:0.66119#011eval-pr_auc:0.66130\n",
      "[231]#011eval-aucpr:0.66135#011eval-pr_auc:0.66146\n",
      "[232]#011eval-aucpr:0.66136#011eval-pr_auc:0.66147\n",
      "[233]#011eval-aucpr:0.66144#011eval-pr_auc:0.66155\n",
      "[234]#011eval-aucpr:0.66150#011eval-pr_auc:0.66161\n",
      "[235]#011eval-aucpr:0.66198#011eval-pr_auc:0.66209\n",
      "[236]#011eval-aucpr:0.66228#011eval-pr_auc:0.66239\n",
      "[237]#011eval-aucpr:0.66272#011eval-pr_auc:0.66283\n",
      "[238]#011eval-aucpr:0.66307#011eval-pr_auc:0.66317\n",
      "[239]#011eval-aucpr:0.66313#011eval-pr_auc:0.66324\n",
      "[240]#011eval-aucpr:0.66367#011eval-pr_auc:0.66378\n",
      "[241]#011eval-aucpr:0.66425#011eval-pr_auc:0.66436\n",
      "[242]#011eval-aucpr:0.66443#011eval-pr_auc:0.66454\n",
      "[243]#011eval-aucpr:0.66499#011eval-pr_auc:0.66510\n",
      "[244]#011eval-aucpr:0.66533#011eval-pr_auc:0.66543\n",
      "[245]#011eval-aucpr:0.66551#011eval-pr_auc:0.66561\n",
      "[246]#011eval-aucpr:0.66590#011eval-pr_auc:0.66600\n",
      "[247]#011eval-aucpr:0.66618#011eval-pr_auc:0.66629\n",
      "[248]#011eval-aucpr:0.66615#011eval-pr_auc:0.66625\n",
      "[249]#011eval-aucpr:0.66684#011eval-pr_auc:0.66694\n",
      "[250]#011eval-aucpr:0.66742#011eval-pr_auc:0.66753\n",
      "[251]#011eval-aucpr:0.66771#011eval-pr_auc:0.66782\n",
      "[252]#011eval-aucpr:0.66818#011eval-pr_auc:0.66829\n",
      "[253]#011eval-aucpr:0.66850#011eval-pr_auc:0.66860\n",
      "[254]#011eval-aucpr:0.66884#011eval-pr_auc:0.66894\n",
      "[255]#011eval-aucpr:0.66894#011eval-pr_auc:0.66904\n",
      "[256]#011eval-aucpr:0.66911#011eval-pr_auc:0.66921\n",
      "[257]#011eval-aucpr:0.66928#011eval-pr_auc:0.66938\n",
      "[258]#011eval-aucpr:0.66960#011eval-pr_auc:0.66970\n",
      "[259]#011eval-aucpr:0.66972#011eval-pr_auc:0.66982\n",
      "[260]#011eval-aucpr:0.67007#011eval-pr_auc:0.67017\n",
      "[261]#011eval-aucpr:0.67043#011eval-pr_auc:0.67053\n",
      "[262]#011eval-aucpr:0.67058#011eval-pr_auc:0.67068\n",
      "[263]#011eval-aucpr:0.67065#011eval-pr_auc:0.67075\n",
      "[264]#011eval-aucpr:0.67078#011eval-pr_auc:0.67088\n",
      "[265]#011eval-aucpr:0.67113#011eval-pr_auc:0.67123\n",
      "[266]#011eval-aucpr:0.67170#011eval-pr_auc:0.67180\n",
      "[267]#011eval-aucpr:0.67175#011eval-pr_auc:0.67185\n",
      "[268]#011eval-aucpr:0.67224#011eval-pr_auc:0.67234\n",
      "[269]#011eval-aucpr:0.67257#011eval-pr_auc:0.67267\n",
      "[270]#011eval-aucpr:0.67283#011eval-pr_auc:0.67293\n",
      "[271]#011eval-aucpr:0.67315#011eval-pr_auc:0.67325\n",
      "[272]#011eval-aucpr:0.67345#011eval-pr_auc:0.67355\n",
      "[273]#011eval-aucpr:0.67338#011eval-pr_auc:0.67348\n",
      "[274]#011eval-aucpr:0.67356#011eval-pr_auc:0.67366\n",
      "[275]#011eval-aucpr:0.67390#011eval-pr_auc:0.67400\n",
      "[276]#011eval-aucpr:0.67412#011eval-pr_auc:0.67422\n",
      "[277]#011eval-aucpr:0.67494#011eval-pr_auc:0.67504\n",
      "[278]#011eval-aucpr:0.67534#011eval-pr_auc:0.67544\n",
      "[279]#011eval-aucpr:0.67568#011eval-pr_auc:0.67578\n",
      "[280]#011eval-aucpr:0.67571#011eval-pr_auc:0.67582\n",
      "[281]#011eval-aucpr:0.67573#011eval-pr_auc:0.67583\n",
      "[282]#011eval-aucpr:0.67610#011eval-pr_auc:0.67620\n",
      "[283]#011eval-aucpr:0.67624#011eval-pr_auc:0.67634\n",
      "[284]#011eval-aucpr:0.67664#011eval-pr_auc:0.67674\n",
      "[285]#011eval-aucpr:0.67713#011eval-pr_auc:0.67723\n",
      "[286]#011eval-aucpr:0.67738#011eval-pr_auc:0.67748\n",
      "[287]#011eval-aucpr:0.67771#011eval-pr_auc:0.67781\n",
      "[288]#011eval-aucpr:0.67771#011eval-pr_auc:0.67781\n",
      "[289]#011eval-aucpr:0.67781#011eval-pr_auc:0.67791\n",
      "[290]#011eval-aucpr:0.67821#011eval-pr_auc:0.67831\n",
      "[291]#011eval-aucpr:0.67897#011eval-pr_auc:0.67907\n",
      "[292]#011eval-aucpr:0.67900#011eval-pr_auc:0.67910\n",
      "[293]#011eval-aucpr:0.67900#011eval-pr_auc:0.67910\n",
      "[294]#011eval-aucpr:0.67928#011eval-pr_auc:0.67937\n",
      "[295]#011eval-aucpr:0.67953#011eval-pr_auc:0.67963\n",
      "[296]#011eval-aucpr:0.67948#011eval-pr_auc:0.67957\n",
      "[297]#011eval-aucpr:0.67991#011eval-pr_auc:0.68000\n",
      "[298]#011eval-aucpr:0.68047#011eval-pr_auc:0.68056\n",
      "[299]#011eval-aucpr:0.68098#011eval-pr_auc:0.68107\n",
      "[300]#011eval-aucpr:0.68165#011eval-pr_auc:0.68174\n",
      "[301]#011eval-aucpr:0.68202#011eval-pr_auc:0.68211\n",
      "[302]#011eval-aucpr:0.68217#011eval-pr_auc:0.68226\n",
      "[303]#011eval-aucpr:0.68231#011eval-pr_auc:0.68240\n",
      "[304]#011eval-aucpr:0.68233#011eval-pr_auc:0.68242\n",
      "[305]#011eval-aucpr:0.68236#011eval-pr_auc:0.68245\n",
      "[306]#011eval-aucpr:0.68249#011eval-pr_auc:0.68259\n",
      "[307]#011eval-aucpr:0.68256#011eval-pr_auc:0.68265\n",
      "[308]#011eval-aucpr:0.68285#011eval-pr_auc:0.68294\n",
      "[309]#011eval-aucpr:0.68316#011eval-pr_auc:0.68325\n",
      "[310]#011eval-aucpr:0.68324#011eval-pr_auc:0.68333\n",
      "[311]#011eval-aucpr:0.68352#011eval-pr_auc:0.68361\n",
      "[312]#011eval-aucpr:0.68371#011eval-pr_auc:0.68380\n",
      "[313]#011eval-aucpr:0.68371#011eval-pr_auc:0.68380\n",
      "[314]#011eval-aucpr:0.68444#011eval-pr_auc:0.68453\n",
      "[315]#011eval-aucpr:0.68493#011eval-pr_auc:0.68502\n",
      "[316]#011eval-aucpr:0.68530#011eval-pr_auc:0.68539\n",
      "[317]#011eval-aucpr:0.68539#011eval-pr_auc:0.68548\n",
      "[318]#011eval-aucpr:0.68537#011eval-pr_auc:0.68546\n",
      "[319]#011eval-aucpr:0.68551#011eval-pr_auc:0.68560\n",
      "[320]#011eval-aucpr:0.68551#011eval-pr_auc:0.68560\n",
      "[321]#011eval-aucpr:0.68575#011eval-pr_auc:0.68584\n",
      "[322]#011eval-aucpr:0.68605#011eval-pr_auc:0.68614\n",
      "[323]#011eval-aucpr:0.68600#011eval-pr_auc:0.68609\n",
      "[324]#011eval-aucpr:0.68603#011eval-pr_auc:0.68612\n",
      "[325]#011eval-aucpr:0.68627#011eval-pr_auc:0.68636\n",
      "[326]#011eval-aucpr:0.68653#011eval-pr_auc:0.68661\n",
      "[327]#011eval-aucpr:0.68683#011eval-pr_auc:0.68692\n",
      "[328]#011eval-aucpr:0.68677#011eval-pr_auc:0.68685\n",
      "[329]#011eval-aucpr:0.68694#011eval-pr_auc:0.68703\n",
      "[330]#011eval-aucpr:0.68685#011eval-pr_auc:0.68693\n",
      "[331]#011eval-aucpr:0.68706#011eval-pr_auc:0.68715\n",
      "[332]#011eval-aucpr:0.68705#011eval-pr_auc:0.68714\n",
      "[333]#011eval-aucpr:0.68750#011eval-pr_auc:0.68758\n",
      "[334]#011eval-aucpr:0.68757#011eval-pr_auc:0.68765\n",
      "[335]#011eval-aucpr:0.68767#011eval-pr_auc:0.68776\n",
      "[336]#011eval-aucpr:0.68797#011eval-pr_auc:0.68806\n",
      "[337]#011eval-aucpr:0.68810#011eval-pr_auc:0.68819\n",
      "[338]#011eval-aucpr:0.68819#011eval-pr_auc:0.68828\n",
      "[339]#011eval-aucpr:0.68829#011eval-pr_auc:0.68837\n",
      "[340]#011eval-aucpr:0.68848#011eval-pr_auc:0.68856\n",
      "[341]#011eval-aucpr:0.68864#011eval-pr_auc:0.68872\n",
      "[342]#011eval-aucpr:0.68898#011eval-pr_auc:0.68907\n",
      "[343]#011eval-aucpr:0.68944#011eval-pr_auc:0.68953\n",
      "[344]#011eval-aucpr:0.68959#011eval-pr_auc:0.68967\n",
      "[345]#011eval-aucpr:0.68954#011eval-pr_auc:0.68962\n",
      "[346]#011eval-aucpr:0.68973#011eval-pr_auc:0.68981\n",
      "[347]#011eval-aucpr:0.69006#011eval-pr_auc:0.69015\n",
      "[348]#011eval-aucpr:0.69008#011eval-pr_auc:0.69017\n",
      "[349]#011eval-aucpr:0.69027#011eval-pr_auc:0.69036\n",
      "[350]#011eval-aucpr:0.69060#011eval-pr_auc:0.69068\n",
      "[351]#011eval-aucpr:0.69089#011eval-pr_auc:0.69098\n",
      "[352]#011eval-aucpr:0.69102#011eval-pr_auc:0.69110\n",
      "[353]#011eval-aucpr:0.69126#011eval-pr_auc:0.69134\n",
      "[354]#011eval-aucpr:0.69133#011eval-pr_auc:0.69141\n",
      "[355]#011eval-aucpr:0.69174#011eval-pr_auc:0.69182\n",
      "[356]#011eval-aucpr:0.69177#011eval-pr_auc:0.69185\n",
      "[357]#011eval-aucpr:0.69207#011eval-pr_auc:0.69215\n",
      "[358]#011eval-aucpr:0.69214#011eval-pr_auc:0.69222\n",
      "[359]#011eval-aucpr:0.69218#011eval-pr_auc:0.69227\n",
      "[360]#011eval-aucpr:0.69257#011eval-pr_auc:0.69266\n",
      "[361]#011eval-aucpr:0.69270#011eval-pr_auc:0.69278\n",
      "[362]#011eval-aucpr:0.69289#011eval-pr_auc:0.69297\n",
      "[363]#011eval-aucpr:0.69346#011eval-pr_auc:0.69354\n",
      "[364]#011eval-aucpr:0.69358#011eval-pr_auc:0.69366\n",
      "[365]#011eval-aucpr:0.69401#011eval-pr_auc:0.69408\n",
      "[366]#011eval-aucpr:0.69403#011eval-pr_auc:0.69411\n",
      "[367]#011eval-aucpr:0.69416#011eval-pr_auc:0.69424\n",
      "[368]#011eval-aucpr:0.69444#011eval-pr_auc:0.69452\n",
      "[369]#011eval-aucpr:0.69495#011eval-pr_auc:0.69503\n",
      "[370]#011eval-aucpr:0.69525#011eval-pr_auc:0.69533\n",
      "[371]#011eval-aucpr:0.69538#011eval-pr_auc:0.69546\n",
      "[372]#011eval-aucpr:0.69541#011eval-pr_auc:0.69549\n",
      "[373]#011eval-aucpr:0.69553#011eval-pr_auc:0.69560\n",
      "[374]#011eval-aucpr:0.69584#011eval-pr_auc:0.69591\n",
      "[375]#011eval-aucpr:0.69608#011eval-pr_auc:0.69616\n",
      "[376]#011eval-aucpr:0.69662#011eval-pr_auc:0.69670\n",
      "[377]#011eval-aucpr:0.69691#011eval-pr_auc:0.69698\n",
      "[378]#011eval-aucpr:0.69705#011eval-pr_auc:0.69712\n",
      "[379]#011eval-aucpr:0.69723#011eval-pr_auc:0.69731\n",
      "[380]#011eval-aucpr:0.69733#011eval-pr_auc:0.69741\n",
      "[381]#011eval-aucpr:0.69746#011eval-pr_auc:0.69753\n",
      "[382]#011eval-aucpr:0.69767#011eval-pr_auc:0.69774\n",
      "[383]#011eval-aucpr:0.69773#011eval-pr_auc:0.69781\n",
      "[384]#011eval-aucpr:0.69783#011eval-pr_auc:0.69791\n",
      "[385]#011eval-aucpr:0.69792#011eval-pr_auc:0.69799\n",
      "[386]#011eval-aucpr:0.69784#011eval-pr_auc:0.69792\n",
      "[387]#011eval-aucpr:0.69802#011eval-pr_auc:0.69810\n",
      "[388]#011eval-aucpr:0.69834#011eval-pr_auc:0.69841\n",
      "[389]#011eval-aucpr:0.69855#011eval-pr_auc:0.69862\n",
      "[390]#011eval-aucpr:0.69880#011eval-pr_auc:0.69887\n",
      "[391]#011eval-aucpr:0.69889#011eval-pr_auc:0.69896\n",
      "[392]#011eval-aucpr:0.69905#011eval-pr_auc:0.69912\n",
      "[393]#011eval-aucpr:0.69902#011eval-pr_auc:0.69910\n",
      "[394]#011eval-aucpr:0.69930#011eval-pr_auc:0.69937\n",
      "[395]#011eval-aucpr:0.69964#011eval-pr_auc:0.69971\n",
      "[396]#011eval-aucpr:0.69975#011eval-pr_auc:0.69983\n",
      "[397]#011eval-aucpr:0.69992#011eval-pr_auc:0.69999\n",
      "[398]#011eval-aucpr:0.70010#011eval-pr_auc:0.70017\n",
      "[399]#011eval-aucpr:0.70036#011eval-pr_auc:0.70043\n",
      "[400]#011eval-aucpr:0.70048#011eval-pr_auc:0.70055\n",
      "[401]#011eval-aucpr:0.70081#011eval-pr_auc:0.70088\n",
      "[402]#011eval-aucpr:0.70091#011eval-pr_auc:0.70098\n",
      "[403]#011eval-aucpr:0.70101#011eval-pr_auc:0.70108\n",
      "[404]#011eval-aucpr:0.70102#011eval-pr_auc:0.70108\n",
      "[405]#011eval-aucpr:0.70106#011eval-pr_auc:0.70113\n",
      "[406]#011eval-aucpr:0.70114#011eval-pr_auc:0.70120\n",
      "[407]#011eval-aucpr:0.70125#011eval-pr_auc:0.70132\n",
      "[408]#011eval-aucpr:0.70141#011eval-pr_auc:0.70148\n",
      "[409]#011eval-aucpr:0.70147#011eval-pr_auc:0.70154\n",
      "[410]#011eval-aucpr:0.70139#011eval-pr_auc:0.70146\n",
      "[411]#011eval-aucpr:0.70139#011eval-pr_auc:0.70146\n",
      "[412]#011eval-aucpr:0.70157#011eval-pr_auc:0.70164\n",
      "[413]#011eval-aucpr:0.70188#011eval-pr_auc:0.70195\n",
      "[414]#011eval-aucpr:0.70182#011eval-pr_auc:0.70188\n",
      "[415]#011eval-aucpr:0.70185#011eval-pr_auc:0.70192\n",
      "[416]#011eval-aucpr:0.70185#011eval-pr_auc:0.70191\n",
      "[417]#011eval-aucpr:0.70191#011eval-pr_auc:0.70198\n",
      "[418]#011eval-aucpr:0.70195#011eval-pr_auc:0.70202\n",
      "[419]#011eval-aucpr:0.70222#011eval-pr_auc:0.70229\n",
      "[420]#011eval-aucpr:0.70226#011eval-pr_auc:0.70233\n",
      "[421]#011eval-aucpr:0.70249#011eval-pr_auc:0.70256\n",
      "[422]#011eval-aucpr:0.70274#011eval-pr_auc:0.70281\n",
      "[423]#011eval-aucpr:0.70286#011eval-pr_auc:0.70293\n",
      "[424]#011eval-aucpr:0.70298#011eval-pr_auc:0.70305\n",
      "[425]#011eval-aucpr:0.70292#011eval-pr_auc:0.70299\n",
      "[426]#011eval-aucpr:0.70298#011eval-pr_auc:0.70304\n",
      "[427]#011eval-aucpr:0.70336#011eval-pr_auc:0.70343\n",
      "[428]#011eval-aucpr:0.70354#011eval-pr_auc:0.70361\n",
      "[429]#011eval-aucpr:0.70360#011eval-pr_auc:0.70367\n",
      "[430]#011eval-aucpr:0.70374#011eval-pr_auc:0.70381\n",
      "[431]#011eval-aucpr:0.70440#011eval-pr_auc:0.70447\n",
      "[432]#011eval-aucpr:0.70440#011eval-pr_auc:0.70447\n",
      "[433]#011eval-aucpr:0.70439#011eval-pr_auc:0.70446\n",
      "[434]#011eval-aucpr:0.70464#011eval-pr_auc:0.70471\n",
      "[435]#011eval-aucpr:0.70469#011eval-pr_auc:0.70476\n",
      "[436]#011eval-aucpr:0.70464#011eval-pr_auc:0.70471\n",
      "[437]#011eval-aucpr:0.70468#011eval-pr_auc:0.70475\n",
      "[438]#011eval-aucpr:0.70465#011eval-pr_auc:0.70471\n",
      "[439]#011eval-aucpr:0.70469#011eval-pr_auc:0.70476\n",
      "[440]#011eval-aucpr:0.70477#011eval-pr_auc:0.70484\n",
      "[441]#011eval-aucpr:0.70482#011eval-pr_auc:0.70489\n",
      "[442]#011eval-aucpr:0.70488#011eval-pr_auc:0.70494\n",
      "[443]#011eval-aucpr:0.70504#011eval-pr_auc:0.70511\n",
      "[444]#011eval-aucpr:0.70519#011eval-pr_auc:0.70526\n",
      "[445]#011eval-aucpr:0.70545#011eval-pr_auc:0.70552\n",
      "[446]#011eval-aucpr:0.70549#011eval-pr_auc:0.70555\n",
      "[447]#011eval-aucpr:0.70555#011eval-pr_auc:0.70561\n",
      "[448]#011eval-aucpr:0.70555#011eval-pr_auc:0.70562\n",
      "[449]#011eval-aucpr:0.70581#011eval-pr_auc:0.70588\n",
      "[450]#011eval-aucpr:0.70593#011eval-pr_auc:0.70600\n",
      "[451]#011eval-aucpr:0.70605#011eval-pr_auc:0.70612\n",
      "[452]#011eval-aucpr:0.70628#011eval-pr_auc:0.70635\n",
      "[453]#011eval-aucpr:0.70649#011eval-pr_auc:0.70656\n",
      "[454]#011eval-aucpr:0.70647#011eval-pr_auc:0.70654\n",
      "[455]#011eval-aucpr:0.70656#011eval-pr_auc:0.70663\n",
      "[456]#011eval-aucpr:0.70672#011eval-pr_auc:0.70679\n",
      "[457]#011eval-aucpr:0.70704#011eval-pr_auc:0.70711\n",
      "[458]#011eval-aucpr:0.70717#011eval-pr_auc:0.70724\n",
      "[459]#011eval-aucpr:0.70741#011eval-pr_auc:0.70748\n",
      "[460]#011eval-aucpr:0.70737#011eval-pr_auc:0.70744\n",
      "[461]#011eval-aucpr:0.70767#011eval-pr_auc:0.70773\n",
      "[462]#011eval-aucpr:0.70771#011eval-pr_auc:0.70777\n",
      "[463]#011eval-aucpr:0.70786#011eval-pr_auc:0.70793\n",
      "[464]#011eval-aucpr:0.70792#011eval-pr_auc:0.70799\n",
      "[465]#011eval-aucpr:0.70806#011eval-pr_auc:0.70812\n",
      "[466]#011eval-aucpr:0.70813#011eval-pr_auc:0.70820\n",
      "[467]#011eval-aucpr:0.70832#011eval-pr_auc:0.70839\n",
      "[468]#011eval-aucpr:0.70849#011eval-pr_auc:0.70856\n",
      "[469]#011eval-aucpr:0.70858#011eval-pr_auc:0.70865\n",
      "[470]#011eval-aucpr:0.70865#011eval-pr_auc:0.70872\n",
      "[471]#011eval-aucpr:0.70878#011eval-pr_auc:0.70884\n",
      "[472]#011eval-aucpr:0.70885#011eval-pr_auc:0.70891\n",
      "[473]#011eval-aucpr:0.70909#011eval-pr_auc:0.70916\n",
      "[474]#011eval-aucpr:0.70928#011eval-pr_auc:0.70935\n",
      "[475]#011eval-aucpr:0.70923#011eval-pr_auc:0.70930\n",
      "[476]#011eval-aucpr:0.70918#011eval-pr_auc:0.70925\n",
      "[477]#011eval-aucpr:0.70931#011eval-pr_auc:0.70938\n",
      "[478]#011eval-aucpr:0.70951#011eval-pr_auc:0.70958\n",
      "[479]#011eval-aucpr:0.70973#011eval-pr_auc:0.70980\n",
      "[480]#011eval-aucpr:0.70975#011eval-pr_auc:0.70982\n",
      "[481]#011eval-aucpr:0.70992#011eval-pr_auc:0.70998\n",
      "[482]#011eval-aucpr:0.70993#011eval-pr_auc:0.71000\n",
      "[483]#011eval-aucpr:0.70995#011eval-pr_auc:0.71002\n",
      "[484]#011eval-aucpr:0.71015#011eval-pr_auc:0.71022\n",
      "[485]#011eval-aucpr:0.71015#011eval-pr_auc:0.71022\n",
      "[486]#011eval-aucpr:0.71022#011eval-pr_auc:0.71029\n",
      "[487]#011eval-aucpr:0.71040#011eval-pr_auc:0.71047\n",
      "[488]#011eval-aucpr:0.71054#011eval-pr_auc:0.71061\n",
      "[489]#011eval-aucpr:0.71070#011eval-pr_auc:0.71077\n",
      "[490]#011eval-aucpr:0.71087#011eval-pr_auc:0.71093\n",
      "[491]#011eval-aucpr:0.71108#011eval-pr_auc:0.71115\n",
      "[492]#011eval-aucpr:0.71109#011eval-pr_auc:0.71116\n",
      "[493]#011eval-aucpr:0.71113#011eval-pr_auc:0.71119\n",
      "[494]#011eval-aucpr:0.71132#011eval-pr_auc:0.71138\n",
      "[495]#011eval-aucpr:0.71127#011eval-pr_auc:0.71134\n",
      "[496]#011eval-aucpr:0.71149#011eval-pr_auc:0.71156\n",
      "[497]#011eval-aucpr:0.71160#011eval-pr_auc:0.71167\n",
      "[498]#011eval-aucpr:0.71168#011eval-pr_auc:0.71174\n",
      "[499]#011eval-aucpr:0.71183#011eval-pr_auc:0.71190\n",
      "eval:cv_auc_pr=0.711900\n",
      "\n",
      "2025-08-03 05:41:59 Uploading - Uploading generated training model\n",
      "2025-08-03 05:41:59 Completed - Training job completed\n",
      "Training seconds: 571\n",
      "Billable seconds: 571\n"
     ]
    },
    {
     "name": "stderr",
     "output_type": "stream",
     "text": [
      "\u001b[0m[02/Aug/25 22:42:14] INFO [wallet_script_modeler.train_single_period_script_model:129] Script-mode training completed. Model URI: s3://wallet-script-models/model-outputs/dda-930-vt-perf/concat/wscript-dda-930-vt-perf-concat-20250802-223150/output/model.tar.gz\u001b[0m\n",
      "\u001b[0m[02/Aug/25 22:42:14] INFO [workflow_orchestrator.None:693] (624.2s) Completed train_concatenated_offsets_model.\u001b[0m\n"
     ]
    }
   ],
   "source": [
    "modeling_results = workflow_orch.train_concatenated_offsets_model(concat_uris)"
   ]
  },
  {
   "cell_type": "markdown",
   "metadata": {},
   "source": [
    "#### load existing model"
   ]
  },
  {
   "cell_type": "code",
   "execution_count": 6,
   "metadata": {},
   "outputs": [],
   "source": [
    "[importlib.reload(module) for module in modules]\n",
    "sage_wallets_config = yaml.safe_load(Path('../config/sage_wallets_config.yaml').read_text(encoding='utf-8'))\n",
    "sage_wallets_modeling_config = yaml.safe_load(Path('../config/sage_wallets_modeling_config.yaml').read_text(encoding='utf-8'))\n",
    "\n",
    "\n",
    "workflow_orch = wo.WalletWorkflowOrchestrator(sage_wallets_config,sage_wallets_modeling_config)\n",
    "s3_uris = workflow_orch.retrieve_training_data_uris(['concat'])"
   ]
  },
  {
   "cell_type": "code",
   "execution_count": 7,
   "metadata": {},
   "outputs": [
    {
     "name": "stderr",
     "output_type": "stream",
     "text": [
      "\u001b[0m[02/Aug/25 22:42:44] INFO [wallet_modeler.load_existing_model:270] Loaded most recent script-mode model (timestamp: 20250802-223150): s3://wallet-script-models/model-outputs/dda-930-vt-perf/concat/wscript-dda-930-vt-perf-concat-20250802-223150/output/model.tar.gz\u001b[0m\n"
     ]
    }
   ],
   "source": [
    "[importlib.reload(module) for module in modules]\n",
    "sage_wallets_config = yaml.safe_load(Path('../config/sage_wallets_config.yaml').read_text(encoding='utf-8'))\n",
    "sage_wallets_modeling_config = yaml.safe_load(Path('../config/sage_wallets_modeling_config.yaml').read_text(encoding='utf-8'))\n",
    "\n",
    "# Create modeler with 'concat' as the date_suffix\n",
    "concat_modeler = wm.WalletModeler(\n",
    "    wallets_config=sage_wallets_config,\n",
    "    modeling_config=sage_wallets_modeling_config,\n",
    "    date_suffix='concat',  # This is the key - using 'concat' instead of a real date\n",
    "    s3_uris=s3_uris,\n",
    "    override_approvals=None\n",
    ")\n",
    "\n",
    "# Step 2: Load the existing concatenated model\n",
    "model_info = concat_modeler.load_existing_model()\n"
   ]
  },
  {
   "cell_type": "markdown",
   "metadata": {},
   "source": [
    "#### predict"
   ]
  },
  {
   "cell_type": "code",
   "execution_count": null,
   "metadata": {},
   "outputs": [
    {
     "name": "stderr",
     "output_type": "stream",
     "text": [
      "\u001b[0m[02/Aug/25 22:43:18] INFO [image_uris._processor:530] Ignoring unnecessary instance type: None.\u001b[0m\n",
      "\u001b[0m[02/Aug/25 22:43:18] INFO [session.submit:4105] Creating model with name: wscript-dda-930-vt-perf-concat-20250802-223150\u001b[0m\n",
      "\u001b[0m[02/Aug/25 22:43:19] INFO [wallet_modeler._execute_batch_transform:805] Starting batch transform job: wallet-scoring-concat-224319-concat-test\u001b[0m\n",
      "\u001b[0m[02/Aug/25 22:43:19] INFO [session.submit:3962] Creating transform job with name: wallet-scoring-concat-224319-concat-test\u001b[0m\n"
     ]
    },
    {
     "name": "stdout",
     "output_type": "stream",
     "text": [
      ".....................................................!"
     ]
    },
    {
     "name": "stderr",
     "output_type": "stream",
     "text": [
      "\u001b[0m[02/Aug/25 22:47:53] INFO [wallet_modeler._execute_batch_transform:822] Batch transform completed. Predictions at: s3://wallet-training-data/validation-data-scored/dda-930-vt-perf/concat/wallet-scoring-concat-224319-concat-test/test.csv.out\u001b[0m\n"
     ]
    },
    {
     "name": "stdout",
     "output_type": "stream",
     "text": [
      "\n"
     ]
    },
    {
     "name": "stderr",
     "output_type": "stream",
     "text": [
      "\u001b[0m[02/Aug/25 22:47:54] INFO [s3_utils.download_from_uri:69] Stored file at ..//s3_downloads/wallet_predictions/dda_930_concat_model/concat/test.csv.out.\u001b[0m\n",
      "\u001b[0m[02/Aug/25 22:47:54] INFO [image_uris._processor:530] Ignoring unnecessary instance type: None.\u001b[0m\n",
      "\u001b[0m[02/Aug/25 22:47:54] INFO [session.submit:4105] Creating model with name: wscript-dda-930-vt-perf-concat-20250802-223150\u001b[0m\n",
      "\u001b[93m[02/Aug/25 22:47:54] WARNING [session.submit:4116] Using already existing model: wscript-dda-930-vt-perf-concat-20250802-223150\u001b[0m\n",
      "\u001b[0m[02/Aug/25 22:47:55] INFO [wallet_modeler._execute_batch_transform:805] Starting batch transform job: wallet-scoring-concat-224754-concat-val\u001b[0m\n",
      "\u001b[0m[02/Aug/25 22:47:55] INFO [session.submit:3962] Creating transform job with name: wallet-scoring-concat-224754-concat-val\u001b[0m\n"
     ]
    },
    {
     "name": "stdout",
     "output_type": "stream",
     "text": [
      "........................................................!"
     ]
    },
    {
     "name": "stderr",
     "output_type": "stream",
     "text": [
      "\u001b[0m[02/Aug/25 22:52:45] INFO [wallet_modeler._execute_batch_transform:822] Batch transform completed. Predictions at: s3://wallet-training-data/validation-data-scored/dda-930-vt-perf/concat/wallet-scoring-concat-224754-concat-val/val.csv.out\u001b[0m\n"
     ]
    },
    {
     "name": "stdout",
     "output_type": "stream",
     "text": [
      "\n"
     ]
    },
    {
     "name": "stderr",
     "output_type": "stream",
     "text": [
      "\u001b[0m[02/Aug/25 22:52:45] INFO [s3_utils.download_from_uri:69] Stored file at ..//s3_downloads/wallet_predictions/dda_930_concat_model/concat/val.csv.out.\u001b[0m\n"
     ]
    }
   ],
   "source": [
    "[importlib.reload(module) for module in modules]\n",
    "sage_wallets_config = yaml.safe_load(Path('../config/sage_wallets_config.yaml').read_text(encoding='utf-8'))\n",
    "sage_wallets_modeling_config = yaml.safe_load(Path('../config/sage_wallets_modeling_config.yaml').read_text(encoding='utf-8'))\n",
    "\n",
    "prediction_result = concat_modeler.predict_with_batch_transform(\n",
    "    dataset_type='test',\n",
    "    download_preds=True,\n",
    "    job_name_suffix='concat-test'\n",
    ")\n",
    "\n",
    "prediction_result = concat_modeler.predict_with_batch_transform(\n",
    "    dataset_type='val',\n",
    "    download_preds=True,\n",
    "    job_name_suffix='concat-val'\n",
    ")\n"
   ]
  },
  {
   "cell_type": "markdown",
   "metadata": {},
   "source": [
    "#### evaluate"
   ]
  },
  {
   "cell_type": "code",
   "execution_count": null,
   "metadata": {},
   "outputs": [],
   "source": []
  },
  {
   "cell_type": "code",
   "execution_count": 75,
   "metadata": {},
   "outputs": [],
   "source": [
    "[importlib.reload(module) for module in modules]\n",
    "sage_wallets_config = yaml.safe_load(Path('../config/sage_wallets_config.yaml').read_text(encoding='utf-8'))\n",
    "sage_wallets_modeling_config = yaml.safe_load(Path('../config/sage_wallets_modeling_config.yaml').read_text(encoding='utf-8'))\n",
    "\n",
    "date_suffix = 'concat'\n",
    "y_test_pred = sime.load_bt_sagemaker_predictions('test', sage_wallets_config, date_suffix)\n",
    "y_test      = sime.load_concatenated_y('test', sage_wallets_config)\n",
    "y_val_pred  = sime.load_bt_sagemaker_predictions('val', sage_wallets_config, date_suffix)\n",
    "y_val       = sime.load_concatenated_y('val', sage_wallets_config)\n",
    "\n",
    "\n",
    "target_var = 'cw_crypto_net_gain/crypto_inflows/base'\n",
    "y_test.columns = [target_var]\n",
    "y_val.columns = [target_var]"
   ]
  },
  {
   "cell_type": "code",
   "execution_count": 80,
   "metadata": {},
   "outputs": [],
   "source": [
    "[importlib.reload(module) for module in modules]\n",
    "sage_wallets_config = yaml.safe_load(Path('../config/sage_wallets_config.yaml').read_text(encoding='utf-8'))\n",
    "sage_wallets_modeling_config = yaml.safe_load(Path('../config/sage_wallets_modeling_config.yaml').read_text(encoding='utf-8'))\n",
    "\n",
    "\n",
    "# Single function call for complete evaluation\n",
    "evaluator = sime.create_concatenated_sagemaker_evaluator(\n",
    "    sage_wallets_config,\n",
    "    sage_wallets_modeling_config,\n",
    "    y_test_pred,\n",
    "    y_test,\n",
    "    y_val_pred,\n",
    "    y_val\n",
    ")"
   ]
  },
  {
   "cell_type": "code",
   "execution_count": 81,
   "metadata": {},
   "outputs": [
    {
     "name": "stderr",
     "output_type": "stream",
     "text": [
      "\u001b[0m[02/Aug/25 23:44:31] INFO [model_evaluation.summary_report:1097] \n",
      "Model Performance Summary\n",
      "Objective: classification\n",
      "Target: cw_crypto_net_gain/crypto_inflows/base  to \n",
      "ID: sagemaker_concat_dda_930_concat_model\n",
      "===================================\n",
      "Test Samples:             141,425\n",
      "Val Positive Samples:     7,249 (7.2%)\n",
      "Number of Features:       221\n",
      "\n",
      "Test Set Classification Metrics\n",
      "True Positives:             10062.0/141425 (7.1%)\n",
      "-----------------------------------\n",
      "ROC AUC:                    0.968\n",
      "Log Loss:                   0.113\n",
      "Accuracy:                   0.935\n",
      "Precision:                  0.900\n",
      "Recall:                     0.090\n",
      "F1 Score:                   0.164\n",
      "\u001b[0m\n"
     ]
    },
    {
     "data": {
      "image/png": "[encoded data removed]",
      "text/plain": [
       "<Figure size 1500x1200 with 5 Axes>"
      ]
     },
     "metadata": {},
     "output_type": "display_data"
    }
   ],
   "source": [
    "evaluator.summary_report()\n",
    "evaluator.plot_wallet_evaluation()\n"
   ]
  },
  {
   "cell_type": "markdown",
   "metadata": {},
   "source": [
    "## Temporal cv model"
   ]
  },
  {
   "cell_type": "code",
   "execution_count": null,
   "metadata": {},
   "outputs": [],
   "source": [
    "[importlib.reload(module) for module in modules]\n",
    "sage_wallets_config = yaml.safe_load(Path('../config/sage_wallets_config.yaml').read_text(encoding='utf-8'))\n",
    "sage_wallets_modeling_config = yaml.safe_load(Path('../config/sage_wallets_modeling_config.yaml').read_text(encoding='utf-8'))\n",
    "\n",
    "\n",
    "date_suffixes = [\n",
    "    '231008',\n",
    "    '231107',\n",
    "    '240306',\n",
    "    '241101',\n",
    "    '250301'\n",
    "]\n",
    "workflow_orch = wo.WalletWorkflowOrchestrator(sage_wallets_config,sage_wallets_modeling_config)\n",
    "workflow_orch.load_all_training_data(date_suffixes)\n",
    "s3_uris = workflow_orch.retrieve_training_data_uris(date_suffixes)"
   ]
  },
  {
   "cell_type": "code",
   "execution_count": null,
   "metadata": {},
   "outputs": [],
   "source": [
    "sm.train_temporal_cv_script_model(sage_wallets_config,sage_wallets_modeling_config,cv_s3_uri)"
   ]
  },
  {
   "cell_type": "markdown",
   "metadata": {},
   "source": [
    "## Single Model Sequence"
   ]
  },
  {
   "cell_type": "markdown",
   "metadata": {},
   "source": [
    "### Train Single Model"
   ]
  },
  {
   "cell_type": "markdown",
   "metadata": {},
   "source": [
    "#### retrieve file uris"
   ]
  },
  {
   "cell_type": "code",
   "execution_count": null,
   "metadata": {},
   "outputs": [],
   "source": [
    "[importlib.reload(module) for module in modules]\n",
    "sage_wallets_config = yaml.safe_load(Path('../config/sage_wallets_config.yaml').read_text(encoding='utf-8'))\n",
    "sage_wallets_modeling_config = yaml.safe_load(Path('../config/sage_wallets_modeling_config.yaml').read_text(encoding='utf-8'))\n",
    "\n",
    "workflow_orch = wo.WalletWorkflowOrchestrator(sage_wallets_config,sage_wallets_modeling_config)\n",
    "\n",
    "\n",
    "\n",
    "date_suffixes = [\n",
    "    '231008',\n",
    "    '231107',\n",
    "    '240306',\n",
    "    '250301'\n",
    "]\n",
    "\n",
    "# Generate URIs for specific dates without any prior setup\n",
    "s3_uris = workflow_orch.retrieve_training_data_uris(date_suffixes)\n",
    "s3_uris"
   ]
  },
  {
   "cell_type": "markdown",
   "metadata": {},
   "source": [
    "#### train model"
   ]
  },
  {
   "cell_type": "code",
   "execution_count": null,
   "metadata": {},
   "outputs": [],
   "source": [
    "[importlib.reload(module) for module in modules]\n",
    "sage_wallets_config = yaml.safe_load(Path('../config/sage_wallets_config.yaml').read_text(encoding='utf-8'))\n",
    "sage_wallets_modeling_config = yaml.safe_load(Path('../config/sage_wallets_modeling_config.yaml').read_text(encoding='utf-8'))\n",
    "\n",
    "date_suffix = '231008'\n",
    "\n",
    "modeler = wm.WalletModeler(\n",
    "    sage_wallets_config,\n",
    "    sage_wallets_modeling_config,\n",
    "    date_suffix,\n",
    "    s3_uris\n",
    ")\n",
    "\n"
   ]
  },
  {
   "cell_type": "code",
   "execution_count": null,
   "metadata": {},
   "outputs": [],
   "source": [
    "modeling_results = modeler.train_model()"
   ]
  },
  {
   "cell_type": "markdown",
   "metadata": {},
   "source": [
    "### Score validation set"
   ]
  },
  {
   "cell_type": "markdown",
   "metadata": {},
   "source": [
    "#### get existing model uri"
   ]
  },
  {
   "cell_type": "code",
   "execution_count": null,
   "metadata": {},
   "outputs": [],
   "source": [
    "[importlib.reload(module) for module in modules]\n",
    "sage_wallets_config = yaml.safe_load(Path('../config/sage_wallets_config.yaml').read_text(encoding='utf-8'))\n",
    "sage_wallets_modeling_config = yaml.safe_load(Path('../config/sage_wallets_modeling_config.yaml').read_text(encoding='utf-8'))\n",
    "\n",
    "\n",
    "\n",
    "date_suffix = '231008'\n",
    "\n",
    "# Generate URIs for specific dates without any prior setup\n",
    "workflow_orch = wo.WalletWorkflowOrchestrator(sage_wallets_config,sage_wallets_modeling_config)\n",
    "s3_uris = workflow_orch.retrieve_training_data_uris([date_suffix])\n",
    "\n",
    "# Launch modeler\n",
    "modeler = wm.WalletModeler(\n",
    "    sage_wallets_config,\n",
    "    sage_wallets_modeling_config,\n",
    "    date_suffix,\n",
    "    s3_uris\n",
    ")\n",
    "\n",
    "\n",
    "model_metadata = modeler.load_existing_model()"
   ]
  },
  {
   "cell_type": "markdown",
   "metadata": {},
   "source": [
    "#### predict with batch transform"
   ]
  },
  {
   "cell_type": "code",
   "execution_count": null,
   "metadata": {},
   "outputs": [],
   "source": [
    "transform_results = modeler.predict_with_batch_transform('val')"
   ]
  },
  {
   "cell_type": "code",
   "execution_count": null,
   "metadata": {},
   "outputs": [],
   "source": [
    "transform_results = modeler.predict_with_batch_transform('test')"
   ]
  },
  {
   "cell_type": "markdown",
   "metadata": {},
   "source": [
    "### Predict Using Endpoints"
   ]
  },
  {
   "cell_type": "markdown",
   "metadata": {},
   "source": [
    "#### deploy endpoint for predictions"
   ]
  },
  {
   "cell_type": "code",
   "execution_count": null,
   "metadata": {},
   "outputs": [],
   "source": [
    "modeler.list_active_endpoints()"
   ]
  },
  {
   "cell_type": "code",
   "execution_count": null,
   "metadata": {},
   "outputs": [],
   "source": [
    "modeler.deploy_endpoint()"
   ]
  },
  {
   "cell_type": "markdown",
   "metadata": {},
   "source": [
    "#### load and preprocess test/val dfs"
   ]
  },
  {
   "cell_type": "code",
   "execution_count": null,
   "metadata": {},
   "outputs": [],
   "source": [
    "x_test = pd.read_parquet(\n",
    "    Path(\"../s3_uploads/wallet_training_data_queue\") /\n",
    "    sage_wallets_config['training_data']['local_directory'] /\n",
    "    f\"x_test_{date_suffix}.parquet\"\n",
    ")\n",
    "x_val = pd.read_parquet(\n",
    "    Path(\"../s3_uploads/wallet_training_data_queue\") /\n",
    "    sage_wallets_config['training_data']['local_directory'] /\n",
    "    f\"x_val_{date_suffix}.parquet\"\n",
    ")\n",
    "\n",
    "\n"
   ]
  },
  {
   "cell_type": "code",
   "execution_count": null,
   "metadata": {},
   "outputs": [],
   "source": [
    "preprocessor = SageWalletsPreprocessor(sage_wallets_config)\n",
    "x_test_processed = preprocessor.preprocess_x_df(x_test)\n",
    "x_val_processed = preprocessor.preprocess_x_df(x_val)\n",
    "\n",
    "logger.info(f\"Preprocessed X_test {x_test_processed.shape} and \"\n",
    "            f\"X_val {x_val_processed.shape}.\")"
   ]
  },
  {
   "cell_type": "markdown",
   "metadata": {},
   "source": [
    "#### predict"
   ]
  },
  {
   "cell_type": "code",
   "execution_count": null,
   "metadata": {},
   "outputs": [],
   "source": [
    "y_test_pred = modeler.predict_using_endpoint(x_test_processed, 'test')\n",
    "y_val_pred = modeler.predict_using_endpoint(x_val_processed, 'val')"
   ]
  },
  {
   "cell_type": "markdown",
   "metadata": {},
   "source": [
    "#### delete all endpoints"
   ]
  },
  {
   "cell_type": "code",
   "execution_count": null,
   "metadata": {},
   "outputs": [],
   "source": [
    "modeler.delete_all_endpoints()"
   ]
  },
  {
   "cell_type": "code",
   "execution_count": null,
   "metadata": {},
   "outputs": [],
   "source": [
    "modeler.list_active_endpoints()\n",
    "modeler.list_all_endpoints()"
   ]
  },
  {
   "cell_type": "markdown",
   "metadata": {},
   "source": [
    "## Script model training"
   ]
  },
  {
   "cell_type": "code",
   "execution_count": null,
   "metadata": {},
   "outputs": [],
   "source": [
    "[importlib.reload(module) for module in modules]\n",
    "sage_wallets_config = yaml.safe_load(Path('../config/sage_wallets_config.yaml').read_text(encoding='utf-8'))\n",
    "sage_wallets_modeling_config = yaml.safe_load(Path('../config/sage_wallets_modeling_config.yaml').read_text(encoding='utf-8'))\n",
    "\n",
    "\n",
    "date_suffixes = [\n",
    "    '231008',\n",
    "    '231107',\n",
    "    '240306',\n",
    "    '250301'\n",
    "]\n",
    "\n",
    "date_suffix = '231008'\n",
    "\n",
    "\n",
    "workflow_orch = wo.WalletWorkflowOrchestrator(sage_wallets_config,sage_wallets_modeling_config)\n",
    "workflow_orch.load_all_training_data(date_suffixes)\n",
    "s3_uris = workflow_orch.retrieve_training_data_uris(date_suffixes)"
   ]
  },
  {
   "cell_type": "code",
   "execution_count": null,
   "metadata": {},
   "outputs": [],
   "source": [
    "[importlib.reload(module) for module in modules]\n",
    "sage_wallets_config = yaml.safe_load(Path('../config/sage_wallets_config.yaml').read_text(encoding='utf-8'))\n",
    "sage_wallets_modeling_config = yaml.safe_load(Path('../config/sage_wallets_modeling_config.yaml').read_text(encoding='utf-8'))\n",
    "\n",
    "date_suffix = '231008'\n",
    "\n",
    "modeler = wm.WalletModeler(\n",
    "    sage_wallets_config,\n",
    "    sage_wallets_modeling_config,\n",
    "    date_suffix,\n",
    "    s3_uris\n",
    ")\n",
    "\n"
   ]
  },
  {
   "cell_type": "code",
   "execution_count": null,
   "metadata": {},
   "outputs": [],
   "source": [
    "sm.train_single_period_script_model(\n",
    "    sage_wallets_config,\n",
    "    sage_wallets_modeling_config,\n",
    "    date_suffix,\n",
    "    s3_uris\n",
    ")"
   ]
  },
  {
   "cell_type": "code",
   "execution_count": null,
   "metadata": {},
   "outputs": [],
   "source": [
    "from sagemaker.session import Session\n",
    "from sagemaker.xgboost.estimator import XGBoost\n",
    "from sagemaker.tuner import HyperparameterTuner, ContinuousParameter, IntegerParameter\n",
    "\n",
    "s3_data = {\n",
    "    \"train\":      s3_uris[date_suffix]['train'],\n",
    "    \"validation\": s3_uris[date_suffix]['val']\n",
    "}\n",
    "model_output_path = (f\"s3://wallet-script-models/model-outputs\")\n",
    "\n",
    "estimator = XGBoost(\n",
    "    entry_point         = \"script_mode_modeler.py\",     # path relative to notebook\n",
    "    source_dir          = \"../src/script_modeling/\",    # folder that holds the script\n",
    "    base_job_name       = \"dda-922-v4\",                 # uploaded and immutable script version\n",
    "    framework_version   = sage_wallets_modeling_config['framework']['version'],\n",
    "    role                = sage_wallets_config['aws']['modeler_arn'],\n",
    "    instance_type       = sage_wallets_modeling_config['metaparams']['instance_type'],\n",
    "    instance_count      = sage_wallets_modeling_config['metaparams']['instance_count'],\n",
    "    output_path         = model_output_path,\n",
    "    hyperparameters = {\n",
    "        \"eta\": 0.1,\n",
    "        \"max_depth\": 6,\n",
    "        \"subsample\": 1.0,\n",
    "        \"num_boost_round\": 50,            # small for a smoke-test\n",
    "        \"early_stopping_rounds\": 10\n",
    "    },\n",
    "    # metric_definitions=[                  # regex must match the print line\n",
    "    #     {\"Name\": \"cv_auc_pr\", \"Regex\": \"validation:cv_auc_pr=(.*)\"}\n",
    "    # ],\n",
    ")\n",
    "\n",
    "# one-shot fit (no tuning yet)\n",
    "estimator.fit(s3_data, logs=\"All\")"
   ]
  },
  {
   "cell_type": "markdown",
   "metadata": {},
   "source": [
    "# Model Evaluation"
   ]
  },
  {
   "cell_type": "markdown",
   "metadata": {},
   "source": [
    "### Analyze predictions"
   ]
  },
  {
   "cell_type": "code",
   "execution_count": null,
   "metadata": {},
   "outputs": [],
   "source": [
    "[importlib.reload(module) for module in modules]\n",
    "sage_wallets_config = yaml.safe_load(Path('../config/sage_wallets_config.yaml').read_text(encoding='utf-8'))\n",
    "sage_wallets_modeling_config = yaml.safe_load(Path('../config/sage_wallets_modeling_config.yaml').read_text(encoding='utf-8'))\n",
    "\n",
    "\n",
    "date_suffixes = [\n",
    "    '231008',\n",
    "    # '240306'\n",
    "]\n",
    "date_suffix = date_suffixes[0]"
   ]
  },
  {
   "cell_type": "code",
   "execution_count": null,
   "metadata": {},
   "outputs": [],
   "source": [
    "y_test_pred = sime.load_bt_sagemaker_predictions('test', sage_wallets_config, date_suffix)\n",
    "y_val_pred = sime.load_bt_sagemaker_predictions('val', sage_wallets_config, date_suffix)"
   ]
  },
  {
   "cell_type": "code",
   "execution_count": null,
   "metadata": {},
   "outputs": [],
   "source": [
    "# Single function call for complete evaluation\n",
    "evaluator = sime.run_sagemaker_evaluation(\n",
    "    sage_wallets_config,\n",
    "    sage_wallets_modeling_config,\n",
    "    date_suffix,\n",
    "    y_test_pred,\n",
    "    y_val_pred\n",
    ")"
   ]
  },
  {
   "cell_type": "code",
   "execution_count": null,
   "metadata": {},
   "outputs": [],
   "source": [
    "evaluator.y_validation"
   ]
  },
  {
   "cell_type": "code",
   "execution_count": null,
   "metadata": {},
   "outputs": [],
   "source": [
    "evaluator.y_validation_pred_proba"
   ]
  },
  {
   "cell_type": "code",
   "execution_count": null,
   "metadata": {},
   "outputs": [],
   "source": [
    "from sklearn.metrics import roc_curve, auc\n",
    "import matplotlib.pyplot as plt\n",
    "\n",
    "fpr, tpr, _ = roc_curve(evaluator.y_validation, evaluator.y_validation_pred_proba)\n",
    "roc_auc = auc(fpr, tpr)\n",
    "\n",
    "plt.figure(figsize=(8, 6))\n",
    "plt.plot(fpr, tpr, color='darkorange', lw=2, label=f'ROC curve (AUC = {roc_auc:.3f})')\n",
    "plt.plot([0, 1], [0, 1], color='navy', lw=2, linestyle='--', label='Random classifier')\n",
    "plt.xlim([0.0, 1.0])\n",
    "plt.ylim([0.0, 1.05])\n",
    "plt.xlabel('False Positive Rate')\n",
    "plt.ylabel('True Positive Rate')\n",
    "plt.title('ROC Curve - Validation Set')\n",
    "plt.legend(loc=\"lower right\")\n",
    "plt.grid(True, alpha=0.3)\n",
    "plt.show()"
   ]
  },
  {
   "cell_type": "code",
   "execution_count": null,
   "metadata": {},
   "outputs": [],
   "source": [
    "evaluator.summary_report()\n",
    "evaluator.plot_wallet_evaluation()\n"
   ]
  },
  {
   "cell_type": "code",
   "execution_count": null,
   "metadata": {},
   "outputs": [],
   "source": [
    "def load_sagemaker_predictions(\n",
    "    data_type: str,\n",
    "    sage_wallets_config: dict,\n",
    "    sage_wallets_modeling_config: dict,\n",
    "    date_suffix: str\n",
    ") -> tuple[pd.Series, pd.Series]:\n",
    "    \"\"\"\n",
    "    Load SageMaker predictions and corresponding actuals for a given data type.\n",
    "\n",
    "    Params:\n",
    "    - data_type (str): Either 'test' or 'val'\n",
    "    - sage_wallets_config (dict): Configuration for training data paths\n",
    "    - sage_wallets_modeling_config (dict): Configuration for model parameters\n",
    "    - date_suffix (str): Date suffix for file naming\n",
    "\n",
    "    Returns:\n",
    "    - tuple: (predictions_series, actuals_series) with aligned indices\n",
    "    \"\"\"\n",
    "    # Load predictions\n",
    "    pred_path = Path(sage_wallets_modeling_config['metaparams']['endpoint_preds_dir']) / \\\n",
    "                f\"endpoint_y_pred_{data_type}_{sage_wallets_config['training_data']['local_directory']}_{date_suffix}.csv\"\n",
    "    pred_df = pd.read_csv(pred_path)\n",
    "\n",
    "    if 'score' not in pred_df.columns:\n",
    "        raise ValueError(f\"SageMaker predictions are missing the 'score' column. \"\n",
    "                        f\"Available columns: {pred_df.columns}\")\n",
    "    pred_series = pred_df['score']\n",
    "\n",
    "    # Load actuals\n",
    "    training_data_path = (\n",
    "        Path(f\"../s3_uploads\") / \"wallet_training_data_queue\" /\n",
    "        f\"{sage_wallets_config['training_data']['local_directory']}\"\n",
    "    )\n",
    "    actuals_path = training_data_path / f\"y_{data_type}_{date_suffix}.parquet\"\n",
    "    actuals_df = pd.read_parquet(actuals_path)\n",
    "\n",
    "    if len(actuals_df.columns) > 1:\n",
    "        raise ValueError(f\"Found unexpected columns in y_{data_type}_df. \"\n",
    "                        f\"Expected 1 column, found {actuals_df.columns}.\")\n",
    "    actuals_series = actuals_df.iloc[:, 0]\n",
    "\n",
    "    # Validate lengths and align indices\n",
    "    if len(pred_series) != len(actuals_series):\n",
    "        raise ValueError(f\"Length of y_{data_type}_pred ({len(pred_series)}) does \"\n",
    "                        f\"not match length of y_{data_type}_true ({len(actuals_series)}).\")\n",
    "\n",
    "    pred_series.index = actuals_series.index\n",
    "\n",
    "    return pred_series, actuals_series"
   ]
  },
  {
   "cell_type": "code",
   "execution_count": null,
   "metadata": {},
   "outputs": [],
   "source": [
    "# Load predictions and actuals\n",
    "y_test_pred_series, y_test_true_series = load_sagemaker_predictions(\n",
    "    'test', sage_wallets_config, sage_wallets_modeling_config, date_suffix\n",
    ")\n",
    "y_val_pred_series, y_val_true_series = load_sagemaker_predictions(\n",
    "    'val', sage_wallets_config, sage_wallets_modeling_config, date_suffix\n",
    ")\n",
    "\n",
    "# Load remaining training data\n",
    "training_data_path = (\n",
    "    Path(f\"../s3_uploads\") / \"wallet_training_data_queue\" /\n",
    "    f\"{sage_wallets_config['training_data']['local_directory']}\"\n",
    ")\n",
    "X_train = pd.read_parquet(training_data_path / f\"x_train_{date_suffix}.parquet\")\n",
    "y_train = pd.read_parquet(training_data_path / f\"y_train_{date_suffix}.parquet\")\n",
    "X_test = pd.read_parquet(training_data_path / f\"x_test_{date_suffix}.parquet\")\n",
    "X_val = pd.read_parquet(training_data_path / f\"x_val_{date_suffix}.parquet\")\n",
    "\n",
    "# Identify target variable and model type\n",
    "target_variable = y_val_true_series.name or y_train.columns[0]\n",
    "objective = sage_wallets_modeling_config['training']['hyperparameters']['objective']\n",
    "model_type = 'regression' if objective[:3] == 'reg' else 'unknown'"
   ]
  },
  {
   "cell_type": "code",
   "execution_count": null,
   "metadata": {},
   "outputs": [],
   "source": [
    "# Create model_id and modeling_config\n",
    "model_id = f\"sagemaker_{sage_wallets_config['training_data']['local_directory']}_{date_suffix}\"\n",
    "\n",
    "modeling_config = {\n",
    "    'target_variable': target_variable,\n",
    "    'model_type': model_type,\n",
    "    'returns_winsorization': 0.005,  # Default for winsorizing returns\n",
    "    'training_data': {\n",
    "        'modeling_period_duration': 30  # Default performance window\n",
    "    },\n",
    "    'sagemaker_metadata': {\n",
    "        'objective': objective,\n",
    "        'local_directory': sage_wallets_config['training_data']['local_directory'],\n",
    "        'date_suffix': date_suffix\n",
    "    }\n",
    "}\n",
    "\n",
    "# Create minimal wallet_model_results for SageMaker evaluation\n",
    "wallet_model_results = {\n",
    "    'model_id': model_id,\n",
    "    'modeling_config': modeling_config,\n",
    "    'model_type': model_type,\n",
    "\n",
    "    # Training data\n",
    "    'X_train': X_train,\n",
    "    'X_test': X_test,\n",
    "    'y_train': y_train,\n",
    "    'y_test': y_test_true_series,\n",
    "    'y_pred': y_test_pred_series,\n",
    "    'training_cohort_pred': None,\n",
    "    'training_cohort_actuals': None,\n",
    "\n",
    "    # Validation data\n",
    "    'X_validation': X_val,\n",
    "    'y_validation': y_val_true_series,\n",
    "    'y_validation_pred': y_val_pred_series,\n",
    "    'validation_target_vars_df': None,\n",
    "\n",
    "    # Fixed mock pipeline\n",
    "    'pipeline': type('MockPipeline', (), {\n",
    "        'named_steps': {'estimator': type('MockModel', (), {\n",
    "            'get_params': lambda self: {'objective': objective}  # Accept self argument\n",
    "        })()},\n",
    "        '__getitem__': lambda self, key: type('MockTransformer', (), {\n",
    "            'transform': lambda self, X: X  # Accept self argument\n",
    "        })()\n",
    "    })()\n",
    "}\n",
    "\n",
    "# Create evaluator\n",
    "wallet_evaluator = wime.RegressorEvaluator(wallet_model_results)\n",
    "\n",
    "# Run basic evaluation\n",
    "wallet_evaluator.summary_report()\n",
    "wallet_evaluator.plot_wallet_evaluation()"
   ]
  },
  {
   "cell_type": "code",
   "execution_count": null,
   "metadata": {},
   "outputs": [],
   "source": []
  },
  {
   "cell_type": "code",
   "execution_count": null,
   "metadata": {},
   "outputs": [],
   "source": [
    "target_variable"
   ]
  },
  {
   "cell_type": "code",
   "execution_count": null,
   "metadata": {},
   "outputs": [],
   "source": []
  }
 ],
 "metadata": {
  "kernelspec": {
   "display_name": ".sage_venv",
   "language": "python",
   "name": "python3"
  },
  "language_info": {
   "codemirror_mode": {
    "name": "ipython",
    "version": 3
   },
   "file_extension": ".py",
   "mimetype": "text/x-python",
   "name": "python",
   "nbconvert_exporter": "python",
   "pygments_lexer": "ipython3",
   "version": "3.11.9"
  }
 },
 "nbformat": 4,
 "nbformat_minor": 2
}
