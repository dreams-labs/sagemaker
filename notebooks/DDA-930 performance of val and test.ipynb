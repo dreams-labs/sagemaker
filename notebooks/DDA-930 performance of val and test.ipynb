{
 "cells": [
  {
   "cell_type": "markdown",
   "metadata": {},
   "source": [
    "### start"
   ]
  },
  {
   "cell_type": "code",
   "execution_count": 24,
   "metadata": {},
   "outputs": [
    {
     "name": "stderr",
     "output_type": "stream",
     "text": [
      "\u001b[0m[03/Aug/25 18:04:14] INFO [utils.export_code:1663] Consolidation complete. All files are saved in temp/sagemaker_code.py\u001b[0m\n",
      "\u001b[92m[03/Aug/25 18:04:14] MILESTONE [1989536963.<module>:136] Good morning, let's get to work\u001b[0m\n"
     ]
    }
   ],
   "source": [
    "# pyright: reportMissingImports=false\n",
    "# pyright: reportMissingModuleSource=false\n",
    "\n",
    "import uuid\n",
    "import random\n",
    "import hashlib\n",
    "import os\n",
    "import sys\n",
    "import gc\n",
    "import time\n",
    "import copy\n",
    "import logging\n",
    "import re\n",
    "from itertools import chain,combinations\n",
    "import pdb\n",
    "import math\n",
    "from pathlib import Path\n",
    "import datetime\n",
    "from datetime import datetime,timedelta\n",
    "import json\n",
    "import warnings\n",
    "import yaml\n",
    "from typing import Dict,Union,List,Any,Tuple\n",
    "import pytest\n",
    "import importlib\n",
    "from dotenv import load_dotenv\n",
    "import pandas as pd\n",
    "import numpy as np\n",
    "import IPython\n",
    "import requests\n",
    "import warnings\n",
    "import boto3\n",
    "import matplotlib as plt\n",
    "import sklearn\n",
    "\n",
    "# load_dotenv(Path(\"../../../Local/.env\"))\n",
    "\n",
    "# Custom format function for displaying |numbers/\n",
    "pd.set_option('display.float_format', lambda x: f'{x:.12g}')\n",
    "# pd.reset_option('display.float_format')\n",
    "\n",
    "# Suppress warnings\n",
    "os.environ['PYDEVD_DISABLE_FILE_VALIDATION'] = '1'\n",
    "warnings.filterwarnings('ignore', message='.*frozen modules.*')\n",
    "warnings.filterwarnings(\"ignore\", message=\"MallocStackLogging\")\n",
    "\n",
    "# silence pygame donation request\n",
    "os.environ['PYGAME_HIDE_SUPPORT_PROMPT'] = \"hide\"\n",
    "os.environ['LOGGING_FILE'] = \"../../../Local/logs/wallet_modeling.log\"\n",
    "os.environ['NOTIFICATION_SOUNDS_DIR'] = \"../../../Local\"\n",
    "\n",
    "# Dark mode charts\n",
    "plt.rcParams['figure.facecolor'] = '#181818'  # Custom background color (dark gray in this case)\n",
    "plt.rcParams['axes.facecolor'] = '#181818'\n",
    "plt.rcParams['text.color'] = '#afc6ba'\n",
    "plt.rcParams['axes.labelcolor'] = '#afc6ba'\n",
    "plt.rcParams['xtick.color'] = '#afc6ba'\n",
    "plt.rcParams['ytick.color'] = '#afc6ba'\n",
    "plt.rcParams['axes.titlecolor'] = '#afc6ba'\n",
    "plt.rcParams['text.usetex'] = False\n",
    "plt.rcParams['mathtext.default'] = 'regular'\n",
    "\n",
    "# import local modules\n",
    "# pyright: reportMissingImports=false\n",
    "sys.path.append('../src')\n",
    "\n",
    "import sage_utils.config_validation as ucv\n",
    "import sage_utils.s3_utils as s3u\n",
    "\n",
    "import sage_wallet_insights.model_evaluation as sime\n",
    "\n",
    "import sage_wallet_modeling.wallet_modeler as wm\n",
    "from sage_wallet_modeling.wallet_preprocessor import SageWalletsPreprocessor\n",
    "import sage_wallet_modeling.wallet_script_modeler as sm\n",
    "import sage_wallet_modeling.workflow_orchestrator as wo\n",
    "\n",
    "import script_modeling.entry_helpers as h\n",
    "# import script_modeling.temporal_cv_model_entry as tme\n",
    "\n",
    "\n",
    "# import data-science modules\n",
    "sys.path.append(str(Path(\"..\") / \"..\" / \"data-science\" / \"src\"))\n",
    "import wallet_insights.model_evaluation as wime\n",
    "import utils as u\n",
    "from utils import ConfigError\n",
    "\n",
    "\n",
    "\n",
    "# reload all modules\n",
    "modules = [\n",
    "    ucv, s3u,\n",
    "    sime,\n",
    "    wm, sm, wo,\n",
    "    h,\n",
    "    wime,\n",
    "    u,\n",
    "]\n",
    "\n",
    "# import utils as u\n",
    "# Set the custom error handler\n",
    "ipython = IPython.get_ipython()\n",
    "# ipython.set_custom_exc((Exception,), u.notify_on_failure)\n",
    "\n",
    "player = u.AmbientPlayer()\n",
    "player.stop_all_players()\n",
    "\n",
    "# configure logger\n",
    "logger = u.setup_notebook_logger('../logs/notebook_logs.log')\n",
    "logger.setLevel(logging.INFO)\n",
    "\n",
    "from IPython.core import ultratb\n",
    "ultratb.VerboseTB._tb_highlight = \"bg:#b45827\"\n",
    "\n",
    "\n",
    "# load all configs\n",
    "sage_wallets_config = ucv.load_sage_wallets_config(Path('../config/sage_wallets_config.yaml'))\n",
    "sage_wallets_modeling_config = ucv.load_sage_wallets_modeling_config(Path('../config/sage_wallets_modeling_config.yaml'))\n",
    "\n",
    "\n",
    "u.export_code(\n",
    "    code_directories=[\n",
    "        # 'config_models',\n",
    "        # 'sage_wallet_insights',\n",
    "        'sage_wallet_modeling',\n",
    "        'script_modeling',\n",
    "        # 'sage_utils',\n",
    "    ],\n",
    "    # include_config = True,\n",
    "    # ipynb_notebook = 'DDA-769 coin model score dist toggle.ipynb'\n",
    "    output_file=\"temp/sagemaker_code.py\"\n",
    ")\n",
    "\n",
    "[importlib.reload(module) for module in modules]\n",
    "u.notify('retro')\n",
    "\n",
    "logger.milestone(\"Good morning, let's get to work\")"
   ]
  },
  {
   "cell_type": "markdown",
   "metadata": {},
   "source": [
    "# Model Training"
   ]
  },
  {
   "cell_type": "markdown",
   "metadata": {},
   "source": [
    "## Multi Model Sequence"
   ]
  },
  {
   "cell_type": "markdown",
   "metadata": {},
   "source": [
    "### Initiate orchestrator"
   ]
  },
  {
   "cell_type": "code",
   "execution_count": null,
   "metadata": {},
   "outputs": [],
   "source": [
    "[importlib.reload(module) for module in modules]\n",
    "sage_wallets_config = yaml.safe_load(Path('../config/sage_wallets_config.yaml').read_text(encoding='utf-8'))\n",
    "sage_wallets_modeling_config = yaml.safe_load(Path('../config/sage_wallets_modeling_config.yaml').read_text(encoding='utf-8'))\n",
    "\n",
    "\n",
    "date_suffixes = [\n",
    "    '230908',\n",
    "    '231008',\n",
    "    '231107',\n",
    "    '231207',\n",
    "    '240106',\n",
    "    '240205',\n",
    "    '240306',\n",
    "    '240405',\n",
    "    '240505',\n",
    "    '240604',\n",
    "    '240704',\n",
    "    '240803',\n",
    "    '240902',\n",
    "    '241002',\n",
    "    '241201',\n",
    "    '241101',\n",
    "    '241231',\n",
    "    '250130',\n",
    "    '250301',\n",
    "]\n",
    "workflow_orch = wo.WalletWorkflowOrchestrator(sage_wallets_config,sage_wallets_modeling_config)"
   ]
  },
  {
   "cell_type": "markdown",
   "metadata": {},
   "source": [
    "### Load, preprocess, and upload all data"
   ]
  },
  {
   "cell_type": "markdown",
   "metadata": {},
   "source": [
    "#### load data"
   ]
  },
  {
   "cell_type": "code",
   "execution_count": null,
   "metadata": {},
   "outputs": [],
   "source": [
    "[importlib.reload(module) for module in modules]\n",
    "sage_wallets_config = yaml.safe_load(Path('../config/sage_wallets_config.yaml').read_text(encoding='utf-8'))\n",
    "sage_wallets_modeling_config = yaml.safe_load(Path('../config/sage_wallets_modeling_config.yaml').read_text(encoding='utf-8'))\n",
    "\n",
    "workflow_orch.load_all_training_data(date_suffixes)"
   ]
  },
  {
   "cell_type": "code",
   "execution_count": null,
   "metadata": {},
   "outputs": [],
   "source": [
    "workflow_orch.training_data['230908']['x_train'].index.get_level_values('epoch_start_date').max()"
   ]
  },
  {
   "cell_type": "markdown",
   "metadata": {},
   "source": [
    "##### inspect features"
   ]
  },
  {
   "cell_type": "code",
   "execution_count": null,
   "metadata": {},
   "outputs": [],
   "source": [
    "# Create combined NaN count and describe statistics\n",
    "first_key = next(iter(workflow_orch.training_data))\n",
    "nan_counts = workflow_orch.training_data[first_key]['x_train'].isna().sum()\n",
    "describe_stats = workflow_orch.training_data[first_key]['x_train'].describe().T\n",
    "\n",
    "# Combine into single DataFrame\n",
    "combined_stats = pd.concat([\n",
    "    nan_counts.rename('nan_count'),\n",
    "    describe_stats\n",
    "], axis=1).sort_index()\n",
    "\n",
    "u.display_full(combined_stats.sort_index())"
   ]
  },
  {
   "cell_type": "markdown",
   "metadata": {},
   "source": [
    "#### preprocess all data"
   ]
  },
  {
   "cell_type": "code",
   "execution_count": null,
   "metadata": {},
   "outputs": [],
   "source": [
    "preprocessed_by_date = workflow_orch.preprocess_all_training_data()"
   ]
  },
  {
   "cell_type": "code",
   "execution_count": null,
   "metadata": {},
   "outputs": [],
   "source": [
    "preprocessed_by_date.keys()"
   ]
  },
  {
   "cell_type": "code",
   "execution_count": null,
   "metadata": {},
   "outputs": [],
   "source": [
    "preprocessed_by_date['230908'].keys()"
   ]
  },
  {
   "cell_type": "code",
   "execution_count": null,
   "metadata": {},
   "outputs": [],
   "source": [
    "preprocessed_by_date['230908']['train']"
   ]
  },
  {
   "cell_type": "markdown",
   "metadata": {},
   "source": [
    "#### upload all data"
   ]
  },
  {
   "cell_type": "code",
   "execution_count": null,
   "metadata": {},
   "outputs": [],
   "source": [
    "# Upload and retrieve URIs\n",
    "workflow_orch.upload_all_training_data(overwrite_existing=True)\n",
    "s3_uris = workflow_orch.retrieve_training_data_uris(date_suffixes)"
   ]
  },
  {
   "cell_type": "markdown",
   "metadata": {},
   "source": [
    "### Train all models"
   ]
  },
  {
   "cell_type": "code",
   "execution_count": null,
   "metadata": {},
   "outputs": [],
   "source": [
    "workflow_orch.load_all_training_data(date_suffixes)\n",
    "modeling_results = workflow_orch.train_all_models()"
   ]
  },
  {
   "cell_type": "markdown",
   "metadata": {},
   "source": [
    "### Predict with all models"
   ]
  },
  {
   "cell_type": "code",
   "execution_count": null,
   "metadata": {},
   "outputs": [],
   "source": [
    "[importlib.reload(module) for module in modules]\n",
    "sage_wallets_config = yaml.safe_load(Path('../config/sage_wallets_config.yaml').read_text(encoding='utf-8'))\n",
    "sage_wallets_modeling_config = yaml.safe_load(Path('../config/sage_wallets_modeling_config.yaml').read_text(encoding='utf-8'))\n",
    "\n",
    "\n",
    "date_suffixes = [\n",
    "    '231008',\n",
    "    '231107',\n",
    "    '240306',\n",
    "    '250301'\n",
    "]\n",
    "workflow_orch = wo.WalletWorkflowOrchestrator(sage_wallets_config,sage_wallets_modeling_config)\n",
    "workflow_orch.load_all_training_data(date_suffixes)\n",
    "s3_uris = workflow_orch.retrieve_training_data_uris(date_suffixes)"
   ]
  },
  {
   "cell_type": "code",
   "execution_count": null,
   "metadata": {},
   "outputs": [],
   "source": [
    "result = workflow_orch.predict_with_all_models()"
   ]
  },
  {
   "cell_type": "markdown",
   "metadata": {},
   "source": [
    "### Evaluate all models"
   ]
  },
  {
   "cell_type": "code",
   "execution_count": null,
   "metadata": {},
   "outputs": [],
   "source": [
    "[importlib.reload(module) for module in modules]\n",
    "sage_wallets_config = yaml.safe_load(Path('../config/sage_wallets_config.yaml').read_text(encoding='utf-8'))\n",
    "sage_wallets_modeling_config = yaml.safe_load(Path('../config/sage_wallets_modeling_config.yaml').read_text(encoding='utf-8'))\n",
    "\n",
    "\n",
    "date_suffixes = [\n",
    "    '231008',\n",
    "    '231107',\n",
    "    '240306',\n",
    "    '250301'\n",
    "]\n",
    "workflow_orch = wo.WalletWorkflowOrchestrator(sage_wallets_config,sage_wallets_modeling_config)\n",
    "workflow_orch.load_all_training_data(date_suffixes)\n",
    "\n",
    "evaluators = workflow_orch.evaluate_all_models()\n"
   ]
  },
  {
   "cell_type": "code",
   "execution_count": null,
   "metadata": {},
   "outputs": [],
   "source": [
    "for e in evaluators:\n",
    "    evaluators[e].plot_wallet_evaluation()"
   ]
  },
  {
   "cell_type": "markdown",
   "metadata": {},
   "source": [
    "## Concatenated Model Sequence"
   ]
  },
  {
   "cell_type": "code",
   "execution_count": 6,
   "metadata": {},
   "outputs": [
    {
     "name": "stderr",
     "output_type": "stream",
     "text": [
      "\u001b[0m[03/Aug/25 17:06:02] INFO [workflow_orchestrator.load_all_training_data:118] Auto-detected date_suffixes from config: ['220913', '221013', '221112', '221212', '230111', '230210', '230312', '230411', '230511', '230610', '230710', '230809', '230908', '231008', '231107', '231207', '240106', '240205', '240306', '240405', '240505', '240604', '240704', '240803', '240902', '241002', '241101', '241201', '241231', '250130', '250301', '250331', '250430', '250530']\u001b[0m\n",
      "\u001b[92m[03/Aug/25 17:06:02] MILESTONE [workflow_orchestrator.load_all_training_data:138] <PROD> Loading training data for 34 periods: ['220913', '221013', '221112', '221212', '230111', '230210', '230312', '230411', '230511', '230610', '230710', '230809', '230908', '231008', '231107', '231207', '240106', '240205', '240306', '240405', '240505', '240604', '240704', '240803', '240902', '241002', '241101', '241201', '241231', '250130', '250301', '250331', '250430', '250530']\u001b[0m\n",
      "\u001b[0m[03/Aug/25 17:06:06] INFO [workflow_orchestrator.load_all_training_data:154] Training data loaded successfully: 4,108,964 total rows and 1 offsets for each date_suffix.\u001b[0m\n"
     ]
    }
   ],
   "source": [
    "[importlib.reload(module) for module in modules]\n",
    "sage_wallets_config = yaml.safe_load(Path('../config/sage_wallets_config.yaml').read_text(encoding='utf-8'))\n",
    "sage_wallets_modeling_config = yaml.safe_load(Path('../config/sage_wallets_modeling_config.yaml').read_text(encoding='utf-8'))\n",
    "\n",
    "\n",
    "workflow_orch = wo.WalletWorkflowOrchestrator(\n",
    "    sage_wallets_config,\n",
    "    sage_wallets_modeling_config\n",
    ")\n",
    "workflow_orch.load_all_training_data()"
   ]
  },
  {
   "cell_type": "markdown",
   "metadata": {},
   "source": [
    "#### preprocess and concatenate"
   ]
  },
  {
   "cell_type": "code",
   "execution_count": null,
   "metadata": {},
   "outputs": [],
   "source": [
    "workflow_orch.concatenate_all_preprocessed_data(reprocess_data=False)"
   ]
  },
  {
   "cell_type": "markdown",
   "metadata": {},
   "source": [
    "#### upload"
   ]
  },
  {
   "cell_type": "code",
   "execution_count": null,
   "metadata": {},
   "outputs": [],
   "source": [
    "concat_uris = workflow_orch.upload_concatenated_training_data(overwrite_existing=True)"
   ]
  },
  {
   "cell_type": "markdown",
   "metadata": {},
   "source": [
    "#### train"
   ]
  },
  {
   "cell_type": "code",
   "execution_count": null,
   "metadata": {},
   "outputs": [
    {
     "name": "stderr",
     "output_type": "stream",
     "text": [
      "\u001b[0m[03/Aug/25 18:04:19] INFO [workflow_orchestrator.upload_concatenated_training_data:327] Beginning upload of concatenated training data...\u001b[0m\n"
     ]
    },
    {
     "name": "stderr",
     "output_type": "stream",
     "text": [
      "\u001b[0m[03/Aug/25 18:04:23] INFO [workflow_orchestrator.upload_concatenated_training_data:340] File exists, skipping upload of concatenated split 'train': training-data-concatenated/dda-930-vt-perf/train.csv\u001b[0m\n",
      "\u001b[0m[03/Aug/25 18:04:23] INFO [workflow_orchestrator.upload_concatenated_training_data:340] File exists, skipping upload of concatenated split 'eval': training-data-concatenated/dda-930-vt-perf/eval.csv\u001b[0m\n",
      "\u001b[0m[03/Aug/25 18:04:23] INFO [workflow_orchestrator.upload_concatenated_training_data:340] File exists, skipping upload of concatenated split 'test': training-data-concatenated/dda-930-vt-perf/test.csv\u001b[0m\n",
      "\u001b[0m[03/Aug/25 18:04:23] INFO [workflow_orchestrator.upload_concatenated_training_data:340] File exists, skipping upload of concatenated split 'val': training-data-concatenated/dda-930-vt-perf/val.csv\u001b[0m\n",
      "\u001b[0m[03/Aug/25 18:04:23] INFO [workflow_orchestrator.None:296] (3.7s) Completed upload_concatenated_training_data.\u001b[0m\n",
      "\u001b[0m[03/Aug/25 18:04:23] INFO [wallet_script_modeler.initiate_script_modeling:48] HPO enabled for concat, launching hyperparameter optimization...\u001b[0m\n",
      "\u001b[0m[03/Aug/25 18:04:23] INFO [wallet_script_modeler._get_hpo_parameter_ranges:403] HPO will tune: ['max_depth', 'min_child_weight', 'alpha', 'lambda']\u001b[0m\n",
      "\u001b[0m[03/Aug/25 18:04:23] INFO [image_uris._validate_py_version_and_set_if_needed:603] Ignoring unnecessary Python version: py3.\u001b[0m\n",
      "\u001b[0m[03/Aug/25 18:04:23] INFO [image_uris._processor:530] Ignoring unnecessary instance type: ml.m6i.2xlarge.\u001b[0m\n",
      "\u001b[0m[03/Aug/25 18:04:23] INFO [wallet_script_modeler._launch_hyperparameter_optimization:224] Launching HPO job: whpo-dda-930--concat-0803-180423\u001b[0m\n",
      "\u001b[0m[03/Aug/25 18:04:23] INFO [wallet_script_modeler._launch_hyperparameter_optimization:225] Max jobs: 60, Max parallel: 10\u001b[0m\n",
      "\u001b[0m[03/Aug/25 18:04:23] INFO [wallet_script_modeler._launch_hyperparameter_optimization:226] Optimizing: validation:aucpr\u001b[0m\n",
      "\u001b[93m[03/Aug/25 18:04:24] WARNING [estimator.model_data:1945] No finished training job found associated with this estimator. Please make sure this estimator is only used for building workflow config\u001b[0m\n",
      "\u001b[0m[03/Aug/25 18:04:24] INFO [session.submit:3394] Creating hyperparameter tuning job with name: whpo-dda-930--concat-0803-180423\u001b[0m\n"
     ]
    },
    {
     "name": "stdout",
     "output_type": "stream",
     "text": [
      "........................................................................................................................................................................................................................"
     ]
    }
   ],
   "source": [
    "[importlib.reload(module) for module in modules]\n",
    "sage_wallets_config = yaml.safe_load(Path('../config/sage_wallets_config.yaml').read_text(encoding='utf-8'))\n",
    "sage_wallets_modeling_config = yaml.safe_load(Path('../config/sage_wallets_modeling_config.yaml').read_text(encoding='utf-8'))\n",
    "\n",
    "\n",
    "workflow_orch = wo.WalletWorkflowOrchestrator(\n",
    "    sage_wallets_config,\n",
    "    sage_wallets_modeling_config\n",
    ")\n",
    "concat_uris = workflow_orch.upload_concatenated_training_data(overwrite_existing=False)\n",
    "modeling_results = workflow_orch.train_concatenated_offsets_model(concat_uris)"
   ]
  },
  {
   "cell_type": "code",
   "execution_count": null,
   "metadata": {},
   "outputs": [],
   "source": [
    "u.notify('logo_warm_delayed_tech')"
   ]
  },
  {
   "cell_type": "code",
   "execution_count": 10,
   "metadata": {},
   "outputs": [
    {
     "name": "stdout",
     "output_type": "stream",
     "text": [
      "Job details:\n",
      "Secondary status: Stopped\n",
      "Training start time: 2025-08-03 17:09:50.178000-07:00\n",
      "Training end time: 2025-08-03 17:09:56.208000-07:00\n",
      "\n",
      "Status transitions:\n",
      "  Downloading: Downloading input data\n",
      "  Stopping: Stopping the training job\n",
      "  Stopped: Resource retained for reuse\n"
     ]
    }
   ],
   "source": [
    "# Get CloudWatch logs for one of the failed jobs\n",
    "job_name = 'whpo-dda-930--concat-0803-170705-013-6b51af6a'\n",
    "\n",
    "job_detail = sagemaker_client.describe_training_job(TrainingJobName=job_name)\n",
    "print(\"Job details:\")\n",
    "print(f\"Secondary status: {job_detail.get('SecondaryStatus', 'Unknown')}\")\n",
    "print(f\"Training start time: {job_detail.get('TrainingStartTime', 'Not started')}\")\n",
    "print(f\"Training end time: {job_detail.get('TrainingEndTime', 'Not ended')}\")\n",
    "\n",
    "# Check if there are any status transitions that might give us clues\n",
    "if 'SecondaryStatusTransitions' in job_detail:\n",
    "    print(\"\\nStatus transitions:\")\n",
    "    for transition in job_detail['SecondaryStatusTransitions'][-3:]:  # Last 3\n",
    "        print(f\"  {transition['Status']}: {transition.get('StatusMessage', 'No message')}\")"
   ]
  },
  {
   "cell_type": "markdown",
   "metadata": {},
   "source": [
    "#### evaluate HPO outcomes"
   ]
  },
  {
   "cell_type": "code",
   "execution_count": 113,
   "metadata": {},
   "outputs": [
    {
     "data": {
      "text/plain": [
       "{'hpo_job_name': 'whpo-dda-930--concat-0803-163628',\n",
       " 'best_training_job_name': 'whpo-dda-930--concat-0803-163628-001-716f34ab',\n",
       " 'best_objective_value': 0.5779299736022949,\n",
       " 'best_hyperparameters': {'_tuning_objective_metric': 'validation:aucpr',\n",
       "  'alpha': '1.9920005641230176',\n",
       "  'lambda': '10.918478518525195',\n",
       "  'sagemaker_container_log_level': '20',\n",
       "  'sagemaker_estimator_class_name': '\"XGBoost\"',\n",
       "  'sagemaker_estimator_module': '\"sagemaker.xgboost.estimator\"',\n",
       "  'sagemaker_job_name': '\"whpo-dda-930--concat-0803-163628\"',\n",
       "  'sagemaker_program': '\"single_model_entry.py\"',\n",
       "  'sagemaker_region': '\"us-west-2\"',\n",
       "  'sagemaker_submit_directory': '\"s3://wallet-script-models/whpo-dda-930--concat-0803-163628/source/sourcedir.tar.gz\"'},\n",
       " 'model_uri': 's3://wallet-script-models/hpo-outputs/dda-930-vt-perf/concat/whpo-dda-930--concat-0803-163628-001-716f34ab/output/model.tar.gz',\n",
       " 'hpo_status': 'Completed',\n",
       " 'total_training_jobs': 30}"
      ]
     },
     "execution_count": 113,
     "metadata": {},
     "output_type": "execute_result"
    }
   ],
   "source": [
    "[importlib.reload(module) for module in modules]\n",
    "sage_wallets_config = yaml.safe_load(Path('../config/sage_wallets_config.yaml').read_text(encoding='utf-8'))\n",
    "sage_wallets_modeling_config = yaml.safe_load(Path('../config/sage_wallets_modeling_config.yaml').read_text(encoding='utf-8'))\n",
    "\n",
    "\n",
    "workflow_orch = wo.WalletWorkflowOrchestrator(\n",
    "    sage_wallets_config,\n",
    "    sage_wallets_modeling_config\n",
    ")\n",
    "workflow_orch.get_hpo_results('concat')"
   ]
  },
  {
   "cell_type": "code",
   "execution_count": 61,
   "metadata": {},
   "outputs": [
    {
     "name": "stdout",
     "output_type": "stream",
     "text": [
      "whpo-dda-930--concat-0803-152743-002-58d34728\n"
     ]
    },
    {
     "data": {
      "text/html": [
       "<pre style=\"white-space:pre;overflow-x:auto;line-height:normal;font-family:Menlo,'DejaVu Sans Mono',consolas,'Courier New',monospace\"><span style=\"color: #ff0000; text-decoration-color: #ff0000\">╭─────────────────────────────── </span><span style=\"color: #ff0000; text-decoration-color: #ff0000; font-weight: bold\">Traceback </span><span style=\"color: #ff7f7f; text-decoration-color: #ff7f7f; font-weight: bold\">(most recent call last)</span><span style=\"color: #ff0000; text-decoration-color: #ff0000\"> ────────────────────────────────╮</span>\n",
       "<span style=\"color: #ff0000; text-decoration-color: #ff0000\">│</span> in &lt;module&gt;:10                                                                                   <span style=\"color: #ff0000; text-decoration-color: #ff0000\">│</span>\n",
       "<span style=\"color: #ff0000; text-decoration-color: #ff0000\">│</span>                                                                                                  <span style=\"color: #ff0000; text-decoration-color: #ff0000\">│</span>\n",
       "<span style=\"color: #ff0000; text-decoration-color: #ff0000\">│</span>   <span style=\"color: #7f7f7f; text-decoration-color: #7f7f7f\"> 7 </span>                                                                                            <span style=\"color: #ff0000; text-decoration-color: #ff0000\">│</span>\n",
       "<span style=\"color: #ff0000; text-decoration-color: #ff0000\">│</span>   <span style=\"color: #7f7f7f; text-decoration-color: #7f7f7f\"> 8 # The best parameters are in the hyperparameters columns</span>                                    <span style=\"color: #ff0000; text-decoration-color: #ff0000\">│</span>\n",
       "<span style=\"color: #ff0000; text-decoration-color: #ff0000\">│</span>   <span style=\"color: #7f7f7f; text-decoration-color: #7f7f7f\"> 9 </span><span style=\"color: #00ffff; text-decoration-color: #00ffff\">print</span>(best_params)                                                                          <span style=\"color: #ff0000; text-decoration-color: #ff0000\">│</span>\n",
       "<span style=\"color: #ff0000; text-decoration-color: #ff0000\">│</span> <span style=\"color: #800000; text-decoration-color: #800000\">❱ </span>10 <span style=\"color: #00ffff; text-decoration-color: #00ffff\">print</span>(<span style=\"font-weight: bold; text-decoration: underline\">best_job_df.loc[</span><span style=\"color: #0000ff; text-decoration-color: #0000ff; font-weight: bold; text-decoration: underline\">0</span><span style=\"font-weight: bold; text-decoration: underline\">, [</span><span style=\"color: #808000; text-decoration-color: #808000; font-weight: bold; text-decoration: underline\">'eta'</span><span style=\"font-weight: bold; text-decoration: underline\">, </span><span style=\"color: #808000; text-decoration-color: #808000; font-weight: bold; text-decoration: underline\">'max_depth'</span><span style=\"font-weight: bold; text-decoration: underline\">, </span><span style=\"color: #808000; text-decoration-color: #808000; font-weight: bold; text-decoration: underline\">'subsample'</span><span style=\"font-weight: bold; text-decoration: underline\">, </span><span style=\"color: #808000; text-decoration-color: #808000; font-weight: bold; text-decoration: underline\">'FinalObjectiveValue'</span><span style=\"font-weight: bold; text-decoration: underline\">]]</span>)         <span style=\"color: #ff0000; text-decoration-color: #ff0000\">│</span>\n",
       "<span style=\"color: #ff0000; text-decoration-color: #ff0000\">│</span>   <span style=\"color: #7f7f7f; text-decoration-color: #7f7f7f\">11 </span>                                                                                            <span style=\"color: #ff0000; text-decoration-color: #ff0000\">│</span>\n",
       "<span style=\"color: #ff0000; text-decoration-color: #ff0000\">│</span>                                                                                                  <span style=\"color: #ff0000; text-decoration-color: #ff0000\">│</span>\n",
       "<span style=\"color: #ff0000; text-decoration-color: #ff0000\">│</span> <span style=\"color: #7f7f7f; text-decoration-color: #7f7f7f\">/Users/jeremymeadow/DreamsData/.sage_venv/lib/python3.11/site-packages/pandas/core/</span><span style=\"font-weight: bold\">indexing.py</span>:1 <span style=\"color: #ff0000; text-decoration-color: #ff0000\">│</span>\n",
       "<span style=\"color: #ff0000; text-decoration-color: #ff0000\">│</span> 184 in __getitem__                                                                               <span style=\"color: #ff0000; text-decoration-color: #ff0000\">│</span>\n",
       "<span style=\"color: #ff0000; text-decoration-color: #ff0000\">│</span>                                                                                                  <span style=\"color: #ff0000; text-decoration-color: #ff0000\">│</span>\n",
       "<span style=\"color: #ff0000; text-decoration-color: #ff0000\">│</span>   <span style=\"color: #7f7f7f; text-decoration-color: #7f7f7f\">1181 </span><span style=\"color: #7f7f7f; text-decoration-color: #7f7f7f\">│   │   │   </span>key = <span style=\"color: #00ffff; text-decoration-color: #00ffff\">tuple</span>(com.apply_if_callable(x, <span style=\"color: #00ffff; text-decoration-color: #00ffff\">self</span>.obj) <span style=\"color: #0000ff; text-decoration-color: #0000ff\">for</span> x <span style=\"color: #ff00ff; text-decoration-color: #ff00ff\">in</span> key)                  <span style=\"color: #ff0000; text-decoration-color: #ff0000\">│</span>\n",
       "<span style=\"color: #ff0000; text-decoration-color: #ff0000\">│</span>   <span style=\"color: #7f7f7f; text-decoration-color: #7f7f7f\">1182 </span><span style=\"color: #7f7f7f; text-decoration-color: #7f7f7f\">│   │   │   </span><span style=\"color: #0000ff; text-decoration-color: #0000ff\">if</span> <span style=\"color: #00ffff; text-decoration-color: #00ffff\">self</span>._is_scalar_access(key):                                               <span style=\"color: #ff0000; text-decoration-color: #ff0000\">│</span>\n",
       "<span style=\"color: #ff0000; text-decoration-color: #ff0000\">│</span>   <span style=\"color: #7f7f7f; text-decoration-color: #7f7f7f\">1183 </span><span style=\"color: #7f7f7f; text-decoration-color: #7f7f7f\">│   │   │   │   </span><span style=\"color: #0000ff; text-decoration-color: #0000ff\">return</span> <span style=\"color: #00ffff; text-decoration-color: #00ffff\">self</span>.obj._get_value(*key, takeable=<span style=\"color: #00ffff; text-decoration-color: #00ffff\">self</span>._takeable)                 <span style=\"color: #ff0000; text-decoration-color: #ff0000\">│</span>\n",
       "<span style=\"color: #ff0000; text-decoration-color: #ff0000\">│</span> <span style=\"color: #800000; text-decoration-color: #800000\">❱ </span>1184 <span style=\"color: #7f7f7f; text-decoration-color: #7f7f7f\">│   │   │   </span><span style=\"color: #0000ff; text-decoration-color: #0000ff\">return</span> <span style=\"color: #00ffff; text-decoration-color: #00ffff; font-weight: bold; text-decoration: underline\">self</span><span style=\"font-weight: bold; text-decoration: underline\">._getitem_tuple(key)</span>                                               <span style=\"color: #ff0000; text-decoration-color: #ff0000\">│</span>\n",
       "<span style=\"color: #ff0000; text-decoration-color: #ff0000\">│</span>   <span style=\"color: #7f7f7f; text-decoration-color: #7f7f7f\">1185 </span><span style=\"color: #7f7f7f; text-decoration-color: #7f7f7f\">│   │   </span><span style=\"color: #0000ff; text-decoration-color: #0000ff\">else</span>:                                                                             <span style=\"color: #ff0000; text-decoration-color: #ff0000\">│</span>\n",
       "<span style=\"color: #ff0000; text-decoration-color: #ff0000\">│</span>   <span style=\"color: #7f7f7f; text-decoration-color: #7f7f7f\">1186 </span><span style=\"color: #7f7f7f; text-decoration-color: #7f7f7f\">│   │   │   </span><span style=\"color: #7f7f7f; text-decoration-color: #7f7f7f\"># we by definition only have the 0th axis</span>                                     <span style=\"color: #ff0000; text-decoration-color: #ff0000\">│</span>\n",
       "<span style=\"color: #ff0000; text-decoration-color: #ff0000\">│</span>   <span style=\"color: #7f7f7f; text-decoration-color: #7f7f7f\">1187 </span><span style=\"color: #7f7f7f; text-decoration-color: #7f7f7f\">│   │   │   </span>axis = <span style=\"color: #00ffff; text-decoration-color: #00ffff\">self</span>.axis <span style=\"color: #ff00ff; text-decoration-color: #ff00ff\">or</span> <span style=\"color: #0000ff; text-decoration-color: #0000ff\">0</span>                                                         <span style=\"color: #ff0000; text-decoration-color: #ff0000\">│</span>\n",
       "<span style=\"color: #ff0000; text-decoration-color: #ff0000\">│</span>                                                                                                  <span style=\"color: #ff0000; text-decoration-color: #ff0000\">│</span>\n",
       "<span style=\"color: #ff0000; text-decoration-color: #ff0000\">│</span> <span style=\"color: #7f7f7f; text-decoration-color: #7f7f7f\">/Users/jeremymeadow/DreamsData/.sage_venv/lib/python3.11/site-packages/pandas/core/</span><span style=\"font-weight: bold\">indexing.py</span>:1 <span style=\"color: #ff0000; text-decoration-color: #ff0000\">│</span>\n",
       "<span style=\"color: #ff0000; text-decoration-color: #ff0000\">│</span> 368 in _getitem_tuple                                                                            <span style=\"color: #ff0000; text-decoration-color: #ff0000\">│</span>\n",
       "<span style=\"color: #ff0000; text-decoration-color: #ff0000\">│</span>                                                                                                  <span style=\"color: #ff0000; text-decoration-color: #ff0000\">│</span>\n",
       "<span style=\"color: #ff0000; text-decoration-color: #ff0000\">│</span>   <span style=\"color: #7f7f7f; text-decoration-color: #7f7f7f\">1365 </span><span style=\"color: #7f7f7f; text-decoration-color: #7f7f7f\">│   </span><span style=\"color: #0000ff; text-decoration-color: #0000ff\">def</span><span style=\"color: #808080; text-decoration-color: #808080\"> </span><span style=\"color: #00ff00; text-decoration-color: #00ff00\">_getitem_tuple</span>(<span style=\"color: #00ffff; text-decoration-color: #00ffff\">self</span>, tup: <span style=\"color: #00ffff; text-decoration-color: #00ffff\">tuple</span>):                                                 <span style=\"color: #ff0000; text-decoration-color: #ff0000\">│</span>\n",
       "<span style=\"color: #ff0000; text-decoration-color: #ff0000\">│</span>   <span style=\"color: #7f7f7f; text-decoration-color: #7f7f7f\">1366 </span><span style=\"color: #7f7f7f; text-decoration-color: #7f7f7f\">│   │   </span><span style=\"color: #0000ff; text-decoration-color: #0000ff\">with</span> suppress(IndexingError):                                                     <span style=\"color: #ff0000; text-decoration-color: #ff0000\">│</span>\n",
       "<span style=\"color: #ff0000; text-decoration-color: #ff0000\">│</span>   <span style=\"color: #7f7f7f; text-decoration-color: #7f7f7f\">1367 </span><span style=\"color: #7f7f7f; text-decoration-color: #7f7f7f\">│   │   │   </span>tup = <span style=\"color: #00ffff; text-decoration-color: #00ffff\">self</span>._expand_ellipsis(tup)                                              <span style=\"color: #ff0000; text-decoration-color: #ff0000\">│</span>\n",
       "<span style=\"color: #ff0000; text-decoration-color: #ff0000\">│</span> <span style=\"color: #800000; text-decoration-color: #800000\">❱ </span>1368 <span style=\"color: #7f7f7f; text-decoration-color: #7f7f7f\">│   │   │   </span><span style=\"color: #0000ff; text-decoration-color: #0000ff\">return</span> <span style=\"color: #00ffff; text-decoration-color: #00ffff; font-weight: bold; text-decoration: underline\">self</span><span style=\"font-weight: bold; text-decoration: underline\">._getitem_lowerdim(tup)</span>                                            <span style=\"color: #ff0000; text-decoration-color: #ff0000\">│</span>\n",
       "<span style=\"color: #ff0000; text-decoration-color: #ff0000\">│</span>   <span style=\"color: #7f7f7f; text-decoration-color: #7f7f7f\">1369 </span><span style=\"color: #7f7f7f; text-decoration-color: #7f7f7f\">│   │   </span>                                                                                  <span style=\"color: #ff0000; text-decoration-color: #ff0000\">│</span>\n",
       "<span style=\"color: #ff0000; text-decoration-color: #ff0000\">│</span>   <span style=\"color: #7f7f7f; text-decoration-color: #7f7f7f\">1370 </span><span style=\"color: #7f7f7f; text-decoration-color: #7f7f7f\">│   │   </span><span style=\"color: #7f7f7f; text-decoration-color: #7f7f7f\"># no multi-index, so validate all of the indexers</span>                                 <span style=\"color: #ff0000; text-decoration-color: #ff0000\">│</span>\n",
       "<span style=\"color: #ff0000; text-decoration-color: #ff0000\">│</span>   <span style=\"color: #7f7f7f; text-decoration-color: #7f7f7f\">1371 </span><span style=\"color: #7f7f7f; text-decoration-color: #7f7f7f\">│   │   </span>tup = <span style=\"color: #00ffff; text-decoration-color: #00ffff\">self</span>._validate_tuple_indexer(tup)                                           <span style=\"color: #ff0000; text-decoration-color: #ff0000\">│</span>\n",
       "<span style=\"color: #ff0000; text-decoration-color: #ff0000\">│</span>                                                                                                  <span style=\"color: #ff0000; text-decoration-color: #ff0000\">│</span>\n",
       "<span style=\"color: #ff0000; text-decoration-color: #ff0000\">│</span> <span style=\"color: #7f7f7f; text-decoration-color: #7f7f7f\">/Users/jeremymeadow/DreamsData/.sage_venv/lib/python3.11/site-packages/pandas/core/</span><span style=\"font-weight: bold\">indexing.py</span>:1 <span style=\"color: #ff0000; text-decoration-color: #ff0000\">│</span>\n",
       "<span style=\"color: #ff0000; text-decoration-color: #ff0000\">│</span> 089 in _getitem_lowerdim                                                                         <span style=\"color: #ff0000; text-decoration-color: #ff0000\">│</span>\n",
       "<span style=\"color: #ff0000; text-decoration-color: #ff0000\">│</span>                                                                                                  <span style=\"color: #ff0000; text-decoration-color: #ff0000\">│</span>\n",
       "<span style=\"color: #ff0000; text-decoration-color: #ff0000\">│</span>   <span style=\"color: #7f7f7f; text-decoration-color: #7f7f7f\">1086 </span><span style=\"color: #7f7f7f; text-decoration-color: #7f7f7f\">│   │   │   │   </span><span style=\"color: #0000ff; text-decoration-color: #0000ff\">if</span> com.is_null_slice(new_key):                                            <span style=\"color: #ff0000; text-decoration-color: #ff0000\">│</span>\n",
       "<span style=\"color: #ff0000; text-decoration-color: #ff0000\">│</span>   <span style=\"color: #7f7f7f; text-decoration-color: #7f7f7f\">1087 </span><span style=\"color: #7f7f7f; text-decoration-color: #7f7f7f\">│   │   │   │   │   </span><span style=\"color: #0000ff; text-decoration-color: #0000ff\">return</span> section                                                        <span style=\"color: #ff0000; text-decoration-color: #ff0000\">│</span>\n",
       "<span style=\"color: #ff0000; text-decoration-color: #ff0000\">│</span>   <span style=\"color: #7f7f7f; text-decoration-color: #7f7f7f\">1088 </span><span style=\"color: #7f7f7f; text-decoration-color: #7f7f7f\">│   │   │   │   </span><span style=\"color: #7f7f7f; text-decoration-color: #7f7f7f\"># This is an elided recursive call to iloc/loc</span>                            <span style=\"color: #ff0000; text-decoration-color: #ff0000\">│</span>\n",
       "<span style=\"color: #ff0000; text-decoration-color: #ff0000\">│</span> <span style=\"color: #800000; text-decoration-color: #800000\">❱ </span>1089 <span style=\"color: #7f7f7f; text-decoration-color: #7f7f7f\">│   │   │   │   </span><span style=\"color: #0000ff; text-decoration-color: #0000ff\">return</span> <span style=\"color: #00ffff; text-decoration-color: #00ffff; font-weight: bold; text-decoration: underline\">getattr</span><span style=\"font-weight: bold; text-decoration: underline\">(section, </span><span style=\"color: #00ffff; text-decoration-color: #00ffff; font-weight: bold; text-decoration: underline\">self</span><span style=\"font-weight: bold; text-decoration: underline\">.name)[new_key]</span>                               <span style=\"color: #ff0000; text-decoration-color: #ff0000\">│</span>\n",
       "<span style=\"color: #ff0000; text-decoration-color: #ff0000\">│</span>   <span style=\"color: #7f7f7f; text-decoration-color: #7f7f7f\">1090 </span><span style=\"color: #7f7f7f; text-decoration-color: #7f7f7f\">│   │   </span>                                                                                  <span style=\"color: #ff0000; text-decoration-color: #ff0000\">│</span>\n",
       "<span style=\"color: #ff0000; text-decoration-color: #ff0000\">│</span>   <span style=\"color: #7f7f7f; text-decoration-color: #7f7f7f\">1091 </span><span style=\"color: #7f7f7f; text-decoration-color: #7f7f7f\">│   │   </span><span style=\"color: #0000ff; text-decoration-color: #0000ff\">raise</span> IndexingError(<span style=\"color: #808000; text-decoration-color: #808000\">\"not applicable\"</span>)                                             <span style=\"color: #ff0000; text-decoration-color: #ff0000\">│</span>\n",
       "<span style=\"color: #ff0000; text-decoration-color: #ff0000\">│</span>   <span style=\"color: #7f7f7f; text-decoration-color: #7f7f7f\">1092 </span>                                                                                          <span style=\"color: #ff0000; text-decoration-color: #ff0000\">│</span>\n",
       "<span style=\"color: #ff0000; text-decoration-color: #ff0000\">│</span>                                                                                                  <span style=\"color: #ff0000; text-decoration-color: #ff0000\">│</span>\n",
       "<span style=\"color: #ff0000; text-decoration-color: #ff0000\">│</span> <span style=\"color: #7f7f7f; text-decoration-color: #7f7f7f\">/Users/jeremymeadow/DreamsData/.sage_venv/lib/python3.11/site-packages/pandas/core/</span><span style=\"font-weight: bold\">indexing.py</span>:1 <span style=\"color: #ff0000; text-decoration-color: #ff0000\">│</span>\n",
       "<span style=\"color: #ff0000; text-decoration-color: #ff0000\">│</span> 191 in __getitem__                                                                               <span style=\"color: #ff0000; text-decoration-color: #ff0000\">│</span>\n",
       "<span style=\"color: #ff0000; text-decoration-color: #ff0000\">│</span>                                                                                                  <span style=\"color: #ff0000; text-decoration-color: #ff0000\">│</span>\n",
       "<span style=\"color: #ff0000; text-decoration-color: #ff0000\">│</span>   <span style=\"color: #7f7f7f; text-decoration-color: #7f7f7f\">1188 </span><span style=\"color: #7f7f7f; text-decoration-color: #7f7f7f\">│   │   │   </span>                                                                              <span style=\"color: #ff0000; text-decoration-color: #ff0000\">│</span>\n",
       "<span style=\"color: #ff0000; text-decoration-color: #ff0000\">│</span>   <span style=\"color: #7f7f7f; text-decoration-color: #7f7f7f\">1189 </span><span style=\"color: #7f7f7f; text-decoration-color: #7f7f7f\">│   │   │   </span>maybe_callable = com.apply_if_callable(key, <span style=\"color: #00ffff; text-decoration-color: #00ffff\">self</span>.obj)                         <span style=\"color: #ff0000; text-decoration-color: #ff0000\">│</span>\n",
       "<span style=\"color: #ff0000; text-decoration-color: #ff0000\">│</span>   <span style=\"color: #7f7f7f; text-decoration-color: #7f7f7f\">1190 </span><span style=\"color: #7f7f7f; text-decoration-color: #7f7f7f\">│   │   │   </span>maybe_callable = <span style=\"color: #00ffff; text-decoration-color: #00ffff\">self</span>._check_deprecated_callable_usage(key, maybe_callable)   <span style=\"color: #ff0000; text-decoration-color: #ff0000\">│</span>\n",
       "<span style=\"color: #ff0000; text-decoration-color: #ff0000\">│</span> <span style=\"color: #800000; text-decoration-color: #800000\">❱ </span>1191 <span style=\"color: #7f7f7f; text-decoration-color: #7f7f7f\">│   │   │   </span><span style=\"color: #0000ff; text-decoration-color: #0000ff\">return</span> <span style=\"color: #00ffff; text-decoration-color: #00ffff; font-weight: bold; text-decoration: underline\">self</span><span style=\"font-weight: bold; text-decoration: underline\">._getitem_axis(maybe_callable, axis=axis)</span>                          <span style=\"color: #ff0000; text-decoration-color: #ff0000\">│</span>\n",
       "<span style=\"color: #ff0000; text-decoration-color: #ff0000\">│</span>   <span style=\"color: #7f7f7f; text-decoration-color: #7f7f7f\">1192 </span><span style=\"color: #7f7f7f; text-decoration-color: #7f7f7f\">│   </span>                                                                                      <span style=\"color: #ff0000; text-decoration-color: #ff0000\">│</span>\n",
       "<span style=\"color: #ff0000; text-decoration-color: #ff0000\">│</span>   <span style=\"color: #7f7f7f; text-decoration-color: #7f7f7f\">1193 </span><span style=\"color: #7f7f7f; text-decoration-color: #7f7f7f\">│   </span><span style=\"color: #0000ff; text-decoration-color: #0000ff\">def</span><span style=\"color: #808080; text-decoration-color: #808080\"> </span><span style=\"color: #00ff00; text-decoration-color: #00ff00\">_is_scalar_access</span>(<span style=\"color: #00ffff; text-decoration-color: #00ffff\">self</span>, key: <span style=\"color: #00ffff; text-decoration-color: #00ffff\">tuple</span>):                                              <span style=\"color: #ff0000; text-decoration-color: #ff0000\">│</span>\n",
       "<span style=\"color: #ff0000; text-decoration-color: #ff0000\">│</span>   <span style=\"color: #7f7f7f; text-decoration-color: #7f7f7f\">1194 </span><span style=\"color: #7f7f7f; text-decoration-color: #7f7f7f\">│   │   </span><span style=\"color: #0000ff; text-decoration-color: #0000ff\">raise</span> <span style=\"color: #00ffff; text-decoration-color: #00ffff\">NotImplementedError</span>()                                                       <span style=\"color: #ff0000; text-decoration-color: #ff0000\">│</span>\n",
       "<span style=\"color: #ff0000; text-decoration-color: #ff0000\">│</span>                                                                                                  <span style=\"color: #ff0000; text-decoration-color: #ff0000\">│</span>\n",
       "<span style=\"color: #ff0000; text-decoration-color: #ff0000\">│</span> <span style=\"color: #7f7f7f; text-decoration-color: #7f7f7f\">/Users/jeremymeadow/DreamsData/.sage_venv/lib/python3.11/site-packages/pandas/core/</span><span style=\"font-weight: bold\">indexing.py</span>:1 <span style=\"color: #ff0000; text-decoration-color: #ff0000\">│</span>\n",
       "<span style=\"color: #ff0000; text-decoration-color: #ff0000\">│</span> 420 in _getitem_axis                                                                             <span style=\"color: #ff0000; text-decoration-color: #ff0000\">│</span>\n",
       "<span style=\"color: #ff0000; text-decoration-color: #ff0000\">│</span>                                                                                                  <span style=\"color: #ff0000; text-decoration-color: #ff0000\">│</span>\n",
       "<span style=\"color: #ff0000; text-decoration-color: #ff0000\">│</span>   <span style=\"color: #7f7f7f; text-decoration-color: #7f7f7f\">1417 </span><span style=\"color: #7f7f7f; text-decoration-color: #7f7f7f\">│   │   │   │   </span><span style=\"color: #0000ff; text-decoration-color: #0000ff\">if</span> <span style=\"color: #00ffff; text-decoration-color: #00ffff\">hasattr</span>(key, <span style=\"color: #808000; text-decoration-color: #808000\">\"ndim\"</span>) <span style=\"color: #ff00ff; text-decoration-color: #ff00ff\">and</span> key.ndim &gt; <span style=\"color: #0000ff; text-decoration-color: #0000ff\">1</span>:                                 <span style=\"color: #ff0000; text-decoration-color: #ff0000\">│</span>\n",
       "<span style=\"color: #ff0000; text-decoration-color: #ff0000\">│</span>   <span style=\"color: #7f7f7f; text-decoration-color: #7f7f7f\">1418 </span><span style=\"color: #7f7f7f; text-decoration-color: #7f7f7f\">│   │   │   │   │   </span><span style=\"color: #0000ff; text-decoration-color: #0000ff\">raise</span> <span style=\"color: #00ffff; text-decoration-color: #00ffff\">ValueError</span>(<span style=\"color: #808000; text-decoration-color: #808000\">\"Cannot index with multidimensional key\"</span>)            <span style=\"color: #ff0000; text-decoration-color: #ff0000\">│</span>\n",
       "<span style=\"color: #ff0000; text-decoration-color: #ff0000\">│</span>   <span style=\"color: #7f7f7f; text-decoration-color: #7f7f7f\">1419 </span><span style=\"color: #7f7f7f; text-decoration-color: #7f7f7f\">│   │   │   │   </span>                                                                          <span style=\"color: #ff0000; text-decoration-color: #ff0000\">│</span>\n",
       "<span style=\"color: #ff0000; text-decoration-color: #ff0000\">│</span> <span style=\"color: #800000; text-decoration-color: #800000\">❱ </span>1420 <span style=\"color: #7f7f7f; text-decoration-color: #7f7f7f\">│   │   │   │   </span><span style=\"color: #0000ff; text-decoration-color: #0000ff\">return</span> <span style=\"color: #00ffff; text-decoration-color: #00ffff; font-weight: bold; text-decoration: underline\">self</span><span style=\"font-weight: bold; text-decoration: underline\">._getitem_iterable(key, axis=axis)</span>                             <span style=\"color: #ff0000; text-decoration-color: #ff0000\">│</span>\n",
       "<span style=\"color: #ff0000; text-decoration-color: #ff0000\">│</span>   <span style=\"color: #7f7f7f; text-decoration-color: #7f7f7f\">1421 </span><span style=\"color: #7f7f7f; text-decoration-color: #7f7f7f\">│   │   │   </span>                                                                              <span style=\"color: #ff0000; text-decoration-color: #ff0000\">│</span>\n",
       "<span style=\"color: #ff0000; text-decoration-color: #ff0000\">│</span>   <span style=\"color: #7f7f7f; text-decoration-color: #7f7f7f\">1422 </span><span style=\"color: #7f7f7f; text-decoration-color: #7f7f7f\">│   │   │   </span><span style=\"color: #7f7f7f; text-decoration-color: #7f7f7f\"># nested tuple slicing</span>                                                        <span style=\"color: #ff0000; text-decoration-color: #ff0000\">│</span>\n",
       "<span style=\"color: #ff0000; text-decoration-color: #ff0000\">│</span>   <span style=\"color: #7f7f7f; text-decoration-color: #7f7f7f\">1423 </span><span style=\"color: #7f7f7f; text-decoration-color: #7f7f7f\">│   │   │   </span><span style=\"color: #0000ff; text-decoration-color: #0000ff\">if</span> is_nested_tuple(key, labels):                                              <span style=\"color: #ff0000; text-decoration-color: #ff0000\">│</span>\n",
       "<span style=\"color: #ff0000; text-decoration-color: #ff0000\">│</span>                                                                                                  <span style=\"color: #ff0000; text-decoration-color: #ff0000\">│</span>\n",
       "<span style=\"color: #ff0000; text-decoration-color: #ff0000\">│</span> <span style=\"color: #7f7f7f; text-decoration-color: #7f7f7f\">/Users/jeremymeadow/DreamsData/.sage_venv/lib/python3.11/site-packages/pandas/core/</span><span style=\"font-weight: bold\">indexing.py</span>:1 <span style=\"color: #ff0000; text-decoration-color: #ff0000\">│</span>\n",
       "<span style=\"color: #ff0000; text-decoration-color: #ff0000\">│</span> 360 in _getitem_iterable                                                                         <span style=\"color: #ff0000; text-decoration-color: #ff0000\">│</span>\n",
       "<span style=\"color: #ff0000; text-decoration-color: #ff0000\">│</span>                                                                                                  <span style=\"color: #ff0000; text-decoration-color: #ff0000\">│</span>\n",
       "<span style=\"color: #ff0000; text-decoration-color: #ff0000\">│</span>   <span style=\"color: #7f7f7f; text-decoration-color: #7f7f7f\">1357 </span><span style=\"color: #7f7f7f; text-decoration-color: #7f7f7f\">│   │   </span><span style=\"color: #00ffff; text-decoration-color: #00ffff\">self</span>._validate_key(key, axis)                                                     <span style=\"color: #ff0000; text-decoration-color: #ff0000\">│</span>\n",
       "<span style=\"color: #ff0000; text-decoration-color: #ff0000\">│</span>   <span style=\"color: #7f7f7f; text-decoration-color: #7f7f7f\">1358 </span><span style=\"color: #7f7f7f; text-decoration-color: #7f7f7f\">│   │   </span>                                                                                  <span style=\"color: #ff0000; text-decoration-color: #ff0000\">│</span>\n",
       "<span style=\"color: #ff0000; text-decoration-color: #ff0000\">│</span>   <span style=\"color: #7f7f7f; text-decoration-color: #7f7f7f\">1359 </span><span style=\"color: #7f7f7f; text-decoration-color: #7f7f7f\">│   │   </span><span style=\"color: #7f7f7f; text-decoration-color: #7f7f7f\"># A collection of keys</span>                                                            <span style=\"color: #ff0000; text-decoration-color: #ff0000\">│</span>\n",
       "<span style=\"color: #ff0000; text-decoration-color: #ff0000\">│</span> <span style=\"color: #800000; text-decoration-color: #800000\">❱ </span>1360 <span style=\"color: #7f7f7f; text-decoration-color: #7f7f7f\">│   │   </span>keyarr, indexer = <span style=\"color: #00ffff; text-decoration-color: #00ffff; font-weight: bold; text-decoration: underline\">self</span><span style=\"font-weight: bold; text-decoration: underline\">._get_listlike_indexer(key, axis)</span>                           <span style=\"color: #ff0000; text-decoration-color: #ff0000\">│</span>\n",
       "<span style=\"color: #ff0000; text-decoration-color: #ff0000\">│</span>   <span style=\"color: #7f7f7f; text-decoration-color: #7f7f7f\">1361 </span><span style=\"color: #7f7f7f; text-decoration-color: #7f7f7f\">│   │   </span><span style=\"color: #0000ff; text-decoration-color: #0000ff\">return</span> <span style=\"color: #00ffff; text-decoration-color: #00ffff\">self</span>.obj._reindex_with_indexers(                                           <span style=\"color: #ff0000; text-decoration-color: #ff0000\">│</span>\n",
       "<span style=\"color: #ff0000; text-decoration-color: #ff0000\">│</span>   <span style=\"color: #7f7f7f; text-decoration-color: #7f7f7f\">1362 </span><span style=\"color: #7f7f7f; text-decoration-color: #7f7f7f\">│   │   │   </span>{axis: [keyarr, indexer]}, copy=<span style=\"color: #0000ff; text-decoration-color: #0000ff\">True</span>, allow_dups=<span style=\"color: #0000ff; text-decoration-color: #0000ff\">True</span>                         <span style=\"color: #ff0000; text-decoration-color: #ff0000\">│</span>\n",
       "<span style=\"color: #ff0000; text-decoration-color: #ff0000\">│</span>   <span style=\"color: #7f7f7f; text-decoration-color: #7f7f7f\">1363 </span><span style=\"color: #7f7f7f; text-decoration-color: #7f7f7f\">│   │   </span>)                                                                                 <span style=\"color: #ff0000; text-decoration-color: #ff0000\">│</span>\n",
       "<span style=\"color: #ff0000; text-decoration-color: #ff0000\">│</span>                                                                                                  <span style=\"color: #ff0000; text-decoration-color: #ff0000\">│</span>\n",
       "<span style=\"color: #ff0000; text-decoration-color: #ff0000\">│</span> <span style=\"color: #7f7f7f; text-decoration-color: #7f7f7f\">/Users/jeremymeadow/DreamsData/.sage_venv/lib/python3.11/site-packages/pandas/core/</span><span style=\"font-weight: bold\">indexing.py</span>:1 <span style=\"color: #ff0000; text-decoration-color: #ff0000\">│</span>\n",
       "<span style=\"color: #ff0000; text-decoration-color: #ff0000\">│</span> 558 in _get_listlike_indexer                                                                     <span style=\"color: #ff0000; text-decoration-color: #ff0000\">│</span>\n",
       "<span style=\"color: #ff0000; text-decoration-color: #ff0000\">│</span>                                                                                                  <span style=\"color: #ff0000; text-decoration-color: #ff0000\">│</span>\n",
       "<span style=\"color: #ff0000; text-decoration-color: #ff0000\">│</span>   <span style=\"color: #7f7f7f; text-decoration-color: #7f7f7f\">1555 </span><span style=\"color: #7f7f7f; text-decoration-color: #7f7f7f\">│   │   </span>ax = <span style=\"color: #00ffff; text-decoration-color: #00ffff\">self</span>.obj._get_axis(axis)                                                     <span style=\"color: #ff0000; text-decoration-color: #ff0000\">│</span>\n",
       "<span style=\"color: #ff0000; text-decoration-color: #ff0000\">│</span>   <span style=\"color: #7f7f7f; text-decoration-color: #7f7f7f\">1556 </span><span style=\"color: #7f7f7f; text-decoration-color: #7f7f7f\">│   │   </span>axis_name = <span style=\"color: #00ffff; text-decoration-color: #00ffff\">self</span>.obj._get_axis_name(axis)                                         <span style=\"color: #ff0000; text-decoration-color: #ff0000\">│</span>\n",
       "<span style=\"color: #ff0000; text-decoration-color: #ff0000\">│</span>   <span style=\"color: #7f7f7f; text-decoration-color: #7f7f7f\">1557 </span><span style=\"color: #7f7f7f; text-decoration-color: #7f7f7f\">│   │   </span>                                                                                  <span style=\"color: #ff0000; text-decoration-color: #ff0000\">│</span>\n",
       "<span style=\"color: #ff0000; text-decoration-color: #ff0000\">│</span> <span style=\"color: #800000; text-decoration-color: #800000\">❱ </span>1558 <span style=\"color: #7f7f7f; text-decoration-color: #7f7f7f\">│   │   </span>keyarr, indexer = <span style=\"font-weight: bold; text-decoration: underline\">ax._get_indexer_strict(key, axis_name)</span>                          <span style=\"color: #ff0000; text-decoration-color: #ff0000\">│</span>\n",
       "<span style=\"color: #ff0000; text-decoration-color: #ff0000\">│</span>   <span style=\"color: #7f7f7f; text-decoration-color: #7f7f7f\">1559 </span><span style=\"color: #7f7f7f; text-decoration-color: #7f7f7f\">│   │   </span>                                                                                  <span style=\"color: #ff0000; text-decoration-color: #ff0000\">│</span>\n",
       "<span style=\"color: #ff0000; text-decoration-color: #ff0000\">│</span>   <span style=\"color: #7f7f7f; text-decoration-color: #7f7f7f\">1560 </span><span style=\"color: #7f7f7f; text-decoration-color: #7f7f7f\">│   │   </span><span style=\"color: #0000ff; text-decoration-color: #0000ff\">return</span> keyarr, indexer                                                            <span style=\"color: #ff0000; text-decoration-color: #ff0000\">│</span>\n",
       "<span style=\"color: #ff0000; text-decoration-color: #ff0000\">│</span>   <span style=\"color: #7f7f7f; text-decoration-color: #7f7f7f\">1561 </span>                                                                                          <span style=\"color: #ff0000; text-decoration-color: #ff0000\">│</span>\n",
       "<span style=\"color: #ff0000; text-decoration-color: #ff0000\">│</span>                                                                                                  <span style=\"color: #ff0000; text-decoration-color: #ff0000\">│</span>\n",
       "<span style=\"color: #ff0000; text-decoration-color: #ff0000\">│</span> <span style=\"color: #7f7f7f; text-decoration-color: #7f7f7f\">/Users/jeremymeadow/DreamsData/.sage_venv/lib/python3.11/site-packages/pandas/core/indexes/</span><span style=\"font-weight: bold\">base.</span> <span style=\"color: #ff0000; text-decoration-color: #ff0000\">│</span>\n",
       "<span style=\"color: #ff0000; text-decoration-color: #ff0000\">│</span> <span style=\"font-weight: bold\">py</span>:6212 in _get_indexer_strict                                                                   <span style=\"color: #ff0000; text-decoration-color: #ff0000\">│</span>\n",
       "<span style=\"color: #ff0000; text-decoration-color: #ff0000\">│</span>                                                                                                  <span style=\"color: #ff0000; text-decoration-color: #ff0000\">│</span>\n",
       "<span style=\"color: #ff0000; text-decoration-color: #ff0000\">│</span>   <span style=\"color: #7f7f7f; text-decoration-color: #7f7f7f\">6209 </span><span style=\"color: #7f7f7f; text-decoration-color: #7f7f7f\">│   │   </span><span style=\"color: #0000ff; text-decoration-color: #0000ff\">else</span>:                                                                             <span style=\"color: #ff0000; text-decoration-color: #ff0000\">│</span>\n",
       "<span style=\"color: #ff0000; text-decoration-color: #ff0000\">│</span>   <span style=\"color: #7f7f7f; text-decoration-color: #7f7f7f\">6210 </span><span style=\"color: #7f7f7f; text-decoration-color: #7f7f7f\">│   │   │   </span>keyarr, indexer, new_indexer = <span style=\"color: #00ffff; text-decoration-color: #00ffff\">self</span>._reindex_non_unique(keyarr)               <span style=\"color: #ff0000; text-decoration-color: #ff0000\">│</span>\n",
       "<span style=\"color: #ff0000; text-decoration-color: #ff0000\">│</span>   <span style=\"color: #7f7f7f; text-decoration-color: #7f7f7f\">6211 </span><span style=\"color: #7f7f7f; text-decoration-color: #7f7f7f\">│   │   </span>                                                                                  <span style=\"color: #ff0000; text-decoration-color: #ff0000\">│</span>\n",
       "<span style=\"color: #ff0000; text-decoration-color: #ff0000\">│</span> <span style=\"color: #800000; text-decoration-color: #800000\">❱ </span>6212 <span style=\"color: #7f7f7f; text-decoration-color: #7f7f7f\">│   │   </span><span style=\"color: #00ffff; text-decoration-color: #00ffff; font-weight: bold; text-decoration: underline\">self</span><span style=\"font-weight: bold; text-decoration: underline\">._raise_if_missing(keyarr, indexer, axis_name)</span>                                <span style=\"color: #ff0000; text-decoration-color: #ff0000\">│</span>\n",
       "<span style=\"color: #ff0000; text-decoration-color: #ff0000\">│</span>   <span style=\"color: #7f7f7f; text-decoration-color: #7f7f7f\">6213 </span><span style=\"color: #7f7f7f; text-decoration-color: #7f7f7f\">│   │   </span>                                                                                  <span style=\"color: #ff0000; text-decoration-color: #ff0000\">│</span>\n",
       "<span style=\"color: #ff0000; text-decoration-color: #ff0000\">│</span>   <span style=\"color: #7f7f7f; text-decoration-color: #7f7f7f\">6214 </span><span style=\"color: #7f7f7f; text-decoration-color: #7f7f7f\">│   │   </span>keyarr = <span style=\"color: #00ffff; text-decoration-color: #00ffff\">self</span>.take(indexer)                                                       <span style=\"color: #ff0000; text-decoration-color: #ff0000\">│</span>\n",
       "<span style=\"color: #ff0000; text-decoration-color: #ff0000\">│</span>   <span style=\"color: #7f7f7f; text-decoration-color: #7f7f7f\">6215 </span><span style=\"color: #7f7f7f; text-decoration-color: #7f7f7f\">│   │   </span><span style=\"color: #0000ff; text-decoration-color: #0000ff\">if</span> <span style=\"color: #00ffff; text-decoration-color: #00ffff\">isinstance</span>(key, Index):                                                        <span style=\"color: #ff0000; text-decoration-color: #ff0000\">│</span>\n",
       "<span style=\"color: #ff0000; text-decoration-color: #ff0000\">│</span>                                                                                                  <span style=\"color: #ff0000; text-decoration-color: #ff0000\">│</span>\n",
       "<span style=\"color: #ff0000; text-decoration-color: #ff0000\">│</span> <span style=\"color: #7f7f7f; text-decoration-color: #7f7f7f\">/Users/jeremymeadow/DreamsData/.sage_venv/lib/python3.11/site-packages/pandas/core/indexes/</span><span style=\"font-weight: bold\">base.</span> <span style=\"color: #ff0000; text-decoration-color: #ff0000\">│</span>\n",
       "<span style=\"color: #ff0000; text-decoration-color: #ff0000\">│</span> <span style=\"font-weight: bold\">py</span>:6264 in _raise_if_missing                                                                     <span style=\"color: #ff0000; text-decoration-color: #ff0000\">│</span>\n",
       "<span style=\"color: #ff0000; text-decoration-color: #ff0000\">│</span>                                                                                                  <span style=\"color: #ff0000; text-decoration-color: #ff0000\">│</span>\n",
       "<span style=\"color: #ff0000; text-decoration-color: #ff0000\">│</span>   <span style=\"color: #7f7f7f; text-decoration-color: #7f7f7f\">6261 </span><span style=\"color: #7f7f7f; text-decoration-color: #7f7f7f\">│   │   │   │   </span><span style=\"color: #0000ff; text-decoration-color: #0000ff\">raise</span> <span style=\"color: #00ffff; text-decoration-color: #00ffff\">KeyError</span>(<span style=\"color: #808000; text-decoration-color: #808000\">f\"None of [{</span>key<span style=\"color: #808000; text-decoration-color: #808000\">}] are in the [{</span>axis_name<span style=\"color: #808000; text-decoration-color: #808000\">}]\"</span>)               <span style=\"color: #ff0000; text-decoration-color: #ff0000\">│</span>\n",
       "<span style=\"color: #ff0000; text-decoration-color: #ff0000\">│</span>   <span style=\"color: #7f7f7f; text-decoration-color: #7f7f7f\">6262 </span><span style=\"color: #7f7f7f; text-decoration-color: #7f7f7f\">│   │   │   </span>                                                                              <span style=\"color: #ff0000; text-decoration-color: #ff0000\">│</span>\n",
       "<span style=\"color: #ff0000; text-decoration-color: #ff0000\">│</span>   <span style=\"color: #7f7f7f; text-decoration-color: #7f7f7f\">6263 </span><span style=\"color: #7f7f7f; text-decoration-color: #7f7f7f\">│   │   │   </span>not_found = <span style=\"color: #00ffff; text-decoration-color: #00ffff\">list</span>(ensure_index(key)[missing_mask.nonzero()[<span style=\"color: #0000ff; text-decoration-color: #0000ff\">0</span>]].unique())       <span style=\"color: #ff0000; text-decoration-color: #ff0000\">│</span>\n",
       "<span style=\"color: #ff0000; text-decoration-color: #ff0000\">│</span> <span style=\"color: #800000; text-decoration-color: #800000\">❱ </span>6264 <span style=\"color: #7f7f7f; text-decoration-color: #7f7f7f\">│   │   │   </span><span style=\"color: #0000ff; text-decoration-color: #0000ff; font-weight: bold; text-decoration: underline\">raise</span><span style=\"font-weight: bold; text-decoration: underline\"> </span><span style=\"color: #00ffff; text-decoration-color: #00ffff; font-weight: bold; text-decoration: underline\">KeyError</span><span style=\"font-weight: bold; text-decoration: underline\">(</span><span style=\"color: #808000; text-decoration-color: #808000; font-weight: bold; text-decoration: underline\">f\"{</span><span style=\"font-weight: bold; text-decoration: underline\">not_found</span><span style=\"color: #808000; text-decoration-color: #808000; font-weight: bold; text-decoration: underline\">} not in index\"</span><span style=\"font-weight: bold; text-decoration: underline\">)</span>                                   <span style=\"color: #ff0000; text-decoration-color: #ff0000\">│</span>\n",
       "<span style=\"color: #ff0000; text-decoration-color: #ff0000\">│</span>   <span style=\"color: #7f7f7f; text-decoration-color: #7f7f7f\">6265 </span><span style=\"color: #7f7f7f; text-decoration-color: #7f7f7f\">│   </span>                                                                                      <span style=\"color: #ff0000; text-decoration-color: #ff0000\">│</span>\n",
       "<span style=\"color: #ff0000; text-decoration-color: #ff0000\">│</span>   <span style=\"color: #7f7f7f; text-decoration-color: #7f7f7f\">6266 </span><span style=\"color: #7f7f7f; text-decoration-color: #7f7f7f\">│   </span><span style=\"color: #ff00ff; text-decoration-color: #ff00ff; font-weight: bold\">@overload</span>                                                                             <span style=\"color: #ff0000; text-decoration-color: #ff0000\">│</span>\n",
       "<span style=\"color: #ff0000; text-decoration-color: #ff0000\">│</span>   <span style=\"color: #7f7f7f; text-decoration-color: #7f7f7f\">6267 </span><span style=\"color: #7f7f7f; text-decoration-color: #7f7f7f\">│   </span><span style=\"color: #0000ff; text-decoration-color: #0000ff\">def</span><span style=\"color: #808080; text-decoration-color: #808080\"> </span><span style=\"color: #00ff00; text-decoration-color: #00ff00\">_get_indexer_non_comparable</span>(                                                      <span style=\"color: #ff0000; text-decoration-color: #ff0000\">│</span>\n",
       "<span style=\"color: #ff0000; text-decoration-color: #ff0000\">╰──────────────────────────────────────────────────────────────────────────────────────────────────╯</span>\n",
       "<span style=\"color: #ff0000; text-decoration-color: #ff0000; font-weight: bold\">KeyError: </span><span style=\"color: #008700; text-decoration-color: #008700\">\"</span><span style=\"color: #008700; text-decoration-color: #008700; font-weight: bold\">[</span><span style=\"color: #008700; text-decoration-color: #008700\">'eta', 'subsample'</span><span style=\"color: #008700; text-decoration-color: #008700; font-weight: bold\">]</span><span style=\"color: #008700; text-decoration-color: #008700\"> not in index\"</span>\n",
       "</pre>\n"
      ],
      "text/plain": [
       "\u001b[38;2;255;0;0m╭─\u001b[0m\u001b[38;2;255;0;0m──────────────────────────────\u001b[0m\u001b[38;2;255;0;0m \u001b[0m\u001b[1;38;2;255;0;0mTraceback \u001b[0m\u001b[1;2;38;2;255;0;0m(most recent call last)\u001b[0m\u001b[38;2;255;0;0m \u001b[0m\u001b[38;2;255;0;0m───────────────────────────────\u001b[0m\u001b[38;2;255;0;0m─╮\u001b[0m\n",
       "\u001b[38;2;255;0;0m│\u001b[0m in <module>:10                                                                                   \u001b[38;2;255;0;0m│\u001b[0m\n",
       "\u001b[38;2;255;0;0m│\u001b[0m                                                                                                  \u001b[38;2;255;0;0m│\u001b[0m\n",
       "\u001b[38;2;255;0;0m│\u001b[0m   \u001b[2m 7 \u001b[0m                                                                                            \u001b[38;2;255;0;0m│\u001b[0m\n",
       "\u001b[38;2;255;0;0m│\u001b[0m   \u001b[2m 8 \u001b[0m\u001b[2m# The best parameters are in the hyperparameters columns\u001b[0m                                    \u001b[38;2;255;0;0m│\u001b[0m\n",
       "\u001b[38;2;255;0;0m│\u001b[0m   \u001b[2m 9 \u001b[0m\u001b[96mprint\u001b[0m(best_params)                                                                          \u001b[38;2;255;0;0m│\u001b[0m\n",
       "\u001b[38;2;255;0;0m│\u001b[0m \u001b[31m❱ \u001b[0m10 \u001b[96mprint\u001b[0m(\u001b[1;4mbest_job_df.loc[\u001b[0m\u001b[1;4;94m0\u001b[0m\u001b[1;4m, [\u001b[0m\u001b[1;4;33m'\u001b[0m\u001b[1;4;33meta\u001b[0m\u001b[1;4;33m'\u001b[0m\u001b[1;4m, \u001b[0m\u001b[1;4;33m'\u001b[0m\u001b[1;4;33mmax_depth\u001b[0m\u001b[1;4;33m'\u001b[0m\u001b[1;4m, \u001b[0m\u001b[1;4;33m'\u001b[0m\u001b[1;4;33msubsample\u001b[0m\u001b[1;4;33m'\u001b[0m\u001b[1;4m, \u001b[0m\u001b[1;4;33m'\u001b[0m\u001b[1;4;33mFinalObjectiveValue\u001b[0m\u001b[1;4;33m'\u001b[0m\u001b[1;4m]]\u001b[0m)         \u001b[38;2;255;0;0m│\u001b[0m\n",
       "\u001b[38;2;255;0;0m│\u001b[0m   \u001b[2m11 \u001b[0m                                                                                            \u001b[38;2;255;0;0m│\u001b[0m\n",
       "\u001b[38;2;255;0;0m│\u001b[0m                                                                                                  \u001b[38;2;255;0;0m│\u001b[0m\n",
       "\u001b[38;2;255;0;0m│\u001b[0m \u001b[2m/Users/jeremymeadow/DreamsData/.sage_venv/lib/python3.11/site-packages/pandas/core/\u001b[0m\u001b[1mindexing.py\u001b[0m:1 \u001b[38;2;255;0;0m│\u001b[0m\n",
       "\u001b[38;2;255;0;0m│\u001b[0m 184 in __getitem__                                                                               \u001b[38;2;255;0;0m│\u001b[0m\n",
       "\u001b[38;2;255;0;0m│\u001b[0m                                                                                                  \u001b[38;2;255;0;0m│\u001b[0m\n",
       "\u001b[38;2;255;0;0m│\u001b[0m   \u001b[2m1181 \u001b[0m\u001b[2m│   │   │   \u001b[0mkey = \u001b[96mtuple\u001b[0m(com.apply_if_callable(x, \u001b[96mself\u001b[0m.obj) \u001b[94mfor\u001b[0m x \u001b[95min\u001b[0m key)                  \u001b[38;2;255;0;0m│\u001b[0m\n",
       "\u001b[38;2;255;0;0m│\u001b[0m   \u001b[2m1182 \u001b[0m\u001b[2m│   │   │   \u001b[0m\u001b[94mif\u001b[0m \u001b[96mself\u001b[0m._is_scalar_access(key):                                               \u001b[38;2;255;0;0m│\u001b[0m\n",
       "\u001b[38;2;255;0;0m│\u001b[0m   \u001b[2m1183 \u001b[0m\u001b[2m│   │   │   │   \u001b[0m\u001b[94mreturn\u001b[0m \u001b[96mself\u001b[0m.obj._get_value(*key, takeable=\u001b[96mself\u001b[0m._takeable)                 \u001b[38;2;255;0;0m│\u001b[0m\n",
       "\u001b[38;2;255;0;0m│\u001b[0m \u001b[31m❱ \u001b[0m1184 \u001b[2m│   │   │   \u001b[0m\u001b[94mreturn\u001b[0m \u001b[1;4;96mself\u001b[0m\u001b[1;4m._getitem_tuple(key)\u001b[0m                                               \u001b[38;2;255;0;0m│\u001b[0m\n",
       "\u001b[38;2;255;0;0m│\u001b[0m   \u001b[2m1185 \u001b[0m\u001b[2m│   │   \u001b[0m\u001b[94melse\u001b[0m:                                                                             \u001b[38;2;255;0;0m│\u001b[0m\n",
       "\u001b[38;2;255;0;0m│\u001b[0m   \u001b[2m1186 \u001b[0m\u001b[2m│   │   │   \u001b[0m\u001b[2m# we by definition only have the 0th axis\u001b[0m                                     \u001b[38;2;255;0;0m│\u001b[0m\n",
       "\u001b[38;2;255;0;0m│\u001b[0m   \u001b[2m1187 \u001b[0m\u001b[2m│   │   │   \u001b[0maxis = \u001b[96mself\u001b[0m.axis \u001b[95mor\u001b[0m \u001b[94m0\u001b[0m                                                         \u001b[38;2;255;0;0m│\u001b[0m\n",
       "\u001b[38;2;255;0;0m│\u001b[0m                                                                                                  \u001b[38;2;255;0;0m│\u001b[0m\n",
       "\u001b[38;2;255;0;0m│\u001b[0m \u001b[2m/Users/jeremymeadow/DreamsData/.sage_venv/lib/python3.11/site-packages/pandas/core/\u001b[0m\u001b[1mindexing.py\u001b[0m:1 \u001b[38;2;255;0;0m│\u001b[0m\n",
       "\u001b[38;2;255;0;0m│\u001b[0m 368 in _getitem_tuple                                                                            \u001b[38;2;255;0;0m│\u001b[0m\n",
       "\u001b[38;2;255;0;0m│\u001b[0m                                                                                                  \u001b[38;2;255;0;0m│\u001b[0m\n",
       "\u001b[38;2;255;0;0m│\u001b[0m   \u001b[2m1365 \u001b[0m\u001b[2m│   \u001b[0m\u001b[94mdef\u001b[0m\u001b[90m \u001b[0m\u001b[92m_getitem_tuple\u001b[0m(\u001b[96mself\u001b[0m, tup: \u001b[96mtuple\u001b[0m):                                                 \u001b[38;2;255;0;0m│\u001b[0m\n",
       "\u001b[38;2;255;0;0m│\u001b[0m   \u001b[2m1366 \u001b[0m\u001b[2m│   │   \u001b[0m\u001b[94mwith\u001b[0m suppress(IndexingError):                                                     \u001b[38;2;255;0;0m│\u001b[0m\n",
       "\u001b[38;2;255;0;0m│\u001b[0m   \u001b[2m1367 \u001b[0m\u001b[2m│   │   │   \u001b[0mtup = \u001b[96mself\u001b[0m._expand_ellipsis(tup)                                              \u001b[38;2;255;0;0m│\u001b[0m\n",
       "\u001b[38;2;255;0;0m│\u001b[0m \u001b[31m❱ \u001b[0m1368 \u001b[2m│   │   │   \u001b[0m\u001b[94mreturn\u001b[0m \u001b[1;4;96mself\u001b[0m\u001b[1;4m._getitem_lowerdim(tup)\u001b[0m                                            \u001b[38;2;255;0;0m│\u001b[0m\n",
       "\u001b[38;2;255;0;0m│\u001b[0m   \u001b[2m1369 \u001b[0m\u001b[2m│   │   \u001b[0m                                                                                  \u001b[38;2;255;0;0m│\u001b[0m\n",
       "\u001b[38;2;255;0;0m│\u001b[0m   \u001b[2m1370 \u001b[0m\u001b[2m│   │   \u001b[0m\u001b[2m# no multi-index, so validate all of the indexers\u001b[0m                                 \u001b[38;2;255;0;0m│\u001b[0m\n",
       "\u001b[38;2;255;0;0m│\u001b[0m   \u001b[2m1371 \u001b[0m\u001b[2m│   │   \u001b[0mtup = \u001b[96mself\u001b[0m._validate_tuple_indexer(tup)                                           \u001b[38;2;255;0;0m│\u001b[0m\n",
       "\u001b[38;2;255;0;0m│\u001b[0m                                                                                                  \u001b[38;2;255;0;0m│\u001b[0m\n",
       "\u001b[38;2;255;0;0m│\u001b[0m \u001b[2m/Users/jeremymeadow/DreamsData/.sage_venv/lib/python3.11/site-packages/pandas/core/\u001b[0m\u001b[1mindexing.py\u001b[0m:1 \u001b[38;2;255;0;0m│\u001b[0m\n",
       "\u001b[38;2;255;0;0m│\u001b[0m 089 in _getitem_lowerdim                                                                         \u001b[38;2;255;0;0m│\u001b[0m\n",
       "\u001b[38;2;255;0;0m│\u001b[0m                                                                                                  \u001b[38;2;255;0;0m│\u001b[0m\n",
       "\u001b[38;2;255;0;0m│\u001b[0m   \u001b[2m1086 \u001b[0m\u001b[2m│   │   │   │   \u001b[0m\u001b[94mif\u001b[0m com.is_null_slice(new_key):                                            \u001b[38;2;255;0;0m│\u001b[0m\n",
       "\u001b[38;2;255;0;0m│\u001b[0m   \u001b[2m1087 \u001b[0m\u001b[2m│   │   │   │   │   \u001b[0m\u001b[94mreturn\u001b[0m section                                                        \u001b[38;2;255;0;0m│\u001b[0m\n",
       "\u001b[38;2;255;0;0m│\u001b[0m   \u001b[2m1088 \u001b[0m\u001b[2m│   │   │   │   \u001b[0m\u001b[2m# This is an elided recursive call to iloc/loc\u001b[0m                            \u001b[38;2;255;0;0m│\u001b[0m\n",
       "\u001b[38;2;255;0;0m│\u001b[0m \u001b[31m❱ \u001b[0m1089 \u001b[2m│   │   │   │   \u001b[0m\u001b[94mreturn\u001b[0m \u001b[1;4;96mgetattr\u001b[0m\u001b[1;4m(section, \u001b[0m\u001b[1;4;96mself\u001b[0m\u001b[1;4m.name)[new_key]\u001b[0m                               \u001b[38;2;255;0;0m│\u001b[0m\n",
       "\u001b[38;2;255;0;0m│\u001b[0m   \u001b[2m1090 \u001b[0m\u001b[2m│   │   \u001b[0m                                                                                  \u001b[38;2;255;0;0m│\u001b[0m\n",
       "\u001b[38;2;255;0;0m│\u001b[0m   \u001b[2m1091 \u001b[0m\u001b[2m│   │   \u001b[0m\u001b[94mraise\u001b[0m IndexingError(\u001b[33m\"\u001b[0m\u001b[33mnot applicable\u001b[0m\u001b[33m\"\u001b[0m)                                             \u001b[38;2;255;0;0m│\u001b[0m\n",
       "\u001b[38;2;255;0;0m│\u001b[0m   \u001b[2m1092 \u001b[0m                                                                                          \u001b[38;2;255;0;0m│\u001b[0m\n",
       "\u001b[38;2;255;0;0m│\u001b[0m                                                                                                  \u001b[38;2;255;0;0m│\u001b[0m\n",
       "\u001b[38;2;255;0;0m│\u001b[0m \u001b[2m/Users/jeremymeadow/DreamsData/.sage_venv/lib/python3.11/site-packages/pandas/core/\u001b[0m\u001b[1mindexing.py\u001b[0m:1 \u001b[38;2;255;0;0m│\u001b[0m\n",
       "\u001b[38;2;255;0;0m│\u001b[0m 191 in __getitem__                                                                               \u001b[38;2;255;0;0m│\u001b[0m\n",
       "\u001b[38;2;255;0;0m│\u001b[0m                                                                                                  \u001b[38;2;255;0;0m│\u001b[0m\n",
       "\u001b[38;2;255;0;0m│\u001b[0m   \u001b[2m1188 \u001b[0m\u001b[2m│   │   │   \u001b[0m                                                                              \u001b[38;2;255;0;0m│\u001b[0m\n",
       "\u001b[38;2;255;0;0m│\u001b[0m   \u001b[2m1189 \u001b[0m\u001b[2m│   │   │   \u001b[0mmaybe_callable = com.apply_if_callable(key, \u001b[96mself\u001b[0m.obj)                         \u001b[38;2;255;0;0m│\u001b[0m\n",
       "\u001b[38;2;255;0;0m│\u001b[0m   \u001b[2m1190 \u001b[0m\u001b[2m│   │   │   \u001b[0mmaybe_callable = \u001b[96mself\u001b[0m._check_deprecated_callable_usage(key, maybe_callable)   \u001b[38;2;255;0;0m│\u001b[0m\n",
       "\u001b[38;2;255;0;0m│\u001b[0m \u001b[31m❱ \u001b[0m1191 \u001b[2m│   │   │   \u001b[0m\u001b[94mreturn\u001b[0m \u001b[1;4;96mself\u001b[0m\u001b[1;4m._getitem_axis(maybe_callable, axis=axis)\u001b[0m                          \u001b[38;2;255;0;0m│\u001b[0m\n",
       "\u001b[38;2;255;0;0m│\u001b[0m   \u001b[2m1192 \u001b[0m\u001b[2m│   \u001b[0m                                                                                      \u001b[38;2;255;0;0m│\u001b[0m\n",
       "\u001b[38;2;255;0;0m│\u001b[0m   \u001b[2m1193 \u001b[0m\u001b[2m│   \u001b[0m\u001b[94mdef\u001b[0m\u001b[90m \u001b[0m\u001b[92m_is_scalar_access\u001b[0m(\u001b[96mself\u001b[0m, key: \u001b[96mtuple\u001b[0m):                                              \u001b[38;2;255;0;0m│\u001b[0m\n",
       "\u001b[38;2;255;0;0m│\u001b[0m   \u001b[2m1194 \u001b[0m\u001b[2m│   │   \u001b[0m\u001b[94mraise\u001b[0m \u001b[96mNotImplementedError\u001b[0m()                                                       \u001b[38;2;255;0;0m│\u001b[0m\n",
       "\u001b[38;2;255;0;0m│\u001b[0m                                                                                                  \u001b[38;2;255;0;0m│\u001b[0m\n",
       "\u001b[38;2;255;0;0m│\u001b[0m \u001b[2m/Users/jeremymeadow/DreamsData/.sage_venv/lib/python3.11/site-packages/pandas/core/\u001b[0m\u001b[1mindexing.py\u001b[0m:1 \u001b[38;2;255;0;0m│\u001b[0m\n",
       "\u001b[38;2;255;0;0m│\u001b[0m 420 in _getitem_axis                                                                             \u001b[38;2;255;0;0m│\u001b[0m\n",
       "\u001b[38;2;255;0;0m│\u001b[0m                                                                                                  \u001b[38;2;255;0;0m│\u001b[0m\n",
       "\u001b[38;2;255;0;0m│\u001b[0m   \u001b[2m1417 \u001b[0m\u001b[2m│   │   │   │   \u001b[0m\u001b[94mif\u001b[0m \u001b[96mhasattr\u001b[0m(key, \u001b[33m\"\u001b[0m\u001b[33mndim\u001b[0m\u001b[33m\"\u001b[0m) \u001b[95mand\u001b[0m key.ndim > \u001b[94m1\u001b[0m:                                 \u001b[38;2;255;0;0m│\u001b[0m\n",
       "\u001b[38;2;255;0;0m│\u001b[0m   \u001b[2m1418 \u001b[0m\u001b[2m│   │   │   │   │   \u001b[0m\u001b[94mraise\u001b[0m \u001b[96mValueError\u001b[0m(\u001b[33m\"\u001b[0m\u001b[33mCannot index with multidimensional key\u001b[0m\u001b[33m\"\u001b[0m)            \u001b[38;2;255;0;0m│\u001b[0m\n",
       "\u001b[38;2;255;0;0m│\u001b[0m   \u001b[2m1419 \u001b[0m\u001b[2m│   │   │   │   \u001b[0m                                                                          \u001b[38;2;255;0;0m│\u001b[0m\n",
       "\u001b[38;2;255;0;0m│\u001b[0m \u001b[31m❱ \u001b[0m1420 \u001b[2m│   │   │   │   \u001b[0m\u001b[94mreturn\u001b[0m \u001b[1;4;96mself\u001b[0m\u001b[1;4m._getitem_iterable(key, axis=axis)\u001b[0m                             \u001b[38;2;255;0;0m│\u001b[0m\n",
       "\u001b[38;2;255;0;0m│\u001b[0m   \u001b[2m1421 \u001b[0m\u001b[2m│   │   │   \u001b[0m                                                                              \u001b[38;2;255;0;0m│\u001b[0m\n",
       "\u001b[38;2;255;0;0m│\u001b[0m   \u001b[2m1422 \u001b[0m\u001b[2m│   │   │   \u001b[0m\u001b[2m# nested tuple slicing\u001b[0m                                                        \u001b[38;2;255;0;0m│\u001b[0m\n",
       "\u001b[38;2;255;0;0m│\u001b[0m   \u001b[2m1423 \u001b[0m\u001b[2m│   │   │   \u001b[0m\u001b[94mif\u001b[0m is_nested_tuple(key, labels):                                              \u001b[38;2;255;0;0m│\u001b[0m\n",
       "\u001b[38;2;255;0;0m│\u001b[0m                                                                                                  \u001b[38;2;255;0;0m│\u001b[0m\n",
       "\u001b[38;2;255;0;0m│\u001b[0m \u001b[2m/Users/jeremymeadow/DreamsData/.sage_venv/lib/python3.11/site-packages/pandas/core/\u001b[0m\u001b[1mindexing.py\u001b[0m:1 \u001b[38;2;255;0;0m│\u001b[0m\n",
       "\u001b[38;2;255;0;0m│\u001b[0m 360 in _getitem_iterable                                                                         \u001b[38;2;255;0;0m│\u001b[0m\n",
       "\u001b[38;2;255;0;0m│\u001b[0m                                                                                                  \u001b[38;2;255;0;0m│\u001b[0m\n",
       "\u001b[38;2;255;0;0m│\u001b[0m   \u001b[2m1357 \u001b[0m\u001b[2m│   │   \u001b[0m\u001b[96mself\u001b[0m._validate_key(key, axis)                                                     \u001b[38;2;255;0;0m│\u001b[0m\n",
       "\u001b[38;2;255;0;0m│\u001b[0m   \u001b[2m1358 \u001b[0m\u001b[2m│   │   \u001b[0m                                                                                  \u001b[38;2;255;0;0m│\u001b[0m\n",
       "\u001b[38;2;255;0;0m│\u001b[0m   \u001b[2m1359 \u001b[0m\u001b[2m│   │   \u001b[0m\u001b[2m# A collection of keys\u001b[0m                                                            \u001b[38;2;255;0;0m│\u001b[0m\n",
       "\u001b[38;2;255;0;0m│\u001b[0m \u001b[31m❱ \u001b[0m1360 \u001b[2m│   │   \u001b[0mkeyarr, indexer = \u001b[1;4;96mself\u001b[0m\u001b[1;4m._get_listlike_indexer(key, axis)\u001b[0m                           \u001b[38;2;255;0;0m│\u001b[0m\n",
       "\u001b[38;2;255;0;0m│\u001b[0m   \u001b[2m1361 \u001b[0m\u001b[2m│   │   \u001b[0m\u001b[94mreturn\u001b[0m \u001b[96mself\u001b[0m.obj._reindex_with_indexers(                                           \u001b[38;2;255;0;0m│\u001b[0m\n",
       "\u001b[38;2;255;0;0m│\u001b[0m   \u001b[2m1362 \u001b[0m\u001b[2m│   │   │   \u001b[0m{axis: [keyarr, indexer]}, copy=\u001b[94mTrue\u001b[0m, allow_dups=\u001b[94mTrue\u001b[0m                         \u001b[38;2;255;0;0m│\u001b[0m\n",
       "\u001b[38;2;255;0;0m│\u001b[0m   \u001b[2m1363 \u001b[0m\u001b[2m│   │   \u001b[0m)                                                                                 \u001b[38;2;255;0;0m│\u001b[0m\n",
       "\u001b[38;2;255;0;0m│\u001b[0m                                                                                                  \u001b[38;2;255;0;0m│\u001b[0m\n",
       "\u001b[38;2;255;0;0m│\u001b[0m \u001b[2m/Users/jeremymeadow/DreamsData/.sage_venv/lib/python3.11/site-packages/pandas/core/\u001b[0m\u001b[1mindexing.py\u001b[0m:1 \u001b[38;2;255;0;0m│\u001b[0m\n",
       "\u001b[38;2;255;0;0m│\u001b[0m 558 in _get_listlike_indexer                                                                     \u001b[38;2;255;0;0m│\u001b[0m\n",
       "\u001b[38;2;255;0;0m│\u001b[0m                                                                                                  \u001b[38;2;255;0;0m│\u001b[0m\n",
       "\u001b[38;2;255;0;0m│\u001b[0m   \u001b[2m1555 \u001b[0m\u001b[2m│   │   \u001b[0max = \u001b[96mself\u001b[0m.obj._get_axis(axis)                                                     \u001b[38;2;255;0;0m│\u001b[0m\n",
       "\u001b[38;2;255;0;0m│\u001b[0m   \u001b[2m1556 \u001b[0m\u001b[2m│   │   \u001b[0maxis_name = \u001b[96mself\u001b[0m.obj._get_axis_name(axis)                                         \u001b[38;2;255;0;0m│\u001b[0m\n",
       "\u001b[38;2;255;0;0m│\u001b[0m   \u001b[2m1557 \u001b[0m\u001b[2m│   │   \u001b[0m                                                                                  \u001b[38;2;255;0;0m│\u001b[0m\n",
       "\u001b[38;2;255;0;0m│\u001b[0m \u001b[31m❱ \u001b[0m1558 \u001b[2m│   │   \u001b[0mkeyarr, indexer = \u001b[1;4max._get_indexer_strict(key, axis_name)\u001b[0m                          \u001b[38;2;255;0;0m│\u001b[0m\n",
       "\u001b[38;2;255;0;0m│\u001b[0m   \u001b[2m1559 \u001b[0m\u001b[2m│   │   \u001b[0m                                                                                  \u001b[38;2;255;0;0m│\u001b[0m\n",
       "\u001b[38;2;255;0;0m│\u001b[0m   \u001b[2m1560 \u001b[0m\u001b[2m│   │   \u001b[0m\u001b[94mreturn\u001b[0m keyarr, indexer                                                            \u001b[38;2;255;0;0m│\u001b[0m\n",
       "\u001b[38;2;255;0;0m│\u001b[0m   \u001b[2m1561 \u001b[0m                                                                                          \u001b[38;2;255;0;0m│\u001b[0m\n",
       "\u001b[38;2;255;0;0m│\u001b[0m                                                                                                  \u001b[38;2;255;0;0m│\u001b[0m\n",
       "\u001b[38;2;255;0;0m│\u001b[0m \u001b[2m/Users/jeremymeadow/DreamsData/.sage_venv/lib/python3.11/site-packages/pandas/core/indexes/\u001b[0m\u001b[1mbase.\u001b[0m \u001b[38;2;255;0;0m│\u001b[0m\n",
       "\u001b[38;2;255;0;0m│\u001b[0m \u001b[1mpy\u001b[0m:6212 in _get_indexer_strict                                                                   \u001b[38;2;255;0;0m│\u001b[0m\n",
       "\u001b[38;2;255;0;0m│\u001b[0m                                                                                                  \u001b[38;2;255;0;0m│\u001b[0m\n",
       "\u001b[38;2;255;0;0m│\u001b[0m   \u001b[2m6209 \u001b[0m\u001b[2m│   │   \u001b[0m\u001b[94melse\u001b[0m:                                                                             \u001b[38;2;255;0;0m│\u001b[0m\n",
       "\u001b[38;2;255;0;0m│\u001b[0m   \u001b[2m6210 \u001b[0m\u001b[2m│   │   │   \u001b[0mkeyarr, indexer, new_indexer = \u001b[96mself\u001b[0m._reindex_non_unique(keyarr)               \u001b[38;2;255;0;0m│\u001b[0m\n",
       "\u001b[38;2;255;0;0m│\u001b[0m   \u001b[2m6211 \u001b[0m\u001b[2m│   │   \u001b[0m                                                                                  \u001b[38;2;255;0;0m│\u001b[0m\n",
       "\u001b[38;2;255;0;0m│\u001b[0m \u001b[31m❱ \u001b[0m6212 \u001b[2m│   │   \u001b[0m\u001b[1;4;96mself\u001b[0m\u001b[1;4m._raise_if_missing(keyarr, indexer, axis_name)\u001b[0m                                \u001b[38;2;255;0;0m│\u001b[0m\n",
       "\u001b[38;2;255;0;0m│\u001b[0m   \u001b[2m6213 \u001b[0m\u001b[2m│   │   \u001b[0m                                                                                  \u001b[38;2;255;0;0m│\u001b[0m\n",
       "\u001b[38;2;255;0;0m│\u001b[0m   \u001b[2m6214 \u001b[0m\u001b[2m│   │   \u001b[0mkeyarr = \u001b[96mself\u001b[0m.take(indexer)                                                       \u001b[38;2;255;0;0m│\u001b[0m\n",
       "\u001b[38;2;255;0;0m│\u001b[0m   \u001b[2m6215 \u001b[0m\u001b[2m│   │   \u001b[0m\u001b[94mif\u001b[0m \u001b[96misinstance\u001b[0m(key, Index):                                                        \u001b[38;2;255;0;0m│\u001b[0m\n",
       "\u001b[38;2;255;0;0m│\u001b[0m                                                                                                  \u001b[38;2;255;0;0m│\u001b[0m\n",
       "\u001b[38;2;255;0;0m│\u001b[0m \u001b[2m/Users/jeremymeadow/DreamsData/.sage_venv/lib/python3.11/site-packages/pandas/core/indexes/\u001b[0m\u001b[1mbase.\u001b[0m \u001b[38;2;255;0;0m│\u001b[0m\n",
       "\u001b[38;2;255;0;0m│\u001b[0m \u001b[1mpy\u001b[0m:6264 in _raise_if_missing                                                                     \u001b[38;2;255;0;0m│\u001b[0m\n",
       "\u001b[38;2;255;0;0m│\u001b[0m                                                                                                  \u001b[38;2;255;0;0m│\u001b[0m\n",
       "\u001b[38;2;255;0;0m│\u001b[0m   \u001b[2m6261 \u001b[0m\u001b[2m│   │   │   │   \u001b[0m\u001b[94mraise\u001b[0m \u001b[96mKeyError\u001b[0m(\u001b[33mf\u001b[0m\u001b[33m\"\u001b[0m\u001b[33mNone of [\u001b[0m\u001b[33m{\u001b[0mkey\u001b[33m}\u001b[0m\u001b[33m] are in the [\u001b[0m\u001b[33m{\u001b[0maxis_name\u001b[33m}\u001b[0m\u001b[33m]\u001b[0m\u001b[33m\"\u001b[0m)               \u001b[38;2;255;0;0m│\u001b[0m\n",
       "\u001b[38;2;255;0;0m│\u001b[0m   \u001b[2m6262 \u001b[0m\u001b[2m│   │   │   \u001b[0m                                                                              \u001b[38;2;255;0;0m│\u001b[0m\n",
       "\u001b[38;2;255;0;0m│\u001b[0m   \u001b[2m6263 \u001b[0m\u001b[2m│   │   │   \u001b[0mnot_found = \u001b[96mlist\u001b[0m(ensure_index(key)[missing_mask.nonzero()[\u001b[94m0\u001b[0m]].unique())       \u001b[38;2;255;0;0m│\u001b[0m\n",
       "\u001b[38;2;255;0;0m│\u001b[0m \u001b[31m❱ \u001b[0m6264 \u001b[2m│   │   │   \u001b[0m\u001b[1;4;94mraise\u001b[0m\u001b[1;4m \u001b[0m\u001b[1;4;96mKeyError\u001b[0m\u001b[1;4m(\u001b[0m\u001b[1;4;33mf\u001b[0m\u001b[1;4;33m\"\u001b[0m\u001b[1;4;33m{\u001b[0m\u001b[1;4mnot_found\u001b[0m\u001b[1;4;33m}\u001b[0m\u001b[1;4;33m not in index\u001b[0m\u001b[1;4;33m\"\u001b[0m\u001b[1;4m)\u001b[0m                                   \u001b[38;2;255;0;0m│\u001b[0m\n",
       "\u001b[38;2;255;0;0m│\u001b[0m   \u001b[2m6265 \u001b[0m\u001b[2m│   \u001b[0m                                                                                      \u001b[38;2;255;0;0m│\u001b[0m\n",
       "\u001b[38;2;255;0;0m│\u001b[0m   \u001b[2m6266 \u001b[0m\u001b[2m│   \u001b[0m\u001b[1;95m@overload\u001b[0m                                                                             \u001b[38;2;255;0;0m│\u001b[0m\n",
       "\u001b[38;2;255;0;0m│\u001b[0m   \u001b[2m6267 \u001b[0m\u001b[2m│   \u001b[0m\u001b[94mdef\u001b[0m\u001b[90m \u001b[0m\u001b[92m_get_indexer_non_comparable\u001b[0m(                                                      \u001b[38;2;255;0;0m│\u001b[0m\n",
       "\u001b[38;2;255;0;0m╰──────────────────────────────────────────────────────────────────────────────────────────────────╯\u001b[0m\n",
       "\u001b[1;91mKeyError: \u001b[0m\u001b[38;2;0;135;0m\"\u001b[0m\u001b[1;38;2;0;135;0m[\u001b[0m\u001b[38;2;0;135;0m'eta', 'subsample'\u001b[0m\u001b[1;38;2;0;135;0m]\u001b[0m\u001b[38;2;0;135;0m not in index\"\u001b[0m\n"
      ]
     },
     "metadata": {},
     "output_type": "display_data"
    }
   ],
   "source": [
    "# Get the best hyperparameters\n",
    "best_params = modeling_results['tuner'].best_training_job()\n",
    "\n",
    "# Or more detailed info\n",
    "analytics = modeling_results['tuner'].analytics()\n",
    "best_job_df = analytics.dataframe()\n",
    "\n",
    "# The best parameters are in the hyperparameters columns\n",
    "print(best_params)\n",
    "print(best_job_df.loc[0, ['eta', 'max_depth', 'subsample', 'FinalObjectiveValue']])"
   ]
  },
  {
   "cell_type": "markdown",
   "metadata": {},
   "source": [
    "#### load existing model"
   ]
  },
  {
   "cell_type": "code",
   "execution_count": 16,
   "metadata": {},
   "outputs": [
    {
     "name": "stderr",
     "output_type": "stream",
     "text": [
      "\u001b[0m[03/Aug/25 14:05:53] INFO [wallet_modeler.load_existing_model:271] Loaded most recent script-mode model (timestamp: 20250803-125142): s3://wallet-script-models/model-outputs/dda-930-vt-perf/concat/wscript-dda-930-vt-perf-concat-20250803-125142/output/model.tar.gz\u001b[0m\n"
     ]
    }
   ],
   "source": [
    "[importlib.reload(module) for module in modules]\n",
    "sage_wallets_config = yaml.safe_load(Path('../config/sage_wallets_config.yaml').read_text(encoding='utf-8'))\n",
    "sage_wallets_modeling_config = yaml.safe_load(Path('../config/sage_wallets_modeling_config.yaml').read_text(encoding='utf-8'))\n",
    "\n",
    "# Load S3 URIs\n",
    "workflow_orch = wo.WalletWorkflowOrchestrator(sage_wallets_config,sage_wallets_modeling_config)\n",
    "s3_uris = workflow_orch.retrieve_training_data_uris(['concat'])\n",
    "\n",
    "# Create modeler with 'concat' as the date_suffix\n",
    "concat_modeler = wm.WalletModeler(\n",
    "    wallets_config=sage_wallets_config,\n",
    "    modeling_config=sage_wallets_modeling_config,\n",
    "    date_suffix='concat',  # This is the key - using 'concat' instead of a real date\n",
    "    s3_uris=s3_uris,\n",
    "    override_approvals=None\n",
    ")\n",
    "\n",
    "# Step 2: Load the existing concatenated model\n",
    "model_info = concat_modeler.load_existing_model()\n"
   ]
  },
  {
   "cell_type": "markdown",
   "metadata": {},
   "source": [
    "#### predict"
   ]
  },
  {
   "cell_type": "code",
   "execution_count": null,
   "metadata": {},
   "outputs": [],
   "source": [
    "[importlib.reload(module) for module in modules]\n",
    "sage_wallets_config = yaml.safe_load(Path('../config/sage_wallets_config.yaml').read_text(encoding='utf-8'))\n",
    "sage_wallets_modeling_config = yaml.safe_load(Path('../config/sage_wallets_modeling_config.yaml').read_text(encoding='utf-8'))\n",
    "\n",
    "prediction_result = concat_modeler.predict_with_batch_transform(\n",
    "    dataset_type='test',\n",
    "    download_preds=True,\n",
    "    job_name_suffix='concat-test'\n",
    ")\n",
    "\n",
    "prediction_result = concat_modeler.predict_with_batch_transform(\n",
    "    dataset_type='val',\n",
    "    download_preds=True,\n",
    "    job_name_suffix='concat-val'\n",
    ")\n"
   ]
  },
  {
   "cell_type": "markdown",
   "metadata": {},
   "source": [
    "#### evaluate"
   ]
  },
  {
   "cell_type": "code",
   "execution_count": null,
   "metadata": {},
   "outputs": [],
   "source": [
    "[importlib.reload(module) for module in modules]\n",
    "sage_wallets_config = yaml.safe_load(Path('../config/sage_wallets_config.yaml').read_text(encoding='utf-8'))\n",
    "sage_wallets_modeling_config = yaml.safe_load(Path('../config/sage_wallets_modeling_config.yaml').read_text(encoding='utf-8'))\n",
    "\n",
    "date_suffix = 'concat'\n",
    "y_test_pred = sime.load_bt_sagemaker_predictions('test', sage_wallets_config, date_suffix)\n",
    "y_test      = sime.load_concatenated_y('test', sage_wallets_config)\n",
    "y_val_pred  = sime.load_bt_sagemaker_predictions('val', sage_wallets_config, date_suffix)\n",
    "y_val       = sime.load_concatenated_y('val', sage_wallets_config)\n",
    "\n",
    "\n",
    "target_var = 'cw_coin_return'\n",
    "y_test.columns = [target_var]\n",
    "y_val.columns = [target_var]"
   ]
  },
  {
   "cell_type": "code",
   "execution_count": null,
   "metadata": {},
   "outputs": [],
   "source": [
    "[importlib.reload(module) for module in modules]\n",
    "sage_wallets_config = yaml.safe_load(Path('../config/sage_wallets_config.yaml').read_text(encoding='utf-8'))\n",
    "sage_wallets_modeling_config = yaml.safe_load(Path('../config/sage_wallets_modeling_config.yaml').read_text(encoding='utf-8'))\n",
    "\n",
    "\n",
    "# Single function call for complete evaluation\n",
    "evaluator = sime.create_concatenated_sagemaker_evaluator(\n",
    "    sage_wallets_config,\n",
    "    sage_wallets_modeling_config,\n",
    "    y_test_pred,\n",
    "    y_test,\n",
    "    y_val_pred,\n",
    "    y_val\n",
    ")"
   ]
  },
  {
   "cell_type": "code",
   "execution_count": null,
   "metadata": {},
   "outputs": [],
   "source": [
    "evaluator.summary_report()\n",
    "evaluator.plot_wallet_evaluation()\n"
   ]
  },
  {
   "cell_type": "code",
   "execution_count": null,
   "metadata": {},
   "outputs": [],
   "source": [
    "evaluator.summary_report()\n",
    "evaluator.plot_wallet_evaluation()\n"
   ]
  },
  {
   "cell_type": "markdown",
   "metadata": {},
   "source": [
    "## Temporal cv model"
   ]
  },
  {
   "cell_type": "code",
   "execution_count": null,
   "metadata": {},
   "outputs": [],
   "source": [
    "[importlib.reload(module) for module in modules]\n",
    "sage_wallets_config = yaml.safe_load(Path('../config/sage_wallets_config.yaml').read_text(encoding='utf-8'))\n",
    "sage_wallets_modeling_config = yaml.safe_load(Path('../config/sage_wallets_modeling_config.yaml').read_text(encoding='utf-8'))\n",
    "\n",
    "\n",
    "date_suffixes = [\n",
    "    '231008',\n",
    "    '231107',\n",
    "    '240306',\n",
    "    '241101',\n",
    "    '250301'\n",
    "]\n",
    "workflow_orch = wo.WalletWorkflowOrchestrator(sage_wallets_config,sage_wallets_modeling_config)\n",
    "workflow_orch.load_all_training_data(date_suffixes)\n",
    "s3_uris = workflow_orch.retrieve_training_data_uris(date_suffixes)"
   ]
  },
  {
   "cell_type": "code",
   "execution_count": null,
   "metadata": {},
   "outputs": [],
   "source": [
    "sm.train_temporal_cv_script_model(sage_wallets_config,sage_wallets_modeling_config,cv_s3_uri)"
   ]
  },
  {
   "cell_type": "markdown",
   "metadata": {},
   "source": [
    "## Single Model Sequence"
   ]
  },
  {
   "cell_type": "markdown",
   "metadata": {},
   "source": [
    "### Train Single Model"
   ]
  },
  {
   "cell_type": "markdown",
   "metadata": {},
   "source": [
    "#### retrieve file uris"
   ]
  },
  {
   "cell_type": "code",
   "execution_count": null,
   "metadata": {},
   "outputs": [],
   "source": [
    "[importlib.reload(module) for module in modules]\n",
    "sage_wallets_config = yaml.safe_load(Path('../config/sage_wallets_config.yaml').read_text(encoding='utf-8'))\n",
    "sage_wallets_modeling_config = yaml.safe_load(Path('../config/sage_wallets_modeling_config.yaml').read_text(encoding='utf-8'))\n",
    "\n",
    "workflow_orch = wo.WalletWorkflowOrchestrator(sage_wallets_config,sage_wallets_modeling_config)\n",
    "\n",
    "\n",
    "\n",
    "date_suffixes = [\n",
    "    '231008',\n",
    "    '231107',\n",
    "    '240306',\n",
    "    '250301'\n",
    "]\n",
    "\n",
    "# Generate URIs for specific dates without any prior setup\n",
    "s3_uris = workflow_orch.retrieve_training_data_uris(date_suffixes)\n",
    "s3_uris"
   ]
  },
  {
   "cell_type": "markdown",
   "metadata": {},
   "source": [
    "#### train model"
   ]
  },
  {
   "cell_type": "code",
   "execution_count": null,
   "metadata": {},
   "outputs": [],
   "source": [
    "[importlib.reload(module) for module in modules]\n",
    "sage_wallets_config = yaml.safe_load(Path('../config/sage_wallets_config.yaml').read_text(encoding='utf-8'))\n",
    "sage_wallets_modeling_config = yaml.safe_load(Path('../config/sage_wallets_modeling_config.yaml').read_text(encoding='utf-8'))\n",
    "\n",
    "date_suffix = '231008'\n",
    "\n",
    "modeler = wm.WalletModeler(\n",
    "    sage_wallets_config,\n",
    "    sage_wallets_modeling_config,\n",
    "    date_suffix,\n",
    "    s3_uris\n",
    ")\n",
    "\n"
   ]
  },
  {
   "cell_type": "code",
   "execution_count": null,
   "metadata": {},
   "outputs": [],
   "source": [
    "modeling_results = modeler.train_model()"
   ]
  },
  {
   "cell_type": "markdown",
   "metadata": {},
   "source": [
    "### Score validation set"
   ]
  },
  {
   "cell_type": "markdown",
   "metadata": {},
   "source": [
    "#### get existing model uri"
   ]
  },
  {
   "cell_type": "code",
   "execution_count": null,
   "metadata": {},
   "outputs": [],
   "source": [
    "[importlib.reload(module) for module in modules]\n",
    "sage_wallets_config = yaml.safe_load(Path('../config/sage_wallets_config.yaml').read_text(encoding='utf-8'))\n",
    "sage_wallets_modeling_config = yaml.safe_load(Path('../config/sage_wallets_modeling_config.yaml').read_text(encoding='utf-8'))\n",
    "\n",
    "\n",
    "\n",
    "date_suffix = '231008'\n",
    "\n",
    "# Generate URIs for specific dates without any prior setup\n",
    "workflow_orch = wo.WalletWorkflowOrchestrator(sage_wallets_config,sage_wallets_modeling_config)\n",
    "s3_uris = workflow_orch.retrieve_training_data_uris([date_suffix])\n",
    "\n",
    "# Launch modeler\n",
    "modeler = wm.WalletModeler(\n",
    "    sage_wallets_config,\n",
    "    sage_wallets_modeling_config,\n",
    "    date_suffix,\n",
    "    s3_uris\n",
    ")\n",
    "\n",
    "\n",
    "model_metadata = modeler.load_existing_model()"
   ]
  },
  {
   "cell_type": "markdown",
   "metadata": {},
   "source": [
    "#### predict with batch transform"
   ]
  },
  {
   "cell_type": "code",
   "execution_count": null,
   "metadata": {},
   "outputs": [],
   "source": [
    "transform_results = modeler.predict_with_batch_transform('val')"
   ]
  },
  {
   "cell_type": "code",
   "execution_count": null,
   "metadata": {},
   "outputs": [],
   "source": [
    "transform_results = modeler.predict_with_batch_transform('test')"
   ]
  },
  {
   "cell_type": "markdown",
   "metadata": {},
   "source": [
    "### Predict Using Endpoints"
   ]
  },
  {
   "cell_type": "markdown",
   "metadata": {},
   "source": [
    "#### deploy endpoint for predictions"
   ]
  },
  {
   "cell_type": "code",
   "execution_count": null,
   "metadata": {},
   "outputs": [],
   "source": [
    "modeler.list_active_endpoints()"
   ]
  },
  {
   "cell_type": "code",
   "execution_count": null,
   "metadata": {},
   "outputs": [],
   "source": [
    "modeler.deploy_endpoint()"
   ]
  },
  {
   "cell_type": "markdown",
   "metadata": {},
   "source": [
    "#### load and preprocess test/val dfs"
   ]
  },
  {
   "cell_type": "code",
   "execution_count": null,
   "metadata": {},
   "outputs": [],
   "source": [
    "x_test = pd.read_parquet(\n",
    "    Path(\"../s3_uploads/wallet_training_data_queue\") /\n",
    "    sage_wallets_config['training_data']['local_directory'] /\n",
    "    f\"x_test_{date_suffix}.parquet\"\n",
    ")\n",
    "x_val = pd.read_parquet(\n",
    "    Path(\"../s3_uploads/wallet_training_data_queue\") /\n",
    "    sage_wallets_config['training_data']['local_directory'] /\n",
    "    f\"x_val_{date_suffix}.parquet\"\n",
    ")\n",
    "\n",
    "\n"
   ]
  },
  {
   "cell_type": "code",
   "execution_count": null,
   "metadata": {},
   "outputs": [],
   "source": [
    "preprocessor = SageWalletsPreprocessor(sage_wallets_config)\n",
    "x_test_processed = preprocessor.preprocess_x_df(x_test)\n",
    "x_val_processed = preprocessor.preprocess_x_df(x_val)\n",
    "\n",
    "logger.info(f\"Preprocessed X_test {x_test_processed.shape} and \"\n",
    "            f\"X_val {x_val_processed.shape}.\")"
   ]
  },
  {
   "cell_type": "markdown",
   "metadata": {},
   "source": [
    "#### predict"
   ]
  },
  {
   "cell_type": "code",
   "execution_count": null,
   "metadata": {},
   "outputs": [],
   "source": [
    "y_test_pred = modeler.predict_using_endpoint(x_test_processed, 'test')\n",
    "y_val_pred = modeler.predict_using_endpoint(x_val_processed, 'val')"
   ]
  },
  {
   "cell_type": "markdown",
   "metadata": {},
   "source": [
    "#### delete all endpoints"
   ]
  },
  {
   "cell_type": "code",
   "execution_count": null,
   "metadata": {},
   "outputs": [],
   "source": [
    "modeler.delete_all_endpoints()"
   ]
  },
  {
   "cell_type": "code",
   "execution_count": null,
   "metadata": {},
   "outputs": [],
   "source": [
    "modeler.list_active_endpoints()\n",
    "modeler.list_all_endpoints()"
   ]
  },
  {
   "cell_type": "markdown",
   "metadata": {},
   "source": [
    "## Script model training"
   ]
  },
  {
   "cell_type": "code",
   "execution_count": null,
   "metadata": {},
   "outputs": [],
   "source": [
    "[importlib.reload(module) for module in modules]\n",
    "sage_wallets_config = yaml.safe_load(Path('../config/sage_wallets_config.yaml').read_text(encoding='utf-8'))\n",
    "sage_wallets_modeling_config = yaml.safe_load(Path('../config/sage_wallets_modeling_config.yaml').read_text(encoding='utf-8'))\n",
    "\n",
    "\n",
    "date_suffixes = [\n",
    "    '231008',\n",
    "    '231107',\n",
    "    '240306',\n",
    "    '250301'\n",
    "]\n",
    "\n",
    "date_suffix = '231008'\n",
    "\n",
    "\n",
    "workflow_orch = wo.WalletWorkflowOrchestrator(sage_wallets_config,sage_wallets_modeling_config)\n",
    "workflow_orch.load_all_training_data(date_suffixes)\n",
    "s3_uris = workflow_orch.retrieve_training_data_uris(date_suffixes)"
   ]
  },
  {
   "cell_type": "code",
   "execution_count": null,
   "metadata": {},
   "outputs": [],
   "source": [
    "[importlib.reload(module) for module in modules]\n",
    "sage_wallets_config = yaml.safe_load(Path('../config/sage_wallets_config.yaml').read_text(encoding='utf-8'))\n",
    "sage_wallets_modeling_config = yaml.safe_load(Path('../config/sage_wallets_modeling_config.yaml').read_text(encoding='utf-8'))\n",
    "\n",
    "date_suffix = '231008'\n",
    "\n",
    "modeler = wm.WalletModeler(\n",
    "    sage_wallets_config,\n",
    "    sage_wallets_modeling_config,\n",
    "    date_suffix,\n",
    "    s3_uris\n",
    ")\n",
    "\n"
   ]
  },
  {
   "cell_type": "code",
   "execution_count": null,
   "metadata": {},
   "outputs": [],
   "source": [
    "sm.train_single_period_script_model(\n",
    "    sage_wallets_config,\n",
    "    sage_wallets_modeling_config,\n",
    "    date_suffix,\n",
    "    s3_uris\n",
    ")"
   ]
  },
  {
   "cell_type": "code",
   "execution_count": null,
   "metadata": {},
   "outputs": [],
   "source": [
    "from sagemaker.session import Session\n",
    "from sagemaker.xgboost.estimator import XGBoost\n",
    "from sagemaker.tuner import HyperparameterTuner, ContinuousParameter, IntegerParameter\n",
    "\n",
    "s3_data = {\n",
    "    \"train\":      s3_uris[date_suffix]['train'],\n",
    "    \"validation\": s3_uris[date_suffix]['val']\n",
    "}\n",
    "model_output_path = (f\"s3://wallet-script-models/model-outputs\")\n",
    "\n",
    "estimator = XGBoost(\n",
    "    entry_point         = \"script_mode_modeler.py\",     # path relative to notebook\n",
    "    source_dir          = \"../src/script_modeling/\",    # folder that holds the script\n",
    "    base_job_name       = \"dda-922-v4\",                 # uploaded and immutable script version\n",
    "    framework_version   = sage_wallets_modeling_config['framework']['version'],\n",
    "    role                = sage_wallets_config['aws']['modeler_arn'],\n",
    "    instance_type       = sage_wallets_modeling_config['metaparams']['instance_type'],\n",
    "    instance_count      = sage_wallets_modeling_config['metaparams']['instance_count'],\n",
    "    output_path         = model_output_path,\n",
    "    hyperparameters = {\n",
    "        \"eta\": 0.1,\n",
    "        \"max_depth\": 6,\n",
    "        \"subsample\": 1.0,\n",
    "        \"num_boost_round\": 50,            # small for a smoke-test\n",
    "        \"early_stopping_rounds\": 10\n",
    "    },\n",
    "    # metric_definitions=[                  # regex must match the print line\n",
    "    #     {\"Name\": \"cv_auc_pr\", \"Regex\": \"validation:cv_auc_pr=(.*)\"}\n",
    "    # ],\n",
    ")\n",
    "\n",
    "# one-shot fit (no tuning yet)\n",
    "estimator.fit(s3_data, logs=\"All\")"
   ]
  },
  {
   "cell_type": "markdown",
   "metadata": {},
   "source": [
    "# Model Evaluation"
   ]
  },
  {
   "cell_type": "markdown",
   "metadata": {},
   "source": [
    "### Analyze predictions"
   ]
  },
  {
   "cell_type": "code",
   "execution_count": null,
   "metadata": {},
   "outputs": [],
   "source": [
    "[importlib.reload(module) for module in modules]\n",
    "sage_wallets_config = yaml.safe_load(Path('../config/sage_wallets_config.yaml').read_text(encoding='utf-8'))\n",
    "sage_wallets_modeling_config = yaml.safe_load(Path('../config/sage_wallets_modeling_config.yaml').read_text(encoding='utf-8'))\n",
    "\n",
    "\n",
    "date_suffixes = [\n",
    "    '231008',\n",
    "    # '240306'\n",
    "]\n",
    "date_suffix = date_suffixes[0]"
   ]
  },
  {
   "cell_type": "code",
   "execution_count": null,
   "metadata": {},
   "outputs": [],
   "source": [
    "y_test_pred = sime.load_bt_sagemaker_predictions('test', sage_wallets_config, date_suffix)\n",
    "y_val_pred = sime.load_bt_sagemaker_predictions('val', sage_wallets_config, date_suffix)"
   ]
  },
  {
   "cell_type": "code",
   "execution_count": null,
   "metadata": {},
   "outputs": [],
   "source": [
    "# Single function call for complete evaluation\n",
    "evaluator = sime.run_sagemaker_evaluation(\n",
    "    sage_wallets_config,\n",
    "    sage_wallets_modeling_config,\n",
    "    date_suffix,\n",
    "    y_test_pred,\n",
    "    y_val_pred\n",
    ")"
   ]
  },
  {
   "cell_type": "code",
   "execution_count": null,
   "metadata": {},
   "outputs": [],
   "source": [
    "evaluator.y_validation"
   ]
  },
  {
   "cell_type": "code",
   "execution_count": null,
   "metadata": {},
   "outputs": [],
   "source": [
    "evaluator.y_validation_pred_proba"
   ]
  },
  {
   "cell_type": "code",
   "execution_count": null,
   "metadata": {},
   "outputs": [],
   "source": [
    "from sklearn.metrics import roc_curve, auc\n",
    "import matplotlib.pyplot as plt\n",
    "\n",
    "fpr, tpr, _ = roc_curve(evaluator.y_validation, evaluator.y_validation_pred_proba)\n",
    "roc_auc = auc(fpr, tpr)\n",
    "\n",
    "plt.figure(figsize=(8, 6))\n",
    "plt.plot(fpr, tpr, color='darkorange', lw=2, label=f'ROC curve (AUC = {roc_auc:.3f})')\n",
    "plt.plot([0, 1], [0, 1], color='navy', lw=2, linestyle='--', label='Random classifier')\n",
    "plt.xlim([0.0, 1.0])\n",
    "plt.ylim([0.0, 1.05])\n",
    "plt.xlabel('False Positive Rate')\n",
    "plt.ylabel('True Positive Rate')\n",
    "plt.title('ROC Curve - Validation Set')\n",
    "plt.legend(loc=\"lower right\")\n",
    "plt.grid(True, alpha=0.3)\n",
    "plt.show()"
   ]
  },
  {
   "cell_type": "code",
   "execution_count": null,
   "metadata": {},
   "outputs": [],
   "source": [
    "evaluator.summary_report()\n",
    "evaluator.plot_wallet_evaluation()\n"
   ]
  },
  {
   "cell_type": "code",
   "execution_count": null,
   "metadata": {},
   "outputs": [],
   "source": [
    "def load_sagemaker_predictions(\n",
    "    data_type: str,\n",
    "    sage_wallets_config: dict,\n",
    "    sage_wallets_modeling_config: dict,\n",
    "    date_suffix: str\n",
    ") -> tuple[pd.Series, pd.Series]:\n",
    "    \"\"\"\n",
    "    Load SageMaker predictions and corresponding actuals for a given data type.\n",
    "\n",
    "    Params:\n",
    "    - data_type (str): Either 'test' or 'val'\n",
    "    - sage_wallets_config (dict): Configuration for training data paths\n",
    "    - sage_wallets_modeling_config (dict): Configuration for model parameters\n",
    "    - date_suffix (str): Date suffix for file naming\n",
    "\n",
    "    Returns:\n",
    "    - tuple: (predictions_series, actuals_series) with aligned indices\n",
    "    \"\"\"\n",
    "    # Load predictions\n",
    "    pred_path = Path(sage_wallets_modeling_config['metaparams']['endpoint_preds_dir']) / \\\n",
    "                f\"endpoint_y_pred_{data_type}_{sage_wallets_config['training_data']['local_directory']}_{date_suffix}.csv\"\n",
    "    pred_df = pd.read_csv(pred_path)\n",
    "\n",
    "    if 'score' not in pred_df.columns:\n",
    "        raise ValueError(f\"SageMaker predictions are missing the 'score' column. \"\n",
    "                        f\"Available columns: {pred_df.columns}\")\n",
    "    pred_series = pred_df['score']\n",
    "\n",
    "    # Load actuals\n",
    "    training_data_path = (\n",
    "        Path(f\"../s3_uploads\") / \"wallet_training_data_queue\" /\n",
    "        f\"{sage_wallets_config['training_data']['local_directory']}\"\n",
    "    )\n",
    "    actuals_path = training_data_path / f\"y_{data_type}_{date_suffix}.parquet\"\n",
    "    actuals_df = pd.read_parquet(actuals_path)\n",
    "\n",
    "    if len(actuals_df.columns) > 1:\n",
    "        raise ValueError(f\"Found unexpected columns in y_{data_type}_df. \"\n",
    "                        f\"Expected 1 column, found {actuals_df.columns}.\")\n",
    "    actuals_series = actuals_df.iloc[:, 0]\n",
    "\n",
    "    # Validate lengths and align indices\n",
    "    if len(pred_series) != len(actuals_series):\n",
    "        raise ValueError(f\"Length of y_{data_type}_pred ({len(pred_series)}) does \"\n",
    "                        f\"not match length of y_{data_type}_true ({len(actuals_series)}).\")\n",
    "\n",
    "    pred_series.index = actuals_series.index\n",
    "\n",
    "    return pred_series, actuals_series"
   ]
  },
  {
   "cell_type": "code",
   "execution_count": null,
   "metadata": {},
   "outputs": [],
   "source": [
    "# Load predictions and actuals\n",
    "y_test_pred_series, y_test_true_series = load_sagemaker_predictions(\n",
    "    'test', sage_wallets_config, sage_wallets_modeling_config, date_suffix\n",
    ")\n",
    "y_val_pred_series, y_val_true_series = load_sagemaker_predictions(\n",
    "    'val', sage_wallets_config, sage_wallets_modeling_config, date_suffix\n",
    ")\n",
    "\n",
    "# Load remaining training data\n",
    "training_data_path = (\n",
    "    Path(f\"../s3_uploads\") / \"wallet_training_data_queue\" /\n",
    "    f\"{sage_wallets_config['training_data']['local_directory']}\"\n",
    ")\n",
    "X_train = pd.read_parquet(training_data_path / f\"x_train_{date_suffix}.parquet\")\n",
    "y_train = pd.read_parquet(training_data_path / f\"y_train_{date_suffix}.parquet\")\n",
    "X_test = pd.read_parquet(training_data_path / f\"x_test_{date_suffix}.parquet\")\n",
    "X_val = pd.read_parquet(training_data_path / f\"x_val_{date_suffix}.parquet\")\n",
    "\n",
    "# Identify target variable and model type\n",
    "target_variable = y_val_true_series.name or y_train.columns[0]\n",
    "objective = sage_wallets_modeling_config['training']['hyperparameters']['objective']\n",
    "model_type = 'regression' if objective[:3] == 'reg' else 'unknown'"
   ]
  },
  {
   "cell_type": "code",
   "execution_count": null,
   "metadata": {},
   "outputs": [],
   "source": [
    "# Create model_id and modeling_config\n",
    "model_id = f\"sagemaker_{sage_wallets_config['training_data']['local_directory']}_{date_suffix}\"\n",
    "\n",
    "modeling_config = {\n",
    "    'target_variable': target_variable,\n",
    "    'model_type': model_type,\n",
    "    'returns_winsorization': 0.005,  # Default for winsorizing returns\n",
    "    'training_data': {\n",
    "        'modeling_period_duration': 30  # Default performance window\n",
    "    },\n",
    "    'sagemaker_metadata': {\n",
    "        'objective': objective,\n",
    "        'local_directory': sage_wallets_config['training_data']['local_directory'],\n",
    "        'date_suffix': date_suffix\n",
    "    }\n",
    "}\n",
    "\n",
    "# Create minimal wallet_model_results for SageMaker evaluation\n",
    "wallet_model_results = {\n",
    "    'model_id': model_id,\n",
    "    'modeling_config': modeling_config,\n",
    "    'model_type': model_type,\n",
    "\n",
    "    # Training data\n",
    "    'X_train': X_train,\n",
    "    'X_test': X_test,\n",
    "    'y_train': y_train,\n",
    "    'y_test': y_test_true_series,\n",
    "    'y_pred': y_test_pred_series,\n",
    "    'training_cohort_pred': None,\n",
    "    'training_cohort_actuals': None,\n",
    "\n",
    "    # Validation data\n",
    "    'X_validation': X_val,\n",
    "    'y_validation': y_val_true_series,\n",
    "    'y_validation_pred': y_val_pred_series,\n",
    "    'validation_target_vars_df': None,\n",
    "\n",
    "    # Fixed mock pipeline\n",
    "    'pipeline': type('MockPipeline', (), {\n",
    "        'named_steps': {'estimator': type('MockModel', (), {\n",
    "            'get_params': lambda self: {'objective': objective}  # Accept self argument\n",
    "        })()},\n",
    "        '__getitem__': lambda self, key: type('MockTransformer', (), {\n",
    "            'transform': lambda self, X: X  # Accept self argument\n",
    "        })()\n",
    "    })()\n",
    "}\n",
    "\n",
    "# Create evaluator\n",
    "wallet_evaluator = wime.RegressorEvaluator(wallet_model_results)\n",
    "\n",
    "# Run basic evaluation\n",
    "wallet_evaluator.summary_report()\n",
    "wallet_evaluator.plot_wallet_evaluation()"
   ]
  },
  {
   "cell_type": "code",
   "execution_count": null,
   "metadata": {},
   "outputs": [],
   "source": []
  },
  {
   "cell_type": "code",
   "execution_count": null,
   "metadata": {},
   "outputs": [],
   "source": [
    "target_variable"
   ]
  },
  {
   "cell_type": "code",
   "execution_count": null,
   "metadata": {},
   "outputs": [],
   "source": []
  }
 ],
 "metadata": {
  "kernelspec": {
   "display_name": ".sage_venv",
   "language": "python",
   "name": "python3"
  },
  "language_info": {
   "codemirror_mode": {
    "name": "ipython",
    "version": 3
   },
   "file_extension": ".py",
   "mimetype": "text/x-python",
   "name": "python",
   "nbconvert_exporter": "python",
   "pygments_lexer": "ipython3",
   "version": "3.11.9"
  }
 },
 "nbformat": 4,
 "nbformat_minor": 2
}
