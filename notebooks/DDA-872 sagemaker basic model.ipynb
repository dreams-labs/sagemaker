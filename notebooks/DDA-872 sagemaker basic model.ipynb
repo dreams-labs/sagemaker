{
 "cells": [
  {
   "cell_type": "markdown",
   "metadata": {},
   "source": [
    "### start"
   ]
  },
  {
   "cell_type": "code",
   "execution_count": 19,
   "metadata": {},
   "outputs": [
    {
     "name": "stderr",
     "output_type": "stream",
     "text": [
      "\u001b[0m[06/Jul/25 17:12:38] INFO [utils.export_code:1542] Consolidation complete. All files are saved in temp/consolidated_code.py\u001b[0m\n",
      "\u001b[92m[06/Jul/25 17:12:38] MILESTONE [2564028623.<module>:108] Good morning, let's get to work\u001b[0m\n"
     ]
    }
   ],
   "source": [
    "# pyright: reportMissingImports=false\n",
    "# pyright: reportMissingModuleSource=false\n",
    "\n",
    "import uuid\n",
    "import random\n",
    "import hashlib\n",
    "import os\n",
    "import sys\n",
    "import gc\n",
    "import time\n",
    "import copy\n",
    "import logging\n",
    "import re\n",
    "from itertools import chain,combinations\n",
    "import pdb\n",
    "import math\n",
    "from pathlib import Path\n",
    "import pickle\n",
    "import cloudpickle\n",
    "import datetime\n",
    "from datetime import datetime,timedelta\n",
    "import json\n",
    "import warnings\n",
    "import yaml\n",
    "from typing import Dict,Union,List,Any,Tuple\n",
    "import pytest\n",
    "import importlib\n",
    "from dotenv import load_dotenv\n",
    "import pandas as pd\n",
    "import numpy as np\n",
    "import IPython\n",
    "import requests\n",
    "import warnings\n",
    "import boto3\n",
    "import matplotlib as plt\n",
    "\n",
    "# load_dotenv(Path(\"../../../Local/.env\"))\n",
    "\n",
    "# Custom format function for displaying |numbers/\n",
    "pd.set_option('display.float_format', lambda x: f'{x:.12g}')\n",
    "# pd.reset_option('display.float_format')\n",
    "\n",
    "# Suppress warnings\n",
    "os.environ['PYDEVD_DISABLE_FILE_VALIDATION'] = '1'\n",
    "warnings.filterwarnings('ignore', message='.*frozen modules.*')\n",
    "warnings.filterwarnings(\"ignore\", message=\"MallocStackLogging\")\n",
    "\n",
    "# silence pygame donation request\n",
    "os.environ['PYGAME_HIDE_SUPPORT_PROMPT'] = \"hide\"\n",
    "os.environ['LOGGING_FILE'] = \"../../../Local/logs/wallet_modeling.log\"\n",
    "os.environ['NOTIFICATION_SOUNDS_DIR'] = \"../../../Local\"\n",
    "\n",
    "# Dark mode charts\n",
    "plt.rcParams['figure.facecolor'] = '#181818'  # Custom background color (dark gray in this case)\n",
    "plt.rcParams['axes.facecolor'] = '#181818'\n",
    "plt.rcParams['text.color'] = '#afc6ba'\n",
    "plt.rcParams['axes.labelcolor'] = '#afc6ba'\n",
    "plt.rcParams['xtick.color'] = '#afc6ba'\n",
    "plt.rcParams['ytick.color'] = '#afc6ba'\n",
    "plt.rcParams['axes.titlecolor'] = '#afc6ba'\n",
    "plt.rcParams['text.usetex'] = False\n",
    "plt.rcParams['mathtext.default'] = 'regular'\n",
    "\n",
    "import utils as u\n",
    "# Set the custom error handler\n",
    "ipython = IPython.get_ipython()\n",
    "ipython.set_custom_exc((Exception,), u.notify_on_failure)\n",
    "\n",
    "player = u.AmbientPlayer()\n",
    "player.stop_all_players()\n",
    "\n",
    "# configure logger\n",
    "logger = u.setup_notebook_logger('../logs/notebook_logs.log')\n",
    "logger.setLevel(logging.INFO)\n",
    "\n",
    "# import local modules\n",
    "# pyright: reportMissingImports=false\n",
    "sys.path.append('..//src')\n",
    "\n",
    "import sagemaker_wallets.wallet_modeler as wm\n",
    "import sagemaker_wallets.workflow_orchestrator as wwo\n",
    "from utils import ConfigError\n",
    "import utils as u\n",
    "\n",
    "# reload all modules\n",
    "modules = [\n",
    "    wm, wwo,\n",
    "    u\n",
    "]\n",
    "\n",
    "# load all configs\n",
    "sage_wallets_config = yaml.safe_load(Path('../config/sage_wallets_config.yaml').read_text(encoding='utf-8'))\n",
    "sage_wallets_modeling_config = yaml.safe_load(Path('../config/sage_wallets_modeling_config.yaml').read_text(encoding='utf-8'))\n",
    "\n",
    "\n",
    "u.export_code(\n",
    "    code_directories=[\n",
    "        # 'etls',\n",
    "        'sagemaker_wallets',\n",
    "    ],\n",
    "    # include_config = True,\n",
    "    # ipynb_notebook = 'DDA-769 coin model score dist toggle.ipynb'\n",
    ")\n",
    "\n",
    "[importlib.reload(module) for module in modules]\n",
    "u.notify('retro')\n",
    "\n",
    "logger.milestone(\"Good morning, let's get to work\")"
   ]
  },
  {
   "cell_type": "markdown",
   "metadata": {},
   "source": [
    "# Initial ETLs"
   ]
  },
  {
   "cell_type": "markdown",
   "metadata": {},
   "source": [
    "# Code begins"
   ]
  },
  {
   "cell_type": "markdown",
   "metadata": {},
   "source": [
    "#### initiate orchestrator"
   ]
  },
  {
   "cell_type": "code",
   "execution_count": 4,
   "metadata": {},
   "outputs": [],
   "source": [
    "[importlib.reload(module) for module in modules]\n",
    "sage_wallets_config = yaml.safe_load(Path('../config/sage_wallets_config.yaml').read_text(encoding='utf-8'))\n",
    "sage_wallets_modeling_config = yaml.safe_load(Path('../config/sage_wallets_modeling_config.yaml').read_text(encoding='utf-8'))\n",
    "\n",
    "\n",
    "workflow_orch = wwo.WalletWorkflowOrchestrator(sage_wallets_config)"
   ]
  },
  {
   "cell_type": "markdown",
   "metadata": {},
   "source": [
    "#### load and upload data"
   ]
  },
  {
   "cell_type": "code",
   "execution_count": null,
   "metadata": {},
   "outputs": [],
   "source": [
    "[importlib.reload(module) for module in modules]\n",
    "sage_wallets_config = yaml.safe_load(Path('../config/sage_wallets_config.yaml').read_text(encoding='utf-8'))\n",
    "sage_wallets_modeling_config = yaml.safe_load(Path('../config/sage_wallets_modeling_config.yaml').read_text(encoding='utf-8'))\n",
    "\n",
    "date_suffixes = [\n",
    "    '231107',\n",
    "    '240306'\n",
    "]\n",
    "workflow_orch.load_training_data(date_suffixes)"
   ]
  },
  {
   "cell_type": "code",
   "execution_count": null,
   "metadata": {},
   "outputs": [],
   "source": [
    "# Upload and retrieve URIs\n",
    "workflow_orch.upload_training_data(overwrite_existing=False)\n",
    "s3_uris = workflow_orch.retrieve_training_data_uris(date_suffixes)"
   ]
  },
  {
   "cell_type": "markdown",
   "metadata": {},
   "source": [
    "### retrieve uris"
   ]
  },
  {
   "cell_type": "code",
   "execution_count": 20,
   "metadata": {},
   "outputs": [
    {
     "data": {
      "text/plain": [
       "{'231107': {'x_train': 's3://wallet-training-data/training_data_processed/dda_879_sagemaker_v0_dev/231107/x_train.csv',\n",
       "  'y_train': 's3://wallet-training-data/training_data_processed/dda_879_sagemaker_v0_dev/231107/y_train.csv',\n",
       "  'x_test': 's3://wallet-training-data/training_data_processed/dda_879_sagemaker_v0_dev/231107/x_test.csv',\n",
       "  'y_test': 's3://wallet-training-data/training_data_processed/dda_879_sagemaker_v0_dev/231107/y_test.csv',\n",
       "  'x_eval': 's3://wallet-training-data/training_data_processed/dda_879_sagemaker_v0_dev/231107/x_eval.csv',\n",
       "  'y_eval': 's3://wallet-training-data/training_data_processed/dda_879_sagemaker_v0_dev/231107/y_eval.csv',\n",
       "  'x_val': 's3://wallet-training-data/training_data_processed/dda_879_sagemaker_v0_dev/231107/x_val.csv',\n",
       "  'y_val': 's3://wallet-training-data/training_data_processed/dda_879_sagemaker_v0_dev/231107/y_val.csv'}}"
      ]
     },
     "execution_count": 20,
     "metadata": {},
     "output_type": "execute_result"
    }
   ],
   "source": [
    "date_suffixes = [\n",
    "    '231107',\n",
    "    # '240306'\n",
    "]\n",
    "\n",
    "# Generate URIs for specific dates without any prior setup\n",
    "s3_uris = workflow_orch.retrieve_training_data_uris(date_suffixes)\n",
    "s3_uris"
   ]
  },
  {
   "cell_type": "markdown",
   "metadata": {},
   "source": [
    "### dda 872 devspace"
   ]
  },
  {
   "cell_type": "code",
   "execution_count": 23,
   "metadata": {},
   "outputs": [],
   "source": [
    "[importlib.reload(module) for module in modules]\n",
    "sage_wallets_config = yaml.safe_load(Path('../config/sage_wallets_config.yaml').read_text(encoding='utf-8'))\n",
    "sage_wallets_modeling_config = yaml.safe_load(Path('../config/sage_wallets_modeling_config.yaml').read_text(encoding='utf-8'))\n",
    "\n",
    "\n",
    "modeler = wm.WalletModeler(sage_wallets_config, s3_uris)\n",
    "\n",
    "\n"
   ]
  },
  {
   "cell_type": "code",
   "execution_count": 24,
   "metadata": {},
   "outputs": [
    {
     "name": "stderr",
     "output_type": "stream",
     "text": [
      "\u001b[0m[06/Jul/25 17:13:50] INFO [wallet_modeler.train_model:56] Starting SageMaker XGBoost training\u001b[0m\n",
      "\u001b[0m[06/Jul/25 17:13:50] INFO [image_uris._processor:530] Ignoring unnecessary instance type: None.\u001b[0m\n",
      "\u001b[0m[06/Jul/25 17:13:50] INFO [wallet_modeler.train_model:101] Launching training job: wallet-xgb-231107-171350\u001b[0m\n",
      "\u001b[0m[06/Jul/25 17:13:50] INFO [telemetry_logging.wrapper:91] SageMaker Python SDK will collect telemetry to help us better understand our user's needs, diagnose issues, and deliver additional features.\n",
      "To opt out of telemetry, please disable via TelemetryOptOut parameter in SDK defaults config. For more information, refer to https://sagemaker.readthedocs.io/en/stable/overview.html#configuring-and-using-defaults-with-the-sagemaker-python-sdk.\u001b[0m\n",
      "\u001b[0m[06/Jul/25 17:13:50] INFO [session.submit:1053] Creating training-job with name: wallet-xgb-231107-171350\u001b[0m\n"
     ]
    },
    {
     "name": "stdout",
     "output_type": "stream",
     "text": [
      "2025-07-07 00:13:51 Starting - Starting the training job...\n",
      "2025-07-07 00:14:26 Downloading - Downloading input data......\n",
      "2025-07-07 00:15:11 Downloading - Downloading the training image......\n",
      "2025-07-07 00:16:17 Training - Training image download completed. Training in progress.\n",
      "2025-07-07 00:16:17 Uploading - Uploading generated training model/miniconda3/lib/python3.8/site-packages/xgboost/compat.py:36: FutureWarning: pandas.Int64Index is deprecated and will be removed from pandas in a future version. Use pandas.Index with the appropriate dtype instead.\n",
      "  from pandas import MultiIndex, Int64Index\n",
      "[2025-07-07 00:16:12.497 ip-10-0-236-180.us-west-2.compute.internal:8 INFO utils.py:28] RULE_JOB_STOP_SIGNAL_FILENAME: None\n",
      "[2025-07-07 00:16:12.527 ip-10-0-236-180.us-west-2.compute.internal:8 INFO profiler_config_parser.py:111] User has disabled profiler.\n",
      "[2025-07-07:00:16:12:INFO] Imported framework sagemaker_xgboost_container.training\n",
      "[2025-07-07:00:16:12:INFO] Failed to parse hyperparameter objective value reg:squarederror to Json.\n",
      "Returning the value itself\n",
      "[2025-07-07:00:16:12:INFO] No GPUs detected (normal if no gpus installed)\n",
      "[2025-07-07:00:16:12:INFO] Running XGBoost Sagemaker in algorithm mode\n",
      "[2025-07-07:00:16:12:INFO] Determined 0 GPU(s) available on the instance.\n",
      "[2025-07-07:00:16:12:INFO] Determined delimiter of CSV input is ','\n",
      "[2025-07-07:00:16:12:INFO] Determined delimiter of CSV input is ','\n",
      "[2025-07-07:00:16:12:INFO] files path: /opt/ml/input/data/train\n",
      "[2025-07-07:00:16:12:INFO] Determined delimiter of CSV input is ','\n",
      "[2025-07-07:00:16:12:INFO] files path: /opt/ml/input/data/validation\n",
      "[2025-07-07:00:16:12:INFO] Determined delimiter of CSV input is ','\n",
      "[2025-07-07:00:16:12:INFO] Single node training.\n",
      "[2025-07-07:00:16:12:INFO] Train matrix has 1000 rows and 205 columns\n",
      "[2025-07-07:00:16:12:INFO] Validation matrix has 1000 rows\n",
      "[2025-07-07 00:16:12.979 ip-10-0-236-180.us-west-2.compute.internal:8 INFO json_config.py:92] Creating hook from json_config at /opt/ml/input/config/debughookconfig.json.\n",
      "[2025-07-07 00:16:12.979 ip-10-0-236-180.us-west-2.compute.internal:8 INFO hook.py:206] tensorboard_dir has not been set for the hook. SMDebug will not be exporting tensorboard summaries.\n",
      "[2025-07-07 00:16:12.980 ip-10-0-236-180.us-west-2.compute.internal:8 INFO hook.py:259] Saving to /opt/ml/output/tensors\n",
      "[2025-07-07 00:16:12.980 ip-10-0-236-180.us-west-2.compute.internal:8 INFO state_store.py:77] The checkpoint config file /opt/ml/input/config/checkpointconfig.json does not exist.\n",
      "[2025-07-07:00:16:12:INFO] Debug hook created from config\n",
      "[2025-07-07 00:16:13.020 ip-10-0-236-180.us-west-2.compute.internal:8 INFO hook.py:427] Monitoring the collections: metrics\n",
      "[2025-07-07 00:16:13.024 ip-10-0-236-180.us-west-2.compute.internal:8 INFO hook.py:491] Hook is writing from the hook with pid: 8\n",
      "[0]#011train-rmse:0.40150#011validation-rmse:0.40057\n",
      "[1]#011train-rmse:0.29002#011validation-rmse:0.29647\n",
      "[2]#011train-rmse:0.21331#011validation-rmse:0.22682\n",
      "[3]#011train-rmse:0.15957#011validation-rmse:0.18070\n",
      "[4]#011train-rmse:0.12218#011validation-rmse:0.15164\n",
      "[5]#011train-rmse:0.09686#011validation-rmse:0.13410\n",
      "[6]#011train-rmse:0.07819#011validation-rmse:0.12335\n",
      "[7]#011train-rmse:0.06788#011validation-rmse:0.11860\n",
      "[8]#011train-rmse:0.05839#011validation-rmse:0.11528\n",
      "[9]#011train-rmse:0.05070#011validation-rmse:0.11332\n",
      "[10]#011train-rmse:0.04608#011validation-rmse:0.11166\n",
      "[11]#011train-rmse:0.04243#011validation-rmse:0.11043\n",
      "[12]#011train-rmse:0.03998#011validation-rmse:0.11034\n",
      "[13]#011train-rmse:0.03689#011validation-rmse:0.10994\n",
      "[14]#011train-rmse:0.03413#011validation-rmse:0.10952\n",
      "[15]#011train-rmse:0.03234#011validation-rmse:0.10975\n",
      "[16]#011train-rmse:0.03016#011validation-rmse:0.10957\n",
      "[17]#011train-rmse:0.02873#011validation-rmse:0.10931\n",
      "[18]#011train-rmse:0.02691#011validation-rmse:0.10924\n",
      "[19]#011train-rmse:0.02434#011validation-rmse:0.10957\n",
      "[20]#011train-rmse:0.02238#011validation-rmse:0.10941\n",
      "[21]#011train-rmse:0.02108#011validation-rmse:0.10944\n",
      "[22]#011train-rmse:0.01974#011validation-rmse:0.10925\n",
      "[23]#011train-rmse:0.01800#011validation-rmse:0.10939\n",
      "[24]#011train-rmse:0.01729#011validation-rmse:0.10934\n",
      "[25]#011train-rmse:0.01566#011validation-rmse:0.10907\n",
      "[26]#011train-rmse:0.01470#011validation-rmse:0.10912\n",
      "[27]#011train-rmse:0.01408#011validation-rmse:0.10900\n",
      "[28]#011train-rmse:0.01305#011validation-rmse:0.10911\n",
      "[29]#011train-rmse:0.01242#011validation-rmse:0.10905\n",
      "[30]#011train-rmse:0.01157#011validation-rmse:0.10910\n",
      "[31]#011train-rmse:0.01078#011validation-rmse:0.10912\n",
      "[32]#011train-rmse:0.00984#011validation-rmse:0.10918\n",
      "[33]#011train-rmse:0.00956#011validation-rmse:0.10911\n",
      "[34]#011train-rmse:0.00892#011validation-rmse:0.10899\n",
      "[35]#011train-rmse:0.00864#011validation-rmse:0.10901\n",
      "[36]#011train-rmse:0.00789#011validation-rmse:0.10891\n",
      "[37]#011train-rmse:0.00762#011validation-rmse:0.10889\n",
      "[38]#011train-rmse:0.00689#011validation-rmse:0.10891\n",
      "[39]#011train-rmse:0.00649#011validation-rmse:0.10888\n",
      "[40]#011train-rmse:0.00622#011validation-rmse:0.10886\n",
      "[41]#011train-rmse:0.00611#011validation-rmse:0.10884\n",
      "[42]#011train-rmse:0.00598#011validation-rmse:0.10886\n",
      "[43]#011train-rmse:0.00564#011validation-rmse:0.10891\n",
      "[44]#011train-rmse:0.00542#011validation-rmse:0.10891\n",
      "[45]#011train-rmse:0.00514#011validation-rmse:0.10889\n",
      "[46]#011train-rmse:0.00488#011validation-rmse:0.10887\n",
      "[47]#011train-rmse:0.00461#011validation-rmse:0.10877\n",
      "[48]#011train-rmse:0.00432#011validation-rmse:0.10876\n",
      "[49]#011train-rmse:0.00390#011validation-rmse:0.10875\n",
      "[50]#011train-rmse:0.00377#011validation-rmse:0.10872\n",
      "[51]#011train-rmse:0.00367#011validation-rmse:0.10873\n",
      "[52]#011train-rmse:0.00347#011validation-rmse:0.10871\n",
      "[53]#011train-rmse:0.00317#011validation-rmse:0.10867\n",
      "[54]#011train-rmse:0.00304#011validation-rmse:0.10867\n",
      "[55]#011train-rmse:0.00296#011validation-rmse:0.10868\n",
      "[56]#011train-rmse:0.00282#011validation-rmse:0.10865\n",
      "[57]#011train-rmse:0.00266#011validation-rmse:0.10866\n",
      "[58]#011train-rmse:0.00247#011validation-rmse:0.10865\n",
      "[59]#011train-rmse:0.00233#011validation-rmse:0.10863\n",
      "[60]#011train-rmse:0.00221#011validation-rmse:0.10865\n",
      "[61]#011train-rmse:0.00202#011validation-rmse:0.10866\n",
      "[62]#011train-rmse:0.00183#011validation-rmse:0.10866\n",
      "[63]#011train-rmse:0.00173#011validation-rmse:0.10866\n",
      "[64]#011train-rmse:0.00166#011validation-rmse:0.10868\n",
      "[65]#011train-rmse:0.00155#011validation-rmse:0.10869\n",
      "[66]#011train-rmse:0.00150#011validation-rmse:0.10868\n",
      "[67]#011train-rmse:0.00138#011validation-rmse:0.10868\n",
      "[68]#011train-rmse:0.00126#011validation-rmse:0.10867\n",
      "[69]#011train-rmse:0.00114#011validation-rmse:0.10867\n",
      "[70]#011train-rmse:0.00112#011validation-rmse:0.10867\n",
      "[71]#011train-rmse:0.00108#011validation-rmse:0.10867\n",
      "[72]#011train-rmse:0.00104#011validation-rmse:0.10868\n",
      "[73]#011train-rmse:0.00100#011validation-rmse:0.10867\n",
      "[74]#011train-rmse:0.00095#011validation-rmse:0.10868\n",
      "[75]#011train-rmse:0.00092#011validation-rmse:0.10868\n",
      "[76]#011train-rmse:0.00088#011validation-rmse:0.10868\n",
      "[77]#011train-rmse:0.00083#011validation-rmse:0.10868\n",
      "[78]#011train-rmse:0.00079#011validation-rmse:0.10867\n",
      "[79]#011train-rmse:0.00075#011validation-rmse:0.10867\n",
      "[80]#011train-rmse:0.00073#011validation-rmse:0.10867\n",
      "[81]#011train-rmse:0.00068#011validation-rmse:0.10867\n",
      "[82]#011train-rmse:0.00064#011validation-rmse:0.10866\n",
      "[83]#011train-rmse:0.00061#011validation-rmse:0.10866\n",
      "[84]#011train-rmse:0.00060#011validation-rmse:0.10866\n",
      "[85]#011train-rmse:0.00058#011validation-rmse:0.10867\n",
      "[86]#011train-rmse:0.00056#011validation-rmse:0.10867\n",
      "[87]#011train-rmse:0.00055#011validation-rmse:0.10867\n",
      "[88]#011train-rmse:0.00053#011validation-rmse:0.10867\n",
      "[89]#011train-rmse:0.00050#011validation-rmse:0.10867\n",
      "[90]#011train-rmse:0.00048#011validation-rmse:0.10867\n",
      "[91]#011train-rmse:0.00047#011validation-rmse:0.10867\n",
      "[92]#011train-rmse:0.00045#011validation-rmse:0.10867\n",
      "[93]#011train-rmse:0.00044#011validation-rmse:0.10867\n",
      "[94]#011train-rmse:0.00042#011validation-rmse:0.10867\n",
      "[95]#011train-rmse:0.00040#011validation-rmse:0.10867\n",
      "[96]#011train-rmse:0.00039#011validation-rmse:0.10867\n",
      "[97]#011train-rmse:0.00039#011validation-rmse:0.10867\n",
      "[98]#011train-rmse:0.00039#011validation-rmse:0.10867\n",
      "[99]#011train-rmse:0.00039#011validation-rmse:0.10867\n",
      "\n",
      "2025-07-07 00:16:36 Completed - Training job completed\n",
      "Training seconds: 130\n",
      "Billable seconds: 130\n"
     ]
    },
    {
     "name": "stderr",
     "output_type": "stream",
     "text": [
      "\u001b[0m[06/Jul/25 17:17:13] INFO [wallet_modeler.train_model:116] Training completed. Model stored at: s3://wallet-training-data/sagemaker-models/wallet-xgb-231107-171350/output/model.tar.gz\u001b[0m\n"
     ]
    },
    {
     "data": {
      "text/plain": [
       "{'model_uri': 's3://wallet-training-data/sagemaker-models/wallet-xgb-231107-171350/output/model.tar.gz',\n",
       " 'training_job_name': 'wallet-xgb-231107-171350'}"
      ]
     },
     "execution_count": 24,
     "metadata": {},
     "output_type": "execute_result"
    }
   ],
   "source": [
    "modeler.train_model()"
   ]
  },
  {
   "cell_type": "code",
   "execution_count": null,
   "metadata": {},
   "outputs": [],
   "source": [
    "workflow_orch.training_data['x_train'].shape"
   ]
  },
  {
   "cell_type": "code",
   "execution_count": null,
   "metadata": {},
   "outputs": [],
   "source": []
  }
 ],
 "metadata": {
  "kernelspec": {
   "display_name": ".venv",
   "language": "python",
   "name": "python3"
  },
  "language_info": {
   "codemirror_mode": {
    "name": "ipython",
    "version": 3
   },
   "file_extension": ".py",
   "mimetype": "text/x-python",
   "name": "python",
   "nbconvert_exporter": "python",
   "pygments_lexer": "ipython3",
   "version": "3.11.9"
  }
 },
 "nbformat": 4,
 "nbformat_minor": 2
}
