{
 "cells": [
  {
   "cell_type": "markdown",
   "metadata": {},
   "source": [
    "### start"
   ]
  },
  {
   "cell_type": "code",
   "execution_count": 2,
   "metadata": {},
   "outputs": [
    {
     "name": "stderr",
     "output_type": "stream",
     "text": [
      "\u001b[0m[17/Jul/25 12:37:39] INFO [utils.export_code:1659] Consolidation complete. All files are saved in temp/sagemaker_code.py\u001b[0m\n",
      "\u001b[92m[17/Jul/25 12:37:39] MILESTONE [4259847109.<module>:114] Good morning, let's get to work\u001b[0m\n"
     ]
    }
   ],
   "source": [
    "# pyright: reportMissingImports=false\n",
    "# pyright: reportMissingModuleSource=false\n",
    "\n",
    "import uuid\n",
    "import random\n",
    "import hashlib\n",
    "import os\n",
    "import sys\n",
    "import gc\n",
    "import time\n",
    "import copy\n",
    "import logging\n",
    "import re\n",
    "from itertools import chain,combinations\n",
    "import pdb\n",
    "import math\n",
    "from pathlib import Path\n",
    "import datetime\n",
    "from datetime import datetime,timedelta\n",
    "import json\n",
    "import warnings\n",
    "import yaml\n",
    "from typing import Dict,Union,List,Any,Tuple\n",
    "import pytest\n",
    "import importlib\n",
    "from dotenv import load_dotenv\n",
    "import pandas as pd\n",
    "import numpy as np\n",
    "import IPython\n",
    "import requests\n",
    "import warnings\n",
    "import boto3\n",
    "import matplotlib as plt\n",
    "import sklearn\n",
    "\n",
    "# load_dotenv(Path(\"../../../Local/.env\"))\n",
    "\n",
    "# Custom format function for displaying |numbers/\n",
    "pd.set_option('display.float_format', lambda x: f'{x:.12g}')\n",
    "# pd.reset_option('display.float_format')\n",
    "\n",
    "# Suppress warnings\n",
    "os.environ['PYDEVD_DISABLE_FILE_VALIDATION'] = '1'\n",
    "warnings.filterwarnings('ignore', message='.*frozen modules.*')\n",
    "warnings.filterwarnings(\"ignore\", message=\"MallocStackLogging\")\n",
    "\n",
    "# silence pygame donation request\n",
    "os.environ['PYGAME_HIDE_SUPPORT_PROMPT'] = \"hide\"\n",
    "os.environ['LOGGING_FILE'] = \"../../../Local/logs/wallet_modeling.log\"\n",
    "os.environ['NOTIFICATION_SOUNDS_DIR'] = \"../../../Local\"\n",
    "\n",
    "# Dark mode charts\n",
    "plt.rcParams['figure.facecolor'] = '#181818'  # Custom background color (dark gray in this case)\n",
    "plt.rcParams['axes.facecolor'] = '#181818'\n",
    "plt.rcParams['text.color'] = '#afc6ba'\n",
    "plt.rcParams['axes.labelcolor'] = '#afc6ba'\n",
    "plt.rcParams['xtick.color'] = '#afc6ba'\n",
    "plt.rcParams['ytick.color'] = '#afc6ba'\n",
    "plt.rcParams['axes.titlecolor'] = '#afc6ba'\n",
    "plt.rcParams['text.usetex'] = False\n",
    "plt.rcParams['mathtext.default'] = 'regular'\n",
    "\n",
    "# import local modules\n",
    "# pyright: reportMissingImports=false\n",
    "sys.path.append('..//src')\n",
    "\n",
    "import sagemaker_wallets.wallet_modeler as wm\n",
    "from sagemaker_wallets.wallet_preprocessor import SageWalletsPreprocessor\n",
    "import sagemaker_wallets.workflow_orchestrator as wo\n",
    "import sage_utils.config_validation as ucv\n",
    "import utils as u\n",
    "from utils import ConfigError\n",
    "\n",
    "# reload all modules\n",
    "modules = [\n",
    "    wm, wo,\n",
    "    u, ucv\n",
    "]\n",
    "\n",
    "# import utils as u\n",
    "# Set the custom error handler\n",
    "ipython = IPython.get_ipython()\n",
    "# ipython.set_custom_exc((Exception,), u.notify_on_failure)\n",
    "\n",
    "player = u.AmbientPlayer()\n",
    "player.stop_all_players()\n",
    "\n",
    "# configure logger\n",
    "logger = u.setup_notebook_logger('../logs/notebook_logs.log')\n",
    "logger.setLevel(logging.INFO)\n",
    "\n",
    "from IPython.core import ultratb\n",
    "ultratb.VerboseTB._tb_highlight = \"bg:#b45827\"\n",
    "\n",
    "\n",
    "# load all configs\n",
    "sage_wallets_config = ucv.load_sage_wallets_config(Path('../config/sage_wallets_config.yaml'))\n",
    "sage_wallets_modeling_config = ucv.load_sage_wallets_modeling_config(Path('../config/sage_wallets_modeling_config.yaml'))\n",
    "\n",
    "\n",
    "u.export_code(\n",
    "    code_directories=[\n",
    "        'sagemaker_wallets',\n",
    "        # 'sage_utils',\n",
    "    ],\n",
    "    # include_config = True,\n",
    "    # ipynb_notebook = 'DDA-769 coin model score dist toggle.ipynb'\n",
    "    output_file=\"temp/sagemaker_code.py\"\n",
    ")\n",
    "\n",
    "[importlib.reload(module) for module in modules]\n",
    "u.notify('retro')\n",
    "\n",
    "logger.milestone(\"Good morning, let's get to work\")"
   ]
  },
  {
   "cell_type": "markdown",
   "metadata": {},
   "source": [
    "# Code begins"
   ]
  },
  {
   "cell_type": "markdown",
   "metadata": {},
   "source": [
    "### Initiate orchestrator"
   ]
  },
  {
   "cell_type": "code",
   "execution_count": 3,
   "metadata": {},
   "outputs": [],
   "source": [
    "[importlib.reload(module) for module in modules]\n",
    "sage_wallets_config = yaml.safe_load(Path('../config/sage_wallets_config.yaml').read_text(encoding='utf-8'))\n",
    "sage_wallets_modeling_config = yaml.safe_load(Path('../config/sage_wallets_modeling_config.yaml').read_text(encoding='utf-8'))\n",
    "\n",
    "\n",
    "date_suffixes = [\n",
    "    '231107',\n",
    "    '240306'\n",
    "]\n",
    "workflow_orch = wo.WalletWorkflowOrchestrator(sage_wallets_config)"
   ]
  },
  {
   "cell_type": "markdown",
   "metadata": {},
   "source": [
    "### Load, preprocess, and upload data"
   ]
  },
  {
   "cell_type": "markdown",
   "metadata": {},
   "source": [
    "#### load data"
   ]
  },
  {
   "cell_type": "code",
   "execution_count": null,
   "metadata": {},
   "outputs": [],
   "source": [
    "[importlib.reload(module) for module in modules]\n",
    "sage_wallets_config = yaml.safe_load(Path('../config/sage_wallets_config.yaml').read_text(encoding='utf-8'))\n",
    "sage_wallets_modeling_config = yaml.safe_load(Path('../config/sage_wallets_modeling_config.yaml').read_text(encoding='utf-8'))\n",
    "\n",
    "workflow_orch.load_training_data(date_suffixes)"
   ]
  },
  {
   "cell_type": "markdown",
   "metadata": {},
   "source": [
    "##### inspect features"
   ]
  },
  {
   "cell_type": "code",
   "execution_count": null,
   "metadata": {},
   "outputs": [],
   "source": [
    "# # Create combined NaN count and describe statistics\n",
    "# nan_counts = workflow_orch.training_data['x_train'].isna().sum()\n",
    "# describe_stats = workflow_orch.training_data['x_train'].describe().T\n",
    "\n",
    "# # Combine into single DataFrame\n",
    "# combined_stats = pd.concat([\n",
    "#     nan_counts.rename('nan_count'),\n",
    "#     describe_stats\n",
    "# ], axis=1).sort_index()\n",
    "\n",
    "# u.display_full(combined_stats.sort_index())"
   ]
  },
  {
   "cell_type": "markdown",
   "metadata": {},
   "source": [
    "#### preprocess data"
   ]
  },
  {
   "cell_type": "code",
   "execution_count": null,
   "metadata": {},
   "outputs": [],
   "source": [
    "preprocessor = SageWalletsPreprocessor(sage_wallets_config)\n",
    "preprocessed_data = preprocessor.preprocess_training_data(workflow_orch.training_data)"
   ]
  },
  {
   "cell_type": "markdown",
   "metadata": {},
   "source": [
    "#### upload data"
   ]
  },
  {
   "cell_type": "code",
   "execution_count": null,
   "metadata": {},
   "outputs": [],
   "source": [
    "# Upload and retrieve URIs\n",
    "workflow_orch.upload_training_data(preprocessed_data, overwrite_existing=True)\n",
    "s3_uris = workflow_orch.retrieve_training_data_uris(date_suffixes)"
   ]
  },
  {
   "cell_type": "markdown",
   "metadata": {},
   "source": [
    "### Train Model"
   ]
  },
  {
   "cell_type": "markdown",
   "metadata": {},
   "source": [
    "#### retrieve file uris"
   ]
  },
  {
   "cell_type": "code",
   "execution_count": 4,
   "metadata": {},
   "outputs": [
    {
     "name": "stderr",
     "output_type": "stream",
     "text": [
      "\u001b[0m[16/Jul/25 22:04:03] INFO [credentials.load:1352] Found credentials in shared credentials file: ~/.aws/credentials\u001b[0m\n"
     ]
    },
    {
     "data": {
      "text/plain": [
       "{'231107': {'train': 's3://wallet-training-data/training-data-preprocessed/dda-897/231107/train_cw_crypto_net_gain_crypto_inflows_winsorized.csv',\n",
       "  'test': 's3://wallet-training-data/training-data-preprocessed/dda-897/231107/test_cw_crypto_net_gain_crypto_inflows_winsorized.csv',\n",
       "  'eval': 's3://wallet-training-data/training-data-preprocessed/dda-897/231107/eval_cw_crypto_net_gain_crypto_inflows_winsorized.csv',\n",
       "  'val': 's3://wallet-training-data/training-data-preprocessed/dda-897/231107/val_cw_crypto_net_gain_crypto_inflows_winsorized.csv'},\n",
       " '240306': {'train': 's3://wallet-training-data/training-data-preprocessed/dda-897/240306/train_cw_crypto_net_gain_crypto_inflows_winsorized.csv',\n",
       "  'test': 's3://wallet-training-data/training-data-preprocessed/dda-897/240306/test_cw_crypto_net_gain_crypto_inflows_winsorized.csv',\n",
       "  'eval': 's3://wallet-training-data/training-data-preprocessed/dda-897/240306/eval_cw_crypto_net_gain_crypto_inflows_winsorized.csv',\n",
       "  'val': 's3://wallet-training-data/training-data-preprocessed/dda-897/240306/val_cw_crypto_net_gain_crypto_inflows_winsorized.csv'}}"
      ]
     },
     "execution_count": 4,
     "metadata": {},
     "output_type": "execute_result"
    }
   ],
   "source": [
    "date_suffixes = [\n",
    "    '231107',\n",
    "    '240306'\n",
    "]\n",
    "workflow_orch = wo.WalletWorkflowOrchestrator(sage_wallets_config)\n",
    "\n",
    "# Generate URIs for specific dates without any prior setup\n",
    "s3_uris = workflow_orch.retrieve_training_data_uris(date_suffixes)\n",
    "s3_uris"
   ]
  },
  {
   "cell_type": "markdown",
   "metadata": {},
   "source": [
    "#### train model"
   ]
  },
  {
   "cell_type": "code",
   "execution_count": 5,
   "metadata": {},
   "outputs": [],
   "source": [
    "[importlib.reload(module) for module in modules]\n",
    "sage_wallets_config = yaml.safe_load(Path('../config/sage_wallets_config.yaml').read_text(encoding='utf-8'))\n",
    "sage_wallets_modeling_config = yaml.safe_load(Path('../config/sage_wallets_modeling_config.yaml').read_text(encoding='utf-8'))\n",
    "\n",
    "date_suffix = date_suffixes[1]\n",
    "\n",
    "modeler = wm.WalletModeler(\n",
    "    sage_wallets_config,\n",
    "    sage_wallets_modeling_config,\n",
    "    date_suffix,\n",
    "    s3_uris\n",
    ")\n",
    "\n"
   ]
  },
  {
   "cell_type": "code",
   "execution_count": 6,
   "metadata": {},
   "outputs": [
    {
     "name": "stderr",
     "output_type": "stream",
     "text": [
      "\u001b[0m[16/Jul/25 22:04:09] INFO [wallet_modeler.train_model:113] Starting SageMaker training...\u001b[0m\n",
      "\u001b[0m[16/Jul/25 22:04:09] INFO [image_uris._processor:530] Ignoring unnecessary instance type: None.\u001b[0m\n",
      "\u001b[0m[16/Jul/25 22:04:09] INFO [wallet_modeler.train_model:141] SageMaker XGBoost container: 246618743249.dkr.ecr.us-west-2.amazonaws.com/sagemaker-xgboost:1.7-1\u001b[0m\n",
      "\u001b[0m[16/Jul/25 22:04:09] INFO [wallet_modeler.train_model:147] Container version tag: 1.7-1\u001b[0m\n",
      "\u001b[0m[16/Jul/25 22:04:09] INFO [wallet_modeler.train_model:151] Requested framework version: 1.7-1\u001b[0m\n",
      "\u001b[0m[16/Jul/25 22:04:14] INFO [wallet_modeler.train_model:205] Launching training job: wallet-xgb-dda-897-240306-20250716-220414\u001b[0m\n",
      "\u001b[0m[16/Jul/25 22:04:14] INFO [wallet_modeler.train_model:206] Model output path: s3://wallet-training-data/sagemaker-models/dda-897/\u001b[0m\n",
      "\u001b[0m[16/Jul/25 22:04:14] INFO [telemetry_logging.wrapper:92] SageMaker Python SDK will collect telemetry to help us better understand our user's needs, diagnose issues, and deliver additional features.\n",
      "To opt out of telemetry, please disable via TelemetryOptOut parameter in SDK defaults config. For more information, refer to https://sagemaker.readthedocs.io/en/stable/overview.html#configuring-and-using-defaults-with-the-sagemaker-python-sdk.\u001b[0m\n",
      "\u001b[0m[16/Jul/25 22:04:14] INFO [session.submit:1053] Creating training-job with name: wallet-xgb-dda-897-240306-20250716-220414\u001b[0m\n"
     ]
    },
    {
     "name": "stdout",
     "output_type": "stream",
     "text": [
      "2025-07-17 05:04:15 Starting - Starting the training job...\n",
      "2025-07-17 05:04:29 Starting - Preparing the instances for training...\n",
      "2025-07-17 05:04:51 Downloading - Downloading input data...\n",
      "2025-07-17 05:05:47 Downloading - Downloading the training image......\n",
      "2025-07-17 05:06:38 Training - Training image download completed. Training in progress...[2025-07-17 05:06:42.940 ip-10-0-182-73.us-west-2.compute.internal:7 INFO utils.py:28] RULE_JOB_STOP_SIGNAL_FILENAME: None\n",
      "[2025-07-17 05:06:42.963 ip-10-0-182-73.us-west-2.compute.internal:7 INFO profiler_config_parser.py:111] User has disabled profiler.\n",
      "[2025-07-17:05:06:43:INFO] Imported framework sagemaker_xgboost_container.training\n",
      "[2025-07-17:05:06:43:INFO] Failed to parse hyperparameter objective value reg:linear to Json.\n",
      "Returning the value itself\n",
      "[2025-07-17:05:06:43:INFO] No GPUs detected (normal if no gpus installed)\n",
      "[2025-07-17:05:06:43:INFO] Running XGBoost Sagemaker in algorithm mode\n",
      "[2025-07-17:05:06:43:INFO] Determined 0 GPU(s) available on the instance.\n",
      "[2025-07-17:05:06:43:INFO] Determined delimiter of CSV input is ','\n",
      "[2025-07-17:05:06:43:INFO] Determined delimiter of CSV input is ','\n",
      "[2025-07-17:05:06:43:INFO] File path /opt/ml/input/data/train of input files\n",
      "[2025-07-17:05:06:43:INFO] Making smlinks from folder /opt/ml/input/data/train to folder /tmp/sagemaker_xgboost_input_data\n",
      "[2025-07-17:05:06:43:INFO] creating symlink between Path /opt/ml/input/data/train/train_cw_crypto_net_gain_crypto_inflows_winsorized.csv and destination /tmp/sagemaker_xgboost_input_data/train_cw_crypto_net_gain_crypto_inflows_winsorized.csv7016535314874349779\n",
      "[2025-07-17:05:06:43:INFO] files path: /tmp/sagemaker_xgboost_input_data\n",
      "[2025-07-17:05:06:43:INFO] Determined delimiter of CSV input is ','\n",
      "[2025-07-17:05:06:44:INFO] File path /opt/ml/input/data/validation of input files\n",
      "[2025-07-17:05:06:44:INFO] Making smlinks from folder /opt/ml/input/data/validation to folder /tmp/sagemaker_xgboost_input_data\n",
      "[2025-07-17:05:06:44:INFO] creating symlink between Path /opt/ml/input/data/validation/eval_cw_crypto_net_gain_crypto_inflows_winsorized.csv and destination /tmp/sagemaker_xgboost_input_data/eval_cw_crypto_net_gain_crypto_inflows_winsorized.csv7685131547644813359\n",
      "[2025-07-17:05:06:44:INFO] files path: /tmp/sagemaker_xgboost_input_data\n",
      "[2025-07-17:05:06:44:INFO] Determined delimiter of CSV input is ','\n",
      "[2025-07-17:05:06:44:INFO] Single node training.\n",
      "[2025-07-17:05:06:44:INFO] Train matrix has 87727 rows and 221 columns\n",
      "[2025-07-17:05:06:44:INFO] Validation matrix has 5485 rows\n",
      "[2025-07-17 05:06:44.743 ip-10-0-182-73.us-west-2.compute.internal:7 INFO json_config.py:92] Creating hook from json_config at /opt/ml/input/config/debughookconfig.json.\n",
      "[2025-07-17:05:06:44:INFO] Debug hook created from config\n",
      "[2025-07-17 05:06:44.743 ip-10-0-182-73.us-west-2.compute.internal:7 INFO hook.py:206] tensorboard_dir has not been set for the hook. SMDebug will not be exporting tensorboard summaries.\n",
      "[2025-07-17 05:06:44.744 ip-10-0-182-73.us-west-2.compute.internal:7 INFO hook.py:259] Saving to /opt/ml/output/tensors\n",
      "[2025-07-17 05:06:44.744 ip-10-0-182-73.us-west-2.compute.internal:7 INFO state_store.py:77] The checkpoint config file /opt/ml/input/config/checkpointconfig.json does not exist.\n",
      "[05:06:44] WARNING: ../src/objective/regression_obj.cu:213: reg:linear is now deprecated in favor of reg:squarederror.\n",
      "[2025-07-17 05:06:47.412 ip-10-0-182-73.us-west-2.compute.internal:7 INFO hook.py:427] Monitoring the collections: metrics\n",
      "[2025-07-17 05:06:47.415 ip-10-0-182-73.us-west-2.compute.internal:7 INFO hook.py:491] Hook is writing from the hook with pid: 7\n",
      "[0]#011train-rmse:0.42093#011validation-rmse:0.41810\n",
      "[1]#011train-rmse:0.35377#011validation-rmse:0.35160\n",
      "[2]#011train-rmse:0.30925#011validation-rmse:0.30668\n",
      "[3]#011train-rmse:0.28339#011validation-rmse:0.28024\n",
      "[4]#011train-rmse:0.26661#011validation-rmse:0.26435\n",
      "[5]#011train-rmse:0.25800#011validation-rmse:0.25705\n",
      "[6]#011train-rmse:0.25268#011validation-rmse:0.25176\n",
      "[7]#011train-rmse:0.24709#011validation-rmse:0.24642\n",
      "[8]#011train-rmse:0.24234#011validation-rmse:0.24168\n",
      "[9]#011train-rmse:0.24053#011validation-rmse:0.24003\n",
      "[10]#011train-rmse:0.23740#011validation-rmse:0.23732\n",
      "[11]#011train-rmse:0.23536#011validation-rmse:0.23606\n",
      "[12]#011train-rmse:0.23014#011validation-rmse:0.23155\n",
      "[13]#011train-rmse:0.22884#011validation-rmse:0.23057\n",
      "[14]#011train-rmse:0.22588#011validation-rmse:0.22806\n",
      "[15]#011train-rmse:0.22517#011validation-rmse:0.22748\n",
      "[16]#011train-rmse:0.22414#011validation-rmse:0.22681\n",
      "[17]#011train-rmse:0.22263#011validation-rmse:0.22531\n",
      "[18]#011train-rmse:0.21982#011validation-rmse:0.22278\n",
      "[19]#011train-rmse:0.21735#011validation-rmse:0.22060\n",
      "[20]#011train-rmse:0.21604#011validation-rmse:0.21942\n",
      "[21]#011train-rmse:0.21497#011validation-rmse:0.21858\n",
      "[22]#011train-rmse:0.21368#011validation-rmse:0.21766\n",
      "[23]#011train-rmse:0.21266#011validation-rmse:0.21719\n",
      "[24]#011train-rmse:0.21136#011validation-rmse:0.21654\n",
      "[25]#011train-rmse:0.21061#011validation-rmse:0.21628\n",
      "[26]#011train-rmse:0.20945#011validation-rmse:0.21548\n",
      "[27]#011train-rmse:0.20811#011validation-rmse:0.21466\n",
      "[28]#011train-rmse:0.20738#011validation-rmse:0.21441\n",
      "[29]#011train-rmse:0.20658#011validation-rmse:0.21400\n",
      "[30]#011train-rmse:0.20634#011validation-rmse:0.21393\n",
      "[31]#011train-rmse:0.20586#011validation-rmse:0.21385\n",
      "[32]#011train-rmse:0.20507#011validation-rmse:0.21349\n",
      "[33]#011train-rmse:0.20477#011validation-rmse:0.21350\n",
      "[34]#011train-rmse:0.20436#011validation-rmse:0.21365\n",
      "[35]#011train-rmse:0.20378#011validation-rmse:0.21335\n",
      "[36]#011train-rmse:0.20348#011validation-rmse:0.21328\n",
      "[37]#011train-rmse:0.20296#011validation-rmse:0.21321\n",
      "[38]#011train-rmse:0.20235#011validation-rmse:0.21310\n",
      "[39]#011train-rmse:0.20143#011validation-rmse:0.21253\n",
      "[40]#011train-rmse:0.20018#011validation-rmse:0.21148\n",
      "[41]#011train-rmse:0.19950#011validation-rmse:0.21120\n",
      "[42]#011train-rmse:0.19896#011validation-rmse:0.21121\n",
      "[43]#011train-rmse:0.19856#011validation-rmse:0.21111\n",
      "[44]#011train-rmse:0.19809#011validation-rmse:0.21094\n",
      "[45]#011train-rmse:0.19772#011validation-rmse:0.21094\n",
      "[46]#011train-rmse:0.19680#011validation-rmse:0.21041\n",
      "[47]#011train-rmse:0.19668#011validation-rmse:0.21049\n",
      "[48]#011train-rmse:0.19626#011validation-rmse:0.21043\n",
      "[49]#011train-rmse:0.19557#011validation-rmse:0.21024\n",
      "[50]#011train-rmse:0.19521#011validation-rmse:0.21000\n",
      "[51]#011train-rmse:0.19449#011validation-rmse:0.20957\n",
      "[52]#011train-rmse:0.19371#011validation-rmse:0.20956\n",
      "[53]#011train-rmse:0.19331#011validation-rmse:0.20929\n",
      "[54]#011train-rmse:0.19298#011validation-rmse:0.20910\n",
      "[55]#011train-rmse:0.19264#011validation-rmse:0.20932\n",
      "[56]#011train-rmse:0.19233#011validation-rmse:0.20935\n",
      "[57]#011train-rmse:0.19164#011validation-rmse:0.20906\n",
      "[58]#011train-rmse:0.19130#011validation-rmse:0.20894\n",
      "[59]#011train-rmse:0.19082#011validation-rmse:0.20932\n",
      "[60]#011train-rmse:0.19035#011validation-rmse:0.20920\n",
      "[61]#011train-rmse:0.19005#011validation-rmse:0.20905\n",
      "[62]#011train-rmse:0.18970#011validation-rmse:0.20909\n",
      "[63]#011train-rmse:0.18927#011validation-rmse:0.20917\n",
      "[64]#011train-rmse:0.18864#011validation-rmse:0.20907\n",
      "[65]#011train-rmse:0.18818#011validation-rmse:0.20897\n",
      "[66]#011train-rmse:0.18780#011validation-rmse:0.20889\n",
      "[67]#011train-rmse:0.18740#011validation-rmse:0.20891\n",
      "[68]#011train-rmse:0.18695#011validation-rmse:0.20859\n",
      "[69]#011train-rmse:0.18671#011validation-rmse:0.20867\n",
      "[70]#011train-rmse:0.18630#011validation-rmse:0.20865\n",
      "[71]#011train-rmse:0.18585#011validation-rmse:0.20870\n",
      "[72]#011train-rmse:0.18550#011validation-rmse:0.20856\n",
      "[73]#011train-rmse:0.18512#011validation-rmse:0.20830\n",
      "[74]#011train-rmse:0.18483#011validation-rmse:0.20835\n",
      "[75]#011train-rmse:0.18450#011validation-rmse:0.20811\n",
      "[76]#011train-rmse:0.18406#011validation-rmse:0.20807\n",
      "[77]#011train-rmse:0.18375#011validation-rmse:0.20798\n",
      "[78]#011train-rmse:0.18352#011validation-rmse:0.20798\n",
      "[79]#011train-rmse:0.18324#011validation-rmse:0.20776\n",
      "[80]#011train-rmse:0.18317#011validation-rmse:0.20776\n",
      "[81]#011train-rmse:0.18292#011validation-rmse:0.20760\n",
      "[82]#011train-rmse:0.18262#011validation-rmse:0.20766\n",
      "[83]#011train-rmse:0.18220#011validation-rmse:0.20755\n",
      "[84]#011train-rmse:0.18186#011validation-rmse:0.20743\n",
      "[85]#011train-rmse:0.18164#011validation-rmse:0.20741\n",
      "[86]#011train-rmse:0.18145#011validation-rmse:0.20735\n",
      "[87]#011train-rmse:0.18082#011validation-rmse:0.20749\n",
      "[88]#011train-rmse:0.18064#011validation-rmse:0.20742\n",
      "[89]#011train-rmse:0.18030#011validation-rmse:0.20725\n",
      "[90]#011train-rmse:0.17993#011validation-rmse:0.20758\n",
      "[91]#011train-rmse:0.17956#011validation-rmse:0.20742\n",
      "[92]#011train-rmse:0.17929#011validation-rmse:0.20739\n",
      "[93]#011train-rmse:0.17914#011validation-rmse:0.20739\n",
      "[94]#011train-rmse:0.17893#011validation-rmse:0.20740\n",
      "[95]#011train-rmse:0.17856#011validation-rmse:0.20718\n",
      "[96]#011train-rmse:0.17824#011validation-rmse:0.20672\n",
      "\n",
      "2025-07-17 05:08:48 Uploading - Uploading generated training model[97]#011train-rmse:0.17791#011validation-rmse:0.20674\n",
      "[98]#011train-rmse:0.17773#011validation-rmse:0.20671\n",
      "[99]#011train-rmse:0.17740#011validation-rmse:0.20698\n",
      "\n",
      "2025-07-17 05:09:06 Completed - Training job completed\n",
      "Training seconds: 255\n",
      "Billable seconds: 255\n"
     ]
    },
    {
     "name": "stderr",
     "output_type": "stream",
     "text": [
      "\u001b[0m[16/Jul/25 22:09:42] INFO [wallet_modeler.train_model:220] Training completed. Model stored at: s3://wallet-training-data/sagemaker-models/dda-897/wallet-xgb-dda-897-240306-20250716-220414/output/model.tar.gz\u001b[0m\n"
     ]
    }
   ],
   "source": [
    "modeling_results = modeler.train_model()"
   ]
  },
  {
   "cell_type": "markdown",
   "metadata": {},
   "source": [
    "### Score validation set"
   ]
  },
  {
   "cell_type": "markdown",
   "metadata": {},
   "source": [
    "#### get existing model uri"
   ]
  },
  {
   "cell_type": "code",
   "execution_count": 2,
   "metadata": {},
   "outputs": [
    {
     "name": "stderr",
     "output_type": "stream",
     "text": [
      "\u001b[0m[16/Jul/25 22:24:53] INFO [credentials.load:1352] Found credentials in shared credentials file: ~/.aws/credentials\u001b[0m\n",
      "\u001b[0m[16/Jul/25 22:24:53] INFO [wallet_modeler.load_existing_model:298] Loaded most recent model (timestamp: 20250716-220414): s3://wallet-training-data/sagemaker-models/dda-897/wallet-xgb-dda-897-240306-20250716-220414/output/model.tar.gz\u001b[0m\n"
     ]
    }
   ],
   "source": [
    "[importlib.reload(module) for module in modules]\n",
    "sage_wallets_config = yaml.safe_load(Path('../config/sage_wallets_config.yaml').read_text(encoding='utf-8'))\n",
    "sage_wallets_modeling_config = yaml.safe_load(Path('../config/sage_wallets_modeling_config.yaml').read_text(encoding='utf-8'))\n",
    "\n",
    "\n",
    "\n",
    "date_suffixes = [\n",
    "    '231107',\n",
    "    '240306'\n",
    "]\n",
    "date_suffix = date_suffixes[1]\n",
    "\n",
    "\n",
    "modeler = wm.WalletModeler(\n",
    "    sage_wallets_config,\n",
    "    sage_wallets_modeling_config,\n",
    "    date_suffix\n",
    ")\n",
    "\n",
    "\n",
    "model_metadata = modeler.load_existing_model()"
   ]
  },
  {
   "cell_type": "markdown",
   "metadata": {},
   "source": [
    "#### deploy endpoint for predictions"
   ]
  },
  {
   "cell_type": "code",
   "execution_count": 3,
   "metadata": {},
   "outputs": [
    {
     "name": "stderr",
     "output_type": "stream",
     "text": [
      "\u001b[0m[16/Jul/25 22:24:56] INFO [wallet_modeler.list_active_endpoints:619] Active endpoints: ['xgboost-dda-897-20250716-220942']\u001b[0m\n"
     ]
    },
    {
     "data": {
      "text/plain": [
       "['xgboost-dda-897-20250716-220942']"
      ]
     },
     "execution_count": 3,
     "metadata": {},
     "output_type": "execute_result"
    }
   ],
   "source": [
    "modeler.list_active_endpoints()"
   ]
  },
  {
   "cell_type": "code",
   "execution_count": 11,
   "metadata": {},
   "outputs": [
    {
     "name": "stderr",
     "output_type": "stream",
     "text": [
      "\u001b[0m[16/Jul/25 22:17:06] INFO [wallet_modeler.list_active_endpoints:611] Active endpoints: ['xgboost-dda-897-20250716-220942']\u001b[0m\n",
      "\u001b[93m[16/Jul/25 22:17:06] WARNING [wallet_modeler.deploy_endpoint:547] An existing active endpoint matches the deployment prefix: xgboost-dda-897-20250716-220942\u001b[0m\n",
      "\u001b[0m[16/Jul/25 22:17:08] INFO [wallet_modeler.deploy_endpoint:554] Deployment cancelled by user; using existing endpoint.\u001b[0m\n"
     ]
    },
    {
     "data": {
      "text/plain": [
       "'xgboost-dda-897-20250716-220942'"
      ]
     },
     "execution_count": 11,
     "metadata": {},
     "output_type": "execute_result"
    }
   ],
   "source": [
    "modeler.deploy_endpoint()"
   ]
  },
  {
   "cell_type": "markdown",
   "metadata": {},
   "source": [
    "#### load validation df and predict"
   ]
  },
  {
   "cell_type": "code",
   "execution_count": null,
   "metadata": {},
   "outputs": [
    {
     "data": {
      "text/plain": [
       "(58092, 221)"
      ]
     },
     "execution_count": 4,
     "metadata": {},
     "output_type": "execute_result"
    }
   ],
   "source": [
    "x_val = pd.read_parquet(\n",
    "    Path(\"../s3_uploads/wallet_training_data_queue\") /\n",
    "    sage_wallets_config['training_data']['local_directory'] /\n",
    "    f\"x_val_{date_suffix}.parquet\"\n",
    ")\n",
    "x_val.shape\n",
    "\n"
   ]
  },
  {
   "cell_type": "markdown",
   "metadata": {},
   "source": [
    "#### preprocess df"
   ]
  },
  {
   "cell_type": "code",
   "execution_count": null,
   "metadata": {},
   "outputs": [
    {
     "name": "stderr",
     "output_type": "stream",
     "text": [
      "\u001b[0m[16/Jul/25 22:24:59] INFO [wallet_preprocessor._handle_missing_values:198] Filled NaN values in 100 columns for inference.\u001b[0m\n"
     ]
    }
   ],
   "source": [
    "preprocessor = SageWalletsPreprocessor(sage_wallets_config)\n",
    "x_val_processed = preprocessor.preprocess_x_df(x_val)"
   ]
  },
  {
   "cell_type": "code",
   "execution_count": 9,
   "metadata": {},
   "outputs": [
    {
     "name": "stderr",
     "output_type": "stream",
     "text": [
      "\u001b[0m[16/Jul/25 22:25:35] INFO [wallet_modeler.list_active_endpoints:619] Active endpoints: ['xgboost-dda-897-20250716-220942']\u001b[0m\n",
      "\u001b[0m[16/Jul/25 22:25:35] INFO [wallet_modeler.predict_using_endpoint:480] Using detected endpoint: xgboost-dda-897-20250716-220942\u001b[0m\n",
      "\u001b[0m[16/Jul/25 22:25:35] INFO [wallet_modeler.predict_using_endpoint:499] Prediction preview: 58092 rows across 20.0 chunks (102.10MB estimated total size)\u001b[0m\n",
      "\u001b[0m[16/Jul/25 22:25:37] INFO [wallet_modeler.predict_using_endpoint:506] Beginning endpoint predictions for 20.0 chunks...\u001b[0m\n",
      "/Users/jeremymeadow/DreamsData/.sage_venv/lib/python3.11/site-packages/numpy/core/fromnumeric.py:59: FutureWarning: 'DataFrame.swapaxes' is deprecated and will be removed in a future version. Please use 'DataFrame.transpose' instead.\n",
      "  return bound(*args, **kwds)\n",
      "\u001b[0m[16/Jul/25 22:27:14] INFO [wallet_modeler._save_endpoint_predictions:691] Predictions saved to temp/endpoint_predictions/endpoint_predictions_dda_897_td_column_ordering_v1_240306.csv\u001b[0m\n",
      "\u001b[0m[16/Jul/25 22:27:14] INFO [wallet_modeler.predict_using_endpoint:530] Endpoint predictions completed successfully.\u001b[0m\n"
     ]
    },
    {
     "data": {
      "text/plain": [
       "array([0.12944555, 0.26320183, 0.12195228, ..., 0.41422129, 0.37756491,\n",
       "       0.0749698 ])"
      ]
     },
     "execution_count": 9,
     "metadata": {},
     "output_type": "execute_result"
    }
   ],
   "source": [
    "predictions = modeler.predict_using_endpoint(x_val_processed)\n",
    "predictions"
   ]
  },
  {
   "cell_type": "markdown",
   "metadata": {},
   "source": [
    "#### delete all endpoints"
   ]
  },
  {
   "cell_type": "code",
   "execution_count": 10,
   "metadata": {},
   "outputs": [
    {
     "name": "stderr",
     "output_type": "stream",
     "text": [
      "\u001b[0m[16/Jul/25 22:27:19] INFO [wallet_modeler.list_active_endpoints:619] Active endpoints: ['xgboost-dda-897-20250716-220942']\u001b[0m\n",
      "\u001b[0m[16/Jul/25 22:27:19] INFO [wallet_modeler.delete_endpoint:645] Deleting endpoint: xgboost-dda-897-20250716-220942\u001b[0m\n",
      "\u001b[0m[16/Jul/25 22:27:19] INFO [wallet_modeler.delete_endpoint:647] Successfully deleted endpoint: xgboost-dda-897-20250716-220942\u001b[0m\n"
     ]
    }
   ],
   "source": [
    "modeler.delete_all_endpoints()"
   ]
  },
  {
   "cell_type": "code",
   "execution_count": 14,
   "metadata": {},
   "outputs": [
    {
     "name": "stderr",
     "output_type": "stream",
     "text": [
      "\u001b[0m[16/Jul/25 22:27:40] INFO [wallet_modeler.list_active_endpoints:619] Active endpoints: []\u001b[0m\n"
     ]
    },
    {
     "data": {
      "text/plain": [
       "[]"
      ]
     },
     "execution_count": 14,
     "metadata": {},
     "output_type": "execute_result"
    }
   ],
   "source": [
    "modeler.list_active_endpoints()\n",
    "modeler.list_all_endpoints()"
   ]
  },
  {
   "cell_type": "code",
   "execution_count": null,
   "metadata": {},
   "outputs": [],
   "source": []
  }
 ],
 "metadata": {
  "kernelspec": {
   "display_name": "sage_venv",
   "language": "python",
   "name": "sage_venv"
  },
  "language_info": {
   "codemirror_mode": {
    "name": "ipython",
    "version": 3
   },
   "file_extension": ".py",
   "mimetype": "text/x-python",
   "name": "python",
   "nbconvert_exporter": "python",
   "pygments_lexer": "ipython3",
   "version": "3.11.9"
  }
 },
 "nbformat": 4,
 "nbformat_minor": 2
}
