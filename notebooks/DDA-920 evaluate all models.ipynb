{
 "cells": [
  {
   "cell_type": "markdown",
   "metadata": {},
   "source": [
    "### start"
   ]
  },
  {
   "cell_type": "code",
   "execution_count": 1,
   "metadata": {},
   "outputs": [
    {
     "name": "stdout",
     "output_type": "stream",
     "text": [
      "sagemaker.config INFO - Not applying SDK defaults from location: /Library/Application Support/sagemaker/config.yaml\n",
      "sagemaker.config INFO - Not applying SDK defaults from location: /Users/jeremymeadow/Library/Application Support/sagemaker/config.yaml\n"
     ]
    },
    {
     "name": "stderr",
     "output_type": "stream",
     "text": [
      "\u001b[0m[31/Jul/25 14:50:25] INFO [utils.export_code:1659] Consolidation complete. All files are saved in temp/sagemaker_code.py\u001b[0m\n",
      "\u001b[92m[31/Jul/25 14:50:25] MILESTONE [3934705018.<module>:127] Good morning, let's get to work\u001b[0m\n"
     ]
    }
   ],
   "source": [
    "# pyright: reportMissingImports=false\n",
    "# pyright: reportMissingModuleSource=false\n",
    "\n",
    "import uuid\n",
    "import random\n",
    "import hashlib\n",
    "import os\n",
    "import sys\n",
    "import gc\n",
    "import time\n",
    "import copy\n",
    "import logging\n",
    "import re\n",
    "from itertools import chain,combinations\n",
    "import pdb\n",
    "import math\n",
    "from pathlib import Path\n",
    "import datetime\n",
    "from datetime import datetime,timedelta\n",
    "import json\n",
    "import warnings\n",
    "import yaml\n",
    "from typing import Dict,Union,List,Any,Tuple\n",
    "import pytest\n",
    "import importlib\n",
    "from dotenv import load_dotenv\n",
    "import pandas as pd\n",
    "import numpy as np\n",
    "import IPython\n",
    "import requests\n",
    "import warnings\n",
    "import boto3\n",
    "import matplotlib as plt\n",
    "import sklearn\n",
    "\n",
    "# load_dotenv(Path(\"../../../Local/.env\"))\n",
    "\n",
    "# Custom format function for displaying |numbers/\n",
    "pd.set_option('display.float_format', lambda x: f'{x:.12g}')\n",
    "# pd.reset_option('display.float_format')\n",
    "\n",
    "# Suppress warnings\n",
    "os.environ['PYDEVD_DISABLE_FILE_VALIDATION'] = '1'\n",
    "warnings.filterwarnings('ignore', message='.*frozen modules.*')\n",
    "warnings.filterwarnings(\"ignore\", message=\"MallocStackLogging\")\n",
    "\n",
    "# silence pygame donation request\n",
    "os.environ['PYGAME_HIDE_SUPPORT_PROMPT'] = \"hide\"\n",
    "os.environ['LOGGING_FILE'] = \"../../../Local/logs/wallet_modeling.log\"\n",
    "os.environ['NOTIFICATION_SOUNDS_DIR'] = \"../../../Local\"\n",
    "\n",
    "# Dark mode charts\n",
    "plt.rcParams['figure.facecolor'] = '#181818'  # Custom background color (dark gray in this case)\n",
    "plt.rcParams['axes.facecolor'] = '#181818'\n",
    "plt.rcParams['text.color'] = '#afc6ba'\n",
    "plt.rcParams['axes.labelcolor'] = '#afc6ba'\n",
    "plt.rcParams['xtick.color'] = '#afc6ba'\n",
    "plt.rcParams['ytick.color'] = '#afc6ba'\n",
    "plt.rcParams['axes.titlecolor'] = '#afc6ba'\n",
    "plt.rcParams['text.usetex'] = False\n",
    "plt.rcParams['mathtext.default'] = 'regular'\n",
    "\n",
    "# import local modules\n",
    "# pyright: reportMissingImports=false\n",
    "sys.path.append('../src')\n",
    "\n",
    "import sage_wallet_modeling.wallet_modeler as wm\n",
    "from sage_wallet_modeling.wallet_preprocessor import SageWalletsPreprocessor\n",
    "import sage_wallet_modeling.workflow_orchestrator as wo\n",
    "import sage_wallet_insights.model_evaluation as sime\n",
    "\n",
    "import sage_utils.config_validation as ucv\n",
    "import sage_utils.s3_utils as s3u\n",
    "\n",
    "# import data-science modules\n",
    "sys.path.append(str(Path(\"..\") / \"..\" / \"data-science\" / \"src\"))\n",
    "import wallet_insights.model_evaluation as wime\n",
    "import utils as u\n",
    "from utils import ConfigError\n",
    "\n",
    "\n",
    "\n",
    "# reload all modules\n",
    "modules = [\n",
    "    wm, wo,\n",
    "    sime,\n",
    "    ucv, s3u,\n",
    "    wime,\n",
    "    u,\n",
    "]\n",
    "\n",
    "# import utils as u\n",
    "# Set the custom error handler\n",
    "ipython = IPython.get_ipython()\n",
    "# ipython.set_custom_exc((Exception,), u.notify_on_failure)\n",
    "\n",
    "player = u.AmbientPlayer()\n",
    "player.stop_all_players()\n",
    "\n",
    "# configure logger\n",
    "logger = u.setup_notebook_logger('../logs/notebook_logs.log')\n",
    "logger.setLevel(logging.INFO)\n",
    "\n",
    "from IPython.core import ultratb\n",
    "ultratb.VerboseTB._tb_highlight = \"bg:#b45827\"\n",
    "\n",
    "\n",
    "# load all configs\n",
    "sage_wallets_config = ucv.load_sage_wallets_config(Path('../config/sage_wallets_config.yaml'))\n",
    "sage_wallets_modeling_config = ucv.load_sage_wallets_modeling_config(Path('../config/sage_wallets_modeling_config.yaml'))\n",
    "\n",
    "\n",
    "u.export_code(\n",
    "    code_directories=[\n",
    "        'sage_wallet_insights',\n",
    "        'sage_wallet_modeling',\n",
    "        # 'sage_utils',\n",
    "    ],\n",
    "    # include_config = True,\n",
    "    # ipynb_notebook = 'DDA-769 coin model score dist toggle.ipynb'\n",
    "    output_file=\"temp/sagemaker_code.py\"\n",
    ")\n",
    "\n",
    "[importlib.reload(module) for module in modules]\n",
    "u.notify('retro')\n",
    "\n",
    "logger.milestone(\"Good morning, let's get to work\")"
   ]
  },
  {
   "cell_type": "markdown",
   "metadata": {},
   "source": [
    "# Model Training"
   ]
  },
  {
   "cell_type": "markdown",
   "metadata": {},
   "source": [
    "### Initiate orchestrator"
   ]
  },
  {
   "cell_type": "code",
   "execution_count": null,
   "metadata": {},
   "outputs": [],
   "source": [
    "[importlib.reload(module) for module in modules]\n",
    "sage_wallets_config = yaml.safe_load(Path('../config/sage_wallets_config.yaml').read_text(encoding='utf-8'))\n",
    "sage_wallets_modeling_config = yaml.safe_load(Path('../config/sage_wallets_modeling_config.yaml').read_text(encoding='utf-8'))\n",
    "\n",
    "\n",
    "date_suffixes = [\n",
    "    '231008',\n",
    "    '231107',\n",
    "    '240306',\n",
    "    '250301'\n",
    "]\n",
    "workflow_orch = wo.WalletWorkflowOrchestrator(sage_wallets_config,sage_wallets_modeling_config)"
   ]
  },
  {
   "cell_type": "markdown",
   "metadata": {},
   "source": [
    "### Load, preprocess, and upload all data"
   ]
  },
  {
   "cell_type": "markdown",
   "metadata": {},
   "source": [
    "#### load data"
   ]
  },
  {
   "cell_type": "code",
   "execution_count": null,
   "metadata": {},
   "outputs": [],
   "source": [
    "[importlib.reload(module) for module in modules]\n",
    "sage_wallets_config = yaml.safe_load(Path('../config/sage_wallets_config.yaml').read_text(encoding='utf-8'))\n",
    "sage_wallets_modeling_config = yaml.safe_load(Path('../config/sage_wallets_modeling_config.yaml').read_text(encoding='utf-8'))\n",
    "\n",
    "workflow_orch.load_all_training_data(date_suffixes)"
   ]
  },
  {
   "cell_type": "markdown",
   "metadata": {},
   "source": [
    "##### inspect features"
   ]
  },
  {
   "cell_type": "code",
   "execution_count": null,
   "metadata": {},
   "outputs": [],
   "source": [
    "# Create combined NaN count and describe statistics\n",
    "first_key = next(iter(workflow_orch.training_data))\n",
    "nan_counts = workflow_orch.training_data[first_key]['x_train'].isna().sum()\n",
    "describe_stats = workflow_orch.training_data[first_key]['x_train'].describe().T\n",
    "\n",
    "# Combine into single DataFrame\n",
    "combined_stats = pd.concat([\n",
    "    nan_counts.rename('nan_count'),\n",
    "    describe_stats\n",
    "], axis=1).sort_index()\n",
    "\n",
    "u.display_full(combined_stats.sort_index())"
   ]
  },
  {
   "cell_type": "markdown",
   "metadata": {},
   "source": [
    "#### preprocess all data"
   ]
  },
  {
   "cell_type": "code",
   "execution_count": null,
   "metadata": {},
   "outputs": [],
   "source": [
    "workflow_orch.preprocess_all_training_data()"
   ]
  },
  {
   "cell_type": "markdown",
   "metadata": {},
   "source": [
    "#### upload all data"
   ]
  },
  {
   "cell_type": "code",
   "execution_count": null,
   "metadata": {},
   "outputs": [],
   "source": [
    "# Upload and retrieve URIs\n",
    "workflow_orch.upload_all_training_data(overwrite_existing=True)\n",
    "s3_uris = workflow_orch.retrieve_training_data_uris(date_suffixes)"
   ]
  },
  {
   "cell_type": "markdown",
   "metadata": {},
   "source": [
    "### Train all models"
   ]
  },
  {
   "cell_type": "code",
   "execution_count": null,
   "metadata": {},
   "outputs": [],
   "source": [
    "workflow_orch.load_all_training_data(date_suffixes)\n",
    "modeling_results = workflow_orch.train_all_models()"
   ]
  },
  {
   "cell_type": "markdown",
   "metadata": {},
   "source": [
    "### Score with all models"
   ]
  },
  {
   "cell_type": "code",
   "execution_count": 2,
   "metadata": {},
   "outputs": [
    {
     "name": "stderr",
     "output_type": "stream",
     "text": [
      "\u001b[92m[31/Jul/25 14:16:01] MILESTONE [workflow_orchestrator.load_all_training_data:120] <PROD> Loading training data for 4 periods: ['231008', '231107', '240306', '250301']\u001b[0m\n",
      "\u001b[0m[31/Jul/25 14:16:02] INFO [workflow_orchestrator.load_all_training_data:136] Training data loaded successfully: 745,742 total rows and 9 offsets for each date_suffix.\u001b[0m\n",
      "\u001b[0m[31/Jul/25 14:16:02] INFO [credentials.load:1352] Found credentials in shared credentials file: ~/.aws/credentials\u001b[0m\n"
     ]
    }
   ],
   "source": [
    "[importlib.reload(module) for module in modules]\n",
    "sage_wallets_config = yaml.safe_load(Path('../config/sage_wallets_config.yaml').read_text(encoding='utf-8'))\n",
    "sage_wallets_modeling_config = yaml.safe_load(Path('../config/sage_wallets_modeling_config.yaml').read_text(encoding='utf-8'))\n",
    "\n",
    "\n",
    "date_suffixes = [\n",
    "    '231008',\n",
    "    '231107',\n",
    "    '240306',\n",
    "    '250301'\n",
    "]\n",
    "workflow_orch = wo.WalletWorkflowOrchestrator(sage_wallets_config,sage_wallets_modeling_config)\n",
    "workflow_orch.load_all_training_data(date_suffixes)\n",
    "s3_uris = workflow_orch.retrieve_training_data_uris(date_suffixes)"
   ]
  },
  {
   "cell_type": "code",
   "execution_count": 3,
   "metadata": {},
   "outputs": [
    {
     "name": "stderr",
     "output_type": "stream",
     "text": [
      "\u001b[92m[31/Jul/25 14:16:06] MILESTONE [workflow_orchestrator.predict_with_all_models:375] Generating predictions for 4 date periods with 2 threads...\u001b[0m\n",
      "\u001b[0m[31/Jul/25 14:16:06] INFO [workflow_orchestrator.predict_with_all_models:376] Dataset types: ['test', 'val']\u001b[0m\n",
      "\u001b[0m[31/Jul/25 14:16:07] INFO [wallet_modeler.load_existing_model:240] Loaded most recent model (timestamp: 20250729-201233): s3://wallet-training-data/sagemaker-models/dda-899-classifier/wallet-xgb-dda-899-classifier-231008-20250729-201233/output/model.tar.gz\u001b[0m\n",
      "\u001b[0m[31/Jul/25 14:16:07] INFO [image_uris._processor:530] Ignoring unnecessary instance type: None.\u001b[0m\n",
      "\u001b[0m[31/Jul/25 14:16:07] INFO [wallet_modeler.load_existing_model:240] Loaded most recent model (timestamp: 20250729-201233): s3://wallet-training-data/sagemaker-models/dda-899-classifier/wallet-xgb-dda-899-classifier-231107-20250729-201233/output/model.tar.gz\u001b[0m\n",
      "\u001b[0m[31/Jul/25 14:16:07] INFO [image_uris._processor:530] Ignoring unnecessary instance type: None.\u001b[0m\n",
      "\u001b[0m[31/Jul/25 14:16:07] INFO [session.submit:4105] Creating model with name: wallet-xgb-dda-899-classifier-231008-20250729-201233\u001b[0m\n",
      "\u001b[0m[31/Jul/25 14:16:07] INFO [session.submit:4105] Creating model with name: wallet-xgb-dda-899-classifier-231008-20250729-201233\u001b[0m\n",
      "\u001b[0m[31/Jul/25 14:16:07] INFO [image_uris._processor:530] Ignoring unnecessary instance type: None.\u001b[0m\n",
      "\u001b[0m[31/Jul/25 14:16:07] INFO [image_uris._processor:530] Ignoring unnecessary instance type: None.\u001b[0m\n",
      "\u001b[0m[31/Jul/25 14:16:07] INFO [session.submit:4105] Creating model with name: wallet-xgb-dda-899-classifier-231107-20250729-201233\u001b[0m\n",
      "\u001b[0m[31/Jul/25 14:16:07] INFO [session.submit:4105] Creating model with name: wallet-xgb-dda-899-classifier-231107-20250729-201233\u001b[0m\n",
      "\u001b[93m[31/Jul/25 14:16:08] WARNING [session.submit:4116] Using already existing model: wallet-xgb-dda-899-classifier-231008-20250729-201233\u001b[0m\n",
      "\u001b[93m[31/Jul/25 14:16:08] WARNING [session.submit:4116] Using already existing model: wallet-xgb-dda-899-classifier-231107-20250729-201233\u001b[0m\n",
      "\u001b[0m[31/Jul/25 14:16:08] INFO [wallet_modeler._execute_batch_transform:775] Starting batch transform job: wallet-scoring-231107-141608-val\u001b[0m\n",
      "\u001b[0m[31/Jul/25 14:16:08] INFO [wallet_modeler._execute_batch_transform:776] Using model: wallet-xgb-dda-899-classifier-231107-20250729-201233\u001b[0m\n",
      "\u001b[0m[31/Jul/25 14:16:08] INFO [wallet_modeler._execute_batch_transform:777] Input data: s3://wallet-training-data/training-data-preprocessed/dda-899-classifier/231107/val.csv\u001b[0m\n",
      "\u001b[0m[31/Jul/25 14:16:08] INFO [wallet_modeler._execute_batch_transform:778] Output path: s3://wallet-training-data/validation-data-scored/dda-899-classifier/231107/wallet-scoring-231107-141608-val\u001b[0m\n",
      "\u001b[0m[31/Jul/25 14:16:08] INFO [session.submit:3962] Creating transform job with name: wallet-scoring-231107-141608-val\u001b[0m\n",
      "\u001b[0m[31/Jul/25 14:16:08] INFO [wallet_modeler._execute_batch_transform:775] Starting batch transform job: wallet-scoring-231008-141608-val\u001b[0m\n",
      "\u001b[0m[31/Jul/25 14:16:08] INFO [wallet_modeler._execute_batch_transform:776] Using model: wallet-xgb-dda-899-classifier-231008-20250729-201233\u001b[0m\n",
      "\u001b[0m[31/Jul/25 14:16:08] INFO [wallet_modeler._execute_batch_transform:777] Input data: s3://wallet-training-data/training-data-preprocessed/dda-899-classifier/231008/val.csv\u001b[0m\n",
      "\u001b[0m[31/Jul/25 14:16:08] INFO [wallet_modeler._execute_batch_transform:778] Output path: s3://wallet-training-data/validation-data-scored/dda-899-classifier/231008/wallet-scoring-231008-141608-val\u001b[0m\n",
      "\u001b[0m[31/Jul/25 14:16:08] INFO [session.submit:3962] Creating transform job with name: wallet-scoring-231008-141608-val\u001b[0m\n",
      "\u001b[0m[31/Jul/25 14:16:08] INFO [wallet_modeler._execute_batch_transform:775] Starting batch transform job: wallet-scoring-231107-141608-test\u001b[0m\n",
      "\u001b[0m[31/Jul/25 14:16:08] INFO [wallet_modeler._execute_batch_transform:776] Using model: wallet-xgb-dda-899-classifier-231107-20250729-201233\u001b[0m\n",
      "\u001b[0m[31/Jul/25 14:16:08] INFO [wallet_modeler._execute_batch_transform:777] Input data: s3://wallet-training-data/training-data-preprocessed/dda-899-classifier/231107/test.csv\u001b[0m\n",
      "\u001b[0m[31/Jul/25 14:16:08] INFO [wallet_modeler._execute_batch_transform:778] Output path: s3://wallet-training-data/validation-data-scored/dda-899-classifier/231107/wallet-scoring-231107-141608-test\u001b[0m\n",
      "\u001b[0m[31/Jul/25 14:16:08] INFO [session.submit:3962] Creating transform job with name: wallet-scoring-231107-141608-test\u001b[0m\n",
      "\u001b[93m[31/Jul/25 14:16:13] WARNING [session.submit:4116] Using already existing model: wallet-xgb-dda-899-classifier-231008-20250729-201233\u001b[0m\n",
      "\u001b[0m[31/Jul/25 14:16:13] INFO [wallet_modeler._execute_batch_transform:775] Starting batch transform job: wallet-scoring-231008-141613-test\u001b[0m\n",
      "\u001b[0m[31/Jul/25 14:16:13] INFO [wallet_modeler._execute_batch_transform:776] Using model: wallet-xgb-dda-899-classifier-231008-20250729-201233\u001b[0m\n",
      "\u001b[0m[31/Jul/25 14:16:13] INFO [wallet_modeler._execute_batch_transform:777] Input data: s3://wallet-training-data/training-data-preprocessed/dda-899-classifier/231008/test.csv\u001b[0m\n",
      "\u001b[0m[31/Jul/25 14:16:13] INFO [wallet_modeler._execute_batch_transform:778] Output path: s3://wallet-training-data/validation-data-scored/dda-899-classifier/231008/wallet-scoring-231008-141613-test\u001b[0m\n",
      "\u001b[0m[31/Jul/25 14:16:13] INFO [session.submit:3962] Creating transform job with name: wallet-scoring-231008-141613-test\u001b[0m\n"
     ]
    },
    {
     "name": "stdout",
     "output_type": "stream",
     "text": [
      "...................................................................................................................................................................................................................................................!"
     ]
    },
    {
     "name": "stderr",
     "output_type": "stream",
     "text": [
      "\u001b[0m[31/Jul/25 14:21:23] INFO [wallet_modeler._execute_batch_transform:792] Batch transform completed. Predictions at: s3://wallet-training-data/validation-data-scored/dda-899-classifier/231107/wallet-scoring-231107-141608-val/val.csv.out\u001b[0m\n"
     ]
    },
    {
     "name": "stdout",
     "output_type": "stream",
     "text": [
      "\n",
      ".."
     ]
    },
    {
     "name": "stderr",
     "output_type": "stream",
     "text": [
      "\u001b[0m[31/Jul/25 14:21:24] INFO [s3_utils.download_from_uri:69] Stored file at ..//s3_downloads/wallet_predictions/dda_897_td_column_ordering_v1/231107/val.csv.out.\u001b[0m\n",
      "\u001b[0m[31/Jul/25 14:21:24] INFO [wallet_modeler._download_batch_transform_preds:823] Downloaded val predictions to: None\u001b[0m\n"
     ]
    },
    {
     "name": "stdout",
     "output_type": "stream",
     "text": [
      "....!"
     ]
    },
    {
     "name": "stderr",
     "output_type": "stream",
     "text": [
      "\u001b[0m[31/Jul/25 14:21:34] INFO [wallet_modeler._execute_batch_transform:792] Batch transform completed. Predictions at: s3://wallet-training-data/validation-data-scored/dda-899-classifier/231107/wallet-scoring-231107-141608-test/test.csv.out\u001b[0m\n"
     ]
    },
    {
     "name": "stdout",
     "output_type": "stream",
     "text": [
      "\n"
     ]
    },
    {
     "name": "stderr",
     "output_type": "stream",
     "text": [
      "\u001b[0m[31/Jul/25 14:21:34] INFO [s3_utils.download_from_uri:69] Stored file at ..//s3_downloads/wallet_predictions/dda_897_td_column_ordering_v1/231107/test.csv.out.\u001b[0m\n",
      "\u001b[0m[31/Jul/25 14:21:34] INFO [wallet_modeler._download_batch_transform_preds:823] Downloaded test predictions to: None\u001b[0m\n",
      "\u001b[92m[31/Jul/25 14:21:34] MILESTONE [workflow_orchestrator._predict_with_single_model:862] Successfully completed predictions for 231107: ['test', 'val']\u001b[0m\n"
     ]
    },
    {
     "name": "stdout",
     "output_type": "stream",
     "text": [
      "."
     ]
    },
    {
     "name": "stderr",
     "output_type": "stream",
     "text": [
      "\u001b[0m[31/Jul/25 14:21:34] INFO [wallet_modeler.load_existing_model:240] Loaded most recent model (timestamp: 20250729-201233): s3://wallet-training-data/sagemaker-models/dda-899-classifier/wallet-xgb-dda-899-classifier-240306-20250729-201233/output/model.tar.gz\u001b[0m\n",
      "\u001b[0m[31/Jul/25 14:21:34] INFO [image_uris._processor:530] Ignoring unnecessary instance type: None.\u001b[0m\n",
      "\u001b[0m[31/Jul/25 14:21:34] INFO [image_uris._processor:530] Ignoring unnecessary instance type: None.\u001b[0m\n",
      "\u001b[0m[31/Jul/25 14:21:34] INFO [session.submit:4105] Creating model with name: wallet-xgb-dda-899-classifier-240306-20250729-201233\u001b[0m\n",
      "\u001b[0m[31/Jul/25 14:21:34] INFO [session.submit:4105] Creating model with name: wallet-xgb-dda-899-classifier-240306-20250729-201233\u001b[0m\n",
      "\u001b[93m[31/Jul/25 14:21:35] WARNING [session.submit:4116] Using already existing model: wallet-xgb-dda-899-classifier-240306-20250729-201233\u001b[0m\n",
      "\u001b[0m[31/Jul/25 14:21:35] INFO [wallet_modeler._execute_batch_transform:775] Starting batch transform job: wallet-scoring-240306-142135-test\u001b[0m\n",
      "\u001b[0m[31/Jul/25 14:21:35] INFO [wallet_modeler._execute_batch_transform:776] Using model: wallet-xgb-dda-899-classifier-240306-20250729-201233\u001b[0m\n",
      "\u001b[0m[31/Jul/25 14:21:35] INFO [wallet_modeler._execute_batch_transform:777] Input data: s3://wallet-training-data/training-data-preprocessed/dda-899-classifier/240306/test.csv\u001b[0m\n",
      "\u001b[0m[31/Jul/25 14:21:35] INFO [wallet_modeler._execute_batch_transform:778] Output path: s3://wallet-training-data/validation-data-scored/dda-899-classifier/240306/wallet-scoring-240306-142135-test\u001b[0m\n",
      "\u001b[0m[31/Jul/25 14:21:35] INFO [session.submit:3962] Creating transform job with name: wallet-scoring-240306-142135-test\u001b[0m\n",
      "\u001b[0m[31/Jul/25 14:21:35] INFO [wallet_modeler._execute_batch_transform:775] Starting batch transform job: wallet-scoring-240306-142135-val\u001b[0m\n",
      "\u001b[0m[31/Jul/25 14:21:35] INFO [wallet_modeler._execute_batch_transform:776] Using model: wallet-xgb-dda-899-classifier-240306-20250729-201233\u001b[0m\n",
      "\u001b[0m[31/Jul/25 14:21:35] INFO [wallet_modeler._execute_batch_transform:777] Input data: s3://wallet-training-data/training-data-preprocessed/dda-899-classifier/240306/val.csv\u001b[0m\n",
      "\u001b[0m[31/Jul/25 14:21:35] INFO [wallet_modeler._execute_batch_transform:778] Output path: s3://wallet-training-data/validation-data-scored/dda-899-classifier/240306/wallet-scoring-240306-142135-val\u001b[0m\n",
      "\u001b[0m[31/Jul/25 14:21:35] INFO [session.submit:3962] Creating transform job with name: wallet-scoring-240306-142135-val\u001b[0m\n"
     ]
    },
    {
     "name": "stdout",
     "output_type": "stream",
     "text": [
      ".....!"
     ]
    },
    {
     "name": "stderr",
     "output_type": "stream",
     "text": [
      "\u001b[0m[31/Jul/25 14:21:44] INFO [wallet_modeler._execute_batch_transform:792] Batch transform completed. Predictions at: s3://wallet-training-data/validation-data-scored/dda-899-classifier/231008/wallet-scoring-231008-141613-test/test.csv.out\u001b[0m\n"
     ]
    },
    {
     "name": "stdout",
     "output_type": "stream",
     "text": [
      "\n"
     ]
    },
    {
     "name": "stderr",
     "output_type": "stream",
     "text": [
      "\u001b[0m[31/Jul/25 14:21:45] INFO [s3_utils.download_from_uri:69] Stored file at ..//s3_downloads/wallet_predictions/dda_897_td_column_ordering_v1/231008/test.csv.out.\u001b[0m\n",
      "\u001b[0m[31/Jul/25 14:21:45] INFO [wallet_modeler._download_batch_transform_preds:823] Downloaded test predictions to: None\u001b[0m\n"
     ]
    },
    {
     "name": "stdout",
     "output_type": "stream",
     "text": [
      "!"
     ]
    },
    {
     "name": "stderr",
     "output_type": "stream",
     "text": [
      "\u001b[0m[31/Jul/25 14:21:46] INFO [wallet_modeler._execute_batch_transform:792] Batch transform completed. Predictions at: s3://wallet-training-data/validation-data-scored/dda-899-classifier/231008/wallet-scoring-231008-141608-val/val.csv.out\u001b[0m\n"
     ]
    },
    {
     "name": "stdout",
     "output_type": "stream",
     "text": [
      "\n",
      ".."
     ]
    },
    {
     "name": "stderr",
     "output_type": "stream",
     "text": [
      "\u001b[0m[31/Jul/25 14:21:46] INFO [s3_utils.download_from_uri:69] Stored file at ..//s3_downloads/wallet_predictions/dda_897_td_column_ordering_v1/231008/val.csv.out.\u001b[0m\n",
      "\u001b[0m[31/Jul/25 14:21:46] INFO [wallet_modeler._download_batch_transform_preds:823] Downloaded val predictions to: None\u001b[0m\n",
      "\u001b[92m[31/Jul/25 14:21:46] MILESTONE [workflow_orchestrator._predict_with_single_model:862] Successfully completed predictions for 231008: ['test', 'val']\u001b[0m\n",
      "\u001b[0m[31/Jul/25 14:21:46] INFO [wallet_modeler.load_existing_model:240] Loaded most recent model (timestamp: 20250729-201233): s3://wallet-training-data/sagemaker-models/dda-899-classifier/wallet-xgb-dda-899-classifier-250301-20250729-201233/output/model.tar.gz\u001b[0m\n",
      "\u001b[0m[31/Jul/25 14:21:46] INFO [image_uris._processor:530] Ignoring unnecessary instance type: None.\u001b[0m\n",
      "\u001b[0m[31/Jul/25 14:21:46] INFO [image_uris._processor:530] Ignoring unnecessary instance type: None.\u001b[0m\n",
      "\u001b[0m[31/Jul/25 14:21:46] INFO [session.submit:4105] Creating model with name: wallet-xgb-dda-899-classifier-250301-20250729-201233\u001b[0m\n",
      "\u001b[0m[31/Jul/25 14:21:46] INFO [session.submit:4105] Creating model with name: wallet-xgb-dda-899-classifier-250301-20250729-201233\u001b[0m\n",
      "\u001b[93m[31/Jul/25 14:21:47] WARNING [session.submit:4116] Using already existing model: wallet-xgb-dda-899-classifier-250301-20250729-201233\u001b[0m\n",
      "\u001b[0m[31/Jul/25 14:21:47] INFO [wallet_modeler._execute_batch_transform:775] Starting batch transform job: wallet-scoring-250301-142147-test\u001b[0m\n",
      "\u001b[0m[31/Jul/25 14:21:47] INFO [wallet_modeler._execute_batch_transform:776] Using model: wallet-xgb-dda-899-classifier-250301-20250729-201233\u001b[0m\n",
      "\u001b[0m[31/Jul/25 14:21:47] INFO [wallet_modeler._execute_batch_transform:777] Input data: s3://wallet-training-data/training-data-preprocessed/dda-899-classifier/250301/test.csv\u001b[0m\n",
      "\u001b[0m[31/Jul/25 14:21:47] INFO [wallet_modeler._execute_batch_transform:778] Output path: s3://wallet-training-data/validation-data-scored/dda-899-classifier/250301/wallet-scoring-250301-142147-test\u001b[0m\n",
      "\u001b[0m[31/Jul/25 14:21:47] INFO [session.submit:3962] Creating transform job with name: wallet-scoring-250301-142147-test\u001b[0m\n",
      "\u001b[0m[31/Jul/25 14:21:47] INFO [wallet_modeler._execute_batch_transform:775] Starting batch transform job: wallet-scoring-250301-142147-val\u001b[0m\n",
      "\u001b[0m[31/Jul/25 14:21:47] INFO [wallet_modeler._execute_batch_transform:776] Using model: wallet-xgb-dda-899-classifier-250301-20250729-201233\u001b[0m\n",
      "\u001b[0m[31/Jul/25 14:21:47] INFO [wallet_modeler._execute_batch_transform:777] Input data: s3://wallet-training-data/training-data-preprocessed/dda-899-classifier/250301/val.csv\u001b[0m\n",
      "\u001b[0m[31/Jul/25 14:21:47] INFO [wallet_modeler._execute_batch_transform:778] Output path: s3://wallet-training-data/validation-data-scored/dda-899-classifier/250301/wallet-scoring-250301-142147-val\u001b[0m\n",
      "\u001b[0m[31/Jul/25 14:21:47] INFO [session.submit:3962] Creating transform job with name: wallet-scoring-250301-142147-val\u001b[0m\n"
     ]
    },
    {
     "name": "stdout",
     "output_type": "stream",
     "text": [
      "........................................................................................................................................................................................................................................!"
     ]
    },
    {
     "name": "stderr",
     "output_type": "stream",
     "text": [
      "\u001b[0m[31/Jul/25 14:26:45] INFO [wallet_modeler._execute_batch_transform:792] Batch transform completed. Predictions at: s3://wallet-training-data/validation-data-scored/dda-899-classifier/240306/wallet-scoring-240306-142135-test/test.csv.out\u001b[0m\n"
     ]
    },
    {
     "name": "stdout",
     "output_type": "stream",
     "text": [
      "\n",
      "."
     ]
    },
    {
     "name": "stderr",
     "output_type": "stream",
     "text": [
      "\u001b[0m[31/Jul/25 14:26:46] INFO [s3_utils.download_from_uri:69] Stored file at ..//s3_downloads/wallet_predictions/dda_897_td_column_ordering_v1/240306/test.csv.out.\u001b[0m\n",
      "\u001b[0m[31/Jul/25 14:26:46] INFO [wallet_modeler._download_batch_transform_preds:823] Downloaded test predictions to: None\u001b[0m\n"
     ]
    },
    {
     "name": "stdout",
     "output_type": "stream",
     "text": [
      ".....................!"
     ]
    },
    {
     "name": "stderr",
     "output_type": "stream",
     "text": [
      "\u001b[0m[31/Jul/25 14:27:22] INFO [wallet_modeler._execute_batch_transform:792] Batch transform completed. Predictions at: s3://wallet-training-data/validation-data-scored/dda-899-classifier/250301/wallet-scoring-250301-142147-test/test.csv.out\u001b[0m\n"
     ]
    },
    {
     "name": "stdout",
     "output_type": "stream",
     "text": [
      "\n",
      "!"
     ]
    },
    {
     "name": "stderr",
     "output_type": "stream",
     "text": [
      "\u001b[0m[31/Jul/25 14:27:22] INFO [wallet_modeler._execute_batch_transform:792] Batch transform completed. Predictions at: s3://wallet-training-data/validation-data-scored/dda-899-classifier/250301/wallet-scoring-250301-142147-val/val.csv.out\u001b[0m\n"
     ]
    },
    {
     "name": "stdout",
     "output_type": "stream",
     "text": [
      "\n"
     ]
    },
    {
     "name": "stderr",
     "output_type": "stream",
     "text": [
      "\u001b[0m[31/Jul/25 14:27:23] INFO [s3_utils.download_from_uri:69] Stored file at ..//s3_downloads/wallet_predictions/dda_897_td_column_ordering_v1/250301/test.csv.out.\u001b[0m\n",
      "\u001b[0m[31/Jul/25 14:27:23] INFO [wallet_modeler._download_batch_transform_preds:823] Downloaded test predictions to: None\u001b[0m\n",
      "\u001b[0m[31/Jul/25 14:27:23] INFO [s3_utils.download_from_uri:69] Stored file at ..//s3_downloads/wallet_predictions/dda_897_td_column_ordering_v1/250301/val.csv.out.\u001b[0m\n",
      "\u001b[0m[31/Jul/25 14:27:23] INFO [wallet_modeler._download_batch_transform_preds:823] Downloaded val predictions to: None\u001b[0m\n",
      "\u001b[92m[31/Jul/25 14:27:23] MILESTONE [workflow_orchestrator._predict_with_single_model:862] Successfully completed predictions for 250301: ['test', 'val']\u001b[0m\n"
     ]
    },
    {
     "name": "stdout",
     "output_type": "stream",
     "text": [
      "..!"
     ]
    },
    {
     "name": "stderr",
     "output_type": "stream",
     "text": [
      "\u001b[0m[31/Jul/25 14:27:36] INFO [wallet_modeler._execute_batch_transform:792] Batch transform completed. Predictions at: s3://wallet-training-data/validation-data-scored/dda-899-classifier/240306/wallet-scoring-240306-142135-val/val.csv.out\u001b[0m\n"
     ]
    },
    {
     "name": "stdout",
     "output_type": "stream",
     "text": [
      "\n"
     ]
    },
    {
     "name": "stderr",
     "output_type": "stream",
     "text": [
      "\u001b[0m[31/Jul/25 14:27:37] INFO [s3_utils.download_from_uri:69] Stored file at ..//s3_downloads/wallet_predictions/dda_897_td_column_ordering_v1/240306/val.csv.out.\u001b[0m\n",
      "\u001b[0m[31/Jul/25 14:27:37] INFO [wallet_modeler._download_batch_transform_preds:823] Downloaded val predictions to: None\u001b[0m\n",
      "\u001b[92m[31/Jul/25 14:27:37] MILESTONE [workflow_orchestrator._predict_with_single_model:862] Successfully completed predictions for 240306: ['test', 'val']\u001b[0m\n",
      "\u001b[92m[31/Jul/25 14:27:37] MILESTONE [workflow_orchestrator.predict_with_all_models:395] All 4 models generated predictions successfully.\u001b[0m\n"
     ]
    }
   ],
   "source": [
    "result = workflow_orch.predict_with_all_models()"
   ]
  },
  {
   "cell_type": "markdown",
   "metadata": {},
   "source": [
    "## Single Model Sequence"
   ]
  },
  {
   "cell_type": "markdown",
   "metadata": {},
   "source": [
    "### Train Single Model"
   ]
  },
  {
   "cell_type": "markdown",
   "metadata": {},
   "source": [
    "#### retrieve file uris"
   ]
  },
  {
   "cell_type": "code",
   "execution_count": null,
   "metadata": {},
   "outputs": [],
   "source": [
    "[importlib.reload(module) for module in modules]\n",
    "sage_wallets_config = yaml.safe_load(Path('../config/sage_wallets_config.yaml').read_text(encoding='utf-8'))\n",
    "sage_wallets_modeling_config = yaml.safe_load(Path('../config/sage_wallets_modeling_config.yaml').read_text(encoding='utf-8'))\n",
    "\n",
    "workflow_orch = wo.WalletWorkflowOrchestrator(sage_wallets_config,sage_wallets_modeling_config)\n",
    "\n",
    "# Generate URIs for specific dates without any prior setup\n",
    "s3_uris = workflow_orch.retrieve_training_data_uris(date_suffixes)\n",
    "s3_uris"
   ]
  },
  {
   "cell_type": "markdown",
   "metadata": {},
   "source": [
    "#### train model"
   ]
  },
  {
   "cell_type": "code",
   "execution_count": null,
   "metadata": {},
   "outputs": [],
   "source": [
    "[importlib.reload(module) for module in modules]\n",
    "sage_wallets_config = yaml.safe_load(Path('../config/sage_wallets_config.yaml').read_text(encoding='utf-8'))\n",
    "sage_wallets_modeling_config = yaml.safe_load(Path('../config/sage_wallets_modeling_config.yaml').read_text(encoding='utf-8'))\n",
    "\n",
    "date_suffix = date_suffixes[0]\n",
    "\n",
    "modeler = wm.WalletModeler(\n",
    "    sage_wallets_config,\n",
    "    sage_wallets_modeling_config,\n",
    "    date_suffix,\n",
    "    s3_uris\n",
    ")\n",
    "\n"
   ]
  },
  {
   "cell_type": "code",
   "execution_count": null,
   "metadata": {},
   "outputs": [],
   "source": [
    "modeling_results = modeler.train_model()"
   ]
  },
  {
   "cell_type": "markdown",
   "metadata": {},
   "source": [
    "### Score validation set"
   ]
  },
  {
   "cell_type": "markdown",
   "metadata": {},
   "source": [
    "#### get existing model uri"
   ]
  },
  {
   "cell_type": "code",
   "execution_count": null,
   "metadata": {},
   "outputs": [],
   "source": [
    "[importlib.reload(module) for module in modules]\n",
    "sage_wallets_config = yaml.safe_load(Path('../config/sage_wallets_config.yaml').read_text(encoding='utf-8'))\n",
    "sage_wallets_modeling_config = yaml.safe_load(Path('../config/sage_wallets_modeling_config.yaml').read_text(encoding='utf-8'))\n",
    "\n",
    "\n",
    "\n",
    "date_suffix = '231008'\n",
    "\n",
    "# Generate URIs for specific dates without any prior setup\n",
    "workflow_orch = wo.WalletWorkflowOrchestrator(sage_wallets_config,sage_wallets_modeling_config)\n",
    "s3_uris = workflow_orch.retrieve_training_data_uris([date_suffix])\n",
    "\n",
    "# Launch modeler\n",
    "modeler = wm.WalletModeler(\n",
    "    sage_wallets_config,\n",
    "    sage_wallets_modeling_config,\n",
    "    date_suffix,\n",
    "    s3_uris\n",
    ")\n",
    "\n",
    "\n",
    "model_metadata = modeler.load_existing_model()"
   ]
  },
  {
   "cell_type": "markdown",
   "metadata": {},
   "source": [
    "#### predict with batch transform"
   ]
  },
  {
   "cell_type": "code",
   "execution_count": null,
   "metadata": {},
   "outputs": [],
   "source": [
    "transform_results = modeler.predict_with_batch_transform('val')"
   ]
  },
  {
   "cell_type": "code",
   "execution_count": null,
   "metadata": {},
   "outputs": [],
   "source": [
    "transform_results = modeler.predict_with_batch_transform('test')"
   ]
  },
  {
   "cell_type": "markdown",
   "metadata": {},
   "source": [
    "### Predict Using Endpoints"
   ]
  },
  {
   "cell_type": "markdown",
   "metadata": {},
   "source": [
    "#### deploy endpoint for predictions"
   ]
  },
  {
   "cell_type": "code",
   "execution_count": null,
   "metadata": {},
   "outputs": [],
   "source": [
    "modeler.list_active_endpoints()"
   ]
  },
  {
   "cell_type": "code",
   "execution_count": null,
   "metadata": {},
   "outputs": [],
   "source": [
    "modeler.deploy_endpoint()"
   ]
  },
  {
   "cell_type": "markdown",
   "metadata": {},
   "source": [
    "#### load and preprocess test/val dfs"
   ]
  },
  {
   "cell_type": "code",
   "execution_count": null,
   "metadata": {},
   "outputs": [],
   "source": [
    "x_test = pd.read_parquet(\n",
    "    Path(\"../s3_uploads/wallet_training_data_queue\") /\n",
    "    sage_wallets_config['training_data']['local_directory'] /\n",
    "    f\"x_test_{date_suffix}.parquet\"\n",
    ")\n",
    "x_val = pd.read_parquet(\n",
    "    Path(\"../s3_uploads/wallet_training_data_queue\") /\n",
    "    sage_wallets_config['training_data']['local_directory'] /\n",
    "    f\"x_val_{date_suffix}.parquet\"\n",
    ")\n",
    "\n",
    "\n"
   ]
  },
  {
   "cell_type": "code",
   "execution_count": null,
   "metadata": {},
   "outputs": [],
   "source": [
    "preprocessor = SageWalletsPreprocessor(sage_wallets_config)\n",
    "x_test_processed = preprocessor.preprocess_x_df(x_test)\n",
    "x_val_processed = preprocessor.preprocess_x_df(x_val)\n",
    "\n",
    "logger.info(f\"Preprocessed X_test {x_test_processed.shape} and \"\n",
    "            f\"X_val {x_val_processed.shape}.\")"
   ]
  },
  {
   "cell_type": "markdown",
   "metadata": {},
   "source": [
    "#### predict"
   ]
  },
  {
   "cell_type": "code",
   "execution_count": null,
   "metadata": {},
   "outputs": [],
   "source": [
    "y_test_pred = modeler.predict_using_endpoint(x_test_processed, 'test')\n",
    "y_val_pred = modeler.predict_using_endpoint(x_val_processed, 'val')"
   ]
  },
  {
   "cell_type": "markdown",
   "metadata": {},
   "source": [
    "#### delete all endpoints"
   ]
  },
  {
   "cell_type": "code",
   "execution_count": null,
   "metadata": {},
   "outputs": [],
   "source": [
    "modeler.delete_all_endpoints()"
   ]
  },
  {
   "cell_type": "code",
   "execution_count": null,
   "metadata": {},
   "outputs": [],
   "source": [
    "modeler.list_active_endpoints()\n",
    "modeler.list_all_endpoints()"
   ]
  },
  {
   "cell_type": "markdown",
   "metadata": {},
   "source": [
    "# Model Evaluation"
   ]
  },
  {
   "cell_type": "markdown",
   "metadata": {},
   "source": [
    "### Analyze predictions"
   ]
  },
  {
   "cell_type": "code",
   "execution_count": null,
   "metadata": {},
   "outputs": [],
   "source": [
    "[importlib.reload(module) for module in modules]\n",
    "sage_wallets_config = yaml.safe_load(Path('../config/sage_wallets_config.yaml').read_text(encoding='utf-8'))\n",
    "sage_wallets_modeling_config = yaml.safe_load(Path('../config/sage_wallets_modeling_config.yaml').read_text(encoding='utf-8'))\n",
    "\n",
    "\n",
    "date_suffixes = [\n",
    "    '231008',\n",
    "    # '240306'\n",
    "]\n",
    "date_suffix = date_suffixes[0]"
   ]
  },
  {
   "cell_type": "code",
   "execution_count": null,
   "metadata": {},
   "outputs": [],
   "source": [
    "y_test_pred = sime.load_bt_sagemaker_predictions('test', sage_wallets_config, date_suffix)\n",
    "y_val_pred = sime.load_bt_sagemaker_predictions('val', sage_wallets_config, date_suffix)"
   ]
  },
  {
   "cell_type": "code",
   "execution_count": null,
   "metadata": {},
   "outputs": [],
   "source": [
    "# Single function call for complete evaluation\n",
    "evaluator = sime.run_sagemaker_evaluation(\n",
    "    sage_wallets_config,\n",
    "    sage_wallets_modeling_config,\n",
    "    date_suffix,\n",
    "    y_test_pred,\n",
    "    y_val_pred\n",
    ")"
   ]
  },
  {
   "cell_type": "code",
   "execution_count": null,
   "metadata": {},
   "outputs": [],
   "source": [
    "evaluator.y_validation"
   ]
  },
  {
   "cell_type": "code",
   "execution_count": null,
   "metadata": {},
   "outputs": [],
   "source": [
    "evaluator.y_validation_pred_proba"
   ]
  },
  {
   "cell_type": "code",
   "execution_count": null,
   "metadata": {},
   "outputs": [],
   "source": [
    "from sklearn.metrics import roc_curve, auc\n",
    "import matplotlib.pyplot as plt\n",
    "\n",
    "fpr, tpr, _ = roc_curve(evaluator.y_validation, evaluator.y_validation_pred_proba)\n",
    "roc_auc = auc(fpr, tpr)\n",
    "\n",
    "plt.figure(figsize=(8, 6))\n",
    "plt.plot(fpr, tpr, color='darkorange', lw=2, label=f'ROC curve (AUC = {roc_auc:.3f})')\n",
    "plt.plot([0, 1], [0, 1], color='navy', lw=2, linestyle='--', label='Random classifier')\n",
    "plt.xlim([0.0, 1.0])\n",
    "plt.ylim([0.0, 1.05])\n",
    "plt.xlabel('False Positive Rate')\n",
    "plt.ylabel('True Positive Rate')\n",
    "plt.title('ROC Curve - Validation Set')\n",
    "plt.legend(loc=\"lower right\")\n",
    "plt.grid(True, alpha=0.3)\n",
    "plt.show()"
   ]
  },
  {
   "cell_type": "code",
   "execution_count": null,
   "metadata": {},
   "outputs": [],
   "source": [
    "evaluator.summary_report()\n",
    "evaluator.plot_wallet_evaluation()\n"
   ]
  },
  {
   "cell_type": "code",
   "execution_count": null,
   "metadata": {},
   "outputs": [],
   "source": [
    "def load_sagemaker_predictions(\n",
    "    data_type: str,\n",
    "    sage_wallets_config: dict,\n",
    "    sage_wallets_modeling_config: dict,\n",
    "    date_suffix: str\n",
    ") -> tuple[pd.Series, pd.Series]:\n",
    "    \"\"\"\n",
    "    Load SageMaker predictions and corresponding actuals for a given data type.\n",
    "\n",
    "    Params:\n",
    "    - data_type (str): Either 'test' or 'val'\n",
    "    - sage_wallets_config (dict): Configuration for training data paths\n",
    "    - sage_wallets_modeling_config (dict): Configuration for model parameters\n",
    "    - date_suffix (str): Date suffix for file naming\n",
    "\n",
    "    Returns:\n",
    "    - tuple: (predictions_series, actuals_series) with aligned indices\n",
    "    \"\"\"\n",
    "    # Load predictions\n",
    "    pred_path = Path(sage_wallets_modeling_config['metaparams']['endpoint_preds_dir']) / \\\n",
    "                f\"endpoint_y_pred_{data_type}_{sage_wallets_config['training_data']['local_directory']}_{date_suffix}.csv\"\n",
    "    pred_df = pd.read_csv(pred_path)\n",
    "\n",
    "    if 'score' not in pred_df.columns:\n",
    "        raise ValueError(f\"SageMaker predictions are missing the 'score' column. \"\n",
    "                        f\"Available columns: {pred_df.columns}\")\n",
    "    pred_series = pred_df['score']\n",
    "\n",
    "    # Load actuals\n",
    "    training_data_path = (\n",
    "        Path(f\"../s3_uploads\") / \"wallet_training_data_queue\" /\n",
    "        f\"{sage_wallets_config['training_data']['local_directory']}\"\n",
    "    )\n",
    "    actuals_path = training_data_path / f\"y_{data_type}_{date_suffix}.parquet\"\n",
    "    actuals_df = pd.read_parquet(actuals_path)\n",
    "\n",
    "    if len(actuals_df.columns) > 1:\n",
    "        raise ValueError(f\"Found unexpected columns in y_{data_type}_df. \"\n",
    "                        f\"Expected 1 column, found {actuals_df.columns}.\")\n",
    "    actuals_series = actuals_df.iloc[:, 0]\n",
    "\n",
    "    # Validate lengths and align indices\n",
    "    if len(pred_series) != len(actuals_series):\n",
    "        raise ValueError(f\"Length of y_{data_type}_pred ({len(pred_series)}) does \"\n",
    "                        f\"not match length of y_{data_type}_true ({len(actuals_series)}).\")\n",
    "\n",
    "    pred_series.index = actuals_series.index\n",
    "\n",
    "    return pred_series, actuals_series"
   ]
  },
  {
   "cell_type": "code",
   "execution_count": null,
   "metadata": {},
   "outputs": [],
   "source": [
    "# Load predictions and actuals\n",
    "y_test_pred_series, y_test_true_series = load_sagemaker_predictions(\n",
    "    'test', sage_wallets_config, sage_wallets_modeling_config, date_suffix\n",
    ")\n",
    "y_val_pred_series, y_val_true_series = load_sagemaker_predictions(\n",
    "    'val', sage_wallets_config, sage_wallets_modeling_config, date_suffix\n",
    ")\n",
    "\n",
    "# Load remaining training data\n",
    "training_data_path = (\n",
    "    Path(f\"../s3_uploads\") / \"wallet_training_data_queue\" /\n",
    "    f\"{sage_wallets_config['training_data']['local_directory']}\"\n",
    ")\n",
    "X_train = pd.read_parquet(training_data_path / f\"x_train_{date_suffix}.parquet\")\n",
    "y_train = pd.read_parquet(training_data_path / f\"y_train_{date_suffix}.parquet\")\n",
    "X_test = pd.read_parquet(training_data_path / f\"x_test_{date_suffix}.parquet\")\n",
    "X_val = pd.read_parquet(training_data_path / f\"x_val_{date_suffix}.parquet\")\n",
    "\n",
    "# Identify target variable and model type\n",
    "target_variable = y_val_true_series.name or y_train.columns[0]\n",
    "objective = sage_wallets_modeling_config['training']['hyperparameters']['objective']\n",
    "model_type = 'regression' if objective[:3] == 'reg' else 'unknown'"
   ]
  },
  {
   "cell_type": "code",
   "execution_count": null,
   "metadata": {},
   "outputs": [],
   "source": [
    "# Create model_id and modeling_config\n",
    "model_id = f\"sagemaker_{sage_wallets_config['training_data']['local_directory']}_{date_suffix}\"\n",
    "\n",
    "modeling_config = {\n",
    "    'target_variable': target_variable,\n",
    "    'model_type': model_type,\n",
    "    'returns_winsorization': 0.005,  # Default for winsorizing returns\n",
    "    'training_data': {\n",
    "        'modeling_period_duration': 30  # Default performance window\n",
    "    },\n",
    "    'sagemaker_metadata': {\n",
    "        'objective': objective,\n",
    "        'local_directory': sage_wallets_config['training_data']['local_directory'],\n",
    "        'date_suffix': date_suffix\n",
    "    }\n",
    "}\n",
    "\n",
    "# Create minimal wallet_model_results for SageMaker evaluation\n",
    "wallet_model_results = {\n",
    "    'model_id': model_id,\n",
    "    'modeling_config': modeling_config,\n",
    "    'model_type': model_type,\n",
    "\n",
    "    # Training data\n",
    "    'X_train': X_train,\n",
    "    'X_test': X_test,\n",
    "    'y_train': y_train,\n",
    "    'y_test': y_test_true_series,\n",
    "    'y_pred': y_test_pred_series,\n",
    "    'training_cohort_pred': None,\n",
    "    'training_cohort_actuals': None,\n",
    "\n",
    "    # Validation data\n",
    "    'X_validation': X_val,\n",
    "    'y_validation': y_val_true_series,\n",
    "    'y_validation_pred': y_val_pred_series,\n",
    "    'validation_target_vars_df': None,\n",
    "\n",
    "    # Fixed mock pipeline\n",
    "    'pipeline': type('MockPipeline', (), {\n",
    "        'named_steps': {'estimator': type('MockModel', (), {\n",
    "            'get_params': lambda self: {'objective': objective}  # Accept self argument\n",
    "        })()},\n",
    "        '__getitem__': lambda self, key: type('MockTransformer', (), {\n",
    "            'transform': lambda self, X: X  # Accept self argument\n",
    "        })()\n",
    "    })()\n",
    "}\n",
    "\n",
    "# Create evaluator\n",
    "wallet_evaluator = wime.RegressorEvaluator(wallet_model_results)\n",
    "\n",
    "# Run basic evaluation\n",
    "wallet_evaluator.summary_report()\n",
    "wallet_evaluator.plot_wallet_evaluation()"
   ]
  },
  {
   "cell_type": "code",
   "execution_count": null,
   "metadata": {},
   "outputs": [],
   "source": []
  },
  {
   "cell_type": "code",
   "execution_count": null,
   "metadata": {},
   "outputs": [],
   "source": [
    "target_variable"
   ]
  },
  {
   "cell_type": "code",
   "execution_count": null,
   "metadata": {},
   "outputs": [],
   "source": []
  }
 ],
 "metadata": {
  "kernelspec": {
   "display_name": ".sage_venv",
   "language": "python",
   "name": "python3"
  },
  "language_info": {
   "codemirror_mode": {
    "name": "ipython",
    "version": 3
   },
   "file_extension": ".py",
   "mimetype": "text/x-python",
   "name": "python",
   "nbconvert_exporter": "python",
   "pygments_lexer": "ipython3",
   "version": "3.11.9"
  }
 },
 "nbformat": 4,
 "nbformat_minor": 2
}
