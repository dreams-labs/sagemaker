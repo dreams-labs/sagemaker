{
 "cells": [
  {
   "cell_type": "markdown",
   "metadata": {},
   "source": [
    "### start"
   ]
  },
  {
   "cell_type": "code",
   "execution_count": 1,
   "metadata": {},
   "outputs": [
    {
     "name": "stdout",
     "output_type": "stream",
     "text": [
      "sagemaker.config INFO - Not applying SDK defaults from location: /Library/Application Support/sagemaker/config.yaml\n",
      "sagemaker.config INFO - Not applying SDK defaults from location: /Users/jeremymeadow/Library/Application Support/sagemaker/config.yaml\n"
     ]
    },
    {
     "name": "stderr",
     "output_type": "stream",
     "text": [
      "\u001b[0m[05/Aug/25 22:39:01] INFO [utils.export_code:1672] Consolidation complete. All files are saved in temp/sagemaker_code.py\u001b[0m\n",
      "\u001b[92m[05/Aug/25 22:39:01] MILESTONE [1989536963.<module>:136] Good morning, let's get to work\u001b[0m\n"
     ]
    }
   ],
   "source": [
    "# pyright: reportMissingImports=false\n",
    "# pyright: reportMissingModuleSource=false\n",
    "\n",
    "import uuid\n",
    "import random\n",
    "import hashlib\n",
    "import os\n",
    "import sys\n",
    "import gc\n",
    "import time\n",
    "import copy\n",
    "import logging\n",
    "import re\n",
    "from itertools import chain,combinations\n",
    "import pdb\n",
    "import math\n",
    "from pathlib import Path\n",
    "import datetime\n",
    "from datetime import datetime,timedelta\n",
    "import json\n",
    "import warnings\n",
    "import yaml\n",
    "from typing import Dict,Union,List,Any,Tuple\n",
    "import pytest\n",
    "import importlib\n",
    "from dotenv import load_dotenv\n",
    "import pandas as pd\n",
    "import numpy as np\n",
    "import IPython\n",
    "import requests\n",
    "import warnings\n",
    "import boto3\n",
    "import matplotlib as plt\n",
    "import sklearn\n",
    "\n",
    "# load_dotenv(Path(\"../../../Local/.env\"))\n",
    "\n",
    "# Custom format function for displaying |numbers/\n",
    "pd.set_option('display.float_format', lambda x: f'{x:.12g}')\n",
    "# pd.reset_option('display.float_format')\n",
    "\n",
    "# Suppress warnings\n",
    "os.environ['PYDEVD_DISABLE_FILE_VALIDATION'] = '1'\n",
    "warnings.filterwarnings('ignore', message='.*frozen modules.*')\n",
    "warnings.filterwarnings(\"ignore\", message=\"MallocStackLogging\")\n",
    "\n",
    "# silence pygame donation request\n",
    "os.environ['PYGAME_HIDE_SUPPORT_PROMPT'] = \"hide\"\n",
    "os.environ['LOGGING_FILE'] = \"../../../Local/logs/wallet_modeling.log\"\n",
    "os.environ['NOTIFICATION_SOUNDS_DIR'] = \"../../../Local\"\n",
    "\n",
    "# Dark mode charts\n",
    "plt.rcParams['figure.facecolor'] = '#181818'  # Custom background color (dark gray in this case)\n",
    "plt.rcParams['axes.facecolor'] = '#181818'\n",
    "plt.rcParams['text.color'] = '#afc6ba'\n",
    "plt.rcParams['axes.labelcolor'] = '#afc6ba'\n",
    "plt.rcParams['xtick.color'] = '#afc6ba'\n",
    "plt.rcParams['ytick.color'] = '#afc6ba'\n",
    "plt.rcParams['axes.titlecolor'] = '#afc6ba'\n",
    "plt.rcParams['text.usetex'] = False\n",
    "plt.rcParams['mathtext.default'] = 'regular'\n",
    "\n",
    "# import local modules\n",
    "# pyright: reportMissingImports=false\n",
    "sys.path.append('../src')\n",
    "\n",
    "import sage_utils.config_validation as ucv\n",
    "import sage_utils.s3_utils as s3u\n",
    "\n",
    "import sage_wallet_insights.model_evaluation as sime\n",
    "\n",
    "import sage_wallet_modeling.wallet_modeler as wm\n",
    "from sage_wallet_modeling.wallet_preprocessor import SageWalletsPreprocessor\n",
    "import sage_wallet_modeling.wallet_script_modeler as sm\n",
    "import sage_wallet_modeling.workflow_orchestrator as wo\n",
    "\n",
    "import script_modeling.entry_helpers as h\n",
    "# import script_modeling.temporal_cv_model_entry as tme\n",
    "\n",
    "\n",
    "# import data-science modules\n",
    "sys.path.append(str(Path(\"..\") / \"..\" / \"data-science\" / \"src\"))\n",
    "import wallet_insights.model_evaluation as wime\n",
    "import utils as u\n",
    "from utils import ConfigError\n",
    "\n",
    "\n",
    "\n",
    "# reload all modules\n",
    "modules = [\n",
    "    ucv, s3u,\n",
    "    sime,\n",
    "    wm, sm, wo,\n",
    "    h,\n",
    "    wime,\n",
    "    u,\n",
    "]\n",
    "\n",
    "# import utils as u\n",
    "# Set the custom error handler\n",
    "ipython = IPython.get_ipython()\n",
    "# ipython.set_custom_exc((Exception,), u.notify_on_failure)\n",
    "\n",
    "player = u.AmbientPlayer()\n",
    "player.stop_all_players()\n",
    "\n",
    "# configure logger\n",
    "logger = u.setup_notebook_logger('../logs/notebook_logs.log')\n",
    "logger.setLevel(logging.INFO)\n",
    "\n",
    "from IPython.core import ultratb\n",
    "ultratb.VerboseTB._tb_highlight = \"bg:#b45827\"\n",
    "\n",
    "\n",
    "# load all configs\n",
    "sage_wallets_config = ucv.load_sage_wallets_config(Path('../config/sage_wallets_config.yaml'))\n",
    "sage_wallets_modeling_config = ucv.load_sage_wallets_modeling_config(Path('../config/sage_wallets_modeling_config.yaml'))\n",
    "\n",
    "\n",
    "u.export_code(\n",
    "    code_directories=[\n",
    "        # 'config_models',\n",
    "        # 'sage_wallet_insights',\n",
    "        'sage_wallet_modeling',\n",
    "        'script_modeling',\n",
    "        # 'sage_utils',\n",
    "    ],\n",
    "    # include_config = True,\n",
    "    # ipynb_notebook = 'DDA-769 coin model score dist toggle.ipynb'\n",
    "    output_file=\"temp/sagemaker_code.py\"\n",
    ")\n",
    "\n",
    "[importlib.reload(module) for module in modules]\n",
    "u.notify('retro')\n",
    "\n",
    "logger.milestone(\"Good morning, let's get to work\")"
   ]
  },
  {
   "cell_type": "markdown",
   "metadata": {},
   "source": [
    "# Model Training"
   ]
  },
  {
   "cell_type": "markdown",
   "metadata": {},
   "source": [
    "## Multi Model Sequence"
   ]
  },
  {
   "cell_type": "markdown",
   "metadata": {},
   "source": [
    "### Initiate orchestrator"
   ]
  },
  {
   "cell_type": "code",
   "execution_count": null,
   "metadata": {},
   "outputs": [],
   "source": [
    "[importlib.reload(module) for module in modules]\n",
    "sage_wallets_config = yaml.safe_load(Path('../config/sage_wallets_config.yaml').read_text(encoding='utf-8'))\n",
    "sage_wallets_modeling_config = yaml.safe_load(Path('../config/sage_wallets_modeling_config.yaml').read_text(encoding='utf-8'))\n",
    "\n",
    "\n",
    "date_suffixes = [\n",
    "    '230908',\n",
    "    '231008',\n",
    "    '231107',\n",
    "    '231207',\n",
    "    '240106',\n",
    "    '240205',\n",
    "    '240306',\n",
    "    '240405',\n",
    "    '240505',\n",
    "    '240604',\n",
    "    '240704',\n",
    "    '240803',\n",
    "    '240902',\n",
    "    '241002',\n",
    "    '241201',\n",
    "    '241101',\n",
    "    '241231',\n",
    "    '250130',\n",
    "    '250301',\n",
    "]\n",
    "workflow_orch = wo.WalletWorkflowOrchestrator(sage_wallets_config,sage_wallets_modeling_config)"
   ]
  },
  {
   "cell_type": "markdown",
   "metadata": {},
   "source": [
    "### Load, preprocess, and upload all data"
   ]
  },
  {
   "cell_type": "markdown",
   "metadata": {},
   "source": [
    "#### load data"
   ]
  },
  {
   "cell_type": "code",
   "execution_count": null,
   "metadata": {},
   "outputs": [],
   "source": [
    "[importlib.reload(module) for module in modules]\n",
    "sage_wallets_config = yaml.safe_load(Path('../config/sage_wallets_config.yaml').read_text(encoding='utf-8'))\n",
    "sage_wallets_modeling_config = yaml.safe_load(Path('../config/sage_wallets_modeling_config.yaml').read_text(encoding='utf-8'))\n",
    "\n",
    "workflow_orch.load_all_training_data(date_suffixes)"
   ]
  },
  {
   "cell_type": "markdown",
   "metadata": {},
   "source": [
    "##### inspect features"
   ]
  },
  {
   "cell_type": "code",
   "execution_count": null,
   "metadata": {},
   "outputs": [],
   "source": [
    "# Create combined NaN count and describe statistics\n",
    "first_key = next(iter(workflow_orch.training_data))\n",
    "nan_counts = workflow_orch.training_data[first_key]['x_train'].isna().sum()\n",
    "describe_stats = workflow_orch.training_data[first_key]['x_train'].describe().T\n",
    "\n",
    "# Combine into single DataFrame\n",
    "combined_stats = pd.concat([\n",
    "    nan_counts.rename('nan_count'),\n",
    "    describe_stats\n",
    "], axis=1).sort_index()\n",
    "\n",
    "u.display_full(combined_stats.sort_index())"
   ]
  },
  {
   "cell_type": "markdown",
   "metadata": {},
   "source": [
    "#### preprocess all data"
   ]
  },
  {
   "cell_type": "code",
   "execution_count": null,
   "metadata": {},
   "outputs": [],
   "source": [
    "preprocessed_by_date = workflow_orch.preprocess_all_training_data()"
   ]
  },
  {
   "cell_type": "code",
   "execution_count": null,
   "metadata": {},
   "outputs": [],
   "source": [
    "preprocessed_by_date.keys()"
   ]
  },
  {
   "cell_type": "code",
   "execution_count": null,
   "metadata": {},
   "outputs": [],
   "source": [
    "preprocessed_by_date['230908'].keys()"
   ]
  },
  {
   "cell_type": "code",
   "execution_count": null,
   "metadata": {},
   "outputs": [],
   "source": [
    "preprocessed_by_date['230908']['train']"
   ]
  },
  {
   "cell_type": "markdown",
   "metadata": {},
   "source": [
    "#### upload all data"
   ]
  },
  {
   "cell_type": "code",
   "execution_count": null,
   "metadata": {},
   "outputs": [],
   "source": [
    "# Upload and retrieve URIs\n",
    "workflow_orch.upload_all_training_data(overwrite_existing=True)\n",
    "s3_uris = workflow_orch.retrieve_training_data_uris(date_suffixes)"
   ]
  },
  {
   "cell_type": "markdown",
   "metadata": {},
   "source": [
    "### Train all models"
   ]
  },
  {
   "cell_type": "code",
   "execution_count": null,
   "metadata": {},
   "outputs": [],
   "source": [
    "workflow_orch.load_all_training_data(date_suffixes)\n",
    "modeling_results = workflow_orch.train_all_models()"
   ]
  },
  {
   "cell_type": "markdown",
   "metadata": {},
   "source": [
    "### Predict with all models"
   ]
  },
  {
   "cell_type": "code",
   "execution_count": null,
   "metadata": {},
   "outputs": [],
   "source": [
    "[importlib.reload(module) for module in modules]\n",
    "sage_wallets_config = yaml.safe_load(Path('../config/sage_wallets_config.yaml').read_text(encoding='utf-8'))\n",
    "sage_wallets_modeling_config = yaml.safe_load(Path('../config/sage_wallets_modeling_config.yaml').read_text(encoding='utf-8'))\n",
    "\n",
    "\n",
    "date_suffixes = [\n",
    "    '231008',\n",
    "    '231107',\n",
    "    '240306',\n",
    "    '250301'\n",
    "]\n",
    "workflow_orch = wo.WalletWorkflowOrchestrator(sage_wallets_config,sage_wallets_modeling_config)\n",
    "workflow_orch.load_all_training_data(date_suffixes)\n",
    "s3_uris = workflow_orch.retrieve_training_data_uris(date_suffixes)"
   ]
  },
  {
   "cell_type": "code",
   "execution_count": null,
   "metadata": {},
   "outputs": [],
   "source": [
    "result = workflow_orch.predict_with_all_models()"
   ]
  },
  {
   "cell_type": "markdown",
   "metadata": {},
   "source": [
    "### Evaluate all models"
   ]
  },
  {
   "cell_type": "code",
   "execution_count": null,
   "metadata": {},
   "outputs": [],
   "source": [
    "[importlib.reload(module) for module in modules]\n",
    "sage_wallets_config = yaml.safe_load(Path('../config/sage_wallets_config.yaml').read_text(encoding='utf-8'))\n",
    "sage_wallets_modeling_config = yaml.safe_load(Path('../config/sage_wallets_modeling_config.yaml').read_text(encoding='utf-8'))\n",
    "\n",
    "\n",
    "date_suffixes = [\n",
    "    '231008',\n",
    "    '231107',\n",
    "    '240306',\n",
    "    '250301'\n",
    "]\n",
    "workflow_orch = wo.WalletWorkflowOrchestrator(sage_wallets_config,sage_wallets_modeling_config)\n",
    "workflow_orch.load_all_training_data(date_suffixes)\n",
    "\n",
    "evaluators = workflow_orch.evaluate_all_models()\n"
   ]
  },
  {
   "cell_type": "code",
   "execution_count": null,
   "metadata": {},
   "outputs": [],
   "source": [
    "for e in evaluators:\n",
    "    evaluators[e].plot_wallet_evaluation()"
   ]
  },
  {
   "cell_type": "markdown",
   "metadata": {},
   "source": [
    "## Concatenated Model Sequence"
   ]
  },
  {
   "cell_type": "code",
   "execution_count": null,
   "metadata": {},
   "outputs": [],
   "source": [
    "[importlib.reload(module) for module in modules]\n",
    "sage_wallets_config = yaml.safe_load(Path('../config/sage_wallets_config.yaml').read_text(encoding='utf-8'))\n",
    "sage_wallets_modeling_config = yaml.safe_load(Path('../config/sage_wallets_modeling_config.yaml').read_text(encoding='utf-8'))\n",
    "\n",
    "\n",
    "workflow_orch = wo.WalletWorkflowOrchestrator(\n",
    "    sage_wallets_config,\n",
    "    sage_wallets_modeling_config\n",
    ")\n",
    "workflow_orch.load_all_training_data()"
   ]
  },
  {
   "cell_type": "markdown",
   "metadata": {},
   "source": [
    "#### preprocess and concatenate"
   ]
  },
  {
   "cell_type": "code",
   "execution_count": null,
   "metadata": {},
   "outputs": [],
   "source": [
    "workflow_orch.concatenate_all_preprocessed_data()"
   ]
  },
  {
   "cell_type": "markdown",
   "metadata": {},
   "source": [
    "#### upload"
   ]
  },
  {
   "cell_type": "code",
   "execution_count": null,
   "metadata": {},
   "outputs": [],
   "source": [
    "concat_uris = workflow_orch.upload_concatenated_training_data(\n",
    "    overwrite_existing=False,\n",
    "    # splits=['val']\n",
    ")"
   ]
  },
  {
   "cell_type": "markdown",
   "metadata": {},
   "source": [
    "#### train"
   ]
  },
  {
   "cell_type": "code",
   "execution_count": null,
   "metadata": {},
   "outputs": [
    {
     "name": "stderr",
     "output_type": "stream",
     "text": [
      "\u001b[0m[05/Aug/25 22:52:55] INFO [workflow_orchestrator.upload_concatenated_training_data:385] Beginning upload of concatenated training data for splits ['train', 'eval', 'test', 'val', 'train_y', 'eval_y', 'test_y', 'val_y']...\u001b[0m\n",
      "\u001b[0m[05/Aug/25 22:52:55] INFO [workflow_orchestrator.upload_concatenated_training_data:388] Uploading concatenated splits in parallel with 4 threads...\u001b[0m\n",
      "\u001b[0m[05/Aug/25 22:52:56] INFO [workflow_orchestrator._upload_split:399] File exists, skipping upload of concatenated split 'test': training-data-concatenated/dda-940-exp-tars/test.csv\u001b[0m\n",
      "\u001b[0m[05/Aug/25 22:52:56] INFO [workflow_orchestrator._upload_split:399] File exists, skipping upload of concatenated split 'val': training-data-concatenated/dda-940-exp-tars/val.csv\u001b[0m\n",
      "\u001b[0m[05/Aug/25 22:52:56] INFO [workflow_orchestrator._upload_split:399] File exists, skipping upload of concatenated split 'eval': training-data-concatenated/dda-940-exp-tars/eval.csv\u001b[0m\n",
      "\u001b[0m[05/Aug/25 22:52:56] INFO [workflow_orchestrator._upload_split:399] File exists, skipping upload of concatenated split 'train': training-data-concatenated/dda-940-exp-tars/train.csv\u001b[0m\n",
      "\u001b[0m[05/Aug/25 22:52:56] INFO [workflow_orchestrator._upload_split:399] File exists, skipping upload of concatenated split 'train_y': training-data-concatenated/dda-940-exp-tars/train_y.csv\u001b[0m\n",
      "\u001b[0m[05/Aug/25 22:52:56] INFO [workflow_orchestrator._upload_split:399] File exists, skipping upload of concatenated split 'eval_y': training-data-concatenated/dda-940-exp-tars/eval_y.csv\u001b[0m\n",
      "\u001b[0m[05/Aug/25 22:52:56] INFO [workflow_orchestrator._upload_split:399] File exists, skipping upload of concatenated split 'test_y': training-data-concatenated/dda-940-exp-tars/test_y.csv\u001b[0m\n",
      "\u001b[0m[05/Aug/25 22:52:56] INFO [workflow_orchestrator._upload_split:399] File exists, skipping upload of concatenated split 'val_y': training-data-concatenated/dda-940-exp-tars/val_y.csv\u001b[0m\n",
      "\u001b[0m[05/Aug/25 22:52:56] INFO [workflow_orchestrator.upload_concatenated_training_data:420] Uploading concatenated metadata...\u001b[0m\n",
      "\u001b[0m[05/Aug/25 22:52:56] INFO [workflow_orchestrator.upload_concatenated_training_data:432] Metadata exists, skipping upload: training-data-concatenated/dda-940-exp-tars/metadata.json\u001b[0m\n",
      "\u001b[0m[05/Aug/25 22:52:56] INFO [workflow_orchestrator.upload_concatenated_training_data:446] Validating custom filter configuration...\u001b[0m\n",
      "\u001b[0m[05/Aug/25 22:52:56] INFO [workflow_orchestrator._validate_custom_filters_config:1233] Custom filter validation passed: 1 filters validated\u001b[0m\n",
      "\u001b[0m[05/Aug/25 22:52:56] INFO [workflow_orchestrator.None:341] (0.3s) Completed upload_concatenated_training_data.\u001b[0m\n",
      "\u001b[0m[05/Aug/25 22:52:56] INFO [wallet_script_modeler.initiate_script_modeling:58] HPO disabled for concat, using standard training...\u001b[0m\n",
      "\u001b[0m[05/Aug/25 22:52:56] INFO [image_uris._validate_py_version_and_set_if_needed:603] Ignoring unnecessary Python version: py3.\u001b[0m\n",
      "\u001b[0m[05/Aug/25 22:52:56] INFO [image_uris._processor:530] Ignoring unnecessary instance type: ml.m6i.2xlarge.\u001b[0m\n",
      "\u001b[0m[05/Aug/25 22:52:56] INFO [wallet_script_modeler._train_single_period_script_model:137] Launching script-mode training job with custom targets: wscr-dda-940--concat-0805-225256\u001b[0m\n",
      "\u001b[0m[05/Aug/25 22:52:56] INFO [telemetry_logging.wrapper:92] SageMaker Python SDK will collect telemetry to help us better understand our user's needs, diagnose issues, and deliver additional features.\n",
      "To opt out of telemetry, please disable via TelemetryOptOut parameter in SDK defaults config. For more information, refer to https://sagemaker.readthedocs.io/en/stable/overview.html#configuring-and-using-defaults-with-the-sagemaker-python-sdk.\u001b[0m\n",
      "\u001b[0m[05/Aug/25 22:52:56] INFO [session.submit:1053] Creating training-job with name: wscr-dda-940--concat-0805-225256\u001b[0m\n"
     ]
    },
    {
     "name": "stdout",
     "output_type": "stream",
     "text": [
      "2025-08-06 05:52:57 Starting - Starting the training job...\n",
      "2025-08-06 05:53:31 Starting - Preparing the instances for training...\n",
      "2025-08-06 05:53:49 Downloading - Downloading input data...\n",
      "2025-08-06 05:54:32 Training - Training image download completed. Training in progress....../miniconda3/lib/python3.9/site-packages/sagemaker_containers/_server.py:22: UserWarning: pkg_resources is deprecated as an API. See https://setuptools.pypa.io/en/latest/pkg_resources.html. The pkg_resources package is slated for removal as early as 2025-11-30. Refrain from using this package or pin to Setuptools<81.\n",
      "  import pkg_resources\n",
      "[2025-08-06 05:55:16.033 ip-10-0-230-112.us-west-2.compute.internal:7 INFO utils.py:28] RULE_JOB_STOP_SIGNAL_FILENAME: None\n",
      "[2025-08-06 05:55:16.050 ip-10-0-230-112.us-west-2.compute.internal:7 INFO profiler_config_parser.py:111] User has disabled profiler.\n",
      "[2025-08-06:05:55:16:INFO] Imported framework sagemaker_xgboost_container.training\n",
      "[2025-08-06:05:55:16:INFO] No GPUs detected (normal if no gpus installed)\n",
      "[2025-08-06:05:55:16:INFO] Invoking user training script.\n",
      "[2025-08-06:05:55:16:INFO] Module single_model_entry does not provide a setup.py. \n",
      "Generating setup.py\n",
      "[2025-08-06:05:55:16:INFO] Generating setup.cfg\n",
      "[2025-08-06:05:55:16:INFO] Generating MANIFEST.in\n",
      "[2025-08-06:05:55:16:INFO] Installing module with the following command:\n",
      "/miniconda3/bin/python3 -m pip install . -r requirements.txt\n",
      "Processing /opt/ml/code\n",
      "  Preparing metadata (setup.py): started\n",
      "  Preparing metadata (setup.py): finished with status 'done'\n",
      "Requirement already satisfied: xgboost in /miniconda3/lib/python3.9/site-packages (from -r requirements.txt (line 1)) (1.7.4)\n",
      "Requirement already satisfied: pandas in /miniconda3/lib/python3.9/site-packages (from -r requirements.txt (line 2)) (1.2.4)\n",
      "Requirement already satisfied: numpy in /miniconda3/lib/python3.9/site-packages (from -r requirements.txt (line 3)) (1.24.1)\n",
      "Requirement already satisfied: scipy in /miniconda3/lib/python3.9/site-packages (from xgboost->-r requirements.txt (line 1)) (1.8.0)\n",
      "Requirement already satisfied: python-dateutil>=2.7.3 in /miniconda3/lib/python3.9/site-packages (from pandas->-r requirements.txt (line 2)) (2.8.1)\n",
      "Requirement already satisfied: pytz>=2017.3 in /miniconda3/lib/python3.9/site-packages (from pandas->-r requirements.txt (line 2)) (2025.2)\n",
      "Requirement already satisfied: six>=1.5 in /miniconda3/lib/python3.9/site-packages (from python-dateutil>=2.7.3->pandas->-r requirements.txt (line 2)) (1.17.0)\n",
      "Building wheels for collected packages: single_model_entry\n",
      "  DEPRECATION: Building 'single_model_entry' using the legacy setup.py bdist_wheel mechanism, which will be removed in a future version. pip 25.3 will enforce this behaviour change. A possible replacement is to use the standardized build interface by setting the `--use-pep517` option, (possibly combined with `--no-build-isolation`), or adding a `pyproject.toml` file to the source tree of 'single_model_entry'. Discussion can be found at https://github.com/pypa/pip/issues/6334\n",
      "  Building wheel for single_model_entry (setup.py): started\n",
      "  Building wheel for single_model_entry (setup.py): finished with status 'done'\n",
      "  Created wheel for single_model_entry: filename=single_model_entry-1.0.0-py2.py3-none-any.whl size=20471 sha256=0d82eead5fa8bdd86904414fe6d38cd286ed1c0120d9dd4010e9c877d939861d\n",
      "  Stored in directory: /home/model-server/tmp/pip-ephem-wheel-cache-51e0y55i/wheels/40/03/3a/5f39818cea87b3c154b54d046a775b3da4b8ed9b642b8d50e6\n",
      "Successfully built single_model_entry\n",
      "Installing collected packages: single_model_entry\n",
      "Successfully installed single_model_entry-1.0.0\n",
      "WARNING: Running pip as the 'root' user can result in broken permissions and conflicting behaviour with the system package manager, possibly rendering your system unusable. It is recommended to use a virtual environment instead: https://pip.pypa.io/warnings/venv. Use the --root-user-action option if you know what you are doing and want to suppress this warning.\n",
      "[notice] A new release of pip is available: 25.1.1 -> 25.2\n",
      "[notice] To update, run: pip install --upgrade pip\n",
      "[2025-08-06:05:55:17:INFO] No GPUs detected (normal if no gpus installed)\n",
      "[2025-08-06:05:55:17:INFO] Invoking user script\n",
      "Training Env:\n",
      "{\n",
      "    \"additional_framework_parameters\": {},\n",
      "    \"channel_input_dirs\": {\n",
      "        \"config\": \"/opt/ml/input/data/config\",\n",
      "        \"metadata\": \"/opt/ml/input/data/metadata\",\n",
      "        \"train_x\": \"/opt/ml/input/data/train_x\",\n",
      "        \"train_y\": \"/opt/ml/input/data/train_y\",\n",
      "        \"validation_x\": \"/opt/ml/input/data/validation_x\",\n",
      "        \"validation_y\": \"/opt/ml/input/data/validation_y\"\n",
      "    },\n",
      "    \"current_host\": \"algo-1\",\n",
      "    \"framework_module\": \"sagemaker_xgboost_container.training:main\",\n",
      "    \"hosts\": [\n",
      "        \"algo-1\"\n",
      "    ],\n",
      "    \"hyperparameters\": {\n",
      "        \"alpha\": 5,\n",
      "        \"colsample_bytree\": 0.8,\n",
      "        \"early_stopping_rounds\": 25,\n",
      "        \"eta\": 0.5,\n",
      "        \"gamma\": 0.3,\n",
      "        \"lambda\": 5,\n",
      "        \"max_depth\": 4,\n",
      "        \"min_child_weight\": 10,\n",
      "        \"num_boost_round\": 500,\n",
      "        \"scale_pos_weight\": 3,\n",
      "        \"subsample\": 0.8\n",
      "    },\n",
      "    \"input_config_dir\": \"/opt/ml/input/config\",\n",
      "    \"input_data_config\": {\n",
      "        \"config\": {\n",
      "            \"ContentType\": \"application/json\",\n",
      "            \"TrainingInputMode\": \"File\",\n",
      "            \"S3DistributionType\": \"FullyReplicated\",\n",
      "            \"RecordWrapperType\": \"None\"\n",
      "        },\n",
      "        \"metadata\": {\n",
      "            \"ContentType\": \"application/json\",\n",
      "            \"TrainingInputMode\": \"File\",\n",
      "            \"S3DistributionType\": \"FullyReplicated\",\n",
      "            \"RecordWrapperType\": \"None\"\n",
      "        },\n",
      "        \"train_x\": {\n",
      "            \"ContentType\": \"text/csv\",\n",
      "            \"TrainingInputMode\": \"File\",\n",
      "            \"S3DistributionType\": \"FullyReplicated\",\n",
      "            \"RecordWrapperType\": \"None\"\n",
      "        },\n",
      "        \"train_y\": {\n",
      "            \"ContentType\": \"text/csv\",\n",
      "            \"TrainingInputMode\": \"File\",\n",
      "            \"S3DistributionType\": \"FullyReplicated\",\n",
      "            \"RecordWrapperType\": \"None\"\n",
      "        },\n",
      "        \"validation_x\": {\n",
      "            \"ContentType\": \"text/csv\",\n",
      "            \"TrainingInputMode\": \"File\",\n",
      "            \"S3DistributionType\": \"FullyReplicated\",\n",
      "            \"RecordWrapperType\": \"None\"\n",
      "        },\n",
      "        \"validation_y\": {\n",
      "            \"ContentType\": \"text/csv\",\n",
      "            \"TrainingInputMode\": \"File\",\n",
      "            \"S3DistributionType\": \"FullyReplicated\",\n",
      "            \"RecordWrapperType\": \"None\"\n",
      "        }\n",
      "    },\n",
      "    \"input_dir\": \"/opt/ml/input\",\n",
      "    \"is_master\": true,\n",
      "    \"job_name\": \"wscr-dda-940--concat-0805-225256\",\n",
      "    \"log_level\": 20,\n",
      "    \"master_hostname\": \"algo-1\",\n",
      "    \"model_dir\": \"/opt/ml/model\",\n",
      "    \"module_dir\": \"s3://wallet-script-models/wscr-dda-940--concat-0805-225256/source/sourcedir.tar.gz\",\n",
      "    \"module_name\": \"single_model_entry\",\n",
      "    \"network_interface_name\": \"eth0\",\n",
      "    \"num_cpus\": 8,\n",
      "    \"num_gpus\": 0,\n",
      "    \"output_data_dir\": \"/opt/ml/output/data\",\n",
      "    \"output_dir\": \"/opt/ml/output\",\n",
      "    \"output_intermediate_dir\": \"/opt/ml/output/intermediate\",\n",
      "    \"resource_config\": {\n",
      "        \"current_host\": \"algo-1\",\n",
      "        \"current_instance_type\": \"ml.m6i.2xlarge\",\n",
      "        \"current_group_name\": \"homogeneousCluster\",\n",
      "        \"hosts\": [\n",
      "            \"algo-1\"\n",
      "        ],\n",
      "        \"instance_groups\": [\n",
      "            {\n",
      "                \"instance_group_name\": \"homogeneousCluster\",\n",
      "                \"instance_type\": \"ml.m6i.2xlarge\",\n",
      "                \"hosts\": [\n",
      "                    \"algo-1\"\n",
      "                ]\n",
      "            }\n",
      "        ],\n",
      "        \"network_interface_name\": \"eth0\",\n",
      "        \"topology\": null\n",
      "    },\n",
      "    \"user_entry_point\": \"single_model_entry.py\"\n",
      "}\n",
      "Environment variables:\n",
      "SM_HOSTS=[\"algo-1\"]\n",
      "SM_NETWORK_INTERFACE_NAME=eth0\n",
      "SM_HPS={\"alpha\":5,\"colsample_bytree\":0.8,\"early_stopping_rounds\":25,\"eta\":0.5,\"gamma\":0.3,\"lambda\":5,\"max_depth\":4,\"min_child_weight\":10,\"num_boost_round\":500,\"scale_pos_weight\":3,\"subsample\":0.8}\n",
      "SM_USER_ENTRY_POINT=single_model_entry.py\n",
      "SM_FRAMEWORK_PARAMS={}\n",
      "SM_RESOURCE_CONFIG={\"current_group_name\":\"homogeneousCluster\",\"current_host\":\"algo-1\",\"current_instance_type\":\"ml.m6i.2xlarge\",\"hosts\":[\"algo-1\"],\"instance_groups\":[{\"hosts\":[\"algo-1\"],\"instance_group_name\":\"homogeneousCluster\",\"instance_type\":\"ml.m6i.2xlarge\"}],\"network_interface_name\":\"eth0\",\"topology\":null}\n",
      "SM_INPUT_DATA_CONFIG={\"config\":{\"ContentType\":\"application/json\",\"RecordWrapperType\":\"None\",\"S3DistributionType\":\"FullyReplicated\",\"TrainingInputMode\":\"File\"},\"metadata\":{\"ContentType\":\"application/json\",\"RecordWrapperType\":\"None\",\"S3DistributionType\":\"FullyReplicated\",\"TrainingInputMode\":\"File\"},\"train_x\":{\"ContentType\":\"text/csv\",\"RecordWrapperType\":\"None\",\"S3DistributionType\":\"FullyReplicated\",\"TrainingInputMode\":\"File\"},\"train_y\":{\"ContentType\":\"text/csv\",\"RecordWrapperType\":\"None\",\"S3DistributionType\":\"FullyReplicated\",\"TrainingInputMode\":\"File\"},\"validation_x\":{\"ContentType\":\"text/csv\",\"RecordWrapperType\":\"None\",\"S3DistributionType\":\"FullyReplicated\",\"TrainingInputMode\":\"File\"},\"validation_y\":{\"ContentType\":\"text/csv\",\"RecordWrapperType\":\"None\",\"S3DistributionType\":\"FullyReplicated\",\"TrainingInputMode\":\"File\"}}\n",
      "SM_OUTPUT_DATA_DIR=/opt/ml/output/data\n",
      "SM_CHANNELS=[\"config\",\"metadata\",\"train_x\",\"train_y\",\"validation_x\",\"validation_y\"]\n",
      "SM_CURRENT_HOST=algo-1\n",
      "SM_MODULE_NAME=single_model_entry\n",
      "SM_LOG_LEVEL=20\n",
      "SM_FRAMEWORK_MODULE=sagemaker_xgboost_container.training:main\n",
      "SM_INPUT_DIR=/opt/ml/input\n",
      "SM_INPUT_CONFIG_DIR=/opt/ml/input/config\n",
      "SM_OUTPUT_DIR=/opt/ml/output\n",
      "SM_NUM_CPUS=8\n",
      "SM_NUM_GPUS=0\n",
      "SM_MODEL_DIR=/opt/ml/model\n",
      "SM_MODULE_DIR=s3://wallet-script-models/wscr-dda-940--concat-0805-225256/source/sourcedir.tar.gz\n",
      "SM_TRAINING_ENV={\"additional_framework_parameters\":{},\"channel_input_dirs\":{\"config\":\"/opt/ml/input/data/config\",\"metadata\":\"/opt/ml/input/data/metadata\",\"train_x\":\"/opt/ml/input/data/train_x\",\"train_y\":\"/opt/ml/input/data/train_y\",\"validation_x\":\"/opt/ml/input/data/validation_x\",\"validation_y\":\"/opt/ml/input/data/validation_y\"},\"current_host\":\"algo-1\",\"framework_module\":\"sagemaker_xgboost_container.training:main\",\"hosts\":[\"algo-1\"],\"hyperparameters\":{\"alpha\":5,\"colsample_bytree\":0.8,\"early_stopping_rounds\":25,\"eta\":0.5,\"gamma\":0.3,\"lambda\":5,\"max_depth\":4,\"min_child_weight\":10,\"num_boost_round\":500,\"scale_pos_weight\":3,\"subsample\":0.8},\"input_config_dir\":\"/opt/ml/input/config\",\"input_data_config\":{\"config\":{\"ContentType\":\"application/json\",\"RecordWrapperType\":\"None\",\"S3DistributionType\":\"FullyReplicated\",\"TrainingInputMode\":\"File\"},\"metadata\":{\"ContentType\":\"application/json\",\"RecordWrapperType\":\"None\",\"S3DistributionType\":\"FullyReplicated\",\"TrainingInputMode\":\"File\"},\"train_x\":{\"ContentType\":\"text/csv\",\"RecordWrapperType\":\"None\",\"S3DistributionType\":\"FullyReplicated\",\"TrainingInputMode\":\"File\"},\"train_y\":{\"ContentType\":\"text/csv\",\"RecordWrapperType\":\"None\",\"S3DistributionType\":\"FullyReplicated\",\"TrainingInputMode\":\"File\"},\"validation_x\":{\"ContentType\":\"text/csv\",\"RecordWrapperType\":\"None\",\"S3DistributionType\":\"FullyReplicated\",\"TrainingInputMode\":\"File\"},\"validation_y\":{\"ContentType\":\"text/csv\",\"RecordWrapperType\":\"None\",\"S3DistributionType\":\"FullyReplicated\",\"TrainingInputMode\":\"File\"}},\"input_dir\":\"/opt/ml/input\",\"is_master\":true,\"job_name\":\"wscr-dda-940--concat-0805-225256\",\"log_level\":20,\"master_hostname\":\"algo-1\",\"model_dir\":\"/opt/ml/model\",\"module_dir\":\"s3://wallet-script-models/wscr-dda-940--concat-0805-225256/source/sourcedir.tar.gz\",\"module_name\":\"single_model_entry\",\"network_interface_name\":\"eth0\",\"num_cpus\":8,\"num_gpus\":0,\"output_data_dir\":\"/opt/ml/output/data\",\"output_dir\":\"/opt/ml/output\",\"output_intermediate_dir\":\"/opt/ml/output/intermediate\",\"resource_config\":{\"current_group_name\":\"homogeneousCluster\",\"current_host\":\"algo-1\",\"current_instance_type\":\"ml.m6i.2xlarge\",\"hosts\":[\"algo-1\"],\"instance_groups\":[{\"hosts\":[\"algo-1\"],\"instance_group_name\":\"homogeneousCluster\",\"instance_type\":\"ml.m6i.2xlarge\"}],\"network_interface_name\":\"eth0\",\"topology\":null},\"user_entry_point\":\"single_model_entry.py\"}\n",
      "SM_USER_ARGS=[\"--alpha\",\"5\",\"--colsample_bytree\",\"0.8\",\"--early_stopping_rounds\",\"25\",\"--eta\",\"0.5\",\"--gamma\",\"0.3\",\"--lambda\",\"5\",\"--max_depth\",\"4\",\"--min_child_weight\",\"10\",\"--num_boost_round\",\"500\",\"--scale_pos_weight\",\"3\",\"--subsample\",\"0.8\"]\n",
      "SM_OUTPUT_INTERMEDIATE_DIR=/opt/ml/output/intermediate\n",
      "SM_CHANNEL_CONFIG=/opt/ml/input/data/config\n",
      "SM_CHANNEL_METADATA=/opt/ml/input/data/metadata\n",
      "SM_CHANNEL_TRAIN_X=/opt/ml/input/data/train_x\n",
      "SM_CHANNEL_TRAIN_Y=/opt/ml/input/data/train_y\n",
      "SM_CHANNEL_VALIDATION_X=/opt/ml/input/data/validation_x\n",
      "SM_CHANNEL_VALIDATION_Y=/opt/ml/input/data/validation_y\n",
      "SM_HP_ALPHA=5\n",
      "SM_HP_COLSAMPLE_BYTREE=0.8\n",
      "SM_HP_EARLY_STOPPING_ROUNDS=25\n",
      "SM_HP_ETA=0.5\n",
      "SM_HP_GAMMA=0.3\n",
      "SM_HP_LAMBDA=5\n",
      "SM_HP_MAX_DEPTH=4\n",
      "SM_HP_MIN_CHILD_WEIGHT=10\n",
      "SM_HP_NUM_BOOST_ROUND=500\n",
      "SM_HP_SCALE_POS_WEIGHT=3\n",
      "SM_HP_SUBSAMPLE=0.8\n",
      "PYTHONPATH=/miniconda3/bin:/:/miniconda3/lib/python/site-packages/xgboost/dmlc-core/tracker:/miniconda3/lib/python39.zip:/miniconda3/lib/python3.9:/miniconda3/lib/python3.9/lib-dynload:/miniconda3/lib/python3.9/site-packages:/miniconda3/lib/python3.9/site-packages/setuptools/_vendor\n",
      "Invoking script with the following command:\n",
      "/miniconda3/bin/python3 -m single_model_entry --alpha 5 --colsample_bytree 0.8 --early_stopping_rounds 25 --eta 0.5 --gamma 0.3 --lambda 5 --max_depth 4 --min_child_weight 10 --num_boost_round 500 --scale_pos_weight 3 --subsample 0.8\n",
      "/miniconda3/lib/python3.9/site-packages/sklearn/utils/fixes.py:28: UserWarning: pkg_resources is deprecated as an API. See https://setuptools.pypa.io/en/latest/pkg_resources.html. The pkg_resources package is slated for removal as early as 2025-11-30. Refrain from using this package or pin to Setuptools<81.\n",
      "  from pkg_resources import parse_version  # type: ignore\n",
      "Starting with 450,134 rows before custom filtering\n",
      "Filter 'cw_mktcap|end_portfolio_wtd_market_cap/market_cap_filled|w1' min 20000000: removed 0 rows\n",
      "Filter 'cw_mktcap|end_portfolio_wtd_market_cap/market_cap_filled|w1' max 4000000000: removed 0 rows\n",
      "Filter 'cw_mktcap|end_portfolio_wtd_market_cap/market_cap_filled|w1' total impact: removed 0 rows (450,134 remaining)\n",
      "Custom filtering complete: 0 rows removed (0.0%), 450,134 rows remaining\n",
      "Starting with 33,299 rows before custom filtering\n",
      "Filter 'cw_mktcap|end_portfolio_wtd_market_cap/market_cap_filled|w1' min 20000000: removed 0 rows\n",
      "Filter 'cw_mktcap|end_portfolio_wtd_market_cap/market_cap_filled|w1' max 4000000000: removed 0 rows\n",
      "Filter 'cw_mktcap|end_portfolio_wtd_market_cap/market_cap_filled|w1' total impact: removed 0 rows (33,299 remaining)\n",
      "Custom filtering complete: 0 rows removed (0.0%), 33,299 rows remaining\n",
      "/miniconda3/lib/python3.9/site-packages/xgboost/training.py:39: UserWarning: `feval` is deprecated, use `custom_metric` instead.  They have different behavior when custom objective is also used.See https://xgboost.readthedocs.io/en/latest/tutorials/custom_metric_obj.html for details on the `custom_metric`.\n",
      "  warnings.warn(\n",
      "[05:55:31] WARNING: ../src/learner.cc:767: \n",
      "Parameters: { \"early_stopping_rounds\", \"num_boost_round\" } are not used.\n",
      "[0]#011eval-aucpr:0.34644#011eval-top_quantile:0.83408\n",
      "[1]#011eval-aucpr:0.38066#011eval-top_quantile:0.88601\n",
      "[2]#011eval-aucpr:0.40380#011eval-top_quantile:0.92024\n",
      "[3]#011eval-aucpr:0.40925#011eval-top_quantile:0.97029\n",
      "[4]#011eval-aucpr:0.41100#011eval-top_quantile:0.96625\n",
      "[5]#011eval-aucpr:0.41275#011eval-top_quantile:1.00525\n",
      "[6]#011eval-aucpr:0.41831#011eval-top_quantile:1.14034\n",
      "[7]#011eval-aucpr:0.42069#011eval-top_quantile:1.19028\n",
      "[8]#011eval-aucpr:0.42256#011eval-top_quantile:1.22203\n",
      "[9]#011eval-aucpr:0.42394#011eval-top_quantile:1.20731\n",
      "[10]#011eval-aucpr:0.42388#011eval-top_quantile:1.21663\n",
      "[11]#011eval-aucpr:0.42595#011eval-top_quantile:1.20918\n",
      "[12]#011eval-aucpr:0.42821#011eval-top_quantile:1.19910\n",
      "[13]#011eval-aucpr:0.42869#011eval-top_quantile:1.22246\n",
      "[14]#011eval-aucpr:0.42842#011eval-top_quantile:1.21502\n",
      "[15]#011eval-aucpr:0.42831#011eval-top_quantile:1.22982\n",
      "[16]#011eval-aucpr:0.43163#011eval-top_quantile:1.20233\n",
      "[17]#011eval-aucpr:0.43436#011eval-top_quantile:1.44973\n",
      "[18]#011eval-aucpr:0.43636#011eval-top_quantile:1.46448\n",
      "[19]#011eval-aucpr:0.43732#011eval-top_quantile:1.47846\n",
      "[20]#011eval-aucpr:0.43841#011eval-top_quantile:1.47697\n",
      "[21]#011eval-aucpr:0.43747#011eval-top_quantile:1.47715\n",
      "[22]#011eval-aucpr:0.43710#011eval-top_quantile:1.48505\n",
      "[23]#011eval-aucpr:0.43820#011eval-top_quantile:1.48179\n",
      "[24]#011eval-aucpr:0.43910#011eval-top_quantile:1.49658\n",
      "[25]#011eval-aucpr:0.44035#011eval-top_quantile:1.50587\n",
      "[26]#011eval-aucpr:0.44034#011eval-top_quantile:1.52829\n",
      "[27]#011eval-aucpr:0.44059#011eval-top_quantile:1.51574\n",
      "[28]#011eval-aucpr:0.44070#011eval-top_quantile:1.53817\n",
      "[29]#011eval-aucpr:0.44273#011eval-top_quantile:1.49199\n",
      "[30]#011eval-aucpr:0.44351#011eval-top_quantile:1.46456\n",
      "[31]#011eval-aucpr:0.44372#011eval-top_quantile:1.45704\n",
      "[32]#011eval-aucpr:0.44424#011eval-top_quantile:1.45587\n",
      "[33]#011eval-aucpr:0.44470#011eval-top_quantile:1.49821\n",
      "[34]#011eval-aucpr:0.44741#011eval-top_quantile:1.57461\n",
      "[35]#011eval-aucpr:0.44922#011eval-top_quantile:1.58127\n",
      "[36]#011eval-aucpr:0.45075#011eval-top_quantile:1.57369\n",
      "[37]#011eval-aucpr:0.45060#011eval-top_quantile:1.59978\n",
      "[38]#011eval-aucpr:0.45103#011eval-top_quantile:1.58605\n",
      "[39]#011eval-aucpr:0.45281#011eval-top_quantile:1.54713\n",
      "[40]#011eval-aucpr:0.45510#011eval-top_quantile:1.63397\n",
      "[41]#011eval-aucpr:0.45339#011eval-top_quantile:1.62833\n",
      "[42]#011eval-aucpr:0.45465#011eval-top_quantile:1.62049\n",
      "[43]#011eval-aucpr:0.45515#011eval-top_quantile:1.65637\n",
      "[44]#011eval-aucpr:0.45584#011eval-top_quantile:1.65279\n",
      "[45]#011eval-aucpr:0.45701#011eval-top_quantile:1.65765\n",
      "[46]#011eval-aucpr:0.45707#011eval-top_quantile:1.63960\n",
      "[47]#011eval-aucpr:0.45761#011eval-top_quantile:1.61649\n",
      "[48]#011eval-aucpr:0.45824#011eval-top_quantile:1.62440\n",
      "[49]#011eval-aucpr:0.45825#011eval-top_quantile:1.63455\n",
      "[50]#011eval-aucpr:0.45824#011eval-top_quantile:1.63228\n",
      "[51]#011eval-aucpr:0.45816#011eval-top_quantile:1.62652\n",
      "[52]#011eval-aucpr:0.45942#011eval-top_quantile:1.69434\n",
      "[53]#011eval-aucpr:0.46075#011eval-top_quantile:1.68279\n",
      "[54]#011eval-aucpr:0.46082#011eval-top_quantile:1.70529\n",
      "[55]#011eval-aucpr:0.46123#011eval-top_quantile:1.70079\n",
      "[56]#011eval-aucpr:0.46205#011eval-top_quantile:1.70684\n",
      "[57]#011eval-aucpr:0.46199#011eval-top_quantile:1.70275\n",
      "[58]#011eval-aucpr:0.46302#011eval-top_quantile:1.69330\n",
      "[59]#011eval-aucpr:0.46362#011eval-top_quantile:1.66086\n",
      "[60]#011eval-aucpr:0.46365#011eval-top_quantile:1.64238\n",
      "[61]#011eval-aucpr:0.46349#011eval-top_quantile:1.63430\n",
      "[62]#011eval-aucpr:0.46411#011eval-top_quantile:1.62748\n",
      "[63]#011eval-aucpr:0.46417#011eval-top_quantile:1.65208\n",
      "[64]#011eval-aucpr:0.46407#011eval-top_quantile:1.65494\n",
      "[65]#011eval-aucpr:0.46578#011eval-top_quantile:1.64943\n",
      "[66]#011eval-aucpr:0.46628#011eval-top_quantile:1.65007\n",
      "[67]#011eval-aucpr:0.46652#011eval-top_quantile:1.65143\n"
     ]
    }
   ],
   "source": [
    "[importlib.reload(module) for module in modules]\n",
    "sage_wallets_config = yaml.safe_load(Path('../config/sage_wallets_config.yaml').read_text(encoding='utf-8'))\n",
    "sage_wallets_modeling_config = yaml.safe_load(Path('../config/sage_wallets_modeling_config.yaml').read_text(encoding='utf-8'))\n",
    "\n",
    "\n",
    "workflow_orch = wo.WalletWorkflowOrchestrator(\n",
    "    sage_wallets_config,\n",
    "    sage_wallets_modeling_config\n",
    ")\n",
    "concat_uris = workflow_orch.upload_concatenated_training_data(overwrite_existing=False)\n",
    "modeling_results = workflow_orch.train_concatenated_offsets_model(concat_uris)"
   ]
  },
  {
   "cell_type": "markdown",
   "metadata": {},
   "source": [
    "#### evaluate HPO outcomes"
   ]
  },
  {
   "cell_type": "code",
   "execution_count": 8,
   "metadata": {},
   "outputs": [
    {
     "data": {
      "text/plain": [
       "{'hpo_job_name': 'whpo-dda-940--concat-0805-224700',\n",
       " 'best_training_job_name': 'whpo-dda-940--concat-0805-224700-004-b41c2ff2',\n",
       " 'best_objective_value': 1.585319995880127,\n",
       " 'best_hyperparameters': {'_tuning_objective_metric': 'validation:top_quantile',\n",
       "  'alpha': '5',\n",
       "  'colsample_bytree': '0.8',\n",
       "  'early_stopping_rounds': '25',\n",
       "  'eta': '0.5',\n",
       "  'filter_cw_mktcap_max': '3635452061.73453',\n",
       "  'gamma': '0.3',\n",
       "  'lambda': '5',\n",
       "  'max_depth': '4',\n",
       "  'min_child_weight': '10',\n",
       "  'num_boost_round': '500',\n",
       "  'sagemaker_container_log_level': '20',\n",
       "  'sagemaker_estimator_class_name': '\"SKLearn\"',\n",
       "  'sagemaker_estimator_module': '\"sagemaker.sklearn.estimator\"',\n",
       "  'sagemaker_job_name': '\"whpo-dda-940--concat-0805-224700\"',\n",
       "  'sagemaker_program': '\"single_model_entry.py\"',\n",
       "  'sagemaker_region': '\"us-west-2\"',\n",
       "  'sagemaker_submit_directory': '\"s3://wallet-script-models/whpo-dda-940--concat-0805-224700/source/sourcedir.tar.gz\"',\n",
       "  'scale_pos_weight': '3',\n",
       "  'subsample': '0.8'},\n",
       " 'model_uri': 's3://wallet-script-models/hpo-outputs/dda-940-exp-tars/concat/whpo-dda-940--concat-0805-224700-004-b41c2ff2/output/model.tar.gz',\n",
       " 'hpo_status': 'Completed',\n",
       " 'total_training_jobs': 20}"
      ]
     },
     "execution_count": 8,
     "metadata": {},
     "output_type": "execute_result"
    }
   ],
   "source": [
    "[importlib.reload(module) for module in modules]\n",
    "sage_wallets_config = yaml.safe_load(Path('../config/sage_wallets_config.yaml').read_text(encoding='utf-8'))\n",
    "sage_wallets_modeling_config = yaml.safe_load(Path('../config/sage_wallets_modeling_config.yaml').read_text(encoding='utf-8'))\n",
    "\n",
    "\n",
    "workflow_orch = wo.WalletWorkflowOrchestrator(\n",
    "    sage_wallets_config,\n",
    "    sage_wallets_modeling_config\n",
    ")\n",
    "workflow_orch.get_hpo_results('concat')"
   ]
  },
  {
   "cell_type": "code",
   "execution_count": null,
   "metadata": {},
   "outputs": [],
   "source": [
    "# Get the best hyperparameters\n",
    "best_params = modeling_results['tuner'].best_training_job()\n",
    "\n",
    "# Or more detailed info\n",
    "analytics = modeling_results['tuner'].analytics()\n",
    "best_job_df = analytics.dataframe()\n",
    "\n",
    "# The best parameters are in the hyperparameters columns\n",
    "print(best_params)\n",
    "print(best_job_df.loc[0, ['eta', 'max_depth', 'subsample', 'FinalObjectiveValue']])"
   ]
  },
  {
   "cell_type": "markdown",
   "metadata": {},
   "source": [
    "#### load existing model"
   ]
  },
  {
   "cell_type": "code",
   "execution_count": null,
   "metadata": {},
   "outputs": [],
   "source": [
    "[importlib.reload(module) for module in modules]\n",
    "sage_wallets_config = yaml.safe_load(Path('../config/sage_wallets_config.yaml').read_text(encoding='utf-8'))\n",
    "sage_wallets_modeling_config = yaml.safe_load(Path('../config/sage_wallets_modeling_config.yaml').read_text(encoding='utf-8'))\n",
    "\n",
    "# Load S3 URIs\n",
    "workflow_orch = wo.WalletWorkflowOrchestrator(sage_wallets_config,sage_wallets_modeling_config)\n",
    "s3_uris = workflow_orch.retrieve_training_data_uris(['concat'])\n",
    "\n",
    "# Create modeler with 'concat' as the date_suffix\n",
    "concat_modeler = wm.WalletModeler(\n",
    "    wallets_config=sage_wallets_config,\n",
    "    modeling_config=sage_wallets_modeling_config,\n",
    "    date_suffix='concat',\n",
    "    s3_uris=s3_uris,\n",
    "    override_approvals=None\n",
    ")\n",
    "\n",
    "# Step 2: Load the existing concatenated model\n",
    "model_info = concat_modeler.load_existing_model(modeling_results['model_uri'])\n"
   ]
  },
  {
   "cell_type": "markdown",
   "metadata": {},
   "source": [
    "#### predict"
   ]
  },
  {
   "cell_type": "code",
   "execution_count": null,
   "metadata": {},
   "outputs": [],
   "source": [
    "[importlib.reload(module) for module in modules]\n",
    "sage_wallets_config = yaml.safe_load(Path('../config/sage_wallets_config.yaml').read_text(encoding='utf-8'))\n",
    "sage_wallets_modeling_config = yaml.safe_load(Path('../config/sage_wallets_modeling_config.yaml').read_text(encoding='utf-8'))\n",
    "\n",
    "pred_results = concat_modeler.batch_predict_test_and_val()"
   ]
  },
  {
   "cell_type": "markdown",
   "metadata": {},
   "source": [
    "#### evaluate"
   ]
  },
  {
   "cell_type": "code",
   "execution_count": null,
   "metadata": {},
   "outputs": [],
   "source": [
    "[importlib.reload(module) for module in modules]\n",
    "sage_wallets_config = yaml.safe_load(Path('../config/sage_wallets_config.yaml').read_text(encoding='utf-8'))\n",
    "sage_wallets_modeling_config = yaml.safe_load(Path('../config/sage_wallets_modeling_config.yaml').read_text(encoding='utf-8'))\n",
    "\n",
    "date_suffix = 'concat'\n",
    "y_test_pred = sime.load_bt_sagemaker_predictions('test', sage_wallets_config, date_suffix)\n",
    "y_test      = sime.load_concatenated_y('test', sage_wallets_config, sage_wallets_modeling_config)\n",
    "y_val_pred  = sime.load_bt_sagemaker_predictions('val', sage_wallets_config, date_suffix)\n",
    "y_val       = sime.load_concatenated_y('val', sage_wallets_config, sage_wallets_modeling_config)\n",
    "\n",
    "\n",
    "target_var = sage_wallets_modeling_config['target']['target_var']\n",
    "y_test.columns = [target_var]\n",
    "y_val.columns = [target_var]"
   ]
  },
  {
   "cell_type": "code",
   "execution_count": null,
   "metadata": {},
   "outputs": [],
   "source": [
    "[importlib.reload(module) for module in modules]\n",
    "sage_wallets_config = yaml.safe_load(Path('../config/sage_wallets_config.yaml').read_text(encoding='utf-8'))\n",
    "sage_wallets_modeling_config = yaml.safe_load(Path('../config/sage_wallets_modeling_config.yaml').read_text(encoding='utf-8'))\n",
    "\n",
    "\n",
    "# Single function call for complete evaluation\n",
    "evaluator = sime.create_concatenated_sagemaker_evaluator(\n",
    "    sage_wallets_config,\n",
    "    sage_wallets_modeling_config,\n",
    "    y_test_pred,\n",
    "    y_test,\n",
    "    y_val_pred,\n",
    "    y_val\n",
    ")"
   ]
  },
  {
   "cell_type": "code",
   "execution_count": null,
   "metadata": {},
   "outputs": [],
   "source": [
    "# top quantile mktcap 20M-4B\n",
    "evaluator.summary_report()\n",
    "evaluator.plot_wallet_evaluation()\n",
    "u.notify('soft_twinkle_musical')\n"
   ]
  },
  {
   "cell_type": "code",
   "execution_count": null,
   "metadata": {},
   "outputs": [],
   "source": [
    "# auc pr with vol filters\n",
    "evaluator.summary_report()\n",
    "evaluator.plot_wallet_evaluation()\n",
    "u.notify('soft_twinkle_musical')\n"
   ]
  },
  {
   "cell_type": "code",
   "execution_count": null,
   "metadata": {},
   "outputs": [],
   "source": [
    "# top quantile\n",
    "evaluator.summary_report()\n",
    "evaluator.plot_wallet_evaluation()\n",
    "u.notify('soft_twinkle_musical')\n"
   ]
  },
  {
   "cell_type": "code",
   "execution_count": null,
   "metadata": {},
   "outputs": [],
   "source": [
    "# auc PR\n",
    "evaluator.summary_report()\n",
    "evaluator.plot_wallet_evaluation()\n",
    "u.notify('soft_twinkle_musical')\n"
   ]
  },
  {
   "cell_type": "code",
   "execution_count": null,
   "metadata": {},
   "outputs": [],
   "source": [
    "evaluator.summary_report()\n",
    "evaluator.plot_wallet_evaluation()\n",
    "u.notify('soft_twinkle_musical')\n"
   ]
  },
  {
   "cell_type": "code",
   "execution_count": null,
   "metadata": {},
   "outputs": [],
   "source": [
    "evaluator.summary_report()\n",
    "evaluator.plot_wallet_evaluation()\n",
    "u.notify('soft_twinkle_musical')\n"
   ]
  },
  {
   "cell_type": "code",
   "execution_count": null,
   "metadata": {},
   "outputs": [],
   "source": [
    "evaluator.summary_report()\n",
    "evaluator.plot_wallet_evaluation()\n",
    "u.notify('soft_twinkle_musical')\n"
   ]
  },
  {
   "cell_type": "code",
   "execution_count": null,
   "metadata": {},
   "outputs": [],
   "source": [
    "evaluator.summary_report()\n",
    "evaluator.plot_wallet_evaluation()\n",
    "u.notify('soft_twinkle_musical')\n"
   ]
  },
  {
   "cell_type": "markdown",
   "metadata": {},
   "source": [
    "## Temporal cv model"
   ]
  },
  {
   "cell_type": "code",
   "execution_count": null,
   "metadata": {},
   "outputs": [],
   "source": [
    "[importlib.reload(module) for module in modules]\n",
    "sage_wallets_config = yaml.safe_load(Path('../config/sage_wallets_config.yaml').read_text(encoding='utf-8'))\n",
    "sage_wallets_modeling_config = yaml.safe_load(Path('../config/sage_wallets_modeling_config.yaml').read_text(encoding='utf-8'))\n",
    "\n",
    "\n",
    "date_suffixes = [\n",
    "    '231008',\n",
    "    '231107',\n",
    "    '240306',\n",
    "    '241101',\n",
    "    '250301'\n",
    "]\n",
    "workflow_orch = wo.WalletWorkflowOrchestrator(sage_wallets_config,sage_wallets_modeling_config)\n",
    "workflow_orch.load_all_training_data(date_suffixes)\n",
    "s3_uris = workflow_orch.retrieve_training_data_uris(date_suffixes)"
   ]
  },
  {
   "cell_type": "code",
   "execution_count": null,
   "metadata": {},
   "outputs": [],
   "source": [
    "sm.train_temporal_cv_script_model(sage_wallets_config,sage_wallets_modeling_config,cv_s3_uri)"
   ]
  },
  {
   "cell_type": "markdown",
   "metadata": {},
   "source": [
    "## Single Model Sequence"
   ]
  },
  {
   "cell_type": "markdown",
   "metadata": {},
   "source": [
    "### Train Single Model"
   ]
  },
  {
   "cell_type": "markdown",
   "metadata": {},
   "source": [
    "#### retrieve file uris"
   ]
  },
  {
   "cell_type": "code",
   "execution_count": null,
   "metadata": {},
   "outputs": [],
   "source": [
    "[importlib.reload(module) for module in modules]\n",
    "sage_wallets_config = yaml.safe_load(Path('../config/sage_wallets_config.yaml').read_text(encoding='utf-8'))\n",
    "sage_wallets_modeling_config = yaml.safe_load(Path('../config/sage_wallets_modeling_config.yaml').read_text(encoding='utf-8'))\n",
    "\n",
    "workflow_orch = wo.WalletWorkflowOrchestrator(sage_wallets_config,sage_wallets_modeling_config)\n",
    "\n",
    "\n",
    "\n",
    "date_suffixes = [\n",
    "    '231008',\n",
    "    '231107',\n",
    "    '240306',\n",
    "    '250301'\n",
    "]\n",
    "\n",
    "# Generate URIs for specific dates without any prior setup\n",
    "s3_uris = workflow_orch.retrieve_training_data_uris(date_suffixes)\n",
    "s3_uris"
   ]
  },
  {
   "cell_type": "markdown",
   "metadata": {},
   "source": [
    "#### train model"
   ]
  },
  {
   "cell_type": "code",
   "execution_count": null,
   "metadata": {},
   "outputs": [],
   "source": [
    "[importlib.reload(module) for module in modules]\n",
    "sage_wallets_config = yaml.safe_load(Path('../config/sage_wallets_config.yaml').read_text(encoding='utf-8'))\n",
    "sage_wallets_modeling_config = yaml.safe_load(Path('../config/sage_wallets_modeling_config.yaml').read_text(encoding='utf-8'))\n",
    "\n",
    "date_suffix = '231008'\n",
    "\n",
    "modeler = wm.WalletModeler(\n",
    "    sage_wallets_config,\n",
    "    sage_wallets_modeling_config,\n",
    "    date_suffix,\n",
    "    s3_uris\n",
    ")\n",
    "\n"
   ]
  },
  {
   "cell_type": "code",
   "execution_count": null,
   "metadata": {},
   "outputs": [],
   "source": [
    "modeling_results = modeler.train_model()"
   ]
  },
  {
   "cell_type": "markdown",
   "metadata": {},
   "source": [
    "### Score validation set"
   ]
  },
  {
   "cell_type": "markdown",
   "metadata": {},
   "source": [
    "#### get existing model uri"
   ]
  },
  {
   "cell_type": "code",
   "execution_count": null,
   "metadata": {},
   "outputs": [],
   "source": [
    "[importlib.reload(module) for module in modules]\n",
    "sage_wallets_config = yaml.safe_load(Path('../config/sage_wallets_config.yaml').read_text(encoding='utf-8'))\n",
    "sage_wallets_modeling_config = yaml.safe_load(Path('../config/sage_wallets_modeling_config.yaml').read_text(encoding='utf-8'))\n",
    "\n",
    "\n",
    "\n",
    "date_suffix = '231008'\n",
    "\n",
    "# Generate URIs for specific dates without any prior setup\n",
    "workflow_orch = wo.WalletWorkflowOrchestrator(sage_wallets_config,sage_wallets_modeling_config)\n",
    "s3_uris = workflow_orch.retrieve_training_data_uris([date_suffix])\n",
    "\n",
    "# Launch modeler\n",
    "modeler = wm.WalletModeler(\n",
    "    sage_wallets_config,\n",
    "    sage_wallets_modeling_config,\n",
    "    date_suffix,\n",
    "    s3_uris\n",
    ")\n",
    "\n",
    "\n",
    "model_metadata = modeler.load_existing_model()"
   ]
  },
  {
   "cell_type": "markdown",
   "metadata": {},
   "source": [
    "#### predict with batch transform"
   ]
  },
  {
   "cell_type": "code",
   "execution_count": null,
   "metadata": {},
   "outputs": [],
   "source": [
    "transform_results = modeler.predict_with_batch_transform('val')"
   ]
  },
  {
   "cell_type": "code",
   "execution_count": null,
   "metadata": {},
   "outputs": [],
   "source": [
    "transform_results = modeler.predict_with_batch_transform('test')"
   ]
  },
  {
   "cell_type": "markdown",
   "metadata": {},
   "source": [
    "### Predict Using Endpoints"
   ]
  },
  {
   "cell_type": "markdown",
   "metadata": {},
   "source": [
    "#### deploy endpoint for predictions"
   ]
  },
  {
   "cell_type": "code",
   "execution_count": null,
   "metadata": {},
   "outputs": [],
   "source": [
    "modeler.list_active_endpoints()"
   ]
  },
  {
   "cell_type": "code",
   "execution_count": null,
   "metadata": {},
   "outputs": [],
   "source": [
    "modeler.deploy_endpoint()"
   ]
  },
  {
   "cell_type": "markdown",
   "metadata": {},
   "source": [
    "#### load and preprocess test/val dfs"
   ]
  },
  {
   "cell_type": "code",
   "execution_count": null,
   "metadata": {},
   "outputs": [],
   "source": [
    "x_test = pd.read_parquet(\n",
    "    Path(\"../s3_uploads/wallet_training_data_queue\") /\n",
    "    sage_wallets_config['training_data']['local_directory'] /\n",
    "    f\"x_test_{date_suffix}.parquet\"\n",
    ")\n",
    "x_val = pd.read_parquet(\n",
    "    Path(\"../s3_uploads/wallet_training_data_queue\") /\n",
    "    sage_wallets_config['training_data']['local_directory'] /\n",
    "    f\"x_val_{date_suffix}.parquet\"\n",
    ")\n",
    "\n",
    "\n"
   ]
  },
  {
   "cell_type": "code",
   "execution_count": null,
   "metadata": {},
   "outputs": [],
   "source": [
    "preprocessor = SageWalletsPreprocessor(sage_wallets_config)\n",
    "x_test_processed = preprocessor.preprocess_x_df(x_test)\n",
    "x_val_processed = preprocessor.preprocess_x_df(x_val)\n",
    "\n",
    "logger.info(f\"Preprocessed X_test {x_test_processed.shape} and \"\n",
    "            f\"X_val {x_val_processed.shape}.\")"
   ]
  },
  {
   "cell_type": "markdown",
   "metadata": {},
   "source": [
    "#### predict"
   ]
  },
  {
   "cell_type": "code",
   "execution_count": null,
   "metadata": {},
   "outputs": [],
   "source": [
    "y_test_pred = modeler.predict_using_endpoint(x_test_processed, 'test')\n",
    "y_val_pred = modeler.predict_using_endpoint(x_val_processed, 'val')"
   ]
  },
  {
   "cell_type": "markdown",
   "metadata": {},
   "source": [
    "#### delete all endpoints"
   ]
  },
  {
   "cell_type": "code",
   "execution_count": null,
   "metadata": {},
   "outputs": [],
   "source": [
    "modeler.delete_all_endpoints()"
   ]
  },
  {
   "cell_type": "code",
   "execution_count": null,
   "metadata": {},
   "outputs": [],
   "source": [
    "modeler.list_active_endpoints()\n",
    "modeler.list_all_endpoints()"
   ]
  },
  {
   "cell_type": "markdown",
   "metadata": {},
   "source": [
    "## Script model training"
   ]
  },
  {
   "cell_type": "code",
   "execution_count": null,
   "metadata": {},
   "outputs": [],
   "source": [
    "[importlib.reload(module) for module in modules]\n",
    "sage_wallets_config = yaml.safe_load(Path('../config/sage_wallets_config.yaml').read_text(encoding='utf-8'))\n",
    "sage_wallets_modeling_config = yaml.safe_load(Path('../config/sage_wallets_modeling_config.yaml').read_text(encoding='utf-8'))\n",
    "\n",
    "\n",
    "date_suffixes = [\n",
    "    '231008',\n",
    "    '231107',\n",
    "    '240306',\n",
    "    '250301'\n",
    "]\n",
    "\n",
    "date_suffix = '231008'\n",
    "\n",
    "\n",
    "workflow_orch = wo.WalletWorkflowOrchestrator(sage_wallets_config,sage_wallets_modeling_config)\n",
    "workflow_orch.load_all_training_data(date_suffixes)\n",
    "s3_uris = workflow_orch.retrieve_training_data_uris(date_suffixes)"
   ]
  },
  {
   "cell_type": "code",
   "execution_count": null,
   "metadata": {},
   "outputs": [],
   "source": [
    "[importlib.reload(module) for module in modules]\n",
    "sage_wallets_config = yaml.safe_load(Path('../config/sage_wallets_config.yaml').read_text(encoding='utf-8'))\n",
    "sage_wallets_modeling_config = yaml.safe_load(Path('../config/sage_wallets_modeling_config.yaml').read_text(encoding='utf-8'))\n",
    "\n",
    "date_suffix = '231008'\n",
    "\n",
    "modeler = wm.WalletModeler(\n",
    "    sage_wallets_config,\n",
    "    sage_wallets_modeling_config,\n",
    "    date_suffix,\n",
    "    s3_uris\n",
    ")\n",
    "\n"
   ]
  },
  {
   "cell_type": "code",
   "execution_count": null,
   "metadata": {},
   "outputs": [],
   "source": [
    "sm.train_single_period_script_model(\n",
    "    sage_wallets_config,\n",
    "    sage_wallets_modeling_config,\n",
    "    date_suffix,\n",
    "    s3_uris\n",
    ")"
   ]
  },
  {
   "cell_type": "code",
   "execution_count": null,
   "metadata": {},
   "outputs": [],
   "source": [
    "from sagemaker.session import Session\n",
    "from sagemaker.xgboost.estimator import XGBoost\n",
    "from sagemaker.tuner import HyperparameterTuner, ContinuousParameter, IntegerParameter\n",
    "\n",
    "s3_data = {\n",
    "    \"train\":      s3_uris[date_suffix]['train'],\n",
    "    \"validation\": s3_uris[date_suffix]['val']\n",
    "}\n",
    "model_output_path = (f\"s3://wallet-script-models/model-outputs\")\n",
    "\n",
    "estimator = XGBoost(\n",
    "    entry_point         = \"script_mode_modeler.py\",     # path relative to notebook\n",
    "    source_dir          = \"../src/script_modeling/\",    # folder that holds the script\n",
    "    base_job_name       = \"dda-922-v4\",                 # uploaded and immutable script version\n",
    "    framework_version   = sage_wallets_modeling_config['framework']['version'],\n",
    "    role                = sage_wallets_config['aws']['modeler_arn'],\n",
    "    instance_type       = sage_wallets_modeling_config['metaparams']['instance_type'],\n",
    "    instance_count      = sage_wallets_modeling_config['metaparams']['instance_count'],\n",
    "    output_path         = model_output_path,\n",
    "    hyperparameters = {\n",
    "        \"eta\": 0.1,\n",
    "        \"max_depth\": 6,\n",
    "        \"subsample\": 1.0,\n",
    "        \"num_boost_round\": 50,            # small for a smoke-test\n",
    "        \"early_stopping_rounds\": 10\n",
    "    },\n",
    "    # metric_definitions=[                  # regex must match the print line\n",
    "    #     {\"Name\": \"cv_auc_pr\", \"Regex\": \"validation:cv_auc_pr=(.*)\"}\n",
    "    # ],\n",
    ")\n",
    "\n",
    "# one-shot fit (no tuning yet)\n",
    "estimator.fit(s3_data, logs=\"All\")"
   ]
  },
  {
   "cell_type": "markdown",
   "metadata": {},
   "source": [
    "# Model Evaluation"
   ]
  },
  {
   "cell_type": "markdown",
   "metadata": {},
   "source": [
    "### Analyze predictions"
   ]
  },
  {
   "cell_type": "code",
   "execution_count": null,
   "metadata": {},
   "outputs": [],
   "source": [
    "[importlib.reload(module) for module in modules]\n",
    "sage_wallets_config = yaml.safe_load(Path('../config/sage_wallets_config.yaml').read_text(encoding='utf-8'))\n",
    "sage_wallets_modeling_config = yaml.safe_load(Path('../config/sage_wallets_modeling_config.yaml').read_text(encoding='utf-8'))\n",
    "\n",
    "\n",
    "date_suffixes = [\n",
    "    '231008',\n",
    "    # '240306'\n",
    "]\n",
    "date_suffix = date_suffixes[0]"
   ]
  },
  {
   "cell_type": "code",
   "execution_count": null,
   "metadata": {},
   "outputs": [],
   "source": [
    "y_test_pred = sime.load_bt_sagemaker_predictions('test', sage_wallets_config, date_suffix)\n",
    "y_val_pred = sime.load_bt_sagemaker_predictions('val', sage_wallets_config, date_suffix)"
   ]
  },
  {
   "cell_type": "code",
   "execution_count": null,
   "metadata": {},
   "outputs": [],
   "source": [
    "# Single function call for complete evaluation\n",
    "evaluator = sime.run_sagemaker_evaluation(\n",
    "    sage_wallets_config,\n",
    "    sage_wallets_modeling_config,\n",
    "    date_suffix,\n",
    "    y_test_pred,\n",
    "    y_val_pred\n",
    ")"
   ]
  },
  {
   "cell_type": "code",
   "execution_count": null,
   "metadata": {},
   "outputs": [],
   "source": [
    "evaluator.y_validation"
   ]
  },
  {
   "cell_type": "code",
   "execution_count": null,
   "metadata": {},
   "outputs": [],
   "source": [
    "evaluator.y_validation_pred_proba"
   ]
  },
  {
   "cell_type": "code",
   "execution_count": null,
   "metadata": {},
   "outputs": [],
   "source": [
    "from sklearn.metrics import roc_curve, auc\n",
    "import matplotlib.pyplot as plt\n",
    "\n",
    "fpr, tpr, _ = roc_curve(evaluator.y_validation, evaluator.y_validation_pred_proba)\n",
    "roc_auc = auc(fpr, tpr)\n",
    "\n",
    "plt.figure(figsize=(8, 6))\n",
    "plt.plot(fpr, tpr, color='darkorange', lw=2, label=f'ROC curve (AUC = {roc_auc:.3f})')\n",
    "plt.plot([0, 1], [0, 1], color='navy', lw=2, linestyle='--', label='Random classifier')\n",
    "plt.xlim([0.0, 1.0])\n",
    "plt.ylim([0.0, 1.05])\n",
    "plt.xlabel('False Positive Rate')\n",
    "plt.ylabel('True Positive Rate')\n",
    "plt.title('ROC Curve - Validation Set')\n",
    "plt.legend(loc=\"lower right\")\n",
    "plt.grid(True, alpha=0.3)\n",
    "plt.show()"
   ]
  },
  {
   "cell_type": "code",
   "execution_count": null,
   "metadata": {},
   "outputs": [],
   "source": [
    "evaluator.summary_report()\n",
    "evaluator.plot_wallet_evaluation()\n"
   ]
  },
  {
   "cell_type": "code",
   "execution_count": null,
   "metadata": {},
   "outputs": [],
   "source": [
    "def load_sagemaker_predictions(\n",
    "    data_type: str,\n",
    "    sage_wallets_config: dict,\n",
    "    sage_wallets_modeling_config: dict,\n",
    "    date_suffix: str\n",
    ") -> tuple[pd.Series, pd.Series]:\n",
    "    \"\"\"\n",
    "    Load SageMaker predictions and corresponding actuals for a given data type.\n",
    "\n",
    "    Params:\n",
    "    - data_type (str): Either 'test' or 'val'\n",
    "    - sage_wallets_config (dict): Configuration for training data paths\n",
    "    - sage_wallets_modeling_config (dict): Configuration for model parameters\n",
    "    - date_suffix (str): Date suffix for file naming\n",
    "\n",
    "    Returns:\n",
    "    - tuple: (predictions_series, actuals_series) with aligned indices\n",
    "    \"\"\"\n",
    "    # Load predictions\n",
    "    pred_path = Path(sage_wallets_modeling_config['metaparams']['endpoint_preds_dir']) / \\\n",
    "                f\"endpoint_y_pred_{data_type}_{sage_wallets_config['training_data']['local_directory']}_{date_suffix}.csv\"\n",
    "    pred_df = pd.read_csv(pred_path)\n",
    "\n",
    "    if 'score' not in pred_df.columns:\n",
    "        raise ValueError(f\"SageMaker predictions are missing the 'score' column. \"\n",
    "                        f\"Available columns: {pred_df.columns}\")\n",
    "    pred_series = pred_df['score']\n",
    "\n",
    "    # Load actuals\n",
    "    training_data_path = (\n",
    "        Path(f\"../s3_uploads\") / \"wallet_training_data_queue\" /\n",
    "        f\"{sage_wallets_config['training_data']['local_directory']}\"\n",
    "    )\n",
    "    actuals_path = training_data_path / f\"y_{data_type}_{date_suffix}.parquet\"\n",
    "    actuals_df = pd.read_parquet(actuals_path)\n",
    "\n",
    "    if len(actuals_df.columns) > 1:\n",
    "        raise ValueError(f\"Found unexpected columns in y_{data_type}_df. \"\n",
    "                        f\"Expected 1 column, found {actuals_df.columns}.\")\n",
    "    actuals_series = actuals_df.iloc[:, 0]\n",
    "\n",
    "    # Validate lengths and align indices\n",
    "    if len(pred_series) != len(actuals_series):\n",
    "        raise ValueError(f\"Length of y_{data_type}_pred ({len(pred_series)}) does \"\n",
    "                        f\"not match length of y_{data_type}_true ({len(actuals_series)}).\")\n",
    "\n",
    "    pred_series.index = actuals_series.index\n",
    "\n",
    "    return pred_series, actuals_series"
   ]
  },
  {
   "cell_type": "code",
   "execution_count": null,
   "metadata": {},
   "outputs": [],
   "source": [
    "# Load predictions and actuals\n",
    "y_test_pred_series, y_test_true_series = load_sagemaker_predictions(\n",
    "    'test', sage_wallets_config, sage_wallets_modeling_config, date_suffix\n",
    ")\n",
    "y_val_pred_series, y_val_true_series = load_sagemaker_predictions(\n",
    "    'val', sage_wallets_config, sage_wallets_modeling_config, date_suffix\n",
    ")\n",
    "\n",
    "# Load remaining training data\n",
    "training_data_path = (\n",
    "    Path(f\"../s3_uploads\") / \"wallet_training_data_queue\" /\n",
    "    f\"{sage_wallets_config['training_data']['local_directory']}\"\n",
    ")\n",
    "X_train = pd.read_parquet(training_data_path / f\"x_train_{date_suffix}.parquet\")\n",
    "y_train = pd.read_parquet(training_data_path / f\"y_train_{date_suffix}.parquet\")\n",
    "X_test = pd.read_parquet(training_data_path / f\"x_test_{date_suffix}.parquet\")\n",
    "X_val = pd.read_parquet(training_data_path / f\"x_val_{date_suffix}.parquet\")\n",
    "\n",
    "# Identify target variable and model type\n",
    "target_variable = y_val_true_series.name or y_train.columns[0]\n",
    "objective = sage_wallets_modeling_config['training']['hyperparameters']['objective']\n",
    "model_type = 'regression' if objective[:3] == 'reg' else 'unknown'"
   ]
  },
  {
   "cell_type": "code",
   "execution_count": null,
   "metadata": {},
   "outputs": [],
   "source": [
    "# Create model_id and modeling_config\n",
    "model_id = f\"sagemaker_{sage_wallets_config['training_data']['local_directory']}_{date_suffix}\"\n",
    "\n",
    "modeling_config = {\n",
    "    'target_variable': target_variable,\n",
    "    'model_type': model_type,\n",
    "    'returns_winsorization': 0.005,  # Default for winsorizing returns\n",
    "    'training_data': {\n",
    "        'modeling_period_duration': 30  # Default performance window\n",
    "    },\n",
    "    'sagemaker_metadata': {\n",
    "        'objective': objective,\n",
    "        'local_directory': sage_wallets_config['training_data']['local_directory'],\n",
    "        'date_suffix': date_suffix\n",
    "    }\n",
    "}\n",
    "\n",
    "# Create minimal wallet_model_results for SageMaker evaluation\n",
    "wallet_model_results = {\n",
    "    'model_id': model_id,\n",
    "    'modeling_config': modeling_config,\n",
    "    'model_type': model_type,\n",
    "\n",
    "    # Training data\n",
    "    'X_train': X_train,\n",
    "    'X_test': X_test,\n",
    "    'y_train': y_train,\n",
    "    'y_test': y_test_true_series,\n",
    "    'y_pred': y_test_pred_series,\n",
    "    'training_cohort_pred': None,\n",
    "    'training_cohort_actuals': None,\n",
    "\n",
    "    # Validation data\n",
    "    'X_validation': X_val,\n",
    "    'y_validation': y_val_true_series,\n",
    "    'y_validation_pred': y_val_pred_series,\n",
    "    'validation_target_vars_df': None,\n",
    "\n",
    "    # Fixed mock pipeline\n",
    "    'pipeline': type('MockPipeline', (), {\n",
    "        'named_steps': {'estimator': type('MockModel', (), {\n",
    "            'get_params': lambda self: {'objective': objective}  # Accept self argument\n",
    "        })()},\n",
    "        '__getitem__': lambda self, key: type('MockTransformer', (), {\n",
    "            'transform': lambda self, X: X  # Accept self argument\n",
    "        })()\n",
    "    })()\n",
    "}\n",
    "\n",
    "# Create evaluator\n",
    "wallet_evaluator = wime.RegressorEvaluator(wallet_model_results)\n",
    "\n",
    "# Run basic evaluation\n",
    "wallet_evaluator.summary_report()\n",
    "wallet_evaluator.plot_wallet_evaluation()"
   ]
  },
  {
   "cell_type": "code",
   "execution_count": null,
   "metadata": {},
   "outputs": [],
   "source": []
  },
  {
   "cell_type": "code",
   "execution_count": null,
   "metadata": {},
   "outputs": [],
   "source": [
    "target_variable"
   ]
  },
  {
   "cell_type": "code",
   "execution_count": null,
   "metadata": {},
   "outputs": [],
   "source": []
  }
 ],
 "metadata": {
  "kernelspec": {
   "display_name": ".sage_venv",
   "language": "python",
   "name": "python3"
  },
  "language_info": {
   "codemirror_mode": {
    "name": "ipython",
    "version": 3
   },
   "file_extension": ".py",
   "mimetype": "text/x-python",
   "name": "python",
   "nbconvert_exporter": "python",
   "pygments_lexer": "ipython3",
   "version": "3.11.9"
  }
 },
 "nbformat": 4,
 "nbformat_minor": 2
}
