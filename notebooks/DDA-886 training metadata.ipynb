{
 "cells": [
  {
   "cell_type": "markdown",
   "metadata": {},
   "source": [
    "### start"
   ]
  },
  {
   "cell_type": "code",
   "execution_count": 1,
   "metadata": {},
   "outputs": [
    {
     "name": "stderr",
     "output_type": "stream",
     "text": [
      "\u001b[0m[15/Jul/25 23:11:46] INFO [credentials.load:1352] Found credentials in shared credentials file: ~/.aws/credentials\u001b[0m\n"
     ]
    },
    {
     "name": "stdout",
     "output_type": "stream",
     "text": [
      "sagemaker.config INFO - Not applying SDK defaults from location: /Library/Application Support/sagemaker/config.yaml\n",
      "sagemaker.config INFO - Not applying SDK defaults from location: /Users/jeremymeadow/Library/Application Support/sagemaker/config.yaml\n"
     ]
    },
    {
     "name": "stderr",
     "output_type": "stream",
     "text": [
      "\u001b[0m[15/Jul/25 23:11:46] INFO [utils.export_code:1667] Consolidation complete. All files are saved in temp/sagemaker_code.py\u001b[0m\n",
      "\u001b[92m[15/Jul/25 23:11:46] MILESTONE [2567990582.<module>:115] Good morning, let's get to work\u001b[0m\n"
     ]
    }
   ],
   "source": [
    "# pyright: reportMissingImports=false\n",
    "# pyright: reportMissingModuleSource=false\n",
    "\n",
    "import uuid\n",
    "import random\n",
    "import hashlib\n",
    "import os\n",
    "import sys\n",
    "import gc\n",
    "import time\n",
    "import copy\n",
    "import logging\n",
    "import re\n",
    "from itertools import chain,combinations\n",
    "import pdb\n",
    "import math\n",
    "from pathlib import Path\n",
    "import pickle\n",
    "import cloudpickle\n",
    "import datetime\n",
    "from datetime import datetime,timedelta\n",
    "import json\n",
    "import warnings\n",
    "import yaml\n",
    "from typing import Dict,Union,List,Any,Tuple\n",
    "import pytest\n",
    "import importlib\n",
    "from dotenv import load_dotenv\n",
    "import pandas as pd\n",
    "import numpy as np\n",
    "import IPython\n",
    "import requests\n",
    "import warnings\n",
    "import boto3\n",
    "import matplotlib as plt\n",
    "\n",
    "# load_dotenv(Path(\"../../../Local/.env\"))\n",
    "\n",
    "# Custom format function for displaying |numbers/\n",
    "pd.set_option('display.float_format', lambda x: f'{x:.12g}')\n",
    "# pd.reset_option('display.float_format')\n",
    "\n",
    "# Suppress warnings\n",
    "os.environ['PYDEVD_DISABLE_FILE_VALIDATION'] = '1'\n",
    "warnings.filterwarnings('ignore', message='.*frozen modules.*')\n",
    "warnings.filterwarnings(\"ignore\", message=\"MallocStackLogging\")\n",
    "\n",
    "# silence pygame donation request\n",
    "os.environ['PYGAME_HIDE_SUPPORT_PROMPT'] = \"hide\"\n",
    "os.environ['LOGGING_FILE'] = \"../../../Local/logs/wallet_modeling.log\"\n",
    "os.environ['NOTIFICATION_SOUNDS_DIR'] = \"../../../Local\"\n",
    "\n",
    "# Dark mode charts\n",
    "plt.rcParams['figure.facecolor'] = '#181818'  # Custom background color (dark gray in this case)\n",
    "plt.rcParams['axes.facecolor'] = '#181818'\n",
    "plt.rcParams['text.color'] = '#afc6ba'\n",
    "plt.rcParams['axes.labelcolor'] = '#afc6ba'\n",
    "plt.rcParams['xtick.color'] = '#afc6ba'\n",
    "plt.rcParams['ytick.color'] = '#afc6ba'\n",
    "plt.rcParams['axes.titlecolor'] = '#afc6ba'\n",
    "plt.rcParams['text.usetex'] = False\n",
    "plt.rcParams['mathtext.default'] = 'regular'\n",
    "\n",
    "import utils as u\n",
    "# Set the custom error handler\n",
    "ipython = IPython.get_ipython()\n",
    "# ipython.set_custom_exc((Exception,), u.notify_on_failure)\n",
    "\n",
    "player = u.AmbientPlayer()\n",
    "player.stop_all_players()\n",
    "\n",
    "# configure logger\n",
    "logger = u.setup_notebook_logger('../logs/notebook_logs.log')\n",
    "logger.setLevel(logging.INFO)\n",
    "\n",
    "# import local modules\n",
    "# pyright: reportMissingImports=false\n",
    "sys.path.append('..//src')\n",
    "\n",
    "import sagemaker_wallets.wallet_modeler as wm\n",
    "import sagemaker_wallets.wallet_preprocessor as wp\n",
    "import sagemaker_wallets.workflow_orchestrator as wo\n",
    "import sage_utils.config_validation as ucv\n",
    "import utils as u\n",
    "from utils import ConfigError\n",
    "\n",
    "# reload all modules\n",
    "modules = [\n",
    "    wm, wp, wo,\n",
    "    u, ucv\n",
    "]\n",
    "\n",
    "from IPython.core import ultratb\n",
    "ultratb.VerboseTB._tb_highlight = \"bg:#b45827\"\n",
    "\n",
    "\n",
    "# load all configs\n",
    "sage_wallets_config = yaml.safe_load(Path('../config/sage_wallets_config.yaml').read_text(encoding='utf-8'))\n",
    "sage_wallets_modeling_config = yaml.safe_load(Path('../config/sage_wallets_modeling_config.yaml').read_text(encoding='utf-8'))\n",
    "\n",
    "\n",
    "u.export_code(\n",
    "    code_directories=[\n",
    "        'sagemaker_wallets',\n",
    "        # 'sage_utils',\n",
    "    ],\n",
    "    # include_config = True,\n",
    "    # ipynb_notebook = 'DDA-769 coin model score dist toggle.ipynb'\n",
    "    output_file=\"temp/sagemaker_code.py\"\n",
    ")\n",
    "\n",
    "[importlib.reload(module) for module in modules]\n",
    "u.notify('retro')\n",
    "\n",
    "logger.milestone(\"Good morning, let's get to work\")"
   ]
  },
  {
   "cell_type": "markdown",
   "metadata": {},
   "source": [
    "# Initial ETLs"
   ]
  },
  {
   "cell_type": "markdown",
   "metadata": {},
   "source": [
    "# Code begins"
   ]
  },
  {
   "cell_type": "markdown",
   "metadata": {},
   "source": [
    "### Initiate orchestrator"
   ]
  },
  {
   "cell_type": "code",
   "execution_count": 2,
   "metadata": {},
   "outputs": [],
   "source": [
    "[importlib.reload(module) for module in modules]\n",
    "sage_wallets_config = yaml.safe_load(Path('../config/sage_wallets_config.yaml').read_text(encoding='utf-8'))\n",
    "sage_wallets_modeling_config = yaml.safe_load(Path('../config/sage_wallets_modeling_config.yaml').read_text(encoding='utf-8'))\n",
    "\n",
    "\n",
    "workflow_orch = wo.WalletWorkflowOrchestrator(sage_wallets_config)"
   ]
  },
  {
   "cell_type": "markdown",
   "metadata": {},
   "source": [
    "### Load, preprocess, and upload data"
   ]
  },
  {
   "cell_type": "markdown",
   "metadata": {},
   "source": [
    "#### load data"
   ]
  },
  {
   "cell_type": "code",
   "execution_count": 3,
   "metadata": {},
   "outputs": [
    {
     "name": "stderr",
     "output_type": "stream",
     "text": [
      "\u001b[92m[15/Jul/25 23:11:47] MILESTONE [workflow_orchestrator.load_training_data:109] <PROD> Loading training data for 2 periods: ['231107', '240306']\u001b[0m\n",
      "\u001b[0m[15/Jul/25 23:11:48] INFO [workflow_orchestrator.load_training_data:127] Training data loaded successfully: 8 splits, 398,964 total rows\u001b[0m\n"
     ]
    }
   ],
   "source": [
    "[importlib.reload(module) for module in modules]\n",
    "sage_wallets_config = yaml.safe_load(Path('../config/sage_wallets_config.yaml').read_text(encoding='utf-8'))\n",
    "sage_wallets_modeling_config = yaml.safe_load(Path('../config/sage_wallets_modeling_config.yaml').read_text(encoding='utf-8'))\n",
    "\n",
    "date_suffixes = [\n",
    "    '231107',\n",
    "    '240306'\n",
    "]\n",
    "workflow_orch.load_training_data(date_suffixes)"
   ]
  },
  {
   "cell_type": "markdown",
   "metadata": {},
   "source": [
    "##### inspect features"
   ]
  },
  {
   "cell_type": "code",
   "execution_count": null,
   "metadata": {},
   "outputs": [],
   "source": [
    "# # Create combined NaN count and describe statistics\n",
    "# nan_counts = workflow_orch.training_data['x_train'].isna().sum()\n",
    "# describe_stats = workflow_orch.training_data['x_train'].describe().T\n",
    "\n",
    "# # Combine into single DataFrame\n",
    "# combined_stats = pd.concat([\n",
    "#     nan_counts.rename('nan_count'),\n",
    "#     describe_stats\n",
    "# ], axis=1).sort_index()\n",
    "\n",
    "# u.display_full(combined_stats.sort_index())"
   ]
  },
  {
   "cell_type": "markdown",
   "metadata": {},
   "source": [
    "#### preprocess data"
   ]
  },
  {
   "cell_type": "code",
   "execution_count": 4,
   "metadata": {},
   "outputs": [
    {
     "name": "stderr",
     "output_type": "stream",
     "text": [
      "\u001b[0m[15/Jul/25 23:11:52] INFO [wallet_preprocessor.preprocess_training_data:51] Starting preprocessing for SageMaker XGBoost compatibility...\u001b[0m\n",
      "\u001b[0m[15/Jul/25 23:11:52] INFO [wallet_preprocessor._handle_missing_values:186] Filled NaN values in 100 columns for x_train.\u001b[0m\n",
      "\u001b[0m[15/Jul/25 23:11:52] INFO [wallet_preprocessor._combine_x_y_data:283] Merged y df with target var cw_crypto_net_gain/crypto_inflows/winsorized with X data.\u001b[0m\n",
      "\u001b[0m[15/Jul/25 23:11:52] INFO [wallet_preprocessor.preprocess_training_data:86] Preprocessed train: 87,727 rows × 222 cols.\u001b[0m\n",
      "\u001b[0m[15/Jul/25 23:11:52] INFO [wallet_preprocessor._handle_missing_values:186] Filled NaN values in 100 columns for x_test.\u001b[0m\n",
      "\u001b[0m[15/Jul/25 23:11:52] INFO [wallet_preprocessor._combine_x_y_data:283] Merged y df with target var cw_crypto_net_gain/crypto_inflows/winsorized with X data.\u001b[0m\n",
      "\u001b[0m[15/Jul/25 23:11:52] INFO [wallet_preprocessor.preprocess_training_data:86] Preprocessed test: 16,450 rows × 222 cols.\u001b[0m\n",
      "\u001b[0m[15/Jul/25 23:11:52] INFO [wallet_preprocessor._handle_missing_values:186] Filled NaN values in 100 columns for x_eval.\u001b[0m\n",
      "\u001b[0m[15/Jul/25 23:11:52] INFO [wallet_preprocessor._combine_x_y_data:283] Merged y df with target var cw_crypto_net_gain/crypto_inflows/winsorized with X data.\u001b[0m\n",
      "\u001b[0m[15/Jul/25 23:11:52] INFO [wallet_preprocessor.preprocess_training_data:86] Preprocessed eval: 5,485 rows × 222 cols.\u001b[0m\n",
      "\u001b[0m[15/Jul/25 23:11:52] INFO [wallet_preprocessor._handle_missing_values:186] Filled NaN values in 100 columns for x_val.\u001b[0m\n",
      "\u001b[0m[15/Jul/25 23:11:52] INFO [wallet_preprocessor._combine_x_y_data:283] Merged y df with target var cw_crypto_net_gain/crypto_inflows/winsorized with X data.\u001b[0m\n",
      "\u001b[0m[15/Jul/25 23:11:52] INFO [wallet_preprocessor.preprocess_training_data:86] Preprocessed val: 89,820 rows × 222 cols.\u001b[0m\n"
     ]
    }
   ],
   "source": [
    "preprocessor = wp.SageWalletsPreprocessor(sage_wallets_config)\n",
    "preprocessed_data = preprocessor.preprocess_training_data(workflow_orch.training_data)"
   ]
  },
  {
   "cell_type": "markdown",
   "metadata": {},
   "source": [
    "#### upload data"
   ]
  },
  {
   "cell_type": "code",
   "execution_count": 6,
   "metadata": {},
   "outputs": [
    {
     "name": "stderr",
     "output_type": "stream",
     "text": [
      "\u001b[92m[15/Jul/25 23:12:29] MILESTONE [workflow_orchestrator._confirm_upload:453] <PROD> Ready to upload 337.9 MB of preprocessed training data across 2 date folders.\u001b[0m\n",
      "\u001b[0m[15/Jul/25 23:12:29] INFO [workflow_orchestrator._confirm_upload:458] Target variable: cw_crypto_net_gain_crypto_inflows_winsorized\u001b[0m\n",
      "\u001b[0m[15/Jul/25 23:12:29] INFO [workflow_orchestrator._confirm_upload:459] Target: s3://wallet-training-data/training-data-preprocessed/dda-897/[DATE]/\u001b[0m\n",
      "\u001b[0m[15/Jul/25 23:12:32] INFO [workflow_orchestrator._confirm_upload:465] Upload cancelled\u001b[0m\n"
     ]
    }
   ],
   "source": [
    "# Upload and retrieve URIs\n",
    "workflow_orch.upload_training_data(preprocessed_data, overwrite_existing=True)\n",
    "s3_uris = workflow_orch.retrieve_training_data_uris(date_suffixes)"
   ]
  },
  {
   "cell_type": "markdown",
   "metadata": {},
   "source": [
    "### Train Model"
   ]
  },
  {
   "cell_type": "markdown",
   "metadata": {},
   "source": [
    "#### retrieve uris"
   ]
  },
  {
   "cell_type": "code",
   "execution_count": 7,
   "metadata": {},
   "outputs": [
    {
     "data": {
      "text/plain": [
       "{'231107': {'train': 's3://wallet-training-data/training-data-preprocessed/dda-897/231107/train_cw_crypto_net_gain_crypto_inflows_winsorized.csv',\n",
       "  'test': 's3://wallet-training-data/training-data-preprocessed/dda-897/231107/test_cw_crypto_net_gain_crypto_inflows_winsorized.csv',\n",
       "  'eval': 's3://wallet-training-data/training-data-preprocessed/dda-897/231107/eval_cw_crypto_net_gain_crypto_inflows_winsorized.csv',\n",
       "  'val': 's3://wallet-training-data/training-data-preprocessed/dda-897/231107/val_cw_crypto_net_gain_crypto_inflows_winsorized.csv'},\n",
       " '240306': {'train': 's3://wallet-training-data/training-data-preprocessed/dda-897/240306/train_cw_crypto_net_gain_crypto_inflows_winsorized.csv',\n",
       "  'test': 's3://wallet-training-data/training-data-preprocessed/dda-897/240306/test_cw_crypto_net_gain_crypto_inflows_winsorized.csv',\n",
       "  'eval': 's3://wallet-training-data/training-data-preprocessed/dda-897/240306/eval_cw_crypto_net_gain_crypto_inflows_winsorized.csv',\n",
       "  'val': 's3://wallet-training-data/training-data-preprocessed/dda-897/240306/val_cw_crypto_net_gain_crypto_inflows_winsorized.csv'}}"
      ]
     },
     "execution_count": 7,
     "metadata": {},
     "output_type": "execute_result"
    }
   ],
   "source": [
    "date_suffixes = [\n",
    "    '231107',\n",
    "    '240306'\n",
    "]\n",
    "\n",
    "# Generate URIs for specific dates without any prior setup\n",
    "s3_uris = workflow_orch.retrieve_training_data_uris(date_suffixes)\n",
    "s3_uris"
   ]
  },
  {
   "cell_type": "markdown",
   "metadata": {},
   "source": [
    "#### train model"
   ]
  },
  {
   "cell_type": "code",
   "execution_count": 9,
   "metadata": {},
   "outputs": [],
   "source": [
    "[importlib.reload(module) for module in modules]\n",
    "sage_wallets_config = yaml.safe_load(Path('../config/sage_wallets_config.yaml').read_text(encoding='utf-8'))\n",
    "sage_wallets_modeling_config = yaml.safe_load(Path('../config/sage_wallets_modeling_config.yaml').read_text(encoding='utf-8'))\n",
    "\n",
    "date_suffix = date_suffixes[0]\n",
    "\n",
    "modeler = wm.WalletModeler(\n",
    "    sage_wallets_config,\n",
    "    sage_wallets_modeling_config,\n",
    "    s3_uris,\n",
    "    date_suffix\n",
    ")\n",
    "\n"
   ]
  },
  {
   "cell_type": "code",
   "execution_count": null,
   "metadata": {},
   "outputs": [
    {
     "name": "stderr",
     "output_type": "stream",
     "text": [
      "\u001b[0m[15/Jul/25 23:12:54] INFO [wallet_modeler.train_model:82] Starting SageMaker training...\u001b[0m\n",
      "\u001b[0m[15/Jul/25 23:12:54] INFO [image_uris._processor:530] Ignoring unnecessary instance type: None.\u001b[0m\n",
      "\u001b[0m[15/Jul/25 23:12:54] INFO [wallet_modeler.train_model:162] Launching training job: wallet-xgb-dda-897-231107-20250715-231254\u001b[0m\n",
      "\u001b[0m[15/Jul/25 23:12:54] INFO [wallet_modeler.train_model:163] Model output path: s3://wallet-training-data/sagemaker-models/dda-897/\u001b[0m\n",
      "\u001b[0m[15/Jul/25 23:12:54] INFO [telemetry_logging.wrapper:91] SageMaker Python SDK will collect telemetry to help us better understand our user's needs, diagnose issues, and deliver additional features.\n",
      "To opt out of telemetry, please disable via TelemetryOptOut parameter in SDK defaults config. For more information, refer to https://sagemaker.readthedocs.io/en/stable/overview.html#configuring-and-using-defaults-with-the-sagemaker-python-sdk.\u001b[0m\n",
      "\u001b[0m[15/Jul/25 23:12:54] INFO [session.submit:1053] Creating training-job with name: wallet-xgb-dda-897-231107-20250715-231254\u001b[0m\n"
     ]
    },
    {
     "name": "stdout",
     "output_type": "stream",
     "text": [
      "2025-07-16 06:12:55 Starting - Starting the training job...\n",
      "2025-07-16 06:13:30 Downloading - Downloading input data......\n",
      "2025-07-16 06:14:31 Downloading - Downloading the training image.....Arguments: train\n",
      "[2025-07-16:06:15:10:INFO] Running standalone xgboost training.\n",
      "[2025-07-16:06:15:10:INFO] File size need to be processed in the node: 161.58mb. Available memory size in the node: 256.37mb\n",
      "[2025-07-16:06:15:10:INFO] Determined delimiter of CSV input is ','\n",
      "[06:15:10] S3DistributionType set as FullyReplicated\n",
      "[06:15:11] 87727x221 matrix with 19387667 entries loaded from /opt/ml/input/data/train?format=csv&label_column=0&delimiter=,\n",
      "[2025-07-16:06:15:11:INFO] Determined delimiter of CSV input is ','\n",
      "[06:15:11] S3DistributionType set as FullyReplicated\n",
      "[06:15:11] 5485x221 matrix with 1212185 entries loaded from /opt/ml/input/data/validation?format=csv&label_column=0&delimiter=,\n",
      "[06:15:13] src/tree/updater_prune.cc:74: tree pruning end, 1 roots, 118 extra nodes, 0 pruned nodes, max_depth=6\n",
      "[0]#011train-rmse:0.42037#011validation-rmse:0.417399\n",
      "Multiple eval metrics have been passed: 'validation-rmse' will be used for early stopping.\n",
      "Will train until validation-rmse hasn't improved in 10 rounds.\n",
      "[06:15:15] src/tree/updater_prune.cc:74: tree pruning end, 1 roots, 122 extra nodes, 0 pruned nodes, max_depth=6\n",
      "[1]#011train-rmse:0.354149#011validation-rmse:0.352449\n",
      "[06:15:16] src/tree/updater_prune.cc:74: tree pruning end, 1 roots, 122 extra nodes, 0 pruned nodes, max_depth=6\n",
      "[2]#011train-rmse:0.311439#011validation-rmse:0.309436\n",
      "[06:15:17] src/tree/updater_prune.cc:74: tree pruning end, 1 roots, 124 extra nodes, 0 pruned nodes, max_depth=6\n",
      "[3]#011train-rmse:0.28488#011validation-rmse:0.282583\n",
      "[06:15:18] src/tree/updater_prune.cc:74: tree pruning end, 1 roots, 126 extra nodes, 0 pruned nodes, max_depth=6\n",
      "[4]#011train-rmse:0.267955#011validation-rmse:0.265912\n",
      "[06:15:19] src/tree/updater_prune.cc:74: tree pruning end, 1 roots, 126 extra nodes, 0 pruned nodes, max_depth=6\n",
      "[5]#011train-rmse:0.256009#011validation-rmse:0.255003\n",
      "[06:15:20] src/tree/updater_prune.cc:74: tree pruning end, 1 roots, 116 extra nodes, 0 pruned nodes, max_depth=6\n",
      "[6]#011train-rmse:0.249561#011validation-rmse:0.248534\n",
      "\n",
      "2025-07-16 06:15:06 Training - Training image download completed. Training in progress.[06:15:21] src/tree/updater_prune.cc:74: tree pruning end, 1 roots, 126 extra nodes, 0 pruned nodes, max_depth=6\n",
      "[7]#011train-rmse:0.243637#011validation-rmse:0.242876\n",
      "[06:15:22] src/tree/updater_prune.cc:74: tree pruning end, 1 roots, 124 extra nodes, 0 pruned nodes, max_depth=6\n",
      "[8]#011train-rmse:0.240244#011validation-rmse:0.239893\n",
      "[06:15:23] src/tree/updater_prune.cc:74: tree pruning end, 1 roots, 120 extra nodes, 0 pruned nodes, max_depth=6\n",
      "[9]#011train-rmse:0.235669#011validation-rmse:0.236288\n",
      "[06:15:24] src/tree/updater_prune.cc:74: tree pruning end, 1 roots, 118 extra nodes, 0 pruned nodes, max_depth=6\n",
      "[10]#011train-rmse:0.233485#011validation-rmse:0.234289\n",
      "[06:15:25] src/tree/updater_prune.cc:74: tree pruning end, 1 roots, 126 extra nodes, 0 pruned nodes, max_depth=6\n",
      "[11]#011train-rmse:0.230889#011validation-rmse:0.232226\n",
      "[06:15:26] src/tree/updater_prune.cc:74: tree pruning end, 1 roots, 112 extra nodes, 0 pruned nodes, max_depth=6\n",
      "[12]#011train-rmse:0.229116#011validation-rmse:0.230869\n",
      "[06:15:28] src/tree/updater_prune.cc:74: tree pruning end, 1 roots, 116 extra nodes, 0 pruned nodes, max_depth=6\n",
      "[13]#011train-rmse:0.22721#011validation-rmse:0.229584\n",
      "[06:15:29] src/tree/updater_prune.cc:74: tree pruning end, 1 roots, 122 extra nodes, 0 pruned nodes, max_depth=6\n",
      "[14]#011train-rmse:0.225355#011validation-rmse:0.228656\n",
      "[06:15:30] src/tree/updater_prune.cc:74: tree pruning end, 1 roots, 112 extra nodes, 0 pruned nodes, max_depth=6\n",
      "[15]#011train-rmse:0.2246#011validation-rmse:0.228024\n",
      "[06:15:31] src/tree/updater_prune.cc:74: tree pruning end, 1 roots, 106 extra nodes, 0 pruned nodes, max_depth=6\n",
      "[16]#011train-rmse:0.223435#011validation-rmse:0.227315\n",
      "[06:15:32] src/tree/updater_prune.cc:74: tree pruning end, 1 roots, 124 extra nodes, 0 pruned nodes, max_depth=6\n",
      "[17]#011train-rmse:0.220509#011validation-rmse:0.224269\n",
      "[06:15:33] src/tree/updater_prune.cc:74: tree pruning end, 1 roots, 114 extra nodes, 0 pruned nodes, max_depth=6\n",
      "[18]#011train-rmse:0.218855#011validation-rmse:0.223005\n",
      "[06:15:34] src/tree/updater_prune.cc:74: tree pruning end, 1 roots, 118 extra nodes, 0 pruned nodes, max_depth=6\n",
      "[19]#011train-rmse:0.218242#011validation-rmse:0.222578\n",
      "[06:15:35] src/tree/updater_prune.cc:74: tree pruning end, 1 roots, 120 extra nodes, 0 pruned nodes, max_depth=6\n",
      "[20]#011train-rmse:0.217554#011validation-rmse:0.222116\n",
      "[06:15:36] src/tree/updater_prune.cc:74: tree pruning end, 1 roots, 104 extra nodes, 0 pruned nodes, max_depth=6\n",
      "[21]#011train-rmse:0.216352#011validation-rmse:0.220859\n",
      "[06:15:37] src/tree/updater_prune.cc:74: tree pruning end, 1 roots, 116 extra nodes, 0 pruned nodes, max_depth=6\n",
      "[22]#011train-rmse:0.214965#011validation-rmse:0.219893\n",
      "[06:15:38] src/tree/updater_prune.cc:74: tree pruning end, 1 roots, 122 extra nodes, 0 pruned nodes, max_depth=6\n",
      "[23]#011train-rmse:0.212867#011validation-rmse:0.217984\n",
      "[06:15:39] src/tree/updater_prune.cc:74: tree pruning end, 1 roots, 118 extra nodes, 0 pruned nodes, max_depth=6\n",
      "[24]#011train-rmse:0.212036#011validation-rmse:0.217555\n",
      "[06:15:40] src/tree/updater_prune.cc:74: tree pruning end, 1 roots, 120 extra nodes, 0 pruned nodes, max_depth=6\n",
      "[25]#011train-rmse:0.211142#011validation-rmse:0.217088\n",
      "[06:15:41] src/tree/updater_prune.cc:74: tree pruning end, 1 roots, 86 extra nodes, 0 pruned nodes, max_depth=6\n",
      "[26]#011train-rmse:0.210253#011validation-rmse:0.216458\n",
      "[06:15:42] src/tree/updater_prune.cc:74: tree pruning end, 1 roots, 106 extra nodes, 0 pruned nodes, max_depth=6\n",
      "[27]#011train-rmse:0.209497#011validation-rmse:0.216044\n",
      "[06:15:43] src/tree/updater_prune.cc:74: tree pruning end, 1 roots, 108 extra nodes, 0 pruned nodes, max_depth=6\n",
      "[28]#011train-rmse:0.208817#011validation-rmse:0.215771\n",
      "[06:15:44] src/tree/updater_prune.cc:74: tree pruning end, 1 roots, 104 extra nodes, 0 pruned nodes, max_depth=6\n",
      "[29]#011train-rmse:0.208165#011validation-rmse:0.215364\n",
      "[06:15:45] src/tree/updater_prune.cc:74: tree pruning end, 1 roots, 124 extra nodes, 0 pruned nodes, max_depth=6\n",
      "[30]#011train-rmse:0.207583#011validation-rmse:0.21512\n",
      "[06:15:46] src/tree/updater_prune.cc:74: tree pruning end, 1 roots, 98 extra nodes, 0 pruned nodes, max_depth=6\n",
      "[31]#011train-rmse:0.207117#011validation-rmse:0.214978\n",
      "[06:15:47] src/tree/updater_prune.cc:74: tree pruning end, 1 roots, 96 extra nodes, 0 pruned nodes, max_depth=6\n",
      "[32]#011train-rmse:0.206579#011validation-rmse:0.214439\n",
      "[06:15:48] src/tree/updater_prune.cc:74: tree pruning end, 1 roots, 122 extra nodes, 0 pruned nodes, max_depth=6\n",
      "[33]#011train-rmse:0.205753#011validation-rmse:0.213766\n",
      "[06:15:49] src/tree/updater_prune.cc:74: tree pruning end, 1 roots, 118 extra nodes, 0 pruned nodes, max_depth=6\n",
      "[34]#011train-rmse:0.204994#011validation-rmse:0.213573\n",
      "[06:15:50] src/tree/updater_prune.cc:74: tree pruning end, 1 roots, 78 extra nodes, 0 pruned nodes, max_depth=6\n",
      "[35]#011train-rmse:0.204608#011validation-rmse:0.213798\n",
      "[06:15:51] src/tree/updater_prune.cc:74: tree pruning end, 1 roots, 104 extra nodes, 0 pruned nodes, max_depth=6\n",
      "[36]#011train-rmse:0.204131#011validation-rmse:0.213614\n",
      "[06:15:52] src/tree/updater_prune.cc:74: tree pruning end, 1 roots, 122 extra nodes, 0 pruned nodes, max_depth=6\n",
      "[37]#011train-rmse:0.203166#011validation-rmse:0.21301\n",
      "[06:15:53] src/tree/updater_prune.cc:74: tree pruning end, 1 roots, 114 extra nodes, 0 pruned nodes, max_depth=6\n",
      "[38]#011train-rmse:0.202703#011validation-rmse:0.21302\n",
      "[06:15:54] src/tree/updater_prune.cc:74: tree pruning end, 1 roots, 106 extra nodes, 0 pruned nodes, max_depth=6\n",
      "[39]#011train-rmse:0.202277#011validation-rmse:0.213075\n",
      "[06:15:55] src/tree/updater_prune.cc:74: tree pruning end, 1 roots, 72 extra nodes, 0 pruned nodes, max_depth=6\n",
      "[40]#011train-rmse:0.201421#011validation-rmse:0.212319\n",
      "[06:15:56] src/tree/updater_prune.cc:74: tree pruning end, 1 roots, 72 extra nodes, 0 pruned nodes, max_depth=6\n",
      "[41]#011train-rmse:0.201086#011validation-rmse:0.212242\n",
      "[06:15:57] src/tree/updater_prune.cc:74: tree pruning end, 1 roots, 94 extra nodes, 0 pruned nodes, max_depth=6\n",
      "[42]#011train-rmse:0.200382#011validation-rmse:0.211609\n",
      "[06:15:58] src/tree/updater_prune.cc:74: tree pruning end, 1 roots, 92 extra nodes, 0 pruned nodes, max_depth=6\n",
      "[43]#011train-rmse:0.199897#011validation-rmse:0.211608\n",
      "[06:15:59] src/tree/updater_prune.cc:74: tree pruning end, 1 roots, 100 extra nodes, 0 pruned nodes, max_depth=6\n",
      "[44]#011train-rmse:0.199321#011validation-rmse:0.210981\n",
      "[06:16:00] src/tree/updater_prune.cc:74: tree pruning end, 1 roots, 62 extra nodes, 0 pruned nodes, max_depth=6\n",
      "[45]#011train-rmse:0.199162#011validation-rmse:0.210927\n",
      "[06:16:01] src/tree/updater_prune.cc:74: tree pruning end, 1 roots, 126 extra nodes, 0 pruned nodes, max_depth=6\n",
      "[46]#011train-rmse:0.198417#011validation-rmse:0.210462\n",
      "[06:16:03] src/tree/updater_prune.cc:74: tree pruning end, 1 roots, 104 extra nodes, 0 pruned nodes, max_depth=6\n",
      "[47]#011train-rmse:0.198125#011validation-rmse:0.210623\n",
      "[06:16:04] src/tree/updater_prune.cc:74: tree pruning end, 1 roots, 104 extra nodes, 0 pruned nodes, max_depth=6\n",
      "[48]#011train-rmse:0.197373#011validation-rmse:0.209794\n",
      "[06:16:05] src/tree/updater_prune.cc:74: tree pruning end, 1 roots, 104 extra nodes, 0 pruned nodes, max_depth=6\n",
      "[49]#011train-rmse:0.196807#011validation-rmse:0.20973\n",
      "[06:16:06] src/tree/updater_prune.cc:74: tree pruning end, 1 roots, 118 extra nodes, 0 pruned nodes, max_depth=6\n",
      "[50]#011train-rmse:0.196164#011validation-rmse:0.209333\n",
      "[06:16:07] src/tree/updater_prune.cc:74: tree pruning end, 1 roots, 94 extra nodes, 0 pruned nodes, max_depth=6\n",
      "[51]#011train-rmse:0.19574#011validation-rmse:0.20956\n",
      "[06:16:08] src/tree/updater_prune.cc:74: tree pruning end, 1 roots, 78 extra nodes, 0 pruned nodes, max_depth=6\n",
      "[52]#011train-rmse:0.19532#011validation-rmse:0.209333\n",
      "[06:16:09] src/tree/updater_prune.cc:74: tree pruning end, 1 roots, 60 extra nodes, 0 pruned nodes, max_depth=6\n",
      "[53]#011train-rmse:0.195115#011validation-rmse:0.209367\n",
      "[06:16:10] src/tree/updater_prune.cc:74: tree pruning end, 1 roots, 110 extra nodes, 0 pruned nodes, max_depth=6\n",
      "[54]#011train-rmse:0.194847#011validation-rmse:0.209418\n",
      "[06:16:11] src/tree/updater_prune.cc:74: tree pruning end, 1 roots, 102 extra nodes, 0 pruned nodes, max_depth=6\n",
      "[55]#011train-rmse:0.194535#011validation-rmse:0.209258\n",
      "[06:16:12] src/tree/updater_prune.cc:74: tree pruning end, 1 roots, 86 extra nodes, 0 pruned nodes, max_depth=6\n",
      "[56]#011train-rmse:0.194191#011validation-rmse:0.209323\n",
      "[06:16:13] src/tree/updater_prune.cc:74: tree pruning end, 1 roots, 88 extra nodes, 0 pruned nodes, max_depth=6\n",
      "[57]#011train-rmse:0.19389#011validation-rmse:0.20929\n",
      "[06:16:14] src/tree/updater_prune.cc:74: tree pruning end, 1 roots, 90 extra nodes, 0 pruned nodes, max_depth=6\n",
      "[58]#011train-rmse:0.193573#011validation-rmse:0.209266\n",
      "[06:16:15] src/tree/updater_prune.cc:74: tree pruning end, 1 roots, 90 extra nodes, 0 pruned nodes, max_depth=6\n",
      "[59]#011train-rmse:0.193313#011validation-rmse:0.209162\n",
      "[06:16:16] src/tree/updater_prune.cc:74: tree pruning end, 1 roots, 114 extra nodes, 0 pruned nodes, max_depth=6\n",
      "[60]#011train-rmse:0.192596#011validation-rmse:0.208898\n",
      "[06:16:17] src/tree/updater_prune.cc:74: tree pruning end, 1 roots, 80 extra nodes, 0 pruned nodes, max_depth=6\n",
      "[61]#011train-rmse:0.192258#011validation-rmse:0.208986\n",
      "[06:16:18] src/tree/updater_prune.cc:74: tree pruning end, 1 roots, 110 extra nodes, 0 pruned nodes, max_depth=6\n",
      "[62]#011train-rmse:0.191893#011validation-rmse:0.208957\n",
      "[06:16:19] src/tree/updater_prune.cc:74: tree pruning end, 1 roots, 112 extra nodes, 0 pruned nodes, max_depth=6\n",
      "[63]#011train-rmse:0.191561#011validation-rmse:0.20903\n",
      "[06:16:20] src/tree/updater_prune.cc:74: tree pruning end, 1 roots, 112 extra nodes, 0 pruned nodes, max_depth=6\n",
      "[64]#011train-rmse:0.191194#011validation-rmse:0.209209\n"
     ]
    }
   ],
   "source": [
    "modeling_results = modeler.train_model()"
   ]
  },
  {
   "cell_type": "markdown",
   "metadata": {},
   "source": [
    "#### get existing model uri"
   ]
  },
  {
   "cell_type": "code",
   "execution_count": null,
   "metadata": {},
   "outputs": [],
   "source": [
    "[importlib.reload(module) for module in modules]\n",
    "sage_wallets_config = yaml.safe_load(Path('../config/sage_wallets_config.yaml').read_text(encoding='utf-8'))\n",
    "sage_wallets_modeling_config = yaml.safe_load(Path('../config/sage_wallets_modeling_config.yaml').read_text(encoding='utf-8'))\n",
    "\n",
    "\n",
    "modeler = wm.WalletModeler(sage_wallets_config, s3_uris)\n",
    "date_suffix = date_suffixes[0]\n",
    "\n",
    "\n",
    "model = modeler.load_existing_model()"
   ]
  },
  {
   "cell_type": "code",
   "execution_count": null,
   "metadata": {},
   "outputs": [],
   "source": [
    "predictions = modeler.predict_with_model()"
   ]
  },
  {
   "cell_type": "markdown",
   "metadata": {},
   "source": [
    "### DDA 884 devspace"
   ]
  },
  {
   "cell_type": "code",
   "execution_count": null,
   "metadata": {},
   "outputs": [],
   "source": []
  }
 ],
 "metadata": {
  "kernelspec": {
   "display_name": ".venv",
   "language": "python",
   "name": "python3"
  },
  "language_info": {
   "codemirror_mode": {
    "name": "ipython",
    "version": 3
   },
   "file_extension": ".py",
   "mimetype": "text/x-python",
   "name": "python",
   "nbconvert_exporter": "python",
   "pygments_lexer": "ipython3",
   "version": "3.11.9"
  }
 },
 "nbformat": 4,
 "nbformat_minor": 2
}
