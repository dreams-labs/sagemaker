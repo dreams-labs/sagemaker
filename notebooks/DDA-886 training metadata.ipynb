{
 "cells": [
  {
   "cell_type": "markdown",
   "metadata": {},
   "source": [
    "### start"
   ]
  },
  {
   "cell_type": "code",
   "execution_count": 1,
   "metadata": {},
   "outputs": [
    {
     "name": "stderr",
     "output_type": "stream",
     "text": [
      "\u001b[0m[15/Jul/25 23:27:07] INFO [credentials.load:1352] Found credentials in shared credentials file: ~/.aws/credentials\u001b[0m\n"
     ]
    },
    {
     "name": "stdout",
     "output_type": "stream",
     "text": [
      "sagemaker.config INFO - Not applying SDK defaults from location: /Library/Application Support/sagemaker/config.yaml\n",
      "sagemaker.config INFO - Not applying SDK defaults from location: /Users/jeremymeadow/Library/Application Support/sagemaker/config.yaml\n"
     ]
    },
    {
     "name": "stderr",
     "output_type": "stream",
     "text": [
      "\u001b[0m[15/Jul/25 23:27:07] INFO [utils.export_code:1667] Consolidation complete. All files are saved in temp/sagemaker_code.py\u001b[0m\n",
      "\u001b[92m[15/Jul/25 23:27:07] MILESTONE [2567990582.<module>:115] Good morning, let's get to work\u001b[0m\n"
     ]
    }
   ],
   "source": [
    "# pyright: reportMissingImports=false\n",
    "# pyright: reportMissingModuleSource=false\n",
    "\n",
    "import uuid\n",
    "import random\n",
    "import hashlib\n",
    "import os\n",
    "import sys\n",
    "import gc\n",
    "import time\n",
    "import copy\n",
    "import logging\n",
    "import re\n",
    "from itertools import chain,combinations\n",
    "import pdb\n",
    "import math\n",
    "from pathlib import Path\n",
    "import pickle\n",
    "import cloudpickle\n",
    "import datetime\n",
    "from datetime import datetime,timedelta\n",
    "import json\n",
    "import warnings\n",
    "import yaml\n",
    "from typing import Dict,Union,List,Any,Tuple\n",
    "import pytest\n",
    "import importlib\n",
    "from dotenv import load_dotenv\n",
    "import pandas as pd\n",
    "import numpy as np\n",
    "import IPython\n",
    "import requests\n",
    "import warnings\n",
    "import boto3\n",
    "import matplotlib as plt\n",
    "\n",
    "# load_dotenv(Path(\"../../../Local/.env\"))\n",
    "\n",
    "# Custom format function for displaying |numbers/\n",
    "pd.set_option('display.float_format', lambda x: f'{x:.12g}')\n",
    "# pd.reset_option('display.float_format')\n",
    "\n",
    "# Suppress warnings\n",
    "os.environ['PYDEVD_DISABLE_FILE_VALIDATION'] = '1'\n",
    "warnings.filterwarnings('ignore', message='.*frozen modules.*')\n",
    "warnings.filterwarnings(\"ignore\", message=\"MallocStackLogging\")\n",
    "\n",
    "# silence pygame donation request\n",
    "os.environ['PYGAME_HIDE_SUPPORT_PROMPT'] = \"hide\"\n",
    "os.environ['LOGGING_FILE'] = \"../../../Local/logs/wallet_modeling.log\"\n",
    "os.environ['NOTIFICATION_SOUNDS_DIR'] = \"../../../Local\"\n",
    "\n",
    "# Dark mode charts\n",
    "plt.rcParams['figure.facecolor'] = '#181818'  # Custom background color (dark gray in this case)\n",
    "plt.rcParams['axes.facecolor'] = '#181818'\n",
    "plt.rcParams['text.color'] = '#afc6ba'\n",
    "plt.rcParams['axes.labelcolor'] = '#afc6ba'\n",
    "plt.rcParams['xtick.color'] = '#afc6ba'\n",
    "plt.rcParams['ytick.color'] = '#afc6ba'\n",
    "plt.rcParams['axes.titlecolor'] = '#afc6ba'\n",
    "plt.rcParams['text.usetex'] = False\n",
    "plt.rcParams['mathtext.default'] = 'regular'\n",
    "\n",
    "import utils as u\n",
    "# Set the custom error handler\n",
    "ipython = IPython.get_ipython()\n",
    "# ipython.set_custom_exc((Exception,), u.notify_on_failure)\n",
    "\n",
    "player = u.AmbientPlayer()\n",
    "player.stop_all_players()\n",
    "\n",
    "# configure logger\n",
    "logger = u.setup_notebook_logger('../logs/notebook_logs.log')\n",
    "logger.setLevel(logging.INFO)\n",
    "\n",
    "# import local modules\n",
    "# pyright: reportMissingImports=false\n",
    "sys.path.append('..//src')\n",
    "\n",
    "import sagemaker_wallets.wallet_modeler as wm\n",
    "import sagemaker_wallets.wallet_preprocessor as wp\n",
    "import sagemaker_wallets.workflow_orchestrator as wo\n",
    "import sage_utils.config_validation as ucv\n",
    "import utils as u\n",
    "from utils import ConfigError\n",
    "\n",
    "# reload all modules\n",
    "modules = [\n",
    "    wm, wp, wo,\n",
    "    u, ucv\n",
    "]\n",
    "\n",
    "from IPython.core import ultratb\n",
    "ultratb.VerboseTB._tb_highlight = \"bg:#b45827\"\n",
    "\n",
    "\n",
    "# load all configs\n",
    "sage_wallets_config = yaml.safe_load(Path('../config/sage_wallets_config.yaml').read_text(encoding='utf-8'))\n",
    "sage_wallets_modeling_config = yaml.safe_load(Path('../config/sage_wallets_modeling_config.yaml').read_text(encoding='utf-8'))\n",
    "\n",
    "\n",
    "u.export_code(\n",
    "    code_directories=[\n",
    "        'sagemaker_wallets',\n",
    "        # 'sage_utils',\n",
    "    ],\n",
    "    # include_config = True,\n",
    "    # ipynb_notebook = 'DDA-769 coin model score dist toggle.ipynb'\n",
    "    output_file=\"temp/sagemaker_code.py\"\n",
    ")\n",
    "\n",
    "[importlib.reload(module) for module in modules]\n",
    "u.notify('retro')\n",
    "\n",
    "logger.milestone(\"Good morning, let's get to work\")"
   ]
  },
  {
   "cell_type": "markdown",
   "metadata": {},
   "source": [
    "# Initial ETLs"
   ]
  },
  {
   "cell_type": "markdown",
   "metadata": {},
   "source": [
    "# Code begins"
   ]
  },
  {
   "cell_type": "markdown",
   "metadata": {},
   "source": [
    "### Initiate orchestrator"
   ]
  },
  {
   "cell_type": "code",
   "execution_count": 2,
   "metadata": {},
   "outputs": [],
   "source": [
    "[importlib.reload(module) for module in modules]\n",
    "sage_wallets_config = yaml.safe_load(Path('../config/sage_wallets_config.yaml').read_text(encoding='utf-8'))\n",
    "sage_wallets_modeling_config = yaml.safe_load(Path('../config/sage_wallets_modeling_config.yaml').read_text(encoding='utf-8'))\n",
    "\n",
    "\n",
    "workflow_orch = wo.WalletWorkflowOrchestrator(sage_wallets_config)"
   ]
  },
  {
   "cell_type": "markdown",
   "metadata": {},
   "source": [
    "### Load, preprocess, and upload data"
   ]
  },
  {
   "cell_type": "markdown",
   "metadata": {},
   "source": [
    "#### load data"
   ]
  },
  {
   "cell_type": "code",
   "execution_count": 3,
   "metadata": {},
   "outputs": [
    {
     "name": "stderr",
     "output_type": "stream",
     "text": [
      "\u001b[92m[15/Jul/25 23:27:08] MILESTONE [workflow_orchestrator.load_training_data:109] <PROD> Loading training data for 2 periods: ['231107', '240306']\u001b[0m\n",
      "\u001b[0m[15/Jul/25 23:27:08] INFO [workflow_orchestrator.load_training_data:127] Training data loaded successfully: 8 splits, 398,964 total rows\u001b[0m\n"
     ]
    }
   ],
   "source": [
    "[importlib.reload(module) for module in modules]\n",
    "sage_wallets_config = yaml.safe_load(Path('../config/sage_wallets_config.yaml').read_text(encoding='utf-8'))\n",
    "sage_wallets_modeling_config = yaml.safe_load(Path('../config/sage_wallets_modeling_config.yaml').read_text(encoding='utf-8'))\n",
    "\n",
    "date_suffixes = [\n",
    "    '231107',\n",
    "    '240306'\n",
    "]\n",
    "workflow_orch.load_training_data(date_suffixes)"
   ]
  },
  {
   "cell_type": "markdown",
   "metadata": {},
   "source": [
    "##### inspect features"
   ]
  },
  {
   "cell_type": "code",
   "execution_count": null,
   "metadata": {},
   "outputs": [],
   "source": [
    "# # Create combined NaN count and describe statistics\n",
    "# nan_counts = workflow_orch.training_data['x_train'].isna().sum()\n",
    "# describe_stats = workflow_orch.training_data['x_train'].describe().T\n",
    "\n",
    "# # Combine into single DataFrame\n",
    "# combined_stats = pd.concat([\n",
    "#     nan_counts.rename('nan_count'),\n",
    "#     describe_stats\n",
    "# ], axis=1).sort_index()\n",
    "\n",
    "# u.display_full(combined_stats.sort_index())"
   ]
  },
  {
   "cell_type": "markdown",
   "metadata": {},
   "source": [
    "#### preprocess data"
   ]
  },
  {
   "cell_type": "code",
   "execution_count": 4,
   "metadata": {},
   "outputs": [
    {
     "name": "stderr",
     "output_type": "stream",
     "text": [
      "\u001b[0m[15/Jul/25 23:27:13] INFO [wallet_preprocessor.preprocess_training_data:51] Starting preprocessing for SageMaker XGBoost compatibility...\u001b[0m\n",
      "\u001b[0m[15/Jul/25 23:27:13] INFO [wallet_preprocessor._handle_missing_values:186] Filled NaN values in 100 columns for x_train.\u001b[0m\n",
      "\u001b[0m[15/Jul/25 23:27:13] INFO [wallet_preprocessor._combine_x_y_data:283] Merged y df with target var cw_crypto_net_gain/crypto_inflows/winsorized with X data.\u001b[0m\n",
      "\u001b[0m[15/Jul/25 23:27:13] INFO [wallet_preprocessor.preprocess_training_data:86] Preprocessed train: 87,727 rows × 222 cols.\u001b[0m\n",
      "\u001b[0m[15/Jul/25 23:27:13] INFO [wallet_preprocessor._handle_missing_values:186] Filled NaN values in 100 columns for x_test.\u001b[0m\n",
      "\u001b[0m[15/Jul/25 23:27:13] INFO [wallet_preprocessor._combine_x_y_data:283] Merged y df with target var cw_crypto_net_gain/crypto_inflows/winsorized with X data.\u001b[0m\n",
      "\u001b[0m[15/Jul/25 23:27:13] INFO [wallet_preprocessor.preprocess_training_data:86] Preprocessed test: 16,450 rows × 222 cols.\u001b[0m\n",
      "\u001b[0m[15/Jul/25 23:27:13] INFO [wallet_preprocessor._handle_missing_values:186] Filled NaN values in 100 columns for x_eval.\u001b[0m\n",
      "\u001b[0m[15/Jul/25 23:27:13] INFO [wallet_preprocessor._combine_x_y_data:283] Merged y df with target var cw_crypto_net_gain/crypto_inflows/winsorized with X data.\u001b[0m\n",
      "\u001b[0m[15/Jul/25 23:27:13] INFO [wallet_preprocessor.preprocess_training_data:86] Preprocessed eval: 5,485 rows × 222 cols.\u001b[0m\n",
      "\u001b[0m[15/Jul/25 23:27:13] INFO [wallet_preprocessor._handle_missing_values:186] Filled NaN values in 100 columns for x_val.\u001b[0m\n",
      "\u001b[0m[15/Jul/25 23:27:13] INFO [wallet_preprocessor._combine_x_y_data:283] Merged y df with target var cw_crypto_net_gain/crypto_inflows/winsorized with X data.\u001b[0m\n",
      "\u001b[0m[15/Jul/25 23:27:13] INFO [wallet_preprocessor.preprocess_training_data:86] Preprocessed val: 89,820 rows × 222 cols.\u001b[0m\n"
     ]
    }
   ],
   "source": [
    "preprocessor = wp.SageWalletsPreprocessor(sage_wallets_config)\n",
    "preprocessed_data = preprocessor.preprocess_training_data(workflow_orch.training_data)"
   ]
  },
  {
   "cell_type": "markdown",
   "metadata": {},
   "source": [
    "#### upload data"
   ]
  },
  {
   "cell_type": "code",
   "execution_count": 5,
   "metadata": {},
   "outputs": [
    {
     "name": "stderr",
     "output_type": "stream",
     "text": [
      "\u001b[92m[15/Jul/25 23:27:18] MILESTONE [workflow_orchestrator._confirm_upload:453] <PROD> Ready to upload 337.9 MB of preprocessed training data across 2 date folders.\u001b[0m\n",
      "\u001b[0m[15/Jul/25 23:27:18] INFO [credentials.load:1352] Found credentials in shared credentials file: ~/.aws/credentials\u001b[0m\n",
      "\u001b[92m[15/Jul/25 23:27:18] MILESTONE [workflow_orchestrator._confirm_upload:468] This upload will overwrite existing files.\u001b[0m\n",
      "\u001b[0m[15/Jul/25 23:27:18] INFO [workflow_orchestrator._confirm_upload:472] Target variable: cw_crypto_net_gain_crypto_inflows_winsorized\u001b[0m\n",
      "\u001b[0m[15/Jul/25 23:27:18] INFO [workflow_orchestrator._confirm_upload:473] Target: s3://wallet-training-data/training-data-preprocessed/dda-897/[DATE]/\u001b[0m\n",
      "\u001b[0m[15/Jul/25 23:27:20] INFO [workflow_orchestrator._confirm_upload:479] Upload cancelled\u001b[0m\n"
     ]
    }
   ],
   "source": [
    "# Upload and retrieve URIs\n",
    "workflow_orch.upload_training_data(preprocessed_data, overwrite_existing=True)\n",
    "s3_uris = workflow_orch.retrieve_training_data_uris(date_suffixes)"
   ]
  },
  {
   "cell_type": "markdown",
   "metadata": {},
   "source": [
    "### Train Model"
   ]
  },
  {
   "cell_type": "markdown",
   "metadata": {},
   "source": [
    "#### retrieve file uris"
   ]
  },
  {
   "cell_type": "code",
   "execution_count": 6,
   "metadata": {},
   "outputs": [
    {
     "data": {
      "text/plain": [
       "{'231107': {'train': 's3://wallet-training-data/training-data-preprocessed/dda-897/231107/train_cw_crypto_net_gain_crypto_inflows_winsorized.csv',\n",
       "  'test': 's3://wallet-training-data/training-data-preprocessed/dda-897/231107/test_cw_crypto_net_gain_crypto_inflows_winsorized.csv',\n",
       "  'eval': 's3://wallet-training-data/training-data-preprocessed/dda-897/231107/eval_cw_crypto_net_gain_crypto_inflows_winsorized.csv',\n",
       "  'val': 's3://wallet-training-data/training-data-preprocessed/dda-897/231107/val_cw_crypto_net_gain_crypto_inflows_winsorized.csv'},\n",
       " '240306': {'train': 's3://wallet-training-data/training-data-preprocessed/dda-897/240306/train_cw_crypto_net_gain_crypto_inflows_winsorized.csv',\n",
       "  'test': 's3://wallet-training-data/training-data-preprocessed/dda-897/240306/test_cw_crypto_net_gain_crypto_inflows_winsorized.csv',\n",
       "  'eval': 's3://wallet-training-data/training-data-preprocessed/dda-897/240306/eval_cw_crypto_net_gain_crypto_inflows_winsorized.csv',\n",
       "  'val': 's3://wallet-training-data/training-data-preprocessed/dda-897/240306/val_cw_crypto_net_gain_crypto_inflows_winsorized.csv'}}"
      ]
     },
     "execution_count": 6,
     "metadata": {},
     "output_type": "execute_result"
    }
   ],
   "source": [
    "date_suffixes = [\n",
    "    '231107',\n",
    "    '240306'\n",
    "]\n",
    "\n",
    "# Generate URIs for specific dates without any prior setup\n",
    "s3_uris = workflow_orch.retrieve_training_data_uris(date_suffixes)\n",
    "s3_uris"
   ]
  },
  {
   "cell_type": "markdown",
   "metadata": {},
   "source": [
    "#### train model"
   ]
  },
  {
   "cell_type": "code",
   "execution_count": 7,
   "metadata": {},
   "outputs": [],
   "source": [
    "[importlib.reload(module) for module in modules]\n",
    "sage_wallets_config = yaml.safe_load(Path('../config/sage_wallets_config.yaml').read_text(encoding='utf-8'))\n",
    "sage_wallets_modeling_config = yaml.safe_load(Path('../config/sage_wallets_modeling_config.yaml').read_text(encoding='utf-8'))\n",
    "\n",
    "date_suffix = date_suffixes[0]\n",
    "\n",
    "modeler = wm.WalletModeler(\n",
    "    sage_wallets_config,\n",
    "    sage_wallets_modeling_config,\n",
    "    s3_uris,\n",
    "    date_suffix\n",
    ")\n",
    "\n"
   ]
  },
  {
   "cell_type": "code",
   "execution_count": null,
   "metadata": {},
   "outputs": [
    {
     "name": "stderr",
     "output_type": "stream",
     "text": [
      "\u001b[0m[15/Jul/25 23:27:30] INFO [wallet_modeler.train_model:82] Starting SageMaker training...\u001b[0m\n",
      "\u001b[0m[15/Jul/25 23:27:30] INFO [image_uris._processor:530] Ignoring unnecessary instance type: None.\u001b[0m\n",
      "\u001b[0m[15/Jul/25 23:27:30] INFO [wallet_modeler.train_model:162] Launching training job: wallet-xgb-dda-897-231107-20250715-232730\u001b[0m\n",
      "\u001b[0m[15/Jul/25 23:27:30] INFO [wallet_modeler.train_model:163] Model output path: s3://wallet-training-data/sagemaker-models/dda-897/\u001b[0m\n",
      "\u001b[0m[15/Jul/25 23:27:30] INFO [telemetry_logging.wrapper:91] SageMaker Python SDK will collect telemetry to help us better understand our user's needs, diagnose issues, and deliver additional features.\n",
      "To opt out of telemetry, please disable via TelemetryOptOut parameter in SDK defaults config. For more information, refer to https://sagemaker.readthedocs.io/en/stable/overview.html#configuring-and-using-defaults-with-the-sagemaker-python-sdk.\u001b[0m\n",
      "\u001b[0m[15/Jul/25 23:27:30] INFO [session.submit:1053] Creating training-job with name: wallet-xgb-dda-897-231107-20250715-232730\u001b[0m\n"
     ]
    },
    {
     "name": "stdout",
     "output_type": "stream",
     "text": [
      "2025-07-16 06:27:32 Starting - Starting the training job...\n",
      "2025-07-16 06:27:46 Starting - Preparing the instances for training...\n",
      "2025-07-16 06:28:08 Downloading - Downloading input data...\n",
      "2025-07-16 06:28:58 Downloading - Downloading the training image.."
     ]
    }
   ],
   "source": [
    "modeling_results = modeler.train_model()"
   ]
  },
  {
   "cell_type": "markdown",
   "metadata": {},
   "source": [
    "#### get existing model uri"
   ]
  },
  {
   "cell_type": "code",
   "execution_count": null,
   "metadata": {},
   "outputs": [],
   "source": [
    "[importlib.reload(module) for module in modules]\n",
    "sage_wallets_config = yaml.safe_load(Path('../config/sage_wallets_config.yaml').read_text(encoding='utf-8'))\n",
    "sage_wallets_modeling_config = yaml.safe_load(Path('../config/sage_wallets_modeling_config.yaml').read_text(encoding='utf-8'))\n",
    "\n",
    "\n",
    "date_suffix = date_suffixes[0]\n",
    "modeler = wm.WalletModeler(\n",
    "    sage_wallets_config,\n",
    "    sage_wallets_modeling_config,\n",
    "    s3_uris,\n",
    "    date_suffix\n",
    ")\n",
    "\n",
    "\n",
    "model = modeler.load_existing_model()"
   ]
  },
  {
   "cell_type": "code",
   "execution_count": null,
   "metadata": {},
   "outputs": [],
   "source": [
    "predictions = modeler.predict_with_model()"
   ]
  },
  {
   "cell_type": "markdown",
   "metadata": {},
   "source": [
    "### DDA 884 devspace"
   ]
  },
  {
   "cell_type": "code",
   "execution_count": null,
   "metadata": {},
   "outputs": [],
   "source": []
  }
 ],
 "metadata": {
  "kernelspec": {
   "display_name": ".venv",
   "language": "python",
   "name": "python3"
  },
  "language_info": {
   "codemirror_mode": {
    "name": "ipython",
    "version": 3
   },
   "file_extension": ".py",
   "mimetype": "text/x-python",
   "name": "python",
   "nbconvert_exporter": "python",
   "pygments_lexer": "ipython3",
   "version": "3.11.9"
  }
 },
 "nbformat": 4,
 "nbformat_minor": 2
}
