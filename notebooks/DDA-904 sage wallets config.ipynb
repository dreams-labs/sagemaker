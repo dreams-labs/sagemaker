{
 "cells": [
  {
   "cell_type": "markdown",
   "metadata": {},
   "source": [
    "### start"
   ]
  },
  {
   "cell_type": "code",
   "execution_count": 20,
   "metadata": {},
   "outputs": [
    {
     "name": "stderr",
     "output_type": "stream",
     "text": [
      "\u001b[0m[15/Jul/25 21:59:50] INFO [utils.export_code:1667] Consolidation complete. All files are saved in temp/sagemaker_code.py\u001b[0m\n",
      "\u001b[92m[15/Jul/25 21:59:50] MILESTONE [366077203.<module>:114] Good morning, let's get to work\u001b[0m\n"
     ]
    }
   ],
   "source": [
    "# pyright: reportMissingImports=false\n",
    "# pyright: reportMissingModuleSource=false\n",
    "\n",
    "import uuid\n",
    "import random\n",
    "import hashlib\n",
    "import os\n",
    "import sys\n",
    "import gc\n",
    "import time\n",
    "import copy\n",
    "import logging\n",
    "import re\n",
    "from itertools import chain,combinations\n",
    "import pdb\n",
    "import math\n",
    "from pathlib import Path\n",
    "import pickle\n",
    "import cloudpickle\n",
    "import datetime\n",
    "from datetime import datetime,timedelta\n",
    "import json\n",
    "import warnings\n",
    "import yaml\n",
    "from typing import Dict,Union,List,Any,Tuple\n",
    "import pytest\n",
    "import importlib\n",
    "from dotenv import load_dotenv\n",
    "import pandas as pd\n",
    "import numpy as np\n",
    "import IPython\n",
    "import requests\n",
    "import warnings\n",
    "import boto3\n",
    "import matplotlib as plt\n",
    "\n",
    "# load_dotenv(Path(\"../../../Local/.env\"))\n",
    "\n",
    "# Custom format function for displaying |numbers/\n",
    "pd.set_option('display.float_format', lambda x: f'{x:.12g}')\n",
    "# pd.reset_option('display.float_format')\n",
    "\n",
    "# Suppress warnings\n",
    "os.environ['PYDEVD_DISABLE_FILE_VALIDATION'] = '1'\n",
    "warnings.filterwarnings('ignore', message='.*frozen modules.*')\n",
    "warnings.filterwarnings(\"ignore\", message=\"MallocStackLogging\")\n",
    "\n",
    "# silence pygame donation request\n",
    "os.environ['PYGAME_HIDE_SUPPORT_PROMPT'] = \"hide\"\n",
    "os.environ['LOGGING_FILE'] = \"../../../Local/logs/wallet_modeling.log\"\n",
    "os.environ['NOTIFICATION_SOUNDS_DIR'] = \"../../../Local\"\n",
    "\n",
    "# Dark mode charts\n",
    "plt.rcParams['figure.facecolor'] = '#181818'  # Custom background color (dark gray in this case)\n",
    "plt.rcParams['axes.facecolor'] = '#181818'\n",
    "plt.rcParams['text.color'] = '#afc6ba'\n",
    "plt.rcParams['axes.labelcolor'] = '#afc6ba'\n",
    "plt.rcParams['xtick.color'] = '#afc6ba'\n",
    "plt.rcParams['ytick.color'] = '#afc6ba'\n",
    "plt.rcParams['axes.titlecolor'] = '#afc6ba'\n",
    "plt.rcParams['text.usetex'] = False\n",
    "plt.rcParams['mathtext.default'] = 'regular'\n",
    "\n",
    "import utils as u\n",
    "# Set the custom error handler\n",
    "ipython = IPython.get_ipython()\n",
    "# ipython.set_custom_exc((Exception,), u.notify_on_failure)\n",
    "\n",
    "player = u.AmbientPlayer()\n",
    "player.stop_all_players()\n",
    "\n",
    "# configure logger\n",
    "logger = u.setup_notebook_logger('../logs/notebook_logs.log')\n",
    "logger.setLevel(logging.INFO)\n",
    "\n",
    "# import local modules\n",
    "# pyright: reportMissingImports=false\n",
    "sys.path.append('..//src')\n",
    "\n",
    "import sagemaker_wallets.wallet_modeler as wm\n",
    "import sagemaker_wallets.wallet_preprocessor as wp\n",
    "import sagemaker_wallets.workflow_orchestrator as wo\n",
    "import sage_utils.config_validation as ucv\n",
    "import utils as u\n",
    "from utils import ConfigError\n",
    "\n",
    "# reload all modules\n",
    "modules = [\n",
    "    wm, wp, wo,\n",
    "    u, ucv\n",
    "]\n",
    "\n",
    "from IPython.core import ultratb\n",
    "ultratb.VerboseTB._tb_highlight = \"bg:#b45827\"\n",
    "\n",
    "\n",
    "# load all configs\n",
    "sage_wallets_config = yaml.safe_load(Path('../config/sage_wallets_config.yaml').read_text(encoding='utf-8'))\n",
    "sage_wallets_modeling_config = yaml.safe_load(Path('../config/sage_wallets_modeling_config.yaml').read_text(encoding='utf-8'))\n",
    "\n",
    "\n",
    "u.export_code(\n",
    "    code_directories=[\n",
    "        'sagemaker_wallets',\n",
    "    ],\n",
    "    # include_config = True,\n",
    "    # ipynb_notebook = 'DDA-769 coin model score dist toggle.ipynb'\n",
    "    output_file=\"temp/sagemaker_code.py\"\n",
    ")\n",
    "\n",
    "[importlib.reload(module) for module in modules]\n",
    "u.notify('retro')\n",
    "\n",
    "logger.milestone(\"Good morning, let's get to work\")"
   ]
  },
  {
   "cell_type": "markdown",
   "metadata": {},
   "source": [
    "# Initial ETLs"
   ]
  },
  {
   "cell_type": "markdown",
   "metadata": {},
   "source": [
    "# Code begins"
   ]
  },
  {
   "cell_type": "markdown",
   "metadata": {},
   "source": [
    "### Initiate orchestrator"
   ]
  },
  {
   "cell_type": "code",
   "execution_count": 21,
   "metadata": {},
   "outputs": [],
   "source": [
    "[importlib.reload(module) for module in modules]\n",
    "sage_wallets_config = yaml.safe_load(Path('../config/sage_wallets_config.yaml').read_text(encoding='utf-8'))\n",
    "sage_wallets_modeling_config = yaml.safe_load(Path('../config/sage_wallets_modeling_config.yaml').read_text(encoding='utf-8'))\n",
    "\n",
    "\n",
    "workflow_orch = wo.WalletWorkflowOrchestrator(sage_wallets_config)"
   ]
  },
  {
   "cell_type": "markdown",
   "metadata": {},
   "source": [
    "### Load, preprocess, and upload data"
   ]
  },
  {
   "cell_type": "markdown",
   "metadata": {},
   "source": [
    "#### load data"
   ]
  },
  {
   "cell_type": "code",
   "execution_count": 22,
   "metadata": {},
   "outputs": [
    {
     "name": "stderr",
     "output_type": "stream",
     "text": [
      "\u001b[92m[15/Jul/25 21:59:53] MILESTONE [workflow_orchestrator.load_training_data:94] <DEV> Loading training data for 2 periods: ['231107', '240306']\u001b[0m\n",
      "\u001b[0m[15/Jul/25 21:59:53] INFO [workflow_orchestrator.load_training_data:112] Training data loaded successfully: 8 splits, 16,000 total rows\u001b[0m\n"
     ]
    }
   ],
   "source": [
    "[importlib.reload(module) for module in modules]\n",
    "sage_wallets_config = yaml.safe_load(Path('../config/sage_wallets_config.yaml').read_text(encoding='utf-8'))\n",
    "sage_wallets_modeling_config = yaml.safe_load(Path('../config/sage_wallets_modeling_config.yaml').read_text(encoding='utf-8'))\n",
    "\n",
    "date_suffixes = [\n",
    "    '231107',\n",
    "    '240306'\n",
    "]\n",
    "workflow_orch.load_training_data(date_suffixes)"
   ]
  },
  {
   "cell_type": "markdown",
   "metadata": {},
   "source": [
    "##### inspect features"
   ]
  },
  {
   "cell_type": "code",
   "execution_count": null,
   "metadata": {},
   "outputs": [],
   "source": [
    "# Create combined NaN count and describe statistics\n",
    "nan_counts = workflow_orch.training_data['x_train'].isna().sum()\n",
    "describe_stats = workflow_orch.training_data['x_train'].describe().T\n",
    "\n",
    "# Combine into single DataFrame\n",
    "combined_stats = pd.concat([\n",
    "    nan_counts.rename('nan_count'),\n",
    "    describe_stats\n",
    "], axis=1).sort_index()\n",
    "\n",
    "u.display_full(combined_stats.sort_index())"
   ]
  },
  {
   "cell_type": "markdown",
   "metadata": {},
   "source": [
    "#### preprocess data"
   ]
  },
  {
   "cell_type": "code",
   "execution_count": 23,
   "metadata": {},
   "outputs": [
    {
     "name": "stderr",
     "output_type": "stream",
     "text": [
      "\u001b[0m[15/Jul/25 21:59:56] INFO [wallet_preprocessor.preprocess_training_data:42] Starting preprocessing for SageMaker XGBoost compatibility...\u001b[0m\n",
      "\u001b[0m[15/Jul/25 21:59:56] INFO [wallet_preprocessor._handle_missing_values:165] Filled NaN values in 100 columns for x_train.\u001b[0m\n",
      "\u001b[0m[15/Jul/25 21:59:56] INFO [wallet_preprocessor._combine_x_y_data:259] Merged y df with target var cw_crypto_net_gain/crypto_inflows/winsorized with X data.\u001b[0m\n",
      "\u001b[0m[15/Jul/25 21:59:56] INFO [wallet_preprocessor.preprocess_training_data:77] Preprocessed train: 2,000 rows × 222 cols.\u001b[0m\n",
      "\u001b[0m[15/Jul/25 21:59:56] INFO [wallet_preprocessor._handle_missing_values:165] Filled NaN values in 100 columns for x_test.\u001b[0m\n",
      "\u001b[0m[15/Jul/25 21:59:56] INFO [wallet_preprocessor._combine_x_y_data:259] Merged y df with target var cw_crypto_net_gain/crypto_inflows/winsorized with X data.\u001b[0m\n",
      "\u001b[0m[15/Jul/25 21:59:56] INFO [wallet_preprocessor.preprocess_training_data:77] Preprocessed test: 2,000 rows × 222 cols.\u001b[0m\n",
      "\u001b[0m[15/Jul/25 21:59:56] INFO [wallet_preprocessor._handle_missing_values:165] Filled NaN values in 100 columns for x_eval.\u001b[0m\n",
      "\u001b[0m[15/Jul/25 21:59:56] INFO [wallet_preprocessor._combine_x_y_data:259] Merged y df with target var cw_crypto_net_gain/crypto_inflows/winsorized with X data.\u001b[0m\n",
      "\u001b[0m[15/Jul/25 21:59:56] INFO [wallet_preprocessor.preprocess_training_data:77] Preprocessed eval: 2,000 rows × 222 cols.\u001b[0m\n",
      "\u001b[0m[15/Jul/25 21:59:56] INFO [wallet_preprocessor._handle_missing_values:165] Filled NaN values in 100 columns for x_val.\u001b[0m\n",
      "\u001b[0m[15/Jul/25 21:59:56] INFO [wallet_preprocessor._combine_x_y_data:259] Merged y df with target var cw_crypto_net_gain/crypto_inflows/winsorized with X data.\u001b[0m\n",
      "\u001b[0m[15/Jul/25 21:59:56] INFO [wallet_preprocessor.preprocess_training_data:77] Preprocessed val: 2,000 rows × 222 cols.\u001b[0m\n"
     ]
    }
   ],
   "source": [
    "preprocessor = wp.SageWalletsPreprocessor(sage_wallets_config)\n",
    "preprocessed_data = preprocessor.preprocess_training_data(workflow_orch.training_data)"
   ]
  },
  {
   "cell_type": "markdown",
   "metadata": {},
   "source": [
    "#### upload data"
   ]
  },
  {
   "cell_type": "code",
   "execution_count": 24,
   "metadata": {},
   "outputs": [
    {
     "name": "stderr",
     "output_type": "stream",
     "text": [
      "\u001b[0m[15/Jul/25 21:59:59] INFO [credentials.load:1352] Found credentials in shared credentials file: ~/.aws/credentials\u001b[0m\n",
      "\u001b[0m[15/Jul/25 21:59:59] INFO [workflow_orchestrator.upload_training_data:155] <DEV> Ready to upload 8 preprocessed training data files across 2 date folders.\u001b[0m\n",
      "\u001b[0m[15/Jul/25 21:59:59] INFO [workflow_orchestrator.upload_training_data:157] Target variable: cw_crypto_net_gain_crypto_inflows_winsorized\u001b[0m\n",
      "\u001b[0m[15/Jul/25 21:59:59] INFO [workflow_orchestrator.upload_training_data:158] Target: s3://wallet-training-data/training-data-preprocessed/dda-897_dev/[DATE]/\u001b[0m\n",
      "\u001b[0m[15/Jul/25 22:00:01] INFO [workflow_orchestrator.upload_training_data:190] Uploading train_cw_crypto_net_gain_crypto_inflows_winsorized for 231107: 2,000 rows\u001b[0m\n",
      "\u001b[0m[15/Jul/25 22:00:02] INFO [workflow_orchestrator.upload_training_data:199] Uploaded train to s3://wallet-training-data/training-data-preprocessed/dda-897_dev/231107/train_cw_crypto_net_gain_crypto_inflows_winsorized.csv\u001b[0m\n",
      "\u001b[0m[15/Jul/25 22:00:02] INFO [workflow_orchestrator.upload_training_data:190] Uploading test_cw_crypto_net_gain_crypto_inflows_winsorized for 231107: 2,000 rows\u001b[0m\n",
      "\u001b[0m[15/Jul/25 22:00:02] INFO [workflow_orchestrator.upload_training_data:199] Uploaded test to s3://wallet-training-data/training-data-preprocessed/dda-897_dev/231107/test_cw_crypto_net_gain_crypto_inflows_winsorized.csv\u001b[0m\n",
      "\u001b[0m[15/Jul/25 22:00:02] INFO [workflow_orchestrator.upload_training_data:190] Uploading eval_cw_crypto_net_gain_crypto_inflows_winsorized for 231107: 2,000 rows\u001b[0m\n",
      "\u001b[0m[15/Jul/25 22:00:03] INFO [workflow_orchestrator.upload_training_data:199] Uploaded eval to s3://wallet-training-data/training-data-preprocessed/dda-897_dev/231107/eval_cw_crypto_net_gain_crypto_inflows_winsorized.csv\u001b[0m\n",
      "\u001b[0m[15/Jul/25 22:00:03] INFO [workflow_orchestrator.upload_training_data:190] Uploading val_cw_crypto_net_gain_crypto_inflows_winsorized for 231107: 2,000 rows\u001b[0m\n",
      "\u001b[0m[15/Jul/25 22:00:03] INFO [workflow_orchestrator.upload_training_data:199] Uploaded val to s3://wallet-training-data/training-data-preprocessed/dda-897_dev/231107/val_cw_crypto_net_gain_crypto_inflows_winsorized.csv\u001b[0m\n",
      "\u001b[0m[15/Jul/25 22:00:03] INFO [workflow_orchestrator.upload_training_data:190] Uploading train_cw_crypto_net_gain_crypto_inflows_winsorized for 240306: 2,000 rows\u001b[0m\n",
      "\u001b[0m[15/Jul/25 22:00:03] INFO [workflow_orchestrator.upload_training_data:199] Uploaded train to s3://wallet-training-data/training-data-preprocessed/dda-897_dev/240306/train_cw_crypto_net_gain_crypto_inflows_winsorized.csv\u001b[0m\n",
      "\u001b[0m[15/Jul/25 22:00:03] INFO [workflow_orchestrator.upload_training_data:190] Uploading test_cw_crypto_net_gain_crypto_inflows_winsorized for 240306: 2,000 rows\u001b[0m\n",
      "\u001b[0m[15/Jul/25 22:00:04] INFO [workflow_orchestrator.upload_training_data:199] Uploaded test to s3://wallet-training-data/training-data-preprocessed/dda-897_dev/240306/test_cw_crypto_net_gain_crypto_inflows_winsorized.csv\u001b[0m\n",
      "\u001b[0m[15/Jul/25 22:00:04] INFO [workflow_orchestrator.upload_training_data:190] Uploading eval_cw_crypto_net_gain_crypto_inflows_winsorized for 240306: 2,000 rows\u001b[0m\n",
      "\u001b[0m[15/Jul/25 22:00:04] INFO [workflow_orchestrator.upload_training_data:199] Uploaded eval to s3://wallet-training-data/training-data-preprocessed/dda-897_dev/240306/eval_cw_crypto_net_gain_crypto_inflows_winsorized.csv\u001b[0m\n",
      "\u001b[0m[15/Jul/25 22:00:04] INFO [workflow_orchestrator.upload_training_data:190] Uploading val_cw_crypto_net_gain_crypto_inflows_winsorized for 240306: 2,000 rows\u001b[0m\n",
      "\u001b[0m[15/Jul/25 22:00:05] INFO [workflow_orchestrator.upload_training_data:199] Uploaded val to s3://wallet-training-data/training-data-preprocessed/dda-897_dev/240306/val_cw_crypto_net_gain_crypto_inflows_winsorized.csv\u001b[0m\n"
     ]
    }
   ],
   "source": [
    "# Upload and retrieve URIs\n",
    "workflow_orch.upload_training_data(preprocessed_data, overwrite_existing=True)\n",
    "s3_uris = workflow_orch.retrieve_training_data_uris(date_suffixes)"
   ]
  },
  {
   "cell_type": "markdown",
   "metadata": {},
   "source": [
    "### Train Model"
   ]
  },
  {
   "cell_type": "markdown",
   "metadata": {},
   "source": [
    "#### retrieve uris"
   ]
  },
  {
   "cell_type": "code",
   "execution_count": 25,
   "metadata": {},
   "outputs": [
    {
     "data": {
      "text/plain": [
       "{'231107': {'train': 's3://wallet-training-data/training-data-preprocessed/dda-897_dev/231107/train_cw_crypto_net_gain_crypto_inflows_winsorized.csv',\n",
       "  'test': 's3://wallet-training-data/training-data-preprocessed/dda-897_dev/231107/test_cw_crypto_net_gain_crypto_inflows_winsorized.csv',\n",
       "  'eval': 's3://wallet-training-data/training-data-preprocessed/dda-897_dev/231107/eval_cw_crypto_net_gain_crypto_inflows_winsorized.csv',\n",
       "  'val': 's3://wallet-training-data/training-data-preprocessed/dda-897_dev/231107/val_cw_crypto_net_gain_crypto_inflows_winsorized.csv'},\n",
       " '240306': {'train': 's3://wallet-training-data/training-data-preprocessed/dda-897_dev/240306/train_cw_crypto_net_gain_crypto_inflows_winsorized.csv',\n",
       "  'test': 's3://wallet-training-data/training-data-preprocessed/dda-897_dev/240306/test_cw_crypto_net_gain_crypto_inflows_winsorized.csv',\n",
       "  'eval': 's3://wallet-training-data/training-data-preprocessed/dda-897_dev/240306/eval_cw_crypto_net_gain_crypto_inflows_winsorized.csv',\n",
       "  'val': 's3://wallet-training-data/training-data-preprocessed/dda-897_dev/240306/val_cw_crypto_net_gain_crypto_inflows_winsorized.csv'}}"
      ]
     },
     "execution_count": 25,
     "metadata": {},
     "output_type": "execute_result"
    }
   ],
   "source": [
    "date_suffixes = [\n",
    "    '231107',\n",
    "    '240306'\n",
    "]\n",
    "\n",
    "# Generate URIs for specific dates without any prior setup\n",
    "s3_uris = workflow_orch.retrieve_training_data_uris(date_suffixes)\n",
    "s3_uris"
   ]
  },
  {
   "cell_type": "markdown",
   "metadata": {},
   "source": [
    "#### train model"
   ]
  },
  {
   "cell_type": "code",
   "execution_count": 28,
   "metadata": {},
   "outputs": [],
   "source": [
    "[importlib.reload(module) for module in modules]\n",
    "sage_wallets_config = yaml.safe_load(Path('../config/sage_wallets_config.yaml').read_text(encoding='utf-8'))\n",
    "sage_wallets_modeling_config = yaml.safe_load(Path('../config/sage_wallets_modeling_config.yaml').read_text(encoding='utf-8'))\n",
    "\n",
    "\n",
    "modeler = wm.WalletModeler(\n",
    "    sage_wallets_config,\n",
    "    sage_wallets_modeling_config,\n",
    "    s3_uris\n",
    ")\n",
    "date_suffix = date_suffixes[0]\n",
    "\n"
   ]
  },
  {
   "cell_type": "code",
   "execution_count": 29,
   "metadata": {},
   "outputs": [
    {
     "name": "stderr",
     "output_type": "stream",
     "text": [
      "\u001b[0m[15/Jul/25 22:04:49] INFO [wallet_modeler.train_model:79] Starting SageMaker training...\u001b[0m\n",
      "\u001b[0m[15/Jul/25 22:04:49] INFO [image_uris._processor:530] Ignoring unnecessary instance type: None.\u001b[0m\n",
      "\u001b[0m[15/Jul/25 22:04:53] INFO [wallet_modeler.train_model:159] Launching training job: wallet-xgb-dda-897-dev-231107-20250715-220453\u001b[0m\n",
      "\u001b[0m[15/Jul/25 22:04:53] INFO [wallet_modeler.train_model:160] Model output path: s3://wallet-training-data/sagemaker-models/dda-897-dev/\u001b[0m\n",
      "\u001b[0m[15/Jul/25 22:04:53] INFO [telemetry_logging.wrapper:91] SageMaker Python SDK will collect telemetry to help us better understand our user's needs, diagnose issues, and deliver additional features.\n",
      "To opt out of telemetry, please disable via TelemetryOptOut parameter in SDK defaults config. For more information, refer to https://sagemaker.readthedocs.io/en/stable/overview.html#configuring-and-using-defaults-with-the-sagemaker-python-sdk.\u001b[0m\n",
      "\u001b[0m[15/Jul/25 22:04:53] INFO [session.submit:1053] Creating training-job with name: wallet-xgb-dda-897-dev-231107-20250715-220453\u001b[0m\n"
     ]
    },
    {
     "name": "stdout",
     "output_type": "stream",
     "text": [
      "2025-07-16 05:04:54 Starting - Starting the training job...\n",
      "2025-07-16 05:05:28 Downloading - Downloading input data......\n",
      "2025-07-16 05:06:13 Downloading - Downloading the training image...\n",
      "2025-07-16 05:06:54 Training - Training image download completed. Training in progress..Arguments: train\n",
      "[2025-07-16:05:06:57:INFO] Running standalone xgboost training.\n",
      "[2025-07-16:05:06:57:INFO] File size need to be processed in the node: 6.94mb. Available memory size in the node: 348.44mb\n",
      "[2025-07-16:05:06:57:INFO] Determined delimiter of CSV input is ','\n",
      "[05:06:57] S3DistributionType set as FullyReplicated\n",
      "[05:06:57] 2000x221 matrix with 442000 entries loaded from /opt/ml/input/data/train?format=csv&label_column=0&delimiter=,\n",
      "[2025-07-16:05:06:57:INFO] Determined delimiter of CSV input is ','\n",
      "[05:06:57] S3DistributionType set as FullyReplicated\n",
      "[05:06:57] 2000x221 matrix with 442000 entries loaded from /opt/ml/input/data/validation?format=csv&label_column=0&delimiter=,\n",
      "[05:06:57] src/tree/updater_prune.cc:74: tree pruning end, 1 roots, 82 extra nodes, 0 pruned nodes, max_depth=6\n",
      "[0]#011train-rmse:0.402671#011validation-rmse:0.416837\n",
      "Multiple eval metrics have been passed: 'validation-rmse' will be used for early stopping.\n",
      "Will train until validation-rmse hasn't improved in 10 rounds.\n",
      "[05:06:57] src/tree/updater_prune.cc:74: tree pruning end, 1 roots, 96 extra nodes, 0 pruned nodes, max_depth=6\n",
      "[1]#011train-rmse:0.328794#011validation-rmse:0.357178\n",
      "[05:06:57] src/tree/updater_prune.cc:74: tree pruning end, 1 roots, 84 extra nodes, 0 pruned nodes, max_depth=6\n",
      "[2]#011train-rmse:0.284184#011validation-rmse:0.321717\n",
      "[05:06:57] src/tree/updater_prune.cc:74: tree pruning end, 1 roots, 76 extra nodes, 0 pruned nodes, max_depth=6\n",
      "[3]#011train-rmse:0.25691#011validation-rmse:0.302178\n",
      "[05:06:57] src/tree/updater_prune.cc:74: tree pruning end, 1 roots, 86 extra nodes, 0 pruned nodes, max_depth=6\n",
      "[4]#011train-rmse:0.235155#011validation-rmse:0.292646\n",
      "[05:06:57] src/tree/updater_prune.cc:74: tree pruning end, 1 roots, 84 extra nodes, 0 pruned nodes, max_depth=6\n",
      "[5]#011train-rmse:0.219855#011validation-rmse:0.285834\n",
      "[05:06:57] src/tree/updater_prune.cc:74: tree pruning end, 1 roots, 96 extra nodes, 0 pruned nodes, max_depth=6\n",
      "[6]#011train-rmse:0.205599#011validation-rmse:0.282543\n",
      "[05:06:57] src/tree/updater_prune.cc:74: tree pruning end, 1 roots, 54 extra nodes, 0 pruned nodes, max_depth=6\n",
      "[7]#011train-rmse:0.200691#011validation-rmse:0.280164\n",
      "[05:06:57] src/tree/updater_prune.cc:74: tree pruning end, 1 roots, 110 extra nodes, 0 pruned nodes, max_depth=6\n",
      "[8]#011train-rmse:0.185362#011validation-rmse:0.277274\n",
      "[05:06:57] src/tree/updater_prune.cc:74: tree pruning end, 1 roots, 40 extra nodes, 0 pruned nodes, max_depth=6\n",
      "[9]#011train-rmse:0.182338#011validation-rmse:0.276591\n",
      "[05:06:57] src/tree/updater_prune.cc:74: tree pruning end, 1 roots, 90 extra nodes, 0 pruned nodes, max_depth=6\n",
      "[10]#011train-rmse:0.173918#011validation-rmse:0.277924\n",
      "[05:06:57] src/tree/updater_prune.cc:74: tree pruning end, 1 roots, 56 extra nodes, 0 pruned nodes, max_depth=6\n",
      "[11]#011train-rmse:0.168325#011validation-rmse:0.277043\n",
      "[05:06:57] src/tree/updater_prune.cc:74: tree pruning end, 1 roots, 52 extra nodes, 0 pruned nodes, max_depth=6\n",
      "[12]#011train-rmse:0.164497#011validation-rmse:0.276662\n",
      "[05:06:58] src/tree/updater_prune.cc:74: tree pruning end, 1 roots, 66 extra nodes, 0 pruned nodes, max_depth=6\n",
      "[13]#011train-rmse:0.160885#011validation-rmse:0.27691\n",
      "[05:06:58] src/tree/updater_prune.cc:74: tree pruning end, 1 roots, 66 extra nodes, 0 pruned nodes, max_depth=6\n",
      "[14]#011train-rmse:0.157239#011validation-rmse:0.27632\n",
      "[05:06:58] src/tree/updater_prune.cc:74: tree pruning end, 1 roots, 54 extra nodes, 0 pruned nodes, max_depth=6\n",
      "[15]#011train-rmse:0.153362#011validation-rmse:0.275427\n",
      "[05:06:58] src/tree/updater_prune.cc:74: tree pruning end, 1 roots, 76 extra nodes, 0 pruned nodes, max_depth=6\n",
      "[16]#011train-rmse:0.147679#011validation-rmse:0.275521\n",
      "[05:06:58] src/tree/updater_prune.cc:74: tree pruning end, 1 roots, 88 extra nodes, 0 pruned nodes, max_depth=6\n",
      "[17]#011train-rmse:0.141964#011validation-rmse:0.275425\n",
      "[05:06:58] src/tree/updater_prune.cc:74: tree pruning end, 1 roots, 80 extra nodes, 0 pruned nodes, max_depth=6\n",
      "[18]#011train-rmse:0.138322#011validation-rmse:0.275211\n",
      "[05:06:58] src/tree/updater_prune.cc:74: tree pruning end, 1 roots, 70 extra nodes, 0 pruned nodes, max_depth=6\n",
      "[19]#011train-rmse:0.135053#011validation-rmse:0.275403\n",
      "[05:06:58] src/tree/updater_prune.cc:74: tree pruning end, 1 roots, 90 extra nodes, 0 pruned nodes, max_depth=6\n",
      "[20]#011train-rmse:0.130928#011validation-rmse:0.275422\n",
      "[05:06:58] src/tree/updater_prune.cc:74: tree pruning end, 1 roots, 66 extra nodes, 0 pruned nodes, max_depth=6\n",
      "[21]#011train-rmse:0.125697#011validation-rmse:0.27572\n",
      "[05:06:58] src/tree/updater_prune.cc:74: tree pruning end, 1 roots, 64 extra nodes, 0 pruned nodes, max_depth=6\n",
      "[22]#011train-rmse:0.121897#011validation-rmse:0.275865\n",
      "[05:06:58] src/tree/updater_prune.cc:74: tree pruning end, 1 roots, 80 extra nodes, 0 pruned nodes, max_depth=6\n",
      "[23]#011train-rmse:0.11824#011validation-rmse:0.275422\n",
      "[05:06:58] src/tree/updater_prune.cc:74: tree pruning end, 1 roots, 108 extra nodes, 0 pruned nodes, max_depth=6\n",
      "[24]#011train-rmse:0.1135#011validation-rmse:0.276832\n",
      "[05:06:58] src/tree/updater_prune.cc:74: tree pruning end, 1 roots, 80 extra nodes, 0 pruned nodes, max_depth=6\n",
      "[25]#011train-rmse:0.110579#011validation-rmse:0.277063\n",
      "[05:06:58] src/tree/updater_prune.cc:74: tree pruning end, 1 roots, 38 extra nodes, 0 pruned nodes, max_depth=6\n",
      "[26]#011train-rmse:0.109111#011validation-rmse:0.277097\n",
      "[05:06:58] src/tree/updater_prune.cc:74: tree pruning end, 1 roots, 100 extra nodes, 0 pruned nodes, max_depth=6\n",
      "[27]#011train-rmse:0.105488#011validation-rmse:0.27714\n",
      "[05:06:58] src/tree/updater_prune.cc:74: tree pruning end, 1 roots, 106 extra nodes, 0 pruned nodes, max_depth=6\n",
      "[28]#011train-rmse:0.101109#011validation-rmse:0.276946\n",
      "Stopping. Best iteration:\n",
      "[18]#011train-rmse:0.138322#011validation-rmse:0.275211\n",
      "\n",
      "2025-07-16 05:07:17 Uploading - Uploading generated training model\n",
      "2025-07-16 05:07:17 Completed - Training job completed\n",
      "Training seconds: 110\n",
      "Billable seconds: 110\n"
     ]
    },
    {
     "name": "stderr",
     "output_type": "stream",
     "text": [
      "\u001b[0m[15/Jul/25 22:07:43] INFO [wallet_modeler.train_model:174] Training completed. Model stored at: s3://wallet-training-data/sagemaker-models/dda-897-dev/wallet-xgb-dda-897-dev-231107-20250715-220453/output/model.tar.gz\u001b[0m\n"
     ]
    }
   ],
   "source": [
    "modeling_results = modeler.train_model(date_suffix)"
   ]
  },
  {
   "cell_type": "markdown",
   "metadata": {},
   "source": [
    "#### get existing model uri"
   ]
  },
  {
   "cell_type": "code",
   "execution_count": null,
   "metadata": {},
   "outputs": [],
   "source": [
    "[importlib.reload(module) for module in modules]\n",
    "sage_wallets_config = yaml.safe_load(Path('../config/sage_wallets_config.yaml').read_text(encoding='utf-8'))\n",
    "sage_wallets_modeling_config = yaml.safe_load(Path('../config/sage_wallets_modeling_config.yaml').read_text(encoding='utf-8'))\n",
    "\n",
    "\n",
    "modeler = wm.WalletModeler(sage_wallets_config, s3_uris)\n",
    "date_suffix = date_suffixes[0]\n",
    "\n",
    "\n",
    "model = modeler.load_existing_model(date_suffix)"
   ]
  },
  {
   "cell_type": "code",
   "execution_count": null,
   "metadata": {},
   "outputs": [],
   "source": [
    "predictions = modeler.predict_with_model()"
   ]
  },
  {
   "cell_type": "markdown",
   "metadata": {},
   "source": [
    "### DDA 884 devspace"
   ]
  },
  {
   "cell_type": "code",
   "execution_count": null,
   "metadata": {},
   "outputs": [],
   "source": []
  }
 ],
 "metadata": {
  "kernelspec": {
   "display_name": ".venv",
   "language": "python",
   "name": "python3"
  },
  "language_info": {
   "codemirror_mode": {
    "name": "ipython",
    "version": 3
   },
   "file_extension": ".py",
   "mimetype": "text/x-python",
   "name": "python",
   "nbconvert_exporter": "python",
   "pygments_lexer": "ipython3",
   "version": "3.11.9"
  }
 },
 "nbformat": 4,
 "nbformat_minor": 2
}
