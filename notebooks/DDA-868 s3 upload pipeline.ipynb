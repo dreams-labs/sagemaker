{
 "cells": [
  {
   "cell_type": "markdown",
   "metadata": {},
   "source": [
    "### start"
   ]
  },
  {
   "cell_type": "code",
   "execution_count": 3,
   "metadata": {},
   "outputs": [
    {
     "name": "stderr",
     "output_type": "stream",
     "text": [
      "\u001b[92m[23/Jun/25 12:39:46] MILESTONE [801714797.<module>:121] Good morning, let's get to work\u001b[0m\n"
     ]
    }
   ],
   "source": [
    "# pyright: reportMissingImports=false\n",
    "# pyright: reportMissingModuleSource=false\n",
    "\n",
    "import uuid\n",
    "import random\n",
    "import hashlib\n",
    "import os\n",
    "import sys\n",
    "import gc\n",
    "import time\n",
    "import copy\n",
    "import logging\n",
    "import re\n",
    "from itertools import chain,combinations\n",
    "import pdb\n",
    "import math\n",
    "from pathlib import Path\n",
    "import pickle\n",
    "import cloudpickle\n",
    "import datetime\n",
    "from datetime import datetime,timedelta\n",
    "import json\n",
    "import warnings\n",
    "import yaml\n",
    "from typing import Dict,Union,List,Any,Tuple\n",
    "import pytest\n",
    "import importlib\n",
    "from dotenv import load_dotenv\n",
    "import pandas as pd\n",
    "import numpy as np\n",
    "import IPython\n",
    "import requests\n",
    "import pandas_gbq\n",
    "from google.cloud import bigquery\n",
    "from dreams_core.googlecloud import GoogleCloud as dgc\n",
    "from dreams_core import core as dc\n",
    "import matplotlib\n",
    "import matplotlib.pyplot as plt\n",
    "import seaborn as sns\n",
    "import progressbar\n",
    "import warnings\n",
    "import boto3\n",
    "\n",
    "# load_dotenv(Path(\"../../../Local/.env\"))\n",
    "\n",
    "# Custom format function for displaying |numbers/\n",
    "pd.set_option('display.float_format', lambda x: f'{x:.12g}')\n",
    "# pd.reset_option('display.float_format')\n",
    "\n",
    "# Suppress warnings\n",
    "os.environ['PYDEVD_DISABLE_FILE_VALIDATION'] = '1'\n",
    "warnings.filterwarnings('ignore', message='.*frozen modules.*')\n",
    "warnings.filterwarnings(\"ignore\", message=\"MallocStackLogging\")\n",
    "\n",
    "# silence pygame donation request\n",
    "os.environ['PYGAME_HIDE_SUPPORT_PROMPT'] = \"hide\"\n",
    "os.environ['LOGGING_FILE'] = \"../../../Local/logs/wallet_modeling.log\"\n",
    "os.environ['NOTIFICATION_SOUNDS_DIR'] = \"../../../Local\"\n",
    "\n",
    "# Dark mode charts\n",
    "plt.rcParams['figure.facecolor'] = '#181818'  # Custom background color (dark gray in this case)\n",
    "plt.rcParams['axes.facecolor'] = '#181818'\n",
    "plt.rcParams['text.color'] = '#afc6ba'\n",
    "plt.rcParams['axes.labelcolor'] = '#afc6ba'\n",
    "plt.rcParams['xtick.color'] = '#afc6ba'\n",
    "plt.rcParams['ytick.color'] = '#afc6ba'\n",
    "plt.rcParams['axes.titlecolor'] = '#afc6ba'\n",
    "matplotlib.rcParams['text.usetex'] = False\n",
    "matplotlib.rcParams['mathtext.default'] = 'regular'\n",
    "\n",
    "\n",
    "# import local modules\n",
    "# pyright: reportMissingImports=false\n",
    "sys.path.append('..//src')\n",
    "\n",
    "import etls.s3_pipeline as sp\n",
    "import utils as u\n",
    "from utils import ConfigError\n",
    "\n",
    "# reload all modules\n",
    "modules = [\n",
    "    sp,\n",
    "    u\n",
    "]\n",
    "\n",
    "# load all configs\n",
    "\n",
    "\n",
    "# Set the custom error handler\n",
    "ipython = IPython.get_ipython()\n",
    "ipython.set_custom_exc((Exception,), u.notify_on_failure)\n",
    "\n",
    "player = u.AmbientPlayer()\n",
    "player.stop_all_players()\n",
    "\n",
    "# configure logger\n",
    "logger = u.setup_notebook_logger('../logs/notebook_logs.log')\n",
    "logger.setLevel(logging.INFO)\n",
    "\n",
    "\n",
    "# u.export_code(\n",
    "#     code_directories=[\n",
    "#         # 'training_data',\n",
    "#         # 'base_modeling',\n",
    "#         # 'wallet_features',\n",
    "#         # 'wallet_insights',\n",
    "#         # 'wallet_modeling',\n",
    "#         # 'wallet_investing',\n",
    "#         # 'coin_modeling',\n",
    "#         # 'coin_investing',\n",
    "#         # 'coin_insights',\n",
    "#     ],\n",
    "#     # include_config = True,\n",
    "#     # include_config = False,\n",
    "#     # ipynb_notebook = 'DDA-769 coin model score dist toggle.ipynb'\n",
    "# )\n",
    "\n",
    "[importlib.reload(module) for module in modules]\n",
    "u.notify('retro')\n",
    "\n",
    "logger.milestone(\"Good morning, let's get to work\")\n",
    "\n",
    "# pd.to_datetime('2025-04-30') - timedelta(days=30)"
   ]
  },
  {
   "cell_type": "markdown",
   "metadata": {},
   "source": [
    "# Code begins"
   ]
  },
  {
   "cell_type": "code",
   "execution_count": 7,
   "metadata": {},
   "outputs": [
    {
     "name": "stderr",
     "output_type": "stream",
     "text": [
      "\u001b[0m[23/Jun/25 12:40:49] INFO [s3_pipeline.upload_folder_to_s3:50] Ready to upload 19 files with total size 0.00GB\u001b[0m\n",
      "\u001b[0m[23/Jun/25 12:40:49] INFO [s3_pipeline.upload_folder_to_s3:51] Target: s3://wallet-training-data/imports_raw\u001b[0m\n",
      "\u001b[0m[23/Jun/25 12:40:51] INFO [s3_pipeline.upload_folder_to_s3:66] Uploading y_eval_250130.parquet -> s3://wallet-training-data/imports_raw/y_eval_250130.parquet\u001b[0m\n",
      "\u001b[0m[23/Jun/25 12:40:52] INFO [s3_pipeline.upload_folder_to_s3:66] Uploading x_eval_250301.parquet -> s3://wallet-training-data/imports_raw/x_eval_250301.parquet\u001b[0m\n",
      "\u001b[0m[23/Jun/25 12:40:53] INFO [s3_pipeline.upload_folder_to_s3:66] Uploading y_eval_250301.parquet -> s3://wallet-training-data/imports_raw/y_eval_250301.parquet\u001b[0m\n",
      "\u001b[0m[23/Jun/25 12:40:53] INFO [s3_pipeline.upload_folder_to_s3:66] Uploading x_eval_250130.parquet -> s3://wallet-training-data/imports_raw/x_eval_250130.parquet\u001b[0m\n",
      "\u001b[0m[23/Jun/25 12:40:53] INFO [s3_pipeline.upload_folder_to_s3:66] Uploading x_val_250301.parquet -> s3://wallet-training-data/imports_raw/x_val_250301.parquet\u001b[0m\n",
      "\u001b[0m[23/Jun/25 12:40:53] INFO [s3_pipeline.upload_folder_to_s3:66] Uploading x_val_250130.parquet -> s3://wallet-training-data/imports_raw/x_val_250130.parquet\u001b[0m\n",
      "\u001b[0m[23/Jun/25 12:40:54] INFO [s3_pipeline.upload_folder_to_s3:66] Uploading x_train_250130.parquet -> s3://wallet-training-data/imports_raw/x_train_250130.parquet\u001b[0m\n",
      "\u001b[0m[23/Jun/25 12:40:54] INFO [s3_pipeline.upload_folder_to_s3:66] Uploading x_train_250301.parquet -> s3://wallet-training-data/imports_raw/x_train_250301.parquet\u001b[0m\n",
      "\u001b[0m[23/Jun/25 12:40:54] INFO [s3_pipeline.upload_folder_to_s3:66] Uploading model_metrics_consolidated_df.csv -> s3://wallet-training-data/imports_raw/model_metrics_consolidated_df.csv\u001b[0m\n",
      "\u001b[0m[23/Jun/25 12:40:55] INFO [s3_pipeline.upload_folder_to_s3:66] Uploading y_val_250130.parquet -> s3://wallet-training-data/imports_raw/y_val_250130.parquet\u001b[0m\n",
      "\u001b[0m[23/Jun/25 12:40:55] INFO [s3_pipeline.upload_folder_to_s3:66] Uploading y_val_250301.parquet -> s3://wallet-training-data/imports_raw/y_val_250301.parquet\u001b[0m\n",
      "\u001b[0m[23/Jun/25 12:40:55] INFO [s3_pipeline.upload_folder_to_s3:66] Uploading export_metadata_250301.json -> s3://wallet-training-data/imports_raw/export_metadata_250301.json\u001b[0m\n",
      "\u001b[0m[23/Jun/25 12:40:55] INFO [s3_pipeline.upload_folder_to_s3:66] Uploading y_test_250130.parquet -> s3://wallet-training-data/imports_raw/y_test_250130.parquet\u001b[0m\n",
      "\u001b[0m[23/Jun/25 12:40:55] INFO [s3_pipeline.upload_folder_to_s3:66] Uploading x_test_250301.parquet -> s3://wallet-training-data/imports_raw/x_test_250301.parquet\u001b[0m\n",
      "\u001b[0m[23/Jun/25 12:40:55] INFO [s3_pipeline.upload_folder_to_s3:66] Uploading y_train_250130.parquet -> s3://wallet-training-data/imports_raw/y_train_250130.parquet\u001b[0m\n",
      "\u001b[0m[23/Jun/25 12:40:55] INFO [s3_pipeline.upload_folder_to_s3:66] Uploading y_test_250301.parquet -> s3://wallet-training-data/imports_raw/y_test_250301.parquet\u001b[0m\n",
      "\u001b[0m[23/Jun/25 12:40:56] INFO [s3_pipeline.upload_folder_to_s3:66] Uploading y_train_250301.parquet -> s3://wallet-training-data/imports_raw/y_train_250301.parquet\u001b[0m\n",
      "\u001b[0m[23/Jun/25 12:40:56] INFO [s3_pipeline.upload_folder_to_s3:66] Uploading x_test_250130.parquet -> s3://wallet-training-data/imports_raw/x_test_250130.parquet\u001b[0m\n",
      "\u001b[0m[23/Jun/25 12:40:56] INFO [s3_pipeline.upload_folder_to_s3:66] Uploading export_metadata_250130.json -> s3://wallet-training-data/imports_raw/export_metadata_250130.json\u001b[0m\n",
      "\u001b[0m[23/Jun/25 12:40:56] INFO [s3_pipeline.upload_folder_to_s3:69] Upload complete: 19 files\u001b[0m\n"
     ]
    }
   ],
   "source": [
    "sp.upload_folder_to_s3(\n",
    "    '../s3_wallet_loading_queue/dda858_initial_wallet_batch_dev',\n",
    "    'wallet-training-data',\n",
    "    'imports_raw'\n",
    ")"
   ]
  },
  {
   "cell_type": "code",
   "execution_count": 6,
   "metadata": {},
   "outputs": [
    {
     "name": "stdout",
     "output_type": "stream",
     "text": [
      "dreams-sagemaker\n",
      "token-training-data\n",
      "wallet-training-data\n"
     ]
    }
   ],
   "source": [
    "import boto3\n",
    "\n",
    "s3_client = boto3.client('s3')\n",
    "response = s3_client.list_buckets()\n",
    "\n",
    "for bucket in response['Buckets']:\n",
    "    print(bucket['Name'])"
   ]
  },
  {
   "cell_type": "code",
   "execution_count": null,
   "metadata": {},
   "outputs": [],
   "source": []
  }
 ],
 "metadata": {
  "kernelspec": {
   "display_name": ".venv",
   "language": "python",
   "name": "python3"
  },
  "language_info": {
   "codemirror_mode": {
    "name": "ipython",
    "version": 3
   },
   "file_extension": ".py",
   "mimetype": "text/x-python",
   "name": "python",
   "nbconvert_exporter": "python",
   "pygments_lexer": "ipython3",
   "version": "3.11.9"
  }
 },
 "nbformat": 4,
 "nbformat_minor": 2
}
