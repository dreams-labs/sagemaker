{
 "cells": [
  {
   "cell_type": "markdown",
   "metadata": {},
   "source": [
    "### start"
   ]
  },
  {
   "cell_type": "code",
   "execution_count": 3,
   "metadata": {},
   "outputs": [
    {
     "name": "stderr",
     "output_type": "stream",
     "text": [
      "\u001b[92m[23/Jun/25 12:56:30] MILESTONE [801714797.<module>:121] Good morning, let's get to work\u001b[0m\n"
     ]
    }
   ],
   "source": [
    "# pyright: reportMissingImports=false\n",
    "# pyright: reportMissingModuleSource=false\n",
    "\n",
    "import uuid\n",
    "import random\n",
    "import hashlib\n",
    "import os\n",
    "import sys\n",
    "import gc\n",
    "import time\n",
    "import copy\n",
    "import logging\n",
    "import re\n",
    "from itertools import chain,combinations\n",
    "import pdb\n",
    "import math\n",
    "from pathlib import Path\n",
    "import pickle\n",
    "import cloudpickle\n",
    "import datetime\n",
    "from datetime import datetime,timedelta\n",
    "import json\n",
    "import warnings\n",
    "import yaml\n",
    "from typing import Dict,Union,List,Any,Tuple\n",
    "import pytest\n",
    "import importlib\n",
    "from dotenv import load_dotenv\n",
    "import pandas as pd\n",
    "import numpy as np\n",
    "import IPython\n",
    "import requests\n",
    "import pandas_gbq\n",
    "from google.cloud import bigquery\n",
    "from dreams_core.googlecloud import GoogleCloud as dgc\n",
    "from dreams_core import core as dc\n",
    "import matplotlib\n",
    "import matplotlib.pyplot as plt\n",
    "import seaborn as sns\n",
    "import progressbar\n",
    "import warnings\n",
    "import boto3\n",
    "\n",
    "# load_dotenv(Path(\"../../../Local/.env\"))\n",
    "\n",
    "# Custom format function for displaying |numbers/\n",
    "pd.set_option('display.float_format', lambda x: f'{x:.12g}')\n",
    "# pd.reset_option('display.float_format')\n",
    "\n",
    "# Suppress warnings\n",
    "os.environ['PYDEVD_DISABLE_FILE_VALIDATION'] = '1'\n",
    "warnings.filterwarnings('ignore', message='.*frozen modules.*')\n",
    "warnings.filterwarnings(\"ignore\", message=\"MallocStackLogging\")\n",
    "\n",
    "# silence pygame donation request\n",
    "os.environ['PYGAME_HIDE_SUPPORT_PROMPT'] = \"hide\"\n",
    "os.environ['LOGGING_FILE'] = \"../../../Local/logs/wallet_modeling.log\"\n",
    "os.environ['NOTIFICATION_SOUNDS_DIR'] = \"../../../Local\"\n",
    "\n",
    "# Dark mode charts\n",
    "plt.rcParams['figure.facecolor'] = '#181818'  # Custom background color (dark gray in this case)\n",
    "plt.rcParams['axes.facecolor'] = '#181818'\n",
    "plt.rcParams['text.color'] = '#afc6ba'\n",
    "plt.rcParams['axes.labelcolor'] = '#afc6ba'\n",
    "plt.rcParams['xtick.color'] = '#afc6ba'\n",
    "plt.rcParams['ytick.color'] = '#afc6ba'\n",
    "plt.rcParams['axes.titlecolor'] = '#afc6ba'\n",
    "matplotlib.rcParams['text.usetex'] = False\n",
    "matplotlib.rcParams['mathtext.default'] = 'regular'\n",
    "\n",
    "\n",
    "# import local modules\n",
    "# pyright: reportMissingImports=false\n",
    "sys.path.append('..//src')\n",
    "\n",
    "import etls.s3_pipeline as sp\n",
    "import utils as u\n",
    "from utils import ConfigError\n",
    "\n",
    "# reload all modules\n",
    "modules = [\n",
    "    sp,\n",
    "    u\n",
    "]\n",
    "\n",
    "# load all configs\n",
    "\n",
    "\n",
    "# Set the custom error handler\n",
    "ipython = IPython.get_ipython()\n",
    "ipython.set_custom_exc((Exception,), u.notify_on_failure)\n",
    "\n",
    "player = u.AmbientPlayer()\n",
    "player.stop_all_players()\n",
    "\n",
    "# configure logger\n",
    "logger = u.setup_notebook_logger('../logs/notebook_logs.log')\n",
    "logger.setLevel(logging.INFO)\n",
    "\n",
    "\n",
    "# u.export_code(\n",
    "#     code_directories=[\n",
    "#         # 'training_data',\n",
    "#         # 'base_modeling',\n",
    "#         # 'wallet_features',\n",
    "#         # 'wallet_insights',\n",
    "#         # 'wallet_modeling',\n",
    "#         # 'wallet_investing',\n",
    "#         # 'coin_modeling',\n",
    "#         # 'coin_investing',\n",
    "#         # 'coin_insights',\n",
    "#     ],\n",
    "#     # include_config = True,\n",
    "#     # include_config = False,\n",
    "#     # ipynb_notebook = 'DDA-769 coin model score dist toggle.ipynb'\n",
    "# )\n",
    "\n",
    "[importlib.reload(module) for module in modules]\n",
    "u.notify('retro')\n",
    "\n",
    "logger.milestone(\"Good morning, let's get to work\")\n",
    "\n",
    "# pd.to_datetime('2025-04-30') - timedelta(days=30)"
   ]
  },
  {
   "cell_type": "markdown",
   "metadata": {},
   "source": [
    "# Initial ETLs"
   ]
  },
  {
   "cell_type": "code",
   "execution_count": null,
   "metadata": {},
   "outputs": [
    {
     "name": "stderr",
     "output_type": "stream",
     "text": [
      "\u001b[0m[23/Jun/25 12:57:03] INFO [s3_pipeline.upload_folder_to_s3:63] Ready to upload 208 files with total size 0.84GB\u001b[0m\n",
      "\u001b[0m[23/Jun/25 12:57:03] INFO [s3_pipeline.upload_folder_to_s3:64] Target: s3://wallet-training-data/imports_raw/dda858_initial_wallet_batch\u001b[0m\n",
      "\u001b[0m[23/Jun/25 12:57:07] INFO [s3_pipeline.upload_folder_to_s3:82] Uploading y_train_230710.parquet -> s3://wallet-training-data/imports_raw/dda858_initial_wallet_batch/y_train_230710.parquet\u001b[0m\n",
      "\u001b[0m[23/Jun/25 12:57:08] INFO [s3_pipeline.upload_folder_to_s3:82] Uploading x_eval_240306.parquet -> s3://wallet-training-data/imports_raw/dda858_initial_wallet_batch/x_eval_240306.parquet\u001b[0m\n",
      "\u001b[0m[23/Jun/25 12:57:09] INFO [s3_pipeline.upload_folder_to_s3:82] Uploading y_test_230710.parquet -> s3://wallet-training-data/imports_raw/dda858_initial_wallet_batch/y_test_230710.parquet\u001b[0m\n",
      "\u001b[0m[23/Jun/25 12:57:09] INFO [s3_pipeline.upload_folder_to_s3:82] Uploading x_eval_230908.parquet -> s3://wallet-training-data/imports_raw/dda858_initial_wallet_batch/x_eval_230908.parquet\u001b[0m\n",
      "\u001b[0m[23/Jun/25 12:57:10] INFO [s3_pipeline.upload_folder_to_s3:82] Uploading y_val_240106.parquet -> s3://wallet-training-data/imports_raw/dda858_initial_wallet_batch/y_val_240106.parquet\u001b[0m\n",
      "\u001b[0m[23/Jun/25 12:57:11] INFO [s3_pipeline.upload_folder_to_s3:82] Uploading x_test_230710.parquet -> s3://wallet-training-data/imports_raw/dda858_initial_wallet_batch/x_test_230710.parquet\u001b[0m\n",
      "\u001b[0m[23/Jun/25 12:57:12] INFO [s3_pipeline.upload_folder_to_s3:82] Uploading y_eval_240306.parquet -> s3://wallet-training-data/imports_raw/dda858_initial_wallet_batch/y_eval_240306.parquet\u001b[0m\n",
      "\u001b[0m[23/Jun/25 12:57:12] INFO [s3_pipeline.upload_folder_to_s3:82] Uploading x_train_241002.parquet -> s3://wallet-training-data/imports_raw/dda858_initial_wallet_batch/x_train_241002.parquet\u001b[0m\n",
      "\u001b[0m[23/Jun/25 12:57:25] INFO [s3_pipeline.upload_folder_to_s3:82] Uploading y_val_240604.parquet -> s3://wallet-training-data/imports_raw/dda858_initial_wallet_batch/y_val_240604.parquet\u001b[0m\n",
      "\u001b[0m[23/Jun/25 12:57:28] INFO [s3_pipeline.upload_folder_to_s3:82] Uploading y_eval_230908.parquet -> s3://wallet-training-data/imports_raw/dda858_initial_wallet_batch/y_eval_230908.parquet\u001b[0m\n",
      "\u001b[0m[23/Jun/25 12:57:28] INFO [s3_pipeline.upload_folder_to_s3:82] Uploading y_train_231107.parquet -> s3://wallet-training-data/imports_raw/dda858_initial_wallet_batch/y_train_231107.parquet\u001b[0m\n",
      "\u001b[0m[23/Jun/25 12:57:28] INFO [s3_pipeline.upload_folder_to_s3:82] Uploading x_eval_240205.parquet -> s3://wallet-training-data/imports_raw/dda858_initial_wallet_batch/x_eval_240205.parquet\u001b[0m\n",
      "\u001b[0m[23/Jun/25 12:57:29] INFO [s3_pipeline.upload_folder_to_s3:82] Uploading x_train_230610.parquet -> s3://wallet-training-data/imports_raw/dda858_initial_wallet_batch/x_train_230610.parquet\u001b[0m\n",
      "\u001b[0m[23/Jun/25 12:57:33] INFO [s3_pipeline.upload_folder_to_s3:82] Uploading export_metadata_241201.json -> s3://wallet-training-data/imports_raw/dda858_initial_wallet_batch/export_metadata_241201.json\u001b[0m\n",
      "\u001b[0m[23/Jun/25 12:57:33] INFO [s3_pipeline.upload_folder_to_s3:82] Uploading y_test_231107.parquet -> s3://wallet-training-data/imports_raw/dda858_initial_wallet_batch/y_test_231107.parquet\u001b[0m\n",
      "\u001b[0m[23/Jun/25 12:57:33] INFO [s3_pipeline.upload_folder_to_s3:82] Uploading x_eval_231008.parquet -> s3://wallet-training-data/imports_raw/dda858_initial_wallet_batch/x_eval_231008.parquet\u001b[0m\n",
      "\u001b[0m[23/Jun/25 12:57:34] INFO [s3_pipeline.upload_folder_to_s3:82] Uploading export_metadata_240902.json -> s3://wallet-training-data/imports_raw/dda858_initial_wallet_batch/export_metadata_240902.json\u001b[0m\n",
      "\u001b[0m[23/Jun/25 12:57:34] INFO [s3_pipeline.upload_folder_to_s3:82] Uploading x_val_230809.parquet -> s3://wallet-training-data/imports_raw/dda858_initial_wallet_batch/x_val_230809.parquet\u001b[0m\n",
      "\u001b[0m[23/Jun/25 12:57:40] INFO [s3_pipeline.upload_folder_to_s3:82] Uploading x_val_240505.parquet -> s3://wallet-training-data/imports_raw/dda858_initial_wallet_batch/x_val_240505.parquet\u001b[0m\n"
     ]
    }
   ],
   "source": [
    "sp.upload_folder_to_s3(\n",
    "    '../s3_wallet_loading_queue/dda858_initial_wallet_batch',\n",
    "    'wallet-training-data',\n",
    "    'imports_raw'\n",
    ")"
   ]
  },
  {
   "cell_type": "markdown",
   "metadata": {},
   "source": [
    "# Code begins"
   ]
  },
  {
   "cell_type": "code",
   "execution_count": null,
   "metadata": {},
   "outputs": [],
   "source": []
  }
 ],
 "metadata": {
  "kernelspec": {
   "display_name": ".venv",
   "language": "python",
   "name": "python3"
  },
  "language_info": {
   "codemirror_mode": {
    "name": "ipython",
    "version": 3
   },
   "file_extension": ".py",
   "mimetype": "text/x-python",
   "name": "python",
   "nbconvert_exporter": "python",
   "pygments_lexer": "ipython3",
   "version": "3.11.9"
  }
 },
 "nbformat": 4,
 "nbformat_minor": 2
}
