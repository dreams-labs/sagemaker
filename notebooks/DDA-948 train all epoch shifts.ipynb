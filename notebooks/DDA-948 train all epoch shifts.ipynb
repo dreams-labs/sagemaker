{
 "cells": [
  {
   "cell_type": "markdown",
   "metadata": {},
   "source": [
    "### start"
   ]
  },
  {
   "cell_type": "code",
   "execution_count": 32,
   "metadata": {},
   "outputs": [
    {
     "name": "stderr",
     "output_type": "stream",
     "text": [
      "\u001b[0m[08/Aug/25 12:08:11] INFO [utils.export_code:1672] Consolidation complete. All files are saved in temp/sagemaker_code.py\u001b[0m\n",
      "\u001b[92m[08/Aug/25 12:08:11] MILESTONE [2505902246.<module>:136] Good morning, let's get to work\u001b[0m\n"
     ]
    }
   ],
   "source": [
    "# pyright: reportMissingImports=false\n",
    "# pyright: reportMissingModuleSource=false\n",
    "\n",
    "import uuid\n",
    "import random\n",
    "import hashlib\n",
    "import os\n",
    "import sys\n",
    "import gc\n",
    "import time\n",
    "import copy\n",
    "import logging\n",
    "import re\n",
    "from itertools import chain,combinations\n",
    "import pdb\n",
    "import math\n",
    "from pathlib import Path\n",
    "import datetime\n",
    "from datetime import datetime,timedelta\n",
    "import json\n",
    "import warnings\n",
    "import yaml\n",
    "from typing import Dict,Union,List,Any,Tuple\n",
    "import pytest\n",
    "import importlib\n",
    "from dotenv import load_dotenv\n",
    "import pandas as pd\n",
    "import numpy as np\n",
    "import IPython\n",
    "import requests\n",
    "import warnings\n",
    "import boto3\n",
    "import matplotlib as plt\n",
    "import sklearn\n",
    "\n",
    "# load_dotenv(Path(\"../../../Local/.env\"))\n",
    "\n",
    "# Custom format function for displaying |numbers/\n",
    "pd.set_option('display.float_format', lambda x: f'{x:.12g}')\n",
    "# pd.reset_option('display.float_format')\n",
    "\n",
    "# Suppress warnings\n",
    "os.environ['PYDEVD_DISABLE_FILE_VALIDATION'] = '1'\n",
    "warnings.filterwarnings('ignore', message='.*frozen modules.*')\n",
    "warnings.filterwarnings(\"ignore\", message=\"MallocStackLogging\")\n",
    "\n",
    "# silence pygame donation request\n",
    "os.environ['PYGAME_HIDE_SUPPORT_PROMPT'] = \"hide\"\n",
    "os.environ['LOGGING_FILE'] = \"../../../Local/logs/wallet_modeling.log\"\n",
    "os.environ['NOTIFICATION_SOUNDS_DIR'] = \"../../../Local\"\n",
    "\n",
    "# Dark mode charts\n",
    "plt.rcParams['figure.facecolor'] = '#181818'  # Custom background color (dark gray in this case)\n",
    "plt.rcParams['axes.facecolor'] = '#181818'\n",
    "plt.rcParams['text.color'] = '#afc6ba'\n",
    "plt.rcParams['axes.labelcolor'] = '#afc6ba'\n",
    "plt.rcParams['xtick.color'] = '#afc6ba'\n",
    "plt.rcParams['ytick.color'] = '#afc6ba'\n",
    "plt.rcParams['axes.titlecolor'] = '#afc6ba'\n",
    "plt.rcParams['text.usetex'] = False\n",
    "plt.rcParams['mathtext.default'] = 'regular'\n",
    "\n",
    "# import local modules\n",
    "# pyright: reportMissingImports=false\n",
    "sys.path.append('../src')\n",
    "\n",
    "import sage_utils.config_validation as ucv\n",
    "import sage_utils.s3_utils as s3u\n",
    "\n",
    "import sage_wallet_insights.model_evaluation as sime\n",
    "\n",
    "import sage_wallet_modeling.wallet_modeler as wm\n",
    "from sage_wallet_modeling.wallet_preprocessor import SageWalletsPreprocessor\n",
    "import sage_wallet_modeling.wallet_script_modeler as sm\n",
    "import sage_wallet_modeling.workflow_orchestrator as wo\n",
    "\n",
    "import script_modeling.entry_helpers as h\n",
    "# import script_modeling.temporal_cv_model_entry as tme\n",
    "\n",
    "\n",
    "# import data-science modules\n",
    "sys.path.append(str(Path(\"..\") / \"..\" / \"data-science\" / \"src\"))\n",
    "import wallet_insights.model_evaluation as wime\n",
    "import utils as u\n",
    "from utils import ConfigError\n",
    "\n",
    "\n",
    "\n",
    "# reload all modules\n",
    "modules = [\n",
    "    ucv, s3u,\n",
    "    sime,\n",
    "    wm, sm, wo,\n",
    "    h,\n",
    "    wime,\n",
    "    u,\n",
    "]\n",
    "\n",
    "# import utils as u\n",
    "# Set the custom error handler\n",
    "ipython = IPython.get_ipython()\n",
    "# ipython.set_custom_exc((Exception,), u.notify_on_failure)\n",
    "\n",
    "player = u.AmbientPlayer()\n",
    "player.stop_all_players()\n",
    "\n",
    "# configure logger\n",
    "logger = u.setup_notebook_logger('../logs/notebook_logs.log')\n",
    "logger.setLevel(logging.INFO)\n",
    "\n",
    "from IPython.core import ultratb\n",
    "ultratb.VerboseTB._tb_highlight = \"bg:#b45827\"\n",
    "\n",
    "\n",
    "# load all configs\n",
    "sage_wallets_config = ucv.load_sage_wallets_config(Path('../config/sage_wallets_config.yaml'))\n",
    "sage_wallets_modeling_config = ucv.load_sage_wallets_modeling_config(Path('../config/sage_wallets_modeling_config.yaml'))\n",
    "\n",
    "\n",
    "u.export_code(\n",
    "    code_directories=[\n",
    "        # 'config_models',\n",
    "        'sage_wallet_insights',\n",
    "        'sage_wallet_modeling',\n",
    "        'script_modeling',\n",
    "        # 'sage_utils',\n",
    "    ],\n",
    "    # include_config = True,\n",
    "    # ipynb_notebook = 'DDA-769 coin model score dist toggle.ipynb'\n",
    "    output_file=\"temp/sagemaker_code.py\"\n",
    ")\n",
    "\n",
    "[importlib.reload(module) for module in modules]\n",
    "u.notify('retro')\n",
    "\n",
    "logger.milestone(\"Good morning, let's get to work\")"
   ]
  },
  {
   "cell_type": "markdown",
   "metadata": {},
   "source": [
    "# Model Training"
   ]
  },
  {
   "cell_type": "markdown",
   "metadata": {},
   "source": [
    "## Concatenated Model Sequence"
   ]
  },
  {
   "cell_type": "code",
   "execution_count": null,
   "metadata": {},
   "outputs": [],
   "source": [
    "[importlib.reload(module) for module in modules]\n",
    "sage_wallets_config = ucv.load_sage_wallets_config('../config/sage_wallets_config.yaml')\n",
    "sage_wallets_modeling_config = ucv.load_sage_wallets_modeling_config('../config/sage_wallets_modeling_config.yaml')\n",
    "\n",
    "\n",
    "workflow_orch = wo.WalletWorkflowOrchestrator(\n",
    "    sage_wallets_config,\n",
    "    sage_wallets_modeling_config\n",
    ")\n",
    "workflow_orch.load_all_training_data()"
   ]
  },
  {
   "cell_type": "markdown",
   "metadata": {},
   "source": [
    "#### preprocess and concatenate"
   ]
  },
  {
   "cell_type": "code",
   "execution_count": null,
   "metadata": {},
   "outputs": [],
   "source": [
    "results = workflow_orch.preprocess_all_training_data()"
   ]
  },
  {
   "cell_type": "code",
   "execution_count": null,
   "metadata": {},
   "outputs": [],
   "source": [
    "workflow_orch.concatenate_all_preprocessed_data(repreprocess_offsets=False)"
   ]
  },
  {
   "cell_type": "markdown",
   "metadata": {},
   "source": [
    "#### inspect features"
   ]
  },
  {
   "cell_type": "code",
   "execution_count": null,
   "metadata": {},
   "outputs": [],
   "source": [
    "local_s3 = sage_wallets_config['training_data']['local_s3_root']\n",
    "local_dir = sage_wallets_config['training_data']['local_directory']\n",
    "local_dir = f\"{local_dir}_dev\" if sage_wallets_config['training_data']['dataset'] == 'dev' else local_dir\n",
    "df = pd.read_csv(f'{local_s3}/s3_uploads/wallet_training_data_concatenated/{local_dir}/eval.csv')\n",
    "with open(f'{local_s3}/s3_uploads/wallet_training_data_concatenated/{local_dir}/metadata.json', 'r') as f:\n",
    "    metadata = json.load(f)\n",
    "\n",
    "df.columns = metadata['feature_columns']\n",
    "u.display_full(df.describe().T)"
   ]
  },
  {
   "cell_type": "markdown",
   "metadata": {},
   "source": [
    "#### upload"
   ]
  },
  {
   "cell_type": "code",
   "execution_count": null,
   "metadata": {},
   "outputs": [],
   "source": [
    "concat_uris = workflow_orch.upload_concatenated_training_data(\n",
    "    overwrite_existing=True,\n",
    "    # splits=['val']\n",
    ")"
   ]
  },
  {
   "cell_type": "markdown",
   "metadata": {},
   "source": [
    "#### train"
   ]
  },
  {
   "cell_type": "code",
   "execution_count": null,
   "metadata": {},
   "outputs": [],
   "source": [
    "[importlib.reload(module) for module in modules]\n",
    "sage_wallets_config = ucv.load_sage_wallets_config('../config/sage_wallets_config.yaml')\n",
    "sage_wallets_modeling_config = ucv.load_sage_wallets_modeling_config('../config/sage_wallets_modeling_config.yaml')\n",
    "\n",
    "\n",
    "workflow_orch = wo.WalletWorkflowOrchestrator(\n",
    "    sage_wallets_config,\n",
    "    sage_wallets_modeling_config\n",
    ")\n",
    "concat_uris = workflow_orch.upload_concatenated_training_data(overwrite_existing=False)\n",
    "modeling_results = workflow_orch.train_concatenated_offsets_model(concat_uris)"
   ]
  },
  {
   "cell_type": "markdown",
   "metadata": {},
   "source": [
    "#### train all epoch shifts"
   ]
  },
  {
   "cell_type": "code",
   "execution_count": null,
   "metadata": {},
   "outputs": [
    {
     "name": "stderr",
     "output_type": "stream",
     "text": [
      "\u001b[0m[07/Aug/25 18:13:52] INFO [workflow_orchestrator.upload_concatenated_training_data:386] Beginning upload of concatenated training data for splits ['train', 'eval', 'test', 'val', 'train_y', 'eval_y', 'test_y', 'val_y']...\u001b[0m\n",
      "\u001b[0m[07/Aug/25 18:13:52] INFO [workflow_orchestrator.upload_concatenated_training_data:389] Uploading concatenated splits in parallel with 4 threads...\u001b[0m\n",
      "\u001b[0m[07/Aug/25 18:13:52] INFO [workflow_orchestrator._upload_split:400] File exists, skipping upload of concatenated split 'eval': training-data-concatenated/dda-947-x-in-cont-dev/eval.csv\u001b[0m\n",
      "\u001b[0m[07/Aug/25 18:13:52] INFO [workflow_orchestrator._upload_split:400] File exists, skipping upload of concatenated split 'train': training-data-concatenated/dda-947-x-in-cont-dev/train.csv\u001b[0m\n",
      "\u001b[0m[07/Aug/25 18:13:52] INFO [workflow_orchestrator._upload_split:400] File exists, skipping upload of concatenated split 'val': training-data-concatenated/dda-947-x-in-cont-dev/val.csv\u001b[0m\n",
      "\u001b[0m[07/Aug/25 18:13:52] INFO [workflow_orchestrator._upload_split:400] File exists, skipping upload of concatenated split 'test': training-data-concatenated/dda-947-x-in-cont-dev/test.csv\u001b[0m\n",
      "\u001b[0m[07/Aug/25 18:13:52] INFO [workflow_orchestrator._upload_split:400] File exists, skipping upload of concatenated split 'val_y': training-data-concatenated/dda-947-x-in-cont-dev/val_y.csv\u001b[0m\n",
      "\u001b[0m[07/Aug/25 18:13:52] INFO [workflow_orchestrator._upload_split:400] File exists, skipping upload of concatenated split 'train_y': training-data-concatenated/dda-947-x-in-cont-dev/train_y.csv\u001b[0m\n",
      "\u001b[0m[07/Aug/25 18:13:52] INFO [workflow_orchestrator._upload_split:400] File exists, skipping upload of concatenated split 'test_y': training-data-concatenated/dda-947-x-in-cont-dev/test_y.csv\u001b[0m\n",
      "\u001b[0m[07/Aug/25 18:13:52] INFO [workflow_orchestrator._upload_split:400] File exists, skipping upload of concatenated split 'eval_y': training-data-concatenated/dda-947-x-in-cont-dev/eval_y.csv\u001b[0m\n",
      "\u001b[0m[07/Aug/25 18:13:52] INFO [workflow_orchestrator.upload_concatenated_training_data:421] Uploading concatenated metadata...\u001b[0m\n",
      "\u001b[0m[07/Aug/25 18:13:52] INFO [workflow_orchestrator.upload_concatenated_training_data:433] Metadata exists, skipping upload: training-data-concatenated/dda-947-x-in-cont-dev/metadata.json\u001b[0m\n",
      "\u001b[0m[07/Aug/25 18:13:52] INFO [workflow_orchestrator.upload_concatenated_training_data:446] Validating custom filter configuration...\u001b[0m\n",
      "\u001b[0m[07/Aug/25 18:13:52] INFO [workflow_orchestrator._validate_custom_filters_config:1338] Custom filter validation passed: 1 filters validated\u001b[0m\n",
      "\u001b[0m[07/Aug/25 18:13:52] INFO [workflow_orchestrator.None:343] (0.5s) Completed upload_concatenated_training_data.\u001b[0m\n",
      "\u001b[92m[07/Aug/25 18:13:52] MILESTONE [workflow_orchestrator.train_all_epoch_shift_models:620] Training models for 1 epoch shifts: [60]\u001b[0m\n",
      "\u001b[0m[07/Aug/25 18:13:52] INFO [workflow_orchestrator.train_all_epoch_shift_models:621] Using 4 concurrent training jobs\u001b[0m\n",
      "\u001b[0m[07/Aug/25 18:13:52] INFO [workflow_orchestrator._train_single_epoch_shift:692] Starting training for epoch_shift=60\u001b[0m\n",
      "\u001b[0m[07/Aug/25 18:13:52] INFO [wallet_script_modeler.initiate_script_modeling:57] HPO disabled for sh60, using standard training...\u001b[0m\n",
      "\u001b[0m[07/Aug/25 18:13:52] INFO [image_uris._validate_py_version_and_set_if_needed:603] Ignoring unnecessary Python version: py3.\u001b[0m\n",
      "\u001b[0m[07/Aug/25 18:13:52] INFO [image_uris._processor:530] Ignoring unnecessary instance type: ml.m5.2xlarge.\u001b[0m\n",
      "\u001b[0m[07/Aug/25 18:13:53] INFO [wallet_script_modeler._train_single_period_script_model:143] Launching script-mode training job with custom targets: wscr-dda-947--sh60-0807-181352\u001b[0m\n",
      "\u001b[0m[07/Aug/25 18:13:53] INFO [telemetry_logging.wrapper:92] SageMaker Python SDK will collect telemetry to help us better understand our user's needs, diagnose issues, and deliver additional features.\n",
      "To opt out of telemetry, please disable via TelemetryOptOut parameter in SDK defaults config. For more information, refer to https://sagemaker.readthedocs.io/en/stable/overview.html#configuring-and-using-defaults-with-the-sagemaker-python-sdk.\u001b[0m\n",
      "\u001b[0m[07/Aug/25 18:13:54] INFO [session.submit:1053] Creating training-job with name: wscr-dda-947--sh60-0807-181352\u001b[0m\n"
     ]
    },
    {
     "name": "stdout",
     "output_type": "stream",
     "text": [
      "2025-08-08 01:13:55 Starting - Starting the training job...\n",
      "2025-08-08 01:14:30 Downloading - Downloading input data...\n",
      "2025-08-08 01:14:45 Downloading - Downloading the training image...\n",
      "2025-08-08 01:15:31 Training - Training image download completed. Training in progress..../miniconda3/lib/python3.9/site-packages/sagemaker_containers/_server.py:22: UserWarning: pkg_resources is deprecated as an API. See https://setuptools.pypa.io/en/latest/pkg_resources.html. The pkg_resources package is slated for removal as early as 2025-11-30. Refrain from using this package or pin to Setuptools<81.\n",
      "  import pkg_resources\n",
      "[2025-08-08 01:15:54.129 ip-10-0-114-251.us-west-2.compute.internal:7 INFO utils.py:28] RULE_JOB_STOP_SIGNAL_FILENAME: None\n",
      "[2025-08-08 01:15:54.153 ip-10-0-114-251.us-west-2.compute.internal:7 INFO profiler_config_parser.py:111] User has disabled profiler.\n",
      "[2025-08-08:01:15:54:INFO] Imported framework sagemaker_xgboost_container.training\n",
      "[2025-08-08:01:15:54:INFO] No GPUs detected (normal if no gpus installed)\n",
      "[2025-08-08:01:15:54:INFO] Invoking user training script.\n",
      "[2025-08-08:01:15:54:INFO] Module single_model_entry does not provide a setup.py. \n",
      "Generating setup.py\n",
      "[2025-08-08:01:15:54:INFO] Generating setup.cfg\n",
      "[2025-08-08:01:15:54:INFO] Generating MANIFEST.in\n",
      "[2025-08-08:01:15:54:INFO] Installing module with the following command:\n",
      "/miniconda3/bin/python3 -m pip install . -r requirements.txt\n",
      "Processing /opt/ml/code\n",
      "  Preparing metadata (setup.py): started\n",
      "  Preparing metadata (setup.py): finished with status 'done'\n",
      "Requirement already satisfied: xgboost in /miniconda3/lib/python3.9/site-packages (from -r requirements.txt (line 1)) (1.7.4)\n",
      "Requirement already satisfied: pandas in /miniconda3/lib/python3.9/site-packages (from -r requirements.txt (line 2)) (1.2.4)\n",
      "Requirement already satisfied: numpy in /miniconda3/lib/python3.9/site-packages (from -r requirements.txt (line 3)) (1.24.1)\n",
      "Requirement already satisfied: scipy in /miniconda3/lib/python3.9/site-packages (from xgboost->-r requirements.txt (line 1)) (1.8.0)\n",
      "Requirement already satisfied: python-dateutil>=2.7.3 in /miniconda3/lib/python3.9/site-packages (from pandas->-r requirements.txt (line 2)) (2.8.1)\n",
      "Requirement already satisfied: pytz>=2017.3 in /miniconda3/lib/python3.9/site-packages (from pandas->-r requirements.txt (line 2)) (2025.2)\n",
      "Requirement already satisfied: six>=1.5 in /miniconda3/lib/python3.9/site-packages (from python-dateutil>=2.7.3->pandas->-r requirements.txt (line 2)) (1.17.0)\n",
      "Building wheels for collected packages: single_model_entry\n",
      "  DEPRECATION: Building 'single_model_entry' using the legacy setup.py bdist_wheel mechanism, which will be removed in a future version. pip 25.3 will enforce this behaviour change. A possible replacement is to use the standardized build interface by setting the `--use-pep517` option, (possibly combined with `--no-build-isolation`), or adding a `pyproject.toml` file to the source tree of 'single_model_entry'. Discussion can be found at https://github.com/pypa/pip/issues/6334\n",
      "  Building wheel for single_model_entry (setup.py): started\n",
      "  Building wheel for single_model_entry (setup.py): finished with status 'done'\n",
      "  Created wheel for single_model_entry: filename=single_model_entry-1.0.0-py2.py3-none-any.whl size=22875 sha256=2389db9ab58ef52d915065bad327a49745802b0265324eca53c0e01df301f183\n",
      "  Stored in directory: /home/model-server/tmp/pip-ephem-wheel-cache-iauoaw8g/wheels/40/03/3a/5f39818cea87b3c154b54d046a775b3da4b8ed9b642b8d50e6\n",
      "Successfully built single_model_entry\n",
      "Installing collected packages: single_model_entry\n",
      "Successfully installed single_model_entry-1.0.0\n",
      "WARNING: Running pip as the 'root' user can result in broken permissions and conflicting behaviour with the system package manager, possibly rendering your system unusable. It is recommended to use a virtual environment instead: https://pip.pypa.io/warnings/venv. Use the --root-user-action option if you know what you are doing and want to suppress this warning.\n",
      "[notice] A new release of pip is available: 25.1.1 -> 25.2\n",
      "[notice] To update, run: pip install --upgrade pip\n",
      "[2025-08-08:01:15:55:INFO] No GPUs detected (normal if no gpus installed)\n",
      "[2025-08-08:01:15:55:INFO] Invoking user script\n",
      "Training Env:\n",
      "{\n",
      "    \"additional_framework_parameters\": {},\n",
      "    \"channel_input_dirs\": {\n",
      "        \"metadata\": \"/opt/ml/input/data/metadata\",\n",
      "        \"modeling_config\": \"/opt/ml/input/data/modeling_config\",\n",
      "        \"train_x\": \"/opt/ml/input/data/train_x\",\n",
      "        \"train_y\": \"/opt/ml/input/data/train_y\",\n",
      "        \"validation_x\": \"/opt/ml/input/data/validation_x\",\n",
      "        \"validation_y\": \"/opt/ml/input/data/validation_y\",\n",
      "        \"wallets_config\": \"/opt/ml/input/data/wallets_config\"\n",
      "    },\n",
      "    \"current_host\": \"algo-1\",\n",
      "    \"framework_module\": \"sagemaker_xgboost_container.training:main\",\n",
      "    \"hosts\": [\n",
      "        \"algo-1\"\n",
      "    ],\n",
      "    \"hyperparameters\": {\n",
      "        \"alpha\": 5,\n",
      "        \"colsample_bytree\": 0.8,\n",
      "        \"early_stopping_rounds\": 25,\n",
      "        \"epoch_shift\": 60,\n",
      "        \"eta\": 0.5,\n",
      "        \"gamma\": 0.3,\n",
      "        \"lambda\": 5,\n",
      "        \"max_depth\": 4,\n",
      "        \"min_child_weight\": 10,\n",
      "        \"num_boost_round\": 500,\n",
      "        \"scale_pos_weight\": 3,\n",
      "        \"subsample\": 0.8\n",
      "    },\n",
      "    \"input_config_dir\": \"/opt/ml/input/config\",\n",
      "    \"input_data_config\": {\n",
      "        \"metadata\": {\n",
      "            \"ContentType\": \"application/json\",\n",
      "            \"TrainingInputMode\": \"File\",\n",
      "            \"S3DistributionType\": \"FullyReplicated\",\n",
      "            \"RecordWrapperType\": \"None\"\n",
      "        },\n",
      "        \"modeling_config\": {\n",
      "            \"ContentType\": \"application/json\",\n",
      "            \"TrainingInputMode\": \"File\",\n",
      "            \"S3DistributionType\": \"FullyReplicated\",\n",
      "            \"RecordWrapperType\": \"None\"\n",
      "        },\n",
      "        \"train_x\": {\n",
      "            \"ContentType\": \"text/csv\",\n",
      "            \"TrainingInputMode\": \"File\",\n",
      "            \"S3DistributionType\": \"FullyReplicated\",\n",
      "            \"RecordWrapperType\": \"None\"\n",
      "        },\n",
      "        \"train_y\": {\n",
      "            \"ContentType\": \"text/csv\",\n",
      "            \"TrainingInputMode\": \"File\",\n",
      "            \"S3DistributionType\": \"FullyReplicated\",\n",
      "            \"RecordWrapperType\": \"None\"\n",
      "        },\n",
      "        \"validation_x\": {\n",
      "            \"ContentType\": \"text/csv\",\n",
      "            \"TrainingInputMode\": \"File\",\n",
      "            \"S3DistributionType\": \"FullyReplicated\",\n",
      "            \"RecordWrapperType\": \"None\"\n",
      "        },\n",
      "        \"validation_y\": {\n",
      "            \"ContentType\": \"text/csv\",\n",
      "            \"TrainingInputMode\": \"File\",\n",
      "            \"S3DistributionType\": \"FullyReplicated\",\n",
      "            \"RecordWrapperType\": \"None\"\n",
      "        },\n",
      "        \"wallets_config\": {\n",
      "            \"ContentType\": \"application/json\",\n",
      "            \"TrainingInputMode\": \"File\",\n",
      "            \"S3DistributionType\": \"FullyReplicated\",\n",
      "            \"RecordWrapperType\": \"None\"\n",
      "        }\n",
      "    },\n",
      "    \"input_dir\": \"/opt/ml/input\",\n",
      "    \"is_master\": true,\n",
      "    \"job_name\": \"wscr-dda-947--sh60-0807-181352\",\n",
      "    \"log_level\": 20,\n",
      "    \"master_hostname\": \"algo-1\",\n",
      "    \"model_dir\": \"/opt/ml/model\",\n",
      "    \"module_dir\": \"s3://wallet-script-models/wscr-dda-947--sh60-0807-181352/source/sourcedir.tar.gz\",\n",
      "    \"module_name\": \"single_model_entry\",\n",
      "    \"network_interface_name\": \"eth0\",\n",
      "    \"num_cpus\": 8,\n",
      "    \"num_gpus\": 0,\n",
      "    \"output_data_dir\": \"/opt/ml/output/data\",\n",
      "    \"output_dir\": \"/opt/ml/output\",\n",
      "    \"output_intermediate_dir\": \"/opt/ml/output/intermediate\",\n",
      "    \"resource_config\": {\n",
      "        \"current_host\": \"algo-1\",\n",
      "        \"current_instance_type\": \"ml.m5.2xlarge\",\n",
      "        \"current_group_name\": \"homogeneousCluster\",\n",
      "        \"hosts\": [\n",
      "            \"algo-1\"\n",
      "        ],\n",
      "        \"instance_groups\": [\n",
      "            {\n",
      "                \"instance_group_name\": \"homogeneousCluster\",\n",
      "                \"instance_type\": \"ml.m5.2xlarge\",\n",
      "                \"hosts\": [\n",
      "                    \"algo-1\"\n",
      "                ]\n",
      "            }\n",
      "        ],\n",
      "        \"network_interface_name\": \"eth0\",\n",
      "        \"topology\": null\n",
      "    },\n",
      "    \"user_entry_point\": \"single_model_entry.py\"\n",
      "}\n",
      "Environment variables:\n",
      "SM_HOSTS=[\"algo-1\"]\n",
      "SM_NETWORK_INTERFACE_NAME=eth0\n",
      "SM_HPS={\"alpha\":5,\"colsample_bytree\":0.8,\"early_stopping_rounds\":25,\"epoch_shift\":60,\"eta\":0.5,\"gamma\":0.3,\"lambda\":5,\"max_depth\":4,\"min_child_weight\":10,\"num_boost_round\":500,\"scale_pos_weight\":3,\"subsample\":0.8}\n",
      "SM_USER_ENTRY_POINT=single_model_entry.py\n",
      "SM_FRAMEWORK_PARAMS={}\n",
      "SM_RESOURCE_CONFIG={\"current_group_name\":\"homogeneousCluster\",\"current_host\":\"algo-1\",\"current_instance_type\":\"ml.m5.2xlarge\",\"hosts\":[\"algo-1\"],\"instance_groups\":[{\"hosts\":[\"algo-1\"],\"instance_group_name\":\"homogeneousCluster\",\"instance_type\":\"ml.m5.2xlarge\"}],\"network_interface_name\":\"eth0\",\"topology\":null}\n",
      "SM_INPUT_DATA_CONFIG={\"metadata\":{\"ContentType\":\"application/json\",\"RecordWrapperType\":\"None\",\"S3DistributionType\":\"FullyReplicated\",\"TrainingInputMode\":\"File\"},\"modeling_config\":{\"ContentType\":\"application/json\",\"RecordWrapperType\":\"None\",\"S3DistributionType\":\"FullyReplicated\",\"TrainingInputMode\":\"File\"},\"train_x\":{\"ContentType\":\"text/csv\",\"RecordWrapperType\":\"None\",\"S3DistributionType\":\"FullyReplicated\",\"TrainingInputMode\":\"File\"},\"train_y\":{\"ContentType\":\"text/csv\",\"RecordWrapperType\":\"None\",\"S3DistributionType\":\"FullyReplicated\",\"TrainingInputMode\":\"File\"},\"validation_x\":{\"ContentType\":\"text/csv\",\"RecordWrapperType\":\"None\",\"S3DistributionType\":\"FullyReplicated\",\"TrainingInputMode\":\"File\"},\"validation_y\":{\"ContentType\":\"text/csv\",\"RecordWrapperType\":\"None\",\"S3DistributionType\":\"FullyReplicated\",\"TrainingInputMode\":\"File\"},\"wallets_config\":{\"ContentType\":\"application/json\",\"RecordWrapperType\":\"None\",\"S3DistributionType\":\"FullyReplicated\",\"TrainingInputMode\":\"File\"}}\n",
      "SM_OUTPUT_DATA_DIR=/opt/ml/output/data\n",
      "SM_CHANNELS=[\"metadata\",\"modeling_config\",\"train_x\",\"train_y\",\"validation_x\",\"validation_y\",\"wallets_config\"]\n",
      "SM_CURRENT_HOST=algo-1\n",
      "SM_MODULE_NAME=single_model_entry\n",
      "SM_LOG_LEVEL=20\n",
      "SM_FRAMEWORK_MODULE=sagemaker_xgboost_container.training:main\n",
      "SM_INPUT_DIR=/opt/ml/input\n",
      "SM_INPUT_CONFIG_DIR=/opt/ml/input/config\n",
      "SM_OUTPUT_DIR=/opt/ml/output\n",
      "SM_NUM_CPUS=8\n",
      "SM_NUM_GPUS=0\n",
      "SM_MODEL_DIR=/opt/ml/model\n",
      "SM_MODULE_DIR=s3://wallet-script-models/wscr-dda-947--sh60-0807-181352/source/sourcedir.tar.gz\n",
      "SM_TRAINING_ENV={\"additional_framework_parameters\":{},\"channel_input_dirs\":{\"metadata\":\"/opt/ml/input/data/metadata\",\"modeling_config\":\"/opt/ml/input/data/modeling_config\",\"train_x\":\"/opt/ml/input/data/train_x\",\"train_y\":\"/opt/ml/input/data/train_y\",\"validation_x\":\"/opt/ml/input/data/validation_x\",\"validation_y\":\"/opt/ml/input/data/validation_y\",\"wallets_config\":\"/opt/ml/input/data/wallets_config\"},\"current_host\":\"algo-1\",\"framework_module\":\"sagemaker_xgboost_container.training:main\",\"hosts\":[\"algo-1\"],\"hyperparameters\":{\"alpha\":5,\"colsample_bytree\":0.8,\"early_stopping_rounds\":25,\"epoch_shift\":60,\"eta\":0.5,\"gamma\":0.3,\"lambda\":5,\"max_depth\":4,\"min_child_weight\":10,\"num_boost_round\":500,\"scale_pos_weight\":3,\"subsample\":0.8},\"input_config_dir\":\"/opt/ml/input/config\",\"input_data_config\":{\"metadata\":{\"ContentType\":\"application/json\",\"RecordWrapperType\":\"None\",\"S3DistributionType\":\"FullyReplicated\",\"TrainingInputMode\":\"File\"},\"modeling_config\":{\"ContentType\":\"application/json\",\"RecordWrapperType\":\"None\",\"S3DistributionType\":\"FullyReplicated\",\"TrainingInputMode\":\"File\"},\"train_x\":{\"ContentType\":\"text/csv\",\"RecordWrapperType\":\"None\",\"S3DistributionType\":\"FullyReplicated\",\"TrainingInputMode\":\"File\"},\"train_y\":{\"ContentType\":\"text/csv\",\"RecordWrapperType\":\"None\",\"S3DistributionType\":\"FullyReplicated\",\"TrainingInputMode\":\"File\"},\"validation_x\":{\"ContentType\":\"text/csv\",\"RecordWrapperType\":\"None\",\"S3DistributionType\":\"FullyReplicated\",\"TrainingInputMode\":\"File\"},\"validation_y\":{\"ContentType\":\"text/csv\",\"RecordWrapperType\":\"None\",\"S3DistributionType\":\"FullyReplicated\",\"TrainingInputMode\":\"File\"},\"wallets_config\":{\"ContentType\":\"application/json\",\"RecordWrapperType\":\"None\",\"S3DistributionType\":\"FullyReplicated\",\"TrainingInputMode\":\"File\"}},\"input_dir\":\"/opt/ml/input\",\"is_master\":true,\"job_name\":\"wscr-dda-947--sh60-0807-181352\",\"log_level\":20,\"master_hostname\":\"algo-1\",\"model_dir\":\"/opt/ml/model\",\"module_dir\":\"s3://wallet-script-models/wscr-dda-947--sh60-0807-181352/source/sourcedir.tar.gz\",\"module_name\":\"single_model_entry\",\"network_interface_name\":\"eth0\",\"num_cpus\":8,\"num_gpus\":0,\"output_data_dir\":\"/opt/ml/output/data\",\"output_dir\":\"/opt/ml/output\",\"output_intermediate_dir\":\"/opt/ml/output/intermediate\",\"resource_config\":{\"current_group_name\":\"homogeneousCluster\",\"current_host\":\"algo-1\",\"current_instance_type\":\"ml.m5.2xlarge\",\"hosts\":[\"algo-1\"],\"instance_groups\":[{\"hosts\":[\"algo-1\"],\"instance_group_name\":\"homogeneousCluster\",\"instance_type\":\"ml.m5.2xlarge\"}],\"network_interface_name\":\"eth0\",\"topology\":null},\"user_entry_point\":\"single_model_entry.py\"}\n",
      "SM_USER_ARGS=[\"--alpha\",\"5\",\"--colsample_bytree\",\"0.8\",\"--early_stopping_rounds\",\"25\",\"--epoch_shift\",\"60\",\"--eta\",\"0.5\",\"--gamma\",\"0.3\",\"--lambda\",\"5\",\"--max_depth\",\"4\",\"--min_child_weight\",\"10\",\"--num_boost_round\",\"500\",\"--scale_pos_weight\",\"3\",\"--subsample\",\"0.8\"]\n",
      "SM_OUTPUT_INTERMEDIATE_DIR=/opt/ml/output/intermediate\n",
      "SM_CHANNEL_METADATA=/opt/ml/input/data/metadata\n",
      "SM_CHANNEL_MODELING_CONFIG=/opt/ml/input/data/modeling_config\n",
      "SM_CHANNEL_TRAIN_X=/opt/ml/input/data/train_x\n",
      "SM_CHANNEL_TRAIN_Y=/opt/ml/input/data/train_y\n",
      "SM_CHANNEL_VALIDATION_X=/opt/ml/input/data/validation_x\n",
      "SM_CHANNEL_VALIDATION_Y=/opt/ml/input/data/validation_y\n",
      "SM_CHANNEL_WALLETS_CONFIG=/opt/ml/input/data/wallets_config\n",
      "SM_HP_ALPHA=5\n",
      "SM_HP_COLSAMPLE_BYTREE=0.8\n",
      "SM_HP_EARLY_STOPPING_ROUNDS=25\n",
      "SM_HP_EPOCH_SHIFT=60\n",
      "SM_HP_ETA=0.5\n",
      "SM_HP_GAMMA=0.3\n",
      "SM_HP_LAMBDA=5\n",
      "SM_HP_MAX_DEPTH=4\n",
      "SM_HP_MIN_CHILD_WEIGHT=10\n",
      "SM_HP_NUM_BOOST_ROUND=500\n",
      "SM_HP_SCALE_POS_WEIGHT=3\n",
      "SM_HP_SUBSAMPLE=0.8\n",
      "PYTHONPATH=/miniconda3/bin:/:/miniconda3/lib/python/site-packages/xgboost/dmlc-core/tracker:/miniconda3/lib/python39.zip:/miniconda3/lib/python3.9:/miniconda3/lib/python3.9/lib-dynload:/miniconda3/lib/python3.9/site-packages:/miniconda3/lib/python3.9/site-packages/setuptools/_vendor\n",
      "Invoking script with the following command:\n",
      "/miniconda3/bin/python3 -m single_model_entry --alpha 5 --colsample_bytree 0.8 --early_stopping_rounds 25 --epoch_shift 60 --eta 0.5 --gamma 0.3 --lambda 5 --max_depth 4 --min_child_weight 10 --num_boost_round 500 --scale_pos_weight 3 --subsample 0.8\n",
      "/miniconda3/lib/python3.9/site-packages/sklearn/utils/fixes.py:28: UserWarning: pkg_resources is deprecated as an API. See https://setuptools.pypa.io/en/latest/pkg_resources.html. The pkg_resources package is slated for removal as early as 2025-11-30. Refrain from using this package or pin to Setuptools<81.\n",
      "  from pkg_resources import parse_version  # type: ignore\n",
      "{'training_data': {'local_s3_root': '../', 'training_data_directory': 'dda_945_filters_bal', 'local_directory': 'dda_947_x_in_cont_v7', 'upload_directory': 'dda-947-x-in-cont', 'dataset': 'dev', 'concatenate_offsets': True, 'date_0': '200127', 'epoch_shifts': [60], 'train_offsets': ['240106', '240306'], 'eval_offsets': ['230809', '230908', '231008', '231107', '231207', '240106', '240205', '240306', '240405'], 'test_offsets': ['230809', '230908', '231008', '231107', '231207', '240106', '240205', '240306', '240405'], 'val_offsets': ['240405', '240505', '240604', '240704', '240803', '240902']}, 'preprocessing': {'fill_na': {'coin_trends': -1, 'mktcap': -1, 'performance': 0, 'scenario|ideal': 'max', 'scenario|worst': 'min', 'scenario|net_perf': 'mean', 'transfers': -1, 'timing': 0, 'balance': 0, 'macro': -1}}, 'workflow': {'override_existing_models': True}, 'aws': {'training_bucket': 'wallet-training-data', 'script_model_bucket': 'wallet-script-models', 'preprocessed_directory': 'training-data-preprocessed', 'concatenated_directory': 'training-data-concatenated', 'temporal_cv_directory': 'training-data-temporal-cvs', 'modeler_arn': 'arn:aws:iam::891377123484:role/sagemaker_runner'}, 'n_threads': {'upload_all_training_data': 4, 'train_all_models': 4, 'predict_datasets': 4, 'predict_all_models': 4, 'evaluate_all_models': 4}}\n",
      "{'framework': {'name': 'xgboost', 'version': '1.7-1'}, 'metaparams': {'endpoint_preds_dir': 'temp/endpoint_predictions', 'instance_type': 'ml.m5.2xlarge', 'instance_count': 1, 'batch_trans_instance_type': 'ml.m6i.xlarge', 'batch_trans_instance_count': 1}, 'script_mode': {'entry_point': 'single_model_entry.py', 'source_dir': '../src/script_modeling'}, 'target': {'classification': {'threshold': 0.4}, 'target_var': 'crypto_net_gain/crypto_inflows/base'}, 'training': {'model_type': 'classification', 'eval_metric': 'aucpr', 'custom_val': {'metric': 'cw_coin_return_winsorized', 'top_quantile': 0.01, 'top_scores': 0.8}, 'custom_filters': {'macro|btc_mvrv_z_score_last|w1': {'cli': 'btc_mvrv', 'min': 1.0, 'max': 10}}, 'hyperparameters': {'num_round': 500, 'max_depth': 4, 'min_child_weight': 10, 'eta': 0.5, 'early_stopping_rounds': 25, 'subsample': 0.8, 'colsample_bytree': 0.8, 'scale_pos_weight': 3, 'alpha': 5, 'lambda': 5, 'gamma': 0.3, 'epoch_shift': 60}, 'hpo': {'objective_metric_name': 'validation:aucpr', 'objective_type': 'maximize', 'param_ranges': {'alpha': [0, 10], 'lambda': [1, 20]}, 'max_jobs': 20, 'max_parallel_jobs': 10}}, 'predicting': {'y_pred_threshold': 0.8}}\n",
      "Applying epoch shift filtering: 60 days\n",
      "Unique offset_date values in data: [1440.0, 1470.0, 1500.0, 1530.0, 1560.0, 1590.0, 1620.0]\n",
      "Target offset_days after 60 shift: [1500, 1560]\n",
      "Unique offset_date values in data: [1290.0, 1320.0, 1350.0, 1380.0, 1410.0, 1440.0, 1470.0, 1500.0, 1530.0, 1560.0, 1590.0, 1620.0, 1650.0]\n",
      "Target offset_days after 60 shift: [1500, 1560]\n",
      "After epoch shift filtering - Train: 2000 rows, Val: 2000 rows\n",
      "Starting with 2,000 rows before custom filtering\n",
      "Column stats for macro|btc_mvrv_z_score_last|w1:\n",
      "  Min: 2\n",
      "  Max: 3\n",
      "Filter 'macro|btc_mvrv_z_score_last|w1' min 1.0: removed 0 rows\n",
      "Filter 'macro|btc_mvrv_z_score_last|w1' max 10: removed 0 rows\n",
      "Filter 'macro|btc_mvrv_z_score_last|w1' total impact: removed 0 rows (2,000 remaining)\n",
      "Custom filtering complete: 0 rows removed (0.0%), 2,000 rows remaining\n",
      "Starting with 2,000 rows before custom filtering\n",
      "Column stats for macro|btc_mvrv_z_score_last|w1:\n",
      "  Min: 2\n",
      "  Max: 3\n",
      "Filter 'macro|btc_mvrv_z_score_last|w1' min 1.0: removed 0 rows\n",
      "Filter 'macro|btc_mvrv_z_score_last|w1' max 10: removed 0 rows\n",
      "Filter 'macro|btc_mvrv_z_score_last|w1' total impact: removed 0 rows (2,000 remaining)\n",
      "Custom filtering complete: 0 rows removed (0.0%), 2,000 rows remaining\n",
      "/miniconda3/lib/python3.9/site-packages/xgboost/training.py:39: UserWarning: `feval` is deprecated, use `custom_metric` instead.  They have different behavior when custom objective is also used.See https://xgboost.readthedocs.io/en/latest/tutorials/custom_metric_obj.html for details on the `custom_metric`.\n",
      "  warnings.warn(\n",
      "[01:15:57] WARNING: ../src/learner.cc:767: \n",
      "Parameters: { \"early_stopping_rounds\", \"epoch_shift\", \"num_boost_round\" } are not used.\n",
      "[0]#011eval-aucpr:0.07059\n",
      "[1]#011eval-aucpr:0.09747\n",
      "[2]#011eval-aucpr:0.09809\n",
      "[3]#011eval-aucpr:0.10411\n",
      "[4]#011eval-aucpr:0.10723\n",
      "[5]#011eval-aucpr:0.11063\n",
      "[6]#011eval-aucpr:0.11224\n",
      "[7]#011eval-aucpr:0.10787\n",
      "[8]#011eval-aucpr:0.11989\n",
      "[9]#011eval-aucpr:0.12041\n",
      "[10]#011eval-aucpr:0.12013\n",
      "[11]#011eval-aucpr:0.12977\n",
      "[12]#011eval-aucpr:0.13113\n",
      "[13]#011eval-aucpr:0.12412\n",
      "[14]#011eval-aucpr:0.12172\n",
      "[15]#011eval-aucpr:0.12567\n",
      "[16]#011eval-aucpr:0.13995\n",
      "[17]#011eval-aucpr:0.15426\n",
      "[18]#011eval-aucpr:0.14760\n",
      "[19]#011eval-aucpr:0.15103\n",
      "[20]#011eval-aucpr:0.14980\n",
      "[21]#011eval-aucpr:0.14339\n",
      "[22]#011eval-aucpr:0.13609\n",
      "[23]#011eval-aucpr:0.14168\n",
      "[24]#011eval-aucpr:0.13887\n",
      "[25]#011eval-aucpr:0.14128\n",
      "[26]#011eval-aucpr:0.13808\n",
      "[27]#011eval-aucpr:0.14125\n",
      "[28]#011eval-aucpr:0.14145\n",
      "[29]#011eval-aucpr:0.14110\n",
      "[30]#011eval-aucpr:0.14604\n",
      "[31]#011eval-aucpr:0.14522\n",
      "[32]#011eval-aucpr:0.14451\n",
      "[33]#011eval-aucpr:0.14300\n",
      "[34]#011eval-aucpr:0.14535\n",
      "[35]#011eval-aucpr:0.14680\n",
      "[36]#011eval-aucpr:0.14810\n",
      "[37]#011eval-aucpr:0.15080\n",
      "[38]#011eval-aucpr:0.14600\n",
      "[39]#011eval-aucpr:0.14920\n",
      "[40]#011eval-aucpr:0.14821\n",
      "[41]#011eval-aucpr:0.14940\n",
      "\n",
      "2025-08-08 01:16:19 Uploading - Uploading generated training model\n",
      "2025-08-08 01:16:19 Completed - Training job completed\n",
      "Training seconds: 109\n",
      "Billable seconds: 109\n"
     ]
    },
    {
     "name": "stderr",
     "output_type": "stream",
     "text": [
      "\u001b[0m[07/Aug/25 18:16:48] INFO [wallet_script_modeler._train_single_period_script_model:147] Script-mode training completed. Model URI: s3://wallet-script-models/model-outputs/dda-947-x-in-cont-dev/sh60/wscr-dda-947--sh60-0807-181352/output/model.tar.gz\u001b[0m\n",
      "\u001b[92m[07/Aug/25 18:16:48] MILESTONE [workflow_orchestrator.train_all_epoch_shift_models:638] Successfully completed training for epoch_shift=60\u001b[0m\n",
      "\u001b[92m[07/Aug/25 18:16:48] MILESTONE [workflow_orchestrator.train_all_epoch_shift_models:644] Epoch shift training complete: 1/1 models successful\u001b[0m\n"
     ]
    }
   ],
   "source": [
    "[importlib.reload(module) for module in modules]\n",
    "sage_wallets_config = ucv.load_sage_wallets_config('../config/sage_wallets_config.yaml')\n",
    "sage_wallets_modeling_config = ucv.load_sage_wallets_modeling_config('../config/sage_wallets_modeling_config.yaml')\n",
    "\n",
    "\n",
    "workflow_orch = wo.WalletWorkflowOrchestrator(\n",
    "    sage_wallets_config,\n",
    "    sage_wallets_modeling_config\n",
    ")\n",
    "concat_uris = workflow_orch.upload_concatenated_training_data(overwrite_existing=False)\n",
    "modeling_results = workflow_orch.train_all_epoch_shift_models(concat_uris)"
   ]
  },
  {
   "cell_type": "markdown",
   "metadata": {},
   "source": [
    "#### evaluate HPO outcomes"
   ]
  },
  {
   "cell_type": "code",
   "execution_count": null,
   "metadata": {},
   "outputs": [],
   "source": [
    "player = u.AmbientPlayer()\n",
    "player.stop_all_players()"
   ]
  },
  {
   "cell_type": "code",
   "execution_count": null,
   "metadata": {},
   "outputs": [],
   "source": [
    "[importlib.reload(module) for module in modules]\n",
    "sage_wallets_config = ucv.load_sage_wallets_config('../config/sage_wallets_config.yaml')\n",
    "sage_wallets_modeling_config = ucv.load_sage_wallets_modeling_config('../config/sage_wallets_modeling_config.yaml')\n",
    "\n",
    "workflow_orch = wo.WalletWorkflowOrchestrator(\n",
    "    sage_wallets_config,\n",
    "    sage_wallets_modeling_config\n",
    ")\n",
    "workflow_orch.get_hpo_results('concat')"
   ]
  },
  {
   "cell_type": "code",
   "execution_count": null,
   "metadata": {},
   "outputs": [],
   "source": [
    "# Get the best hyperparameters\n",
    "best_params = modeling_results['tuner'].best_training_job()\n",
    "\n",
    "# Or more detailed info\n",
    "analytics = modeling_results['tuner'].analytics()\n",
    "best_job_df = analytics.dataframe()\n",
    "\n",
    "# The best parameters are in the hyperparameters columns\n",
    "print(best_params)\n",
    "print(best_job_df.loc[0, ['eta', 'max_depth', 'subsample', 'FinalObjectiveValue']])"
   ]
  },
  {
   "cell_type": "markdown",
   "metadata": {},
   "source": [
    "### Evaluation - Epoch Models"
   ]
  },
  {
   "cell_type": "markdown",
   "metadata": {},
   "source": [
    "#### load existing by epoch_shift"
   ]
  },
  {
   "cell_type": "code",
   "execution_count": 29,
   "metadata": {},
   "outputs": [
    {
     "name": "stderr",
     "output_type": "stream",
     "text": [
      "\u001b[0m[08/Aug/25 11:56:35] INFO [wallet_modeler.load_existing_model:234] Loaded most recent script-mode model (timestamp: 0807-181352): s3://wallet-script-models/model-outputs/dda-947-x-in-cont-dev/sh60/wscr-dda-947--sh60-0807-181352/output/model.tar.gz\u001b[0m\n"
     ]
    }
   ],
   "source": [
    "[importlib.reload(module) for module in modules]\n",
    "sage_wallets_config = ucv.load_sage_wallets_config('../config/sage_wallets_config.yaml')\n",
    "sage_wallets_modeling_config = ucv.load_sage_wallets_modeling_config('../config/sage_wallets_modeling_config.yaml')\n",
    "\n",
    "# Load S3 URIs\n",
    "workflow_orch = wo.WalletWorkflowOrchestrator(sage_wallets_config,sage_wallets_modeling_config)\n",
    "s3_uris = workflow_orch.retrieve_training_data_uris(['concat'])\n",
    "\n",
    "# Create modeler with 'concat' as the date_suffix\n",
    "concat_modeler = wm.WalletModeler(\n",
    "    wallets_config=sage_wallets_config,\n",
    "    modeling_config=sage_wallets_modeling_config,\n",
    "    date_suffix='concat',\n",
    "    s3_uris=s3_uris,\n",
    "    override_approvals=None\n",
    ")\n",
    "\n",
    "# Step 2: Load the existing concatenated model\n",
    "epoch_shift = sage_wallets_config['training_data']['epoch_shifts'][0]\n",
    "model_info = concat_modeler.load_existing_model(epoch_shift=epoch_shift)\n"
   ]
  },
  {
   "cell_type": "markdown",
   "metadata": {},
   "source": [
    "#### filter data by epoch_shift"
   ]
  },
  {
   "cell_type": "code",
   "execution_count": null,
   "metadata": {},
   "outputs": [],
   "source": []
  },
  {
   "cell_type": "markdown",
   "metadata": {},
   "source": [
    "### Evaluation - Single Model"
   ]
  },
  {
   "cell_type": "markdown",
   "metadata": {},
   "source": [
    "#### load existing model"
   ]
  },
  {
   "cell_type": "code",
   "execution_count": null,
   "metadata": {},
   "outputs": [],
   "source": [
    "[importlib.reload(module) for module in modules]\n",
    "sage_wallets_config = ucv.load_sage_wallets_config('../config/sage_wallets_config.yaml')\n",
    "sage_wallets_modeling_config = ucv.load_sage_wallets_modeling_config('../config/sage_wallets_modeling_config.yaml')\n",
    "\n",
    "# Load S3 URIs\n",
    "workflow_orch = wo.WalletWorkflowOrchestrator(sage_wallets_config,sage_wallets_modeling_config)\n",
    "s3_uris = workflow_orch.retrieve_training_data_uris(['concat'])\n",
    "\n",
    "# Create modeler with 'concat' as the date_suffix\n",
    "concat_modeler = wm.WalletModeler(\n",
    "    wallets_config=sage_wallets_config,\n",
    "    modeling_config=sage_wallets_modeling_config,\n",
    "    date_suffix='concat',\n",
    "    s3_uris=s3_uris,\n",
    "    override_approvals=None\n",
    ")\n",
    "\n",
    "# Step 2: Load the existing concatenated model\n",
    "model_info = concat_modeler.load_existing_model(modeling_results['model_uri'])\n"
   ]
  },
  {
   "cell_type": "code",
   "execution_count": 22,
   "metadata": {},
   "outputs": [
    {
     "data": {
      "text/plain": [
       "{'model_uri': 's3://wallet-script-models/model-outputs/dda-947-x-in-cont-dev/sh60/wscr-dda-947--sh60-0807-181352/output/model.tar.gz',\n",
       " 'training_job_name': 'wscr-dda-947--sh60-0807-181352',\n",
       " 'timestamp': '0807-181352'}"
      ]
     },
     "execution_count": 22,
     "metadata": {},
     "output_type": "execute_result"
    }
   ],
   "source": [
    "model_info"
   ]
  },
  {
   "cell_type": "markdown",
   "metadata": {},
   "source": [
    "#### predict"
   ]
  },
  {
   "cell_type": "code",
   "execution_count": null,
   "metadata": {},
   "outputs": [],
   "source": [
    "[importlib.reload(module) for module in modules]\n",
    "sage_wallets_config = ucv.load_sage_wallets_config('../config/sage_wallets_config.yaml')\n",
    "sage_wallets_modeling_config = ucv.load_sage_wallets_modeling_config('../config/sage_wallets_modeling_config.yaml')\n",
    "\n",
    "pred_results = concat_modeler.batch_predict_test_and_val()"
   ]
  },
  {
   "cell_type": "markdown",
   "metadata": {},
   "source": [
    "#### evaluate"
   ]
  },
  {
   "cell_type": "code",
   "execution_count": null,
   "metadata": {},
   "outputs": [],
   "source": [
    "model_info['model_uri']"
   ]
  },
  {
   "cell_type": "code",
   "execution_count": null,
   "metadata": {},
   "outputs": [],
   "source": [
    "[importlib.reload(module) for module in modules]\n",
    "sage_wallets_config = ucv.load_sage_wallets_config('../config/sage_wallets_config.yaml')\n",
    "sage_wallets_modeling_config = ucv.load_sage_wallets_modeling_config('../config/sage_wallets_modeling_config.yaml')\n",
    "\n",
    "date_suffix = 'concat'\n",
    "y_test_pred = sime.load_bt_sagemaker_predictions('test', sage_wallets_config, date_suffix)\n",
    "y_test      = sime.load_concatenated_y('test', sage_wallets_config, sage_wallets_modeling_config)\n",
    "y_val_pred  = sime.load_bt_sagemaker_predictions('val', sage_wallets_config, date_suffix)\n",
    "y_val       = sime.load_concatenated_y('val', sage_wallets_config, sage_wallets_modeling_config)\n",
    "\n",
    "\n",
    "target_var = sage_wallets_modeling_config['target']['target_var']\n",
    "y_test.columns = [target_var]\n",
    "y_val.columns = [target_var]\n",
    "\n",
    "# Single function call for complete evaluation\n",
    "evaluator = sime.create_concatenated_sagemaker_evaluator(\n",
    "    sage_wallets_config,\n",
    "    sage_wallets_modeling_config,\n",
    "    model_info['model_uri'],\n",
    "    y_test_pred,\n",
    "    y_test,\n",
    "    y_val_pred,\n",
    "    y_val,\n",
    ")"
   ]
  },
  {
   "cell_type": "code",
   "execution_count": null,
   "metadata": {},
   "outputs": [],
   "source": [
    "# auc pr 0.4 all history\n",
    "logger.info(modeling_results['model_uri'])\n",
    "evaluator.summary_report()\n",
    "evaluator.plot_wallet_evaluation()\n",
    "# u.notify('soft_twinkle_musical')\n"
   ]
  },
  {
   "cell_type": "code",
   "execution_count": null,
   "metadata": {},
   "outputs": [],
   "source": []
  },
  {
   "cell_type": "code",
   "execution_count": null,
   "metadata": {},
   "outputs": [],
   "source": []
  },
  {
   "cell_type": "code",
   "execution_count": null,
   "metadata": {},
   "outputs": [],
   "source": [
    "# auc pr 0.4 all history\n",
    "logger.info(modeling_results['model_uri'])\n",
    "evaluator.summary_report()\n",
    "evaluator.plot_wallet_evaluation()\n",
    "# u.notify('soft_twinkle_musical')\n"
   ]
  },
  {
   "cell_type": "code",
   "execution_count": null,
   "metadata": {},
   "outputs": [],
   "source": [
    "# auc pr 0.4 mktcap 20M-4B\n",
    "logger.info(modeling_results['model_uri'])\n",
    "evaluator.summary_report()\n",
    "evaluator.plot_wallet_evaluation()\n",
    "# u.notify('soft_twinkle_musical')\n"
   ]
  },
  {
   "cell_type": "code",
   "execution_count": null,
   "metadata": {},
   "outputs": [],
   "source": [
    "# auc pr mktcap 20M-4B, z score 1.5\n",
    "evaluator.summary_report()\n",
    "evaluator.plot_wallet_evaluation()\n",
    "u.notify('soft_twinkle_musical')\n"
   ]
  },
  {
   "cell_type": "code",
   "execution_count": null,
   "metadata": {},
   "outputs": [],
   "source": [
    "# auc pr mktcap 20M-4B, inflows $5k\n",
    "evaluator.summary_report()\n",
    "evaluator.plot_wallet_evaluation()\n",
    "u.notify('soft_twinkle_musical')\n"
   ]
  },
  {
   "cell_type": "code",
   "execution_count": null,
   "metadata": {},
   "outputs": [],
   "source": [
    "# auc pr mktcap 20M-4B, z score 1.5\n",
    "evaluator.summary_report()\n",
    "evaluator.plot_wallet_evaluation()\n",
    "u.notify('soft_twinkle_musical')\n"
   ]
  },
  {
   "cell_type": "markdown",
   "metadata": {},
   "source": [
    "## Temporal cv model"
   ]
  },
  {
   "cell_type": "code",
   "execution_count": null,
   "metadata": {},
   "outputs": [],
   "source": [
    "[importlib.reload(module) for module in modules]\n",
    "sage_wallets_config = ucv.load_sage_wallets_config('../config/sage_wallets_config.yaml')\n",
    "sage_wallets_modeling_config = ucv.load_sage_wallets_modeling_config('../config/sage_wallets_modeling_config.yaml')\n",
    "\n",
    "\n",
    "date_suffixes = [\n",
    "    '231008',\n",
    "    '231107',\n",
    "    '240306',\n",
    "    '241101',\n",
    "    '250301'\n",
    "]\n",
    "workflow_orch = wo.WalletWorkflowOrchestrator(sage_wallets_config,sage_wallets_modeling_config)\n",
    "workflow_orch.load_all_training_data(date_suffixes)\n",
    "s3_uris = workflow_orch.retrieve_training_data_uris(date_suffixes)"
   ]
  },
  {
   "cell_type": "code",
   "execution_count": null,
   "metadata": {},
   "outputs": [],
   "source": [
    "sm.train_temporal_cv_script_model(sage_wallets_config,sage_wallets_modeling_config,cv_s3_uri)"
   ]
  },
  {
   "cell_type": "markdown",
   "metadata": {},
   "source": [
    "## Single Model Sequence"
   ]
  },
  {
   "cell_type": "markdown",
   "metadata": {},
   "source": [
    "### Train Single Model"
   ]
  },
  {
   "cell_type": "markdown",
   "metadata": {},
   "source": [
    "#### retrieve file uris"
   ]
  },
  {
   "cell_type": "code",
   "execution_count": null,
   "metadata": {},
   "outputs": [],
   "source": [
    "[importlib.reload(module) for module in modules]\n",
    "sage_wallets_config = ucv.load_sage_wallets_config('../config/sage_wallets_config.yaml')\n",
    "sage_wallets_modeling_config = ucv.load_sage_wallets_modeling_config('../config/sage_wallets_modeling_config.yaml')\n",
    "\n",
    "workflow_orch = wo.WalletWorkflowOrchestrator(sage_wallets_config,sage_wallets_modeling_config)\n",
    "\n",
    "\n",
    "\n",
    "date_suffixes = [\n",
    "    '231008',\n",
    "    '231107',\n",
    "    '240306',\n",
    "    '250301'\n",
    "]\n",
    "\n",
    "# Generate URIs for specific dates without any prior setup\n",
    "s3_uris = workflow_orch.retrieve_training_data_uris(date_suffixes)\n",
    "s3_uris"
   ]
  },
  {
   "cell_type": "markdown",
   "metadata": {},
   "source": [
    "#### train model"
   ]
  },
  {
   "cell_type": "code",
   "execution_count": null,
   "metadata": {},
   "outputs": [],
   "source": [
    "[importlib.reload(module) for module in modules]\n",
    "sage_wallets_config = ucv.load_sage_wallets_config('../config/sage_wallets_config.yaml')\n",
    "sage_wallets_modeling_config = ucv.load_sage_wallets_modeling_config('../config/sage_wallets_modeling_config.yaml')\n",
    "\n",
    "date_suffix = '231008'\n",
    "\n",
    "modeler = wm.WalletModeler(\n",
    "    sage_wallets_config,\n",
    "    sage_wallets_modeling_config,\n",
    "    date_suffix,\n",
    "    s3_uris\n",
    ")\n",
    "\n"
   ]
  },
  {
   "cell_type": "code",
   "execution_count": null,
   "metadata": {},
   "outputs": [],
   "source": [
    "modeling_results = modeler.train_model()"
   ]
  },
  {
   "cell_type": "markdown",
   "metadata": {},
   "source": [
    "### Score validation set"
   ]
  },
  {
   "cell_type": "markdown",
   "metadata": {},
   "source": [
    "#### get existing model uri"
   ]
  },
  {
   "cell_type": "code",
   "execution_count": null,
   "metadata": {},
   "outputs": [],
   "source": [
    "[importlib.reload(module) for module in modules]\n",
    "sage_wallets_config = ucv.load_sage_wallets_config('../config/sage_wallets_config.yaml')\n",
    "sage_wallets_modeling_config = ucv.load_sage_wallets_modeling_config('../config/sage_wallets_modeling_config.yaml')\n",
    "\n",
    "\n",
    "\n",
    "date_suffix = '231008'\n",
    "\n",
    "# Generate URIs for specific dates without any prior setup\n",
    "workflow_orch = wo.WalletWorkflowOrchestrator(sage_wallets_config,sage_wallets_modeling_config)\n",
    "s3_uris = workflow_orch.retrieve_training_data_uris([date_suffix])\n",
    "\n",
    "# Launch modeler\n",
    "modeler = wm.WalletModeler(\n",
    "    sage_wallets_config,\n",
    "    sage_wallets_modeling_config,\n",
    "    date_suffix,\n",
    "    s3_uris\n",
    ")\n",
    "\n",
    "\n",
    "model_metadata = modeler.load_existing_model()"
   ]
  },
  {
   "cell_type": "markdown",
   "metadata": {},
   "source": [
    "#### predict with batch transform"
   ]
  },
  {
   "cell_type": "code",
   "execution_count": null,
   "metadata": {},
   "outputs": [],
   "source": [
    "transform_results = modeler.predict_with_batch_transform('val')"
   ]
  },
  {
   "cell_type": "code",
   "execution_count": null,
   "metadata": {},
   "outputs": [],
   "source": [
    "transform_results = modeler.predict_with_batch_transform('test')"
   ]
  },
  {
   "cell_type": "markdown",
   "metadata": {},
   "source": [
    "### Predict Using Endpoints"
   ]
  },
  {
   "cell_type": "markdown",
   "metadata": {},
   "source": [
    "#### deploy endpoint for predictions"
   ]
  },
  {
   "cell_type": "code",
   "execution_count": null,
   "metadata": {},
   "outputs": [],
   "source": [
    "modeler.list_active_endpoints()"
   ]
  },
  {
   "cell_type": "code",
   "execution_count": null,
   "metadata": {},
   "outputs": [],
   "source": [
    "modeler.deploy_endpoint()"
   ]
  },
  {
   "cell_type": "markdown",
   "metadata": {},
   "source": [
    "#### load and preprocess test/val dfs"
   ]
  },
  {
   "cell_type": "code",
   "execution_count": null,
   "metadata": {},
   "outputs": [],
   "source": [
    "x_test = pd.read_parquet(\n",
    "    Path(\"../s3_uploads/wallet_training_data_queue\") /\n",
    "    sage_wallets_config['training_data']['local_directory'] /\n",
    "    f\"x_test_{date_suffix}.parquet\"\n",
    ")\n",
    "x_val = pd.read_parquet(\n",
    "    Path(\"../s3_uploads/wallet_training_data_queue\") /\n",
    "    sage_wallets_config['training_data']['local_directory'] /\n",
    "    f\"x_val_{date_suffix}.parquet\"\n",
    ")\n",
    "\n",
    "\n"
   ]
  },
  {
   "cell_type": "code",
   "execution_count": null,
   "metadata": {},
   "outputs": [],
   "source": [
    "preprocessor = SageWalletsPreprocessor(sage_wallets_config)\n",
    "x_test_processed = preprocessor.preprocess_x_df(x_test)\n",
    "x_val_processed = preprocessor.preprocess_x_df(x_val)\n",
    "\n",
    "logger.info(f\"Preprocessed X_test {x_test_processed.shape} and \"\n",
    "            f\"X_val {x_val_processed.shape}.\")"
   ]
  },
  {
   "cell_type": "markdown",
   "metadata": {},
   "source": [
    "#### predict"
   ]
  },
  {
   "cell_type": "code",
   "execution_count": null,
   "metadata": {},
   "outputs": [],
   "source": [
    "y_test_pred = modeler.predict_using_endpoint(x_test_processed, 'test')\n",
    "y_val_pred = modeler.predict_using_endpoint(x_val_processed, 'val')"
   ]
  },
  {
   "cell_type": "markdown",
   "metadata": {},
   "source": [
    "#### delete all endpoints"
   ]
  },
  {
   "cell_type": "code",
   "execution_count": null,
   "metadata": {},
   "outputs": [],
   "source": [
    "modeler.delete_all_endpoints()"
   ]
  },
  {
   "cell_type": "code",
   "execution_count": null,
   "metadata": {},
   "outputs": [],
   "source": [
    "modeler.list_active_endpoints()\n",
    "modeler.list_all_endpoints()"
   ]
  },
  {
   "cell_type": "markdown",
   "metadata": {},
   "source": [
    "# Model Evaluation"
   ]
  },
  {
   "cell_type": "markdown",
   "metadata": {},
   "source": [
    "### Analyze predictions"
   ]
  },
  {
   "cell_type": "code",
   "execution_count": null,
   "metadata": {},
   "outputs": [],
   "source": [
    "[importlib.reload(module) for module in modules]\n",
    "sage_wallets_config = ucv.load_sage_wallets_config('../config/sage_wallets_config.yaml')\n",
    "sage_wallets_modeling_config = ucv.load_sage_wallets_modeling_config('../config/sage_wallets_modeling_config.yaml')\n",
    "\n",
    "\n",
    "date_suffixes = [\n",
    "    '231008',\n",
    "    # '240306'\n",
    "]\n",
    "date_suffix = date_suffixes[0]"
   ]
  },
  {
   "cell_type": "code",
   "execution_count": null,
   "metadata": {},
   "outputs": [],
   "source": [
    "y_test_pred = sime.load_bt_sagemaker_predictions('test', sage_wallets_config, date_suffix)\n",
    "y_val_pred = sime.load_bt_sagemaker_predictions('val', sage_wallets_config, date_suffix)"
   ]
  },
  {
   "cell_type": "code",
   "execution_count": null,
   "metadata": {},
   "outputs": [],
   "source": [
    "# Single function call for complete evaluation\n",
    "evaluator = sime.run_sagemaker_evaluation(\n",
    "    sage_wallets_config,\n",
    "    sage_wallets_modeling_config,\n",
    "    date_suffix,\n",
    "    y_test_pred,\n",
    "    y_val_pred\n",
    ")"
   ]
  },
  {
   "cell_type": "code",
   "execution_count": null,
   "metadata": {},
   "outputs": [],
   "source": [
    "evaluator.y_validation"
   ]
  },
  {
   "cell_type": "code",
   "execution_count": null,
   "metadata": {},
   "outputs": [],
   "source": [
    "evaluator.y_validation_pred_proba"
   ]
  },
  {
   "cell_type": "code",
   "execution_count": null,
   "metadata": {},
   "outputs": [],
   "source": [
    "from sklearn.metrics import roc_curve, auc\n",
    "import matplotlib.pyplot as plt\n",
    "\n",
    "fpr, tpr, _ = roc_curve(evaluator.y_validation, evaluator.y_validation_pred_proba)\n",
    "roc_auc = auc(fpr, tpr)\n",
    "\n",
    "plt.figure(figsize=(8, 6))\n",
    "plt.plot(fpr, tpr, color='darkorange', lw=2, label=f'ROC curve (AUC = {roc_auc:.3f})')\n",
    "plt.plot([0, 1], [0, 1], color='navy', lw=2, linestyle='--', label='Random classifier')\n",
    "plt.xlim([0.0, 1.0])\n",
    "plt.ylim([0.0, 1.05])\n",
    "plt.xlabel('False Positive Rate')\n",
    "plt.ylabel('True Positive Rate')\n",
    "plt.title('ROC Curve - Validation Set')\n",
    "plt.legend(loc=\"lower right\")\n",
    "plt.grid(True, alpha=0.3)\n",
    "plt.show()"
   ]
  },
  {
   "cell_type": "code",
   "execution_count": null,
   "metadata": {},
   "outputs": [],
   "source": [
    "evaluator.summary_report()\n",
    "evaluator.plot_wallet_evaluation()\n"
   ]
  },
  {
   "cell_type": "code",
   "execution_count": null,
   "metadata": {},
   "outputs": [],
   "source": [
    "def load_sagemaker_predictions(\n",
    "    data_type: str,\n",
    "    sage_wallets_config: dict,\n",
    "    sage_wallets_modeling_config: dict,\n",
    "    date_suffix: str\n",
    ") -> tuple[pd.Series, pd.Series]:\n",
    "    \"\"\"\n",
    "    Load SageMaker predictions and corresponding actuals for a given data type.\n",
    "\n",
    "    Params:\n",
    "    - data_type (str): Either 'test' or 'val'\n",
    "    - sage_wallets_config (dict): Configuration for training data paths\n",
    "    - sage_wallets_modeling_config (dict): Configuration for model parameters\n",
    "    - date_suffix (str): Date suffix for file naming\n",
    "\n",
    "    Returns:\n",
    "    - tuple: (predictions_series, actuals_series) with aligned indices\n",
    "    \"\"\"\n",
    "    # Load predictions\n",
    "    pred_path = Path(sage_wallets_modeling_config['metaparams']['endpoint_preds_dir']) / \\\n",
    "                f\"endpoint_y_pred_{data_type}_{sage_wallets_config['training_data']['local_directory']}_{date_suffix}.csv\"\n",
    "    pred_df = pd.read_csv(pred_path)\n",
    "\n",
    "    if 'score' not in pred_df.columns:\n",
    "        raise ValueError(f\"SageMaker predictions are missing the 'score' column. \"\n",
    "                        f\"Available columns: {pred_df.columns}\")\n",
    "    pred_series = pred_df['score']\n",
    "\n",
    "    # Load actuals\n",
    "    training_data_path = (\n",
    "        Path(f\"../s3_uploads\") / \"wallet_training_data_queue\" /\n",
    "        f\"{sage_wallets_config['training_data']['local_directory']}\"\n",
    "    )\n",
    "    actuals_path = training_data_path / f\"y_{data_type}_{date_suffix}.parquet\"\n",
    "    actuals_df = pd.read_parquet(actuals_path)\n",
    "\n",
    "    if len(actuals_df.columns) > 1:\n",
    "        raise ValueError(f\"Found unexpected columns in y_{data_type}_df. \"\n",
    "                        f\"Expected 1 column, found {actuals_df.columns}.\")\n",
    "    actuals_series = actuals_df.iloc[:, 0]\n",
    "\n",
    "    # Validate lengths and align indices\n",
    "    if len(pred_series) != len(actuals_series):\n",
    "        raise ValueError(f\"Length of y_{data_type}_pred ({len(pred_series)}) does \"\n",
    "                        f\"not match length of y_{data_type}_true ({len(actuals_series)}).\")\n",
    "\n",
    "    pred_series.index = actuals_series.index\n",
    "\n",
    "    return pred_series, actuals_series"
   ]
  },
  {
   "cell_type": "code",
   "execution_count": null,
   "metadata": {},
   "outputs": [],
   "source": [
    "# Load predictions and actuals\n",
    "y_test_pred_series, y_test_true_series = load_sagemaker_predictions(\n",
    "    'test', sage_wallets_config, sage_wallets_modeling_config, date_suffix\n",
    ")\n",
    "y_val_pred_series, y_val_true_series = load_sagemaker_predictions(\n",
    "    'val', sage_wallets_config, sage_wallets_modeling_config, date_suffix\n",
    ")\n",
    "\n",
    "# Load remaining training data\n",
    "training_data_path = (\n",
    "    Path(f\"../s3_uploads\") / \"wallet_training_data_queue\" /\n",
    "    f\"{sage_wallets_config['training_data']['local_directory']}\"\n",
    ")\n",
    "X_train = pd.read_parquet(training_data_path / f\"x_train_{date_suffix}.parquet\")\n",
    "y_train = pd.read_parquet(training_data_path / f\"y_train_{date_suffix}.parquet\")\n",
    "X_test = pd.read_parquet(training_data_path / f\"x_test_{date_suffix}.parquet\")\n",
    "X_val = pd.read_parquet(training_data_path / f\"x_val_{date_suffix}.parquet\")\n",
    "\n",
    "# Identify target variable and model type\n",
    "target_variable = y_val_true_series.name or y_train.columns[0]\n",
    "objective = sage_wallets_modeling_config['training']['hyperparameters']['objective']\n",
    "model_type = 'regression' if objective[:3] == 'reg' else 'unknown'"
   ]
  },
  {
   "cell_type": "code",
   "execution_count": null,
   "metadata": {},
   "outputs": [],
   "source": [
    "# Create model_id and modeling_config\n",
    "model_id = f\"sagemaker_{sage_wallets_config['training_data']['local_directory']}_{date_suffix}\"\n",
    "\n",
    "modeling_config = {\n",
    "    'target_variable': target_variable,\n",
    "    'model_type': model_type,\n",
    "    'returns_winsorization': 0.005,  # Default for winsorizing returns\n",
    "    'training_data': {\n",
    "        'modeling_period_duration': 30  # Default performance window\n",
    "    },\n",
    "    'sagemaker_metadata': {\n",
    "        'objective': objective,\n",
    "        'local_directory': sage_wallets_config['training_data']['local_directory'],\n",
    "        'date_suffix': date_suffix\n",
    "    }\n",
    "}\n",
    "\n",
    "# Create minimal wallet_model_results for SageMaker evaluation\n",
    "wallet_model_results = {\n",
    "    'model_id': model_id,\n",
    "    'modeling_config': modeling_config,\n",
    "    'model_type': model_type,\n",
    "\n",
    "    # Training data\n",
    "    'X_train': X_train,\n",
    "    'X_test': X_test,\n",
    "    'y_train': y_train,\n",
    "    'y_test': y_test_true_series,\n",
    "    'y_pred': y_test_pred_series,\n",
    "    'training_cohort_pred': None,\n",
    "    'training_cohort_actuals': None,\n",
    "\n",
    "    # Validation data\n",
    "    'X_validation': X_val,\n",
    "    'y_validation': y_val_true_series,\n",
    "    'y_validation_pred': y_val_pred_series,\n",
    "    'validation_target_vars_df': None,\n",
    "\n",
    "    # Fixed mock pipeline\n",
    "    'pipeline': type('MockPipeline', (), {\n",
    "        'named_steps': {'estimator': type('MockModel', (), {\n",
    "            'get_params': lambda self: {'objective': objective}  # Accept self argument\n",
    "        })()},\n",
    "        '__getitem__': lambda self, key: type('MockTransformer', (), {\n",
    "            'transform': lambda self, X: X  # Accept self argument\n",
    "        })()\n",
    "    })()\n",
    "}\n",
    "\n",
    "# Create evaluator\n",
    "wallet_evaluator = wime.RegressorEvaluator(wallet_model_results)\n",
    "\n",
    "# Run basic evaluation\n",
    "wallet_evaluator.summary_report()\n",
    "wallet_evaluator.plot_wallet_evaluation()"
   ]
  },
  {
   "cell_type": "code",
   "execution_count": null,
   "metadata": {},
   "outputs": [],
   "source": []
  },
  {
   "cell_type": "code",
   "execution_count": null,
   "metadata": {},
   "outputs": [],
   "source": [
    "target_variable"
   ]
  },
  {
   "cell_type": "code",
   "execution_count": null,
   "metadata": {},
   "outputs": [],
   "source": []
  }
 ],
 "metadata": {
  "kernelspec": {
   "display_name": ".sage_venv",
   "language": "python",
   "name": "python3"
  },
  "language_info": {
   "codemirror_mode": {
    "name": "ipython",
    "version": 3
   },
   "file_extension": ".py",
   "mimetype": "text/x-python",
   "name": "python",
   "nbconvert_exporter": "python",
   "pygments_lexer": "ipython3",
   "version": "3.11.9"
  }
 },
 "nbformat": 4,
 "nbformat_minor": 2
}
